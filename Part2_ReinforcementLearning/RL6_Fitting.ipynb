{
 "cells": [
  {
   "cell_type": "markdown",
   "id": "8bbf1a3c-10d6-46c9-8e91-4bc10cb86a80",
   "metadata": {},
   "source": [
    "# Reinforcement Learning, Part 6: Fitting a model\n",
    "\n",
    "So far, we have created toy examples of models acting in simulated environment. But how do we use RL mdoels to analyze real, experimental data? in this notebook, we will go through an example analyzing behavioral data from a RL-like task in humans."
   ]
  },
  {
   "cell_type": "code",
   "execution_count": 1,
   "id": "7a2a0750-45f4-4702-aadc-665f102000f5",
   "metadata": {
    "tags": []
   },
   "outputs": [],
   "source": [
    "import numpy as np\n",
    "import scipy.optimize as opt\n",
    "import matplotlib.pyplot as plt\n",
    "import pandas as pd\n",
    "from matplotlib.ticker import (MultipleLocator, AutoMinorLocator)\n",
    "from tqdm.notebook import tqdm\n",
    "import os\n",
    "import seaborn as sns\n",
    "sns.set(style=\"whitegrid\", font=\"FreeSans\")"
   ]
  },
  {
   "cell_type": "markdown",
   "id": "aaa32171-ad0f-4a28-9001-b8e4dfc85715",
   "metadata": {},
   "source": [
    "## The Task\n",
    "\n",
    "We are going to use real data from a task designed in 2018 by Anne Collins. \n",
    "\n",
    "## The Data\n",
    "\n",
    "The following code is just needed to extra the data from one 6-stimulus blocks from one particular participant, coded as 7501."
   ]
  },
  {
   "cell_type": "code",
   "execution_count": 33,
   "id": "5a801923-f008-4f00-9b82-e485b05420e0",
   "metadata": {
    "tags": []
   },
   "outputs": [],
   "source": [
    "data = pd.read_csv(\"igt\")\n",
    "data = data[data[\"subject\"] == 7501]"
   ]
  },
  {
   "cell_type": "code",
   "execution_count": 34,
   "id": "dfea4156-4d7e-40ce-b480-c3298b085bdb",
   "metadata": {
    "tags": []
   },
   "outputs": [
    {
     "data": {
      "text/html": [
       "<div>\n",
       "<style scoped>\n",
       "    .dataframe tbody tr th:only-of-type {\n",
       "        vertical-align: middle;\n",
       "    }\n",
       "\n",
       "    .dataframe tbody tr th {\n",
       "        vertical-align: top;\n",
       "    }\n",
       "\n",
       "    .dataframe thead th {\n",
       "        text-align: right;\n",
       "    }\n",
       "</style>\n",
       "<table border=\"1\" class=\"dataframe\">\n",
       "  <thead>\n",
       "    <tr style=\"text-align: right;\">\n",
       "      <th></th>\n",
       "      <th>subject</th>\n",
       "      <th>acc</th>\n",
       "      <th>RT</th>\n",
       "      <th>response</th>\n",
       "      <th>imageID</th>\n",
       "      <th>corResponse</th>\n",
       "      <th>trial</th>\n",
       "      <th>blockLength</th>\n",
       "      <th>setSize</th>\n",
       "      <th>blockID</th>\n",
       "    </tr>\n",
       "  </thead>\n",
       "  <tbody>\n",
       "    <tr>\n",
       "      <th>780</th>\n",
       "      <td>7501</td>\n",
       "      <td>0</td>\n",
       "      <td>0.774860</td>\n",
       "      <td>2</td>\n",
       "      <td>1</td>\n",
       "      <td>1</td>\n",
       "      <td>1</td>\n",
       "      <td>39</td>\n",
       "      <td>3</td>\n",
       "      <td>1</td>\n",
       "    </tr>\n",
       "    <tr>\n",
       "      <th>781</th>\n",
       "      <td>7501</td>\n",
       "      <td>0</td>\n",
       "      <td>0.471020</td>\n",
       "      <td>3</td>\n",
       "      <td>2</td>\n",
       "      <td>2</td>\n",
       "      <td>2</td>\n",
       "      <td>39</td>\n",
       "      <td>3</td>\n",
       "      <td>1</td>\n",
       "    </tr>\n",
       "    <tr>\n",
       "      <th>782</th>\n",
       "      <td>7501</td>\n",
       "      <td>1</td>\n",
       "      <td>0.442701</td>\n",
       "      <td>2</td>\n",
       "      <td>3</td>\n",
       "      <td>2</td>\n",
       "      <td>3</td>\n",
       "      <td>39</td>\n",
       "      <td>3</td>\n",
       "      <td>1</td>\n",
       "    </tr>\n",
       "    <tr>\n",
       "      <th>783</th>\n",
       "      <td>7501</td>\n",
       "      <td>1</td>\n",
       "      <td>0.559420</td>\n",
       "      <td>2</td>\n",
       "      <td>3</td>\n",
       "      <td>2</td>\n",
       "      <td>4</td>\n",
       "      <td>39</td>\n",
       "      <td>3</td>\n",
       "      <td>1</td>\n",
       "    </tr>\n",
       "    <tr>\n",
       "      <th>784</th>\n",
       "      <td>7501</td>\n",
       "      <td>0</td>\n",
       "      <td>0.575242</td>\n",
       "      <td>3</td>\n",
       "      <td>1</td>\n",
       "      <td>1</td>\n",
       "      <td>5</td>\n",
       "      <td>39</td>\n",
       "      <td>3</td>\n",
       "      <td>1</td>\n",
       "    </tr>\n",
       "    <tr>\n",
       "      <th>...</th>\n",
       "      <td>...</td>\n",
       "      <td>...</td>\n",
       "      <td>...</td>\n",
       "      <td>...</td>\n",
       "      <td>...</td>\n",
       "      <td>...</td>\n",
       "      <td>...</td>\n",
       "      <td>...</td>\n",
       "      <td>...</td>\n",
       "      <td>...</td>\n",
       "    </tr>\n",
       "    <tr>\n",
       "      <th>1555</th>\n",
       "      <td>7501</td>\n",
       "      <td>1</td>\n",
       "      <td>0.540918</td>\n",
       "      <td>1</td>\n",
       "      <td>3</td>\n",
       "      <td>1</td>\n",
       "      <td>776</td>\n",
       "      <td>39</td>\n",
       "      <td>3</td>\n",
       "      <td>14</td>\n",
       "    </tr>\n",
       "    <tr>\n",
       "      <th>1556</th>\n",
       "      <td>7501</td>\n",
       "      <td>1</td>\n",
       "      <td>0.485653</td>\n",
       "      <td>1</td>\n",
       "      <td>3</td>\n",
       "      <td>1</td>\n",
       "      <td>777</td>\n",
       "      <td>39</td>\n",
       "      <td>3</td>\n",
       "      <td>14</td>\n",
       "    </tr>\n",
       "    <tr>\n",
       "      <th>1557</th>\n",
       "      <td>7501</td>\n",
       "      <td>1</td>\n",
       "      <td>0.424364</td>\n",
       "      <td>2</td>\n",
       "      <td>1</td>\n",
       "      <td>2</td>\n",
       "      <td>778</td>\n",
       "      <td>39</td>\n",
       "      <td>3</td>\n",
       "      <td>14</td>\n",
       "    </tr>\n",
       "    <tr>\n",
       "      <th>1558</th>\n",
       "      <td>7501</td>\n",
       "      <td>0</td>\n",
       "      <td>0.349712</td>\n",
       "      <td>1</td>\n",
       "      <td>1</td>\n",
       "      <td>2</td>\n",
       "      <td>779</td>\n",
       "      <td>39</td>\n",
       "      <td>3</td>\n",
       "      <td>14</td>\n",
       "    </tr>\n",
       "    <tr>\n",
       "      <th>1559</th>\n",
       "      <td>7501</td>\n",
       "      <td>1</td>\n",
       "      <td>0.350083</td>\n",
       "      <td>1</td>\n",
       "      <td>2</td>\n",
       "      <td>1</td>\n",
       "      <td>780</td>\n",
       "      <td>39</td>\n",
       "      <td>3</td>\n",
       "      <td>14</td>\n",
       "    </tr>\n",
       "  </tbody>\n",
       "</table>\n",
       "<p>780 rows × 10 columns</p>\n",
       "</div>"
      ],
      "text/plain": [
       "      subject  acc        RT  response  imageID  corResponse  trial  \\\n",
       "780      7501    0  0.774860         2        1            1      1   \n",
       "781      7501    0  0.471020         3        2            2      2   \n",
       "782      7501    1  0.442701         2        3            2      3   \n",
       "783      7501    1  0.559420         2        3            2      4   \n",
       "784      7501    0  0.575242         3        1            1      5   \n",
       "...       ...  ...       ...       ...      ...          ...    ...   \n",
       "1555     7501    1  0.540918         1        3            1    776   \n",
       "1556     7501    1  0.485653         1        3            1    777   \n",
       "1557     7501    1  0.424364         2        1            2    778   \n",
       "1558     7501    0  0.349712         1        1            2    779   \n",
       "1559     7501    1  0.350083         1        2            1    780   \n",
       "\n",
       "      blockLength  setSize  blockID  \n",
       "780            39        3        1  \n",
       "781            39        3        1  \n",
       "782            39        3        1  \n",
       "783            39        3        1  \n",
       "784            39        3        1  \n",
       "...           ...      ...      ...  \n",
       "1555           39        3       14  \n",
       "1556           39        3       14  \n",
       "1557           39        3       14  \n",
       "1558           39        3       14  \n",
       "1559           39        3       14  \n",
       "\n",
       "[780 rows x 10 columns]"
      ]
     },
     "execution_count": 34,
     "metadata": {},
     "output_type": "execute_result"
    }
   ],
   "source": [
    "BLOCK_ORDER = [3, 6, 3, 3, 6, 3, 6, 6, 3, 3, 6, 3, 6, 3]\n",
    "def expand_block_index():\n",
    "    block = []\n",
    "    for i, val in enumerate(BLOCK_ORDER):\n",
    "        n = 39\n",
    "        if val == 6:\n",
    "            n = 78\n",
    "        block += [i+1] * n\n",
    "    return block\n",
    "\n",
    "data = data.sort_values([\"subject\", \"trial\"])\n",
    "data['blockID'] = expand_block_index()\n",
    "data"
   ]
  },
  {
   "cell_type": "code",
   "execution_count": 35,
   "id": "fbc4995a-4048-466c-81ee-fc222ab8a814",
   "metadata": {
    "tags": []
   },
   "outputs": [
    {
     "data": {
      "text/html": [
       "<div>\n",
       "<style scoped>\n",
       "    .dataframe tbody tr th:only-of-type {\n",
       "        vertical-align: middle;\n",
       "    }\n",
       "\n",
       "    .dataframe tbody tr th {\n",
       "        vertical-align: top;\n",
       "    }\n",
       "\n",
       "    .dataframe thead th {\n",
       "        text-align: right;\n",
       "    }\n",
       "</style>\n",
       "<table border=\"1\" class=\"dataframe\">\n",
       "  <thead>\n",
       "    <tr style=\"text-align: right;\">\n",
       "      <th></th>\n",
       "      <th>subject</th>\n",
       "      <th>acc</th>\n",
       "      <th>RT</th>\n",
       "      <th>response</th>\n",
       "      <th>imageID</th>\n",
       "      <th>corResponse</th>\n",
       "      <th>trial</th>\n",
       "      <th>blockLength</th>\n",
       "      <th>setSize</th>\n",
       "      <th>blockID</th>\n",
       "    </tr>\n",
       "  </thead>\n",
       "  <tbody>\n",
       "    <tr>\n",
       "      <th>1443</th>\n",
       "      <td>7501</td>\n",
       "      <td>0</td>\n",
       "      <td>0.522606</td>\n",
       "      <td>2</td>\n",
       "      <td>1</td>\n",
       "      <td>3</td>\n",
       "      <td>664</td>\n",
       "      <td>78</td>\n",
       "      <td>6</td>\n",
       "      <td>13</td>\n",
       "    </tr>\n",
       "    <tr>\n",
       "      <th>1444</th>\n",
       "      <td>7501</td>\n",
       "      <td>1</td>\n",
       "      <td>0.532019</td>\n",
       "      <td>3</td>\n",
       "      <td>2</td>\n",
       "      <td>3</td>\n",
       "      <td>665</td>\n",
       "      <td>78</td>\n",
       "      <td>6</td>\n",
       "      <td>13</td>\n",
       "    </tr>\n",
       "    <tr>\n",
       "      <th>1445</th>\n",
       "      <td>7501</td>\n",
       "      <td>1</td>\n",
       "      <td>0.460685</td>\n",
       "      <td>1</td>\n",
       "      <td>3</td>\n",
       "      <td>1</td>\n",
       "      <td>666</td>\n",
       "      <td>78</td>\n",
       "      <td>6</td>\n",
       "      <td>13</td>\n",
       "    </tr>\n",
       "    <tr>\n",
       "      <th>1446</th>\n",
       "      <td>7501</td>\n",
       "      <td>0</td>\n",
       "      <td>0.592346</td>\n",
       "      <td>2</td>\n",
       "      <td>4</td>\n",
       "      <td>1</td>\n",
       "      <td>667</td>\n",
       "      <td>78</td>\n",
       "      <td>6</td>\n",
       "      <td>13</td>\n",
       "    </tr>\n",
       "    <tr>\n",
       "      <th>1447</th>\n",
       "      <td>7501</td>\n",
       "      <td>0</td>\n",
       "      <td>0.679328</td>\n",
       "      <td>3</td>\n",
       "      <td>5</td>\n",
       "      <td>2</td>\n",
       "      <td>668</td>\n",
       "      <td>78</td>\n",
       "      <td>6</td>\n",
       "      <td>13</td>\n",
       "    </tr>\n",
       "    <tr>\n",
       "      <th>...</th>\n",
       "      <td>...</td>\n",
       "      <td>...</td>\n",
       "      <td>...</td>\n",
       "      <td>...</td>\n",
       "      <td>...</td>\n",
       "      <td>...</td>\n",
       "      <td>...</td>\n",
       "      <td>...</td>\n",
       "      <td>...</td>\n",
       "      <td>...</td>\n",
       "    </tr>\n",
       "    <tr>\n",
       "      <th>1516</th>\n",
       "      <td>7501</td>\n",
       "      <td>1</td>\n",
       "      <td>0.498307</td>\n",
       "      <td>3</td>\n",
       "      <td>1</td>\n",
       "      <td>3</td>\n",
       "      <td>737</td>\n",
       "      <td>78</td>\n",
       "      <td>6</td>\n",
       "      <td>13</td>\n",
       "    </tr>\n",
       "    <tr>\n",
       "      <th>1517</th>\n",
       "      <td>7501</td>\n",
       "      <td>1</td>\n",
       "      <td>0.548311</td>\n",
       "      <td>1</td>\n",
       "      <td>4</td>\n",
       "      <td>1</td>\n",
       "      <td>738</td>\n",
       "      <td>78</td>\n",
       "      <td>6</td>\n",
       "      <td>13</td>\n",
       "    </tr>\n",
       "    <tr>\n",
       "      <th>1518</th>\n",
       "      <td>7501</td>\n",
       "      <td>1</td>\n",
       "      <td>0.516622</td>\n",
       "      <td>2</td>\n",
       "      <td>5</td>\n",
       "      <td>2</td>\n",
       "      <td>739</td>\n",
       "      <td>78</td>\n",
       "      <td>6</td>\n",
       "      <td>13</td>\n",
       "    </tr>\n",
       "    <tr>\n",
       "      <th>1519</th>\n",
       "      <td>7501</td>\n",
       "      <td>1</td>\n",
       "      <td>0.429720</td>\n",
       "      <td>2</td>\n",
       "      <td>6</td>\n",
       "      <td>2</td>\n",
       "      <td>740</td>\n",
       "      <td>78</td>\n",
       "      <td>6</td>\n",
       "      <td>13</td>\n",
       "    </tr>\n",
       "    <tr>\n",
       "      <th>1520</th>\n",
       "      <td>7501</td>\n",
       "      <td>1</td>\n",
       "      <td>0.563332</td>\n",
       "      <td>1</td>\n",
       "      <td>4</td>\n",
       "      <td>1</td>\n",
       "      <td>741</td>\n",
       "      <td>78</td>\n",
       "      <td>6</td>\n",
       "      <td>13</td>\n",
       "    </tr>\n",
       "  </tbody>\n",
       "</table>\n",
       "<p>78 rows × 10 columns</p>\n",
       "</div>"
      ],
      "text/plain": [
       "      subject  acc        RT  response  imageID  corResponse  trial  \\\n",
       "1443     7501    0  0.522606         2        1            3    664   \n",
       "1444     7501    1  0.532019         3        2            3    665   \n",
       "1445     7501    1  0.460685         1        3            1    666   \n",
       "1446     7501    0  0.592346         2        4            1    667   \n",
       "1447     7501    0  0.679328         3        5            2    668   \n",
       "...       ...  ...       ...       ...      ...          ...    ...   \n",
       "1516     7501    1  0.498307         3        1            3    737   \n",
       "1517     7501    1  0.548311         1        4            1    738   \n",
       "1518     7501    1  0.516622         2        5            2    739   \n",
       "1519     7501    1  0.429720         2        6            2    740   \n",
       "1520     7501    1  0.563332         1        4            1    741   \n",
       "\n",
       "      blockLength  setSize  blockID  \n",
       "1443           78        6       13  \n",
       "1444           78        6       13  \n",
       "1445           78        6       13  \n",
       "1446           78        6       13  \n",
       "1447           78        6       13  \n",
       "...           ...      ...      ...  \n",
       "1516           78        6       13  \n",
       "1517           78        6       13  \n",
       "1518           78        6       13  \n",
       "1519           78        6       13  \n",
       "1520           78        6       13  \n",
       "\n",
       "[78 rows x 10 columns]"
      ]
     },
     "execution_count": 35,
     "metadata": {},
     "output_type": "execute_result"
    }
   ],
   "source": [
    "data = data[data.blockID == 13]\n",
    "data.reset_index()\n",
    "data"
   ]
  },
  {
   "cell_type": "markdown",
   "id": "7c0cb62d-a5ba-4e41-8d80-c77b6afbb60a",
   "metadata": {},
   "source": [
    "As a result, the variable `data` now contains a dataframe (a table) of 78 rows, one for each trial, and 10 columns, which contain the information about each trial (the stimulus, the feedback, the response, plus some additonal metadata)\n",
    "\n",
    "We can check how the different responses are coded:"
   ]
  },
  {
   "cell_type": "code",
   "execution_count": 36,
   "id": "140a812e-df81-41f1-945d-2e61b732c9a3",
   "metadata": {
    "tags": []
   },
   "outputs": [
    {
     "data": {
      "text/plain": [
       "{1, 2, 3}"
      ]
     },
     "execution_count": 36,
     "metadata": {},
     "output_type": "execute_result"
    }
   ],
   "source": [
    "set(data.response)"
   ]
  },
  {
   "cell_type": "markdown",
   "id": "ab2eae69-798f-433c-8b0b-879ea684d74d",
   "metadata": {},
   "source": [
    "And how the different stimuli are coded:"
   ]
  },
  {
   "cell_type": "code",
   "execution_count": 37,
   "id": "902da381-d8ac-4b01-b528-dcfa3470150f",
   "metadata": {
    "tags": []
   },
   "outputs": [
    {
     "data": {
      "text/plain": [
       "{1, 2, 3, 4, 5, 6}"
      ]
     },
     "execution_count": 37,
     "metadata": {},
     "output_type": "execute_result"
    }
   ],
   "source": [
    "set(data.imageID)"
   ]
  },
  {
   "cell_type": "markdown",
   "id": "e756e84d-4b83-4f45-b023-97845d070b47",
   "metadata": {},
   "source": [
    "# The model\n",
    "\n",
    "It is easy to design an RL model for this task. The six _stimuli_ correspon to the six internal _states_, $s_1, s_2, \\dots , s_6$. The three possible _responses_ correspond to three _actions_ $a_1, a_2, a_3$. And the _feedback_ corresponds to our reward signal: $r_t = 1.0$ for \"Correct\" trials and $r_t = 0.0$\n",
    "for \"Incorrect\" ones. And, because we have actions, our model will be a _Q_-learning model.\n",
    "\n",
    "Because each trial consists of only one response to a single state (that is, we don’t have multiple states), the _Q_-learning equation reduces to:\n",
    "\n",
    "$$ Q(s) = Q(s) + \\alpha [r - Q(s)] $$\n",
    "\n",
    "We also need a way to select actions, given the model's _Q_-table. We will use the Boltzmann policy:\n",
    "\n",
    "$$P(a_i) = \\exp(\\frac{-Q(a_i)}{T}) / \\sum_j \\exp(\\frac{-Q(a_i)}{T})$$"
   ]
  },
  {
   "cell_type": "code",
   "execution_count": 26,
   "id": "d2010599-8ae8-4f60-91a6-8bb78cd1ccb5",
   "metadata": {},
   "outputs": [],
   "source": [
    "def boltzmann(options, values, temperature):\n",
    "    \"\"\"Returns a Boltzmann distribution of the probabilities of each option\"\"\"\n",
    "    temperature = max(temperature, 0.01) \n",
    "    vals = np.array(values)/temperature\n",
    "    bvals = np.exp(vals - np.max(vals)) / np.exp(vals - np.max(vals)).sum()\n",
    "    return dict(zip(options, bvals))"
   ]
  },
  {
   "cell_type": "markdown",
   "id": "47055aa0-8554-4ba8-9069-559f1081b7ea",
   "metadata": {},
   "source": [
    "## Fitting a Model With Maximum Likelihood\n",
    "\n",
    "Fitting a model is the process of finding parameter values $\\theta$ that reduce the difference between observed data $Y$ and model's predictions $Y’$. In most modern modeling approaches, we tend to use the __maximum likelihood__ approach.\n",
    "\n",
    "The likelihood of $\\theta$ is probability that $\\theta$ would produce data that is identical to the observed data $x$:\n",
    "\n",
    "$$ L(\\theta | x) = P(x | \\theta) $$\n",
    "\n",
    "Our goal is to find the values of $\\theta$ that maximize $L$!\n",
    "\n",
    "### Handling Data Vectors\n",
    "\n",
    "Our data $x$ is a vector of 78 responses, one for each trial:\n",
    "\n",
    "$$ x = x_1, x_2,\\dots, x_{78} $$\n",
    "\n",
    "\n",
    "The probability that $\\theta$ would generate the data vector $x$ is the product of the probabilities of that $\\theta$ would generate each response in the sequence:\n",
    "\n",
    "$$P(x | \\theta) = P(x_1 | \\theta) \\times P(x_2 | \\theta) \\times \\dots \\times P(x_{78} | \\theta) = \\prod_i P(x_i | θ)$$\n",
    "\n",
    "Because the products of probabilities get vanishingly small, we use _logs_ of probabilities instead---logs of small values become large negative values.\n",
    "\n",
    "$$\\log P(x | \\theta) = \\log \\left( \\prod_i P(x_i | \\theta) \\right) = \\sum_i \\log P(x_i | \\theta)$$\n",
    "\n",
    "### The Algorithm\n",
    "\n",
    "Now that we have everything in place, we need a function to compute the log-likelihood of a given set of responses, given some parameters $\\theta$. The algorithm is just this:\n",
    "\n",
    "* Create a $Q$-table, with 18 entries (6 states $\\times$ 3 actions each). \n",
    "* Set all $Q$-values to zero\n",
    "* Create a variable $L$ to save the log-likelihood value, and set it to zero: $L = 0$\n",
    "* Then, for each response $x_1, x_2, \\dots, x_{78}$:\n",
    "   * Record the stimulus $s$ the response was made to, and the feedback/reward $r$ that it resulted in. \n",
    "   * Calculate $P(x)$ using Boltzmann equation\n",
    "   * Update the log likelihood by adding the log of $P(x)$: $L = L + \\log P(x)$\n",
    "   * And finally, update the value $Q(s, x)$ using _Q_-learning: $Q(s, x) = Q(s, x) + \\alpha[r - Q(s, x)]$\n",
    "* At the end return _L_\n"
   ]
  },
  {
   "cell_type": "code",
   "execution_count": 47,
   "id": "cc39ecbb-9981-465a-9859-354dd78f4278",
   "metadata": {
    "tags": []
   },
   "outputs": [],
   "source": [
    "def LL(data, alpha, temp):\n",
    "    \"\"\"For each trial, calculate the probability of that response, sum the log likelihoods, and update the values\"\"\"\n",
    "    LL = 0.0\n",
    "    Q = {}\n",
    "    \n",
    "    # Set Q-values to zero\n",
    "    \n",
    "    for state in range(1, 7):\n",
    "        for action in range(1, 4):\n",
    "            sa = (state, action)\n",
    "            Q[sa] = 0\n",
    "    \n",
    "    # Loop over all responses\n",
    "    \n",
    "    for i, response in enumerate(data.response):\n",
    "        state = data.imageID.iloc[i]\n",
    "        reward = data.acc.iloc[i]\n",
    "        \n",
    "        # Calculate log likelihood of each specific response\n",
    "        options = [x for x in Q.keys() if x[0] == state] \n",
    "        values = [Q[opt] for opt in options]\n",
    "        prob = boltzmann(options, values, temp)[(state, response)]\n",
    "        \n",
    "        # Sum up the LLs of each choice\n",
    "        LL += np.log(max(prob, 10e-10))\n",
    "        \n",
    "        # Updates the Q values using Q-learning\n",
    "        Q_old = Q[(state, response)]\n",
    "        Q[(state, response)] = Q_old + alpha * (reward - Q_old)\n",
    "        \n",
    "    return LL\n"
   ]
  },
  {
   "cell_type": "markdown",
   "id": "0c4d1a98-d649-42d2-a888-ce697e5d7f0f",
   "metadata": {},
   "source": [
    "Example: What is the log-likelihood of $\\alpha = 0.1, T = 1.0$?"
   ]
  },
  {
   "cell_type": "code",
   "execution_count": 48,
   "id": "3b916d23-92b4-4030-a758-f2f654ddc7be",
   "metadata": {
    "tags": []
   },
   "outputs": [
    {
     "data": {
      "text/plain": [
       "-70.36251200699597"
      ]
     },
     "execution_count": 48,
     "metadata": {},
     "output_type": "execute_result"
    }
   ],
   "source": [
    "LL(data, 0.1, 1)"
   ]
  },
  {
   "cell_type": "markdown",
   "id": "1b7ef520-cf30-46c4-8176-f2af8f6380aa",
   "metadata": {},
   "source": [
    "# Grid search\n",
    "\n",
    "We can calculate the log-likelihoods for every combination of $0 < \\alpha < 1$ and $0 < T < 1$, in increments of 0.1 "
   ]
  },
  {
   "cell_type": "code",
   "execution_count": 49,
   "id": "0fa66863-3de5-4ae5-b937-fdfb96990797",
   "metadata": {
    "tags": []
   },
   "outputs": [],
   "source": [
    "alphaspace = np.linspace(0.1, 1, 10)\n",
    "tempspace = np.linspace(0.1, 1, 10)\n",
    "matrix = np.zeros((len(alphaspace), len(tempspace)))\n",
    "for i, a in enumerate(alphaspace):\n",
    "    for j, t in enumerate(tempspace):\n",
    "        matrix[i,j] = LL(data, a, t)"
   ]
  },
  {
   "cell_type": "markdown",
   "id": "b64bb6d6-cfd3-4fef-bd12-0372eedc0650",
   "metadata": {},
   "source": [
    "And we can visualize them"
   ]
  },
  {
   "cell_type": "code",
   "execution_count": 53,
   "id": "9b978b19-56b6-46dd-8048-eccf3183a847",
   "metadata": {
    "tags": []
   },
   "outputs": [
    {
     "name": "stderr",
     "output_type": "stream",
     "text": [
      "/tmp/ipykernel_57000/2182856185.py:8: UserWarning: FixedFormatter should only be used together with FixedLocator\n",
      "  ax.set_xticklabels([''] + [str(round(x,2)) for x in alphaspace])\n",
      "/tmp/ipykernel_57000/2182856185.py:9: UserWarning: FixedFormatter should only be used together with FixedLocator\n",
      "  ax.set_yticklabels([''] + [str(round(x, 2)) for x in tempspace])\n"
     ]
    },
    {
     "data": {
      "image/png": "[encoded data removed]",
      "text/plain": [
       "<Figure size 640x480 with 2 Axes>"
      ]
     },
     "metadata": {},
     "output_type": "display_data"
    }
   ],
   "source": [
    "fig = plt.figure()\n",
    "ax = fig.add_subplot(111)\n",
    "cax = ax.matshow(matrix, interpolation='nearest')\n",
    "fig.colorbar(cax)\n",
    "\n",
    "ax.xaxis.set_major_locator(MultipleLocator(1))\n",
    "ax.yaxis.set_major_locator(MultipleLocator(1))\n",
    "ax.set_xticklabels([''] + [str(round(x,2)) for x in alphaspace])\n",
    "ax.set_yticklabels([''] + [str(round(x, 2)) for x in tempspace])\n",
    "ax.set_ylabel(r\"Learning rate $\\alpha$ \")\n",
    "ax.set_xlabel(r\"Temperature $T$ \")\n",
    "ax.set_title(\"Log-Likelihood of RL Model by Parameter Combination\")\n",
    "plt.show()"
   ]
  },
  {
   "cell_type": "markdown",
   "id": "28dda252-0cfe-4176-a38b-380171043c29",
   "metadata": {},
   "source": [
    "## Optimization\n",
    "\n",
    "Grod-search is rarely used. Instead, in moderl mdoel-fitting, we use optimization techniques. Most algorithms are already available as software packages; in Python, they are available in SciPy's `minimize` package. These algorithms use __minimization__ techniques, minimizing a loss function that takes as an argument an array of parameters $\\theta$ and return a loss value. Because we want to _maximize_ log-likelihood, we will define our loss function as the inverse of the log-likelihood. "
   ]
  },
  {
   "cell_type": "code",
   "execution_count": 1,
   "id": "827520e7-b76f-439f-94f1-ac91c8e79ad9",
   "metadata": {
    "tags": []
   },
   "outputs": [],
   "source": [
    "intermediate = [] # Saves intermediate results for visualization\n",
    "\n",
    "def loss(theta):\n",
    "    \"\"\"Loss function = 1 * log-likelihood\"\"\"\n",
    "    global data\n",
    "    alpha, temp = theta\n",
    "    intermediate.append(theta)\n",
    "    return -1 * LL(data, alpha, temp)"
   ]
  },
  {
   "cell_type": "markdown",
   "id": "974d4bda-fcae-4cf2-8ba5-0b015f4241b4",
   "metadata": {},
   "source": [
    "Here is an example, in wjhich we will minimize the loss using the Nelder-Mead \"simplex\" algorithm"
   ]
  },
  {
   "cell_type": "code",
   "execution_count": 77,
   "id": "4d5d6f87-6c09-42d5-a87a-99a43130ab26",
   "metadata": {
    "tags": []
   },
   "outputs": [
    {
     "data": {
      "text/plain": [
       "       message: Optimization terminated successfully.\n",
       "       success: True\n",
       "        status: 0\n",
       "           fun: 25.970930474782485\n",
       "             x: [ 6.146e-01  2.152e-01]\n",
       "           nit: 38\n",
       "          nfev: 75\n",
       " final_simplex: (array([[ 6.146e-01,  2.152e-01],\n",
       "                       [ 6.147e-01,  2.152e-01],\n",
       "                       [ 6.147e-01,  2.152e-01]]), array([ 2.597e+01,  2.597e+01,  2.597e+01]))"
      ]
     },
     "execution_count": 77,
     "metadata": {},
     "output_type": "execute_result"
    }
   ],
   "source": [
    "intermediate = []\n",
    "opt.minimize(vLL, x0 = [0.5, 0.5], method = \"Nelder-Mead\")"
   ]
  },
  {
   "cell_type": "markdown",
   "id": "4679d550-8428-4090-82d8-7457caedb52a",
   "metadata": {},
   "source": [
    "The `intermediate` list conatins all the points in parameter space examined by the minimization function."
   ]
  },
  {
   "cell_type": "code",
   "execution_count": 78,
   "id": "597db67c-4686-4939-a03b-f7ad00d8420f",
   "metadata": {
    "tags": []
   },
   "outputs": [
    {
     "data": {
      "text/plain": [
       "[array([0.5, 0.5]),\n",
       " array([0.525, 0.5  ]),\n",
       " array([0.5  , 0.525]),\n",
       " array([0.525, 0.475]),\n",
       " array([0.5375, 0.45  ]),\n",
       " array([0.5625, 0.45  ]),\n",
       " array([0.59375, 0.425  ]),\n",
       " array([0.60625, 0.375  ]),\n",
       " array([0.646875, 0.3125  ]),\n",
       " array([0.703125, 0.2875  ]),\n",
       " array([0.7859375, 0.20625  ]),\n",
       " array([0.8390625, 0.09375  ]),\n",
       " array([0.65507812, 0.3421875 ]),\n",
       " array([0.77773438, 0.1765625 ]),\n",
       " array([0.91679688, 0.0703125 ]),\n",
       " array([0.71435547, 0.25195312]),\n",
       " array([0.72255859, 0.28164062]),\n",
       " array([0.73635254, 0.25537109]),\n",
       " array([0.66477051, 0.30107422]),\n",
       " array([0.75564575, 0.22995605]),\n",
       " array([0.73364868, 0.22653809]),\n",
       " array([0.73229675, 0.21212158]),\n",
       " array([0.77493896, 0.20454102]),\n",
       " array([0.72950134, 0.2401001 ]),\n",
       " array([0.75979309, 0.21639404]),\n",
       " array([0.73707428, 0.23417358]),\n",
       " array([0.71507721, 0.23075562]),\n",
       " array([0.69479294, 0.2311554 ]),\n",
       " array([0.69136734, 0.2235199 ]),\n",
       " array([0.66851387, 0.21819305]),\n",
       " array([0.62965813, 0.22281036]),\n",
       " array([0.57766285, 0.2209465 ]),\n",
       " array([0.60337906, 0.20984802]),\n",
       " array([0.55767212, 0.19919434]),\n",
       " array([0.56452332, 0.21446533]),\n",
       " array([0.64251623, 0.21726112]),\n",
       " array([0.61623716, 0.20429878]),\n",
       " array([0.62630289, 0.21818247]),\n",
       " array([0.66544006, 0.22559557]),\n",
       " array([0.61889431, 0.21378491]),\n",
       " array([0.60268096, 0.21470625]),\n",
       " array([0.59527239, 0.21030869]),\n",
       " array([0.61854526, 0.21621403]),\n",
       " array([0.63475861, 0.21529268]),\n",
       " array([0.61070037, 0.21485286]),\n",
       " array([0.61035133, 0.21728198]),\n",
       " array([0.61675856, 0.21465918]),\n",
       " array([0.61248707, 0.21640771]),\n",
       " array([0.61569069, 0.21509631]),\n",
       " array([0.6078458 , 0.21373514]),\n",
       " array([0.6158704 , 0.21559431]),\n",
       " array([0.62086071, 0.21583775]),\n",
       " array([0.61324046, 0.21509908]),\n",
       " array([0.61342017, 0.21559708]),\n",
       " array([0.61512306, 0.2152215 ]),\n",
       " array([0.61249312, 0.21472628]),\n",
       " array([0.61502608, 0.2153773 ]),\n",
       " array([0.61690868, 0.21549972]),\n",
       " array([0.61415751, 0.21519924]),\n",
       " array([0.61425449, 0.21504345]),\n",
       " array([0.61483318, 0.21529384]),\n",
       " array([0.61386764, 0.21527158]),\n",
       " array([0.6148092 , 0.21523402]),\n",
       " array([0.61548487, 0.21532861]),\n",
       " array([0.61448935, 0.21523159]),\n",
       " array([0.61446537, 0.21517177]),\n",
       " array([0.61474123, 0.21526332]),\n",
       " array([0.61442138, 0.21526088]),\n",
       " array([0.61471225, 0.21524074]),\n",
       " array([0.61446037, 0.215209  ]),\n",
       " array([0.61467102, 0.21524974]),\n",
       " array([0.61489391, 0.21525889]),\n",
       " array([0.61459049, 0.21523841]),\n",
       " array([0.61454926, 0.21524742]),\n",
       " array([0.6146715 , 0.21524241])]"
      ]
     },
     "execution_count": 78,
     "metadata": {},
     "output_type": "execute_result"
    }
   ],
   "source": [
    "intermediate"
   ]
  },
  {
   "cell_type": "code",
   "execution_count": null,
   "id": "f3382511-ac85-4998-ac49-ecf4eff4215d",
   "metadata": {},
   "outputs": [],
   "source": [
    "And here are the results of the minimization search, overlaied over the parameter space matrix"
   ]
  },
  {
   "cell_type": "code",
   "execution_count": 98,
   "id": "33c6d494-3f73-478f-ac53-f638518a92ff",
   "metadata": {
    "tags": []
   },
   "outputs": [
    {
     "name": "stderr",
     "output_type": "stream",
     "text": [
      "/tmp/ipykernel_57000/2343819794.py:8: UserWarning: FixedFormatter should only be used together with FixedLocator\n",
      "  ax.set_xticklabels([''] + [str(round(x,2)) for x in alphaspace])\n",
      "/tmp/ipykernel_57000/2343819794.py:9: UserWarning: FixedFormatter should only be used together with FixedLocator\n",
      "  ax.set_yticklabels([''] + [str(round(x, 2)) for x in tempspace])\n"
     ]
    },
    {
     "data": {
      "image/png": "[encoded data removed]",
      "text/plain": [
       "<Figure size 640x480 with 2 Axes>"
      ]
     },
     "metadata": {},
     "output_type": "display_data"
    }
   ],
   "source": [
    "fig = plt.figure()\n",
    "ax = fig.add_subplot(111)\n",
    "cax = ax.matshow(matrix, interpolation='nearest')\n",
    "fig.colorbar(cax)\n",
    "\n",
    "ax.xaxis.set_major_locator(MultipleLocator(1))\n",
    "ax.yaxis.set_major_locator(MultipleLocator(1))\n",
    "ax.set_xticklabels([''] + [str(round(x,2)) for x in alphaspace])\n",
    "ax.set_yticklabels([''] + [str(round(x, 2)) for x in tempspace])\n",
    "ax.set_ylabel(r\"Learning rate $\\alpha$ \")\n",
    "ax.set_xlabel(r\"Temperature $T$ \")\n",
    "ax.set_title(\"Log-Likelihood of RL Model by Parameter Combination\")\n",
    "\n",
    "for y, x in intermediate[:-1]:\n",
    "    plt.plot(x*10-1, y*10-1, \"o\", color=\"k\", alpha=0.6)\n",
    "\n",
    "y, x = intermediate[-1]\n",
    "plt.plot(x*10-1, y*10-1, \"o\", color=\"cyan\")\n",
    "\n",
    "plt.show()\n"
   ]
  }
 ],
 "metadata": {
  "kernelspec": {
   "display_name": "Python 3 (ipykernel)",
   "language": "python",
   "name": "python3"
  },
  "language_info": {
   "codemirror_mode": {
    "name": "ipython",
    "version": 3
   },
   "file_extension": ".py",
   "mimetype": "text/x-python",
   "name": "python",
   "nbconvert_exporter": "python",
   "pygments_lexer": "ipython3",
   "version": "3.11.7"
  }
 },
 "nbformat": 4,
 "nbformat_minor": 5
}
