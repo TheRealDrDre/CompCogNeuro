{
 "cells": [
  {
   "cell_type": "markdown",
   "metadata": {},
   "source": [
    "# Reinforcement Learning, part 3: Dealing with Non-Markov environments\n",
    "\n",
    "Here we present a problem analogous to that faced by Redish (2004): The problem of credit assignment in a non-Markov environment."
   ]
  },
  {
   "cell_type": "code",
   "execution_count": 63,
   "metadata": {},
   "outputs": [],
   "source": [
    "#\n",
    "\n",
    "## Non-markov problem\n",
    "##\n",
    "##          A          Win 1.0\n",
    "##        /   \\      /\n",
    "##  start      middle\n",
    "##        \\   /      \\ \n",
    "##          B          Loss -1.0\n",
    "##\n",
    "\n",
    "import random\n",
    "import numpy as np\n",
    "import matplotlib.pyplot as plt\n",
    "\n",
    "# Reward functio\n",
    "\n",
    "R = {\"start\" :  0,\n",
    "     \"A\" : 0,\n",
    "     \"B\" : 0,\n",
    "     \"middle\" : 0,\n",
    "     \"win\" : 1.0,\n",
    "     \"loss\" : -1.0,\n",
    "     None : 0.0\n",
    "}\n",
    "\n",
    "# State transition probavility function\n",
    "#\n",
    "def PSS(history):\n",
    "    s_current = history[-1]\n",
    "    s_next = None\n",
    "    \n",
    "    if s_current is \"start\":\n",
    "        coin = random.uniform(0, 1)\n",
    "        if coin <= 0.5:\n",
    "            s_next = \"A\"\n",
    "        else:\n",
    "            s_next = \"B\"\n",
    "        \n",
    "    elif s_current is \"A\" or s_current is \"B\":\n",
    "        s_next = \"middle\"\n",
    "\n",
    "    elif s_current is \"middle\":\n",
    "        s_previous = history[-2]\n",
    "        if s_previous is \"A\":\n",
    "            s_next = \"win\"\n",
    "        elif s_previous is \"B\":\n",
    "            s_next = \"loss\"\n",
    "        \n",
    "    elif s_current is \"win\" or s_current is \"loss\":\n",
    "        s_next = None\n",
    "\n",
    "    return (s_next, R[s_current])\n",
    "    \n",
    "\n",
    "## The agent just passively experiences a set of states \n",
    "class Agent:\n",
    "    def __init__(self, states = R.keys(), alpha = 0.1, gamma = 0.9):\n",
    "        self.V = {}\n",
    "\n",
    "        # Inits all state values to zero\n",
    "        for s in states:\n",
    "            self.V[s] = 0.0\n",
    "\n",
    "        # sets the two parameters\n",
    "        self.alpha = alpha\n",
    "        self.gamma = gamma\n",
    "        \n",
    "    def learnV(self, state1, state2, reward2):\n",
    "        #print(\"state %s, reward %.2f\" % (s_now, r))\n",
    "        a = self.alpha\n",
    "        g = self.gamma\n",
    "        rpe = reward2 + g * self.V[state2] - self.V[state1]\n",
    "        self.V[state1] += a * rpe\n",
    "        \n",
    "    def visualizeV(self, title=\"V-table\"):\n",
    "        states = (\"start\", \"A\", \"B\", \"middle\", \"win\", \"loss\")\n",
    "        values = [self.V[state] for state in states]\n",
    "        \n",
    "        fig, ax = plt.subplots()\n",
    "        ax.axis([-0.5, 5.5, -1.1, 1.1])\n",
    "        x = np.arange(len(states))\n",
    "        ax.set_xticks(x)\n",
    "        ax.set_xticklabels(states)\n",
    "        ax.set_ylabel(\"Value V\")\n",
    "        ax.set_xlabel(\"States\")\n",
    "        ax.bar(x, values)\n",
    "        ax.set_title(title)\n",
    "        plt.show()\n",
    "        "
   ]
  },
  {
   "cell_type": "markdown",
   "metadata": {},
   "source": [
    "Testing the agent cannot solve the problem"
   ]
  },
  {
   "cell_type": "code",
   "execution_count": 64,
   "metadata": {},
   "outputs": [],
   "source": [
    "def run(agent, n = 1000):\n",
    "    for i in range(n):\n",
    "        history = [\"start\"]\n",
    "\n",
    "        while PSS(history)[0] is not None:\n",
    "            s_now = history[-1]\n",
    "            s_next, r = PSS(history)\n",
    "            history.append(s_next)\n",
    "            agent.learnV(s_now, s_next, r)\n",
    "\n",
    "        s_now = history[-1]\n",
    "        s_next, r = PSS(history)\n",
    "        history.append(s_next)\n",
    "        agent.learnV(s_now, s_next, r)"
   ]
  },
  {
   "cell_type": "code",
   "execution_count": 68,
   "metadata": {},
   "outputs": [
    {
     "data": {
      "image/png": "[encoded data removed]",
      "text/plain": [
       "<matplotlib.figure.Figure at 0x7f6a2f1636d8>"
      ]
     },
     "metadata": {},
     "output_type": "display_data"
    }
   ],
   "source": [
    "a = Agent()\n",
    "run(a, 1000)\n",
    "a.visualizeV(\"V-table, with standard TD-learning\")"
   ]
  },
  {
   "cell_type": "markdown",
   "metadata": {},
   "source": [
    "## The solution: Eligibility traces"
   ]
  },
  {
   "cell_type": "code",
   "execution_count": 69,
   "metadata": {},
   "outputs": [],
   "source": [
    "\n",
    "## The agent just experiences a set of \n",
    "class Agent:\n",
    "    def __init__(self, states = R.keys(), alpha = 0.1,\n",
    "                 gamma = 0.9, lmbda = 0.9):\n",
    "        self.V = {}\n",
    "        self.E = {}\n",
    "        \n",
    "        # Inits all state values to zero\n",
    "        for s in states:\n",
    "            self.E[s] = 0.0\n",
    "            self.V[s] = 0.0\n",
    "\n",
    "        # sets the three parameters\n",
    "        self.alpha = alpha\n",
    "        self.gamma = gamma\n",
    "        self.lmbda = lmbda\n",
    "    \n",
    "        \n",
    "    def learnV(self, s_now, s_next, r):\n",
    "        \"\"\"Learns a V-table with TD(lambda)\"\"\"\n",
    "        #print(\"state %s, reward %.2f\" % (s_now, r))\n",
    "        a = self.alpha\n",
    "        g = self.gamma\n",
    "        l = self.lmbda\n",
    "        rpe = r + g * self.V[s_next] - self.V[s_now]\n",
    "        \n",
    "        # First, update the trace vector\n",
    "        for s in self.E.keys():\n",
    "            self.E[s] *= (l * g)\n",
    "            if s == s_now:\n",
    "                 self.E[s] += 1\n",
    "\n",
    "        # Second, update the V table\n",
    "        for s in self.E.keys():\n",
    "            self.V[s] += a * rpe * self.E[s]\n",
    "            \n",
    "            \n",
    "    def visualizeV(self, title=\"V-table\"):\n",
    "        states = (\"start\", \"A\", \"B\", \"middle\", \"win\", \"loss\")\n",
    "        values = [self.V[state] for state in states]\n",
    "        \n",
    "        fig, ax = plt.subplots()\n",
    "        ax.axis([-0.5, 5.5, -1.0, 1.0])\n",
    "        x = np.arange(len(states))\n",
    "        ax.set_xticks(x)\n",
    "        ax.set_xticklabels(states)\n",
    "        ax.set_ylabel(\"Value V\")\n",
    "        ax.set_xlabel(\"States\")\n",
    "        ax.bar(x, values)\n",
    "        ax.set_title(title)\n",
    "        plt.show()"
   ]
  },
  {
   "cell_type": "code",
   "execution_count": 74,
   "metadata": {},
   "outputs": [
    {
     "data": {
      "image/png": "[encoded data removed]",
      "text/plain": [
       "<matplotlib.figure.Figure at 0x7f6a3375e5f8>"
      ]
     },
     "metadata": {},
     "output_type": "display_data"
    }
   ],
   "source": [
    "a = Agent()\n",
    "run(a, 10000)\n",
    "a.visualizeV(\"V-table, with eligibility traces and TD(lambda)\")"
   ]
  }
 ],
 "metadata": {
  "kernelspec": {
   "display_name": "Python 3",
   "language": "python",
   "name": "python3"
  },
  "language_info": {
   "codemirror_mode": {
    "name": "ipython",
    "version": 3
   },
   "file_extension": ".py",
   "mimetype": "text/x-python",
   "name": "python",
   "nbconvert_exporter": "python",
   "pygments_lexer": "ipython3",
   "version": "3.6.4"
  }
 },
 "nbformat": 4,
 "nbformat_minor": 2
}
