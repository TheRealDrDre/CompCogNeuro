{
 "cells": [
  {
   "cell_type": "code",
   "execution_count": 312,
   "metadata": {
    "collapsed": true
   },
   "outputs": [],
   "source": [
    "import numpy as np  # Fast math and arrays\n",
    "import matplotlib.pyplot as plt  # Displays"
   ]
  },
  {
   "cell_type": "markdown",
   "metadata": {},
   "source": [
    "# Variables in neural networks\n",
    "\n",
    "The problem of using variables can be understood as the process of assigning a _filler_ (or _value_) to a _role_ (or _placeholder_). An classic example is the assignment of proper thematic roles to the nouns in the sentence \"The boy kicks the ball\".  To understand this sentence, each of the two nouns needs to be assigned to one of the possible thematic roles in a semantic representation. In this case, the representation must contain the fact that \"the boy\" is the __agent__, and that \"the ball\" is the __patient__.\n",
    "\n",
    "There are multiple strategies to do so. \n",
    "\n",
    "## Superimposition\n",
    "\n",
    "In _superimposition_ the two vectors representing the value __v__ and the role __r__ are simply summed, so that the final representation is given by:\n",
    "\n",
    "$$\n",
    "\\mathbf{R} = \\mathbf{v} + \\mathbf{r}\n",
    "$$\n",
    "\n",
    "A representation can be queried by subtracting the corresponding question. So, if we want to know the role of a vector __v__:\n",
    "\n",
    "$$\n",
    "\\mathbf{r} = \\mathbf{R} - \\mathbf{v} \n",
    "$$\n"
   ]
  },
  {
   "cell_type": "code",
   "execution_count": 313,
   "metadata": {
    "collapsed": false
   },
   "outputs": [],
   "source": [
    "boy = np.array([[1, 0, 0, 0]])\n",
    "agent = np.array([[0, 0, 1, 0]])\n",
    "ball = np.array([[0, 1, 0, 0]])\n",
    "patient = np.array([[0, 0, 0, 1]])\n",
    "\n",
    "DICTIONARY = {'boy' : boy, 'agent' : agent, 'ball' : ball, 'patient' : patient}\n",
    "\n",
    "def bind(value, role):\n",
    "    return value + role\n",
    "\n",
    "def query(representation, question):\n",
    "    return representation - question\n",
    "\n",
    "def identity(obj1, obj2):\n",
    "    return np.all(obj1 == obj2)\n",
    "\n",
    "def verify(representation, role, value):\n",
    "    return np.all((representation - role - value) >= 0)"
   ]
  },
  {
   "cell_type": "markdown",
   "metadata": {},
   "source": [
    "We can now perform simple operations"
   ]
  },
  {
   "cell_type": "code",
   "execution_count": 314,
   "metadata": {
    "collapsed": false
   },
   "outputs": [
    {
     "name": "stdout",
     "output_type": "stream",
     "text": [
      "What role does the Boy have?\n",
      "[[0 0 1 0]]\n",
      "Is the answer 'Agent'? True\n",
      "Is boy the agent? True\n",
      "Is the boy the patient? False\n"
     ]
    }
   ],
   "source": [
    "r = bind(boy, agent)\n",
    "answer = query(r, boy) # Which role is the boy?\n",
    "print (\"What role does the Boy have?\\n%s\" % answer)\n",
    "print (\"Is the answer 'Agent'? %s\" % identity(answer, agent))\n",
    "print(\"Is boy the agent? %s\" % verify(r, boy, agent))\n",
    "print(\"Is the boy the patient? %s\" % verify(r, boy, patient))"
   ]
  },
  {
   "cell_type": "markdown",
   "metadata": {},
   "source": [
    "### Problems with superimposition\n",
    "\n",
    "Superimposition suffers from illusory conjunction"
   ]
  },
  {
   "cell_type": "code",
   "execution_count": 315,
   "metadata": {
    "collapsed": false
   },
   "outputs": [
    {
     "name": "stdout",
     "output_type": "stream",
     "text": [
      "What role does the Boy have?\n",
      "[[0 1 1 1]]\n",
      "Is boy the agent? True\n",
      "Is the boy the patient? True\n"
     ]
    }
   ],
   "source": [
    "r1 = bind(boy, agent)\n",
    "r2 = bind(ball, patient)\n",
    "answer = query(r1 + r2, boy)\n",
    "print (\"What role does the Boy have?\\n%s\" % answer)\n",
    "print(\"Is boy the agent? %s\" % verify(r1 + r2, boy, agent))\n",
    "print(\"Is the boy the patient? %s\" % verify(r1 + r2, boy, patient))   # ERROR!"
   ]
  },
  {
   "cell_type": "markdown",
   "metadata": {},
   "source": [
    "## Conjunctive representation\n",
    "\n",
    "In conjunctive representations, a variable is bound to its value through the outer product of the corresponding vectors, so  that the final representation __R__ is given by:\n",
    "\n",
    "$$\n",
    "\\mathbf{R} = \\mathbf{v}^T \\times \\mathbf{r}\n",
    "$$\n",
    "\n",
    "A representation can be queried by reversing the operation:\n",
    "\n",
    "$$\n",
    "\\mathbf{v} = \\mathbf{R} \\times \\mathbf{r}^T\n",
    "$$\n"
   ]
  },
  {
   "cell_type": "code",
   "execution_count": 316,
   "metadata": {
    "collapsed": true
   },
   "outputs": [],
   "source": [
    "def bind(value, role):\n",
    "    return value.T.dot(role)\n",
    "\n",
    "def query(representation, question):\n",
    "    return representation.dot(question.T).T\n",
    "\n",
    "def identity(obj1, obj2):\n",
    "    return np.all(obj1 == obj2)\n",
    "\n",
    "def verify(representation, role, value):\n",
    "    return identity(query(representation, role), value)"
   ]
  },
  {
   "cell_type": "markdown",
   "metadata": {},
   "source": [
    "### Problems with conjunctive representations\n",
    "\n",
    "Conjunctive representations are powerful, but suffer from the lack of symmetry, i.e., the fact that $\\mathbf{v}^T \\times \\mathbf{r} \\neq \\mathbf{r}^T \\times \\mathbf{v}$. This makes it impossible to get consistent answers to the queries \"Who is the agent?\" and \"Which role does the boy have?\".  \n"
   ]
  },
  {
   "cell_type": "code",
   "execution_count": 317,
   "metadata": {
    "collapsed": false
   },
   "outputs": [
    {
     "name": "stdout",
     "output_type": "stream",
     "text": [
      "Who is the agent?\n",
      "[[1 0 0 0]]\n",
      "Is the agent a boy? True\n",
      "Is the patient the boy ? False\n",
      "Is the patient the ball? True\n",
      "Is the agent the ball? False\n",
      "\n",
      "\n",
      "Is the boy the agent? False **\n",
      "Is the ball the patient? False **\n"
     ]
    }
   ],
   "source": [
    "r1 = bind(boy, agent)\n",
    "r2 = bind(ball, patient)\n",
    "answer = query(r1 + r2, agent)\n",
    "print (\"Who is the agent?\\n%s\" % answer)\n",
    "print(\"Is the agent a boy? %s\" % verify(r1 + r2, agent, boy))\n",
    "print(\"Is the patient the boy ? %s\" % verify(r1 + r2, patient, boy))   \n",
    "print(\"Is the patient the ball? %s\" % verify(r1 + r2, patient, ball))\n",
    "print(\"Is the agent the ball? %s\" % verify(r1 + r2, agent, ball))\n",
    "print(\"\\n\")\n",
    "## Errors\n",
    "print(\"Is the boy the agent? %s **\" % verify(r1 + r2, boy, agent))\n",
    "print(\"Is the ball the patient? %s **\" % verify(r1 + r2, boy, agent))"
   ]
  },
  {
   "cell_type": "markdown",
   "metadata": {},
   "source": [
    "## Hinton's autoassociator\n",
    "\n",
    "Hinton's solution is to simply use an autoassociator to store stable role-filler patterns. So, the representation of a value/role binding is given by:\n",
    "\n",
    "$$\n",
    "\\mathbf{R} = [\\mathbf{v}, \\mathbf{r}]^T \\times [\\mathbf{v}, \\mathbf{r}]\n",
    "$$\n",
    "\n",
    "The representation is then learned by the adjustining the values of the corresponding synaptic matrix:\n",
    "\n",
    "$$\n",
    "\\mathbf{W} \\leftarrow \\mathbf{W} + \\frac{1}{N} \\mathbf{R}\n",
    "$$\n",
    "\n"
   ]
  },
  {
   "cell_type": "code",
   "execution_count": 318,
   "metadata": {
    "collapsed": false
   },
   "outputs": [],
   "source": [
    "N = 8\n",
    "x = np.zeros((1, N))\n",
    "R = np.zeros((N, N))\n",
    "mask = np.ones((N, N))\n",
    "np.fill_diagonal(mask, N)\n",
    "\n",
    "def scalar_binary(input):\n",
    "    \"\"\"The binary function (-1, 1)\"\"\"\n",
    "    if input > 0:\n",
    "        return 1.0\n",
    "    else:\n",
    "        return -1.0\n",
    "    \n",
    "binary = np.vectorize(scalar_binary)\n",
    "\n",
    "def scalar_rectify(input):\n",
    "    return max(0, input)\n",
    "\n",
    "rectify = np.vectorize(scalar_rectify)\n",
    "\n",
    "def bind(value, role):\n",
    "    global R\n",
    "    pair = np.hstack((binary(value), binary(role)))\n",
    "    R += pair.T.dot(pair)/float(N)\n",
    "\n",
    "def update():\n",
    "    global x, R, mask\n",
    "    inputs = x.dot(R * mask)\n",
    "    x = binary(inputs)\n",
    "    \n",
    "    \n",
    "def converge(min_diff = 0.01, max_cycles = 1000):\n",
    "    i = 1\n",
    "    previous_x = np.copy(x)\n",
    "    update()\n",
    "    diff = np.sum(((x - previous_x) ** 2))\n",
    "        \n",
    "    while diff > min_diff and i < max_cycles:\n",
    "        previous_x = np.copy(x)\n",
    "        update()\n",
    "        diff = np.sum(((x - previous_x) ** 2))\n",
    "        i += 1\n",
    "\n",
    "                       \n",
    "def query(representation, role):\n",
    "    global x\n",
    "    x = np.hstack((np.zeros((1,4)), role))\n",
    "    converge()\n",
    "    return rectify(x[0,0:4])\n",
    "\n",
    "def identity(obj1, obj2):\n",
    "    return np.all(obj1 == obj2)\n",
    "\n",
    "def verify(representation, role, value):\n",
    "    return identity(query(representation, role), value)"
   ]
  },
  {
   "cell_type": "markdown",
   "metadata": {},
   "source": [
    "As with conjunctive coding, Hinton networks require specific ways to read the network's response, depending on whether we are asking a question about a value or about a role."
   ]
  },
  {
   "cell_type": "code",
   "execution_count": 319,
   "metadata": {
    "collapsed": false
   },
   "outputs": [
    {
     "name": "stdout",
     "output_type": "stream",
     "text": [
      "Who is the agent?\n",
      "[[1 0 0 0]]\n",
      "Is the agent a boy? True\n",
      "Is the patient the boy ? False\n",
      "Is the patient the ball? True\n",
      "Is the agent the ball? False\n",
      "\n",
      "\n",
      "Is the boy the agent? False **\n",
      "Is the ball the patient? False **\n"
     ]
    }
   ],
   "source": [
    "bind(boy, agent)\n",
    "bind(ball, patient)\n",
    "query(R, agent)\n",
    "print (\"Who is the agent?\\n%s\" % answer)\n",
    "print(\"Is the agent a boy? %s\" % verify(R, agent, boy))\n",
    "print(\"Is the patient the boy ? %s\" % verify(R, patient, boy))   \n",
    "print(\"Is the patient the ball? %s\" % verify(R, patient, ball))\n",
    "print(\"Is the agent the ball? %s\" % verify(R, agent, ball))\n",
    "print(\"\\n\")\n",
    "## Errors\n",
    "print(\"Is the boy the agent? %s **\" % verify(r1 + r2, boy, agent))\n",
    "print(\"Is the ball the patient? %s **\" % verify(r1 + r2, boy, agent))"
   ]
  },
  {
   "cell_type": "markdown",
   "metadata": {
    "collapsed": true
   },
   "source": [
    "## Holographic reduced representations\n",
    "\n",
    "Holographic representations use convolution to store value/variable bindings in a new vector. \n",
    "\n",
    "Representations store pairs of value/role bindings using __cyclic convolution__: $\\mathbf{R} = \\mathbf{v} \\ast \\mathbf{r}$\n",
    "\n",
    "$$\n",
    "\\mathbf{R_j} = \\sum_{i}^{n}\\mathbf{v}_{i}\\mathbf{r}_{j-i} \n",
    "$$\n",
    "\n",
    "Values can be queries from a representation using the __circular correlation__:\n",
    "\n",
    "$$\n",
    "\\mathbf{r_j} = \\sum_{i}^{n}\\mathbf{R}_{i}\\mathbf{v}_{j-i} \n",
    "$$\n"
   ]
  },
  {
   "cell_type": "code",
   "execution_count": 320,
   "metadata": {
    "collapsed": false
   },
   "outputs": [],
   "source": [
    "def bind(x, y):\n",
    "    \"\"\"Circular convolution\"\"\"\n",
    "    n = x.shape[1]\n",
    "    r = np.zeros(x.shape)\n",
    "    for j in range(n):\n",
    "        e = 0.0\n",
    "        for i in range(n):\n",
    "            xi = i\n",
    "            yi = (j - i) % n\n",
    "            e += (x[0,xi] * y[0,yi])\n",
    "        r[0,j] = e\n",
    "    return np.array(r)\n",
    "\n",
    "def query(x, R):\n",
    "    \"\"\"Circular correlation\"\"\"\n",
    "    n = R.shape[1]\n",
    "    y = np.zeros(R.shape)\n",
    "    for j in range(n):\n",
    "        e = 0.0\n",
    "        for i in range(n):\n",
    "            xi = i\n",
    "            Ri = (i + j) % n\n",
    "            e += (x[0,xi] * R[0,Ri])\n",
    "        y[0,j] = e\n",
    "    return np.array(y)\n",
    "\n",
    "def identity(obj1, obj2):\n",
    "    return np.all(obj1 == obj2)\n"
   ]
  },
  {
   "cell_type": "markdown",
   "metadata": {},
   "source": [
    "Holographic reduced representations are symmetric, so they can be easily queried in every form. "
   ]
  },
  {
   "cell_type": "code",
   "execution_count": null,
   "metadata": {
    "collapsed": true
   },
   "outputs": [],
   "source": []
  },
  {
   "cell_type": "code",
   "execution_count": null,
   "metadata": {
    "collapsed": true
   },
   "outputs": [],
   "source": []
  },
  {
   "cell_type": "code",
   "execution_count": 321,
   "metadata": {
    "collapsed": false
   },
   "outputs": [
    {
     "name": "stdout",
     "output_type": "stream",
     "text": [
      "Who is the agent?\n",
      "[[ 1.  0.  0.  0.]]\n",
      "Is the agent a boy? True\n",
      "Is the boy the agent? True\n"
     ]
    }
   ],
   "source": [
    "R = bind(boy, agent)\n",
    "answer = query(R, agent)\n",
    "print(\"Who is the agent?\\n%s\" % answer)\n",
    "print(\"Is the agent a boy? %s\" % verify(R, agent, boy))\n",
    "print(\"Is the boy the agent? %s\" % verify(R, boy, agent))"
   ]
  },
  {
   "cell_type": "code",
   "execution_count": 321,
   "metadata": {
    "collapsed": false
   },
   "outputs": [
    {
     "name": "stdout",
     "output_type": "stream",
     "text": [
      "Who is the agent?\n",
      "[[ 1.  0.  0.  0.]]\n",
      "Is the agent a boy? True\n",
      "Is the boy the agent? True\n"
     ]
    }
   ],
   "source": [
    "R = bind(boy, agent)\n",
    "answer = query(R, agent)\n",
    "print(\"Who is the agent?\\n%s\" % answer)\n",
    "print(\"Is the agent a boy? %s\" % verify(R, agent, boy))\n",
    "print(\"Is the boy the agent? %s\" % verify(R, boy, agent))"
   ]
  }
 ],
 "metadata": {
  "anaconda-cloud": {},
  "kernelspec": {
   "display_name": "Python [Root]",
   "language": "python",
   "name": "Python [Root]"
  },
  "language_info": {
   "codemirror_mode": {
    "name": "ipython",
    "version": 2
   },
   "file_extension": ".py",
   "mimetype": "text/x-python",
   "name": "python",
   "nbconvert_exporter": "python",
   "pygments_lexer": "ipython2",
   "version": "2.7.12"
  }
 },
 "nbformat": 4,
 "nbformat_minor": 1
}
