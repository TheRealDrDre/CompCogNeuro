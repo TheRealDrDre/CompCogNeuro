{
 "cells": [
  {
   "cell_type": "markdown",
   "id": "c676bda3-d18b-4ac2-8fe4-4c554075575b",
   "metadata": {},
   "source": [
    "# Introduction: Understanding a model"
   ]
  },
  {
   "cell_type": "code",
   "execution_count": 7,
   "id": "3da17c3b-f197-4d23-8603-03128d5e67e2",
   "metadata": {},
   "outputs": [],
   "source": [
    "import numpy as np\n",
    "import numpy.linalg as la\n",
    "import matplotlib.pyplot as plt\n",
    "import scipy.optimize as opt\n",
    "import math\n",
    "import pandas as pd"
   ]
  },
  {
   "cell_type": "markdown",
   "id": "f08ccf6b-cc74-4815-b17a-013c5a65ad6f",
   "metadata": {},
   "source": [
    "To understand the different facets of an explanatory model, let's consider a simple one: A mathematical model of response times for motor movements, known as Fitts' Law. Fitts' Law is an equation that predicts the time required to move a hand (or a cursor, or a pen) to a target area that has width $W$ and is located at a distance $D$ from the current position of the hand. Figure illustrates a typical example: calculating the time needed to move a cursor from one position to a different area. According to Fitts' Law, the time $T$ is related to width $W$ and distance $D$ by Equation : \n",
    "\n",
    "\\begin{equation}\n",
    "    T = a + b \\log_2 \\left( \\frac{2D}{W} \\right)\n",
    "\\end{equation}"
   ]
  },
  {
   "cell_type": "code",
   "execution_count": 8,
   "id": "667d7430-688a-488f-b90e-844452c8b61c",
   "metadata": {},
   "outputs": [],
   "source": [
    "# Fitts' law\n",
    "def fitts(d, w, a=0.81, b= 1.12):\n",
    "    \"\"\"Fitts' law\"\"\"\n",
    "    return a + b * (math.log2( 2 * d / w))"
   ]
  },
  {
   "cell_type": "markdown",
   "id": "13e57207-8a1b-4396-9ea9-e31045eb062c",
   "metadata": {},
   "source": [
    "where $a$ is an intercept, and can be consider the minimum amount of time required to initiate any movement, while $b$ is a scaling factor, and can considered as a general parameter that captures an individual's speed of movement.\n",
    "\n",
    "## Inside a Model: Fit, Features, and Free Parameters\n",
    "\n",
    "If we peek inside a model ({\\it any} model) we can find some common elements. First, any model must have an {\\it output}. In the case of Fitt's law, the output is the movement time $T$. This output might or might not reflect the data; the degree to which the model's output matches the data is called the model's {\\it fit}. \n",
    "\n",
    "Second, each model contains certain quantities that capture specific aspects of the outside world and environment. In the equation, for example, the quantities $W$ and $D$ (width and distance of the target) represent everything we need to know about the world in which we need to make a movement. These variables are called {\\it features}; in choosing the appropriate features, the designer of a model implicitly defines the levels of abstraction and the degree of simplification they want to impose on the world. Note that, once the level of abstraction is chosen, the features are, in principle, measurable properties of the outside world. (A partial exception to this rule is represented by contemporary deep-learning models, which are trained on raw data and are capable at extracting features on their own), \n",
    "\n",
    "Finally, the equation contains two more variables, $a$ and $b$. Unlike $D$ and $W$, they do not represent a measurable property of the world; in fact, there is no way they can be measured independently of the the equation itself. These variables, which mediate the effect of the features (the outside world) on the output, are called {\\it free parameters}. One of the defining characteristics of explanatory models is that, because they embody a theory, it is somewhat clear what their parameters represent. By looking at the equation, it is clear that no response time time can ever be smaller than $a$; thus, $a$ can be thought of as the smallest time it takes to initiate a movement on the given device. The paramenter $b$, on the other hand, mediates the additional time it takes to move a cursor to a given location.  Thus, we can think of $b$ as representing the {\\em effort} necessary to control the movement itself. In general, a movement will be slower as $D$ grows and faster as $W$ grows, but some individuals will be faster overall, while others will need more time to move the cursor; these differences will be reflected in different values of $b$, and we can say that, when $b$ is smaller, the amount of effort that the movement takes is also smaller.\n",
    "\n",
    "## Fitting a Model\n",
    "\n",
    "But, now that we have identified features and free parameters, how do we know whether our model is any good?\n",
    "\n",
    "To do so, we need to find the specific parameters the model that better fit the data. In the case of Fitts' model, that comes down to finding that data values of $a$ and $b$ that reduce the difference between the model's prediction $Y'$ and the actual data $Y$. This difference, or any other difference we want to minimize, is called the {\\em loss} function.\n",
    "\n",
    "Suppose, for instance, you ran an experiment varying the distance $D$ from  a cursor to a target are of width $W$, and you obtain the data below"
   ]
  },
  {
   "cell_type": "code",
   "execution_count": 21,
   "id": "27501612-8dce-4cda-9bf3-dab6b15e324c",
   "metadata": {},
   "outputs": [
    {
     "data": {
      "text/html": [
       "<div>\n",
       "<style scoped>\n",
       "    .dataframe tbody tr th:only-of-type {\n",
       "        vertical-align: middle;\n",
       "    }\n",
       "\n",
       "    .dataframe tbody tr th {\n",
       "        vertical-align: top;\n",
       "    }\n",
       "\n",
       "    .dataframe thead th {\n",
       "        text-align: right;\n",
       "    }\n",
       "</style>\n",
       "<table border=\"1\" class=\"dataframe\">\n",
       "  <thead>\n",
       "    <tr style=\"text-align: right;\">\n",
       "      <th></th>\n",
       "      <th>W</th>\n",
       "      <th>D</th>\n",
       "      <th>time</th>\n",
       "    </tr>\n",
       "  </thead>\n",
       "  <tbody>\n",
       "    <tr>\n",
       "      <th>0</th>\n",
       "      <td>100</td>\n",
       "      <td>300</td>\n",
       "      <td>3.36</td>\n",
       "    </tr>\n",
       "    <tr>\n",
       "      <th>1</th>\n",
       "      <td>150</td>\n",
       "      <td>50</td>\n",
       "      <td>1.08</td>\n",
       "    </tr>\n",
       "    <tr>\n",
       "      <th>2</th>\n",
       "      <td>220</td>\n",
       "      <td>100</td>\n",
       "      <td>1.16</td>\n",
       "    </tr>\n",
       "    <tr>\n",
       "      <th>3</th>\n",
       "      <td>110</td>\n",
       "      <td>200</td>\n",
       "      <td>3.07</td>\n",
       "    </tr>\n",
       "    <tr>\n",
       "      <th>4</th>\n",
       "      <td>40</td>\n",
       "      <td>250</td>\n",
       "      <td>4.12</td>\n",
       "    </tr>\n",
       "  </tbody>\n",
       "</table>\n",
       "</div>"
      ],
      "text/plain": [
       "     W    D  time\n",
       "0  100  300  3.36\n",
       "1  150   50  1.08\n",
       "2  220  100  1.16\n",
       "3  110  200  3.07\n",
       "4   40  250  4.12"
      ]
     },
     "execution_count": 21,
     "metadata": {},
     "output_type": "execute_result"
    }
   ],
   "source": [
    "## Example data\n",
    "\n",
    "data = {\"W\" : [100, 150, 220, 110, 40],\n",
    "        \"D\" : [300, 50, 100, 200, 250],\n",
    "       \"time\" : [3.36, 1.08, 1.16, 3.07, 4.12]}\n",
    "\n",
    "df = pd.DataFrame(data)\n",
    "\n",
    "df"
   ]
  },
  {
   "cell_type": "markdown",
   "id": "f5d649e4-9a64-4ec7-a927-5e79d77e5656",
   "metadata": {},
   "source": [
    "We can define a loss function that quantifies how close the predictions of the Fitts model come to the times recorded in the third column in the table. For each combination of values of the parameters $a$ and $b$, we can plug in the different values of $W$ and $D$ and compare the model's predictions $Y'$ against the five observed values $Y$. A convenient way to do so is to calculate the sum of squares, much as it is done in statistics:\n",
    "\n",
    "\\begin{equation*}\n",
    "    L = \\sum_{y \\in Y} (y-y')^2\n",
    "\\end{equation*}\n",
    "\n",
    "Fitting a model is, therefore, the process of finding the values of parameters $a$ and $b$ that minimize the output of this equation."
   ]
  },
  {
   "cell_type": "code",
   "execution_count": 10,
   "id": "8513ea6b-d5d1-476f-8870-5b777d83a82e",
   "metadata": {},
   "outputs": [],
   "source": [
    "# Loss\n",
    "    \n",
    "def loss(a, b):\n",
    "    \"\"\"Loss function\"\"\"\n",
    "    Ypred = [fitts(x[0], x[1], a=a, b=b) for x in zip(df.D, df.W)]\n",
    "    Yobs = df.time\n",
    "    return np.sum((Ypred - Yobs)**2)"
   ]
  },
  {
   "cell_type": "markdown",
   "id": "f4b090c0-0425-4bd3-b108-e09200503c70",
   "metadata": {},
   "source": [
    "### Direct Calculation (thorugh Linear Regression)\n",
    "\n",
    "In some cases, you might be lucky enough that there are some specific formulae that let you calculate the ideal parameters in a few simple steps. This is the case of linear regression. It also happens to be the case of Fitt's law. If you consider equation \\ref{eq:intro:fittslaw}, you'll notice that the it is essentially a linear equation of the form $y = a + bx$, once you consider $\\log_2(2D/W)$ as your independent variable $x$. To find the two values of $a$ and $b$ that create the better fit, you simply combine all of the pairs of $W$ and $D$ into a single variable $x$, concatenate all of these variables into a vector $X$, and apply the linear regression formula: $(X^TX)^{-1} X^T Y$."
   ]
  },
  {
   "cell_type": "code",
   "execution_count": 22,
   "id": "b3bdec10-32fb-40d2-a751-1c508a744601",
   "metadata": {},
   "outputs": [],
   "source": [
    "# Create a new feature that combines W and D\n",
    "\n",
    "x = np.log2(2 * df.D / df.W)\n",
    "\n",
    "# Matrix algebra\n",
    "\n",
    "X = np.array(x)\n",
    "ones = np.ones((5, 1))\n",
    "\n",
    "X.resize(5, 1)\n",
    "X = np.dstack((ones, X)).squeeze()\n",
    "\n",
    "Y = np.array(df.time)\n",
    "Y.resize(5,1)"
   ]
  },
  {
   "cell_type": "markdown",
   "id": "87661b6c-c9ed-427d-bb0c-cdc7a0c44e9f",
   "metadata": {},
   "source": [
    "The result, in this case, is $a = 1.4438$ and $b= 0.7560$. "
   ]
  },
  {
   "cell_type": "code",
   "execution_count": 19,
   "id": "83350b65-5d0d-4f67-bca6-8baa329de6da",
   "metadata": {},
   "outputs": [
    {
     "name": "stdout",
     "output_type": "stream",
     "text": [
      "a = 1.4438, b= 0.7560\n"
     ]
    }
   ],
   "source": [
    "a_star, b_star = la.inv(X.T.dot(X)).dot(X.T).dot(Y)\n",
    "print(\"a = %.4f, b= %.4f\" % (a_star, b_star))"
   ]
  },
  {
   "cell_type": "markdown",
   "id": "162b9ca0-b992-463f-9f76-440e3bfcaebf",
   "metadata": {},
   "source": [
    "With these parameters value, the loss function measures only 0.093. Notice that, to calculate these values, we had to change the model's {\\em features}: Fitts' model sees the world as made of distances and widths, but the linear regression model sees only a single value $x$. This is another case in which you need to transform the data to fit it into the model's worldview. "
   ]
  },
  {
   "cell_type": "code",
   "execution_count": 13,
   "id": "35e8138e-aa0a-4466-9297-51f270772142",
   "metadata": {},
   "outputs": [
    {
     "data": {
      "text/plain": [
       "0.09370449541006619"
      ]
     },
     "execution_count": 13,
     "metadata": {},
     "output_type": "execute_result"
    }
   ],
   "source": [
    "loss(float(a_star), float(b_star))"
   ]
  },
  {
   "cell_type": "markdown",
   "id": "79087c9d-7f2d-4d04-bdc4-b960de12f768",
   "metadata": {},
   "source": [
    "But is this a good value? You can judge for yourself: This figure shows the predictions of Fitts' Law, represented as line, against the experimental results. "
   ]
  },
  {
   "cell_type": "code",
   "execution_count": 32,
   "id": "5dcae9b3-1f3c-4bd3-9a5b-31f61b6c9f89",
   "metadata": {},
   "outputs": [
    {
     "data": {
      "image/png": "[encoded data removed]",
      "text/plain": [
       "<Figure size 432x288 with 1 Axes>"
      ]
     },
     "metadata": {
      "needs_background": "light"
     },
     "output_type": "display_data"
    }
   ],
   "source": [
    "plt.plot(x, y, \"o\")\n",
    "xx = np.linspace(min(x), max(x))\n",
    "yy = a_star + b_star*xx\n",
    "plt.plot(xx, yy, \"--\")\n",
    "plt.xlabel(\"$X = \\log_2(2D/W$)\")\n",
    "plt.ylabel(\"$Y$ = Time $T$\")\n",
    "plt.title(\"Fitts' Law as Linear Regression\")\n",
    "plt.text(x=1, y=1.5, s=\"$y$ = %.3f + %.3f $\\times \\log (2D/W)$\" % (a_star, b_star))\n",
    "plt.savefig(\"fitts_linear.png\")\n",
    "plt.show()"
   ]
  },
  {
   "cell_type": "markdown",
   "id": "67afcfb5-911a-4cb7-a133-c66dc8dccfcd",
   "metadata": {},
   "source": [
    "### Grid Search\n",
    "\n",
    "But what if we cannot use a direct formula to calculate the best values of a model's parameters? In the most general case, it is possible to use brute force and examine multiple values of $a$ and $b$ until we identify the combination that minimizes our loss function. For example, one could sample all values of $a$ and $b$ from 0.5 to 1.5 in increments of 0.01, and compute the loss function for each combination. This approach, called {\\em grid search}, gives you an approximate idea of fit of Fitts' model within a slide of its parameter space, as shown in the Figure. In the figure, colors represent the magnitude of the loss function, and darker areas represents smaller loss value and, thus, better fits. The cross sign \"+\" marks the position, in the parameter space, that corresponds to the solution found by linear regression. "
   ]
  },
  {
   "cell_type": "code",
   "execution_count": 15,
   "id": "f0e3a865-c575-4070-ac1c-ab0b45e43fe1",
   "metadata": {},
   "outputs": [
    {
     "name": "stderr",
     "output_type": "stream",
     "text": [
      "/tmp/ipykernel_7465/3005109790.py:15: MatplotlibDeprecationWarning: shading='flat' when X and Y have the same dimensions as C is deprecated since 3.3.  Either specify the corners of the quadrilaterals with X and Y, or pass shading='auto', 'nearest' or 'gouraud', or set rcParams['pcolor.shading'].  This will become an error two minor releases later.\n",
      "  plt.pcolormesh(A, B, np.sqrt(grid))\n"
     ]
    },
    {
     "data": {
      "image/png": "[encoded data removed]",
      "text/plain": [
       "<Figure size 360x230.4 with 3 Axes>"
      ]
     },
     "metadata": {
      "needs_background": "light"
     },
     "output_type": "display_data"
    }
   ],
   "source": [
    "A = np.linspace(0.5, 1.5)\n",
    "B = np.linspace(0.5, 1.5)\n",
    "grid = np.zeros((A.size, B.size))\n",
    "\n",
    "for i, a in enumerate(A):\n",
    "    for j, b in enumerate(B):\n",
    "        grid[i,j] = loss(a, b)\n",
    "        \n",
    "\n",
    "fig = plt.figure(figsize=(5, 3.2))\n",
    "\n",
    "ax = fig.add_subplot(111)\n",
    "ax.set_title('Loss Function Across Parameters')\n",
    "X,Y = np.meshgrid(A, B)\n",
    "plt.pcolormesh(A, B, np.sqrt(grid))\n",
    "plt.plot(b_star, a_star, \"+\", color=\"white\")\n",
    "ax.set_aspect('equal')\n",
    "ax.set_xlabel(\"$b$\")\n",
    "ax.set_ylabel(\"$a$\")\n",
    "\n",
    "cax = fig.add_axes([0.12, 0.1, 0.78, 0.8])\n",
    "cax.get_xaxis().set_visible(False)\n",
    "cax.get_yaxis().set_visible(False)\n",
    "cax.patch.set_alpha(0)\n",
    "cax.set_frame_on(False)\n",
    "plt.colorbar(orientation='vertical')\n",
    "\n",
    "#fig.tight_layout()\n",
    "plt.savefig(\"fitts_grid.png\")\n",
    "plt.show()"
   ]
  },
  {
   "cell_type": "markdown",
   "id": "0bb2d69c-8695-495b-b0c1-9ee4343ba12c",
   "metadata": {},
   "source": [
    "However, this brute force, grid-search approach is rarely used in practice, as sampling all of the parameters is often unfeasible--especially as models become more complex and take longer to run. For example the plot in Figure \\ref{fig:intro:fitts_grid} was generated by examining 10,000 combination of $a$ and $b$ values; such as a sample might not be feasibile. Furthermore, grid search requires setting a predefined sampling that discretaizes the possible values of $a$ and $b$. For example, the grid search examined cases in which $a=1.44$ and $a=1.45$, but never examined the case in which $a = 1.4438$; such a value would, in fact, be invisible to the method. For all of these reason, it is common to use special techniques called {\\em optimization algorithms} instead of grid searches. \n",
    "\n",
    "### Optimization\n",
    "\n",
    "Optimization algorithms capitalize on the fact that, in most models, similar parameter values would produce similar results in terms of the model's loss function. In Fitt's law, for example, changing the value of $a$ from 1.44 to 1.45 does not produce appreciable changes in the loss function, no matter what the value of $b$ is. Furthermore, the direction of the changes in the loss function is usually consistent: If changing $a$ from 1.44 to 1.45 increases the loss function, then a further change of $a$ to 1.46 would likely result in an even larger loss value. In other words, that the surface of the loss function over the two parameters' values is smooth.  And smooth functions can be explored fairly easily by examining finding out the direction in which the parameters can be changed to reduce the loss function.  This is exactly what optimization algorithms do:they start with an initial guess for the model parameters, and modify them iteratively in the direction that reduces the loss function, until a minimum value is found\\footnote{For this reason, these algorithms are also called {\\em minimization} algorithms.}. Optimization algorithms explore only a small portion of the parameter space, but they quickly converge over the correct solution. Figure \\ref{fig:intro:fitts_grid} depicts the points (in white) explored by one such method, the Nelder-Mead algorithm, to find the values of $a$ and $b$ that minimize the loss function of Fitts' Law, starting at $a=1$, $b=1$ and terminating at the same values that were identified by linear regression. "
   ]
  },
  {
   "cell_type": "code",
   "execution_count": 24,
   "id": "c3f366fa-feaa-43be-a46e-fe9762463158",
   "metadata": {},
   "outputs": [
    {
     "name": "stderr",
     "output_type": "stream",
     "text": [
      "/tmp/ipykernel_7465/1445241669.py:15: MatplotlibDeprecationWarning: shading='flat' when X and Y have the same dimensions as C is deprecated since 3.3.  Either specify the corners of the quadrilaterals with X and Y, or pass shading='auto', 'nearest' or 'gouraud', or set rcParams['pcolor.shading'].  This will become an error two minor releases later.\n",
      "  plt.pcolormesh(A, B, np.sqrt(grid))\n"
     ]
    },
    {
     "data": {
      "image/png": "[encoded data removed]",
      "text/plain": [
       "<Figure size 360x230.4 with 3 Axes>"
      ]
     },
     "metadata": {
      "needs_background": "light"
     },
     "output_type": "display_data"
    }
   ],
   "source": [
    "global path \n",
    "path = []\n",
    "def vloss(vec):\n",
    "    \"\"\"Vector form of loss function\"\"\"\n",
    "    global path\n",
    "    path += [vec]\n",
    "    return loss(vec[0], vec[1])\n",
    "\n",
    "opt.minimize(vloss, np.array([1, 1]), method=\"Nelder-Mead\")\n",
    "\n",
    "fig = plt.figure(figsize=(5, 3.2))\n",
    "\n",
    "ax = fig.add_subplot(111)\n",
    "ax.set_title('Loss Function Across Parameters')\n",
    "plt.pcolormesh(A, B, np.sqrt(grid))\n",
    "plt.plot([x[1] for x in path], [x[0] for x in path], \"-o\", color=\"white\")\n",
    "ax.set_aspect('equal')\n",
    "ax.set_xlabel(\"$b$\")\n",
    "ax.set_ylabel(\"$a$\")\n",
    "ax.set_ylim(0.5, 1.5)\n",
    "\n",
    "cax = fig.add_axes([0.12, 0.1, 0.78, 0.8])\n",
    "cax.get_xaxis().set_visible(False)\n",
    "cax.get_yaxis().set_visible(False)\n",
    "cax.patch.set_alpha(0)\n",
    "cax.set_frame_on(False)\n",
    "plt.colorbar(orientation='vertical')\n",
    "\n",
    "#fig.tight_layout()\n",
    "plt.savefig(\"fitts_optimize.png\")\n",
    "plt.show()"
   ]
  }
 ],
 "metadata": {
  "kernelspec": {
   "display_name": "Python 3 (ipykernel)",
   "language": "python",
   "name": "python3"
  },
  "language_info": {
   "codemirror_mode": {
    "name": "ipython",
    "version": 3
   },
   "file_extension": ".py",
   "mimetype": "text/x-python",
   "name": "python",
   "nbconvert_exporter": "python",
   "pygments_lexer": "ipython3",
   "version": "3.9.7"
  }
 },
 "nbformat": 4,
 "nbformat_minor": 5
}
