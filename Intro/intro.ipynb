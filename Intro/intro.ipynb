{
 "cells": [
  {
   "cell_type": "code",
   "execution_count": 152,
   "id": "3da17c3b-f197-4d23-8603-03128d5e67e2",
   "metadata": {},
   "outputs": [],
   "source": [
    "import numpy as np\n",
    "import numpy.linalg as la\n",
    "import matplotlib.pyplot as plt\n",
    "import scipy.optimize as opt\n",
    "import math\n",
    "import pandas as pd"
   ]
  },
  {
   "cell_type": "code",
   "execution_count": 10,
   "id": "667d7430-688a-488f-b90e-844452c8b61c",
   "metadata": {},
   "outputs": [],
   "source": [
    "# Fitts' law\n",
    "def fitts(d, w, a=0.81, b= 1.12):\n",
    "    \"\"\"Fitts' law\"\"\"\n",
    "    return a + b * (math.log2( 2 * d / w))"
   ]
  },
  {
   "cell_type": "markdown",
   "id": "61bc43a1-b86c-4fd1-9e80-4e4113fc6713",
   "metadata": {},
   "source": [
    "## Example data"
   ]
  },
  {
   "cell_type": "code",
   "execution_count": 130,
   "id": "27501612-8dce-4cda-9bf3-dab6b15e324c",
   "metadata": {},
   "outputs": [
    {
     "data": {
      "text/html": [
       "<div>\n",
       "<style scoped>\n",
       "    .dataframe tbody tr th:only-of-type {\n",
       "        vertical-align: middle;\n",
       "    }\n",
       "\n",
       "    .dataframe tbody tr th {\n",
       "        vertical-align: top;\n",
       "    }\n",
       "\n",
       "    .dataframe thead th {\n",
       "        text-align: right;\n",
       "    }\n",
       "</style>\n",
       "<table border=\"1\" class=\"dataframe\">\n",
       "  <thead>\n",
       "    <tr style=\"text-align: right;\">\n",
       "      <th></th>\n",
       "      <th>W</th>\n",
       "      <th>D</th>\n",
       "      <th>time</th>\n",
       "    </tr>\n",
       "  </thead>\n",
       "  <tbody>\n",
       "    <tr>\n",
       "      <th>0</th>\n",
       "      <td>100</td>\n",
       "      <td>300</td>\n",
       "      <td>3.36</td>\n",
       "    </tr>\n",
       "    <tr>\n",
       "      <th>1</th>\n",
       "      <td>150</td>\n",
       "      <td>50</td>\n",
       "      <td>1.08</td>\n",
       "    </tr>\n",
       "    <tr>\n",
       "      <th>2</th>\n",
       "      <td>220</td>\n",
       "      <td>100</td>\n",
       "      <td>1.16</td>\n",
       "    </tr>\n",
       "    <tr>\n",
       "      <th>3</th>\n",
       "      <td>110</td>\n",
       "      <td>200</td>\n",
       "      <td>3.07</td>\n",
       "    </tr>\n",
       "    <tr>\n",
       "      <th>4</th>\n",
       "      <td>40</td>\n",
       "      <td>250</td>\n",
       "      <td>4.12</td>\n",
       "    </tr>\n",
       "  </tbody>\n",
       "</table>\n",
       "</div>"
      ],
      "text/plain": [
       "     W    D  time\n",
       "0  100  300  3.36\n",
       "1  150   50  1.08\n",
       "2  220  100  1.16\n",
       "3  110  200  3.07\n",
       "4   40  250  4.12"
      ]
     },
     "execution_count": 130,
     "metadata": {},
     "output_type": "execute_result"
    }
   ],
   "source": [
    "data = {\"W\" : [100, 150, 220, 110, 40],\n",
    "        \"D\" : [300, 50, 100, 200, 250],\n",
    "       \"time\" : [3.36, 1.08, 1.16, 3.07, 4.12]}\n",
    "\n",
    "df = pd.DataFrame(data)\n",
    "\n",
    "df"
   ]
  },
  {
   "cell_type": "markdown",
   "id": "f5d649e4-9a64-4ec7-a927-5e79d77e5656",
   "metadata": {},
   "source": [
    "# Direct Calculation (thorugh Linear Regression)"
   ]
  },
  {
   "cell_type": "code",
   "execution_count": 129,
   "id": "8513ea6b-d5d1-476f-8870-5b777d83a82e",
   "metadata": {},
   "outputs": [],
   "source": [
    "# Loss\n",
    "    \n",
    "def loss(a, b):\n",
    "    \"\"\"Loss function\"\"\"\n",
    "    Ypred = [fitts(x[0], x[1], a=a, b=b) for x in zip(df.D, df.W)]\n",
    "    Yobs = df.time\n",
    "    return np.sum((Ypred - Yobs)**2)"
   ]
  },
  {
   "cell_type": "code",
   "execution_count": 131,
   "id": "b3bdec10-32fb-40d2-a751-1c508a744601",
   "metadata": {},
   "outputs": [],
   "source": [
    "# New feature\n",
    "X = np.log2(2 * df.D / df.W)\n",
    "\n",
    "# Matrix algebra\n",
    "X = np.array(X)\n",
    "ones = np.ones((5, 1))\n",
    "\n",
    "X.resize(5, 1)\n",
    "X = np.dstack((ones, X)).squeeze()\n",
    "\n",
    "Y = np.array(df.time)\n",
    "Y.resize(5,1)"
   ]
  },
  {
   "cell_type": "code",
   "execution_count": 128,
   "id": "83350b65-5d0d-4f67-bca6-8baa329de6da",
   "metadata": {},
   "outputs": [
    {
     "name": "stdout",
     "output_type": "stream",
     "text": [
      "a = 1.4438, b= 0.7560\n"
     ]
    }
   ],
   "source": [
    "a_star, b_star = la.inv(X.T.dot(X)).dot(X.T).dot(Y)\n",
    "print(\"a = %.4f, b= %.4f\" % (a_star, b_star))"
   ]
  },
  {
   "cell_type": "code",
   "execution_count": 138,
   "id": "35e8138e-aa0a-4466-9297-51f270772142",
   "metadata": {},
   "outputs": [
    {
     "data": {
      "text/plain": [
       "0.09370449541006619"
      ]
     },
     "execution_count": 138,
     "metadata": {},
     "output_type": "execute_result"
    }
   ],
   "source": [
    "loss(float(a_star), float(b_star))"
   ]
  },
  {
   "cell_type": "markdown",
   "id": "67afcfb5-911a-4cb7-a133-c66dc8dccfcd",
   "metadata": {},
   "source": [
    "# Grid Search"
   ]
  },
  {
   "cell_type": "code",
   "execution_count": 176,
   "id": "f0e3a865-c575-4070-ac1c-ab0b45e43fe1",
   "metadata": {},
   "outputs": [
    {
     "name": "stderr",
     "output_type": "stream",
     "text": [
      "/tmp/ipykernel_14821/3005109790.py:15: MatplotlibDeprecationWarning: shading='flat' when X and Y have the same dimensions as C is deprecated since 3.3.  Either specify the corners of the quadrilaterals with X and Y, or pass shading='auto', 'nearest' or 'gouraud', or set rcParams['pcolor.shading'].  This will become an error two minor releases later.\n",
      "  plt.pcolormesh(A, B, np.sqrt(grid))\n"
     ]
    },
    {
     "data": {
      "image/png": "[encoded data removed]",
      "text/plain": [
       "<Figure size 360x230.4 with 3 Axes>"
      ]
     },
     "metadata": {
      "needs_background": "light"
     },
     "output_type": "display_data"
    }
   ],
   "source": [
    "\n",
    "\n",
    "A = np.linspace(0.5, 1.5)\n",
    "B = np.linspace(0.5, 1.5)\n",
    "grid = np.zeros((A.size, B.size))\n",
    "\n",
    "for i, a in enumerate(A):\n",
    "    for j, b in enumerate(B):\n",
    "        grid[i,j] = loss(a, b)\n",
    "        \n",
    "\n",
    "fig = plt.figure(figsize=(5, 3.2))\n",
    "\n",
    "ax = fig.add_subplot(111)\n",
    "ax.set_title('Loss Function Across Parameters')\n",
    "X,Y = np.meshgrid(A, B)\n",
    "plt.pcolormesh(A, B, np.sqrt(grid))\n",
    "plt.plot(b_star, a_star, \"+\", color=\"white\")\n",
    "ax.set_aspect('equal')\n",
    "ax.set_xlabel(\"$b$\")\n",
    "ax.set_ylabel(\"$a$\")\n",
    "\n",
    "cax = fig.add_axes([0.12, 0.1, 0.78, 0.8])\n",
    "cax.get_xaxis().set_visible(False)\n",
    "cax.get_yaxis().set_visible(False)\n",
    "cax.patch.set_alpha(0)\n",
    "cax.set_frame_on(False)\n",
    "plt.colorbar(orientation='vertical')\n",
    "\n",
    "#fig.tight_layout()\n",
    "plt.savefig(\"fitts_grid.png\")\n",
    "plt.show()\n"
   ]
  },
  {
   "cell_type": "markdown",
   "id": "0bb2d69c-8695-495b-b0c1-9ee4343ba12c",
   "metadata": {},
   "source": [
    "# Optimization"
   ]
  },
  {
   "cell_type": "code",
   "execution_count": 175,
   "id": "c3f366fa-feaa-43be-a46e-fe9762463158",
   "metadata": {},
   "outputs": [
    {
     "name": "stderr",
     "output_type": "stream",
     "text": [
      "/tmp/ipykernel_14821/1094766342.py:15: MatplotlibDeprecationWarning: shading='flat' when X and Y have the same dimensions as C is deprecated since 3.3.  Either specify the corners of the quadrilaterals with X and Y, or pass shading='auto', 'nearest' or 'gouraud', or set rcParams['pcolor.shading'].  This will become an error two minor releases later.\n",
      "  plt.pcolormesh(A, B, np.sqrt(grid))\n"
     ]
    },
    {
     "data": {
      "image/png": "[encoded data removed]",
      "text/plain": [
       "<Figure size 360x230.4 with 3 Axes>"
      ]
     },
     "metadata": {
      "needs_background": "light"
     },
     "output_type": "display_data"
    }
   ],
   "source": [
    "global path \n",
    "path = []\n",
    "def vloss(vec):\n",
    "    \"\"\"Vector form of loss function\"\"\"\n",
    "    global path\n",
    "    path += [vec]\n",
    "    return loss(vec[0], vec[1])\n",
    "\n",
    "opt.minimize(vloss, np.array([1, 1]), method=\"Nelder-Mead\")\n",
    "\n",
    "fig = plt.figure(figsize=(5, 3.2))\n",
    "\n",
    "ax = fig.add_subplot(111)\n",
    "ax.set_title('Loss Function Across Parameters')\n",
    "plt.pcolormesh(A, B, np.sqrt(grid))\n",
    "plt.plot([x[1] for x in path], [x[0] for x in path], \"-o\", color=\"white\")\n",
    "ax.set_aspect('equal')\n",
    "ax.set_xlabel(\"$b$\")\n",
    "ax.set_ylabel(\"$a$\")\n",
    "ax.set_ylim(0.5, 1.5)\n",
    "\n",
    "cax = fig.add_axes([0.12, 0.1, 0.78, 0.8])\n",
    "cax.get_xaxis().set_visible(False)\n",
    "cax.get_yaxis().set_visible(False)\n",
    "cax.patch.set_alpha(0)\n",
    "cax.set_frame_on(False)\n",
    "plt.colorbar(orientation='vertical')\n",
    "\n",
    "#fig.tight_layout()\n",
    "plt.savefig(\"fitts_optimize.png\")\n",
    "plt.show()\n",
    "\n"
   ]
  }
 ],
 "metadata": {
  "kernelspec": {
   "display_name": "Python 3 (ipykernel)",
   "language": "python",
   "name": "python3"
  },
  "language_info": {
   "codemirror_mode": {
    "name": "ipython",
    "version": 3
   },
   "file_extension": ".py",
   "mimetype": "text/x-python",
   "name": "python",
   "nbconvert_exporter": "python",
   "pygments_lexer": "ipython3",
   "version": "3.9.7"
  }
 },
 "nbformat": 4,
 "nbformat_minor": 5
}
