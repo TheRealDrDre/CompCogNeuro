{
 "cells": [
  {
   "cell_type": "markdown",
   "metadata": {},
   "source": [
    "# Reinforcement Learning, Part 2: Agents That Act in an Environment\n",
    "\n",
    "\n",
    "Here we are going to implement a RL agent interacting with a simple environment. In this case, our agent would be a simulated RL mouse, and the environment a 2D maze.\n",
    "\n",
    "## Defining the Environment\n",
    "\n",
    "To define the environment, we need to define the set of possible states $S = {s_1, s_2 ... s_N}$, the transition function $P_{s,s'}^{a}$, and the reward transition function $R_{s,s'}^{a}$.\n",
    "\n",
    "In our case, the environment just consists of a 4x4 grid. Our hypothetical agent perceives only one cell at any time---the cell where it is.  Therefore, our states correspond to the sixteen position of the maze, which we can indicate with the coordinates $(0, 0), (0, 1) ... (0, 3), (1, 0) ... (3, 3)$.\n",
    "\n",
    "An environment is characterized by two functions:\n",
    "\n",
    "* The state transition probability function $P(s, a, s')$, which the probability of transitioning to a possible state $s'$ when action $a$ is applied during state $s$; and\n",
    "\n",
    "* The reward transition probability function $R(s, a, s')$, which is the probability of receiving a reward $r$ when action $a$ is applied to state $s$ and the environment moves to state $s'$.\n",
    "\n",
    "In our simple cases, both $P(s,a,s')$ and $R(s,a,s')$ will be simplified to deterministic functions.\n",
    "\n",
    "A run of the maze ends when the simulated \"rat\" agent finds the cheese reward. To simulate this fact, we will add a \"termination\" state, indicated as `None`. The transition function will automatically move the agent to a `None` state whatever action is taken after the cheese is found.\n"
   ]
  },
  {
   "cell_type": "code",
   "execution_count": 63,
   "metadata": {},
   "outputs": [],
   "source": [
    "import random\n",
    "import math\n",
    "import numpy as np\n",
    "from copy import copy\n",
    "import matplotlib.pyplot as plt \n",
    "\n",
    "class Maze():\n",
    "    \"\"\"A maze environment\"\"\"\n",
    "\n",
    "    ACTIONS = (\"up\", \"down\", \"left\", \"right\") # List of actions\n",
    "    INITIAL_STATE = (0, 0) # Always starts at the topleft corner\n",
    "    \n",
    "    def __init__(self, fname = \"grid.txt\"):\n",
    "        \"\"\"Inits a maze by loading the grid file\"\"\"\n",
    "        self.grid = np.loadtxt(fname)\n",
    "        self.state = self.INITIAL_STATE\n",
    "        self.end = False\n",
    "\n",
    "\n",
    "    def state_transition(self, state1, action1):\n",
    "        \"Defines the next state gien the \"\n",
    "        x, y = state1\n",
    "        \n",
    "        # If we have reached the cheese, we transition \n",
    "        # to the terminal state\n",
    "        if self.grid[x, y] > 0:\n",
    "            return None\n",
    "        \n",
    "        # Otherwise, we update the position\n",
    "        state2 = copy(state1)\n",
    "        \n",
    "        if action1 in self.ACTIONS:\n",
    "            if action1 == \"up\":\n",
    "                if x > 0:\n",
    "                    state2 = (x - 1, y)\n",
    "            \n",
    "            elif action1 == \"left\":\n",
    "                if y > 0:\n",
    "                    state2 = (x, y - 1)\n",
    "            \n",
    "            elif action1 == \"down\":\n",
    "                if x < (self.grid.shape[0] - 1):\n",
    "                    state2 = (x + 1, y)\n",
    "\n",
    "            elif action1 == \"right\":\n",
    "                if y < (self.grid.shape[1] - 1):\n",
    "                    state2 = (x, y + 1)\n",
    "                    \n",
    "        return state2\n",
    "                    \n",
    "    \n",
    "    def reward_transition(self, state1, action1, state2):\n",
    "        \"\"\"Reward is -1 for bouncing against the walls, and whatever is on the grid otherwise\"\"\"\n",
    "        #if state1 == state2:\n",
    "        #    return -1\n",
    "        if state2 == None:\n",
    "            return 0\n",
    "        else:\n",
    "            return self.grid[state2[0], state2[1]]\n",
    "        \n",
    "    \n",
    "    # Quick way to combine State transitions and Reward transitions \n",
    "    def transition(self, action1):\n",
    "        \"\"\"Changes the state following an action\"\"\"\n",
    "        state1 = self.state\n",
    "        state2 = self.state_transition(state1, action1)\n",
    "        reward2 = self.reward_transition(state1, action1, state2)\n",
    "        \n",
    "        self.state = state2\n",
    "        return (state2, reward2) # Returns s_t+1, r_t+1\n",
    "\n",
    "    \n",
    "    def print_state(self):\n",
    "        \"Prints a text representation of the maze (with the agent position)\"\n",
    "        bar = \"-\" * ( 4 * self.grid.shape[1] + 1)\n",
    "        for i in range(self.grid.shape[0]):\n",
    "            row = \"|\"\n",
    "            for j in range(self.grid.shape[1]):\n",
    "                cell = \" \"\n",
    "                if i == self.state[0] and j == self.state[1]:\n",
    "                    cell = \"*\"\n",
    "                row += (\" %s |\" % cell)\n",
    "            print(bar)\n",
    "            print(row)\n",
    "        print(bar)\n",
    "        \n",
    "def plot_state(maze, ax=None, position = None, agent=True, reward=True, \n",
    "               title=\"Current State\", **kwargs):\n",
    "    \n",
    "    if not ax:\n",
    "        ax = plt.gca()\n",
    "\n",
    "    nrows, ncols = maze.grid.shape\n",
    "    data = np.zeros((nrows, ncols))            \n",
    "            \n",
    "    im = ax.imshow(data, **kwargs, cmap=\"Greys\")\n",
    "\n",
    "    ax.set_xticks(np.arange(data.shape[1]))\n",
    "    ax.set_yticks(np.arange(data.shape[0]))\n",
    "    ax.set_xticklabels(range(1, ncols + 1))\n",
    "    ax.set_yticklabels(range(1, nrows + 1))\n",
    "\n",
    "    # Let the horizontal axes labeling appear on top.\n",
    "    ax.tick_params(top=False, bottom=True,\n",
    "                   labeltop=False, labelbottom=True)\n",
    "\n",
    "    # Turn spines off and create white grid.\n",
    "    for edge, spine in ax.spines.items():\n",
    "        spine.set_visible(False)\n",
    "\n",
    "    ax.set_xticks(np.arange(data.shape[1]+1)-.5, minor=True)\n",
    "    ax.set_yticks(np.arange(data.shape[0]+1)-.5, minor=True)\n",
    "    ax.grid(which=\"minor\", color=\"grey\", linestyle='-', linewidth=2)\n",
    "    ax.tick_params(which=\"minor\", bottom=False, left=False)\n",
    "    ax.set_title(title)\n",
    "    \n",
    "    if reward:\n",
    "        for i in range(ncols):\n",
    "            for j in range(nrows):\n",
    "                r = maze.grid[j, i]\n",
    "                color = None\n",
    "                if r > 0:\n",
    "                    color = \"#EE111144\"\n",
    "                elif r < 0:\n",
    "                    color = \"#1111EE44\"\n",
    "                else:\n",
    "                    color = \"#11111144\"\n",
    "                text = ax.text(i, j, \"%d\" % (r,),\n",
    "                               ha=\"center\", va=\"top\", color=color)\n",
    "    \n",
    "    if agent:\n",
    "        if position is None:\n",
    "            position = maze.state\n",
    "        x, y = position\n",
    "        text = ax.text(y, x, r\"A\", size=\"larger\", weight=\"bold\",\n",
    "                       ha=\"center\", va=\"bottom\", color=\"k\")\n",
    "    \n",
    "    return im\n",
    "                "
   ]
  },
  {
   "cell_type": "markdown",
   "metadata": {},
   "source": [
    "## Testing the maze\n",
    "The maze is simple but functional. It is easy to create a maze, check the available actions, apply a few actions, and so on. Let's check that our environment works."
   ]
  },
  {
   "cell_type": "code",
   "execution_count": 64,
   "metadata": {},
   "outputs": [
    {
     "name": "stdout",
     "output_type": "stream",
     "text": [
      "State after illegal action: (0, 0)\n",
      "Reward after illegal action: 0.0\n",
      "State after legal action: (1, 0)\n",
      "Reward after legal action: 0.0\n"
     ]
    },
    {
     "data": {
      "image/png": "[encoded data removed]",
      "text/plain": [
       "<Figure size 144x144 with 1 Axes>"
      ]
     },
     "metadata": {
      "needs_background": "light"
     },
     "output_type": "display_data"
    }
   ],
   "source": [
    "m = Maze()\n",
    "\n",
    "state_after_bad_action = m.state_transition(m.state, \"up\")  # Illegal action: bounces!\n",
    "state_after_good_action = m.state_transition(m.state, \"down\") # Legal action: Goes down\n",
    "\n",
    "print(\"State after illegal action: %s\" % (state_after_bad_action,))\n",
    "print(\"Reward after illegal action: %s\" % (m.reward_transition(m.state, \"up\", state_after_bad_action)))\n",
    "\n",
    "print(\"State after legal action: %s\" % (state_after_good_action,))\n",
    "print(\"Reward after legal action: %s\" % (m.reward_transition(m.state, \"down\", state_after_good_action)))\n",
    "\n",
    "fig, ax = plt.subplots(1,1, figsize=(2,2))\n",
    "im = plot_state(m, ax)"
   ]
  },
  {
   "cell_type": "markdown",
   "metadata": {},
   "source": [
    "And, finally, we can easily navigate in our virtual maze by executing the appropriate actions:"
   ]
  },
  {
   "cell_type": "code",
   "execution_count": 51,
   "metadata": {},
   "outputs": [
    {
     "data": {
      "text/plain": [
       "((1, 0), 0.0)"
      ]
     },
     "execution_count": 51,
     "metadata": {},
     "output_type": "execute_result"
    }
   ],
   "source": [
    "m.transition(\"down\")"
   ]
  },
  {
   "cell_type": "markdown",
   "metadata": {},
   "source": [
    "Note how the ```Maze``` object returns two values at the end of each action execution, the new state $s_{t+1}$ and the associated reward $r_{t+1}$. If the ```down``` action was executed with the original maze layout of the ```grid.txt``` file, case, the two values are $s_{t+1} = $ ```(3, 0)``` and $r_{t+1} = $ ```0.0```. We can also execute more actions, and see what happens after a few movements:"
   ]
  },
  {
   "cell_type": "code",
   "execution_count": 65,
   "metadata": {},
   "outputs": [
    {
     "data": {
      "image/png": "[encoded data removed]",
      "text/plain": [
       "<Figure size 576x144 with 4 Axes>"
      ]
     },
     "metadata": {
      "needs_background": "light"
     },
     "output_type": "display_data"
    }
   ],
   "source": [
    "fig, axs = plt.subplots(1,4, figsize=(8,2))\n",
    "\n",
    "for ax in axs:\n",
    "    ax.label_outer()\n",
    "    \n",
    "plot_state(m, axs[0], title=r\"$t=1$\")\n",
    "\n",
    "m.transition(\"down\")\n",
    "plot_state(m, axs[1], title=r\"$t=2$\")\n",
    "\n",
    "m.transition(\"down\")\n",
    "plot_state(m, axs[2], title=r\"$t=3$\")\n",
    "\n",
    "m.transition(\"right\")\n",
    "plot_state(m, axs[3], title=r\"$t=4$\")\n",
    "plt.show()"
   ]
  },
  {
   "cell_type": "markdown",
   "metadata": {},
   "source": [
    "## Creating a $V$-Agent\n",
    "\n",
    "Now we can create our own very fantastic agents! As an example, we will create a $V$-learning agent that interacts with the ``` Maze``` world.\n",
    "\n",
    "The agent contains two parts:\n",
    "\n",
    "1. The agent's _memory_ is composed of a single $V$-table, which contains  $4 \\times 4 = 16$ states, one for every possible position in the maze. \n",
    "2. The agent's _policy_ is a simple policy that selects actions _at random_. This guarantees that the agent will explore the environment "
   ]
  },
  {
   "cell_type": "code",
   "execution_count": 53,
   "metadata": {},
   "outputs": [],
   "source": [
    "class TDAgent():\n",
    "    \"\"\"An agent that keeps track of the value of states\"\"\"\n",
    "    def __init__(self, actions=Maze.ACTIONS, alpha=0.1, gamma=0.9):\n",
    "        \"\"\"Creates a V-agent\"\"\"\n",
    "        self.V = {}                # Initial dictionary of (s, a) pairs. At the beginning, it's emtpy.\n",
    "        self.alpha = alpha         # Learning rate\n",
    "        self.gamma = gamma         # Temporal discounting\n",
    "        self.actions = actions     # Set of possible actions (provide those of Maze.ACTIONS)\n",
    "\n",
    "\n",
    "    def policy(self, state):\n",
    "        \"\"\"Random policy to explore the maze\"\"\"\n",
    "        return random.choice(self.actions)\n",
    "        \n",
    "    \n",
    "    def td_learning(self, state1, reward1, state2):\n",
    "        \"\"\"Updates the Q-values when given an (s,a) pair, the reward value and a new state\"\"\"\n",
    "        g = self.gamma\n",
    "        a = self.alpha\n",
    "        \n",
    "        v1 = 0.0\n",
    "        \n",
    "        if state1 in self.V.keys():\n",
    "            v1 = self.V[state1]\n",
    "        \n",
    "        v2 = 0.0\n",
    "        \n",
    "        if state2 in self.V.keys():\n",
    "            v2 = self.V[state2]\n",
    "        \n",
    "        rpe = reward1 + g * v2 - v1\n",
    "        v1 += a * rpe\n",
    "\n",
    "        self.V[state1] = v1\n",
    "\n",
    "    \n",
    "def plot_v_table(agent, ax=None, title=r\"$V$-table\", **kwargs):\n",
    "    \"Plots a matrix-like representation of the V-table of an agent\"\n",
    "    if not ax:\n",
    "        ax = plt.gca()\n",
    "\n",
    "    data = np.zeros((4,4))            \n",
    "            \n",
    "    for s in agent.V.keys():\n",
    "        x, y = s\n",
    "        data[x, y] = agent.V[s]\n",
    "    \n",
    "    # Plot the heatmap\n",
    "    im = ax.imshow(data, **kwargs, cmap=\"viridis\")\n",
    "\n",
    "    # We want to show all ticks...\n",
    "    ax.set_xticks(np.arange(data.shape[1]))\n",
    "    ax.set_yticks(np.arange(data.shape[0]))\n",
    "    ax.set_xticklabels(range(1,5))\n",
    "    ax.set_yticklabels(range(1,5))\n",
    "\n",
    "    # Let the horizontal axes labeling appear on top.\n",
    "    ax.tick_params(top=False, bottom=True,\n",
    "                   labeltop=False, labelbottom=True)\n",
    "\n",
    "    # Turn spines off and create white grid.\n",
    "    for edge, spine in ax.spines.items():\n",
    "        spine.set_visible(False)\n",
    "\n",
    "    ax.set_xticks(np.arange(data.shape[1]+1)-.5, minor=True)\n",
    "    ax.set_yticks(np.arange(data.shape[0]+1)-.5, minor=True)\n",
    "    ax.grid(which=\"minor\", color=\"grey\", linestyle='-', linewidth=2)\n",
    "    ax.tick_params(which=\"minor\", bottom=False, left=False)\n",
    "    ax.set_title(title)\n",
    "    return im"
   ]
  },
  {
   "cell_type": "markdown",
   "metadata": {},
   "source": [
    "## Interaction Between $V$-Agent and Environment\n",
    "\n",
    "We need to additional functions to make sure the agent and the environment interact with each other."
   ]
  },
  {
   "cell_type": "code",
   "execution_count": 54,
   "metadata": {},
   "outputs": [],
   "source": [
    "def rl_loop(environment, agent):\n",
    "    \"\"\"A trial ends when the agent gets a reward. The history is returned\"\"\"\n",
    "    state1 = environment.state\n",
    "    reward1 = environment.grid[state1[0], state1[1]]\n",
    "    state2 = \"Start\"\n",
    "    \n",
    "    history = []\n",
    "    \n",
    "    while state2 != None:\n",
    "        action = agent.policy(state1)\n",
    "        state2, reward2 = environment.transition(action)\n",
    "        history.append(state2)\n",
    "        \n",
    "        # Update the V-values for state1\n",
    "        agent.td_learning(state1, reward1, state2)\n",
    "        \n",
    "        state1 = state2\n",
    "        reward1 = reward2\n",
    "\n",
    "    return history\n",
    "\n",
    "    \n",
    "def run_trials(environment, agent, n, collect=True):\n",
    "    \"\"\"Runs N trials\"\"\"\n",
    "    history = []\n",
    "    for j in range(n):\n",
    "        h = rl_loop(environment, agent)\n",
    "        history += h\n",
    "        environment.state = Maze.INITIAL_STATE\n",
    "    \n",
    "    return history    "
   ]
  },
  {
   "cell_type": "markdown",
   "metadata": {},
   "source": [
    "### Testing the agent\n",
    "\n",
    "Now, we can finally test the agent. Note that the cell for the \"reward\" state is (where the \"food\" is) remains at zero; this is because the trial actually ends when the agent arrives in the final cell. Because TD-learning methods propagate back in time, another state (\"End\", for example) would be needed to actually assign the correct value to that cell. "
   ]
  },
  {
   "cell_type": "code",
   "execution_count": 55,
   "metadata": {},
   "outputs": [
    {
     "data": {
      "image/png": "[encoded data removed]",
      "text/plain": [
       "<Figure size 504x216 with 4 Axes>"
      ]
     },
     "metadata": {
      "needs_background": "light"
     },
     "output_type": "display_data"
    }
   ],
   "source": [
    "m = Maze()\n",
    "a = TDAgent(alpha=0.1)\n",
    "\n",
    "fig, axs = plt.subplots(1,3, figsize=(7,3))\n",
    "\n",
    "# Because the agent moves at random, the following instruction can take a variable amount of time to complete\n",
    "run_trials(m, a, 1)  \n",
    "#a.visualizeV(axs[0])\n",
    "plot_v_table(a, axs[0], vmin=0, vmax=10)\n",
    "axs[0].set_title(r\"$V$-Table ($t$=1)\")\n",
    "\n",
    "run_trials(m, a, 10)\n",
    "plot_v_table(a, axs[1], vmin=0, vmax=10)\n",
    "axs[1].set_title(r\"$V$-Table ($t$=10)\")\n",
    "\n",
    "run_trials(m, a, 1000)\n",
    "im = plot_v_table(a, axs[2], vmin=0, vmax=10)\n",
    "axs[2].set_title(r\"$V$-Table ($t$=1000)\")\n",
    "\n",
    "#fig.colorbar(im, cax=cbar_ax)\n",
    "fig.subplots_adjust(right=0.85)\n",
    "cbar_ax = fig.add_axes([0.88, 0.2, 0.03, 0.6])\n",
    "fig.colorbar(im, cax=cbar_ax)\n",
    "plt.savefig(\"figures/vtable_maze.png\")"
   ]
  },
  {
   "cell_type": "markdown",
   "metadata": {},
   "source": [
    "## Creating a $Q$-Agent\n",
    "Now we will create a $Q$-learning agent that interacts with the ``` Maze``` world. The $Q$-table should contain $16 \\times 4 = 64$ different state-action pairs; rather than filling it up right away, we will fill it up as we encounter new state-action pairs, assuming that any previously unencountered state has a value of $Q = 0$ "
   ]
  },
  {
   "cell_type": "code",
   "execution_count": 56,
   "metadata": {},
   "outputs": [],
   "source": [
    "import random\n",
    "import numpy as np\n",
    "\n",
    "class QAgent():\n",
    "    def __init__(self, actions=Maze.ACTIONS, epsilon=0.1, \n",
    "                 alpha=0.1, gamma=0.9, method=\"Q-learning\"):\n",
    "        \"\"\"Creates a Q-agent\"\"\"\n",
    "        self.Q = {}    ## Initial dictionary of (s, a) pairs. At the beginning, it's emtpy.\n",
    "\n",
    "        self.epsilon = epsilon     # Epsilon for e-greey policy\n",
    "        self.alpha = alpha         # Learning rate\n",
    "        self.gamma = gamma         # Temporal discounting\n",
    "        self.actions = actions     # Set of possible actions (provide those of Maze.ACTIONS)\n",
    "        self.method = method\n",
    "        \n",
    "    def policy(self, state):\n",
    "        \"\"\"Selects an action with a epsilon-greedy policy\"\"\"\n",
    "        if random.random() < self.epsilon:\n",
    "            action = random.choice(self.actions)\n",
    "        else:\n",
    "            q = [self.Q[(state, a)] if (state, a) in self.Q.keys() else 0.0 for a in self.actions]\n",
    "            maxQ = max(q)\n",
    "            count = q.count(maxQ)\n",
    "            if count > 1:\n",
    "                best = [i for i in range(len(self.actions)) if q[i] == maxQ]\n",
    "                i = random.choice(best)\n",
    "            else:\n",
    "                i = q.index(maxQ)\n",
    "\n",
    "            action = self.actions[i]\n",
    "        return action\n",
    "\n",
    "    \n",
    "    def q_learning(self, state1, action1, reward1, state2):\n",
    "        \"\"\"Updates the Q-values when given an (s,a) pair, the reward value and a new state\"\"\"\n",
    "        g = self.gamma\n",
    "        a = self.alpha\n",
    "        \n",
    "        q1 = 0.0\n",
    "        \n",
    "        if (state1, action1) in self.Q.keys():\n",
    "            q1 = self.Q[(state1, action1)]\n",
    "        \n",
    "        max_q2 = max([self.Q[(state2, a)] if (state2, a) in self.Q.keys() else 0.0 for a in self.actions])\n",
    "        \n",
    "        rpe = reward1 + g * max_q2 - q1\n",
    "        q1 += a * rpe\n",
    "        self.Q[(state1, action1)] = q1\n",
    "        \n",
    "        \n",
    "    def sarsa(self, state1, action1, reward1, state2, action2):\n",
    "        \"\"\"Updates the Q-values when given an (s,a) pair, the reward value and a new state\"\"\"\n",
    "        g = self.gamma\n",
    "        a = self.alpha\n",
    "        \n",
    "        q1 = 0.0\n",
    "        q2 = 0.0\n",
    "        \n",
    "        if (state1, action1) in self.Q.keys():\n",
    "            q1 = self.Q[(state1, action1)]\n",
    "        \n",
    "        if (state2, action2) in self.Q.keys():\n",
    "            q2 = self.Q[(state2, action2)]\n",
    "        \n",
    "        rpe = reward1 + g * q2 - q1\n",
    "        q1 += a * rpe\n",
    "        self.Q[(state1, action1)] = q1\n",
    "        \n",
    "    \n",
    "    def learn(self, state1, action1, reward1, state2, action2):\n",
    "        \"Generic method for learning actions\"\n",
    "        if self.method == \"SARSA\":\n",
    "            self.sarsa(state1, action1, reward1, state2, action2)\n",
    "        elif self.method == \"Q-learning\":\n",
    "            self.q_learning(state1, action1, reward1, state2)\n",
    "    "
   ]
  },
  {
   "cell_type": "markdown",
   "metadata": {},
   "source": [
    "## Interactions between $Q$-Agent and Environment\n",
    "\n",
    "For a $Q$-Agent to work properly, we need to redefine the `run_trial` function to handle to more complex expression that is needed for $Q$-learning and SARSA.  Because the agent actually _learns_ how to navigate the maze, we can also visualize the agent's preferred paths. "
   ]
  },
  {
   "cell_type": "code",
   "execution_count": 57,
   "metadata": {},
   "outputs": [],
   "source": [
    "def rl_loop(environment, agent):\n",
    "    \"\"\"A trial ends when the agent gets a reward. The history is returned\"\"\"\n",
    "    state1  = environment.state\n",
    "    reward1 = environment.grid[state1[0], state1[1]]\n",
    "    \n",
    "    action1 = agent.policy(state1)\n",
    "    \n",
    "    history = []\n",
    "    state2  = \"\"\n",
    "    \n",
    "    while state2 != None:\n",
    "        # Perceive the next step \n",
    "        state2, reward2 = environment.transition(action1)\n",
    "        \n",
    "        # Save the states visited\n",
    "        history.append(state1)\n",
    "        \n",
    "        # Decide the next action and complete the loop\n",
    "        action2 = agent.policy(state2)\n",
    "        \n",
    "        # Update the Q-values for state1, action1\n",
    "        agent.learn(state1, action1, reward1, state2, action2)\n",
    "        \n",
    "        state1 = state2\n",
    "        reward1 = reward2\n",
    "        action1 = action2\n",
    "        \n",
    "    return history\n",
    "\n",
    "\n",
    "def plot_q_table(agent, **kwargs):\n",
    "    \"\"\"Visualizes the Q tables, one per action\"\"\"\n",
    "    fig, axs = plt.subplots(2, 2, figsize=(5,5))\n",
    "    i = 0\n",
    "    for a in agent.actions:\n",
    "        # Create the corresponding state table\n",
    "        data = np.zeros((4,4))\n",
    "        states = [x for x in agent.Q.keys() if x[1] == a]\n",
    "            \n",
    "        for s in states:\n",
    "            x, y = s[0]\n",
    "            data[x, y] = agent.Q[s]\n",
    "        \n",
    "        # Plot the heatmap\n",
    "        im = axs.flat[i].imshow(data, **kwargs, cmap=\"viridis\")\n",
    "\n",
    "        # Create colorbar\n",
    "        #cbar = ax.figure.colorbar(im, ax=ax)\n",
    "        #cbar.ax.set_ylabel(cbarlabel, rotation=-90, va=\"bottom\")\n",
    "\n",
    "        # We want to show all ticks...\n",
    "        axs.flat[i].set_xticks(np.arange(data.shape[1]))\n",
    "        axs.flat[i].set_yticks(np.arange(data.shape[0]))\n",
    "        axs.flat[i].set_xticklabels(range(1,5))\n",
    "        axs.flat[i].set_yticklabels(range(1,5))\n",
    "\n",
    "        # Let the horizontal axes labeling appear on top.\n",
    "        axs.flat[i].tick_params(top=False, bottom=True,\n",
    "                                labeltop=False, labelbottom=True)\n",
    "\n",
    "        # Turn spines off and create white grid.\n",
    "        for edge, spine in axs.flat[i].spines.items():\n",
    "            spine.set_visible(False)\n",
    "\n",
    "        axs.flat[i].set_xticks(np.arange(data.shape[1]+1)-.5, minor=True)\n",
    "        axs.flat[i].set_yticks(np.arange(data.shape[0]+1)-.5, minor=True)\n",
    "        axs.flat[i].grid(which=\"minor\", color=\"grey\", linestyle='-', linewidth=2)\n",
    "        axs.flat[i].tick_params(which=\"minor\", bottom=False, left=False)\n",
    "        axs.flat[i].set_title(r\"$Q$-values for '%s'\" % (a,))\n",
    "\n",
    "        i += 1\n",
    "    \n",
    "    for ax in axs.flat:\n",
    "        ax.label_outer()\n",
    "\n",
    "    fig.subplots_adjust(right=0.85, hspace=0.2)\n",
    "    cbar_ax = fig.add_axes([0.88, 0.2, 0.03, 0.6])\n",
    "    fig.colorbar(im, cax=cbar_ax)\n",
    "    #fig.tight_layout()\n",
    "    \n",
    "    \n",
    "def plot_history(history, ax=None, title=\"History\", \n",
    "                 cbarlabel=\"Probability Visited\", **kwargs):\n",
    "    if not ax:\n",
    "        ax = plt.gca()\n",
    "\n",
    "    data = np.zeros((4,4))            \n",
    "    for s in history:\n",
    "        x, y = s\n",
    "        data[x, y] += 1\n",
    "    \n",
    "    data /= np.max(data)\n",
    "    \n",
    "    # Plot the heatmap\n",
    "    im = ax.imshow(data, **kwargs, cmap=\"Reds\")\n",
    "\n",
    "    # Create colorbar\n",
    "    cbar = ax.figure.colorbar(im, ax=ax)\n",
    "    cbar.ax.set_ylabel(cbarlabel, rotation=-90, va=\"bottom\")\n",
    "\n",
    "    # We want to show all ticks...\n",
    "    ax.set_xticks(np.arange(data.shape[1]))\n",
    "    ax.set_yticks(np.arange(data.shape[0]))\n",
    "    # ... and label them with the respective list entries.\n",
    "    ax.set_xticklabels(range(1,5))\n",
    "    ax.set_yticklabels(range(1,5))\n",
    "\n",
    "    # Let the horizontal axes labeling appear on top.\n",
    "    ax.tick_params(top=False, bottom=True,\n",
    "                   labeltop=False, labelbottom=True)\n",
    "\n",
    "    # Turn spines off and create white grid.\n",
    "    for edge, spine in ax.spines.items():\n",
    "        spine.set_visible(False)\n",
    "\n",
    "    ax.set_xticks(np.arange(data.shape[1]+1)-.5, minor=True)\n",
    "    ax.set_yticks(np.arange(data.shape[0]+1)-.5, minor=True)\n",
    "    ax.grid(which=\"minor\", color=\"grey\", linestyle='-', linewidth=2)\n",
    "    ax.tick_params(which=\"minor\", bottom=False, left=False)\n",
    "    ax.set_title(title)\n",
    "    return im, cbar\n",
    "\n",
    "\n",
    "def plot_history_sequence(maze, history, shape=None, **kwargs):\n",
    "    \"Plots a sequence of moves in the grid as a set 'movie' of maze positions\"\n",
    "    N = len(history)\n",
    "    ncols = 0\n",
    "    nrows = 0\n",
    "    if shape is None:\n",
    "        side = math.ceil(math.sqrt(N))\n",
    "        if side * (side - 1) > N:\n",
    "            ncols = side \n",
    "            nrows = side - 1\n",
    "        else:\n",
    "            ncols = side\n",
    "            nrows = side\n",
    "    \n",
    "    fig, axs = plt.subplots(nrows, ncols, figsize = (ncols * 2, nrows * 2))\n",
    "    for ax in axs.flatten():\n",
    "        ax.label_outer()\n",
    "    for y in range(ncols):\n",
    "        for x in range(nrows):\n",
    "            ii = x * ncols + y\n",
    "            if ii < N:\n",
    "                plot_state(maze, ax=axs[x, y], position=history[ii], title=r\"$t=%d$\" % (ii + 1,))\n",
    "            else:\n",
    "                axs[x, y].axis('off')\n",
    "    fig.tight_layout()"
   ]
  },
  {
   "cell_type": "markdown",
   "metadata": {},
   "source": [
    "## Testing the agent\n",
    "\n",
    "These are the values saved in the $Q$-table"
   ]
  },
  {
   "cell_type": "code",
   "execution_count": 58,
   "metadata": {},
   "outputs": [
    {
     "data": {
      "image/png": "[encoded data removed]",
      "text/plain": [
       "<Figure size 360x360 with 5 Axes>"
      ]
     },
     "metadata": {
      "needs_background": "light"
     },
     "output_type": "display_data"
    }
   ],
   "source": [
    "m = Maze()\n",
    "a = QAgent(epsilon = 0.1)\n",
    "run_trials(m, a, 1000)\n",
    "plot_q_table(a, vmin=0, vmax=10)\n",
    "plt.savefig(\"figures/qtable.png\")"
   ]
  },
  {
   "cell_type": "markdown",
   "metadata": {},
   "source": [
    "and this is the preferred path learned by the agent"
   ]
  },
  {
   "cell_type": "code",
   "execution_count": 59,
   "metadata": {},
   "outputs": [
    {
     "data": {
      "image/png": "[encoded data removed]",
      "text/plain": [
       "<Figure size 432x288 with 2 Axes>"
      ]
     },
     "metadata": {
      "needs_background": "light"
     },
     "output_type": "display_data"
    },
    {
     "data": {
      "image/png": "[encoded data removed]",
      "text/plain": [
       "<Figure size 432x288 with 6 Axes>"
      ]
     },
     "metadata": {
      "needs_background": "light"
     },
     "output_type": "display_data"
    }
   ],
   "source": [
    "h = run_trials(m, a, 20)\n",
    "im, cb = plot_history(h)\n",
    "h = run_trials(m, a, 1)\n",
    "plot_history_sequence(m, h)"
   ]
  },
  {
   "cell_type": "markdown",
   "metadata": {},
   "source": [
    "### How fast is it learning?\n",
    "\n",
    "Let's see how learning changes the path chosen by the agent over the course of may trials"
   ]
  },
  {
   "cell_type": "code",
   "execution_count": 60,
   "metadata": {},
   "outputs": [
    {
     "data": {
      "image/png": "[encoded data removed]",
      "text/plain": [
       "<Figure size 720x216 with 6 Axes>"
      ]
     },
     "metadata": {
      "needs_background": "light"
     },
     "output_type": "display_data"
    }
   ],
   "source": [
    "m = Maze()\n",
    "a = QAgent(epsilon = 0.1)\n",
    "\n",
    "fig, axs = plt.subplots(1, 3, figsize=(10,3))\n",
    "\n",
    "for x in axs:\n",
    "    x.label_outer()\n",
    "\n",
    "h1 = run_trials(m, a, 1)\n",
    "\n",
    "run_trials(m, a, 9)\n",
    "h2 = run_trials(m, a, 1)\n",
    "\n",
    "run_trials(m, a, 9)\n",
    "h3 = run_trials(m, a, 1)\n",
    "\n",
    "plot_history(h1, ax=axs[0], title=r\"Time $t=1$\")\n",
    "plot_history(h2, ax=axs[1], title=r\"Time $t=10$\")\n",
    "plot_history(h3, ax=axs[2], title=r\"Time $t=20$\")\n",
    "fig.suptitle(r\"Learning in $Q$-learning\")\n",
    "plt.savefig(\"figures/q_learning_learning.png\")"
   ]
  },
  {
   "cell_type": "markdown",
   "metadata": {},
   "source": [
    "## A comparison of $Q$-learning and SARSA\n",
    "\n",
    "To compare the two algorithm, let's consider a different type of maze, where the reward is placed begind a \"pit\" of two negative states: "
   ]
  },
  {
   "cell_type": "code",
   "execution_count": 68,
   "metadata": {},
   "outputs": [
    {
     "data": {
      "image/png": "[encoded data removed]",
      "text/plain": [
       "<Figure size 432x288 with 1 Axes>"
      ]
     },
     "metadata": {
      "needs_background": "light"
     },
     "output_type": "display_data"
    }
   ],
   "source": [
    "m = Maze(\"grid2.txt\")\n",
    "plot_state(m, title=\"New Maze\")\n",
    "plt.show()"
   ]
  },
  {
   "cell_type": "code",
   "execution_count": 69,
   "metadata": {},
   "outputs": [
    {
     "data": {
      "image/png": "[encoded data removed]",
      "text/plain": [
       "<Figure size 360x360 with 5 Axes>"
      ]
     },
     "metadata": {
      "needs_background": "light"
     },
     "output_type": "display_data"
    },
    {
     "data": {
      "image/png": "[encoded data removed]",
      "text/plain": [
       "<Figure size 360x360 with 5 Axes>"
      ]
     },
     "metadata": {
      "needs_background": "light"
     },
     "output_type": "display_data"
    },
    {
     "data": {
      "image/png": "[encoded data removed]",
      "text/plain": [
       "<Figure size 504x216 with 4 Axes>"
      ]
     },
     "metadata": {
      "needs_background": "light"
     },
     "output_type": "display_data"
    }
   ],
   "source": [
    "m = Maze(\"grid2.txt\")\n",
    "a1 = QAgent(epsilon = 0.1, method = \"Q-learning\")\n",
    "a2 = QAgent(epsilon = 0.1, method = \"SARSA\")\n",
    "\n",
    "run_trials(m, a1, 1000)\n",
    "plot_q_table(a1, vmin=0, vmax=10)\n",
    "h1 = run_trials(m, a1, 20)\n",
    "\n",
    "run_trials(m, a2, 1000)\n",
    "plot_q_table(a2, vmin=0, vmax=10)\n",
    "h2 = run_trials(m, a2, 20)\n",
    "\n",
    "fig, axs = plt.subplots(1,2, figsize=(7,3))\n",
    "plot_history(h1, ax=axs[0], title = r\"$Q$-learning\")\n",
    "plot_history(h2, ax=axs[1], title = \"SARSA\")\n",
    "fig.suptitle(r\"Preferred Paths After Learning\")\n",
    "fig.subplots_adjust(top=0.85, wspace=0.25)\n",
    "#plt.tight_layout()\n",
    "plt.savefig(\"figures/preferred_paths.png\")"
   ]
  }
 ],
 "metadata": {
  "kernelspec": {
   "display_name": "Python 3",
   "language": "python",
   "name": "python3"
  },
  "language_info": {
   "codemirror_mode": {
    "name": "ipython",
    "version": 3
   },
   "file_extension": ".py",
   "mimetype": "text/x-python",
   "name": "python",
   "nbconvert_exporter": "python",
   "pygments_lexer": "ipython3",
   "version": "3.7.7"
  }
 },
 "nbformat": 4,
 "nbformat_minor": 4
}
