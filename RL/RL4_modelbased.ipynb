{
 "cells": [
  {
   "cell_type": "markdown",
   "metadata": {},
   "source": [
    "# Reinforcement Learning, Part 4: Model-Based RL\n",
    "\n",
    "In model-based RL, the agent has an internal model of the environment, and uses the internal model to update its $Q$-value functions.\n",
    "\n",
    "## One-step $Q$-planning\n",
    "\n",
    "The simplest example of model-based RL is one-step $Q$-planning (1SQP).  In 1SQP, the agent fills in its own $Q$-tables by simulating the environment multiple times. "
   ]
  },
  {
   "cell_type": "code",
   "execution_count": 1,
   "metadata": {},
   "outputs": [],
   "source": [
    "import random\n",
    "import numpy as np\n",
    "from copy import copy\n",
    "import matplotlib.pyplot as plt \n",
    "\n",
    "class Maze():\n",
    "    \"\"\"A maze environment\"\"\"\n",
    "\n",
    "    ACTIONS = (\"up\", \"down\", \"left\", \"right\") # List of actions\n",
    "    INITIAL_STATE = (0, 0) # Always starts at the topleft corner\n",
    "    \n",
    "    def __init__(self, fname = \"grid.txt\"):\n",
    "        \"\"\"Inits a maze by loading the grid file\"\"\"\n",
    "        self.grid = np.loadtxt(fname)\n",
    "        self.state = self.INITIAL_STATE\n",
    "        self.end = False\n",
    "\n",
    "\n",
    "    def state_transition(self, state1, action1):\n",
    "        \"Defines the next state gien the \"\n",
    "        s = state1\n",
    "        state2 = copy(state1)\n",
    "        \n",
    "        if action1 in self.ACTIONS:\n",
    "            if action1 == \"up\":\n",
    "                if s[0] > 0:\n",
    "                    state2 = (s[0] - 1, s[1])\n",
    "            \n",
    "            elif action1 == \"left\":\n",
    "                if s[1] > 0:\n",
    "                    state2 = (s[0], s[1] - 1)\n",
    "            \n",
    "            elif action1 == \"down\":\n",
    "                if s[0] < (self.grid.shape[0] - 1):\n",
    "                    state2 = (s[0] + 1, s[1])\n",
    "\n",
    "            elif action1 == \"right\":\n",
    "                if s[1] < (self.grid.shape[1] - 1):\n",
    "                    state2 = (s[0], s[1] + 1)\n",
    "                    \n",
    "        return state2\n",
    "                    \n",
    "    \n",
    "    def reward_transition(self, state1, action1, state2):\n",
    "        \"\"\"Reward is -1 for bouncing against the walls, and whatever is on the grid otherwise\"\"\"\n",
    "        if state1 == state2:\n",
    "            return -1\n",
    "        else:\n",
    "            return self.grid[state2[0], state2[1]]\n",
    "        \n",
    "    \n",
    "    # Quick way to combine State transitions and Reward transitions \n",
    "    def transition(self, action1):\n",
    "        \"\"\"Changes the state following an action\"\"\"\n",
    "        state1 = self.state\n",
    "        state2 = self.state_transition(state1, action1)\n",
    "        reward2 = self.reward_transition(state1, action1, state2)\n",
    "        \n",
    "        self.state = state2\n",
    "        return (state2, reward2) # Returns s_t+1, r_t+1\n",
    "\n",
    "    \n",
    "    def print_state(self):\n",
    "        \"Prints a text representation of the maze (with the agent position)\"\n",
    "        bar = \"-\" * ( 4 * self.grid.shape[1] + 1)\n",
    "        for i in range(self.grid.shape[0]):\n",
    "            row = \"|\"\n",
    "            for j in range(self.grid.shape[1]):\n",
    "                cell = \" \"\n",
    "                if i == self.state[0] and j == self.state[1]:\n",
    "                    cell = \"*\"\n",
    "                row += (\" %s |\" % cell)\n",
    "            print(bar)\n",
    "            print(row)\n",
    "        print(bar)"
   ]
  },
  {
   "cell_type": "markdown",
   "metadata": {},
   "source": [
    "## The MB-Agent\n",
    "\n",
    "And now, the agent. In addition to the $Q$-table, the new agent has a model of the environment. The model will be represented as an $S$-table, a table of $(s_t, a_t)$ associations with the consequences $(s_{t+1}, r_{t+1})$. The model needs to have an internal model of the enviroment (the $S$-table) to start with. The table is created by passing the environment to an agent's function called `initS`. "
   ]
  },
  {
   "cell_type": "code",
   "execution_count": 2,
   "metadata": {},
   "outputs": [],
   "source": [
    "import random\n",
    "import numpy as np\n",
    "\n",
    "class MBAgent():\n",
    "    def __init__(self, actions=Maze.ACTIONS, epsilon=0.1, alpha=0.1, gamma=0.9):\n",
    "        \"\"\"Creates a Q-agent\"\"\"\n",
    "        self.Q = {}    ## Initial dictionary of (s, a) pairs. At the beginning, it's emtpy.\n",
    "        self.S = {}\n",
    "        self.epsilon = epsilon     # Epsilon for e-greey policy\n",
    "        self.alpha = alpha         # Learning rate\n",
    "        self.gamma = gamma         # Temporal discounting\n",
    "        self.actions = actions     # Set of possible actions (provide those of Maze.ACTIONS)\n",
    "        \n",
    "        \n",
    "    def init_states(self, environment = Maze()):\n",
    "        \"\"\"Initializes the model of the environment\"\"\"\n",
    "        states = [(row, col) for row in range(4) for col in range(4)]\n",
    "        actions = self.actions\n",
    "        \n",
    "        # All possible transitions\n",
    "        for state1 in states:\n",
    "            for action1 in actions:\n",
    "                # For every state and every action, predict the consequence\n",
    "                state2 = environment.state_transition(state1, action1)\n",
    "                reward2 = environment.reward_transition(state1, action1, state2)\n",
    "                \n",
    "                # Update the S-table\n",
    "                self.S[(state1, action1)] = (state2, reward2)\n",
    "        \n",
    "\n",
    "    def q_planning(self, n = 1000):\n",
    "        \"\"\"Plans ahead and learns the Q-table\"\"\"\n",
    "        for j in range(n):\n",
    "            start = random.choice(tuple(self.S.keys()))\n",
    "            state2, reward2 = self.S[start]\n",
    "            state1, action1 = start\n",
    "            self.q_learning(state1, action1, reward2, state2)\n",
    "\n",
    "        \n",
    "    def policy(self, state):\n",
    "        \"\"\"Selects an action with a epsilon-greedy policy\"\"\"\n",
    "        if random.random() < self.epsilon:\n",
    "            action = random.choice(self.actions)\n",
    "        else:\n",
    "            q = [self.Q[(state, a)] if (state, a) in self.Q.keys() else 0.0 for a in self.actions]\n",
    "            maxQ = max(q)\n",
    "            count = q.count(maxQ)\n",
    "            if count > 1:\n",
    "                best = [i for i in range(len(self.actions)) if q[i] == maxQ]\n",
    "                i = random.choice(best)\n",
    "            else:\n",
    "                i = q.index(maxQ)\n",
    "\n",
    "            action = self.actions[i]\n",
    "        return action\n",
    "\n",
    "    \n",
    "    def q_learning(self, state1, action1, reward2, state2):\n",
    "        \"\"\"Updates the Q-values when given an (s,a) pair, the reward value and a new state\"\"\"\n",
    "        g = self.gamma\n",
    "        a = self.alpha\n",
    "        \n",
    "        q1 = 0.0\n",
    "        \n",
    "        if (state1, action1) in self.Q.keys():\n",
    "            q1 = self.Q[(state1, action1)]\n",
    "        \n",
    "        max_q2 = max([self.Q[(state2, a)] if (state2, a) in self.Q.keys() else 0.0 for a in self.actions])\n",
    "        \n",
    "        rpe = reward2 + g * max_q2 - q1\n",
    "        q1 += a * rpe\n",
    "        self.Q[(state1, action1)] = q1\n",
    "\n",
    "            \n",
    "def plot_q_table(agent, **kwargs):\n",
    "    \"\"\"Visualizes the Q tables, one per action\"\"\"\n",
    "    fig, axs = plt.subplots(2, 2, figsize=(5,5))\n",
    "    i = 0\n",
    "    for a in agent.actions:\n",
    "        # Create the corresponding state table\n",
    "        data = np.zeros((4,4))\n",
    "        states = [x for x in agent.Q.keys() if x[1] == a]\n",
    "            \n",
    "        for s in states:\n",
    "            x, y = s[0]\n",
    "            data[x, y] = agent.Q[s]\n",
    "        \n",
    "        # Plot the heatmap\n",
    "        im = axs.flat[i].imshow(data, **kwargs, cmap=\"viridis\")\n",
    "        axs.flat[i].set_xticks(np.arange(data.shape[1]))\n",
    "        axs.flat[i].set_yticks(np.arange(data.shape[0]))\n",
    "        axs.flat[i].set_xticklabels(range(1,5))\n",
    "        axs.flat[i].set_yticklabels(range(1,5))\n",
    "\n",
    "        axs.flat[i].tick_params(top=False, bottom=True,\n",
    "                                labeltop=False, labelbottom=True)\n",
    "\n",
    "        # Turn spines off and create white grid.\n",
    "        for edge, spine in axs.flat[i].spines.items():\n",
    "            spine.set_visible(False)\n",
    "\n",
    "        axs.flat[i].set_xticks(np.arange(data.shape[1]+1)-.5, minor=True)\n",
    "        axs.flat[i].set_yticks(np.arange(data.shape[0]+1)-.5, minor=True)\n",
    "        axs.flat[i].grid(which=\"minor\", color=\"grey\", linestyle='-', linewidth=2)\n",
    "        axs.flat[i].tick_params(which=\"minor\", bottom=False, left=False)\n",
    "        axs.flat[i].set_title(r\"$Q$-values for '%s'\" % (a,))\n",
    "\n",
    "        i += 1\n",
    "    \n",
    "    for ax in axs.flat:\n",
    "        ax.label_outer()\n",
    "\n",
    "    fig.subplots_adjust(right=0.85, hspace=0.2)\n",
    "    cbar_ax = fig.add_axes([0.88, 0.2, 0.03, 0.6])\n",
    "    fig.colorbar(im, cax=cbar_ax)\n"
   ]
  },
  {
   "cell_type": "markdown",
   "metadata": {},
   "source": [
    "### Interactions between environment and agent\n",
    "\n",
    "The interactions are managed by the usual functions, `rl_loop` and `run_trials`."
   ]
  },
  {
   "cell_type": "code",
   "execution_count": 3,
   "metadata": {},
   "outputs": [],
   "source": [
    "def rl_loop(environment, agent):\n",
    "    \"\"\"A trial ends when the agent gets a reward. The history is returned\"\"\"\n",
    "    state1 = environment.state\n",
    "    action1 = agent.policy(state1)\n",
    "    reward2 = 0.0\n",
    "    history = [state1]\n",
    "    while reward2 != 10:\n",
    "        state2, reward2 = environment.transition(action1)\n",
    "        action2 = agent.policy(state2)\n",
    "        \n",
    "        # Save the states visited\n",
    "        history.append(state2)\n",
    "        \n",
    "        # Update the Q-values for state1, action1\n",
    "        agent.q_learning(state1, action1, reward2, state2)\n",
    "        \n",
    "        state1 = state2\n",
    "        action1 = action2\n",
    "        \n",
    "    return history\n",
    "\n",
    "    \n",
    "def run_trials(environment, agent, n, collect=True):\n",
    "    \"\"\"Runs N trials\"\"\"\n",
    "    history = []\n",
    "    for j in range(n):\n",
    "        h = rl_loop(environment, agent)\n",
    "        history += h\n",
    "        environment.state = Maze.INITIAL_STATE\n",
    "    \n",
    "    return history\n",
    "        \n",
    "    \n",
    "def plot_history(history, ax=None, title=\"History\", \n",
    "                 cbarlabel=\"Probability Visited\", **kwargs):\n",
    "    if not ax:\n",
    "        ax = plt.gca()\n",
    "\n",
    "    data = np.zeros((4,4))            \n",
    "    for s in history:\n",
    "        x, y = s\n",
    "        data[x, y] += 1\n",
    "    \n",
    "    data /= np.max(data)\n",
    "    \n",
    "    # Plot the heatmap\n",
    "    im = ax.imshow(data, **kwargs, cmap=\"Reds\")\n",
    "\n",
    "    # Create colorbar\n",
    "    cbar = ax.figure.colorbar(im, ax=ax)\n",
    "    cbar.ax.set_ylabel(cbarlabel, rotation=-90, va=\"bottom\")\n",
    "\n",
    "    ax.set_xticks(np.arange(data.shape[1]))\n",
    "    ax.set_yticks(np.arange(data.shape[0]))\n",
    "    ax.set_xticklabels(range(1,5))\n",
    "    ax.set_yticklabels(range(1,5))\n",
    "\n",
    "    # Let the horizontal axes labeling appear on top.\n",
    "    ax.tick_params(top=False, bottom=True,\n",
    "                   labeltop=False, labelbottom=True)\n",
    "\n",
    "    # Turn spines off and create white grid.\n",
    "    for edge, spine in ax.spines.items():\n",
    "        spine.set_visible(False)\n",
    "\n",
    "    ax.set_xticks(np.arange(data.shape[1]+1)-.5, minor=True)\n",
    "    ax.set_yticks(np.arange(data.shape[0]+1)-.5, minor=True)\n",
    "    ax.grid(which=\"minor\", color=\"grey\", linestyle='-', linewidth=2)\n",
    "    ax.tick_params(which=\"minor\", bottom=False, left=False)\n",
    "    ax.set_title(title)\n",
    "    return im, cbar"
   ]
  },
  {
   "cell_type": "markdown",
   "metadata": {},
   "source": [
    "### Testing the Model-Based Agent "
   ]
  },
  {
   "cell_type": "code",
   "execution_count": 4,
   "metadata": {},
   "outputs": [
    {
     "data": {
      "image/png": "[encoded data removed]",
      "text/plain": [
       "<Figure size 360x360 with 5 Axes>"
      ]
     },
     "metadata": {
      "needs_background": "light"
     },
     "output_type": "display_data"
    }
   ],
   "source": [
    "m = Maze()\n",
    "a = MBAgent()\n",
    "a.init_states(m)\n",
    "a.q_planning(n=1000)\n",
    "\n",
    "# Before the agent starts, it has perfect knowledge\n",
    "plot_q_table(a, vmin=0, vmax=10)\n",
    "plt.savefig(\"figures/qtable_qplanning.png\")"
   ]
  },
  {
   "cell_type": "markdown",
   "metadata": {},
   "source": [
    "### A Comparison of 1-step $Q$-planning vs. $Q$-learning\n",
    "\n",
    "To get a better sense of the difference between model-free and model-based RL, we can compare the path taken on its very first trial by an agent using 1-step $Q$-planning and that of an agent that uses standard $Q$-learning. As expected, the model-based agent uses an efficient, optimal path right away, while the model-free agent will be left wandering about the maze until the first reward is found."
   ]
  },
  {
   "cell_type": "code",
   "execution_count": 5,
   "metadata": {},
   "outputs": [
    {
     "data": {
      "image/png": "[encoded data removed]",
      "text/plain": [
       "<Figure size 504x216 with 4 Axes>"
      ]
     },
     "metadata": {
      "needs_background": "light"
     },
     "output_type": "display_data"
    }
   ],
   "source": [
    "a.alpha=0.0\n",
    "h = run_trials(m, a, 1)\n",
    "\n",
    "a2 = MBAgent(alpha=0.0)\n",
    "m2 = Maze()\n",
    "h2 = run_trials(m2, a2, 1)\n",
    "\n",
    "fig, axs = plt.subplots(1, 2, figsize=(7,3))\n",
    "for ax in axs:\n",
    "    ax.label_outer()\n",
    "plot_history(h, ax=axs[0], title=r\"Time $t=1$, Model-Based\")\n",
    "im, bar = plot_history(h2, ax=axs[1], title=r\"Time $t=1$, Model-Free\")"
   ]
  },
  {
   "cell_type": "markdown",
   "metadata": {},
   "source": [
    "## Dyna-Q\n",
    "\n",
    "The One-step Q-planning agent needs an internal model of the environment to start with. But what if the environment can be learned as we go? The idea is known as Dyna-$Q$. In this new agent, there is no neeed to intialize the internal model with a special function `init_states`. Instead, the code to update the $S$-table is directly embedded into the `learnQ` function.  "
   ]
  },
  {
   "cell_type": "code",
   "execution_count": 6,
   "metadata": {},
   "outputs": [],
   "source": [
    "import random\n",
    "import numpy as np\n",
    "\n",
    "class DynaQ():\n",
    "    def __init__(self, actions=Maze.ACTIONS, epsilon=0.1, alpha=0.1, gamma=0.9):\n",
    "        \"\"\"Creates a DynaQ-agent. Note that this agent learns the S-table as it explores\"\"\"\n",
    "        self.Q = {}    ## Initial dictionary of (s, a) pairs. At the beginning, it's emtpy.\n",
    "        self.S = {}    ## Initial model of the environment. At the beginning,  it's empty. \n",
    "        self.epsilon = epsilon     # Epsilon for e-greey policy\n",
    "        self.alpha = alpha         # Learning rate\n",
    "        self.gamma = gamma         # Temporal discounting\n",
    "        self.actions = actions     # Set of possible actions (provide those of Maze.ACTIONS)\n",
    "        self.n = 100               # Num of planning steps\n",
    "\n",
    "        \n",
    "    def planning(self):\n",
    "        \"\"\"Plans ahead and learns the Q-table\"\"\"\n",
    "        if len(self.S.keys()) > 0:\n",
    "            for j in range(self.n):\n",
    "                start = random.choice(tuple(self.S.keys()))\n",
    "                state2, reward2 = self.S[start]\n",
    "                action2 = random.choice(self.actions)\n",
    "                state1, action1 = start\n",
    "                self.dyna_q(state1, action1, reward2, state2, action2)\n",
    "\n",
    "        \n",
    "    def policy(self, state):\n",
    "        \"\"\"Selects an action with a epsilon-greedy policy\"\"\"\n",
    "        # First, plan ahead with the basic environment as we know it\n",
    "        self.planning()\n",
    "        \n",
    "        # Then, proceed with selecting an action\n",
    "        if random.random() < self.epsilon:\n",
    "            action = random.choice(self.actions)\n",
    "            \n",
    "        else:\n",
    "            q = [self.Q[(state, a)] if (state, a) in self.Q.keys() else 0.0 for a in self.actions]\n",
    "            maxQ = max(q)\n",
    "            count = q.count(maxQ)\n",
    "            if count > 1:\n",
    "                best = [i for i in range(len(self.actions)) if q[i] == maxQ]\n",
    "                i = random.choice(best)\n",
    "            else:\n",
    "                i = q.index(maxQ)\n",
    "\n",
    "            action = self.actions[i]\n",
    "        return action\n",
    "\n",
    "    \n",
    "    def dyna_q(self, state1, action1, reward2, state2):\n",
    "        \"\"\"Updates the Q-values when given an (s,a) pair, the reward value and a new state\"\"\"\n",
    "        g = self.gamma\n",
    "        a = self.alpha\n",
    "        \n",
    "        q1 = 0.0\n",
    "        \n",
    "        if (state1, action1) in self.Q.keys():\n",
    "            q1 = self.Q[(state1, action1)]\n",
    "        \n",
    "        max_q2 = max([self.Q[(state2, a)] if (state2, a) in self.Q.keys() else 0.0 for a in self.actions])\n",
    "        \n",
    "        rpe = reward2 + g * max_q2 - q1\n",
    "        q1 += a * rpe\n",
    "        \n",
    "        # Update the Q-table\n",
    "        self.Q[(state1, action1)] = q1\n",
    "        \n",
    "        # Update the S-table\n",
    "        if (state1, action1) in self.S.keys():\n",
    "            self.S[(state1, action1)] = (state2, reward2)\n",
    "            \n",
    "\n",
    "def rl_loop(environment, agent):\n",
    "    \"\"\"A trial ends when the agent gets a reward. The history is returned\"\"\"\n",
    "    state1 = environment.state\n",
    "    action1 = agent.policy(state1)\n",
    "    reward2 = 0.0\n",
    "    history = [state1]\n",
    "    while reward2 != 10:\n",
    "        state2, reward2 = environment.transition(action1)\n",
    "        action2 = agent.policy(state2)\n",
    "        \n",
    "        # Save the states visited\n",
    "        history.append(state2)\n",
    "        \n",
    "        # Update the Q-values for state1, action1\n",
    "        agent.dyna_q(state1, action1, reward2, state2)\n",
    "        \n",
    "        state1 = state2\n",
    "        action1 = action2\n",
    "        \n",
    "    return history"
   ]
  },
  {
   "cell_type": "markdown",
   "metadata": {},
   "source": [
    "### Testing Dyna-$Q$\n",
    "\n",
    "Here is a simple test of Dyna-$Q$. Note that the new agent learns as it goes, but learns faster than a simple Q-agent."
   ]
  },
  {
   "cell_type": "code",
   "execution_count": 7,
   "metadata": {},
   "outputs": [
    {
     "data": {
      "image/png": "[encoded data removed]",
      "text/plain": [
       "<Figure size 360x360 with 5 Axes>"
      ]
     },
     "metadata": {
      "needs_background": "light"
     },
     "output_type": "display_data"
    },
    {
     "data": {
      "image/png": "[encoded data removed]",
      "text/plain": [
       "<Figure size 432x288 with 2 Axes>"
      ]
     },
     "metadata": {
      "needs_background": "light"
     },
     "output_type": "display_data"
    }
   ],
   "source": [
    "m = Maze()\n",
    "a = DynaQ()\n",
    "\n",
    "run_trials(m, a, 5)\n",
    "plot_q_table(a, vmin=0, vmax=5)\n",
    "plt.savefig(\"figures/qtable_dynaq.png\")\n",
    "\n",
    "fig, ax = plt.subplots(1,1)\n",
    "h = run_trials(m, a, 3)\n",
    "plot_history(h, ax=ax, title=\"After 5 trials\")\n",
    "plt.show()"
   ]
  },
  {
   "cell_type": "markdown",
   "metadata": {},
   "source": [
    "## Comparing Dyna-$Q$ and $Q$-learning\n",
    "\n",
    "Because Dyna-$Q$ can take advantage of model-based planning even with minimal interactions with the environment, it learns, in general faster than model-free algorithms. Here is a comparison with $Q$ learning."
   ]
  },
  {
   "cell_type": "code",
   "execution_count": 22,
   "metadata": {},
   "outputs": [
    {
     "data": {
      "image/png": "[encoded data removed]",
      "text/plain": [
       "<Figure size 576x360 with 12 Axes>"
      ]
     },
     "metadata": {
      "needs_background": "light"
     },
     "output_type": "display_data"
    }
   ],
   "source": [
    "m = Maze()\n",
    "dq = DynaQ()\n",
    "\n",
    "fig, axs = plt.subplots(2, 3, figsize=(8,5))\n",
    "\n",
    "for x in axs.flatten():\n",
    "    x.label_outer()\n",
    "\n",
    "h1 = run_trials(m, dq, 1)\n",
    "\n",
    "run_trials(m, dq, 1)\n",
    "h2 = run_trials(m, dq, 1)\n",
    "\n",
    "run_trials(m, dq, 1)\n",
    "h3 = run_trials(m, dq, 1)\n",
    "\n",
    "plot_history(h1, ax=axs[0,0], title=r\"Dyna-$Q$, $N=1$\")\n",
    "plot_history(h2, ax=axs[0,1], title=r\"Dyna-$Q$, $N=3$\")\n",
    "plot_history(h3, ax=axs[0,2], title=r\"Dyna-$Q$, $N=5$\")\n",
    "\n",
    "ql = DynaQ()\n",
    "ql.n = 0   # Sets model-based planning step to zero.\n",
    "\n",
    "h4 = run_trials(m, ql, 1)\n",
    "\n",
    "run_trials(m, ql, 1)\n",
    "h5 = run_trials(m, ql, 1)\n",
    "\n",
    "run_trials(m, ql, 1)\n",
    "h6 = run_trials(m, ql, 1)\n",
    "\n",
    "plot_history(h4, ax=axs[1,0], title=r\"$Q$-learning, $N=1$\")\n",
    "plot_history(h5, ax=axs[1,1], title=r\"$Q$-learning, $N=3$\")\n",
    "plot_history(h6, ax=axs[1,2], title=r\"$Q$-learning, $N=5$\")\n",
    "\n",
    "fig.suptitle(r\"Learning in Dyna-$Q$ vs. $Q$-learning\")\n",
    "fig.tight_layout()\n",
    "plt.savefig(\"figures/dynaq_learning.png\")"
   ]
  },
  {
   "cell_type": "markdown",
   "metadata": {},
   "source": [
    "# Evidence for Model-Based Learning\n",
    "\n",
    "The distinction between Model-Based and Model-Free learning is reminiscent of an old debate in the animal psychology literature, that between Tolman and Hull. In essence, Hull believed that all animal behavior could be explained by habit and associations, while Tolman maintained that animals could acquire some internal representation. This debate later morphed into a discussion on whether animals would learn Stimulus-Response (S-R) associations or Stimulus-Stimulus (S-S) associations. In RL terms, a S-R association is an entry in the $Q$-table, while a S-S association is an entry in the $S$-table. The latter is, of course, the basis of Model-Based RL.\n",
    "\n",
    "But do animals use Model-Based RL?  Here is some data that Tolman (1948) reported in a review paper from an earlier experiment. Three groups of rats were tested: One did not receive a reward (NR), one received a reward at the end of the maze (R), and one group began receiving no reward, but switched to receiving rewards on Day 11 (NR-R). After the first reward was found, the latter group performed at the same level as the \"R\" group, suggesting that some form of learning had occurred in absence of a reward."
   ]
  },
  {
   "cell_type": "code",
   "execution_count": 9,
   "metadata": {},
   "outputs": [
    {
     "data": {
      "image/png": "[encoded data removed]",
      "text/plain": [
       "<Figure size 432x288 with 1 Axes>"
      ]
     },
     "metadata": {
      "needs_background": "light"
     },
     "output_type": "display_data"
    }
   ],
   "source": [
    "import pandas as pd\n",
    "data = pd.read_csv(\"data/tolman_data.csv\", header=None, names=(\"X\", \"Y\"))\n",
    "NR_R = data[\"Y\"][0:22]\n",
    "NR = data[\"Y\"][22:22+17]\n",
    "R = data[\"Y\"][22+17:22+34]\n",
    "\n",
    "plt.plot(range(1,23), NR_R)\n",
    "plt.plot(range(1,18), NR)\n",
    "plt.plot(range(1,18), R)\n",
    "plt.grid(linestyle=\"-\")\n",
    "plt.legend(labels=(\"NR-R\", \"NR\", \"R\"))\n",
    "plt.xlabel(\"Days\")\n",
    "plt.ylabel(\"Number of Errors\")\n",
    "plt.vlines(x=11, ymin=0, ymax=35, colors=\"k\", linestyle=\"--\")\n",
    "plt.title(\"Results from Tolman's (1948) experiment\")\n",
    "plt.savefig(\"figures/tolman1948.png\")"
   ]
  },
  {
   "cell_type": "code",
   "execution_count": null,
   "metadata": {},
   "outputs": [],
   "source": []
  }
 ],
 "metadata": {
  "kernelspec": {
   "display_name": "Python 3",
   "language": "python",
   "name": "python3"
  },
  "language_info": {
   "codemirror_mode": {
    "name": "ipython",
    "version": 3
   },
   "file_extension": ".py",
   "mimetype": "text/x-python",
   "name": "python",
   "nbconvert_exporter": "python",
   "pygments_lexer": "ipython3",
   "version": "3.7.11"
  }
 },
 "nbformat": 4,
 "nbformat_minor": 4
}
