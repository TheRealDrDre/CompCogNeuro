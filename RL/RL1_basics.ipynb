{
 "cells": [
  {
   "cell_type": "markdown",
   "metadata": {},
   "source": [
    "# Reinforcement Learning, Part 1: Agents, States, and Rewards  \n",
    "\n",
    "Here we will show the simplest form of RL: An agent going through a simple environment with a determinstic succession of states.\n",
    "\n",
    "## The environment\n",
    "\n",
    "The environment represents a prototypical conditing paradigm. It is made of three states, which represent an initial  cue, a delay, and a reward. This captures a simple experiment such as the case in which a primate is given reward (juice) after a blue light is presented.\n",
    "\n",
    "An environment is defined by two functions, the state transition matrix $P(s,a,s')$ and a reward transition matrix $R(s,a,s')$. In this simple case, the agent does not act---it is simply observing the environment. So, we can define $P(s,s')$ and $R(s,s')$ without any reference to any action $a$. Furthermore, because the environment is deterministic, we can represent both $P(s,s')$ and $R(s,s')$ as _tables_.\n",
    "\n",
    "### Implementation in Python\n",
    "\n",
    "In the code below, the Environment's state and reward transitions are implemented as _dictionaries_, that is, special structures that associate one object (the _key_) with another (the _value_). This is a vary convenient format for a simple environments in which all events follow deterministically. THe `STATE_TRANSITIONS` dictionary links each state with the state that follows. The `REWARD_TRANSITIONS` dictionary links each state with its associated reward.  The null object `None` marks the end of a trial.\n",
    "\n",
    "When the environment undergoes a transition, the agent receives a new state-reward pair, which, in Python, will be represented as a tuple `(new_state, new_reward)`."
   ]
  },
  {
   "cell_type": "code",
   "execution_count": 3,
   "metadata": {},
   "outputs": [],
   "source": [
    "import matplotlib.pyplot as plt \n",
    "\n",
    "class Environment:\n",
    "    \"\"\"A simple environment\"\"\"\n",
    "    STATE_TRANSITIONS = {\"cue\" : \"wait\",\n",
    "                         \"wait\" : \"juice\",\n",
    "                         \"juice\" : None}\n",
    "    \n",
    "    REWARD_TRANSITIONS = {\"cue\" : 0,\n",
    "                          \"wait\" : 0,\n",
    "                          \"juice\" : 1,\n",
    "                          None : 0}\n",
    "    \n",
    "    def __init__(self):\n",
    "        \"\"\"Initializes the environment\"\"\"\n",
    "        # An environment class always keeps track of the current state we are in.\n",
    "        # We always begin with the state 'cue' (the beginning of a trial)\n",
    "        self.state = \"cue\"\n",
    "    \n",
    "    \n",
    "    def transition(self):\n",
    "        \"\"\"Transitions, and returns the state-reward pair\"\"\"\n",
    "        state = self.state  # The current state\n",
    "        \n",
    "        new_state = Environment.STATE_TRANSITIONS[state]\n",
    "        new_reward = Environment.REWARD_TRANSITIONS[new_state]\n",
    "        \n",
    "        # Let's update the current state before \n",
    "        self.state = new_state\n",
    "        \n",
    "        # The agent receives the new state and reward. \n",
    "        return (new_state, new_reward)"
   ]
  },
  {
   "cell_type": "markdown",
   "metadata": {},
   "source": [
    "### Testing the environment\n",
    "\n",
    "Let's test the environment works"
   ]
  },
  {
   "cell_type": "code",
   "execution_count": 35,
   "metadata": {},
   "outputs": [
    {
     "name": "stdout",
     "output_type": "stream",
     "text": [
      "State 1: 'cue'\n",
      "State 2: 'wait', Reward = 0\n",
      "State 3: 'juice', Reward = 1\n",
      "After state 3: 'None'\n"
     ]
    }
   ],
   "source": [
    "e = Environment()\n",
    "print(\"State 1: '%s'\" % (e.state,))\n",
    "\n",
    "# First transition: Cue -> Wait\n",
    "res = e.transition()\n",
    "print(\"State 2: '%s', Reward = %s\" % res)\n",
    "\n",
    "# Second transition: Wait -> Juice\n",
    "res = e.transition()\n",
    "print(\"State 3: '%s', Reward = %s\" % res)\n",
    "\n",
    "# Final transition: Juice -> 'None'\n",
    "res = e.transition()\n",
    "print(\"After state 3: '%s'\" % (e.state,))\n"
   ]
  },
  {
   "cell_type": "markdown",
   "metadata": {},
   "source": [
    "## The Agent\n",
    "\n",
    "Now, let's create a simple agent that just observes states and estimates their values by creating a $V$-table. Because the number of states is so small, the $V$-table can be initialized right away, with all the states being zero. \n",
    "\n",
    "The $V$-Agent learns the value of states using TD-learning. Every time the agent observes a new state, it updates the associated value of the previous state using the TD-learning equation:\n",
    "\n",
    "$V(S_t) = V(S_t) + \\alpha [ r_{t} + \\gamma V(S_{t+1}) - V(S_t)]$\n",
    "\n",
    "### Implementation in Python\n",
    "\n",
    "The agent is an object with two internal parameters, `alpha` and `gamma` (which record to the $\\alpha$ and $\\gamma$ values of the TD-learning equation), and a dictionary that records the $V$-values associated with every state (The $V$ table). The agent has a single method, `learn`, tha implements the TD-learning equation."
   ]
  },
  {
   "cell_type": "code",
   "execution_count": 5,
   "metadata": {},
   "outputs": [],
   "source": [
    "\n",
    "class VAgent():\n",
    "    \"\"\"An agent that passively observes states\"\"\"\n",
    "    def __init__(self, gamma=0.9, alpha=0.1):\n",
    "        \"Initializes an agent with default parameters and zero values in the V table\"\n",
    "        self.V = {\"cue\" : 0,\n",
    "                  \"wait\" : 0,\n",
    "                  \"juice\" : 0,\n",
    "                  None : 0}\n",
    "        \n",
    "        self.gamma = gamma\n",
    "        \n",
    "        self.alpha = alpha\n",
    "        \n",
    "    # This method implements TD-learning\n",
    "    #\n",
    "    def learn(self, state1, reward1, state2):\n",
    "        \"\"\"Learns using TD-learning\"\"\"\n",
    "        V1 = self.V[state1]\n",
    "        V2 = self.V[state2]\n",
    "        g = self.gamma\n",
    "        a = self.alpha\n",
    "        \n",
    "        # Calculate RPE and new estimate of V1\n",
    "        rpe = reward1 + g * V2 - V1\n",
    "        V1 = V1 + a * rpe\n",
    "        \n",
    "        # Update the internal value of V1\n",
    "        self.V[state1] = V1"
   ]
  },
  {
   "cell_type": "markdown",
   "metadata": {},
   "source": [
    "## Interactions between agent and environment\n",
    "Now, we need to define how to run a trial. "
   ]
  },
  {
   "cell_type": "code",
   "execution_count": 6,
   "metadata": {},
   "outputs": [],
   "source": [
    "def run_trial(environment, agent):\n",
    "    while environment.state is not None:\n",
    "        state = environment.state\n",
    "        reward = environment.REWARD_TRANSITIONS[state]\n",
    "        \n",
    "        # This is the moment in which we learn!\n",
    "        transition = environment.transition()\n",
    "        new_state = None\n",
    "        if transition is not None:\n",
    "            new_state = transition[0]\n",
    "        \n",
    "        agent.learn(state, reward, new_state)\n",
    "        \n",
    "def run_trials(environment, agent, n):\n",
    "    for j in range(n):\n",
    "        environment.state = \"cue\"\n",
    "        run_trial(environment, agent)\n",
    "        "
   ]
  },
  {
   "cell_type": "markdown",
   "metadata": {},
   "source": [
    "## Testing the system\n",
    "\n",
    "To test the system, we need to create a function that visualizes a $V$-table. The following function takes the an agent's dictionary of state-value associations and visualizes them ina bargraph. For simplicity, the state `None` is not shown "
   ]
  },
  {
   "cell_type": "code",
   "execution_count": 22,
   "metadata": {},
   "outputs": [],
   "source": [
    "# This is a simple function to visualize the agent's V-table\n",
    "def visualizeV(Vtable, axes, title=\"V table\"):\n",
    "    \"\"\"Visualizes the V-table\"\"\"\n",
    "    states = [\"cue\", \"wait\", \"juice\"]\n",
    "    values = [Vtable[x] for x in states]\n",
    "    #fig, ax = plt.subplots()\n",
    "    axes.axis([-0.5, 2.5, 0, 1.0])\n",
    "    axes.set_xticks([0, 1, 2])\n",
    "    axes.set_xticklabels([str(x) for x in states])\n",
    "    \n",
    "    axes.bar([0, 1, 2], values)\n",
    "    axes.set_title(title)\n"
   ]
  },
  {
   "cell_type": "markdown",
   "metadata": {},
   "source": [
    "Now, we can test the agent's learning by visualizing its internal $V$-table at different momements during learning."
   ]
  },
  {
   "cell_type": "code",
   "execution_count": 34,
   "metadata": {},
   "outputs": [
    {
     "data": {
      "image/png": "[encoded data removed]",
      "text/plain": [
       "<Figure size 504x252 with 3 Axes>"
      ]
     },
     "metadata": {
      "needs_background": "light"
     },
     "output_type": "display_data"
    }
   ],
   "source": [
    "states = [\"cue\", \"wait\", \"juice\", None]\n",
    "\n",
    "a = VAgent()\n",
    "e = Environment()\n",
    "\n",
    "fig, axs = plt.subplots(1,3, figsize=(7,3.5), sharey=True)\n",
    "\n",
    "for ax in axs.flat:\n",
    "    ax.label_outer()\n",
    "\n",
    "axs[0].set_ylabel(r\"Value $V$\")\n",
    "axs[1].set_xlabel(\"States\")    \n",
    "\n",
    "run_trials(e, a, 1)\n",
    "visualizeV(a.V, axs[0], r\"$V$-table ($t=1$)\")\n",
    "\n",
    "run_trials(e, a, 9)\n",
    "visualizeV(a.V, axs[1], r\"$V$-table ($t=10$)\")\n",
    "\n",
    "run_trials(e, a, 90)\n",
    "visualizeV(a.V, axs[2], r\"$V$-table ($t=100$)\")\n",
    "\n",
    "plt.savefig(\"vtable.png\")"
   ]
  }
 ],
 "metadata": {
  "kernelspec": {
   "display_name": "Python 3",
   "language": "python",
   "name": "python3"
  },
  "language_info": {
   "codemirror_mode": {
    "name": "ipython",
    "version": 3
   },
   "file_extension": ".py",
   "mimetype": "text/x-python",
   "name": "python",
   "nbconvert_exporter": "python",
   "pygments_lexer": "ipython3",
   "version": "3.8.5"
  }
 },
 "nbformat": 4,
 "nbformat_minor": 4
}
