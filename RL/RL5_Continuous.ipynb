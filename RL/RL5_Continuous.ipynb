{
 "cells": [
  {
   "cell_type": "markdown",
   "id": "61a6aae1-8344-4ebf-8b81-df29b3af442c",
   "metadata": {},
   "source": [
    "# Reinforcement Learning, Part 5: Continuous States and Actions\n",
    "\n",
    "So far, our agents have been designed to have a simple memory, entirely made of tables. Most real-world problems, however, require dealing with continuous quantities. Mazes do not come divided in cells, and navigation does not happen in single steps along the four cardinal directions.\n",
    "\n",
    "To deal with this, we need to make a jump from $V$- and $Q$-tables to approximatig $V$- and $Q$-_functions_."
   ]
  },
  {
   "cell_type": "code",
   "execution_count": 10,
   "id": "a3bd24db-79ef-4853-b2a2-8fc86745a003",
   "metadata": {},
   "outputs": [],
   "source": [
    "import random\n",
    "import math\n",
    "import numpy as np\n",
    "from copy import copy\n",
    "import matplotlib.pyplot as plt "
   ]
  },
  {
   "cell_type": "markdown",
   "id": "23ad81f3-99c1-4139-a950-35f4c9f8b719",
   "metadata": {},
   "source": [
    "## A continuous maze\n",
    "\n",
    "We will now create a continuous environment, a maze that is not made of predefined cells but of a continuous 2D space, bounded in both axes in the range (0, 1).\n",
    "\n",
    "The reward (the cheese) is placed in a specific position, (0.75, 0.75). The reward is obtained whenever the agent falls within a distance of < 0.1 from that point. "
   ]
  },
  {
   "cell_type": "code",
   "execution_count": 131,
   "id": "56c25c1d-095d-4b31-9fda-848e1e9f8578",
   "metadata": {},
   "outputs": [],
   "source": [
    "def distance(v1, v2):\n",
    "    \"\"\"2D Euclidean distance\"\"\"\n",
    "    if v1 is None or v2 is None:\n",
    "        return 0.0\n",
    "    else:\n",
    "        x1, y1 = v1\n",
    "        x2, y2 = v2\n",
    "        return math.sqrt((x1 - x2)**2 + (y1 - y2)**2)\n"
   ]
  },
  {
   "cell_type": "markdown",
   "id": "6f53defc-bafb-4336-a2aa-989fc0c28235",
   "metadata": {},
   "source": [
    "Now"
   ]
  },
  {
   "cell_type": "code",
   "execution_count": 132,
   "id": "083c2e86-8649-4638-a76e-e42194447f87",
   "metadata": {},
   "outputs": [],
   "source": [
    "class Maze():\n",
    "    \"\"\"A maze environment\"\"\"\n",
    "\n",
    "    INITIAL_STATE = (0, 0) # Always starts at the topleft corner\n",
    "    CHEESE_POS = (0.75, 0.75)\n",
    "    CHEESE_RAD = 0.1\n",
    "    \n",
    "    def is_reward(self, state):\n",
    "        \"\"\"Determins if we are close enough to the cheese\"\"\"\n",
    "        a = np.array(state)\n",
    "        b = np.array(Maze.CHEESE_POS)\n",
    "        if math.sqrt(np.sum((a-b)**2)) < Maze.CHEESE_RAD:\n",
    "            return True\n",
    "        else:\n",
    "            return False\n",
    "        \n",
    "        \n",
    "    def reward(self, state):\n",
    "        if state is None:\n",
    "            return 0\n",
    "        elif self.is_reward(state):\n",
    "            return 10\n",
    "        else:\n",
    "            return 0\n",
    "        \n",
    "        \n",
    "    def __init__(self):\n",
    "        \"\"\"Inits a maze by loading the grid file\"\"\"\n",
    "        self.state = self.INITIAL_STATE\n",
    "        self.end = False\n",
    "\n",
    "\n",
    "    def state_transition(self, state1, action1):\n",
    "        \"Defines the next state given the current action\"\n",
    "        # If we have reached the cheese, we transition \n",
    "        # to the terminal state\n",
    "        if self.is_reward(state1):\n",
    "            return None\n",
    "        \n",
    "        x1, y1 = state1\n",
    "        dx, dy = action1\n",
    "        \n",
    "        x2 = min(max(0, x1 + dx), 1)\n",
    "        y2 = min(max(0, y1 + dy), 1)\n",
    "                            \n",
    "        return (x2, y2)\n",
    "                    \n",
    "    \n",
    "    def reward_transition(self, state1, action1, state2):\n",
    "        \"\"\"Reward is -1 for bouncing against the walls, and whatever is on the grid otherwise\"\"\"\n",
    "        #if state1 == state2:\n",
    "        #    return -1\n",
    "        if state2 == None:\n",
    "            return 0\n",
    "        else:\n",
    "            if self.is_reward(state2):\n",
    "                return 10\n",
    "            else:\n",
    "                return 0\n",
    "        \n",
    "    \n",
    "    # Quick way to combine State transitions and Reward transitions \n",
    "    def transition(self, action1):\n",
    "        \"\"\"Changes the state following an action\"\"\"\n",
    "        state1 = self.state\n",
    "        state2 = self.state_transition(state1, action1)\n",
    "        reward2 = self.reward_transition(state1, action1, state2)\n",
    "        \n",
    "        self.state = state2\n",
    "        return (state2, reward2) # Returns s_t+1, r_t+1\n",
    "    "
   ]
  },
  {
   "cell_type": "markdown",
   "id": "894ccaae-b0c3-4952-bddf-e1f8cd622511",
   "metadata": {},
   "source": [
    "## State aggregation \n",
    "The easiest method to handle continuous states is called _state aggregation_, and is basically a discretization of the continuous space.\n",
    "Now, the agent"
   ]
  },
  {
   "cell_type": "code",
   "execution_count": 133,
   "id": "16376e15-e267-4c71-8b16-ec4a73d72f82",
   "metadata": {},
   "outputs": [],
   "source": [
    "    \n",
    "class ContinuousTDAgent():\n",
    "    \"\"\"An agent that keeps track of the value of states\"\"\"\n",
    "    def __init__(self, alpha=0.1, gamma=0.9, step=0.1, res=10):\n",
    "        \"\"\"Creates a V-agent\"\"\"\n",
    "        self.step = step\n",
    "        #self.W = [0.0 for x in CENTERS]\n",
    "        self.alpha = alpha         # Learning rate\n",
    "        self.gamma = gamma         # Temporal discounting\n",
    "        self.values = np.zeros((res, res))\n",
    "        self.res = res\n",
    "        \n",
    "    def policy(self, state):\n",
    "        \"\"\"Random policy to explore the maze\"\"\"\n",
    "        angle = random.uniform(0, math.pi * 2)\n",
    "        s = self.step\n",
    "        return (math.sin(angle) * s, math.cos(angle) * s)\n",
    "        \n",
    "    \n",
    "    def td_learning(self, state1, reward1, state2):\n",
    "        \"\"\"Updates the Q-values when given an (s,a) pair, the reward value and a new state\"\"\"\n",
    "        g = self.gamma\n",
    "        a = self.alpha\n",
    "\n",
    "        x1, y1 = state1\n",
    "        n = self.res - 1\n",
    "        vx1 = min(math.floor(self.res * x1), n)\n",
    "        vy1 = min(math.floor(self.res * y1), n)\n",
    "        \n",
    "        v1 = self.values[vx1, vy1]\n",
    "        \n",
    "        v2 = 0\n",
    "        \n",
    "        if state2 is not None:\n",
    "            x2, y2 = state2\n",
    "            vx2 = min(math.floor(self.res * x2), n)\n",
    "            vy2 = min(math.floor(self.res * y2), n)\n",
    "        \n",
    "            v2 = self.values[vx2, vy2]\n",
    "                \n",
    "        rpe = reward1 + g * v2 - v1\n",
    "        self.values[vx1, vy1] += a * rpe\n",
    "\n",
    "    \n",
    "def plot_v_table(agent, ax=None, title=r\"$V$-table\", **kwargs):\n",
    "    \"Plots a matrix-like representation of the V-table of an agent\"\n",
    "    if not ax:\n",
    "        ax = plt.gca()\n",
    "\n",
    "    data = np.zeros((4,4))            \n",
    "            \n",
    "    for s in agent.V.keys():\n",
    "        x, y = s\n",
    "        data[x, y] = agent.V[s]\n",
    "    \n",
    "    # Plot the heatmap\n",
    "    im = ax.imshow(data, **kwargs, cmap=\"viridis\")\n",
    "\n",
    "    # We want to show all ticks...\n",
    "    ax.set_xticks(np.arange(data.shape[1]))\n",
    "    ax.set_yticks(np.arange(data.shape[0]))\n",
    "    ax.set_xticklabels(range(1,5))\n",
    "    ax.set_yticklabels(range(1,5))\n",
    "\n",
    "    # Let the horizontal axes labeling appear on top.\n",
    "    ax.tick_params(top=False, bottom=True,\n",
    "                   labeltop=False, labelbottom=True)\n",
    "\n",
    "    # Turn spines off and create white grid.\n",
    "    for edge, spine in ax.spines.items():\n",
    "        spine.set_visible(False)\n",
    "\n",
    "    ax.set_xticks(np.arange(data.shape[1]+1)-.5, minor=True)\n",
    "    ax.set_yticks(np.arange(data.shape[0]+1)-.5, minor=True)\n",
    "    ax.grid(which=\"minor\", color=\"grey\", linestyle='-', linewidth=2)\n",
    "    ax.tick_params(which=\"minor\", bottom=False, left=False)\n",
    "    ax.set_title(title)\n",
    "    return im"
   ]
  },
  {
   "cell_type": "code",
   "execution_count": 113,
   "id": "f2b2cd97-7e1e-4458-88ec-b27638059ab9",
   "metadata": {},
   "outputs": [],
   "source": [
    "def rl_loop(environment, agent):\n",
    "    \"\"\"A trial ends when the agent gets a reward. The history is returned\"\"\"\n",
    "    state1 = environment.state\n",
    "    reward1 = environment.reward(state1)\n",
    "    state2 = \"Start\"\n",
    "    \n",
    "    history = []\n",
    "    \n",
    "    while state2 != None:\n",
    "        action = agent.policy(state1)\n",
    "        state2, reward2 = environment.transition(action)\n",
    "        history.append(state2)\n",
    "        # Update the V-values for state1\n",
    "        agent.td_learning(state1, reward1, state2)\n",
    "        \n",
    "        state1 = state2\n",
    "        reward1 = reward2\n",
    "\n",
    "    return history\n",
    "\n",
    "    \n",
    "def run_trials(environment, agent, n, collect=True):\n",
    "    \"\"\"Runs N trials\"\"\"\n",
    "    history = []\n",
    "    for j in range(n):\n",
    "        h = rl_loop(environment, agent)\n",
    "        history.append(h)\n",
    "        environment.state = Maze.INITIAL_STATE\n",
    "    \n",
    "    return history    \n",
    "\n",
    "    "
   ]
  },
  {
   "cell_type": "code",
   "execution_count": 129,
   "id": "7a350ba3-552a-48b8-a89a-4e852e865816",
   "metadata": {},
   "outputs": [
    {
     "data": {
      "text/plain": [
       "<matplotlib.image.AxesImage at 0x7f71d23c3430>"
      ]
     },
     "execution_count": 129,
     "metadata": {},
     "output_type": "execute_result"
    },
    {
     "data": {
      "image/png": "[encoded data removed]",
      "text/plain": [
       "<Figure size 432x288 with 1 Axes>"
      ]
     },
     "metadata": {
      "needs_background": "light"
     },
     "output_type": "display_data"
    }
   ],
   "source": [
    "m = Maze()\n",
    "a = ContinuousTDAgent(alpha=0.1, res=20)\n",
    "\n",
    "# Because the agent moves at random, the following instruction can take a variable amount of time to complete\n",
    "h=run_trials(m, a, 1000)\n",
    "a.values\n",
    "plt.imshow(a.values)"
   ]
  },
  {
   "cell_type": "code",
   "execution_count": null,
   "id": "442a967c-9226-4a85-8eff-a181ea8498c5",
   "metadata": {},
   "outputs": [],
   "source": [
    "print(t[1])\n",
    "xs = [j[0] for j in h[:-1]]\n",
    "ys = [j[1] for j in h[:-1]]\n",
    "plt.plot(xs, ys)"
   ]
  }
 ],
 "metadata": {
  "kernelspec": {
   "display_name": "Python 3 (ipykernel)",
   "language": "python",
   "name": "python3"
  },
  "language_info": {
   "codemirror_mode": {
    "name": "ipython",
    "version": 3
   },
   "file_extension": ".py",
   "mimetype": "text/x-python",
   "name": "python",
   "nbconvert_exporter": "python",
   "pygments_lexer": "ipython3",
   "version": "3.8.11"
  }
 },
 "nbformat": 4,
 "nbformat_minor": 5
}
