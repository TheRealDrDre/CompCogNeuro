{
 "cells": [
  {
   "cell_type": "markdown",
   "metadata": {},
   "source": [
    "# Reinforcement Learning Code, Part 2: Agents that act\n",
    "\n",
    "\n",
    "Here we are going to implement a RL agent interacting with a simple environment. In this case, our agent would be a simulated RL mouse, and the environment a 2D maze.\n",
    "\n",
    "## Defining the environment\n",
    "\n",
    "To define the environment, we need to define the set of possible states $S = {s_1, s_2 ... s_N}$, the transition function $P_{s,s'}^{a}$, and the reward transition function $R_{s,s'}^{a}$.\n",
    "\n",
    "In our case, the environment just consists of a 4x4 grid. Our hypothetical agent perceives only one cell at any time---the cell where it is.  Therefore, our states correspond to the sixteen position of the maze, which we can indicate with the coordinates $(0, 0), (0, 1)... (0, 3), (1, 0) ... (3, 3)$.\n",
    "\n",
    "An environment is characterized by two functions:\n",
    "\n",
    "* The state transition probability function $P(s, a, s')$, which the probability of transitioning to a possible state $s'$ when action $a$ is applied during state $s$; and\n",
    "\n",
    "* The reward transition probability function $R(s, a, s')$, which is the probability of receiving a reward $r$ when action $a$ is applied to state $s$ and the environment moves to state $s'\n",
    "\n",
    "In our simple cases, both $P(s,a,s')$ and $R(s,a,s')$ will be simplified to deterministic functions.\n"
   ]
  },
  {
   "cell_type": "code",
   "execution_count": 1,
   "metadata": {},
   "outputs": [],
   "source": [
    "import random\n",
    "import numpy as np\n",
    "from copy import copy\n",
    "import matplotlib.pyplot as plt \n",
    "\n",
    "class Maze():\n",
    "    \"\"\"A maze environment\"\"\"\n",
    "\n",
    "    ACTIONS = (\"up\", \"down\", \"left\", \"right\") # List of actions\n",
    "    INITIAL_STATE = (0, 0) # Always starts at the topleft corner\n",
    "    \n",
    "    def __init__(self, fname = \"grid.txt\"):\n",
    "        \"\"\"Inits a maze by loading the grid file\"\"\"\n",
    "        self.grid = np.loadtxt(fname)\n",
    "        self.state = self.INITIAL_STATE\n",
    "        self.end = False\n",
    "\n",
    "\n",
    "    def state_transition(self, state1, action1):\n",
    "        \"Defines the next state gien the \"\n",
    "        s = state1\n",
    "        state2 = copy(state1)\n",
    "        \n",
    "        if action1 in self.ACTIONS:\n",
    "            if action1 == \"up\":\n",
    "                if s[0] > 0:\n",
    "                    state2 = (s[0] - 1, s[1])\n",
    "            \n",
    "            elif action1 == \"left\":\n",
    "                if s[1] > 0:\n",
    "                    state2 = (s[0], s[1] - 1)\n",
    "            \n",
    "            elif action1 == \"down\":\n",
    "                if s[0] < (self.grid.shape[0] - 1):\n",
    "                    state2 = (s[0] + 1, s[1])\n",
    "\n",
    "            elif action1 == \"right\":\n",
    "                if s[1] < (self.grid.shape[1] - 1):\n",
    "                    state2 = (s[0], s[1] + 1)\n",
    "                    \n",
    "        return state2\n",
    "                    \n",
    "    \n",
    "    def reward_transition(self, state1, action1, state2):\n",
    "        \"\"\"Reward is -1 for bouncing against the walls, and whatever is on the grid otherwise\"\"\"\n",
    "        if state1 == state2:\n",
    "            return -1\n",
    "        else:\n",
    "            return self.grid[state2[0], state2[1]]\n",
    "        \n",
    "    \n",
    "    # Quick way to combine State transitions and Reward transitions \n",
    "    def transition(self, action1):\n",
    "        \"\"\"Changes the state following an action\"\"\"\n",
    "        state1 = self.state\n",
    "        state2 = self.state_transition(state1, action1)\n",
    "        reward2 = self.reward_transition(state1, action1, state2)\n",
    "        \n",
    "        self.state = state2\n",
    "        return (state2, reward2) # Returns s_t+1, r_t+1\n",
    "\n",
    "    \n",
    "    def print_state(self):\n",
    "        \"Prints a text representation of the maze (with the agent position)\"\n",
    "        bar = \"-\" * ( 4 * self.grid.shape[1] + 1)\n",
    "        for i in range(self.grid.shape[0]):\n",
    "            row = \"|\"\n",
    "            for j in range(self.grid.shape[1]):\n",
    "                cell = \" \"\n",
    "                if i == self.state[0] and j == self.state[1]:\n",
    "                    cell = \"*\"\n",
    "                row += (\" %s |\" % cell)\n",
    "            print(bar)\n",
    "            print(row)\n",
    "        print(bar)"
   ]
  },
  {
   "cell_type": "markdown",
   "metadata": {},
   "source": [
    "## Testing the maze\n",
    "The maze is simple but functional. It is easy to create a maze, check the available actions, apply a few actions, and so on. Let's check that our environment works."
   ]
  },
  {
   "cell_type": "code",
   "execution_count": 2,
   "metadata": {},
   "outputs": [
    {
     "name": "stdout",
     "output_type": "stream",
     "text": [
      "-----------------\n",
      "| * |   |   |   |\n",
      "-----------------\n",
      "|   |   |   |   |\n",
      "-----------------\n",
      "|   |   |   |   |\n",
      "-----------------\n",
      "|   |   |   |   |\n",
      "-----------------\n",
      "State after illegal action: (0, 0)\n",
      "Reward after illegal action: -1\n",
      "State after legal action: (1, 0)\n",
      "Reward after legal action: 0.0\n"
     ]
    }
   ],
   "source": [
    "m = Maze()\n",
    "m.print_state()\n",
    "state_after_bad_action = m.state_transition(m.state, \"up\")  # Illigal action: bounces!\n",
    "state_after_good_action = m.state_transition(m.state, \"down\") # Legal action: Goes down\n",
    "\n",
    "print(\"State after illegal action: %s\" % (state_after_bad_action,))\n",
    "print(\"Reward after illegal action: %s\" % (m.reward_transition(m.state, \"up\", state_after_bad_action)))\n",
    "\n",
    "print(\"State after legal action: %s\" % (state_after_good_action,))\n",
    "print(\"Reward after legal action: %s\" % (m.reward_transition(m.state, \"down\", state_after_good_action)))\n",
    "\n"
   ]
  },
  {
   "cell_type": "markdown",
   "metadata": {},
   "source": [
    "And, finally, we can easily navigate in our virtual maze by executing the appropriate actions:"
   ]
  },
  {
   "cell_type": "code",
   "execution_count": 3,
   "metadata": {},
   "outputs": [
    {
     "data": {
      "text/plain": [
       "((1, 0), 0.0)"
      ]
     },
     "execution_count": 3,
     "metadata": {},
     "output_type": "execute_result"
    }
   ],
   "source": [
    "m.transition(\"down\")"
   ]
  },
  {
   "cell_type": "markdown",
   "metadata": {},
   "source": [
    "Note how the ```Maze``` object returns two values at the end of each action execution, the new state $s_{t+1}$ and the associated reward $r_{t+1}$. If the ```down``` action was executed with the original maze layout of the ```grid.txt``` file, case, the two values are $s_{t+1} = $ ```(3, 0)``` and $r_{t+1} = $ ```0.0```. We can also execute more actions, and see what happens after a few movements:"
   ]
  },
  {
   "cell_type": "code",
   "execution_count": 4,
   "metadata": {},
   "outputs": [
    {
     "name": "stdout",
     "output_type": "stream",
     "text": [
      "-----------------\n",
      "|   |   |   |   |\n",
      "-----------------\n",
      "|   |   |   |   |\n",
      "-----------------\n",
      "|   |   |   |   |\n",
      "-----------------\n",
      "|   | * |   |   |\n",
      "-----------------\n"
     ]
    }
   ],
   "source": [
    "m.transition(\"down\")\n",
    "m.transition(\"down\")\n",
    "m.transition(\"right\")\n",
    "m.print_state()\n"
   ]
  },
  {
   "cell_type": "markdown",
   "metadata": {},
   "source": [
    "## Creating a Q-Agent\n",
    "Now we can create our own very fantastic agents! As an example, we will create a $Q$-learning agent that interacts with the ``` Maze``` world. The $Q$-table should contain $16 \\times 4 = 64$ different state-action pairs; rather than filling it up right away, we will fill it up as we encounter new state-action pairs, assuming that any previously unencountered state has a value of $Q = 0$ "
   ]
  },
  {
   "cell_type": "code",
   "execution_count": 5,
   "metadata": {},
   "outputs": [],
   "source": [
    "import random\n",
    "import numpy as np\n",
    "\n",
    "class Agent():\n",
    "    def __init__(self, actions=Maze.ACTIONS, epsilon=0.1, alpha=0.1, gamma=0.9):\n",
    "        \"\"\"Creates a Q-agent\"\"\"\n",
    "        self.Q = {}    ## Initial dictionary of (s, a) pairs. At the beginning, it's emtpy.\n",
    "\n",
    "        self.epsilon = epsilon     # Epsilon for e-greey policy\n",
    "        self.alpha = alpha         # Learning rate\n",
    "        self.gamma = gamma         # Temporal discounting\n",
    "        self.actions = actions     # Set of possible actions (provide those of Maze.ACTIONS)\n",
    "\n",
    "\n",
    "    def policy(self, state):\n",
    "        \"\"\"Selects an action with a epsilon-greedy policy\"\"\"\n",
    "        if random.random() < self.epsilon:\n",
    "            action = random.choice(self.actions)\n",
    "        else:\n",
    "            q = [self.Q[(state, a)] if (state, a) in self.Q.keys() else 0.0 for a in self.actions]\n",
    "            maxQ = max(q)\n",
    "            count = q.count(maxQ)\n",
    "            if count > 1:\n",
    "                best = [i for i in range(len(self.actions)) if q[i] == maxQ]\n",
    "                i = random.choice(best)\n",
    "            else:\n",
    "                i = q.index(maxQ)\n",
    "\n",
    "            action = self.actions[i]\n",
    "        return action\n",
    "\n",
    "    \n",
    "    def learnQ(self, state1, action1, reward2, state2, action2):\n",
    "        \"\"\"Updates the Q-values when given an (s,a) pair, the reward value and a new state\"\"\"\n",
    "        g = self.gamma\n",
    "        a = self.alpha\n",
    "        \n",
    "        q1 = 0.0\n",
    "        \n",
    "        if (state1, action1) in self.Q.keys():\n",
    "            q1 = self.Q[(state1, action1)]\n",
    "        \n",
    "        max_q2 = max([self.Q[(state2, a)] if (state2, a) in self.Q.keys() else 0.0 for a in self.actions])\n",
    "        \n",
    "        rpe = reward2 + g * max_q2 - q1\n",
    "        #print(\"s1 = %s, a1 = %s, s2 = %s, q1 = %.4f, r2 = %.4f, q2 = %.4f\" % (state1, action1, state2, q1, reward2, max_q2))\n",
    "        q1 += a * rpe\n",
    "        #print(\"new q1 = %.4f\" % (q1,))\n",
    "        self.Q[(state1, action1)] = q1\n",
    "\n",
    "            \n",
    "    def calculateV(self, task):\n",
    "        \"\"\"Returns a representation of the best Q values in every states\"\"\"\n",
    "        v = np.zeros(task.grid.shape)\n",
    "        for i in range(v.shape[0]):\n",
    "            for j in range(v.shape[1]):\n",
    "                maxq = max([self.getQ((i, j), a) for a in self.actions])\n",
    "                v[i,j] =maxq\n",
    "        return v\n",
    "    \n",
    "    def visualizeQ(self):\n",
    "        \"\"\"Visualizes the Q tables, one per action\"\"\"\n",
    "        for a in self.actions:\n",
    "            # Create the corresponding state table\n",
    "            mat = np.zeros((4,4))\n",
    "            states = [x for x in self.Q.keys() if x[1] == a]\n",
    "            \n",
    "            for s in states:\n",
    "                row, col = s[0]\n",
    "                mat[row, col] = self.Q[s]\n",
    "            \n",
    "            # Show the Q-table as a heatmap\n",
    "            plt.imshow(mat, interpolation = \"none\", vmin=-1, vmax=10, cmap='jet')\n",
    "            plt.title(\"Q-Table for action '%s'\" % a.upper())\n",
    "            plt.show()\n",
    "\n",
    "        "
   ]
  },
  {
   "cell_type": "markdown",
   "metadata": {},
   "source": [
    "## Interaction between Environment and Agent\n",
    "Now, two functions to run multiple trials."
   ]
  },
  {
   "cell_type": "code",
   "execution_count": 6,
   "metadata": {},
   "outputs": [],
   "source": [
    "def run_trial(environment, agent):\n",
    "    \"\"\"A trial ends when the agent gets a reward. The history is returned\"\"\"\n",
    "    state1 = environment.state\n",
    "    action1 = agent.policy(state1)\n",
    "    reward2 = 0.0\n",
    "    history = [state1]\n",
    "    while reward2 != 10:\n",
    "        state2, reward2 = environment.transition(action1)\n",
    "        action2 = agent.policy(state2)\n",
    "        \n",
    "        # Save the states visited\n",
    "        history.append(state2)\n",
    "        \n",
    "        # Update the Q-values for state1, action1\n",
    "        agent.learnQ(state1, action1, reward2, state2, action2)\n",
    "        \n",
    "        state1 = state2\n",
    "        action1 = action2\n",
    "        \n",
    "    return history\n",
    "\n",
    "    \n",
    "def run_trials(environment, agent, n, collect=True):\n",
    "    \"\"\"Runs N trials\"\"\"\n",
    "    history = []\n",
    "    for j in range(n):\n",
    "        h = run_trial(environment, agent)\n",
    "        history += h\n",
    "        environment.state = Maze.INITIAL_STATE\n",
    "    \n",
    "    return history\n",
    "        \n",
    "def visualize_history(history):\n",
    "    mat = np.zeros((4,4))            \n",
    "    for s in history:\n",
    "        row, col = s\n",
    "        mat[row, col] += 1\n",
    "    \n",
    "    mat /= np.sum(mat)\n",
    "    mat *= 5  # min number of moves\n",
    "    \n",
    "    plt.imshow(mat, interpolation = \"none\", vmin=0, vmax=1, cmap='jet')\n",
    "    plt.title(\"Preferred path\")\n",
    "    plt.show()\n",
    "    "
   ]
  },
  {
   "cell_type": "markdown",
   "metadata": {},
   "source": [
    "## Testing the agent\n",
    "\n",
    "Here a few tests."
   ]
  },
  {
   "cell_type": "code",
   "execution_count": 7,
   "metadata": {},
   "outputs": [
    {
     "data": {
      "image/png": "[encoded data removed]",
      "text/plain": [
       "<Figure size 432x288 with 1 Axes>"
      ]
     },
     "metadata": {},
     "output_type": "display_data"
    },
    {
     "data": {
      "image/png": "[encoded data removed]",
      "text/plain": [
       "<Figure size 432x288 with 1 Axes>"
      ]
     },
     "metadata": {},
     "output_type": "display_data"
    },
    {
     "data": {
      "image/png": "[encoded data removed]",
      "text/plain": [
       "<Figure size 432x288 with 1 Axes>"
      ]
     },
     "metadata": {},
     "output_type": "display_data"
    },
    {
     "data": {
      "image/png": "[encoded data removed]",
      "text/plain": [
       "<Figure size 432x288 with 1 Axes>"
      ]
     },
     "metadata": {},
     "output_type": "display_data"
    },
    {
     "data": {
      "image/png": "[encoded data removed]",
      "text/plain": [
       "<Figure size 432x288 with 1 Axes>"
      ]
     },
     "metadata": {},
     "output_type": "display_data"
    }
   ],
   "source": [
    "m = Maze()\n",
    "a = Agent()\n",
    "run_trials(m, a, 10000)\n",
    "a.visualizeQ()\n",
    "h = run_trials(m, a, 10)\n",
    "visualize_history(h)"
   ]
  },
  {
   "cell_type": "markdown",
   "metadata": {},
   "source": [
    "## How are the $Q$ values changing?"
   ]
  },
  {
   "cell_type": "code",
   "execution_count": 9,
   "metadata": {},
   "outputs": [],
   "source": [
    "def run_trials_for_altair(environment, agent, n, collect=True):\n",
    "    \"\"\"Runs N trials\"\"\"\n",
    "    state_action = {} \n",
    "    # init all state_actions\n",
    "    for i in range(4):\n",
    "        for j in range(4):\n",
    "            for direction in ['down', 'right', 'up', 'left']:\n",
    "                state_action[str(((i, j), direction))] = [0] \n",
    "\n",
    "    for j in range(n):\n",
    "        run_trial(environment, agent)\n",
    "        all_keys = set(state_action.keys())\n",
    "        # keys with new values\n",
    "        for key, val in agent.Q.items():\n",
    "            state_action[str(key)].append(val)\n",
    "            all_keys.remove(str(key))\n",
    "        # keys without new values\n",
    "        for key in all_keys:\n",
    "            state_action[str(key)].append(state_action[str(key)][-1])\n",
    "        environment.state = Maze.INITIAL_STATE\n",
    "        \n",
    "    import pandas as pd\n",
    "    location = []\n",
    "    run = []\n",
    "    q_value = []\n",
    "    for loc in state_action.keys():\n",
    "        for i in range(len(state_action[loc])):\n",
    "            location.append(loc)\n",
    "            run.append(i)\n",
    "            q_value.append(state_action[loc][i])\n",
    "    df = pd.DataFrame({\"location\":location, \"run\":run, \"q_value\":q_value})\n",
    "    return df    "
   ]
  },
  {
   "cell_type": "code",
   "execution_count": 10,
   "metadata": {},
   "outputs": [],
   "source": [
    "m = Maze()\n",
    "a = Agent()\n",
    "run_trials(m, a, 1)\n",
    "m.state\n",
    "a.Q\n",
    "df = run_trials(m, a, 100)"
   ]
  },
  {
   "cell_type": "code",
   "execution_count": 11,
   "metadata": {},
   "outputs": [
    {
     "data": {
      "application/vnd.vegalite.v2+json": {
       "$schema": "https://vega.github.io/schema/vega-lite/v2.6.0.json",
       "config": {
        "view": {
         "height": 300,
         "width": 400
        }
       },
       "data": {
        "name": "data-1233b2ec027ce4aea452bb00ce60239c"
       },
       "datasets": {
        "data-1233b2ec027ce4aea452bb00ce60239c": [
         {
          "location": "((0, 0), 'down')",
          "q_value": 0,
          "run": 0
         },
         {
          "location": "((0, 0), 'down')",
          "q_value": 0,
          "run": 1
         },
         {
          "location": "((0, 0), 'down')",
          "q_value": 0,
          "run": 2
         },
         {
          "location": "((0, 0), 'down')",
          "q_value": 0,
          "run": 3
         },
         {
          "location": "((0, 0), 'down')",
          "q_value": 0,
          "run": 4
         },
         {
          "location": "((0, 0), 'down')",
          "q_value": 0,
          "run": 5
         },
         {
          "location": "((0, 0), 'down')",
          "q_value": 0,
          "run": 6
         },
         {
          "location": "((0, 0), 'down')",
          "q_value": 0,
          "run": 7
         },
         {
          "location": "((0, 0), 'down')",
          "q_value": 0,
          "run": 8
         },
         {
          "location": "((0, 0), 'down')",
          "q_value": 0,
          "run": 9
         },
         {
          "location": "((0, 0), 'down')",
          "q_value": 0,
          "run": 10
         },
         {
          "location": "((0, 0), 'down')",
          "q_value": 0,
          "run": 11
         },
         {
          "location": "((0, 0), 'down')",
          "q_value": 0,
          "run": 12
         },
         {
          "location": "((0, 0), 'down')",
          "q_value": 0,
          "run": 13
         },
         {
          "location": "((0, 0), 'down')",
          "q_value": 0,
          "run": 14
         },
         {
          "location": "((0, 0), 'down')",
          "q_value": 0,
          "run": 15
         },
         {
          "location": "((0, 0), 'down')",
          "q_value": 0,
          "run": 16
         },
         {
          "location": "((0, 0), 'down')",
          "q_value": 0,
          "run": 17
         },
         {
          "location": "((0, 0), 'down')",
          "q_value": 0,
          "run": 18
         },
         {
          "location": "((0, 0), 'down')",
          "q_value": 0,
          "run": 19
         },
         {
          "location": "((0, 0), 'down')",
          "q_value": 0,
          "run": 20
         },
         {
          "location": "((0, 0), 'down')",
          "q_value": 0,
          "run": 21
         },
         {
          "location": "((0, 0), 'down')",
          "q_value": 0,
          "run": 22
         },
         {
          "location": "((0, 0), 'down')",
          "q_value": 0,
          "run": 23
         },
         {
          "location": "((0, 0), 'down')",
          "q_value": 0,
          "run": 24
         },
         {
          "location": "((0, 0), 'down')",
          "q_value": 0,
          "run": 25
         },
         {
          "location": "((0, 0), 'down')",
          "q_value": 0,
          "run": 26
         },
         {
          "location": "((0, 0), 'down')",
          "q_value": 0,
          "run": 27
         },
         {
          "location": "((0, 0), 'down')",
          "q_value": 0,
          "run": 28
         },
         {
          "location": "((0, 0), 'down')",
          "q_value": 0,
          "run": 29
         },
         {
          "location": "((0, 0), 'down')",
          "q_value": 0,
          "run": 30
         },
         {
          "location": "((0, 0), 'down')",
          "q_value": 0,
          "run": 31
         },
         {
          "location": "((0, 0), 'down')",
          "q_value": 0,
          "run": 32
         },
         {
          "location": "((0, 0), 'down')",
          "q_value": 0,
          "run": 33
         },
         {
          "location": "((0, 0), 'down')",
          "q_value": 0,
          "run": 34
         },
         {
          "location": "((0, 0), 'down')",
          "q_value": 0,
          "run": 35
         },
         {
          "location": "((0, 0), 'down')",
          "q_value": 0,
          "run": 36
         },
         {
          "location": "((0, 0), 'down')",
          "q_value": 0,
          "run": 37
         },
         {
          "location": "((0, 0), 'down')",
          "q_value": 0,
          "run": 38
         },
         {
          "location": "((0, 0), 'down')",
          "q_value": 0,
          "run": 39
         },
         {
          "location": "((0, 0), 'down')",
          "q_value": 0,
          "run": 40
         },
         {
          "location": "((0, 0), 'down')",
          "q_value": 0,
          "run": 41
         },
         {
          "location": "((0, 0), 'down')",
          "q_value": 0,
          "run": 42
         },
         {
          "location": "((0, 0), 'down')",
          "q_value": 0,
          "run": 43
         },
         {
          "location": "((0, 0), 'down')",
          "q_value": 0,
          "run": 44
         },
         {
          "location": "((0, 0), 'down')",
          "q_value": 0,
          "run": 45
         },
         {
          "location": "((0, 0), 'down')",
          "q_value": 0,
          "run": 46
         },
         {
          "location": "((0, 0), 'down')",
          "q_value": 0,
          "run": 47
         },
         {
          "location": "((0, 0), 'down')",
          "q_value": 0,
          "run": 48
         },
         {
          "location": "((0, 0), 'down')",
          "q_value": 0,
          "run": 49
         },
         {
          "location": "((0, 0), 'down')",
          "q_value": 0,
          "run": 50
         },
         {
          "location": "((0, 0), 'down')",
          "q_value": 0,
          "run": 51
         },
         {
          "location": "((0, 0), 'down')",
          "q_value": 0,
          "run": 52
         },
         {
          "location": "((0, 0), 'down')",
          "q_value": 0,
          "run": 53
         },
         {
          "location": "((0, 0), 'down')",
          "q_value": 0,
          "run": 54
         },
         {
          "location": "((0, 0), 'down')",
          "q_value": 0,
          "run": 55
         },
         {
          "location": "((0, 0), 'down')",
          "q_value": 0,
          "run": 56
         },
         {
          "location": "((0, 0), 'down')",
          "q_value": 0,
          "run": 57
         },
         {
          "location": "((0, 0), 'down')",
          "q_value": 0,
          "run": 58
         },
         {
          "location": "((0, 0), 'down')",
          "q_value": 0,
          "run": 59
         },
         {
          "location": "((0, 0), 'down')",
          "q_value": 0,
          "run": 60
         },
         {
          "location": "((0, 0), 'down')",
          "q_value": 0,
          "run": 61
         },
         {
          "location": "((0, 0), 'down')",
          "q_value": 0,
          "run": 62
         },
         {
          "location": "((0, 0), 'down')",
          "q_value": 0,
          "run": 63
         },
         {
          "location": "((0, 0), 'down')",
          "q_value": 0,
          "run": 64
         },
         {
          "location": "((0, 0), 'down')",
          "q_value": 0,
          "run": 65
         },
         {
          "location": "((0, 0), 'down')",
          "q_value": 0,
          "run": 66
         },
         {
          "location": "((0, 0), 'down')",
          "q_value": 0,
          "run": 67
         },
         {
          "location": "((0, 0), 'down')",
          "q_value": 0,
          "run": 68
         },
         {
          "location": "((0, 0), 'down')",
          "q_value": 0,
          "run": 69
         },
         {
          "location": "((0, 0), 'down')",
          "q_value": 0,
          "run": 70
         },
         {
          "location": "((0, 0), 'down')",
          "q_value": 0,
          "run": 71
         },
         {
          "location": "((0, 0), 'down')",
          "q_value": 0,
          "run": 72
         },
         {
          "location": "((0, 0), 'down')",
          "q_value": 0,
          "run": 73
         },
         {
          "location": "((0, 0), 'down')",
          "q_value": 0,
          "run": 74
         },
         {
          "location": "((0, 0), 'down')",
          "q_value": 0,
          "run": 75
         },
         {
          "location": "((0, 0), 'down')",
          "q_value": 0,
          "run": 76
         },
         {
          "location": "((0, 0), 'down')",
          "q_value": 0,
          "run": 77
         },
         {
          "location": "((0, 0), 'down')",
          "q_value": 0,
          "run": 78
         },
         {
          "location": "((0, 0), 'down')",
          "q_value": 0,
          "run": 79
         },
         {
          "location": "((0, 0), 'down')",
          "q_value": 0,
          "run": 80
         },
         {
          "location": "((0, 0), 'down')",
          "q_value": 0,
          "run": 81
         },
         {
          "location": "((0, 0), 'down')",
          "q_value": 0,
          "run": 82
         },
         {
          "location": "((0, 0), 'down')",
          "q_value": 0,
          "run": 83
         },
         {
          "location": "((0, 0), 'down')",
          "q_value": 0,
          "run": 84
         },
         {
          "location": "((0, 0), 'down')",
          "q_value": 0,
          "run": 85
         },
         {
          "location": "((0, 0), 'down')",
          "q_value": 0,
          "run": 86
         },
         {
          "location": "((0, 0), 'down')",
          "q_value": 0,
          "run": 87
         },
         {
          "location": "((0, 0), 'down')",
          "q_value": 0,
          "run": 88
         },
         {
          "location": "((0, 0), 'down')",
          "q_value": 0,
          "run": 89
         },
         {
          "location": "((0, 0), 'down')",
          "q_value": 0,
          "run": 90
         },
         {
          "location": "((0, 0), 'down')",
          "q_value": 0,
          "run": 91
         },
         {
          "location": "((0, 0), 'down')",
          "q_value": 0,
          "run": 92
         },
         {
          "location": "((0, 0), 'down')",
          "q_value": 0,
          "run": 93
         },
         {
          "location": "((0, 0), 'down')",
          "q_value": 0,
          "run": 94
         },
         {
          "location": "((0, 0), 'down')",
          "q_value": 0,
          "run": 95
         },
         {
          "location": "((0, 0), 'down')",
          "q_value": 0,
          "run": 96
         },
         {
          "location": "((0, 0), 'down')",
          "q_value": 0,
          "run": 97
         },
         {
          "location": "((0, 0), 'down')",
          "q_value": 0,
          "run": 98
         },
         {
          "location": "((0, 0), 'down')",
          "q_value": 0,
          "run": 99
         },
         {
          "location": "((0, 0), 'down')",
          "q_value": 0,
          "run": 100
         },
         {
          "location": "((0, 0), 'right')",
          "q_value": 0,
          "run": 0
         },
         {
          "location": "((0, 0), 'right')",
          "q_value": 0,
          "run": 1
         },
         {
          "location": "((0, 0), 'right')",
          "q_value": 0,
          "run": 2
         },
         {
          "location": "((0, 0), 'right')",
          "q_value": 0,
          "run": 3
         },
         {
          "location": "((0, 0), 'right')",
          "q_value": 0,
          "run": 4
         },
         {
          "location": "((0, 0), 'right')",
          "q_value": 0.0007290000000000002,
          "run": 5
         },
         {
          "location": "((0, 0), 'right')",
          "q_value": 0.00394389,
          "run": 6
         },
         {
          "location": "((0, 0), 'right')",
          "q_value": 0.011384064000000001,
          "run": 7
         },
         {
          "location": "((0, 0), 'right')",
          "q_value": 0.024670089000000006,
          "run": 8
         },
         {
          "location": "((0, 0), 'right')",
          "q_value": 0.04523685570000001,
          "run": 9
         },
         {
          "location": "((0, 0), 'right')",
          "q_value": 0.07429339237500002,
          "run": 10
         },
         {
          "location": "((0, 0), 'right')",
          "q_value": 0.11280298898160004,
          "run": 11
         },
         {
          "location": "((0, 0), 'right')",
          "q_value": 0.16147849921956006,
          "run": 12
         },
         {
          "location": "((0, 0), 'right')",
          "q_value": 0.2207887018805701,
          "run": 13
         },
         {
          "location": "((0, 0), 'right')",
          "q_value": 0.2909724416960986,
          "run": 14
         },
         {
          "location": "((0, 0), 'right')",
          "q_value": 0.44503492955111934,
          "run": 15
         },
         {
          "location": "((0, 0), 'right')",
          "q_value": 0.5295646776722003,
          "run": 16
         },
         {
          "location": "((0, 0), 'right')",
          "q_value": 0.6252422867565837,
          "run": 17
         },
         {
          "location": "((0, 0), 'right')",
          "q_value": 0.7315315247891253,
          "run": 18
         },
         {
          "location": "((0, 0), 'right')",
          "q_value": 0.847788158417501,
          "run": 19
         },
         {
          "location": "((0, 0), 'right')",
          "q_value": 0.973282282989322,
          "run": 20
         },
         {
          "location": "((0, 0), 'right')",
          "q_value": 1.1072192307965991,
          "run": 21
         },
         {
          "location": "((0, 0), 'right')",
          "q_value": 1.250651720582915,
          "run": 22
         },
         {
          "location": "((0, 0), 'right')",
          "q_value": 1.4021434052253852,
          "run": 23
         },
         {
          "location": "((0, 0), 'right')",
          "q_value": 1.5603586679120085,
          "run": 24
         },
         {
          "location": "((0, 0), 'right')",
          "q_value": 1.7240571349819902,
          "run": 25
         },
         {
          "location": "((0, 0), 'right')",
          "q_value": 1.892089135645576,
          "run": 26
         },
         {
          "location": "((0, 0), 'right')",
          "q_value": 2.0433179362428033,
          "run": 27
         },
         {
          "location": "((0, 0), 'right')",
          "q_value": 2.1994977203121473,
          "run": 28
         },
         {
          "location": "((0, 0), 'right')",
          "q_value": 2.3595332267886864,
          "run": 29
         },
         {
          "location": "((0, 0), 'right')",
          "q_value": 2.5224051159091863,
          "run": 30
         },
         {
          "location": "((0, 0), 'right')",
          "q_value": 2.6871703895413734,
          "run": 31
         },
         {
          "location": "((0, 0), 'right')",
          "q_value": 2.8529619740493093,
          "run": 32
         },
         {
          "location": "((0, 0), 'right')",
          "q_value": 3.305478238419462,
          "run": 33
         },
         {
          "location": "((0, 0), 'right')",
          "q_value": 3.444087764950408,
          "run": 34
         },
         {
          "location": "((0, 0), 'right')",
          "q_value": 3.584858044881097,
          "run": 35
         },
         {
          "location": "((0, 0), 'right')",
          "q_value": 3.7267418041618092,
          "run": 36
         },
         {
          "location": "((0, 0), 'right')",
          "q_value": 3.869469810023738,
          "run": 37
         },
         {
          "location": "((0, 0), 'right')",
          "q_value": 3.869469810023738,
          "run": 38
         },
         {
          "location": "((0, 0), 'right')",
          "q_value": 4.012054937632902,
          "run": 39
         },
         {
          "location": "((0, 0), 'right')",
          "q_value": 4.153657236452428,
          "run": 40
         },
         {
          "location": "((0, 0), 'right')",
          "q_value": 4.293566722651495,
          "run": 41
         },
         {
          "location": "((0, 0), 'right')",
          "q_value": 4.431188088167549,
          "run": 42
         },
         {
          "location": "((0, 0), 'right')",
          "q_value": 4.566027102231244,
          "run": 43
         },
         {
          "location": "((0, 0), 'right')",
          "q_value": 4.697678509953511,
          "run": 44
         },
         {
          "location": "((0, 0), 'right')",
          "q_value": 4.825815257353722,
          "run": 45
         },
         {
          "location": "((0, 0), 'right')",
          "q_value": 4.950178893558912,
          "run": 46
         },
         {
          "location": "((0, 0), 'right')",
          "q_value": 5.070571019323516,
          "run": 47
         },
         {
          "location": "((0, 0), 'right')",
          "q_value": 5.1868456669312994,
          "run": 48
         },
         {
          "location": "((0, 0), 'right')",
          "q_value": 5.298902510308399,
          "run": 49
         },
         {
          "location": "((0, 0), 'right')",
          "q_value": 5.406680816107493,
          "run": 50
         },
         {
          "location": "((0, 0), 'right')",
          "q_value": 5.510154056881666,
          "run": 51
         },
         {
          "location": "((0, 0), 'right')",
          "q_value": 5.609325116477246,
          "run": 52
         },
         {
          "location": "((0, 0), 'right')",
          "q_value": 5.7042220256293,
          "run": 53
         },
         {
          "location": "((0, 0), 'right')",
          "q_value": 5.7948941726048755,
          "run": 54
         },
         {
          "location": "((0, 0), 'right')",
          "q_value": 5.881408939746741,
          "run": 55
         },
         {
          "location": "((0, 0), 'right')",
          "q_value": 5.963848722042892,
          "run": 56
         },
         {
          "location": "((0, 0), 'right')",
          "q_value": 6.042308288485682,
          "run": 57
         },
         {
          "location": "((0, 0), 'right')",
          "q_value": 6.116892451075438,
          "run": 58
         },
         {
          "location": "((0, 0), 'right')",
          "q_value": 6.1877140099404,
          "run": 59
         },
         {
          "location": "((0, 0), 'right')",
          "q_value": 6.2548919462507175,
          "run": 60
         },
         {
          "location": "((0, 0), 'right')",
          "q_value": 6.31854983745276,
          "run": 61
         },
         {
          "location": "((0, 0), 'right')",
          "q_value": 6.378814471887062,
          "run": 62
         },
         {
          "location": "((0, 0), 'right')",
          "q_value": 6.435814642118203,
          "run": 63
         },
         {
          "location": "((0, 0), 'right')",
          "q_value": 6.489680098331563,
          "run": 64
         },
         {
          "location": "((0, 0), 'right')",
          "q_value": 6.540540644969078,
          "run": 65
         },
         {
          "location": "((0, 0), 'right')",
          "q_value": 6.588525365408863,
          "run": 66
         },
         {
          "location": "((0, 0), 'right')",
          "q_value": 6.6337619609632705,
          "run": 67
         },
         {
          "location": "((0, 0), 'right')",
          "q_value": 6.676376191795195,
          "run": 68
         },
         {
          "location": "((0, 0), 'right')",
          "q_value": 6.716491408549238,
          "run": 69
         },
         {
          "location": "((0, 0), 'right')",
          "q_value": 6.7542281645767535,
          "run": 70
         },
         {
          "location": "((0, 0), 'right')",
          "q_value": 6.7897038996138,
          "run": 71
         },
         {
          "location": "((0, 0), 'right')",
          "q_value": 6.823032686659409,
          "run": 72
         },
         {
          "location": "((0, 0), 'right')",
          "q_value": 6.854325034607464,
          "run": 73
         },
         {
          "location": "((0, 0), 'right')",
          "q_value": 6.883687739917174,
          "run": 74
         },
         {
          "location": "((0, 0), 'right')",
          "q_value": 6.911223781271774,
          "run": 75
         },
         {
          "location": "((0, 0), 'right')",
          "q_value": 6.937032251779049,
          "run": 76
         },
         {
          "location": "((0, 0), 'right')",
          "q_value": 6.961208323816274,
          "run": 77
         },
         {
          "location": "((0, 0), 'right')",
          "q_value": 6.98386380689522,
          "run": 78
         },
         {
          "location": "((0, 0), 'right')",
          "q_value": 7.00507986607442,
          "run": 79
         },
         {
          "location": "((0, 0), 'right')",
          "q_value": 7.02493502821316,
          "run": 80
         },
         {
          "location": "((0, 0), 'right')",
          "q_value": 7.043505032096303,
          "run": 81
         },
         {
          "location": "((0, 0), 'right')",
          "q_value": 7.0608627241997866,
          "run": 82
         },
         {
          "location": "((0, 0), 'right')",
          "q_value": 7.077077993269347,
          "run": 83
         },
         {
          "location": "((0, 0), 'right')",
          "q_value": 7.092217737740851,
          "run": 84
         },
         {
          "location": "((0, 0), 'right')",
          "q_value": 7.106345860786232,
          "run": 85
         },
         {
          "location": "((0, 0), 'right')",
          "q_value": 7.119523288435833,
          "run": 86
         },
         {
          "location": "((0, 0), 'right')",
          "q_value": 7.1318080068162155,
          "run": 87
         },
         {
          "location": "((0, 0), 'right')",
          "q_value": 7.153557512481512,
          "run": 88
         },
         {
          "location": "((0, 0), 'right')",
          "q_value": 7.1631890485885865,
          "run": 89
         },
         {
          "location": "((0, 0), 'right')",
          "q_value": 7.17218780832368,
          "run": 90
         },
         {
          "location": "((0, 0), 'right')",
          "q_value": 7.181351836860457,
          "run": 91
         },
         {
          "location": "((0, 0), 'right')",
          "q_value": 7.1898122547379595,
          "run": 92
         },
         {
          "location": "((0, 0), 'right')",
          "q_value": 7.197622419453024,
          "run": 93
         },
         {
          "location": "((0, 0), 'right')",
          "q_value": 7.204831687248331,
          "run": 94
         },
         {
          "location": "((0, 0), 'right')",
          "q_value": 7.211485710204035,
          "run": 95
         },
         {
          "location": "((0, 0), 'right')",
          "q_value": 7.217626711499083,
          "run": 96
         },
         {
          "location": "((0, 0), 'right')",
          "q_value": 7.223293740418092,
          "run": 97
         },
         {
          "location": "((0, 0), 'right')",
          "q_value": 7.228522908570924,
          "run": 98
         },
         {
          "location": "((0, 0), 'right')",
          "q_value": 7.233347608689859,
          "run": 99
         },
         {
          "location": "((0, 0), 'right')",
          "q_value": 7.2376898387969,
          "run": 100
         },
         {
          "location": "((0, 0), 'up')",
          "q_value": 0,
          "run": 0
         },
         {
          "location": "((0, 0), 'up')",
          "q_value": -0.19,
          "run": 1
         },
         {
          "location": "((0, 0), 'up')",
          "q_value": -0.19,
          "run": 2
         },
         {
          "location": "((0, 0), 'up')",
          "q_value": -0.19,
          "run": 3
         },
         {
          "location": "((0, 0), 'up')",
          "q_value": -0.19,
          "run": 4
         },
         {
          "location": "((0, 0), 'up')",
          "q_value": -0.19,
          "run": 5
         },
         {
          "location": "((0, 0), 'up')",
          "q_value": -0.19,
          "run": 6
         },
         {
          "location": "((0, 0), 'up')",
          "q_value": -0.19,
          "run": 7
         },
         {
          "location": "((0, 0), 'up')",
          "q_value": -0.19,
          "run": 8
         },
         {
          "location": "((0, 0), 'up')",
          "q_value": -0.19,
          "run": 9
         },
         {
          "location": "((0, 0), 'up')",
          "q_value": -0.19,
          "run": 10
         },
         {
          "location": "((0, 0), 'up')",
          "q_value": -0.19,
          "run": 11
         },
         {
          "location": "((0, 0), 'up')",
          "q_value": -0.19,
          "run": 12
         },
         {
          "location": "((0, 0), 'up')",
          "q_value": -0.19,
          "run": 13
         },
         {
          "location": "((0, 0), 'up')",
          "q_value": -0.19,
          "run": 14
         },
         {
          "location": "((0, 0), 'up')",
          "q_value": -0.19,
          "run": 15
         },
         {
          "location": "((0, 0), 'up')",
          "q_value": -0.19,
          "run": 16
         },
         {
          "location": "((0, 0), 'up')",
          "q_value": -0.19,
          "run": 17
         },
         {
          "location": "((0, 0), 'up')",
          "q_value": -0.19,
          "run": 18
         },
         {
          "location": "((0, 0), 'up')",
          "q_value": -0.19,
          "run": 19
         },
         {
          "location": "((0, 0), 'up')",
          "q_value": -0.19,
          "run": 20
         },
         {
          "location": "((0, 0), 'up')",
          "q_value": -0.19,
          "run": 21
         },
         {
          "location": "((0, 0), 'up')",
          "q_value": -0.19,
          "run": 22
         },
         {
          "location": "((0, 0), 'up')",
          "q_value": -0.19,
          "run": 23
         },
         {
          "location": "((0, 0), 'up')",
          "q_value": -0.19,
          "run": 24
         },
         {
          "location": "((0, 0), 'up')",
          "q_value": -0.19,
          "run": 25
         },
         {
          "location": "((0, 0), 'up')",
          "q_value": -0.19,
          "run": 26
         },
         {
          "location": "((0, 0), 'up')",
          "q_value": -0.19,
          "run": 27
         },
         {
          "location": "((0, 0), 'up')",
          "q_value": -0.19,
          "run": 28
         },
         {
          "location": "((0, 0), 'up')",
          "q_value": -0.19,
          "run": 29
         },
         {
          "location": "((0, 0), 'up')",
          "q_value": -0.19,
          "run": 30
         },
         {
          "location": "((0, 0), 'up')",
          "q_value": -0.19,
          "run": 31
         },
         {
          "location": "((0, 0), 'up')",
          "q_value": -0.19,
          "run": 32
         },
         {
          "location": "((0, 0), 'up')",
          "q_value": -0.19,
          "run": 33
         },
         {
          "location": "((0, 0), 'up')",
          "q_value": -0.19,
          "run": 34
         },
         {
          "location": "((0, 0), 'up')",
          "q_value": -0.19,
          "run": 35
         },
         {
          "location": "((0, 0), 'up')",
          "q_value": -0.19,
          "run": 36
         },
         {
          "location": "((0, 0), 'up')",
          "q_value": -0.19,
          "run": 37
         },
         {
          "location": "((0, 0), 'up')",
          "q_value": -0.19,
          "run": 38
         },
         {
          "location": "((0, 0), 'up')",
          "q_value": -0.19,
          "run": 39
         },
         {
          "location": "((0, 0), 'up')",
          "q_value": -0.19,
          "run": 40
         },
         {
          "location": "((0, 0), 'up')",
          "q_value": -0.19,
          "run": 41
         },
         {
          "location": "((0, 0), 'up')",
          "q_value": -0.19,
          "run": 42
         },
         {
          "location": "((0, 0), 'up')",
          "q_value": -0.19,
          "run": 43
         },
         {
          "location": "((0, 0), 'up')",
          "q_value": -0.19,
          "run": 44
         },
         {
          "location": "((0, 0), 'up')",
          "q_value": -0.19,
          "run": 45
         },
         {
          "location": "((0, 0), 'up')",
          "q_value": -0.19,
          "run": 46
         },
         {
          "location": "((0, 0), 'up')",
          "q_value": -0.19,
          "run": 47
         },
         {
          "location": "((0, 0), 'up')",
          "q_value": -0.19,
          "run": 48
         },
         {
          "location": "((0, 0), 'up')",
          "q_value": -0.19,
          "run": 49
         },
         {
          "location": "((0, 0), 'up')",
          "q_value": -0.19,
          "run": 50
         },
         {
          "location": "((0, 0), 'up')",
          "q_value": -0.19,
          "run": 51
         },
         {
          "location": "((0, 0), 'up')",
          "q_value": -0.19,
          "run": 52
         },
         {
          "location": "((0, 0), 'up')",
          "q_value": -0.19,
          "run": 53
         },
         {
          "location": "((0, 0), 'up')",
          "q_value": -0.19,
          "run": 54
         },
         {
          "location": "((0, 0), 'up')",
          "q_value": 0.25054047553443887,
          "run": 55
         },
         {
          "location": "((0, 0), 'up')",
          "q_value": 0.25054047553443887,
          "run": 56
         },
         {
          "location": "((0, 0), 'up')",
          "q_value": 0.25054047553443887,
          "run": 57
         },
         {
          "location": "((0, 0), 'up')",
          "q_value": 0.25054047553443887,
          "run": 58
         },
         {
          "location": "((0, 0), 'up')",
          "q_value": 0.25054047553443887,
          "run": 59
         },
         {
          "location": "((0, 0), 'up')",
          "q_value": 0.25054047553443887,
          "run": 60
         },
         {
          "location": "((0, 0), 'up')",
          "q_value": 0.25054047553443887,
          "run": 61
         },
         {
          "location": "((0, 0), 'up')",
          "q_value": 0.25054047553443887,
          "run": 62
         },
         {
          "location": "((0, 0), 'up')",
          "q_value": 0.25054047553443887,
          "run": 63
         },
         {
          "location": "((0, 0), 'up')",
          "q_value": 0.25054047553443887,
          "run": 64
         },
         {
          "location": "((0, 0), 'up')",
          "q_value": 0.25054047553443887,
          "run": 65
         },
         {
          "location": "((0, 0), 'up')",
          "q_value": 0.25054047553443887,
          "run": 66
         },
         {
          "location": "((0, 0), 'up')",
          "q_value": 0.25054047553443887,
          "run": 67
         },
         {
          "location": "((0, 0), 'up')",
          "q_value": 0.25054047553443887,
          "run": 68
         },
         {
          "location": "((0, 0), 'up')",
          "q_value": 0.25054047553443887,
          "run": 69
         },
         {
          "location": "((0, 0), 'up')",
          "q_value": 0.25054047553443887,
          "run": 70
         },
         {
          "location": "((0, 0), 'up')",
          "q_value": 0.25054047553443887,
          "run": 71
         },
         {
          "location": "((0, 0), 'up')",
          "q_value": 0.25054047553443887,
          "run": 72
         },
         {
          "location": "((0, 0), 'up')",
          "q_value": 0.25054047553443887,
          "run": 73
         },
         {
          "location": "((0, 0), 'up')",
          "q_value": 0.25054047553443887,
          "run": 74
         },
         {
          "location": "((0, 0), 'up')",
          "q_value": 0.25054047553443887,
          "run": 75
         },
         {
          "location": "((0, 0), 'up')",
          "q_value": 0.25054047553443887,
          "run": 76
         },
         {
          "location": "((0, 0), 'up')",
          "q_value": 0.25054047553443887,
          "run": 77
         },
         {
          "location": "((0, 0), 'up')",
          "q_value": 0.25054047553443887,
          "run": 78
         },
         {
          "location": "((0, 0), 'up')",
          "q_value": 0.25054047553443887,
          "run": 79
         },
         {
          "location": "((0, 0), 'up')",
          "q_value": 0.25054047553443887,
          "run": 80
         },
         {
          "location": "((0, 0), 'up')",
          "q_value": 0.25054047553443887,
          "run": 81
         },
         {
          "location": "((0, 0), 'up')",
          "q_value": 0.25054047553443887,
          "run": 82
         },
         {
          "location": "((0, 0), 'up')",
          "q_value": 0.25054047553443887,
          "run": 83
         },
         {
          "location": "((0, 0), 'up')",
          "q_value": 0.25054047553443887,
          "run": 84
         },
         {
          "location": "((0, 0), 'up')",
          "q_value": 0.25054047553443887,
          "run": 85
         },
         {
          "location": "((0, 0), 'up')",
          "q_value": 0.25054047553443887,
          "run": 86
         },
         {
          "location": "((0, 0), 'up')",
          "q_value": 0.25054047553443887,
          "run": 87
         },
         {
          "location": "((0, 0), 'up')",
          "q_value": 0.25054047553443887,
          "run": 88
         },
         {
          "location": "((0, 0), 'up')",
          "q_value": 0.25054047553443887,
          "run": 89
         },
         {
          "location": "((0, 0), 'up')",
          "q_value": 0.25054047553443887,
          "run": 90
         },
         {
          "location": "((0, 0), 'up')",
          "q_value": 0.25054047553443887,
          "run": 91
         },
         {
          "location": "((0, 0), 'up')",
          "q_value": 0.25054047553443887,
          "run": 92
         },
         {
          "location": "((0, 0), 'up')",
          "q_value": 0.25054047553443887,
          "run": 93
         },
         {
          "location": "((0, 0), 'up')",
          "q_value": 0.25054047553443887,
          "run": 94
         },
         {
          "location": "((0, 0), 'up')",
          "q_value": 0.7739212798333448,
          "run": 95
         },
         {
          "location": "((0, 0), 'up')",
          "q_value": 0.7739212798333448,
          "run": 96
         },
         {
          "location": "((0, 0), 'up')",
          "q_value": 0.7739212798333448,
          "run": 97
         },
         {
          "location": "((0, 0), 'up')",
          "q_value": 0.7739212798333448,
          "run": 98
         },
         {
          "location": "((0, 0), 'up')",
          "q_value": 0.7739212798333448,
          "run": 99
         },
         {
          "location": "((0, 0), 'up')",
          "q_value": 0.7739212798333448,
          "run": 100
         },
         {
          "location": "((0, 0), 'left')",
          "q_value": 0,
          "run": 0
         },
         {
          "location": "((0, 0), 'left')",
          "q_value": -0.19,
          "run": 1
         },
         {
          "location": "((0, 0), 'left')",
          "q_value": -0.19,
          "run": 2
         },
         {
          "location": "((0, 0), 'left')",
          "q_value": -0.19,
          "run": 3
         },
         {
          "location": "((0, 0), 'left')",
          "q_value": -0.19,
          "run": 4
         },
         {
          "location": "((0, 0), 'left')",
          "q_value": -0.19,
          "run": 5
         },
         {
          "location": "((0, 0), 'left')",
          "q_value": -0.19,
          "run": 6
         },
         {
          "location": "((0, 0), 'left')",
          "q_value": -0.19,
          "run": 7
         },
         {
          "location": "((0, 0), 'left')",
          "q_value": -0.19,
          "run": 8
         },
         {
          "location": "((0, 0), 'left')",
          "q_value": -0.19,
          "run": 9
         },
         {
          "location": "((0, 0), 'left')",
          "q_value": -0.19,
          "run": 10
         },
         {
          "location": "((0, 0), 'left')",
          "q_value": -0.19,
          "run": 11
         },
         {
          "location": "((0, 0), 'left')",
          "q_value": -0.19,
          "run": 12
         },
         {
          "location": "((0, 0), 'left')",
          "q_value": -0.19,
          "run": 13
         },
         {
          "location": "((0, 0), 'left')",
          "q_value": -0.19,
          "run": 14
         },
         {
          "location": "((0, 0), 'left')",
          "q_value": -0.19,
          "run": 15
         },
         {
          "location": "((0, 0), 'left')",
          "q_value": -0.19,
          "run": 16
         },
         {
          "location": "((0, 0), 'left')",
          "q_value": -0.19,
          "run": 17
         },
         {
          "location": "((0, 0), 'left')",
          "q_value": -0.19,
          "run": 18
         },
         {
          "location": "((0, 0), 'left')",
          "q_value": -0.19,
          "run": 19
         },
         {
          "location": "((0, 0), 'left')",
          "q_value": -0.19,
          "run": 20
         },
         {
          "location": "((0, 0), 'left')",
          "q_value": -0.19,
          "run": 21
         },
         {
          "location": "((0, 0), 'left')",
          "q_value": -0.19,
          "run": 22
         },
         {
          "location": "((0, 0), 'left')",
          "q_value": -0.19,
          "run": 23
         },
         {
          "location": "((0, 0), 'left')",
          "q_value": -0.19,
          "run": 24
         },
         {
          "location": "((0, 0), 'left')",
          "q_value": -0.19,
          "run": 25
         },
         {
          "location": "((0, 0), 'left')",
          "q_value": -0.19,
          "run": 26
         },
         {
          "location": "((0, 0), 'left')",
          "q_value": -0.19,
          "run": 27
         },
         {
          "location": "((0, 0), 'left')",
          "q_value": -0.19,
          "run": 28
         },
         {
          "location": "((0, 0), 'left')",
          "q_value": -0.19,
          "run": 29
         },
         {
          "location": "((0, 0), 'left')",
          "q_value": -0.19,
          "run": 30
         },
         {
          "location": "((0, 0), 'left')",
          "q_value": -0.19,
          "run": 31
         },
         {
          "location": "((0, 0), 'left')",
          "q_value": -0.19,
          "run": 32
         },
         {
          "location": "((0, 0), 'left')",
          "q_value": -0.19,
          "run": 33
         },
         {
          "location": "((0, 0), 'left')",
          "q_value": -0.19,
          "run": 34
         },
         {
          "location": "((0, 0), 'left')",
          "q_value": -0.19,
          "run": 35
         },
         {
          "location": "((0, 0), 'left')",
          "q_value": -0.19,
          "run": 36
         },
         {
          "location": "((0, 0), 'left')",
          "q_value": -0.19,
          "run": 37
         },
         {
          "location": "((0, 0), 'left')",
          "q_value": -0.19,
          "run": 38
         },
         {
          "location": "((0, 0), 'left')",
          "q_value": -0.19,
          "run": 39
         },
         {
          "location": "((0, 0), 'left')",
          "q_value": -0.19,
          "run": 40
         },
         {
          "location": "((0, 0), 'left')",
          "q_value": -0.19,
          "run": 41
         },
         {
          "location": "((0, 0), 'left')",
          "q_value": -0.19,
          "run": 42
         },
         {
          "location": "((0, 0), 'left')",
          "q_value": -0.19,
          "run": 43
         },
         {
          "location": "((0, 0), 'left')",
          "q_value": -0.19,
          "run": 44
         },
         {
          "location": "((0, 0), 'left')",
          "q_value": -0.19,
          "run": 45
         },
         {
          "location": "((0, 0), 'left')",
          "q_value": -0.19,
          "run": 46
         },
         {
          "location": "((0, 0), 'left')",
          "q_value": -0.19,
          "run": 47
         },
         {
          "location": "((0, 0), 'left')",
          "q_value": -0.19,
          "run": 48
         },
         {
          "location": "((0, 0), 'left')",
          "q_value": -0.19,
          "run": 49
         },
         {
          "location": "((0, 0), 'left')",
          "q_value": -0.19,
          "run": 50
         },
         {
          "location": "((0, 0), 'left')",
          "q_value": -0.19,
          "run": 51
         },
         {
          "location": "((0, 0), 'left')",
          "q_value": -0.19,
          "run": 52
         },
         {
          "location": "((0, 0), 'left')",
          "q_value": -0.19,
          "run": 53
         },
         {
          "location": "((0, 0), 'left')",
          "q_value": -0.19,
          "run": 54
         },
         {
          "location": "((0, 0), 'left')",
          "q_value": -0.19,
          "run": 55
         },
         {
          "location": "((0, 0), 'left')",
          "q_value": -0.19,
          "run": 56
         },
         {
          "location": "((0, 0), 'left')",
          "q_value": -0.19,
          "run": 57
         },
         {
          "location": "((0, 0), 'left')",
          "q_value": -0.19,
          "run": 58
         },
         {
          "location": "((0, 0), 'left')",
          "q_value": -0.19,
          "run": 59
         },
         {
          "location": "((0, 0), 'left')",
          "q_value": -0.19,
          "run": 60
         },
         {
          "location": "((0, 0), 'left')",
          "q_value": -0.19,
          "run": 61
         },
         {
          "location": "((0, 0), 'left')",
          "q_value": -0.19,
          "run": 62
         },
         {
          "location": "((0, 0), 'left')",
          "q_value": -0.19,
          "run": 63
         },
         {
          "location": "((0, 0), 'left')",
          "q_value": -0.19,
          "run": 64
         },
         {
          "location": "((0, 0), 'left')",
          "q_value": -0.19,
          "run": 65
         },
         {
          "location": "((0, 0), 'left')",
          "q_value": -0.19,
          "run": 66
         },
         {
          "location": "((0, 0), 'left')",
          "q_value": -0.19,
          "run": 67
         },
         {
          "location": "((0, 0), 'left')",
          "q_value": -0.19,
          "run": 68
         },
         {
          "location": "((0, 0), 'left')",
          "q_value": -0.19,
          "run": 69
         },
         {
          "location": "((0, 0), 'left')",
          "q_value": -0.19,
          "run": 70
         },
         {
          "location": "((0, 0), 'left')",
          "q_value": -0.19,
          "run": 71
         },
         {
          "location": "((0, 0), 'left')",
          "q_value": -0.19,
          "run": 72
         },
         {
          "location": "((0, 0), 'left')",
          "q_value": -0.19,
          "run": 73
         },
         {
          "location": "((0, 0), 'left')",
          "q_value": -0.19,
          "run": 74
         },
         {
          "location": "((0, 0), 'left')",
          "q_value": -0.19,
          "run": 75
         },
         {
          "location": "((0, 0), 'left')",
          "q_value": -0.19,
          "run": 76
         },
         {
          "location": "((0, 0), 'left')",
          "q_value": -0.19,
          "run": 77
         },
         {
          "location": "((0, 0), 'left')",
          "q_value": -0.19,
          "run": 78
         },
         {
          "location": "((0, 0), 'left')",
          "q_value": -0.19,
          "run": 79
         },
         {
          "location": "((0, 0), 'left')",
          "q_value": -0.19,
          "run": 80
         },
         {
          "location": "((0, 0), 'left')",
          "q_value": -0.19,
          "run": 81
         },
         {
          "location": "((0, 0), 'left')",
          "q_value": -0.19,
          "run": 82
         },
         {
          "location": "((0, 0), 'left')",
          "q_value": -0.19,
          "run": 83
         },
         {
          "location": "((0, 0), 'left')",
          "q_value": -0.19,
          "run": 84
         },
         {
          "location": "((0, 0), 'left')",
          "q_value": -0.19,
          "run": 85
         },
         {
          "location": "((0, 0), 'left')",
          "q_value": -0.19,
          "run": 86
         },
         {
          "location": "((0, 0), 'left')",
          "q_value": -0.19,
          "run": 87
         },
         {
          "location": "((0, 0), 'left')",
          "q_value": -0.19,
          "run": 88
         },
         {
          "location": "((0, 0), 'left')",
          "q_value": -0.19,
          "run": 89
         },
         {
          "location": "((0, 0), 'left')",
          "q_value": -0.19,
          "run": 90
         },
         {
          "location": "((0, 0), 'left')",
          "q_value": -0.19,
          "run": 91
         },
         {
          "location": "((0, 0), 'left')",
          "q_value": -0.19,
          "run": 92
         },
         {
          "location": "((0, 0), 'left')",
          "q_value": -0.19,
          "run": 93
         },
         {
          "location": "((0, 0), 'left')",
          "q_value": -0.19,
          "run": 94
         },
         {
          "location": "((0, 0), 'left')",
          "q_value": -0.19,
          "run": 95
         },
         {
          "location": "((0, 0), 'left')",
          "q_value": -0.19,
          "run": 96
         },
         {
          "location": "((0, 0), 'left')",
          "q_value": -0.19,
          "run": 97
         },
         {
          "location": "((0, 0), 'left')",
          "q_value": -0.19,
          "run": 98
         },
         {
          "location": "((0, 0), 'left')",
          "q_value": -0.19,
          "run": 99
         },
         {
          "location": "((0, 0), 'left')",
          "q_value": -0.19,
          "run": 100
         },
         {
          "location": "((0, 1), 'down')",
          "q_value": 0,
          "run": 0
         },
         {
          "location": "((0, 1), 'down')",
          "q_value": 0,
          "run": 1
         },
         {
          "location": "((0, 1), 'down')",
          "q_value": 0,
          "run": 2
         },
         {
          "location": "((0, 1), 'down')",
          "q_value": 0,
          "run": 3
         },
         {
          "location": "((0, 1), 'down')",
          "q_value": 0,
          "run": 4
         },
         {
          "location": "((0, 1), 'down')",
          "q_value": 0,
          "run": 5
         },
         {
          "location": "((0, 1), 'down')",
          "q_value": 0,
          "run": 6
         },
         {
          "location": "((0, 1), 'down')",
          "q_value": 0,
          "run": 7
         },
         {
          "location": "((0, 1), 'down')",
          "q_value": 0,
          "run": 8
         },
         {
          "location": "((0, 1), 'down')",
          "q_value": 0,
          "run": 9
         },
         {
          "location": "((0, 1), 'down')",
          "q_value": 0,
          "run": 10
         },
         {
          "location": "((0, 1), 'down')",
          "q_value": 0,
          "run": 11
         },
         {
          "location": "((0, 1), 'down')",
          "q_value": 0,
          "run": 12
         },
         {
          "location": "((0, 1), 'down')",
          "q_value": 0,
          "run": 13
         },
         {
          "location": "((0, 1), 'down')",
          "q_value": 0,
          "run": 14
         },
         {
          "location": "((0, 1), 'down')",
          "q_value": 0,
          "run": 15
         },
         {
          "location": "((0, 1), 'down')",
          "q_value": 0,
          "run": 16
         },
         {
          "location": "((0, 1), 'down')",
          "q_value": 0,
          "run": 17
         },
         {
          "location": "((0, 1), 'down')",
          "q_value": 0,
          "run": 18
         },
         {
          "location": "((0, 1), 'down')",
          "q_value": 0,
          "run": 19
         },
         {
          "location": "((0, 1), 'down')",
          "q_value": 0,
          "run": 20
         },
         {
          "location": "((0, 1), 'down')",
          "q_value": 0,
          "run": 21
         },
         {
          "location": "((0, 1), 'down')",
          "q_value": 0,
          "run": 22
         },
         {
          "location": "((0, 1), 'down')",
          "q_value": 0,
          "run": 23
         },
         {
          "location": "((0, 1), 'down')",
          "q_value": 0,
          "run": 24
         },
         {
          "location": "((0, 1), 'down')",
          "q_value": 0,
          "run": 25
         },
         {
          "location": "((0, 1), 'down')",
          "q_value": 0.015390000000000001,
          "run": 26
         },
         {
          "location": "((0, 1), 'down')",
          "q_value": 0.015390000000000001,
          "run": 27
         },
         {
          "location": "((0, 1), 'down')",
          "q_value": 0.015390000000000001,
          "run": 28
         },
         {
          "location": "((0, 1), 'down')",
          "q_value": 0.015390000000000001,
          "run": 29
         },
         {
          "location": "((0, 1), 'down')",
          "q_value": 0.015390000000000001,
          "run": 30
         },
         {
          "location": "((0, 1), 'down')",
          "q_value": 0.015390000000000001,
          "run": 31
         },
         {
          "location": "((0, 1), 'down')",
          "q_value": 0.015390000000000001,
          "run": 32
         },
         {
          "location": "((0, 1), 'down')",
          "q_value": 0.015390000000000001,
          "run": 33
         },
         {
          "location": "((0, 1), 'down')",
          "q_value": 0.015390000000000001,
          "run": 34
         },
         {
          "location": "((0, 1), 'down')",
          "q_value": 0.015390000000000001,
          "run": 35
         },
         {
          "location": "((0, 1), 'down')",
          "q_value": 0.015390000000000001,
          "run": 36
         },
         {
          "location": "((0, 1), 'down')",
          "q_value": 0.015390000000000001,
          "run": 37
         },
         {
          "location": "((0, 1), 'down')",
          "q_value": 0.015390000000000001,
          "run": 38
         },
         {
          "location": "((0, 1), 'down')",
          "q_value": 0.015390000000000001,
          "run": 39
         },
         {
          "location": "((0, 1), 'down')",
          "q_value": 0.015390000000000001,
          "run": 40
         },
         {
          "location": "((0, 1), 'down')",
          "q_value": 0.015390000000000001,
          "run": 41
         },
         {
          "location": "((0, 1), 'down')",
          "q_value": 0.015390000000000001,
          "run": 42
         },
         {
          "location": "((0, 1), 'down')",
          "q_value": 0.015390000000000001,
          "run": 43
         },
         {
          "location": "((0, 1), 'down')",
          "q_value": 0.015390000000000001,
          "run": 44
         },
         {
          "location": "((0, 1), 'down')",
          "q_value": 0.015390000000000001,
          "run": 45
         },
         {
          "location": "((0, 1), 'down')",
          "q_value": 0.015390000000000001,
          "run": 46
         },
         {
          "location": "((0, 1), 'down')",
          "q_value": 0.015390000000000001,
          "run": 47
         },
         {
          "location": "((0, 1), 'down')",
          "q_value": 0.015390000000000001,
          "run": 48
         },
         {
          "location": "((0, 1), 'down')",
          "q_value": 0.015390000000000001,
          "run": 49
         },
         {
          "location": "((0, 1), 'down')",
          "q_value": 0.015390000000000001,
          "run": 50
         },
         {
          "location": "((0, 1), 'down')",
          "q_value": 0.015390000000000001,
          "run": 51
         },
         {
          "location": "((0, 1), 'down')",
          "q_value": 0.015390000000000001,
          "run": 52
         },
         {
          "location": "((0, 1), 'down')",
          "q_value": 0.015390000000000001,
          "run": 53
         },
         {
          "location": "((0, 1), 'down')",
          "q_value": 0.015390000000000001,
          "run": 54
         },
         {
          "location": "((0, 1), 'down')",
          "q_value": 0.015390000000000001,
          "run": 55
         },
         {
          "location": "((0, 1), 'down')",
          "q_value": 0.015390000000000001,
          "run": 56
         },
         {
          "location": "((0, 1), 'down')",
          "q_value": 0.015390000000000001,
          "run": 57
         },
         {
          "location": "((0, 1), 'down')",
          "q_value": 0.015390000000000001,
          "run": 58
         },
         {
          "location": "((0, 1), 'down')",
          "q_value": 0.015390000000000001,
          "run": 59
         },
         {
          "location": "((0, 1), 'down')",
          "q_value": 0.015390000000000001,
          "run": 60
         },
         {
          "location": "((0, 1), 'down')",
          "q_value": 0.015390000000000001,
          "run": 61
         },
         {
          "location": "((0, 1), 'down')",
          "q_value": 0.015390000000000001,
          "run": 62
         },
         {
          "location": "((0, 1), 'down')",
          "q_value": 0.015390000000000001,
          "run": 63
         },
         {
          "location": "((0, 1), 'down')",
          "q_value": 0.015390000000000001,
          "run": 64
         },
         {
          "location": "((0, 1), 'down')",
          "q_value": 0.015390000000000001,
          "run": 65
         },
         {
          "location": "((0, 1), 'down')",
          "q_value": 0.015390000000000001,
          "run": 66
         },
         {
          "location": "((0, 1), 'down')",
          "q_value": 0.015390000000000001,
          "run": 67
         },
         {
          "location": "((0, 1), 'down')",
          "q_value": 0.015390000000000001,
          "run": 68
         },
         {
          "location": "((0, 1), 'down')",
          "q_value": 0.015390000000000001,
          "run": 69
         },
         {
          "location": "((0, 1), 'down')",
          "q_value": 0.015390000000000001,
          "run": 70
         },
         {
          "location": "((0, 1), 'down')",
          "q_value": 0.015390000000000001,
          "run": 71
         },
         {
          "location": "((0, 1), 'down')",
          "q_value": 0.015390000000000001,
          "run": 72
         },
         {
          "location": "((0, 1), 'down')",
          "q_value": 0.015390000000000001,
          "run": 73
         },
         {
          "location": "((0, 1), 'down')",
          "q_value": 0.015390000000000001,
          "run": 74
         },
         {
          "location": "((0, 1), 'down')",
          "q_value": 0.015390000000000001,
          "run": 75
         },
         {
          "location": "((0, 1), 'down')",
          "q_value": 0.015390000000000001,
          "run": 76
         },
         {
          "location": "((0, 1), 'down')",
          "q_value": 0.015390000000000001,
          "run": 77
         },
         {
          "location": "((0, 1), 'down')",
          "q_value": 0.015390000000000001,
          "run": 78
         },
         {
          "location": "((0, 1), 'down')",
          "q_value": 0.015390000000000001,
          "run": 79
         },
         {
          "location": "((0, 1), 'down')",
          "q_value": 0.015390000000000001,
          "run": 80
         },
         {
          "location": "((0, 1), 'down')",
          "q_value": 0.015390000000000001,
          "run": 81
         },
         {
          "location": "((0, 1), 'down')",
          "q_value": 0.015390000000000001,
          "run": 82
         },
         {
          "location": "((0, 1), 'down')",
          "q_value": 0.015390000000000001,
          "run": 83
         },
         {
          "location": "((0, 1), 'down')",
          "q_value": 0.015390000000000001,
          "run": 84
         },
         {
          "location": "((0, 1), 'down')",
          "q_value": 0.015390000000000001,
          "run": 85
         },
         {
          "location": "((0, 1), 'down')",
          "q_value": 0.015390000000000001,
          "run": 86
         },
         {
          "location": "((0, 1), 'down')",
          "q_value": 0.015390000000000001,
          "run": 87
         },
         {
          "location": "((0, 1), 'down')",
          "q_value": 0.015390000000000001,
          "run": 88
         },
         {
          "location": "((0, 1), 'down')",
          "q_value": 0.015390000000000001,
          "run": 89
         },
         {
          "location": "((0, 1), 'down')",
          "q_value": 0.015390000000000001,
          "run": 90
         },
         {
          "location": "((0, 1), 'down')",
          "q_value": 0.015390000000000001,
          "run": 91
         },
         {
          "location": "((0, 1), 'down')",
          "q_value": 0.015390000000000001,
          "run": 92
         },
         {
          "location": "((0, 1), 'down')",
          "q_value": 0.015390000000000001,
          "run": 93
         },
         {
          "location": "((0, 1), 'down')",
          "q_value": 0.015390000000000001,
          "run": 94
         },
         {
          "location": "((0, 1), 'down')",
          "q_value": 0.015390000000000001,
          "run": 95
         },
         {
          "location": "((0, 1), 'down')",
          "q_value": 0.015390000000000001,
          "run": 96
         },
         {
          "location": "((0, 1), 'down')",
          "q_value": 0.015390000000000001,
          "run": 97
         },
         {
          "location": "((0, 1), 'down')",
          "q_value": 0.015390000000000001,
          "run": 98
         },
         {
          "location": "((0, 1), 'down')",
          "q_value": 0.17497580593492185,
          "run": 99
         },
         {
          "location": "((0, 1), 'down')",
          "q_value": 0.17497580593492185,
          "run": 100
         },
         {
          "location": "((0, 1), 'right')",
          "q_value": 0,
          "run": 0
         },
         {
          "location": "((0, 1), 'right')",
          "q_value": 0,
          "run": 1
         },
         {
          "location": "((0, 1), 'right')",
          "q_value": 0,
          "run": 2
         },
         {
          "location": "((0, 1), 'right')",
          "q_value": 0,
          "run": 3
         },
         {
          "location": "((0, 1), 'right')",
          "q_value": 0.008100000000000001,
          "run": 4
         },
         {
          "location": "((0, 1), 'right')",
          "q_value": 0.036531,
          "run": 5
         },
         {
          "location": "((0, 1), 'right')",
          "q_value": 0.08705070000000001,
          "run": 6
         },
         {
          "location": "((0, 1), 'right')",
          "q_value": 0.16027146000000003,
          "run": 7
         },
         {
          "location": "((0, 1), 'right')",
          "q_value": 0.25593084000000005,
          "run": 8
         },
         {
          "location": "((0, 1), 'right')",
          "q_value": 0.3731135805000001,
          "run": 9
         },
         {
          "location": "((0, 1), 'right')",
          "q_value": 0.5104326204900002,
          "run": 10
         },
         {
          "location": "((0, 1), 'right')",
          "q_value": 0.6661756570680002,
          "run": 11
         },
         {
          "location": "((0, 1), 'right')",
          "q_value": 0.8384228064774002,
          "run": 12
         },
         {
          "location": "((0, 1), 'right')",
          "q_value": 1.0251401111509502,
          "run": 13
         },
         {
          "location": "((0, 1), 'right')",
          "q_value": 1.2242529343700552,
          "run": 14
         },
         {
          "location": "((0, 1), 'right')",
          "q_value": 1.433702678624365,
          "run": 15
         },
         {
          "location": "((0, 1), 'right')",
          "q_value": 1.6514897427955937,
          "run": 16
         },
         {
          "location": "((0, 1), 'right')",
          "q_value": 1.8757051856466664,
          "run": 17
         },
         {
          "location": "((0, 1), 'right')",
          "q_value": 2.104553178969869,
          "run": 18
         },
         {
          "location": "((0, 1), 'right')",
          "q_value": 2.336366004595234,
          "run": 19
         },
         {
          "location": "((0, 1), 'right')",
          "q_value": 2.5696130678467703,
          "run": 20
         },
         {
          "location": "((0, 1), 'right')",
          "q_value": 2.8239379207330644,
          "run": 21
         },
         {
          "location": "((0, 1), 'right')",
          "q_value": 3.072853963341796,
          "run": 22
         },
         {
          "location": "((0, 1), 'right')",
          "q_value": 3.315884480101798,
          "run": 23
         },
         {
          "location": "((0, 1), 'right')",
          "q_value": 3.5526037095686944,
          "run": 24
         },
         {
          "location": "((0, 1), 'right')",
          "q_value": 3.782641268464275,
          "run": 25
         },
         {
          "location": "((0, 1), 'right')",
          "q_value": 3.782641268464275,
          "run": 26
         },
         {
          "location": "((0, 1), 'right')",
          "q_value": 4.005684196595826,
          "run": 27
         },
         {
          "location": "((0, 1), 'right')",
          "q_value": 4.222058650086151,
          "run": 28
         },
         {
          "location": "((0, 1), 'right')",
          "q_value": 4.431391242215206,
          "run": 29
         },
         {
          "location": "((0, 1), 'right')",
          "q_value": 4.633397613590066,
          "run": 30
         },
         {
          "location": "((0, 1), 'right')",
          "q_value": 4.827873594023034,
          "run": 31
         },
         {
          "location": "((0, 1), 'right')",
          "q_value": 5.025292986213674,
          "run": 32
         },
         {
          "location": "((0, 1), 'right')",
          "q_value": 5.212859448587692,
          "run": 33
         },
         {
          "location": "((0, 1), 'right')",
          "q_value": 5.3908784047303335,
          "run": 34
         },
         {
          "location": "((0, 1), 'right')",
          "q_value": 5.559661819653576,
          "run": 35
         },
         {
          "location": "((0, 1), 'right')",
          "q_value": 5.726690958645664,
          "run": 36
         },
         {
          "location": "((0, 1), 'right')",
          "q_value": 5.883690095683753,
          "run": 37
         },
         {
          "location": "((0, 1), 'right')",
          "q_value": 5.883690095683753,
          "run": 38
         },
         {
          "location": "((0, 1), 'right')",
          "q_value": 6.031197695364628,
          "run": 39
         },
         {
          "location": "((0, 1), 'right')",
          "q_value": 6.169724553825664,
          "run": 40
         },
         {
          "location": "((0, 1), 'right')",
          "q_value": 6.299755975346703,
          "run": 41
         },
         {
          "location": "((0, 1), 'right')",
          "q_value": 6.421753587560549,
          "run": 42
         },
         {
          "location": "((0, 1), 'right')",
          "q_value": 6.536156866059903,
          "run": 43
         },
         {
          "location": "((0, 1), 'right')",
          "q_value": 6.64338442661735,
          "run": 44
         },
         {
          "location": "((0, 1), 'right')",
          "q_value": 6.7438351326729205,
          "run": 45
         },
         {
          "location": "((0, 1), 'right')",
          "q_value": 6.837889056894395,
          "run": 46
         },
         {
          "location": "((0, 1), 'right')",
          "q_value": 6.925908328223717,
          "run": 47
         },
         {
          "location": "((0, 1), 'right')",
          "q_value": 7.008237889669216,
          "run": 48
         },
         {
          "location": "((0, 1), 'right')",
          "q_value": 7.085206186999264,
          "run": 49
         },
         {
          "location": "((0, 1), 'right')",
          "q_value": 7.157125804276909,
          "run": 50
         },
         {
          "location": "((0, 1), 'right')",
          "q_value": 7.2242940587083,
          "run": 51
         },
         {
          "location": "((0, 1), 'right')",
          "q_value": 7.2869935644419845,
          "run": 52
         },
         {
          "location": "((0, 1), 'right')",
          "q_value": 7.345492772650056,
          "run": 53
         },
         {
          "location": "((0, 1), 'right')",
          "q_value": 7.40004649335948,
          "run": 54
         },
         {
          "location": "((0, 1), 'right')",
          "q_value": 7.450896403009167,
          "run": 55
         },
         {
          "location": "((0, 1), 'right')",
          "q_value": 7.4982715405231035,
          "run": 56
         },
         {
          "location": "((0, 1), 'right')",
          "q_value": 7.542388793759166,
          "run": 57
         },
         {
          "location": "((0, 1), 'right')",
          "q_value": 7.583453377472289,
          "run": 58
         },
         {
          "location": "((0, 1), 'right')",
          "q_value": 7.62165930338175,
          "run": 59
         },
         {
          "location": "((0, 1), 'right')",
          "q_value": 7.657189842523494,
          "run": 60
         },
         {
          "location": "((0, 1), 'right')",
          "q_value": 7.690217979773081,
          "run": 61
         },
         {
          "location": "((0, 1), 'right')",
          "q_value": 7.720906860220523,
          "run": 62
         },
         {
          "location": "((0, 1), 'right')",
          "q_value": 7.749410226946452,
          "run": 63
         },
         {
          "location": "((0, 1), 'right')",
          "q_value": 7.775872849674127,
          "run": 64
         },
         {
          "location": "((0, 1), 'right')",
          "q_value": 7.800430943741025,
          "run": 65
         },
         {
          "location": "((0, 1), 'right')",
          "q_value": 7.8232125788366025,
          "run": 66
         },
         {
          "location": "((0, 1), 'right')",
          "q_value": 7.844338076980574,
          "run": 67
         },
         {
          "location": "((0, 1), 'right')",
          "q_value": 7.863920399261814,
          "run": 68
         },
         {
          "location": "((0, 1), 'right')",
          "q_value": 7.882065520915986,
          "run": 69
         },
         {
          "location": "((0, 1), 'right')",
          "q_value": 7.898872794385792,
          "run": 70
         },
         {
          "location": "((0, 1), 'right')",
          "q_value": 7.914435300077655,
          "run": 71
         },
         {
          "location": "((0, 1), 'right')",
          "q_value": 7.928840184599949,
          "run": 72
         },
         {
          "location": "((0, 1), 'right')",
          "q_value": 7.942168986338401,
          "run": 73
         },
         {
          "location": "((0, 1), 'right')",
          "q_value": 7.954497948292418,
          "run": 74
         },
         {
          "location": "((0, 1), 'right')",
          "q_value": 7.965898318160577,
          "run": 75
         },
         {
          "location": "((0, 1), 'right')",
          "q_value": 7.976436635723677,
          "run": 76
         },
         {
          "location": "((0, 1), 'right')",
          "q_value": 7.986403505117486,
          "run": 77
         },
         {
          "location": "((0, 1), 'right')",
          "q_value": 7.995582665208008,
          "run": 78
         },
         {
          "location": "((0, 1), 'right')",
          "q_value": 8.004034986068692,
          "run": 79
         },
         {
          "location": "((0, 1), 'right')",
          "q_value": 8.011816741160656,
          "run": 80
         },
         {
          "location": "((0, 1), 'right')",
          "q_value": 8.018979947923487,
          "run": 81
         },
         {
          "location": "((0, 1), 'right')",
          "q_value": 8.0255726832171,
          "run": 82
         },
         {
          "location": "((0, 1), 'right')",
          "q_value": 8.03163937553821,
          "run": 83
         },
         {
          "location": "((0, 1), 'right')",
          "q_value": 8.03722107577184,
          "run": 84
         },
         {
          "location": "((0, 1), 'right')",
          "q_value": 8.042355708091382,
          "run": 85
         },
         {
          "location": "((0, 1), 'right')",
          "q_value": 8.047078302488515,
          "run": 86
         },
         {
          "location": "((0, 1), 'right')",
          "q_value": 8.051421210294604,
          "run": 87
         },
         {
          "location": "((0, 1), 'right')",
          "q_value": 8.055414303946957,
          "run": 88
         },
         {
          "location": "((0, 1), 'right')",
          "q_value": 8.059085162155023,
          "run": 89
         },
         {
          "location": "((0, 1), 'right')",
          "q_value": 8.070920104101608,
          "run": 90
         },
         {
          "location": "((0, 1), 'right')",
          "q_value": 8.073284461817208,
          "run": 91
         },
         {
          "location": "((0, 1), 'right')",
          "q_value": 8.075459890987347,
          "run": 92
         },
         {
          "location": "((0, 1), 'right')",
          "q_value": 8.077461219340094,
          "run": 93
         },
         {
          "location": "((0, 1), 'right')",
          "q_value": 8.079302129783747,
          "run": 94
         },
         {
          "location": "((0, 1), 'right')",
          "q_value": 8.080995247949462,
          "run": 95
         },
         {
          "location": "((0, 1), 'right')",
          "q_value": 8.082552222987973,
          "run": 96
         },
         {
          "location": "((0, 1), 'right')",
          "q_value": 8.083983802162685,
          "run": 97
         },
         {
          "location": "((0, 1), 'right')",
          "q_value": 8.085299899733633,
          "run": 98
         },
         {
          "location": "((0, 1), 'right')",
          "q_value": 8.085299899733633,
          "run": 99
         },
         {
          "location": "((0, 1), 'right')",
          "q_value": 8.086509660583715,
          "run": 100
         },
         {
          "location": "((0, 1), 'up')",
          "q_value": 0,
          "run": 0
         },
         {
          "location": "((0, 1), 'up')",
          "q_value": -0.1,
          "run": 1
         },
         {
          "location": "((0, 1), 'up')",
          "q_value": -0.1,
          "run": 2
         },
         {
          "location": "((0, 1), 'up')",
          "q_value": -0.1,
          "run": 3
         },
         {
          "location": "((0, 1), 'up')",
          "q_value": -0.1,
          "run": 4
         },
         {
          "location": "((0, 1), 'up')",
          "q_value": -0.1,
          "run": 5
         },
         {
          "location": "((0, 1), 'up')",
          "q_value": -0.1,
          "run": 6
         },
         {
          "location": "((0, 1), 'up')",
          "q_value": -0.1,
          "run": 7
         },
         {
          "location": "((0, 1), 'up')",
          "q_value": -0.1,
          "run": 8
         },
         {
          "location": "((0, 1), 'up')",
          "q_value": -0.1,
          "run": 9
         },
         {
          "location": "((0, 1), 'up')",
          "q_value": -0.1,
          "run": 10
         },
         {
          "location": "((0, 1), 'up')",
          "q_value": -0.1,
          "run": 11
         },
         {
          "location": "((0, 1), 'up')",
          "q_value": -0.1,
          "run": 12
         },
         {
          "location": "((0, 1), 'up')",
          "q_value": -0.1,
          "run": 13
         },
         {
          "location": "((0, 1), 'up')",
          "q_value": -0.1,
          "run": 14
         },
         {
          "location": "((0, 1), 'up')",
          "q_value": -0.1,
          "run": 15
         },
         {
          "location": "((0, 1), 'up')",
          "q_value": -0.1,
          "run": 16
         },
         {
          "location": "((0, 1), 'up')",
          "q_value": -0.1,
          "run": 17
         },
         {
          "location": "((0, 1), 'up')",
          "q_value": -0.1,
          "run": 18
         },
         {
          "location": "((0, 1), 'up')",
          "q_value": -0.1,
          "run": 19
         },
         {
          "location": "((0, 1), 'up')",
          "q_value": -0.1,
          "run": 20
         },
         {
          "location": "((0, 1), 'up')",
          "q_value": -0.1,
          "run": 21
         },
         {
          "location": "((0, 1), 'up')",
          "q_value": -0.1,
          "run": 22
         },
         {
          "location": "((0, 1), 'up')",
          "q_value": -0.1,
          "run": 23
         },
         {
          "location": "((0, 1), 'up')",
          "q_value": -0.1,
          "run": 24
         },
         {
          "location": "((0, 1), 'up')",
          "q_value": -0.1,
          "run": 25
         },
         {
          "location": "((0, 1), 'up')",
          "q_value": -0.1,
          "run": 26
         },
         {
          "location": "((0, 1), 'up')",
          "q_value": -0.1,
          "run": 27
         },
         {
          "location": "((0, 1), 'up')",
          "q_value": 0.17051157769362438,
          "run": 28
         },
         {
          "location": "((0, 1), 'up')",
          "q_value": 0.17051157769362438,
          "run": 29
         },
         {
          "location": "((0, 1), 'up')",
          "q_value": 0.17051157769362438,
          "run": 30
         },
         {
          "location": "((0, 1), 'up')",
          "q_value": 0.17051157769362438,
          "run": 31
         },
         {
          "location": "((0, 1), 'up')",
          "q_value": 0.17051157769362438,
          "run": 32
         },
         {
          "location": "((0, 1), 'up')",
          "q_value": 0.17051157769362438,
          "run": 33
         },
         {
          "location": "((0, 1), 'up')",
          "q_value": 0.17051157769362438,
          "run": 34
         },
         {
          "location": "((0, 1), 'up')",
          "q_value": 0.17051157769362438,
          "run": 35
         },
         {
          "location": "((0, 1), 'up')",
          "q_value": 0.17051157769362438,
          "run": 36
         },
         {
          "location": "((0, 1), 'up')",
          "q_value": 0.17051157769362438,
          "run": 37
         },
         {
          "location": "((0, 1), 'up')",
          "q_value": 0.17051157769362438,
          "run": 38
         },
         {
          "location": "((0, 1), 'up')",
          "q_value": 0.17051157769362438,
          "run": 39
         },
         {
          "location": "((0, 1), 'up')",
          "q_value": 0.17051157769362438,
          "run": 40
         },
         {
          "location": "((0, 1), 'up')",
          "q_value": 0.17051157769362438,
          "run": 41
         },
         {
          "location": "((0, 1), 'up')",
          "q_value": 0.17051157769362438,
          "run": 42
         },
         {
          "location": "((0, 1), 'up')",
          "q_value": 0.17051157769362438,
          "run": 43
         },
         {
          "location": "((0, 1), 'up')",
          "q_value": 0.17051157769362438,
          "run": 44
         },
         {
          "location": "((0, 1), 'up')",
          "q_value": 0.17051157769362438,
          "run": 45
         },
         {
          "location": "((0, 1), 'up')",
          "q_value": 0.17051157769362438,
          "run": 46
         },
         {
          "location": "((0, 1), 'up')",
          "q_value": 0.17051157769362438,
          "run": 47
         },
         {
          "location": "((0, 1), 'up')",
          "q_value": 0.17051157769362438,
          "run": 48
         },
         {
          "location": "((0, 1), 'up')",
          "q_value": 0.17051157769362438,
          "run": 49
         },
         {
          "location": "((0, 1), 'up')",
          "q_value": 0.17051157769362438,
          "run": 50
         },
         {
          "location": "((0, 1), 'up')",
          "q_value": 0.17051157769362438,
          "run": 51
         },
         {
          "location": "((0, 1), 'up')",
          "q_value": 0.17051157769362438,
          "run": 52
         },
         {
          "location": "((0, 1), 'up')",
          "q_value": 0.17051157769362438,
          "run": 53
         },
         {
          "location": "((0, 1), 'up')",
          "q_value": 0.17051157769362438,
          "run": 54
         },
         {
          "location": "((0, 1), 'up')",
          "q_value": 0.17051157769362438,
          "run": 55
         },
         {
          "location": "((0, 1), 'up')",
          "q_value": 0.17051157769362438,
          "run": 56
         },
         {
          "location": "((0, 1), 'up')",
          "q_value": 0.17051157769362438,
          "run": 57
         },
         {
          "location": "((0, 1), 'up')",
          "q_value": 0.17051157769362438,
          "run": 58
         },
         {
          "location": "((0, 1), 'up')",
          "q_value": 0.17051157769362438,
          "run": 59
         },
         {
          "location": "((0, 1), 'up')",
          "q_value": 0.17051157769362438,
          "run": 60
         },
         {
          "location": "((0, 1), 'up')",
          "q_value": 0.17051157769362438,
          "run": 61
         },
         {
          "location": "((0, 1), 'up')",
          "q_value": 0.17051157769362438,
          "run": 62
         },
         {
          "location": "((0, 1), 'up')",
          "q_value": 0.17051157769362438,
          "run": 63
         },
         {
          "location": "((0, 1), 'up')",
          "q_value": 0.17051157769362438,
          "run": 64
         },
         {
          "location": "((0, 1), 'up')",
          "q_value": 0.17051157769362438,
          "run": 65
         },
         {
          "location": "((0, 1), 'up')",
          "q_value": 0.17051157769362438,
          "run": 66
         },
         {
          "location": "((0, 1), 'up')",
          "q_value": 0.17051157769362438,
          "run": 67
         },
         {
          "location": "((0, 1), 'up')",
          "q_value": 0.17051157769362438,
          "run": 68
         },
         {
          "location": "((0, 1), 'up')",
          "q_value": 0.17051157769362438,
          "run": 69
         },
         {
          "location": "((0, 1), 'up')",
          "q_value": 0.17051157769362438,
          "run": 70
         },
         {
          "location": "((0, 1), 'up')",
          "q_value": 0.17051157769362438,
          "run": 71
         },
         {
          "location": "((0, 1), 'up')",
          "q_value": 0.17051157769362438,
          "run": 72
         },
         {
          "location": "((0, 1), 'up')",
          "q_value": 0.17051157769362438,
          "run": 73
         },
         {
          "location": "((0, 1), 'up')",
          "q_value": 0.17051157769362438,
          "run": 74
         },
         {
          "location": "((0, 1), 'up')",
          "q_value": 0.17051157769362438,
          "run": 75
         },
         {
          "location": "((0, 1), 'up')",
          "q_value": 0.17051157769362438,
          "run": 76
         },
         {
          "location": "((0, 1), 'up')",
          "q_value": 0.17051157769362438,
          "run": 77
         },
         {
          "location": "((0, 1), 'up')",
          "q_value": 0.17051157769362438,
          "run": 78
         },
         {
          "location": "((0, 1), 'up')",
          "q_value": 0.17051157769362438,
          "run": 79
         },
         {
          "location": "((0, 1), 'up')",
          "q_value": 0.17051157769362438,
          "run": 80
         },
         {
          "location": "((0, 1), 'up')",
          "q_value": 0.17051157769362438,
          "run": 81
         },
         {
          "location": "((0, 1), 'up')",
          "q_value": 0.17051157769362438,
          "run": 82
         },
         {
          "location": "((0, 1), 'up')",
          "q_value": 0.17051157769362438,
          "run": 83
         },
         {
          "location": "((0, 1), 'up')",
          "q_value": 0.17051157769362438,
          "run": 84
         },
         {
          "location": "((0, 1), 'up')",
          "q_value": 0.17051157769362438,
          "run": 85
         },
         {
          "location": "((0, 1), 'up')",
          "q_value": 0.17051157769362438,
          "run": 86
         },
         {
          "location": "((0, 1), 'up')",
          "q_value": 0.17051157769362438,
          "run": 87
         },
         {
          "location": "((0, 1), 'up')",
          "q_value": 0.17051157769362438,
          "run": 88
         },
         {
          "location": "((0, 1), 'up')",
          "q_value": 0.17051157769362438,
          "run": 89
         },
         {
          "location": "((0, 1), 'up')",
          "q_value": 0.17051157769362438,
          "run": 90
         },
         {
          "location": "((0, 1), 'up')",
          "q_value": 0.17051157769362438,
          "run": 91
         },
         {
          "location": "((0, 1), 'up')",
          "q_value": 0.17051157769362438,
          "run": 92
         },
         {
          "location": "((0, 1), 'up')",
          "q_value": 0.17051157769362438,
          "run": 93
         },
         {
          "location": "((0, 1), 'up')",
          "q_value": 0.17051157769362438,
          "run": 94
         },
         {
          "location": "((0, 1), 'up')",
          "q_value": 0.17051157769362438,
          "run": 95
         },
         {
          "location": "((0, 1), 'up')",
          "q_value": 0.17051157769362438,
          "run": 96
         },
         {
          "location": "((0, 1), 'up')",
          "q_value": 0.17051157769362438,
          "run": 97
         },
         {
          "location": "((0, 1), 'up')",
          "q_value": 0.17051157769362438,
          "run": 98
         },
         {
          "location": "((0, 1), 'up')",
          "q_value": 0.17051157769362438,
          "run": 99
         },
         {
          "location": "((0, 1), 'up')",
          "q_value": 0.17051157769362438,
          "run": 100
         },
         {
          "location": "((0, 1), 'left')",
          "q_value": 0,
          "run": 0
         },
         {
          "location": "((0, 1), 'left')",
          "q_value": 0,
          "run": 1
         },
         {
          "location": "((0, 1), 'left')",
          "q_value": 0,
          "run": 2
         },
         {
          "location": "((0, 1), 'left')",
          "q_value": 0,
          "run": 3
         },
         {
          "location": "((0, 1), 'left')",
          "q_value": 0,
          "run": 4
         },
         {
          "location": "((0, 1), 'left')",
          "q_value": 0,
          "run": 5
         },
         {
          "location": "((0, 1), 'left')",
          "q_value": 0,
          "run": 6
         },
         {
          "location": "((0, 1), 'left')",
          "q_value": 0,
          "run": 7
         },
         {
          "location": "((0, 1), 'left')",
          "q_value": 0,
          "run": 8
         },
         {
          "location": "((0, 1), 'left')",
          "q_value": 0,
          "run": 9
         },
         {
          "location": "((0, 1), 'left')",
          "q_value": 0,
          "run": 10
         },
         {
          "location": "((0, 1), 'left')",
          "q_value": 0,
          "run": 11
         },
         {
          "location": "((0, 1), 'left')",
          "q_value": 0,
          "run": 12
         },
         {
          "location": "((0, 1), 'left')",
          "q_value": 0,
          "run": 13
         },
         {
          "location": "((0, 1), 'left')",
          "q_value": 0,
          "run": 14
         },
         {
          "location": "((0, 1), 'left')",
          "q_value": 0.03348521654578143,
          "run": 15
         },
         {
          "location": "((0, 1), 'left')",
          "q_value": 0.03348521654578143,
          "run": 16
         },
         {
          "location": "((0, 1), 'left')",
          "q_value": 0.03348521654578143,
          "run": 17
         },
         {
          "location": "((0, 1), 'left')",
          "q_value": 0.03348521654578143,
          "run": 18
         },
         {
          "location": "((0, 1), 'left')",
          "q_value": 0.03348521654578143,
          "run": 19
         },
         {
          "location": "((0, 1), 'left')",
          "q_value": 0.03348521654578143,
          "run": 20
         },
         {
          "location": "((0, 1), 'left')",
          "q_value": 0.03348521654578143,
          "run": 21
         },
         {
          "location": "((0, 1), 'left')",
          "q_value": 0.03348521654578143,
          "run": 22
         },
         {
          "location": "((0, 1), 'left')",
          "q_value": 0.03348521654578143,
          "run": 23
         },
         {
          "location": "((0, 1), 'left')",
          "q_value": 0.03348521654578143,
          "run": 24
         },
         {
          "location": "((0, 1), 'left')",
          "q_value": 0.03348521654578143,
          "run": 25
         },
         {
          "location": "((0, 1), 'left')",
          "q_value": 0.03348521654578143,
          "run": 26
         },
         {
          "location": "((0, 1), 'left')",
          "q_value": 0.03348521654578143,
          "run": 27
         },
         {
          "location": "((0, 1), 'left')",
          "q_value": 0.03348521654578143,
          "run": 28
         },
         {
          "location": "((0, 1), 'left')",
          "q_value": 0.03348521654578143,
          "run": 29
         },
         {
          "location": "((0, 1), 'left')",
          "q_value": 0.03348521654578143,
          "run": 30
         },
         {
          "location": "((0, 1), 'left')",
          "q_value": 0.03348521654578143,
          "run": 31
         },
         {
          "location": "((0, 1), 'left')",
          "q_value": 0.03348521654578143,
          "run": 32
         },
         {
          "location": "((0, 1), 'left')",
          "q_value": 0.5570585261457984,
          "run": 33
         },
         {
          "location": "((0, 1), 'left')",
          "q_value": 0.5570585261457984,
          "run": 34
         },
         {
          "location": "((0, 1), 'left')",
          "q_value": 0.5570585261457984,
          "run": 35
         },
         {
          "location": "((0, 1), 'left')",
          "q_value": 0.5570585261457984,
          "run": 36
         },
         {
          "location": "((0, 1), 'left')",
          "q_value": 0.5570585261457984,
          "run": 37
         },
         {
          "location": "((0, 1), 'left')",
          "q_value": 0.5570585261457984,
          "run": 38
         },
         {
          "location": "((0, 1), 'left')",
          "q_value": 0.5570585261457984,
          "run": 39
         },
         {
          "location": "((0, 1), 'left')",
          "q_value": 0.5570585261457984,
          "run": 40
         },
         {
          "location": "((0, 1), 'left')",
          "q_value": 0.5570585261457984,
          "run": 41
         },
         {
          "location": "((0, 1), 'left')",
          "q_value": 0.5570585261457984,
          "run": 42
         },
         {
          "location": "((0, 1), 'left')",
          "q_value": 0.5570585261457984,
          "run": 43
         },
         {
          "location": "((0, 1), 'left')",
          "q_value": 0.5570585261457984,
          "run": 44
         },
         {
          "location": "((0, 1), 'left')",
          "q_value": 0.5570585261457984,
          "run": 45
         },
         {
          "location": "((0, 1), 'left')",
          "q_value": 0.5570585261457984,
          "run": 46
         },
         {
          "location": "((0, 1), 'left')",
          "q_value": 0.5570585261457984,
          "run": 47
         },
         {
          "location": "((0, 1), 'left')",
          "q_value": 0.5570585261457984,
          "run": 48
         },
         {
          "location": "((0, 1), 'left')",
          "q_value": 0.5570585261457984,
          "run": 49
         },
         {
          "location": "((0, 1), 'left')",
          "q_value": 0.5570585261457984,
          "run": 50
         },
         {
          "location": "((0, 1), 'left')",
          "q_value": 0.5570585261457984,
          "run": 51
         },
         {
          "location": "((0, 1), 'left')",
          "q_value": 0.5570585261457984,
          "run": 52
         },
         {
          "location": "((0, 1), 'left')",
          "q_value": 0.5570585261457984,
          "run": 53
         },
         {
          "location": "((0, 1), 'left')",
          "q_value": 0.5570585261457984,
          "run": 54
         },
         {
          "location": "((0, 1), 'left')",
          "q_value": 0.5570585261457984,
          "run": 55
         },
         {
          "location": "((0, 1), 'left')",
          "q_value": 0.5570585261457984,
          "run": 56
         },
         {
          "location": "((0, 1), 'left')",
          "q_value": 0.5570585261457984,
          "run": 57
         },
         {
          "location": "((0, 1), 'left')",
          "q_value": 0.5570585261457984,
          "run": 58
         },
         {
          "location": "((0, 1), 'left')",
          "q_value": 0.5570585261457984,
          "run": 59
         },
         {
          "location": "((0, 1), 'left')",
          "q_value": 0.5570585261457984,
          "run": 60
         },
         {
          "location": "((0, 1), 'left')",
          "q_value": 0.5570585261457984,
          "run": 61
         },
         {
          "location": "((0, 1), 'left')",
          "q_value": 0.5570585261457984,
          "run": 62
         },
         {
          "location": "((0, 1), 'left')",
          "q_value": 0.5570585261457984,
          "run": 63
         },
         {
          "location": "((0, 1), 'left')",
          "q_value": 0.5570585261457984,
          "run": 64
         },
         {
          "location": "((0, 1), 'left')",
          "q_value": 0.5570585261457984,
          "run": 65
         },
         {
          "location": "((0, 1), 'left')",
          "q_value": 0.5570585261457984,
          "run": 66
         },
         {
          "location": "((0, 1), 'left')",
          "q_value": 0.5570585261457984,
          "run": 67
         },
         {
          "location": "((0, 1), 'left')",
          "q_value": 0.5570585261457984,
          "run": 68
         },
         {
          "location": "((0, 1), 'left')",
          "q_value": 0.5570585261457984,
          "run": 69
         },
         {
          "location": "((0, 1), 'left')",
          "q_value": 0.5570585261457984,
          "run": 70
         },
         {
          "location": "((0, 1), 'left')",
          "q_value": 0.5570585261457984,
          "run": 71
         },
         {
          "location": "((0, 1), 'left')",
          "q_value": 0.5570585261457984,
          "run": 72
         },
         {
          "location": "((0, 1), 'left')",
          "q_value": 0.5570585261457984,
          "run": 73
         },
         {
          "location": "((0, 1), 'left')",
          "q_value": 0.5570585261457984,
          "run": 74
         },
         {
          "location": "((0, 1), 'left')",
          "q_value": 0.5570585261457984,
          "run": 75
         },
         {
          "location": "((0, 1), 'left')",
          "q_value": 0.5570585261457984,
          "run": 76
         },
         {
          "location": "((0, 1), 'left')",
          "q_value": 0.5570585261457984,
          "run": 77
         },
         {
          "location": "((0, 1), 'left')",
          "q_value": 0.5570585261457984,
          "run": 78
         },
         {
          "location": "((0, 1), 'left')",
          "q_value": 0.5570585261457984,
          "run": 79
         },
         {
          "location": "((0, 1), 'left')",
          "q_value": 0.5570585261457984,
          "run": 80
         },
         {
          "location": "((0, 1), 'left')",
          "q_value": 0.5570585261457984,
          "run": 81
         },
         {
          "location": "((0, 1), 'left')",
          "q_value": 0.5570585261457984,
          "run": 82
         },
         {
          "location": "((0, 1), 'left')",
          "q_value": 0.5570585261457984,
          "run": 83
         },
         {
          "location": "((0, 1), 'left')",
          "q_value": 0.5570585261457984,
          "run": 84
         },
         {
          "location": "((0, 1), 'left')",
          "q_value": 0.5570585261457984,
          "run": 85
         },
         {
          "location": "((0, 1), 'left')",
          "q_value": 0.5570585261457984,
          "run": 86
         },
         {
          "location": "((0, 1), 'left')",
          "q_value": 0.5570585261457984,
          "run": 87
         },
         {
          "location": "((0, 1), 'left')",
          "q_value": 1.1442456338867184,
          "run": 88
         },
         {
          "location": "((0, 1), 'left')",
          "q_value": 1.1442456338867184,
          "run": 89
         },
         {
          "location": "((0, 1), 'left')",
          "q_value": 1.1442456338867184,
          "run": 90
         },
         {
          "location": "((0, 1), 'left')",
          "q_value": 1.1442456338867184,
          "run": 91
         },
         {
          "location": "((0, 1), 'left')",
          "q_value": 1.1442456338867184,
          "run": 92
         },
         {
          "location": "((0, 1), 'left')",
          "q_value": 1.1442456338867184,
          "run": 93
         },
         {
          "location": "((0, 1), 'left')",
          "q_value": 1.1442456338867184,
          "run": 94
         },
         {
          "location": "((0, 1), 'left')",
          "q_value": 1.1442456338867184,
          "run": 95
         },
         {
          "location": "((0, 1), 'left')",
          "q_value": 1.1442456338867184,
          "run": 96
         },
         {
          "location": "((0, 1), 'left')",
          "q_value": 1.1442456338867184,
          "run": 97
         },
         {
          "location": "((0, 1), 'left')",
          "q_value": 1.1442456338867184,
          "run": 98
         },
         {
          "location": "((0, 1), 'left')",
          "q_value": 1.1442456338867184,
          "run": 99
         },
         {
          "location": "((0, 1), 'left')",
          "q_value": 1.1442456338867184,
          "run": 100
         },
         {
          "location": "((0, 2), 'down')",
          "q_value": 0,
          "run": 0
         },
         {
          "location": "((0, 2), 'down')",
          "q_value": 0,
          "run": 1
         },
         {
          "location": "((0, 2), 'down')",
          "q_value": 0.09000000000000001,
          "run": 2
         },
         {
          "location": "((0, 2), 'down')",
          "q_value": 0.09000000000000001,
          "run": 3
         },
         {
          "location": "((0, 2), 'down')",
          "q_value": 0.3249,
          "run": 4
         },
         {
          "location": "((0, 2), 'down')",
          "q_value": 0.60192,
          "run": 5
         },
         {
          "location": "((0, 2), 'down')",
          "q_value": 0.9102870000000001,
          "run": 6
         },
         {
          "location": "((0, 2), 'down')",
          "q_value": 1.2409614000000002,
          "run": 7
         },
         {
          "location": "((0, 2), 'down')",
          "q_value": 1.5863980500000003,
          "run": 8
         },
         {
          "location": "((0, 2), 'down')",
          "q_value": 1.9403377560000004,
          "run": 9
         },
         {
          "location": "((0, 2), 'down')",
          "q_value": 2.2976255403000003,
          "run": 10
         },
         {
          "location": "((0, 2), 'down')",
          "q_value": 2.6540523901800004,
          "run": 11
         },
         {
          "location": "((0, 2), 'down')",
          "q_value": 3.0062176146810002,
          "run": 12
         },
         {
          "location": "((0, 2), 'down')",
          "q_value": 3.3514092703800005,
          "run": 13
         },
         {
          "location": "((0, 2), 'down')",
          "q_value": 3.6875004187923905,
          "run": 14
         },
         {
          "location": "((0, 2), 'down')",
          "q_value": 4.012859244818502,
          "run": 15
         },
         {
          "location": "((0, 2), 'down')",
          "q_value": 4.3262713014514675,
          "run": 16
         },
         {
          "location": "((0, 2), 'down')",
          "q_value": 4.626872354309655,
          "run": 17
         },
         {
          "location": "((0, 2), 'down')",
          "q_value": 4.91409048358169,
          "run": 18
         },
         {
          "location": "((0, 2), 'down')",
          "q_value": 5.187596263456221,
          "run": 19
         },
         {
          "location": "((0, 2), 'down')",
          "q_value": 5.680957329677457,
          "run": 20
         },
         {
          "location": "((0, 2), 'down')",
          "q_value": 5.903442607578199,
          "run": 21
         },
         {
          "location": "((0, 2), 'down')",
          "q_value": 6.114621256602018,
          "run": 22
         },
         {
          "location": "((0, 2), 'down')",
          "q_value": 6.314529749745292,
          "run": 23
         },
         {
          "location": "((0, 2), 'down')",
          "q_value": 6.50331033169389,
          "run": 24
         },
         {
          "location": "((0, 2), 'down')",
          "q_value": 6.681189499755316,
          "run": 25
         },
         {
          "location": "((0, 2), 'down')",
          "q_value": 6.681189499755316,
          "run": 26
         },
         {
          "location": "((0, 2), 'down')",
          "q_value": 6.8549208127767445,
          "run": 27
         },
         {
          "location": "((0, 2), 'down')",
          "q_value": 7.017093968196334,
          "run": 28
         },
         {
          "location": "((0, 2), 'down')",
          "q_value": 7.168283284404238,
          "run": 29
         },
         {
          "location": "((0, 2), 'down')",
          "q_value": 7.309063797688598,
          "run": 30
         },
         {
          "location": "((0, 2), 'down')",
          "q_value": 7.557852795477145,
          "run": 31
         },
         {
          "location": "((0, 2), 'down')",
          "q_value": 7.667730677726506,
          "run": 32
         },
         {
          "location": "((0, 2), 'down')",
          "q_value": 7.7700544555712225,
          "run": 33
         },
         {
          "location": "((0, 2), 'down')",
          "q_value": 7.865236171069731,
          "run": 34
         },
         {
          "location": "((0, 2), 'down')",
          "q_value": 8.03328134397161,
          "run": 35
         },
         {
          "location": "((0, 2), 'down')",
          "q_value": 8.10742481002951,
          "run": 36
         },
         {
          "location": "((0, 2), 'down')",
          "q_value": 8.176406769436113,
          "run": 37
         },
         {
          "location": "((0, 2), 'down')",
          "q_value": 8.176406769436113,
          "run": 38
         },
         {
          "location": "((0, 2), 'down')",
          "q_value": 8.240518088861101,
          "run": 39
         },
         {
          "location": "((0, 2), 'down')",
          "q_value": 8.30004307670673,
          "run": 40
         },
         {
          "location": "((0, 2), 'down')",
          "q_value": 8.355257886094623,
          "run": 41
         },
         {
          "location": "((0, 2), 'down')",
          "q_value": 8.40642930283787,
          "run": 42
         },
         {
          "location": "((0, 2), 'down')",
          "q_value": 8.453813857371522,
          "run": 43
         },
         {
          "location": "((0, 2), 'down')",
          "q_value": 8.497657207970065,
          "run": 44
         },
         {
          "location": "((0, 2), 'down')",
          "q_value": 8.538193749875182,
          "run": 45
         },
         {
          "location": "((0, 2), 'down')",
          "q_value": 8.575646411319577,
          "run": 46
         },
         {
          "location": "((0, 2), 'down')",
          "q_value": 8.61022660297634,
          "run": 47
         },
         {
          "location": "((0, 2), 'down')",
          "q_value": 8.642134292188555,
          "run": 48
         },
         {
          "location": "((0, 2), 'down')",
          "q_value": 8.671558177528564,
          "run": 49
         },
         {
          "location": "((0, 2), 'down')",
          "q_value": 8.698675942878685,
          "run": 50
         },
         {
          "location": "((0, 2), 'down')",
          "q_value": 8.723654573383497,
          "run": 51
         },
         {
          "location": "((0, 2), 'down')",
          "q_value": 8.74665071835856,
          "run": 52
         },
         {
          "location": "((0, 2), 'down')",
          "q_value": 8.767811088604773,
          "run": 53
         },
         {
          "location": "((0, 2), 'down')",
          "q_value": 8.78727287761816,
          "run": 54
         },
         {
          "location": "((0, 2), 'down')",
          "q_value": 8.80516419794282,
          "run": 55
         },
         {
          "location": "((0, 2), 'down')",
          "q_value": 8.821604525426368,
          "run": 56
         },
         {
          "location": "((0, 2), 'down')",
          "q_value": 8.836705145433777,
          "run": 57
         },
         {
          "location": "((0, 2), 'down')",
          "q_value": 8.85056959618544,
          "run": 58
         },
         {
          "location": "((0, 2), 'down')",
          "q_value": 8.863294105332434,
          "run": 59
         },
         {
          "location": "((0, 2), 'down')",
          "q_value": 8.874968016688175,
          "run": 60
         },
         {
          "location": "((0, 2), 'down')",
          "q_value": 8.885674204719443,
          "run": 61
         },
         {
          "location": "((0, 2), 'down')",
          "q_value": 8.895489474977577,
          "run": 62
         },
         {
          "location": "((0, 2), 'down')",
          "q_value": 8.904484949136888,
          "run": 63
         },
         {
          "location": "((0, 2), 'down')",
          "q_value": 8.912726433714562,
          "run": 64
         },
         {
          "location": "((0, 2), 'down')",
          "q_value": 8.920274771885332,
          "run": 65
         },
         {
          "location": "((0, 2), 'down')",
          "q_value": 8.927186178084803,
          "run": 66
         },
         {
          "location": "((0, 2), 'down')",
          "q_value": 8.933512555325526,
          "run": 67
         },
         {
          "location": "((0, 2), 'down')",
          "q_value": 8.939301795337256,
          "run": 68
         },
         {
          "location": "((0, 2), 'down')",
          "q_value": 8.944598061793386,
          "run": 69
         },
         {
          "location": "((0, 2), 'down')",
          "q_value": 8.949442057004916,
          "run": 70
         },
         {
          "location": "((0, 2), 'down')",
          "q_value": 8.953871272556206,
          "run": 71
         },
         {
          "location": "((0, 2), 'down')",
          "q_value": 8.95792022442719,
          "run": 72
         },
         {
          "location": "((0, 2), 'down')",
          "q_value": 8.961620673198414,
          "run": 73
         },
         {
          "location": "((0, 2), 'down')",
          "q_value": 8.965001829971122,
          "run": 74
         },
         {
          "location": "((0, 2), 'down')",
          "q_value": 8.968090548657305,
          "run": 75
         },
         {
          "location": "((0, 2), 'down')",
          "q_value": 8.97345036629085,
          "run": 76
         },
         {
          "location": "((0, 2), 'down')",
          "q_value": 8.975772340025234,
          "run": 77
         },
         {
          "location": "((0, 2), 'down')",
          "q_value": 8.977895415349831,
          "run": 78
         },
         {
          "location": "((0, 2), 'down')",
          "q_value": 8.979836152209257,
          "run": 79
         },
         {
          "location": "((0, 2), 'down')",
          "q_value": 8.9816097875433,
          "run": 80
         },
         {
          "location": "((0, 2), 'down')",
          "q_value": 8.983230334288443,
          "run": 81
         },
         {
          "location": "((0, 2), 'down')",
          "q_value": 8.984710673809124,
          "run": 82
         },
         {
          "location": "((0, 2), 'down')",
          "q_value": 8.986062642082784,
          "run": 83
         },
         {
          "location": "((0, 2), 'down')",
          "q_value": 8.98729710996362,
          "run": 84
         },
         {
          "location": "((0, 2), 'down')",
          "q_value": 8.988424057847462,
          "run": 85
         },
         {
          "location": "((0, 2), 'down')",
          "q_value": 8.989452645054898,
          "run": 86
         },
         {
          "location": "((0, 2), 'down')",
          "q_value": 8.990391274242373,
          "run": 87
         },
         {
          "location": "((0, 2), 'down')",
          "q_value": 8.991247651141805,
          "run": 88
         },
         {
          "location": "((0, 2), 'down')",
          "q_value": 8.992028839918927,
          "run": 89
         },
         {
          "location": "((0, 2), 'down')",
          "q_value": 8.993959645841782,
          "run": 90
         },
         {
          "location": "((0, 2), 'down')",
          "q_value": 8.994487503909557,
          "run": 91
         },
         {
          "location": "((0, 2), 'down')",
          "q_value": 8.99497019390536,
          "run": 92
         },
         {
          "location": "((0, 2), 'down')",
          "q_value": 8.995411470862907,
          "run": 93
         },
         {
          "location": "((0, 2), 'down')",
          "q_value": 8.995814790489892,
          "run": 94
         },
         {
          "location": "((0, 2), 'down')",
          "q_value": 8.99618333148285,
          "run": 95
         },
         {
          "location": "((0, 2), 'down')",
          "q_value": 8.996520016372317,
          "run": 96
         },
         {
          "location": "((0, 2), 'down')",
          "q_value": 8.996827530969062,
          "run": 97
         },
         {
          "location": "((0, 2), 'down')",
          "q_value": 8.997108342482736,
          "run": 98
         },
         {
          "location": "((0, 2), 'down')",
          "q_value": 8.997108342482736,
          "run": 99
         },
         {
          "location": "((0, 2), 'down')",
          "q_value": 8.997367995569032,
          "run": 100
         },
         {
          "location": "((0, 2), 'right')",
          "q_value": 0,
          "run": 0
         },
         {
          "location": "((0, 2), 'right')",
          "q_value": 0,
          "run": 1
         },
         {
          "location": "((0, 2), 'right')",
          "q_value": 0,
          "run": 2
         },
         {
          "location": "((0, 2), 'right')",
          "q_value": 0,
          "run": 3
         },
         {
          "location": "((0, 2), 'right')",
          "q_value": 0,
          "run": 4
         },
         {
          "location": "((0, 2), 'right')",
          "q_value": 0,
          "run": 5
         },
         {
          "location": "((0, 2), 'right')",
          "q_value": 0,
          "run": 6
         },
         {
          "location": "((0, 2), 'right')",
          "q_value": 0,
          "run": 7
         },
         {
          "location": "((0, 2), 'right')",
          "q_value": 0,
          "run": 8
         },
         {
          "location": "((0, 2), 'right')",
          "q_value": 0,
          "run": 9
         },
         {
          "location": "((0, 2), 'right')",
          "q_value": 0,
          "run": 10
         },
         {
          "location": "((0, 2), 'right')",
          "q_value": 0,
          "run": 11
         },
         {
          "location": "((0, 2), 'right')",
          "q_value": 0,
          "run": 12
         },
         {
          "location": "((0, 2), 'right')",
          "q_value": 0,
          "run": 13
         },
         {
          "location": "((0, 2), 'right')",
          "q_value": 0,
          "run": 14
         },
         {
          "location": "((0, 2), 'right')",
          "q_value": 0,
          "run": 15
         },
         {
          "location": "((0, 2), 'right')",
          "q_value": 0,
          "run": 16
         },
         {
          "location": "((0, 2), 'right')",
          "q_value": 0,
          "run": 17
         },
         {
          "location": "((0, 2), 'right')",
          "q_value": 0,
          "run": 18
         },
         {
          "location": "((0, 2), 'right')",
          "q_value": 0,
          "run": 19
         },
         {
          "location": "((0, 2), 'right')",
          "q_value": 0,
          "run": 20
         },
         {
          "location": "((0, 2), 'right')",
          "q_value": 0,
          "run": 21
         },
         {
          "location": "((0, 2), 'right')",
          "q_value": 0,
          "run": 22
         },
         {
          "location": "((0, 2), 'right')",
          "q_value": 0,
          "run": 23
         },
         {
          "location": "((0, 2), 'right')",
          "q_value": 0,
          "run": 24
         },
         {
          "location": "((0, 2), 'right')",
          "q_value": 0,
          "run": 25
         },
         {
          "location": "((0, 2), 'right')",
          "q_value": 0,
          "run": 26
         },
         {
          "location": "((0, 2), 'right')",
          "q_value": 0,
          "run": 27
         },
         {
          "location": "((0, 2), 'right')",
          "q_value": 0,
          "run": 28
         },
         {
          "location": "((0, 2), 'right')",
          "q_value": 0,
          "run": 29
         },
         {
          "location": "((0, 2), 'right')",
          "q_value": 0,
          "run": 30
         },
         {
          "location": "((0, 2), 'right')",
          "q_value": 0,
          "run": 31
         },
         {
          "location": "((0, 2), 'right')",
          "q_value": 0,
          "run": 32
         },
         {
          "location": "((0, 2), 'right')",
          "q_value": 0,
          "run": 33
         },
         {
          "location": "((0, 2), 'right')",
          "q_value": 0,
          "run": 34
         },
         {
          "location": "((0, 2), 'right')",
          "q_value": 0,
          "run": 35
         },
         {
          "location": "((0, 2), 'right')",
          "q_value": 0,
          "run": 36
         },
         {
          "location": "((0, 2), 'right')",
          "q_value": 0.044122805858412245,
          "run": 37
         },
         {
          "location": "((0, 2), 'right')",
          "q_value": 0.044122805858412245,
          "run": 38
         },
         {
          "location": "((0, 2), 'right')",
          "q_value": 0.044122805858412245,
          "run": 39
         },
         {
          "location": "((0, 2), 'right')",
          "q_value": 0.044122805858412245,
          "run": 40
         },
         {
          "location": "((0, 2), 'right')",
          "q_value": 0.044122805858412245,
          "run": 41
         },
         {
          "location": "((0, 2), 'right')",
          "q_value": 0.044122805858412245,
          "run": 42
         },
         {
          "location": "((0, 2), 'right')",
          "q_value": 0.044122805858412245,
          "run": 43
         },
         {
          "location": "((0, 2), 'right')",
          "q_value": 0.044122805858412245,
          "run": 44
         },
         {
          "location": "((0, 2), 'right')",
          "q_value": 0.044122805858412245,
          "run": 45
         },
         {
          "location": "((0, 2), 'right')",
          "q_value": 0.044122805858412245,
          "run": 46
         },
         {
          "location": "((0, 2), 'right')",
          "q_value": 0.044122805858412245,
          "run": 47
         },
         {
          "location": "((0, 2), 'right')",
          "q_value": 0.044122805858412245,
          "run": 48
         },
         {
          "location": "((0, 2), 'right')",
          "q_value": 0.044122805858412245,
          "run": 49
         },
         {
          "location": "((0, 2), 'right')",
          "q_value": 0.044122805858412245,
          "run": 50
         },
         {
          "location": "((0, 2), 'right')",
          "q_value": 0.044122805858412245,
          "run": 51
         },
         {
          "location": "((0, 2), 'right')",
          "q_value": 0.044122805858412245,
          "run": 52
         },
         {
          "location": "((0, 2), 'right')",
          "q_value": 0.044122805858412245,
          "run": 53
         },
         {
          "location": "((0, 2), 'right')",
          "q_value": 0.044122805858412245,
          "run": 54
         },
         {
          "location": "((0, 2), 'right')",
          "q_value": 0.044122805858412245,
          "run": 55
         },
         {
          "location": "((0, 2), 'right')",
          "q_value": 0.044122805858412245,
          "run": 56
         },
         {
          "location": "((0, 2), 'right')",
          "q_value": 0.044122805858412245,
          "run": 57
         },
         {
          "location": "((0, 2), 'right')",
          "q_value": 0.044122805858412245,
          "run": 58
         },
         {
          "location": "((0, 2), 'right')",
          "q_value": 0.044122805858412245,
          "run": 59
         },
         {
          "location": "((0, 2), 'right')",
          "q_value": 0.044122805858412245,
          "run": 60
         },
         {
          "location": "((0, 2), 'right')",
          "q_value": 0.044122805858412245,
          "run": 61
         },
         {
          "location": "((0, 2), 'right')",
          "q_value": 0.044122805858412245,
          "run": 62
         },
         {
          "location": "((0, 2), 'right')",
          "q_value": 0.044122805858412245,
          "run": 63
         },
         {
          "location": "((0, 2), 'right')",
          "q_value": 0.044122805858412245,
          "run": 64
         },
         {
          "location": "((0, 2), 'right')",
          "q_value": 0.044122805858412245,
          "run": 65
         },
         {
          "location": "((0, 2), 'right')",
          "q_value": 0.044122805858412245,
          "run": 66
         },
         {
          "location": "((0, 2), 'right')",
          "q_value": 0.044122805858412245,
          "run": 67
         },
         {
          "location": "((0, 2), 'right')",
          "q_value": 0.044122805858412245,
          "run": 68
         },
         {
          "location": "((0, 2), 'right')",
          "q_value": 0.044122805858412245,
          "run": 69
         },
         {
          "location": "((0, 2), 'right')",
          "q_value": 0.044122805858412245,
          "run": 70
         },
         {
          "location": "((0, 2), 'right')",
          "q_value": 0.044122805858412245,
          "run": 71
         },
         {
          "location": "((0, 2), 'right')",
          "q_value": 0.044122805858412245,
          "run": 72
         },
         {
          "location": "((0, 2), 'right')",
          "q_value": 0.044122805858412245,
          "run": 73
         },
         {
          "location": "((0, 2), 'right')",
          "q_value": 0.044122805858412245,
          "run": 74
         },
         {
          "location": "((0, 2), 'right')",
          "q_value": 0.044122805858412245,
          "run": 75
         },
         {
          "location": "((0, 2), 'right')",
          "q_value": 0.044122805858412245,
          "run": 76
         },
         {
          "location": "((0, 2), 'right')",
          "q_value": 0.044122805858412245,
          "run": 77
         },
         {
          "location": "((0, 2), 'right')",
          "q_value": 0.044122805858412245,
          "run": 78
         },
         {
          "location": "((0, 2), 'right')",
          "q_value": 0.044122805858412245,
          "run": 79
         },
         {
          "location": "((0, 2), 'right')",
          "q_value": 0.044122805858412245,
          "run": 80
         },
         {
          "location": "((0, 2), 'right')",
          "q_value": 0.044122805858412245,
          "run": 81
         },
         {
          "location": "((0, 2), 'right')",
          "q_value": 0.044122805858412245,
          "run": 82
         },
         {
          "location": "((0, 2), 'right')",
          "q_value": 0.044122805858412245,
          "run": 83
         },
         {
          "location": "((0, 2), 'right')",
          "q_value": 0.044122805858412245,
          "run": 84
         },
         {
          "location": "((0, 2), 'right')",
          "q_value": 0.044122805858412245,
          "run": 85
         },
         {
          "location": "((0, 2), 'right')",
          "q_value": 0.044122805858412245,
          "run": 86
         },
         {
          "location": "((0, 2), 'right')",
          "q_value": 0.044122805858412245,
          "run": 87
         },
         {
          "location": "((0, 2), 'right')",
          "q_value": 0.044122805858412245,
          "run": 88
         },
         {
          "location": "((0, 2), 'right')",
          "q_value": 0.044122805858412245,
          "run": 89
         },
         {
          "location": "((0, 2), 'right')",
          "q_value": 0.044122805858412245,
          "run": 90
         },
         {
          "location": "((0, 2), 'right')",
          "q_value": 0.044122805858412245,
          "run": 91
         },
         {
          "location": "((0, 2), 'right')",
          "q_value": 0.044122805858412245,
          "run": 92
         },
         {
          "location": "((0, 2), 'right')",
          "q_value": 0.044122805858412245,
          "run": 93
         },
         {
          "location": "((0, 2), 'right')",
          "q_value": 0.044122805858412245,
          "run": 94
         },
         {
          "location": "((0, 2), 'right')",
          "q_value": 0.044122805858412245,
          "run": 95
         },
         {
          "location": "((0, 2), 'right')",
          "q_value": 0.044122805858412245,
          "run": 96
         },
         {
          "location": "((0, 2), 'right')",
          "q_value": 0.044122805858412245,
          "run": 97
         },
         {
          "location": "((0, 2), 'right')",
          "q_value": 0.044122805858412245,
          "run": 98
         },
         {
          "location": "((0, 2), 'right')",
          "q_value": 0.044122805858412245,
          "run": 99
         },
         {
          "location": "((0, 2), 'right')",
          "q_value": 0.044122805858412245,
          "run": 100
         },
         {
          "location": "((0, 2), 'up')",
          "q_value": 0,
          "run": 0
         },
         {
          "location": "((0, 2), 'up')",
          "q_value": 0,
          "run": 1
         },
         {
          "location": "((0, 2), 'up')",
          "q_value": -0.19,
          "run": 2
         },
         {
          "location": "((0, 2), 'up')",
          "q_value": -0.19,
          "run": 3
         },
         {
          "location": "((0, 2), 'up')",
          "q_value": -0.19,
          "run": 4
         },
         {
          "location": "((0, 2), 'up')",
          "q_value": -0.19,
          "run": 5
         },
         {
          "location": "((0, 2), 'up')",
          "q_value": -0.19,
          "run": 6
         },
         {
          "location": "((0, 2), 'up')",
          "q_value": -0.19,
          "run": 7
         },
         {
          "location": "((0, 2), 'up')",
          "q_value": -0.19,
          "run": 8
         },
         {
          "location": "((0, 2), 'up')",
          "q_value": -0.19,
          "run": 9
         },
         {
          "location": "((0, 2), 'up')",
          "q_value": -0.19,
          "run": 10
         },
         {
          "location": "((0, 2), 'up')",
          "q_value": -0.19,
          "run": 11
         },
         {
          "location": "((0, 2), 'up')",
          "q_value": -0.19,
          "run": 12
         },
         {
          "location": "((0, 2), 'up')",
          "q_value": -0.19,
          "run": 13
         },
         {
          "location": "((0, 2), 'up')",
          "q_value": -0.19,
          "run": 14
         },
         {
          "location": "((0, 2), 'up')",
          "q_value": -0.19,
          "run": 15
         },
         {
          "location": "((0, 2), 'up')",
          "q_value": -0.19,
          "run": 16
         },
         {
          "location": "((0, 2), 'up')",
          "q_value": -0.19,
          "run": 17
         },
         {
          "location": "((0, 2), 'up')",
          "q_value": -0.19,
          "run": 18
         },
         {
          "location": "((0, 2), 'up')",
          "q_value": -0.19,
          "run": 19
         },
         {
          "location": "((0, 2), 'up')",
          "q_value": -0.19,
          "run": 20
         },
         {
          "location": "((0, 2), 'up')",
          "q_value": -0.19,
          "run": 21
         },
         {
          "location": "((0, 2), 'up')",
          "q_value": -0.19,
          "run": 22
         },
         {
          "location": "((0, 2), 'up')",
          "q_value": -0.19,
          "run": 23
         },
         {
          "location": "((0, 2), 'up')",
          "q_value": -0.19,
          "run": 24
         },
         {
          "location": "((0, 2), 'up')",
          "q_value": -0.19,
          "run": 25
         },
         {
          "location": "((0, 2), 'up')",
          "q_value": -0.19,
          "run": 26
         },
         {
          "location": "((0, 2), 'up')",
          "q_value": -0.19,
          "run": 27
         },
         {
          "location": "((0, 2), 'up')",
          "q_value": -0.19,
          "run": 28
         },
         {
          "location": "((0, 2), 'up')",
          "q_value": -0.19,
          "run": 29
         },
         {
          "location": "((0, 2), 'up')",
          "q_value": -0.19,
          "run": 30
         },
         {
          "location": "((0, 2), 'up')",
          "q_value": -0.19,
          "run": 31
         },
         {
          "location": "((0, 2), 'up')",
          "q_value": -0.19,
          "run": 32
         },
         {
          "location": "((0, 2), 'up')",
          "q_value": -0.19,
          "run": 33
         },
         {
          "location": "((0, 2), 'up')",
          "q_value": -0.19,
          "run": 34
         },
         {
          "location": "((0, 2), 'up')",
          "q_value": -0.19,
          "run": 35
         },
         {
          "location": "((0, 2), 'up')",
          "q_value": -0.19,
          "run": 36
         },
         {
          "location": "((0, 2), 'up')",
          "q_value": -0.19,
          "run": 37
         },
         {
          "location": "((0, 2), 'up')",
          "q_value": -0.19,
          "run": 38
         },
         {
          "location": "((0, 2), 'up')",
          "q_value": 0.4648766092492503,
          "run": 39
         },
         {
          "location": "((0, 2), 'up')",
          "q_value": 0.4648766092492503,
          "run": 40
         },
         {
          "location": "((0, 2), 'up')",
          "q_value": 0.4648766092492503,
          "run": 41
         },
         {
          "location": "((0, 2), 'up')",
          "q_value": 0.4648766092492503,
          "run": 42
         },
         {
          "location": "((0, 2), 'up')",
          "q_value": 0.4648766092492503,
          "run": 43
         },
         {
          "location": "((0, 2), 'up')",
          "q_value": 0.4648766092492503,
          "run": 44
         },
         {
          "location": "((0, 2), 'up')",
          "q_value": 0.4648766092492503,
          "run": 45
         },
         {
          "location": "((0, 2), 'up')",
          "q_value": 0.4648766092492503,
          "run": 46
         },
         {
          "location": "((0, 2), 'up')",
          "q_value": 0.4648766092492503,
          "run": 47
         },
         {
          "location": "((0, 2), 'up')",
          "q_value": 0.4648766092492503,
          "run": 48
         },
         {
          "location": "((0, 2), 'up')",
          "q_value": 0.4648766092492503,
          "run": 49
         },
         {
          "location": "((0, 2), 'up')",
          "q_value": 0.4648766092492503,
          "run": 50
         },
         {
          "location": "((0, 2), 'up')",
          "q_value": 0.4648766092492503,
          "run": 51
         },
         {
          "location": "((0, 2), 'up')",
          "q_value": 0.4648766092492503,
          "run": 52
         },
         {
          "location": "((0, 2), 'up')",
          "q_value": 0.4648766092492503,
          "run": 53
         },
         {
          "location": "((0, 2), 'up')",
          "q_value": 0.4648766092492503,
          "run": 54
         },
         {
          "location": "((0, 2), 'up')",
          "q_value": 0.4648766092492503,
          "run": 55
         },
         {
          "location": "((0, 2), 'up')",
          "q_value": 0.4648766092492503,
          "run": 56
         },
         {
          "location": "((0, 2), 'up')",
          "q_value": 0.4648766092492503,
          "run": 57
         },
         {
          "location": "((0, 2), 'up')",
          "q_value": 0.4648766092492503,
          "run": 58
         },
         {
          "location": "((0, 2), 'up')",
          "q_value": 0.4648766092492503,
          "run": 59
         },
         {
          "location": "((0, 2), 'up')",
          "q_value": 0.4648766092492503,
          "run": 60
         },
         {
          "location": "((0, 2), 'up')",
          "q_value": 0.4648766092492503,
          "run": 61
         },
         {
          "location": "((0, 2), 'up')",
          "q_value": 0.4648766092492503,
          "run": 62
         },
         {
          "location": "((0, 2), 'up')",
          "q_value": 0.4648766092492503,
          "run": 63
         },
         {
          "location": "((0, 2), 'up')",
          "q_value": 0.4648766092492503,
          "run": 64
         },
         {
          "location": "((0, 2), 'up')",
          "q_value": 0.4648766092492503,
          "run": 65
         },
         {
          "location": "((0, 2), 'up')",
          "q_value": 0.4648766092492503,
          "run": 66
         },
         {
          "location": "((0, 2), 'up')",
          "q_value": 0.4648766092492503,
          "run": 67
         },
         {
          "location": "((0, 2), 'up')",
          "q_value": 0.4648766092492503,
          "run": 68
         },
         {
          "location": "((0, 2), 'up')",
          "q_value": 0.4648766092492503,
          "run": 69
         },
         {
          "location": "((0, 2), 'up')",
          "q_value": 0.4648766092492503,
          "run": 70
         },
         {
          "location": "((0, 2), 'up')",
          "q_value": 1.1238387334547677,
          "run": 71
         },
         {
          "location": "((0, 2), 'up')",
          "q_value": 1.1238387334547677,
          "run": 72
         },
         {
          "location": "((0, 2), 'up')",
          "q_value": 1.1238387334547677,
          "run": 73
         },
         {
          "location": "((0, 2), 'up')",
          "q_value": 1.1238387334547677,
          "run": 74
         },
         {
          "location": "((0, 2), 'up')",
          "q_value": 1.7183050248066918,
          "run": 75
         },
         {
          "location": "((0, 2), 'up')",
          "q_value": 1.7183050248066918,
          "run": 76
         },
         {
          "location": "((0, 2), 'up')",
          "q_value": 1.7183050248066918,
          "run": 77
         },
         {
          "location": "((0, 2), 'up')",
          "q_value": 1.7183050248066918,
          "run": 78
         },
         {
          "location": "((0, 2), 'up')",
          "q_value": 1.7183050248066918,
          "run": 79
         },
         {
          "location": "((0, 2), 'up')",
          "q_value": 1.7183050248066918,
          "run": 80
         },
         {
          "location": "((0, 2), 'up')",
          "q_value": 1.7183050248066918,
          "run": 81
         },
         {
          "location": "((0, 2), 'up')",
          "q_value": 1.7183050248066918,
          "run": 82
         },
         {
          "location": "((0, 2), 'up')",
          "q_value": 1.7183050248066918,
          "run": 83
         },
         {
          "location": "((0, 2), 'up')",
          "q_value": 1.7183050248066918,
          "run": 84
         },
         {
          "location": "((0, 2), 'up')",
          "q_value": 1.7183050248066918,
          "run": 85
         },
         {
          "location": "((0, 2), 'up')",
          "q_value": 1.7183050248066918,
          "run": 86
         },
         {
          "location": "((0, 2), 'up')",
          "q_value": 1.7183050248066918,
          "run": 87
         },
         {
          "location": "((0, 2), 'up')",
          "q_value": 1.7183050248066918,
          "run": 88
         },
         {
          "location": "((0, 2), 'up')",
          "q_value": 1.7183050248066918,
          "run": 89
         },
         {
          "location": "((0, 2), 'up')",
          "q_value": 1.7183050248066918,
          "run": 90
         },
         {
          "location": "((0, 2), 'up')",
          "q_value": 1.7183050248066918,
          "run": 91
         },
         {
          "location": "((0, 2), 'up')",
          "q_value": 1.7183050248066918,
          "run": 92
         },
         {
          "location": "((0, 2), 'up')",
          "q_value": 1.7183050248066918,
          "run": 93
         },
         {
          "location": "((0, 2), 'up')",
          "q_value": 1.7183050248066918,
          "run": 94
         },
         {
          "location": "((0, 2), 'up')",
          "q_value": 1.7183050248066918,
          "run": 95
         },
         {
          "location": "((0, 2), 'up')",
          "q_value": 1.7183050248066918,
          "run": 96
         },
         {
          "location": "((0, 2), 'up')",
          "q_value": 1.7183050248066918,
          "run": 97
         },
         {
          "location": "((0, 2), 'up')",
          "q_value": 1.7183050248066918,
          "run": 98
         },
         {
          "location": "((0, 2), 'up')",
          "q_value": 1.7183050248066918,
          "run": 99
         },
         {
          "location": "((0, 2), 'up')",
          "q_value": 1.7183050248066918,
          "run": 100
         },
         {
          "location": "((0, 2), 'left')",
          "q_value": 0,
          "run": 0
         },
         {
          "location": "((0, 2), 'left')",
          "q_value": 0,
          "run": 1
         },
         {
          "location": "((0, 2), 'left')",
          "q_value": 0,
          "run": 2
         },
         {
          "location": "((0, 2), 'left')",
          "q_value": 0,
          "run": 3
         },
         {
          "location": "((0, 2), 'left')",
          "q_value": 0,
          "run": 4
         },
         {
          "location": "((0, 2), 'left')",
          "q_value": 0,
          "run": 5
         },
         {
          "location": "((0, 2), 'left')",
          "q_value": 0,
          "run": 6
         },
         {
          "location": "((0, 2), 'left')",
          "q_value": 0,
          "run": 7
         },
         {
          "location": "((0, 2), 'left')",
          "q_value": 0,
          "run": 8
         },
         {
          "location": "((0, 2), 'left')",
          "q_value": 0,
          "run": 9
         },
         {
          "location": "((0, 2), 'left')",
          "q_value": 0,
          "run": 10
         },
         {
          "location": "((0, 2), 'left')",
          "q_value": 0,
          "run": 11
         },
         {
          "location": "((0, 2), 'left')",
          "q_value": 0,
          "run": 12
         },
         {
          "location": "((0, 2), 'left')",
          "q_value": 0,
          "run": 13
         },
         {
          "location": "((0, 2), 'left')",
          "q_value": 0,
          "run": 14
         },
         {
          "location": "((0, 2), 'left')",
          "q_value": 0,
          "run": 15
         },
         {
          "location": "((0, 2), 'left')",
          "q_value": 0,
          "run": 16
         },
         {
          "location": "((0, 2), 'left')",
          "q_value": 0,
          "run": 17
         },
         {
          "location": "((0, 2), 'left')",
          "q_value": 0,
          "run": 18
         },
         {
          "location": "((0, 2), 'left')",
          "q_value": 0,
          "run": 19
         },
         {
          "location": "((0, 2), 'left')",
          "q_value": 0,
          "run": 20
         },
         {
          "location": "((0, 2), 'left')",
          "q_value": 0,
          "run": 21
         },
         {
          "location": "((0, 2), 'left')",
          "q_value": 0,
          "run": 22
         },
         {
          "location": "((0, 2), 'left')",
          "q_value": 0,
          "run": 23
         },
         {
          "location": "((0, 2), 'left')",
          "q_value": 0,
          "run": 24
         },
         {
          "location": "((0, 2), 'left')",
          "q_value": 0,
          "run": 25
         },
         {
          "location": "((0, 2), 'left')",
          "q_value": 0,
          "run": 26
         },
         {
          "location": "((0, 2), 'left')",
          "q_value": 0,
          "run": 27
         },
         {
          "location": "((0, 2), 'left')",
          "q_value": 0,
          "run": 28
         },
         {
          "location": "((0, 2), 'left')",
          "q_value": 0,
          "run": 29
         },
         {
          "location": "((0, 2), 'left')",
          "q_value": 0,
          "run": 30
         },
         {
          "location": "((0, 2), 'left')",
          "q_value": 0,
          "run": 31
         },
         {
          "location": "((0, 2), 'left')",
          "q_value": 0,
          "run": 32
         },
         {
          "location": "((0, 2), 'left')",
          "q_value": 0,
          "run": 33
         },
         {
          "location": "((0, 2), 'left')",
          "q_value": 0,
          "run": 34
         },
         {
          "location": "((0, 2), 'left')",
          "q_value": 0,
          "run": 35
         },
         {
          "location": "((0, 2), 'left')",
          "q_value": 0,
          "run": 36
         },
         {
          "location": "((0, 2), 'left')",
          "q_value": 0,
          "run": 37
         },
         {
          "location": "((0, 2), 'left')",
          "q_value": 0,
          "run": 38
         },
         {
          "location": "((0, 2), 'left')",
          "q_value": 0,
          "run": 39
         },
         {
          "location": "((0, 2), 'left')",
          "q_value": 0,
          "run": 40
         },
         {
          "location": "((0, 2), 'left')",
          "q_value": 0,
          "run": 41
         },
         {
          "location": "((0, 2), 'left')",
          "q_value": 0,
          "run": 42
         },
         {
          "location": "((0, 2), 'left')",
          "q_value": 0,
          "run": 43
         },
         {
          "location": "((0, 2), 'left')",
          "q_value": 0,
          "run": 44
         },
         {
          "location": "((0, 2), 'left')",
          "q_value": 0,
          "run": 45
         },
         {
          "location": "((0, 2), 'left')",
          "q_value": 0,
          "run": 46
         },
         {
          "location": "((0, 2), 'left')",
          "q_value": 0,
          "run": 47
         },
         {
          "location": "((0, 2), 'left')",
          "q_value": 0,
          "run": 48
         },
         {
          "location": "((0, 2), 'left')",
          "q_value": 0,
          "run": 49
         },
         {
          "location": "((0, 2), 'left')",
          "q_value": 0,
          "run": 50
         },
         {
          "location": "((0, 2), 'left')",
          "q_value": 0,
          "run": 51
         },
         {
          "location": "((0, 2), 'left')",
          "q_value": 0,
          "run": 52
         },
         {
          "location": "((0, 2), 'left')",
          "q_value": 0,
          "run": 53
         },
         {
          "location": "((0, 2), 'left')",
          "q_value": 0,
          "run": 54
         },
         {
          "location": "((0, 2), 'left')",
          "q_value": 0,
          "run": 55
         },
         {
          "location": "((0, 2), 'left')",
          "q_value": 0,
          "run": 56
         },
         {
          "location": "((0, 2), 'left')",
          "q_value": 0,
          "run": 57
         },
         {
          "location": "((0, 2), 'left')",
          "q_value": 0,
          "run": 58
         },
         {
          "location": "((0, 2), 'left')",
          "q_value": 0,
          "run": 59
         },
         {
          "location": "((0, 2), 'left')",
          "q_value": 0,
          "run": 60
         },
         {
          "location": "((0, 2), 'left')",
          "q_value": 0,
          "run": 61
         },
         {
          "location": "((0, 2), 'left')",
          "q_value": 0,
          "run": 62
         },
         {
          "location": "((0, 2), 'left')",
          "q_value": 0,
          "run": 63
         },
         {
          "location": "((0, 2), 'left')",
          "q_value": 0,
          "run": 64
         },
         {
          "location": "((0, 2), 'left')",
          "q_value": 0,
          "run": 65
         },
         {
          "location": "((0, 2), 'left')",
          "q_value": 0,
          "run": 66
         },
         {
          "location": "((0, 2), 'left')",
          "q_value": 0,
          "run": 67
         },
         {
          "location": "((0, 2), 'left')",
          "q_value": 0,
          "run": 68
         },
         {
          "location": "((0, 2), 'left')",
          "q_value": 0,
          "run": 69
         },
         {
          "location": "((0, 2), 'left')",
          "q_value": 0,
          "run": 70
         },
         {
          "location": "((0, 2), 'left')",
          "q_value": 0,
          "run": 71
         },
         {
          "location": "((0, 2), 'left')",
          "q_value": 0,
          "run": 72
         },
         {
          "location": "((0, 2), 'left')",
          "q_value": 0,
          "run": 73
         },
         {
          "location": "((0, 2), 'left')",
          "q_value": 0,
          "run": 74
         },
         {
          "location": "((0, 2), 'left')",
          "q_value": 0,
          "run": 75
         },
         {
          "location": "((0, 2), 'left')",
          "q_value": 0,
          "run": 76
         },
         {
          "location": "((0, 2), 'left')",
          "q_value": 0,
          "run": 77
         },
         {
          "location": "((0, 2), 'left')",
          "q_value": 0,
          "run": 78
         },
         {
          "location": "((0, 2), 'left')",
          "q_value": 0,
          "run": 79
         },
         {
          "location": "((0, 2), 'left')",
          "q_value": 0,
          "run": 80
         },
         {
          "location": "((0, 2), 'left')",
          "q_value": 0,
          "run": 81
         },
         {
          "location": "((0, 2), 'left')",
          "q_value": 0,
          "run": 82
         },
         {
          "location": "((0, 2), 'left')",
          "q_value": 0,
          "run": 83
         },
         {
          "location": "((0, 2), 'left')",
          "q_value": 0,
          "run": 84
         },
         {
          "location": "((0, 2), 'left')",
          "q_value": 0,
          "run": 85
         },
         {
          "location": "((0, 2), 'left')",
          "q_value": 0,
          "run": 86
         },
         {
          "location": "((0, 2), 'left')",
          "q_value": 0,
          "run": 87
         },
         {
          "location": "((0, 2), 'left')",
          "q_value": 0,
          "run": 88
         },
         {
          "location": "((0, 2), 'left')",
          "q_value": 0,
          "run": 89
         },
         {
          "location": "((0, 2), 'left')",
          "q_value": 1.3792107661008748,
          "run": 90
         },
         {
          "location": "((0, 2), 'left')",
          "q_value": 1.3792107661008748,
          "run": 91
         },
         {
          "location": "((0, 2), 'left')",
          "q_value": 1.3792107661008748,
          "run": 92
         },
         {
          "location": "((0, 2), 'left')",
          "q_value": 1.3792107661008748,
          "run": 93
         },
         {
          "location": "((0, 2), 'left')",
          "q_value": 1.3792107661008748,
          "run": 94
         },
         {
          "location": "((0, 2), 'left')",
          "q_value": 1.3792107661008748,
          "run": 95
         },
         {
          "location": "((0, 2), 'left')",
          "q_value": 1.3792107661008748,
          "run": 96
         },
         {
          "location": "((0, 2), 'left')",
          "q_value": 1.3792107661008748,
          "run": 97
         },
         {
          "location": "((0, 2), 'left')",
          "q_value": 1.3792107661008748,
          "run": 98
         },
         {
          "location": "((0, 2), 'left')",
          "q_value": 1.3792107661008748,
          "run": 99
         },
         {
          "location": "((0, 2), 'left')",
          "q_value": 1.3792107661008748,
          "run": 100
         },
         {
          "location": "((0, 3), 'down')",
          "q_value": 0,
          "run": 0
         },
         {
          "location": "((0, 3), 'down')",
          "q_value": 0,
          "run": 1
         },
         {
          "location": "((0, 3), 'down')",
          "q_value": 0,
          "run": 2
         },
         {
          "location": "((0, 3), 'down')",
          "q_value": 0,
          "run": 3
         },
         {
          "location": "((0, 3), 'down')",
          "q_value": 0,
          "run": 4
         },
         {
          "location": "((0, 3), 'down')",
          "q_value": 0,
          "run": 5
         },
         {
          "location": "((0, 3), 'down')",
          "q_value": 0,
          "run": 6
         },
         {
          "location": "((0, 3), 'down')",
          "q_value": 0,
          "run": 7
         },
         {
          "location": "((0, 3), 'down')",
          "q_value": 0,
          "run": 8
         },
         {
          "location": "((0, 3), 'down')",
          "q_value": 0,
          "run": 9
         },
         {
          "location": "((0, 3), 'down')",
          "q_value": 0,
          "run": 10
         },
         {
          "location": "((0, 3), 'down')",
          "q_value": 0,
          "run": 11
         },
         {
          "location": "((0, 3), 'down')",
          "q_value": 0,
          "run": 12
         },
         {
          "location": "((0, 3), 'down')",
          "q_value": 0,
          "run": 13
         },
         {
          "location": "((0, 3), 'down')",
          "q_value": 0,
          "run": 14
         },
         {
          "location": "((0, 3), 'down')",
          "q_value": 0,
          "run": 15
         },
         {
          "location": "((0, 3), 'down')",
          "q_value": 0,
          "run": 16
         },
         {
          "location": "((0, 3), 'down')",
          "q_value": 0,
          "run": 17
         },
         {
          "location": "((0, 3), 'down')",
          "q_value": 0,
          "run": 18
         },
         {
          "location": "((0, 3), 'down')",
          "q_value": 0,
          "run": 19
         },
         {
          "location": "((0, 3), 'down')",
          "q_value": 0,
          "run": 20
         },
         {
          "location": "((0, 3), 'down')",
          "q_value": 0,
          "run": 21
         },
         {
          "location": "((0, 3), 'down')",
          "q_value": 0,
          "run": 22
         },
         {
          "location": "((0, 3), 'down')",
          "q_value": 0,
          "run": 23
         },
         {
          "location": "((0, 3), 'down')",
          "q_value": 0,
          "run": 24
         },
         {
          "location": "((0, 3), 'down')",
          "q_value": 0,
          "run": 25
         },
         {
          "location": "((0, 3), 'down')",
          "q_value": 0,
          "run": 26
         },
         {
          "location": "((0, 3), 'down')",
          "q_value": 0,
          "run": 27
         },
         {
          "location": "((0, 3), 'down')",
          "q_value": 0,
          "run": 28
         },
         {
          "location": "((0, 3), 'down')",
          "q_value": 0,
          "run": 29
         },
         {
          "location": "((0, 3), 'down')",
          "q_value": 0,
          "run": 30
         },
         {
          "location": "((0, 3), 'down')",
          "q_value": 0,
          "run": 31
         },
         {
          "location": "((0, 3), 'down')",
          "q_value": 0,
          "run": 32
         },
         {
          "location": "((0, 3), 'down')",
          "q_value": 0,
          "run": 33
         },
         {
          "location": "((0, 3), 'down')",
          "q_value": 0,
          "run": 34
         },
         {
          "location": "((0, 3), 'down')",
          "q_value": 0,
          "run": 35
         },
         {
          "location": "((0, 3), 'down')",
          "q_value": 0,
          "run": 36
         },
         {
          "location": "((0, 3), 'down')",
          "q_value": 0,
          "run": 37
         },
         {
          "location": "((0, 3), 'down')",
          "q_value": 0,
          "run": 38
         },
         {
          "location": "((0, 3), 'down')",
          "q_value": 0,
          "run": 39
         },
         {
          "location": "((0, 3), 'down')",
          "q_value": 0,
          "run": 40
         },
         {
          "location": "((0, 3), 'down')",
          "q_value": 0,
          "run": 41
         },
         {
          "location": "((0, 3), 'down')",
          "q_value": 0,
          "run": 42
         },
         {
          "location": "((0, 3), 'down')",
          "q_value": 0,
          "run": 43
         },
         {
          "location": "((0, 3), 'down')",
          "q_value": 0,
          "run": 44
         },
         {
          "location": "((0, 3), 'down')",
          "q_value": 0,
          "run": 45
         },
         {
          "location": "((0, 3), 'down')",
          "q_value": 0,
          "run": 46
         },
         {
          "location": "((0, 3), 'down')",
          "q_value": 0,
          "run": 47
         },
         {
          "location": "((0, 3), 'down')",
          "q_value": 0,
          "run": 48
         },
         {
          "location": "((0, 3), 'down')",
          "q_value": 0,
          "run": 49
         },
         {
          "location": "((0, 3), 'down')",
          "q_value": 0,
          "run": 50
         },
         {
          "location": "((0, 3), 'down')",
          "q_value": 0,
          "run": 51
         },
         {
          "location": "((0, 3), 'down')",
          "q_value": 0,
          "run": 52
         },
         {
          "location": "((0, 3), 'down')",
          "q_value": 0,
          "run": 53
         },
         {
          "location": "((0, 3), 'down')",
          "q_value": 0,
          "run": 54
         },
         {
          "location": "((0, 3), 'down')",
          "q_value": 0,
          "run": 55
         },
         {
          "location": "((0, 3), 'down')",
          "q_value": 0,
          "run": 56
         },
         {
          "location": "((0, 3), 'down')",
          "q_value": 0,
          "run": 57
         },
         {
          "location": "((0, 3), 'down')",
          "q_value": 0,
          "run": 58
         },
         {
          "location": "((0, 3), 'down')",
          "q_value": 0,
          "run": 59
         },
         {
          "location": "((0, 3), 'down')",
          "q_value": 0,
          "run": 60
         },
         {
          "location": "((0, 3), 'down')",
          "q_value": 0,
          "run": 61
         },
         {
          "location": "((0, 3), 'down')",
          "q_value": 0,
          "run": 62
         },
         {
          "location": "((0, 3), 'down')",
          "q_value": 0,
          "run": 63
         },
         {
          "location": "((0, 3), 'down')",
          "q_value": 0,
          "run": 64
         },
         {
          "location": "((0, 3), 'down')",
          "q_value": 0,
          "run": 65
         },
         {
          "location": "((0, 3), 'down')",
          "q_value": 0,
          "run": 66
         },
         {
          "location": "((0, 3), 'down')",
          "q_value": 0,
          "run": 67
         },
         {
          "location": "((0, 3), 'down')",
          "q_value": 0,
          "run": 68
         },
         {
          "location": "((0, 3), 'down')",
          "q_value": 0,
          "run": 69
         },
         {
          "location": "((0, 3), 'down')",
          "q_value": 0,
          "run": 70
         },
         {
          "location": "((0, 3), 'down')",
          "q_value": 0,
          "run": 71
         },
         {
          "location": "((0, 3), 'down')",
          "q_value": 0,
          "run": 72
         },
         {
          "location": "((0, 3), 'down')",
          "q_value": 0,
          "run": 73
         },
         {
          "location": "((0, 3), 'down')",
          "q_value": 0,
          "run": 74
         },
         {
          "location": "((0, 3), 'down')",
          "q_value": 0,
          "run": 75
         },
         {
          "location": "((0, 3), 'down')",
          "q_value": 0,
          "run": 76
         },
         {
          "location": "((0, 3), 'down')",
          "q_value": 0,
          "run": 77
         },
         {
          "location": "((0, 3), 'down')",
          "q_value": 0,
          "run": 78
         },
         {
          "location": "((0, 3), 'down')",
          "q_value": 0,
          "run": 79
         },
         {
          "location": "((0, 3), 'down')",
          "q_value": 0,
          "run": 80
         },
         {
          "location": "((0, 3), 'down')",
          "q_value": 0,
          "run": 81
         },
         {
          "location": "((0, 3), 'down')",
          "q_value": 0,
          "run": 82
         },
         {
          "location": "((0, 3), 'down')",
          "q_value": 0,
          "run": 83
         },
         {
          "location": "((0, 3), 'down')",
          "q_value": 0,
          "run": 84
         },
         {
          "location": "((0, 3), 'down')",
          "q_value": 0,
          "run": 85
         },
         {
          "location": "((0, 3), 'down')",
          "q_value": 0,
          "run": 86
         },
         {
          "location": "((0, 3), 'down')",
          "q_value": 0,
          "run": 87
         },
         {
          "location": "((0, 3), 'down')",
          "q_value": 0,
          "run": 88
         },
         {
          "location": "((0, 3), 'down')",
          "q_value": 0,
          "run": 89
         },
         {
          "location": "((0, 3), 'down')",
          "q_value": 0,
          "run": 90
         },
         {
          "location": "((0, 3), 'down')",
          "q_value": 0,
          "run": 91
         },
         {
          "location": "((0, 3), 'down')",
          "q_value": 0,
          "run": 92
         },
         {
          "location": "((0, 3), 'down')",
          "q_value": 0,
          "run": 93
         },
         {
          "location": "((0, 3), 'down')",
          "q_value": 0,
          "run": 94
         },
         {
          "location": "((0, 3), 'down')",
          "q_value": 0,
          "run": 95
         },
         {
          "location": "((0, 3), 'down')",
          "q_value": 0,
          "run": 96
         },
         {
          "location": "((0, 3), 'down')",
          "q_value": 0,
          "run": 97
         },
         {
          "location": "((0, 3), 'down')",
          "q_value": 0,
          "run": 98
         },
         {
          "location": "((0, 3), 'down')",
          "q_value": 0,
          "run": 99
         },
         {
          "location": "((0, 3), 'down')",
          "q_value": 0,
          "run": 100
         },
         {
          "location": "((0, 3), 'right')",
          "q_value": 0,
          "run": 0
         },
         {
          "location": "((0, 3), 'right')",
          "q_value": 0,
          "run": 1
         },
         {
          "location": "((0, 3), 'right')",
          "q_value": 0,
          "run": 2
         },
         {
          "location": "((0, 3), 'right')",
          "q_value": 0,
          "run": 3
         },
         {
          "location": "((0, 3), 'right')",
          "q_value": 0,
          "run": 4
         },
         {
          "location": "((0, 3), 'right')",
          "q_value": 0,
          "run": 5
         },
         {
          "location": "((0, 3), 'right')",
          "q_value": 0,
          "run": 6
         },
         {
          "location": "((0, 3), 'right')",
          "q_value": 0,
          "run": 7
         },
         {
          "location": "((0, 3), 'right')",
          "q_value": 0,
          "run": 8
         },
         {
          "location": "((0, 3), 'right')",
          "q_value": 0,
          "run": 9
         },
         {
          "location": "((0, 3), 'right')",
          "q_value": 0,
          "run": 10
         },
         {
          "location": "((0, 3), 'right')",
          "q_value": 0,
          "run": 11
         },
         {
          "location": "((0, 3), 'right')",
          "q_value": 0,
          "run": 12
         },
         {
          "location": "((0, 3), 'right')",
          "q_value": 0,
          "run": 13
         },
         {
          "location": "((0, 3), 'right')",
          "q_value": 0,
          "run": 14
         },
         {
          "location": "((0, 3), 'right')",
          "q_value": 0,
          "run": 15
         },
         {
          "location": "((0, 3), 'right')",
          "q_value": 0,
          "run": 16
         },
         {
          "location": "((0, 3), 'right')",
          "q_value": 0,
          "run": 17
         },
         {
          "location": "((0, 3), 'right')",
          "q_value": 0,
          "run": 18
         },
         {
          "location": "((0, 3), 'right')",
          "q_value": 0,
          "run": 19
         },
         {
          "location": "((0, 3), 'right')",
          "q_value": 0,
          "run": 20
         },
         {
          "location": "((0, 3), 'right')",
          "q_value": 0,
          "run": 21
         },
         {
          "location": "((0, 3), 'right')",
          "q_value": 0,
          "run": 22
         },
         {
          "location": "((0, 3), 'right')",
          "q_value": 0,
          "run": 23
         },
         {
          "location": "((0, 3), 'right')",
          "q_value": 0,
          "run": 24
         },
         {
          "location": "((0, 3), 'right')",
          "q_value": 0,
          "run": 25
         },
         {
          "location": "((0, 3), 'right')",
          "q_value": 0,
          "run": 26
         },
         {
          "location": "((0, 3), 'right')",
          "q_value": 0,
          "run": 27
         },
         {
          "location": "((0, 3), 'right')",
          "q_value": 0,
          "run": 28
         },
         {
          "location": "((0, 3), 'right')",
          "q_value": 0,
          "run": 29
         },
         {
          "location": "((0, 3), 'right')",
          "q_value": 0,
          "run": 30
         },
         {
          "location": "((0, 3), 'right')",
          "q_value": 0,
          "run": 31
         },
         {
          "location": "((0, 3), 'right')",
          "q_value": 0,
          "run": 32
         },
         {
          "location": "((0, 3), 'right')",
          "q_value": 0,
          "run": 33
         },
         {
          "location": "((0, 3), 'right')",
          "q_value": 0,
          "run": 34
         },
         {
          "location": "((0, 3), 'right')",
          "q_value": 0,
          "run": 35
         },
         {
          "location": "((0, 3), 'right')",
          "q_value": 0,
          "run": 36
         },
         {
          "location": "((0, 3), 'right')",
          "q_value": 0,
          "run": 37
         },
         {
          "location": "((0, 3), 'right')",
          "q_value": 0,
          "run": 38
         },
         {
          "location": "((0, 3), 'right')",
          "q_value": 0,
          "run": 39
         },
         {
          "location": "((0, 3), 'right')",
          "q_value": 0,
          "run": 40
         },
         {
          "location": "((0, 3), 'right')",
          "q_value": 0,
          "run": 41
         },
         {
          "location": "((0, 3), 'right')",
          "q_value": 0,
          "run": 42
         },
         {
          "location": "((0, 3), 'right')",
          "q_value": 0,
          "run": 43
         },
         {
          "location": "((0, 3), 'right')",
          "q_value": 0,
          "run": 44
         },
         {
          "location": "((0, 3), 'right')",
          "q_value": 0,
          "run": 45
         },
         {
          "location": "((0, 3), 'right')",
          "q_value": 0,
          "run": 46
         },
         {
          "location": "((0, 3), 'right')",
          "q_value": 0,
          "run": 47
         },
         {
          "location": "((0, 3), 'right')",
          "q_value": 0,
          "run": 48
         },
         {
          "location": "((0, 3), 'right')",
          "q_value": 0,
          "run": 49
         },
         {
          "location": "((0, 3), 'right')",
          "q_value": 0,
          "run": 50
         },
         {
          "location": "((0, 3), 'right')",
          "q_value": 0,
          "run": 51
         },
         {
          "location": "((0, 3), 'right')",
          "q_value": 0,
          "run": 52
         },
         {
          "location": "((0, 3), 'right')",
          "q_value": 0,
          "run": 53
         },
         {
          "location": "((0, 3), 'right')",
          "q_value": 0,
          "run": 54
         },
         {
          "location": "((0, 3), 'right')",
          "q_value": 0,
          "run": 55
         },
         {
          "location": "((0, 3), 'right')",
          "q_value": 0,
          "run": 56
         },
         {
          "location": "((0, 3), 'right')",
          "q_value": 0,
          "run": 57
         },
         {
          "location": "((0, 3), 'right')",
          "q_value": 0,
          "run": 58
         },
         {
          "location": "((0, 3), 'right')",
          "q_value": 0,
          "run": 59
         },
         {
          "location": "((0, 3), 'right')",
          "q_value": 0,
          "run": 60
         },
         {
          "location": "((0, 3), 'right')",
          "q_value": 0,
          "run": 61
         },
         {
          "location": "((0, 3), 'right')",
          "q_value": 0,
          "run": 62
         },
         {
          "location": "((0, 3), 'right')",
          "q_value": 0,
          "run": 63
         },
         {
          "location": "((0, 3), 'right')",
          "q_value": 0,
          "run": 64
         },
         {
          "location": "((0, 3), 'right')",
          "q_value": 0,
          "run": 65
         },
         {
          "location": "((0, 3), 'right')",
          "q_value": 0,
          "run": 66
         },
         {
          "location": "((0, 3), 'right')",
          "q_value": 0,
          "run": 67
         },
         {
          "location": "((0, 3), 'right')",
          "q_value": 0,
          "run": 68
         },
         {
          "location": "((0, 3), 'right')",
          "q_value": 0,
          "run": 69
         },
         {
          "location": "((0, 3), 'right')",
          "q_value": 0,
          "run": 70
         },
         {
          "location": "((0, 3), 'right')",
          "q_value": 0,
          "run": 71
         },
         {
          "location": "((0, 3), 'right')",
          "q_value": 0,
          "run": 72
         },
         {
          "location": "((0, 3), 'right')",
          "q_value": 0,
          "run": 73
         },
         {
          "location": "((0, 3), 'right')",
          "q_value": 0,
          "run": 74
         },
         {
          "location": "((0, 3), 'right')",
          "q_value": 0,
          "run": 75
         },
         {
          "location": "((0, 3), 'right')",
          "q_value": 0,
          "run": 76
         },
         {
          "location": "((0, 3), 'right')",
          "q_value": 0,
          "run": 77
         },
         {
          "location": "((0, 3), 'right')",
          "q_value": 0,
          "run": 78
         },
         {
          "location": "((0, 3), 'right')",
          "q_value": 0,
          "run": 79
         },
         {
          "location": "((0, 3), 'right')",
          "q_value": 0,
          "run": 80
         },
         {
          "location": "((0, 3), 'right')",
          "q_value": 0,
          "run": 81
         },
         {
          "location": "((0, 3), 'right')",
          "q_value": 0,
          "run": 82
         },
         {
          "location": "((0, 3), 'right')",
          "q_value": 0,
          "run": 83
         },
         {
          "location": "((0, 3), 'right')",
          "q_value": 0,
          "run": 84
         },
         {
          "location": "((0, 3), 'right')",
          "q_value": 0,
          "run": 85
         },
         {
          "location": "((0, 3), 'right')",
          "q_value": 0,
          "run": 86
         },
         {
          "location": "((0, 3), 'right')",
          "q_value": 0,
          "run": 87
         },
         {
          "location": "((0, 3), 'right')",
          "q_value": 0,
          "run": 88
         },
         {
          "location": "((0, 3), 'right')",
          "q_value": 0,
          "run": 89
         },
         {
          "location": "((0, 3), 'right')",
          "q_value": 0,
          "run": 90
         },
         {
          "location": "((0, 3), 'right')",
          "q_value": 0,
          "run": 91
         },
         {
          "location": "((0, 3), 'right')",
          "q_value": 0,
          "run": 92
         },
         {
          "location": "((0, 3), 'right')",
          "q_value": 0,
          "run": 93
         },
         {
          "location": "((0, 3), 'right')",
          "q_value": 0,
          "run": 94
         },
         {
          "location": "((0, 3), 'right')",
          "q_value": 0,
          "run": 95
         },
         {
          "location": "((0, 3), 'right')",
          "q_value": 0,
          "run": 96
         },
         {
          "location": "((0, 3), 'right')",
          "q_value": 0,
          "run": 97
         },
         {
          "location": "((0, 3), 'right')",
          "q_value": 0,
          "run": 98
         },
         {
          "location": "((0, 3), 'right')",
          "q_value": 0,
          "run": 99
         },
         {
          "location": "((0, 3), 'right')",
          "q_value": 0,
          "run": 100
         },
         {
          "location": "((0, 3), 'up')",
          "q_value": 0,
          "run": 0
         },
         {
          "location": "((0, 3), 'up')",
          "q_value": 0,
          "run": 1
         },
         {
          "location": "((0, 3), 'up')",
          "q_value": -0.1,
          "run": 2
         },
         {
          "location": "((0, 3), 'up')",
          "q_value": -0.1,
          "run": 3
         },
         {
          "location": "((0, 3), 'up')",
          "q_value": -0.1,
          "run": 4
         },
         {
          "location": "((0, 3), 'up')",
          "q_value": -0.1,
          "run": 5
         },
         {
          "location": "((0, 3), 'up')",
          "q_value": -0.1,
          "run": 6
         },
         {
          "location": "((0, 3), 'up')",
          "q_value": -0.1,
          "run": 7
         },
         {
          "location": "((0, 3), 'up')",
          "q_value": -0.1,
          "run": 8
         },
         {
          "location": "((0, 3), 'up')",
          "q_value": -0.1,
          "run": 9
         },
         {
          "location": "((0, 3), 'up')",
          "q_value": -0.1,
          "run": 10
         },
         {
          "location": "((0, 3), 'up')",
          "q_value": -0.1,
          "run": 11
         },
         {
          "location": "((0, 3), 'up')",
          "q_value": -0.1,
          "run": 12
         },
         {
          "location": "((0, 3), 'up')",
          "q_value": -0.1,
          "run": 13
         },
         {
          "location": "((0, 3), 'up')",
          "q_value": -0.1,
          "run": 14
         },
         {
          "location": "((0, 3), 'up')",
          "q_value": -0.1,
          "run": 15
         },
         {
          "location": "((0, 3), 'up')",
          "q_value": -0.1,
          "run": 16
         },
         {
          "location": "((0, 3), 'up')",
          "q_value": -0.1,
          "run": 17
         },
         {
          "location": "((0, 3), 'up')",
          "q_value": -0.1,
          "run": 18
         },
         {
          "location": "((0, 3), 'up')",
          "q_value": -0.1,
          "run": 19
         },
         {
          "location": "((0, 3), 'up')",
          "q_value": -0.1,
          "run": 20
         },
         {
          "location": "((0, 3), 'up')",
          "q_value": -0.1,
          "run": 21
         },
         {
          "location": "((0, 3), 'up')",
          "q_value": -0.1,
          "run": 22
         },
         {
          "location": "((0, 3), 'up')",
          "q_value": -0.1,
          "run": 23
         },
         {
          "location": "((0, 3), 'up')",
          "q_value": -0.1,
          "run": 24
         },
         {
          "location": "((0, 3), 'up')",
          "q_value": -0.1,
          "run": 25
         },
         {
          "location": "((0, 3), 'up')",
          "q_value": -0.1,
          "run": 26
         },
         {
          "location": "((0, 3), 'up')",
          "q_value": -0.1,
          "run": 27
         },
         {
          "location": "((0, 3), 'up')",
          "q_value": -0.1,
          "run": 28
         },
         {
          "location": "((0, 3), 'up')",
          "q_value": -0.1,
          "run": 29
         },
         {
          "location": "((0, 3), 'up')",
          "q_value": -0.1,
          "run": 30
         },
         {
          "location": "((0, 3), 'up')",
          "q_value": -0.1,
          "run": 31
         },
         {
          "location": "((0, 3), 'up')",
          "q_value": -0.1,
          "run": 32
         },
         {
          "location": "((0, 3), 'up')",
          "q_value": -0.1,
          "run": 33
         },
         {
          "location": "((0, 3), 'up')",
          "q_value": -0.1,
          "run": 34
         },
         {
          "location": "((0, 3), 'up')",
          "q_value": -0.1,
          "run": 35
         },
         {
          "location": "((0, 3), 'up')",
          "q_value": -0.1,
          "run": 36
         },
         {
          "location": "((0, 3), 'up')",
          "q_value": -0.1,
          "run": 37
         },
         {
          "location": "((0, 3), 'up')",
          "q_value": -0.1,
          "run": 38
         },
         {
          "location": "((0, 3), 'up')",
          "q_value": -0.1,
          "run": 39
         },
         {
          "location": "((0, 3), 'up')",
          "q_value": -0.1,
          "run": 40
         },
         {
          "location": "((0, 3), 'up')",
          "q_value": -0.1,
          "run": 41
         },
         {
          "location": "((0, 3), 'up')",
          "q_value": -0.1,
          "run": 42
         },
         {
          "location": "((0, 3), 'up')",
          "q_value": -0.1,
          "run": 43
         },
         {
          "location": "((0, 3), 'up')",
          "q_value": -0.1,
          "run": 44
         },
         {
          "location": "((0, 3), 'up')",
          "q_value": -0.1,
          "run": 45
         },
         {
          "location": "((0, 3), 'up')",
          "q_value": -0.1,
          "run": 46
         },
         {
          "location": "((0, 3), 'up')",
          "q_value": -0.1,
          "run": 47
         },
         {
          "location": "((0, 3), 'up')",
          "q_value": -0.1,
          "run": 48
         },
         {
          "location": "((0, 3), 'up')",
          "q_value": -0.1,
          "run": 49
         },
         {
          "location": "((0, 3), 'up')",
          "q_value": -0.1,
          "run": 50
         },
         {
          "location": "((0, 3), 'up')",
          "q_value": -0.1,
          "run": 51
         },
         {
          "location": "((0, 3), 'up')",
          "q_value": -0.1,
          "run": 52
         },
         {
          "location": "((0, 3), 'up')",
          "q_value": -0.1,
          "run": 53
         },
         {
          "location": "((0, 3), 'up')",
          "q_value": -0.1,
          "run": 54
         },
         {
          "location": "((0, 3), 'up')",
          "q_value": -0.1,
          "run": 55
         },
         {
          "location": "((0, 3), 'up')",
          "q_value": -0.1,
          "run": 56
         },
         {
          "location": "((0, 3), 'up')",
          "q_value": -0.1,
          "run": 57
         },
         {
          "location": "((0, 3), 'up')",
          "q_value": -0.1,
          "run": 58
         },
         {
          "location": "((0, 3), 'up')",
          "q_value": -0.1,
          "run": 59
         },
         {
          "location": "((0, 3), 'up')",
          "q_value": -0.1,
          "run": 60
         },
         {
          "location": "((0, 3), 'up')",
          "q_value": -0.1,
          "run": 61
         },
         {
          "location": "((0, 3), 'up')",
          "q_value": -0.1,
          "run": 62
         },
         {
          "location": "((0, 3), 'up')",
          "q_value": -0.1,
          "run": 63
         },
         {
          "location": "((0, 3), 'up')",
          "q_value": -0.1,
          "run": 64
         },
         {
          "location": "((0, 3), 'up')",
          "q_value": -0.1,
          "run": 65
         },
         {
          "location": "((0, 3), 'up')",
          "q_value": -0.1,
          "run": 66
         },
         {
          "location": "((0, 3), 'up')",
          "q_value": -0.1,
          "run": 67
         },
         {
          "location": "((0, 3), 'up')",
          "q_value": -0.1,
          "run": 68
         },
         {
          "location": "((0, 3), 'up')",
          "q_value": -0.1,
          "run": 69
         },
         {
          "location": "((0, 3), 'up')",
          "q_value": -0.1,
          "run": 70
         },
         {
          "location": "((0, 3), 'up')",
          "q_value": -0.1,
          "run": 71
         },
         {
          "location": "((0, 3), 'up')",
          "q_value": -0.1,
          "run": 72
         },
         {
          "location": "((0, 3), 'up')",
          "q_value": -0.1,
          "run": 73
         },
         {
          "location": "((0, 3), 'up')",
          "q_value": -0.1,
          "run": 74
         },
         {
          "location": "((0, 3), 'up')",
          "q_value": -0.1,
          "run": 75
         },
         {
          "location": "((0, 3), 'up')",
          "q_value": -0.1,
          "run": 76
         },
         {
          "location": "((0, 3), 'up')",
          "q_value": -0.1,
          "run": 77
         },
         {
          "location": "((0, 3), 'up')",
          "q_value": -0.1,
          "run": 78
         },
         {
          "location": "((0, 3), 'up')",
          "q_value": -0.1,
          "run": 79
         },
         {
          "location": "((0, 3), 'up')",
          "q_value": -0.1,
          "run": 80
         },
         {
          "location": "((0, 3), 'up')",
          "q_value": -0.1,
          "run": 81
         },
         {
          "location": "((0, 3), 'up')",
          "q_value": -0.1,
          "run": 82
         },
         {
          "location": "((0, 3), 'up')",
          "q_value": -0.1,
          "run": 83
         },
         {
          "location": "((0, 3), 'up')",
          "q_value": -0.1,
          "run": 84
         },
         {
          "location": "((0, 3), 'up')",
          "q_value": -0.1,
          "run": 85
         },
         {
          "location": "((0, 3), 'up')",
          "q_value": -0.1,
          "run": 86
         },
         {
          "location": "((0, 3), 'up')",
          "q_value": -0.1,
          "run": 87
         },
         {
          "location": "((0, 3), 'up')",
          "q_value": -0.1,
          "run": 88
         },
         {
          "location": "((0, 3), 'up')",
          "q_value": -0.1,
          "run": 89
         },
         {
          "location": "((0, 3), 'up')",
          "q_value": -0.1,
          "run": 90
         },
         {
          "location": "((0, 3), 'up')",
          "q_value": -0.1,
          "run": 91
         },
         {
          "location": "((0, 3), 'up')",
          "q_value": -0.1,
          "run": 92
         },
         {
          "location": "((0, 3), 'up')",
          "q_value": -0.1,
          "run": 93
         },
         {
          "location": "((0, 3), 'up')",
          "q_value": -0.1,
          "run": 94
         },
         {
          "location": "((0, 3), 'up')",
          "q_value": -0.1,
          "run": 95
         },
         {
          "location": "((0, 3), 'up')",
          "q_value": -0.1,
          "run": 96
         },
         {
          "location": "((0, 3), 'up')",
          "q_value": -0.1,
          "run": 97
         },
         {
          "location": "((0, 3), 'up')",
          "q_value": -0.1,
          "run": 98
         },
         {
          "location": "((0, 3), 'up')",
          "q_value": -0.1,
          "run": 99
         },
         {
          "location": "((0, 3), 'up')",
          "q_value": -0.1,
          "run": 100
         },
         {
          "location": "((0, 3), 'left')",
          "q_value": 0,
          "run": 0
         },
         {
          "location": "((0, 3), 'left')",
          "q_value": 0,
          "run": 1
         },
         {
          "location": "((0, 3), 'left')",
          "q_value": 0,
          "run": 2
         },
         {
          "location": "((0, 3), 'left')",
          "q_value": 0,
          "run": 3
         },
         {
          "location": "((0, 3), 'left')",
          "q_value": 0,
          "run": 4
         },
         {
          "location": "((0, 3), 'left')",
          "q_value": 0,
          "run": 5
         },
         {
          "location": "((0, 3), 'left')",
          "q_value": 0,
          "run": 6
         },
         {
          "location": "((0, 3), 'left')",
          "q_value": 0,
          "run": 7
         },
         {
          "location": "((0, 3), 'left')",
          "q_value": 0,
          "run": 8
         },
         {
          "location": "((0, 3), 'left')",
          "q_value": 0,
          "run": 9
         },
         {
          "location": "((0, 3), 'left')",
          "q_value": 0,
          "run": 10
         },
         {
          "location": "((0, 3), 'left')",
          "q_value": 0,
          "run": 11
         },
         {
          "location": "((0, 3), 'left')",
          "q_value": 0,
          "run": 12
         },
         {
          "location": "((0, 3), 'left')",
          "q_value": 0,
          "run": 13
         },
         {
          "location": "((0, 3), 'left')",
          "q_value": 0,
          "run": 14
         },
         {
          "location": "((0, 3), 'left')",
          "q_value": 0,
          "run": 15
         },
         {
          "location": "((0, 3), 'left')",
          "q_value": 0,
          "run": 16
         },
         {
          "location": "((0, 3), 'left')",
          "q_value": 0,
          "run": 17
         },
         {
          "location": "((0, 3), 'left')",
          "q_value": 0,
          "run": 18
         },
         {
          "location": "((0, 3), 'left')",
          "q_value": 0,
          "run": 19
         },
         {
          "location": "((0, 3), 'left')",
          "q_value": 0.4902533984268027,
          "run": 20
         },
         {
          "location": "((0, 3), 'left')",
          "q_value": 0.4902533984268027,
          "run": 21
         },
         {
          "location": "((0, 3), 'left')",
          "q_value": 0.4902533984268027,
          "run": 22
         },
         {
          "location": "((0, 3), 'left')",
          "q_value": 0.4902533984268027,
          "run": 23
         },
         {
          "location": "((0, 3), 'left')",
          "q_value": 0.4902533984268027,
          "run": 24
         },
         {
          "location": "((0, 3), 'left')",
          "q_value": 0.4902533984268027,
          "run": 25
         },
         {
          "location": "((0, 3), 'left')",
          "q_value": 0.4902533984268027,
          "run": 26
         },
         {
          "location": "((0, 3), 'left')",
          "q_value": 0.4902533984268027,
          "run": 27
         },
         {
          "location": "((0, 3), 'left')",
          "q_value": 0.4902533984268027,
          "run": 28
         },
         {
          "location": "((0, 3), 'left')",
          "q_value": 0.4902533984268027,
          "run": 29
         },
         {
          "location": "((0, 3), 'left')",
          "q_value": 0.4902533984268027,
          "run": 30
         },
         {
          "location": "((0, 3), 'left')",
          "q_value": 0.4902533984268027,
          "run": 31
         },
         {
          "location": "((0, 3), 'left')",
          "q_value": 0.4902533984268027,
          "run": 32
         },
         {
          "location": "((0, 3), 'left')",
          "q_value": 0.4902533984268027,
          "run": 33
         },
         {
          "location": "((0, 3), 'left')",
          "q_value": 0.4902533984268027,
          "run": 34
         },
         {
          "location": "((0, 3), 'left')",
          "q_value": 0.4902533984268027,
          "run": 35
         },
         {
          "location": "((0, 3), 'left')",
          "q_value": 0.4902533984268027,
          "run": 36
         },
         {
          "location": "((0, 3), 'left')",
          "q_value": 1.1708962914867784,
          "run": 37
         },
         {
          "location": "((0, 3), 'left')",
          "q_value": 1.1708962914867784,
          "run": 38
         },
         {
          "location": "((0, 3), 'left')",
          "q_value": 1.1708962914867784,
          "run": 39
         },
         {
          "location": "((0, 3), 'left')",
          "q_value": 1.1708962914867784,
          "run": 40
         },
         {
          "location": "((0, 3), 'left')",
          "q_value": 1.1708962914867784,
          "run": 41
         },
         {
          "location": "((0, 3), 'left')",
          "q_value": 1.1708962914867784,
          "run": 42
         },
         {
          "location": "((0, 3), 'left')",
          "q_value": 1.1708962914867784,
          "run": 43
         },
         {
          "location": "((0, 3), 'left')",
          "q_value": 1.1708962914867784,
          "run": 44
         },
         {
          "location": "((0, 3), 'left')",
          "q_value": 1.1708962914867784,
          "run": 45
         },
         {
          "location": "((0, 3), 'left')",
          "q_value": 1.1708962914867784,
          "run": 46
         },
         {
          "location": "((0, 3), 'left')",
          "q_value": 1.1708962914867784,
          "run": 47
         },
         {
          "location": "((0, 3), 'left')",
          "q_value": 1.1708962914867784,
          "run": 48
         },
         {
          "location": "((0, 3), 'left')",
          "q_value": 1.1708962914867784,
          "run": 49
         },
         {
          "location": "((0, 3), 'left')",
          "q_value": 1.1708962914867784,
          "run": 50
         },
         {
          "location": "((0, 3), 'left')",
          "q_value": 1.1708962914867784,
          "run": 51
         },
         {
          "location": "((0, 3), 'left')",
          "q_value": 1.1708962914867784,
          "run": 52
         },
         {
          "location": "((0, 3), 'left')",
          "q_value": 1.1708962914867784,
          "run": 53
         },
         {
          "location": "((0, 3), 'left')",
          "q_value": 1.1708962914867784,
          "run": 54
         },
         {
          "location": "((0, 3), 'left')",
          "q_value": 1.1708962914867784,
          "run": 55
         },
         {
          "location": "((0, 3), 'left')",
          "q_value": 1.1708962914867784,
          "run": 56
         },
         {
          "location": "((0, 3), 'left')",
          "q_value": 1.1708962914867784,
          "run": 57
         },
         {
          "location": "((0, 3), 'left')",
          "q_value": 1.1708962914867784,
          "run": 58
         },
         {
          "location": "((0, 3), 'left')",
          "q_value": 1.1708962914867784,
          "run": 59
         },
         {
          "location": "((0, 3), 'left')",
          "q_value": 1.1708962914867784,
          "run": 60
         },
         {
          "location": "((0, 3), 'left')",
          "q_value": 1.1708962914867784,
          "run": 61
         },
         {
          "location": "((0, 3), 'left')",
          "q_value": 1.1708962914867784,
          "run": 62
         },
         {
          "location": "((0, 3), 'left')",
          "q_value": 1.1708962914867784,
          "run": 63
         },
         {
          "location": "((0, 3), 'left')",
          "q_value": 1.1708962914867784,
          "run": 64
         },
         {
          "location": "((0, 3), 'left')",
          "q_value": 1.1708962914867784,
          "run": 65
         },
         {
          "location": "((0, 3), 'left')",
          "q_value": 1.1708962914867784,
          "run": 66
         },
         {
          "location": "((0, 3), 'left')",
          "q_value": 1.1708962914867784,
          "run": 67
         },
         {
          "location": "((0, 3), 'left')",
          "q_value": 1.1708962914867784,
          "run": 68
         },
         {
          "location": "((0, 3), 'left')",
          "q_value": 1.1708962914867784,
          "run": 69
         },
         {
          "location": "((0, 3), 'left')",
          "q_value": 1.1708962914867784,
          "run": 70
         },
         {
          "location": "((0, 3), 'left')",
          "q_value": 1.1708962914867784,
          "run": 71
         },
         {
          "location": "((0, 3), 'left')",
          "q_value": 1.1708962914867784,
          "run": 72
         },
         {
          "location": "((0, 3), 'left')",
          "q_value": 1.1708962914867784,
          "run": 73
         },
         {
          "location": "((0, 3), 'left')",
          "q_value": 1.1708962914867784,
          "run": 74
         },
         {
          "location": "((0, 3), 'left')",
          "q_value": 1.1708962914867784,
          "run": 75
         },
         {
          "location": "((0, 3), 'left')",
          "q_value": 1.1708962914867784,
          "run": 76
         },
         {
          "location": "((0, 3), 'left')",
          "q_value": 1.1708962914867784,
          "run": 77
         },
         {
          "location": "((0, 3), 'left')",
          "q_value": 1.1708962914867784,
          "run": 78
         },
         {
          "location": "((0, 3), 'left')",
          "q_value": 1.1708962914867784,
          "run": 79
         },
         {
          "location": "((0, 3), 'left')",
          "q_value": 1.1708962914867784,
          "run": 80
         },
         {
          "location": "((0, 3), 'left')",
          "q_value": 1.1708962914867784,
          "run": 81
         },
         {
          "location": "((0, 3), 'left')",
          "q_value": 1.1708962914867784,
          "run": 82
         },
         {
          "location": "((0, 3), 'left')",
          "q_value": 1.1708962914867784,
          "run": 83
         },
         {
          "location": "((0, 3), 'left')",
          "q_value": 1.1708962914867784,
          "run": 84
         },
         {
          "location": "((0, 3), 'left')",
          "q_value": 1.1708962914867784,
          "run": 85
         },
         {
          "location": "((0, 3), 'left')",
          "q_value": 1.1708962914867784,
          "run": 86
         },
         {
          "location": "((0, 3), 'left')",
          "q_value": 1.1708962914867784,
          "run": 87
         },
         {
          "location": "((0, 3), 'left')",
          "q_value": 1.1708962914867784,
          "run": 88
         },
         {
          "location": "((0, 3), 'left')",
          "q_value": 1.1708962914867784,
          "run": 89
         },
         {
          "location": "((0, 3), 'left')",
          "q_value": 1.1708962914867784,
          "run": 90
         },
         {
          "location": "((0, 3), 'left')",
          "q_value": 1.1708962914867784,
          "run": 91
         },
         {
          "location": "((0, 3), 'left')",
          "q_value": 1.1708962914867784,
          "run": 92
         },
         {
          "location": "((0, 3), 'left')",
          "q_value": 1.1708962914867784,
          "run": 93
         },
         {
          "location": "((0, 3), 'left')",
          "q_value": 1.1708962914867784,
          "run": 94
         },
         {
          "location": "((0, 3), 'left')",
          "q_value": 1.1708962914867784,
          "run": 95
         },
         {
          "location": "((0, 3), 'left')",
          "q_value": 1.1708962914867784,
          "run": 96
         },
         {
          "location": "((0, 3), 'left')",
          "q_value": 1.1708962914867784,
          "run": 97
         },
         {
          "location": "((0, 3), 'left')",
          "q_value": 1.1708962914867784,
          "run": 98
         },
         {
          "location": "((0, 3), 'left')",
          "q_value": 1.1708962914867784,
          "run": 99
         },
         {
          "location": "((0, 3), 'left')",
          "q_value": 1.1708962914867784,
          "run": 100
         },
         {
          "location": "((1, 0), 'down')",
          "q_value": 0,
          "run": 0
         },
         {
          "location": "((1, 0), 'down')",
          "q_value": 0,
          "run": 1
         },
         {
          "location": "((1, 0), 'down')",
          "q_value": 0,
          "run": 2
         },
         {
          "location": "((1, 0), 'down')",
          "q_value": 0,
          "run": 3
         },
         {
          "location": "((1, 0), 'down')",
          "q_value": 0,
          "run": 4
         },
         {
          "location": "((1, 0), 'down')",
          "q_value": 0,
          "run": 5
         },
         {
          "location": "((1, 0), 'down')",
          "q_value": 0,
          "run": 6
         },
         {
          "location": "((1, 0), 'down')",
          "q_value": 0,
          "run": 7
         },
         {
          "location": "((1, 0), 'down')",
          "q_value": 0,
          "run": 8
         },
         {
          "location": "((1, 0), 'down')",
          "q_value": 0,
          "run": 9
         },
         {
          "location": "((1, 0), 'down')",
          "q_value": 0,
          "run": 10
         },
         {
          "location": "((1, 0), 'down')",
          "q_value": 0,
          "run": 11
         },
         {
          "location": "((1, 0), 'down')",
          "q_value": 0,
          "run": 12
         },
         {
          "location": "((1, 0), 'down')",
          "q_value": 0,
          "run": 13
         },
         {
          "location": "((1, 0), 'down')",
          "q_value": 0,
          "run": 14
         },
         {
          "location": "((1, 0), 'down')",
          "q_value": 0,
          "run": 15
         },
         {
          "location": "((1, 0), 'down')",
          "q_value": 0,
          "run": 16
         },
         {
          "location": "((1, 0), 'down')",
          "q_value": 0,
          "run": 17
         },
         {
          "location": "((1, 0), 'down')",
          "q_value": 0,
          "run": 18
         },
         {
          "location": "((1, 0), 'down')",
          "q_value": 0,
          "run": 19
         },
         {
          "location": "((1, 0), 'down')",
          "q_value": 0,
          "run": 20
         },
         {
          "location": "((1, 0), 'down')",
          "q_value": 0,
          "run": 21
         },
         {
          "location": "((1, 0), 'down')",
          "q_value": 0,
          "run": 22
         },
         {
          "location": "((1, 0), 'down')",
          "q_value": 0,
          "run": 23
         },
         {
          "location": "((1, 0), 'down')",
          "q_value": 0,
          "run": 24
         },
         {
          "location": "((1, 0), 'down')",
          "q_value": 0,
          "run": 25
         },
         {
          "location": "((1, 0), 'down')",
          "q_value": 0,
          "run": 26
         },
         {
          "location": "((1, 0), 'down')",
          "q_value": 0,
          "run": 27
         },
         {
          "location": "((1, 0), 'down')",
          "q_value": 0,
          "run": 28
         },
         {
          "location": "((1, 0), 'down')",
          "q_value": 0,
          "run": 29
         },
         {
          "location": "((1, 0), 'down')",
          "q_value": 0,
          "run": 30
         },
         {
          "location": "((1, 0), 'down')",
          "q_value": 0,
          "run": 31
         },
         {
          "location": "((1, 0), 'down')",
          "q_value": 0,
          "run": 32
         },
         {
          "location": "((1, 0), 'down')",
          "q_value": 0,
          "run": 33
         },
         {
          "location": "((1, 0), 'down')",
          "q_value": 0,
          "run": 34
         },
         {
          "location": "((1, 0), 'down')",
          "q_value": 0,
          "run": 35
         },
         {
          "location": "((1, 0), 'down')",
          "q_value": 0,
          "run": 36
         },
         {
          "location": "((1, 0), 'down')",
          "q_value": 0,
          "run": 37
         },
         {
          "location": "((1, 0), 'down')",
          "q_value": 0,
          "run": 38
         },
         {
          "location": "((1, 0), 'down')",
          "q_value": 0,
          "run": 39
         },
         {
          "location": "((1, 0), 'down')",
          "q_value": 0,
          "run": 40
         },
         {
          "location": "((1, 0), 'down')",
          "q_value": 0,
          "run": 41
         },
         {
          "location": "((1, 0), 'down')",
          "q_value": 0,
          "run": 42
         },
         {
          "location": "((1, 0), 'down')",
          "q_value": 0,
          "run": 43
         },
         {
          "location": "((1, 0), 'down')",
          "q_value": 0,
          "run": 44
         },
         {
          "location": "((1, 0), 'down')",
          "q_value": 0,
          "run": 45
         },
         {
          "location": "((1, 0), 'down')",
          "q_value": 0,
          "run": 46
         },
         {
          "location": "((1, 0), 'down')",
          "q_value": 0,
          "run": 47
         },
         {
          "location": "((1, 0), 'down')",
          "q_value": 0,
          "run": 48
         },
         {
          "location": "((1, 0), 'down')",
          "q_value": 0,
          "run": 49
         },
         {
          "location": "((1, 0), 'down')",
          "q_value": 0,
          "run": 50
         },
         {
          "location": "((1, 0), 'down')",
          "q_value": 0,
          "run": 51
         },
         {
          "location": "((1, 0), 'down')",
          "q_value": 0,
          "run": 52
         },
         {
          "location": "((1, 0), 'down')",
          "q_value": 0,
          "run": 53
         },
         {
          "location": "((1, 0), 'down')",
          "q_value": 0,
          "run": 54
         },
         {
          "location": "((1, 0), 'down')",
          "q_value": 0,
          "run": 55
         },
         {
          "location": "((1, 0), 'down')",
          "q_value": 0,
          "run": 56
         },
         {
          "location": "((1, 0), 'down')",
          "q_value": 0,
          "run": 57
         },
         {
          "location": "((1, 0), 'down')",
          "q_value": 0,
          "run": 58
         },
         {
          "location": "((1, 0), 'down')",
          "q_value": 0,
          "run": 59
         },
         {
          "location": "((1, 0), 'down')",
          "q_value": 0,
          "run": 60
         },
         {
          "location": "((1, 0), 'down')",
          "q_value": 0,
          "run": 61
         },
         {
          "location": "((1, 0), 'down')",
          "q_value": 0,
          "run": 62
         },
         {
          "location": "((1, 0), 'down')",
          "q_value": 0,
          "run": 63
         },
         {
          "location": "((1, 0), 'down')",
          "q_value": 0,
          "run": 64
         },
         {
          "location": "((1, 0), 'down')",
          "q_value": 0,
          "run": 65
         },
         {
          "location": "((1, 0), 'down')",
          "q_value": 0,
          "run": 66
         },
         {
          "location": "((1, 0), 'down')",
          "q_value": 0,
          "run": 67
         },
         {
          "location": "((1, 0), 'down')",
          "q_value": 0,
          "run": 68
         },
         {
          "location": "((1, 0), 'down')",
          "q_value": 0,
          "run": 69
         },
         {
          "location": "((1, 0), 'down')",
          "q_value": 0,
          "run": 70
         },
         {
          "location": "((1, 0), 'down')",
          "q_value": 0,
          "run": 71
         },
         {
          "location": "((1, 0), 'down')",
          "q_value": 0,
          "run": 72
         },
         {
          "location": "((1, 0), 'down')",
          "q_value": 0,
          "run": 73
         },
         {
          "location": "((1, 0), 'down')",
          "q_value": 0,
          "run": 74
         },
         {
          "location": "((1, 0), 'down')",
          "q_value": 0,
          "run": 75
         },
         {
          "location": "((1, 0), 'down')",
          "q_value": 0,
          "run": 76
         },
         {
          "location": "((1, 0), 'down')",
          "q_value": 0,
          "run": 77
         },
         {
          "location": "((1, 0), 'down')",
          "q_value": 0,
          "run": 78
         },
         {
          "location": "((1, 0), 'down')",
          "q_value": 0,
          "run": 79
         },
         {
          "location": "((1, 0), 'down')",
          "q_value": 0,
          "run": 80
         },
         {
          "location": "((1, 0), 'down')",
          "q_value": 0,
          "run": 81
         },
         {
          "location": "((1, 0), 'down')",
          "q_value": 0,
          "run": 82
         },
         {
          "location": "((1, 0), 'down')",
          "q_value": 0,
          "run": 83
         },
         {
          "location": "((1, 0), 'down')",
          "q_value": 0,
          "run": 84
         },
         {
          "location": "((1, 0), 'down')",
          "q_value": 0,
          "run": 85
         },
         {
          "location": "((1, 0), 'down')",
          "q_value": 0,
          "run": 86
         },
         {
          "location": "((1, 0), 'down')",
          "q_value": 0,
          "run": 87
         },
         {
          "location": "((1, 0), 'down')",
          "q_value": 0,
          "run": 88
         },
         {
          "location": "((1, 0), 'down')",
          "q_value": 0,
          "run": 89
         },
         {
          "location": "((1, 0), 'down')",
          "q_value": 0,
          "run": 90
         },
         {
          "location": "((1, 0), 'down')",
          "q_value": 0,
          "run": 91
         },
         {
          "location": "((1, 0), 'down')",
          "q_value": 0,
          "run": 92
         },
         {
          "location": "((1, 0), 'down')",
          "q_value": 0,
          "run": 93
         },
         {
          "location": "((1, 0), 'down')",
          "q_value": 0,
          "run": 94
         },
         {
          "location": "((1, 0), 'down')",
          "q_value": 0,
          "run": 95
         },
         {
          "location": "((1, 0), 'down')",
          "q_value": 0,
          "run": 96
         },
         {
          "location": "((1, 0), 'down')",
          "q_value": 0,
          "run": 97
         },
         {
          "location": "((1, 0), 'down')",
          "q_value": 0,
          "run": 98
         },
         {
          "location": "((1, 0), 'down')",
          "q_value": 0,
          "run": 99
         },
         {
          "location": "((1, 0), 'down')",
          "q_value": 0,
          "run": 100
         },
         {
          "location": "((1, 0), 'right')",
          "q_value": 0,
          "run": 0
         },
         {
          "location": "((1, 0), 'right')",
          "q_value": 0,
          "run": 1
         },
         {
          "location": "((1, 0), 'right')",
          "q_value": 0,
          "run": 2
         },
         {
          "location": "((1, 0), 'right')",
          "q_value": 0,
          "run": 3
         },
         {
          "location": "((1, 0), 'right')",
          "q_value": 0,
          "run": 4
         },
         {
          "location": "((1, 0), 'right')",
          "q_value": 0,
          "run": 5
         },
         {
          "location": "((1, 0), 'right')",
          "q_value": 0,
          "run": 6
         },
         {
          "location": "((1, 0), 'right')",
          "q_value": 0,
          "run": 7
         },
         {
          "location": "((1, 0), 'right')",
          "q_value": 0,
          "run": 8
         },
         {
          "location": "((1, 0), 'right')",
          "q_value": 0,
          "run": 9
         },
         {
          "location": "((1, 0), 'right')",
          "q_value": 0,
          "run": 10
         },
         {
          "location": "((1, 0), 'right')",
          "q_value": 0,
          "run": 11
         },
         {
          "location": "((1, 0), 'right')",
          "q_value": 0,
          "run": 12
         },
         {
          "location": "((1, 0), 'right')",
          "q_value": 0,
          "run": 13
         },
         {
          "location": "((1, 0), 'right')",
          "q_value": 0,
          "run": 14
         },
         {
          "location": "((1, 0), 'right')",
          "q_value": 0,
          "run": 15
         },
         {
          "location": "((1, 0), 'right')",
          "q_value": 0,
          "run": 16
         },
         {
          "location": "((1, 0), 'right')",
          "q_value": 0,
          "run": 17
         },
         {
          "location": "((1, 0), 'right')",
          "q_value": 0,
          "run": 18
         },
         {
          "location": "((1, 0), 'right')",
          "q_value": 0,
          "run": 19
         },
         {
          "location": "((1, 0), 'right')",
          "q_value": 0,
          "run": 20
         },
         {
          "location": "((1, 0), 'right')",
          "q_value": 0,
          "run": 21
         },
         {
          "location": "((1, 0), 'right')",
          "q_value": 0,
          "run": 22
         },
         {
          "location": "((1, 0), 'right')",
          "q_value": 0,
          "run": 23
         },
         {
          "location": "((1, 0), 'right')",
          "q_value": 0,
          "run": 24
         },
         {
          "location": "((1, 0), 'right')",
          "q_value": 0,
          "run": 25
         },
         {
          "location": "((1, 0), 'right')",
          "q_value": 0,
          "run": 26
         },
         {
          "location": "((1, 0), 'right')",
          "q_value": 0,
          "run": 27
         },
         {
          "location": "((1, 0), 'right')",
          "q_value": 0,
          "run": 28
         },
         {
          "location": "((1, 0), 'right')",
          "q_value": 0,
          "run": 29
         },
         {
          "location": "((1, 0), 'right')",
          "q_value": 0,
          "run": 30
         },
         {
          "location": "((1, 0), 'right')",
          "q_value": 0,
          "run": 31
         },
         {
          "location": "((1, 0), 'right')",
          "q_value": 0,
          "run": 32
         },
         {
          "location": "((1, 0), 'right')",
          "q_value": 0,
          "run": 33
         },
         {
          "location": "((1, 0), 'right')",
          "q_value": 0,
          "run": 34
         },
         {
          "location": "((1, 0), 'right')",
          "q_value": 0,
          "run": 35
         },
         {
          "location": "((1, 0), 'right')",
          "q_value": 0,
          "run": 36
         },
         {
          "location": "((1, 0), 'right')",
          "q_value": 0,
          "run": 37
         },
         {
          "location": "((1, 0), 'right')",
          "q_value": 0,
          "run": 38
         },
         {
          "location": "((1, 0), 'right')",
          "q_value": 0,
          "run": 39
         },
         {
          "location": "((1, 0), 'right')",
          "q_value": 0,
          "run": 40
         },
         {
          "location": "((1, 0), 'right')",
          "q_value": 0,
          "run": 41
         },
         {
          "location": "((1, 0), 'right')",
          "q_value": 0,
          "run": 42
         },
         {
          "location": "((1, 0), 'right')",
          "q_value": 0,
          "run": 43
         },
         {
          "location": "((1, 0), 'right')",
          "q_value": 0,
          "run": 44
         },
         {
          "location": "((1, 0), 'right')",
          "q_value": 0,
          "run": 45
         },
         {
          "location": "((1, 0), 'right')",
          "q_value": 0,
          "run": 46
         },
         {
          "location": "((1, 0), 'right')",
          "q_value": 0,
          "run": 47
         },
         {
          "location": "((1, 0), 'right')",
          "q_value": 0,
          "run": 48
         },
         {
          "location": "((1, 0), 'right')",
          "q_value": 0,
          "run": 49
         },
         {
          "location": "((1, 0), 'right')",
          "q_value": 0,
          "run": 50
         },
         {
          "location": "((1, 0), 'right')",
          "q_value": 0,
          "run": 51
         },
         {
          "location": "((1, 0), 'right')",
          "q_value": 0,
          "run": 52
         },
         {
          "location": "((1, 0), 'right')",
          "q_value": 0,
          "run": 53
         },
         {
          "location": "((1, 0), 'right')",
          "q_value": 0,
          "run": 54
         },
         {
          "location": "((1, 0), 'right')",
          "q_value": 0,
          "run": 55
         },
         {
          "location": "((1, 0), 'right')",
          "q_value": 0,
          "run": 56
         },
         {
          "location": "((1, 0), 'right')",
          "q_value": 0,
          "run": 57
         },
         {
          "location": "((1, 0), 'right')",
          "q_value": 0,
          "run": 58
         },
         {
          "location": "((1, 0), 'right')",
          "q_value": 0,
          "run": 59
         },
         {
          "location": "((1, 0), 'right')",
          "q_value": 0,
          "run": 60
         },
         {
          "location": "((1, 0), 'right')",
          "q_value": 0,
          "run": 61
         },
         {
          "location": "((1, 0), 'right')",
          "q_value": 0,
          "run": 62
         },
         {
          "location": "((1, 0), 'right')",
          "q_value": 0,
          "run": 63
         },
         {
          "location": "((1, 0), 'right')",
          "q_value": 0,
          "run": 64
         },
         {
          "location": "((1, 0), 'right')",
          "q_value": 0,
          "run": 65
         },
         {
          "location": "((1, 0), 'right')",
          "q_value": 0,
          "run": 66
         },
         {
          "location": "((1, 0), 'right')",
          "q_value": 0,
          "run": 67
         },
         {
          "location": "((1, 0), 'right')",
          "q_value": 0,
          "run": 68
         },
         {
          "location": "((1, 0), 'right')",
          "q_value": 0,
          "run": 69
         },
         {
          "location": "((1, 0), 'right')",
          "q_value": 0,
          "run": 70
         },
         {
          "location": "((1, 0), 'right')",
          "q_value": 0,
          "run": 71
         },
         {
          "location": "((1, 0), 'right')",
          "q_value": 0,
          "run": 72
         },
         {
          "location": "((1, 0), 'right')",
          "q_value": 0,
          "run": 73
         },
         {
          "location": "((1, 0), 'right')",
          "q_value": 0,
          "run": 74
         },
         {
          "location": "((1, 0), 'right')",
          "q_value": 0,
          "run": 75
         },
         {
          "location": "((1, 0), 'right')",
          "q_value": 0,
          "run": 76
         },
         {
          "location": "((1, 0), 'right')",
          "q_value": 0,
          "run": 77
         },
         {
          "location": "((1, 0), 'right')",
          "q_value": 0,
          "run": 78
         },
         {
          "location": "((1, 0), 'right')",
          "q_value": 0,
          "run": 79
         },
         {
          "location": "((1, 0), 'right')",
          "q_value": 0,
          "run": 80
         },
         {
          "location": "((1, 0), 'right')",
          "q_value": 0,
          "run": 81
         },
         {
          "location": "((1, 0), 'right')",
          "q_value": 0,
          "run": 82
         },
         {
          "location": "((1, 0), 'right')",
          "q_value": 0,
          "run": 83
         },
         {
          "location": "((1, 0), 'right')",
          "q_value": 0,
          "run": 84
         },
         {
          "location": "((1, 0), 'right')",
          "q_value": 0,
          "run": 85
         },
         {
          "location": "((1, 0), 'right')",
          "q_value": 0,
          "run": 86
         },
         {
          "location": "((1, 0), 'right')",
          "q_value": 0,
          "run": 87
         },
         {
          "location": "((1, 0), 'right')",
          "q_value": 0,
          "run": 88
         },
         {
          "location": "((1, 0), 'right')",
          "q_value": 0,
          "run": 89
         },
         {
          "location": "((1, 0), 'right')",
          "q_value": 0,
          "run": 90
         },
         {
          "location": "((1, 0), 'right')",
          "q_value": 0,
          "run": 91
         },
         {
          "location": "((1, 0), 'right')",
          "q_value": 0,
          "run": 92
         },
         {
          "location": "((1, 0), 'right')",
          "q_value": 0,
          "run": 93
         },
         {
          "location": "((1, 0), 'right')",
          "q_value": 0,
          "run": 94
         },
         {
          "location": "((1, 0), 'right')",
          "q_value": 0,
          "run": 95
         },
         {
          "location": "((1, 0), 'right')",
          "q_value": 0,
          "run": 96
         },
         {
          "location": "((1, 0), 'right')",
          "q_value": 0,
          "run": 97
         },
         {
          "location": "((1, 0), 'right')",
          "q_value": 0,
          "run": 98
         },
         {
          "location": "((1, 0), 'right')",
          "q_value": 0,
          "run": 99
         },
         {
          "location": "((1, 0), 'right')",
          "q_value": 0,
          "run": 100
         },
         {
          "location": "((1, 0), 'up')",
          "q_value": 0,
          "run": 0
         },
         {
          "location": "((1, 0), 'up')",
          "q_value": 0,
          "run": 1
         },
         {
          "location": "((1, 0), 'up')",
          "q_value": 0,
          "run": 2
         },
         {
          "location": "((1, 0), 'up')",
          "q_value": 0,
          "run": 3
         },
         {
          "location": "((1, 0), 'up')",
          "q_value": 0,
          "run": 4
         },
         {
          "location": "((1, 0), 'up')",
          "q_value": 0,
          "run": 5
         },
         {
          "location": "((1, 0), 'up')",
          "q_value": 0,
          "run": 6
         },
         {
          "location": "((1, 0), 'up')",
          "q_value": 0,
          "run": 7
         },
         {
          "location": "((1, 0), 'up')",
          "q_value": 0,
          "run": 8
         },
         {
          "location": "((1, 0), 'up')",
          "q_value": 0,
          "run": 9
         },
         {
          "location": "((1, 0), 'up')",
          "q_value": 0,
          "run": 10
         },
         {
          "location": "((1, 0), 'up')",
          "q_value": 0,
          "run": 11
         },
         {
          "location": "((1, 0), 'up')",
          "q_value": 0,
          "run": 12
         },
         {
          "location": "((1, 0), 'up')",
          "q_value": 0,
          "run": 13
         },
         {
          "location": "((1, 0), 'up')",
          "q_value": 0,
          "run": 14
         },
         {
          "location": "((1, 0), 'up')",
          "q_value": 0,
          "run": 15
         },
         {
          "location": "((1, 0), 'up')",
          "q_value": 0,
          "run": 16
         },
         {
          "location": "((1, 0), 'up')",
          "q_value": 0,
          "run": 17
         },
         {
          "location": "((1, 0), 'up')",
          "q_value": 0,
          "run": 18
         },
         {
          "location": "((1, 0), 'up')",
          "q_value": 0,
          "run": 19
         },
         {
          "location": "((1, 0), 'up')",
          "q_value": 0,
          "run": 20
         },
         {
          "location": "((1, 0), 'up')",
          "q_value": 0,
          "run": 21
         },
         {
          "location": "((1, 0), 'up')",
          "q_value": 0,
          "run": 22
         },
         {
          "location": "((1, 0), 'up')",
          "q_value": 0,
          "run": 23
         },
         {
          "location": "((1, 0), 'up')",
          "q_value": 0,
          "run": 24
         },
         {
          "location": "((1, 0), 'up')",
          "q_value": 0,
          "run": 25
         },
         {
          "location": "((1, 0), 'up')",
          "q_value": 0,
          "run": 26
         },
         {
          "location": "((1, 0), 'up')",
          "q_value": 0,
          "run": 27
         },
         {
          "location": "((1, 0), 'up')",
          "q_value": 0,
          "run": 28
         },
         {
          "location": "((1, 0), 'up')",
          "q_value": 0,
          "run": 29
         },
         {
          "location": "((1, 0), 'up')",
          "q_value": 0,
          "run": 30
         },
         {
          "location": "((1, 0), 'up')",
          "q_value": 0,
          "run": 31
         },
         {
          "location": "((1, 0), 'up')",
          "q_value": 0,
          "run": 32
         },
         {
          "location": "((1, 0), 'up')",
          "q_value": 0,
          "run": 33
         },
         {
          "location": "((1, 0), 'up')",
          "q_value": 0,
          "run": 34
         },
         {
          "location": "((1, 0), 'up')",
          "q_value": 0,
          "run": 35
         },
         {
          "location": "((1, 0), 'up')",
          "q_value": 0,
          "run": 36
         },
         {
          "location": "((1, 0), 'up')",
          "q_value": 0,
          "run": 37
         },
         {
          "location": "((1, 0), 'up')",
          "q_value": 0,
          "run": 38
         },
         {
          "location": "((1, 0), 'up')",
          "q_value": 0,
          "run": 39
         },
         {
          "location": "((1, 0), 'up')",
          "q_value": 0,
          "run": 40
         },
         {
          "location": "((1, 0), 'up')",
          "q_value": 0,
          "run": 41
         },
         {
          "location": "((1, 0), 'up')",
          "q_value": 0,
          "run": 42
         },
         {
          "location": "((1, 0), 'up')",
          "q_value": 0,
          "run": 43
         },
         {
          "location": "((1, 0), 'up')",
          "q_value": 0,
          "run": 44
         },
         {
          "location": "((1, 0), 'up')",
          "q_value": 0,
          "run": 45
         },
         {
          "location": "((1, 0), 'up')",
          "q_value": 0,
          "run": 46
         },
         {
          "location": "((1, 0), 'up')",
          "q_value": 0,
          "run": 47
         },
         {
          "location": "((1, 0), 'up')",
          "q_value": 0,
          "run": 48
         },
         {
          "location": "((1, 0), 'up')",
          "q_value": 0,
          "run": 49
         },
         {
          "location": "((1, 0), 'up')",
          "q_value": 0,
          "run": 50
         },
         {
          "location": "((1, 0), 'up')",
          "q_value": 0,
          "run": 51
         },
         {
          "location": "((1, 0), 'up')",
          "q_value": 0,
          "run": 52
         },
         {
          "location": "((1, 0), 'up')",
          "q_value": 0,
          "run": 53
         },
         {
          "location": "((1, 0), 'up')",
          "q_value": 0,
          "run": 54
         },
         {
          "location": "((1, 0), 'up')",
          "q_value": 0,
          "run": 55
         },
         {
          "location": "((1, 0), 'up')",
          "q_value": 0,
          "run": 56
         },
         {
          "location": "((1, 0), 'up')",
          "q_value": 0,
          "run": 57
         },
         {
          "location": "((1, 0), 'up')",
          "q_value": 0,
          "run": 58
         },
         {
          "location": "((1, 0), 'up')",
          "q_value": 0,
          "run": 59
         },
         {
          "location": "((1, 0), 'up')",
          "q_value": 0,
          "run": 60
         },
         {
          "location": "((1, 0), 'up')",
          "q_value": 0.5629402751625646,
          "run": 61
         },
         {
          "location": "((1, 0), 'up')",
          "q_value": 0.5629402751625646,
          "run": 62
         },
         {
          "location": "((1, 0), 'up')",
          "q_value": 0.5629402751625646,
          "run": 63
         },
         {
          "location": "((1, 0), 'up')",
          "q_value": 0.5629402751625646,
          "run": 64
         },
         {
          "location": "((1, 0), 'up')",
          "q_value": 0.5629402751625646,
          "run": 65
         },
         {
          "location": "((1, 0), 'up')",
          "q_value": 0.5629402751625646,
          "run": 66
         },
         {
          "location": "((1, 0), 'up')",
          "q_value": 0.5629402751625646,
          "run": 67
         },
         {
          "location": "((1, 0), 'up')",
          "q_value": 0.5629402751625646,
          "run": 68
         },
         {
          "location": "((1, 0), 'up')",
          "q_value": 0.5629402751625646,
          "run": 69
         },
         {
          "location": "((1, 0), 'up')",
          "q_value": 0.5629402751625646,
          "run": 70
         },
         {
          "location": "((1, 0), 'up')",
          "q_value": 0.5629402751625646,
          "run": 71
         },
         {
          "location": "((1, 0), 'up')",
          "q_value": 0.5629402751625646,
          "run": 72
         },
         {
          "location": "((1, 0), 'up')",
          "q_value": 0.5629402751625646,
          "run": 73
         },
         {
          "location": "((1, 0), 'up')",
          "q_value": 0.5629402751625646,
          "run": 74
         },
         {
          "location": "((1, 0), 'up')",
          "q_value": 0.5629402751625646,
          "run": 75
         },
         {
          "location": "((1, 0), 'up')",
          "q_value": 0.5629402751625646,
          "run": 76
         },
         {
          "location": "((1, 0), 'up')",
          "q_value": 0.5629402751625646,
          "run": 77
         },
         {
          "location": "((1, 0), 'up')",
          "q_value": 0.5629402751625646,
          "run": 78
         },
         {
          "location": "((1, 0), 'up')",
          "q_value": 0.5629402751625646,
          "run": 79
         },
         {
          "location": "((1, 0), 'up')",
          "q_value": 0.5629402751625646,
          "run": 80
         },
         {
          "location": "((1, 0), 'up')",
          "q_value": 0.5629402751625646,
          "run": 81
         },
         {
          "location": "((1, 0), 'up')",
          "q_value": 0.5629402751625646,
          "run": 82
         },
         {
          "location": "((1, 0), 'up')",
          "q_value": 0.5629402751625646,
          "run": 83
         },
         {
          "location": "((1, 0), 'up')",
          "q_value": 0.5629402751625646,
          "run": 84
         },
         {
          "location": "((1, 0), 'up')",
          "q_value": 0.5629402751625646,
          "run": 85
         },
         {
          "location": "((1, 0), 'up')",
          "q_value": 0.5629402751625646,
          "run": 86
         },
         {
          "location": "((1, 0), 'up')",
          "q_value": 0.5629402751625646,
          "run": 87
         },
         {
          "location": "((1, 0), 'up')",
          "q_value": 0.5629402751625646,
          "run": 88
         },
         {
          "location": "((1, 0), 'up')",
          "q_value": 0.5629402751625646,
          "run": 89
         },
         {
          "location": "((1, 0), 'up')",
          "q_value": 0.5629402751625646,
          "run": 90
         },
         {
          "location": "((1, 0), 'up')",
          "q_value": 0.5629402751625646,
          "run": 91
         },
         {
          "location": "((1, 0), 'up')",
          "q_value": 0.5629402751625646,
          "run": 92
         },
         {
          "location": "((1, 0), 'up')",
          "q_value": 0.5629402751625646,
          "run": 93
         },
         {
          "location": "((1, 0), 'up')",
          "q_value": 0.5629402751625646,
          "run": 94
         },
         {
          "location": "((1, 0), 'up')",
          "q_value": 0.5629402751625646,
          "run": 95
         },
         {
          "location": "((1, 0), 'up')",
          "q_value": 0.5629402751625646,
          "run": 96
         },
         {
          "location": "((1, 0), 'up')",
          "q_value": 0.5629402751625646,
          "run": 97
         },
         {
          "location": "((1, 0), 'up')",
          "q_value": 0.5629402751625646,
          "run": 98
         },
         {
          "location": "((1, 0), 'up')",
          "q_value": 0.5629402751625646,
          "run": 99
         },
         {
          "location": "((1, 0), 'up')",
          "q_value": 0.5629402751625646,
          "run": 100
         },
         {
          "location": "((1, 0), 'left')",
          "q_value": 0,
          "run": 0
         },
         {
          "location": "((1, 0), 'left')",
          "q_value": -0.1,
          "run": 1
         },
         {
          "location": "((1, 0), 'left')",
          "q_value": -0.1,
          "run": 2
         },
         {
          "location": "((1, 0), 'left')",
          "q_value": -0.1,
          "run": 3
         },
         {
          "location": "((1, 0), 'left')",
          "q_value": -0.1,
          "run": 4
         },
         {
          "location": "((1, 0), 'left')",
          "q_value": -0.1,
          "run": 5
         },
         {
          "location": "((1, 0), 'left')",
          "q_value": -0.1,
          "run": 6
         },
         {
          "location": "((1, 0), 'left')",
          "q_value": -0.1,
          "run": 7
         },
         {
          "location": "((1, 0), 'left')",
          "q_value": -0.1,
          "run": 8
         },
         {
          "location": "((1, 0), 'left')",
          "q_value": -0.1,
          "run": 9
         },
         {
          "location": "((1, 0), 'left')",
          "q_value": -0.1,
          "run": 10
         },
         {
          "location": "((1, 0), 'left')",
          "q_value": -0.1,
          "run": 11
         },
         {
          "location": "((1, 0), 'left')",
          "q_value": -0.1,
          "run": 12
         },
         {
          "location": "((1, 0), 'left')",
          "q_value": -0.1,
          "run": 13
         },
         {
          "location": "((1, 0), 'left')",
          "q_value": -0.1,
          "run": 14
         },
         {
          "location": "((1, 0), 'left')",
          "q_value": -0.1,
          "run": 15
         },
         {
          "location": "((1, 0), 'left')",
          "q_value": -0.1,
          "run": 16
         },
         {
          "location": "((1, 0), 'left')",
          "q_value": -0.1,
          "run": 17
         },
         {
          "location": "((1, 0), 'left')",
          "q_value": -0.1,
          "run": 18
         },
         {
          "location": "((1, 0), 'left')",
          "q_value": -0.1,
          "run": 19
         },
         {
          "location": "((1, 0), 'left')",
          "q_value": -0.1,
          "run": 20
         },
         {
          "location": "((1, 0), 'left')",
          "q_value": -0.1,
          "run": 21
         },
         {
          "location": "((1, 0), 'left')",
          "q_value": -0.1,
          "run": 22
         },
         {
          "location": "((1, 0), 'left')",
          "q_value": -0.1,
          "run": 23
         },
         {
          "location": "((1, 0), 'left')",
          "q_value": -0.1,
          "run": 24
         },
         {
          "location": "((1, 0), 'left')",
          "q_value": -0.1,
          "run": 25
         },
         {
          "location": "((1, 0), 'left')",
          "q_value": -0.1,
          "run": 26
         },
         {
          "location": "((1, 0), 'left')",
          "q_value": -0.1,
          "run": 27
         },
         {
          "location": "((1, 0), 'left')",
          "q_value": -0.1,
          "run": 28
         },
         {
          "location": "((1, 0), 'left')",
          "q_value": -0.1,
          "run": 29
         },
         {
          "location": "((1, 0), 'left')",
          "q_value": -0.1,
          "run": 30
         },
         {
          "location": "((1, 0), 'left')",
          "q_value": -0.1,
          "run": 31
         },
         {
          "location": "((1, 0), 'left')",
          "q_value": -0.1,
          "run": 32
         },
         {
          "location": "((1, 0), 'left')",
          "q_value": -0.1,
          "run": 33
         },
         {
          "location": "((1, 0), 'left')",
          "q_value": -0.1,
          "run": 34
         },
         {
          "location": "((1, 0), 'left')",
          "q_value": -0.1,
          "run": 35
         },
         {
          "location": "((1, 0), 'left')",
          "q_value": -0.1,
          "run": 36
         },
         {
          "location": "((1, 0), 'left')",
          "q_value": -0.1,
          "run": 37
         },
         {
          "location": "((1, 0), 'left')",
          "q_value": -0.1,
          "run": 38
         },
         {
          "location": "((1, 0), 'left')",
          "q_value": -0.1,
          "run": 39
         },
         {
          "location": "((1, 0), 'left')",
          "q_value": -0.1,
          "run": 40
         },
         {
          "location": "((1, 0), 'left')",
          "q_value": -0.1,
          "run": 41
         },
         {
          "location": "((1, 0), 'left')",
          "q_value": -0.1,
          "run": 42
         },
         {
          "location": "((1, 0), 'left')",
          "q_value": -0.1,
          "run": 43
         },
         {
          "location": "((1, 0), 'left')",
          "q_value": -0.1,
          "run": 44
         },
         {
          "location": "((1, 0), 'left')",
          "q_value": -0.1,
          "run": 45
         },
         {
          "location": "((1, 0), 'left')",
          "q_value": -0.1,
          "run": 46
         },
         {
          "location": "((1, 0), 'left')",
          "q_value": -0.1,
          "run": 47
         },
         {
          "location": "((1, 0), 'left')",
          "q_value": -0.1,
          "run": 48
         },
         {
          "location": "((1, 0), 'left')",
          "q_value": -0.1,
          "run": 49
         },
         {
          "location": "((1, 0), 'left')",
          "q_value": -0.1,
          "run": 50
         },
         {
          "location": "((1, 0), 'left')",
          "q_value": -0.1,
          "run": 51
         },
         {
          "location": "((1, 0), 'left')",
          "q_value": -0.1,
          "run": 52
         },
         {
          "location": "((1, 0), 'left')",
          "q_value": -0.1,
          "run": 53
         },
         {
          "location": "((1, 0), 'left')",
          "q_value": -0.1,
          "run": 54
         },
         {
          "location": "((1, 0), 'left')",
          "q_value": -0.1,
          "run": 55
         },
         {
          "location": "((1, 0), 'left')",
          "q_value": -0.1,
          "run": 56
         },
         {
          "location": "((1, 0), 'left')",
          "q_value": -0.1,
          "run": 57
         },
         {
          "location": "((1, 0), 'left')",
          "q_value": -0.1,
          "run": 58
         },
         {
          "location": "((1, 0), 'left')",
          "q_value": -0.1,
          "run": 59
         },
         {
          "location": "((1, 0), 'left')",
          "q_value": -0.1,
          "run": 60
         },
         {
          "location": "((1, 0), 'left')",
          "q_value": -0.1,
          "run": 61
         },
         {
          "location": "((1, 0), 'left')",
          "q_value": -0.1,
          "run": 62
         },
         {
          "location": "((1, 0), 'left')",
          "q_value": -0.1,
          "run": 63
         },
         {
          "location": "((1, 0), 'left')",
          "q_value": -0.1,
          "run": 64
         },
         {
          "location": "((1, 0), 'left')",
          "q_value": -0.1,
          "run": 65
         },
         {
          "location": "((1, 0), 'left')",
          "q_value": -0.1,
          "run": 66
         },
         {
          "location": "((1, 0), 'left')",
          "q_value": -0.1,
          "run": 67
         },
         {
          "location": "((1, 0), 'left')",
          "q_value": -0.1,
          "run": 68
         },
         {
          "location": "((1, 0), 'left')",
          "q_value": -0.1,
          "run": 69
         },
         {
          "location": "((1, 0), 'left')",
          "q_value": -0.1,
          "run": 70
         },
         {
          "location": "((1, 0), 'left')",
          "q_value": -0.1,
          "run": 71
         },
         {
          "location": "((1, 0), 'left')",
          "q_value": -0.1,
          "run": 72
         },
         {
          "location": "((1, 0), 'left')",
          "q_value": -0.1,
          "run": 73
         },
         {
          "location": "((1, 0), 'left')",
          "q_value": -0.1,
          "run": 74
         },
         {
          "location": "((1, 0), 'left')",
          "q_value": -0.1,
          "run": 75
         },
         {
          "location": "((1, 0), 'left')",
          "q_value": -0.1,
          "run": 76
         },
         {
          "location": "((1, 0), 'left')",
          "q_value": -0.1,
          "run": 77
         },
         {
          "location": "((1, 0), 'left')",
          "q_value": -0.1,
          "run": 78
         },
         {
          "location": "((1, 0), 'left')",
          "q_value": -0.1,
          "run": 79
         },
         {
          "location": "((1, 0), 'left')",
          "q_value": -0.1,
          "run": 80
         },
         {
          "location": "((1, 0), 'left')",
          "q_value": -0.1,
          "run": 81
         },
         {
          "location": "((1, 0), 'left')",
          "q_value": -0.1,
          "run": 82
         },
         {
          "location": "((1, 0), 'left')",
          "q_value": -0.1,
          "run": 83
         },
         {
          "location": "((1, 0), 'left')",
          "q_value": -0.1,
          "run": 84
         },
         {
          "location": "((1, 0), 'left')",
          "q_value": -0.1,
          "run": 85
         },
         {
          "location": "((1, 0), 'left')",
          "q_value": -0.1,
          "run": 86
         },
         {
          "location": "((1, 0), 'left')",
          "q_value": -0.1,
          "run": 87
         },
         {
          "location": "((1, 0), 'left')",
          "q_value": -0.1,
          "run": 88
         },
         {
          "location": "((1, 0), 'left')",
          "q_value": -0.1,
          "run": 89
         },
         {
          "location": "((1, 0), 'left')",
          "q_value": -0.1,
          "run": 90
         },
         {
          "location": "((1, 0), 'left')",
          "q_value": -0.1,
          "run": 91
         },
         {
          "location": "((1, 0), 'left')",
          "q_value": -0.1,
          "run": 92
         },
         {
          "location": "((1, 0), 'left')",
          "q_value": -0.1,
          "run": 93
         },
         {
          "location": "((1, 0), 'left')",
          "q_value": -0.1,
          "run": 94
         },
         {
          "location": "((1, 0), 'left')",
          "q_value": -0.1,
          "run": 95
         },
         {
          "location": "((1, 0), 'left')",
          "q_value": -0.1,
          "run": 96
         },
         {
          "location": "((1, 0), 'left')",
          "q_value": -0.1,
          "run": 97
         },
         {
          "location": "((1, 0), 'left')",
          "q_value": -0.1,
          "run": 98
         },
         {
          "location": "((1, 0), 'left')",
          "q_value": -0.1,
          "run": 99
         },
         {
          "location": "((1, 0), 'left')",
          "q_value": -0.1,
          "run": 100
         },
         {
          "location": "((1, 1), 'down')",
          "q_value": 0,
          "run": 0
         },
         {
          "location": "((1, 1), 'down')",
          "q_value": 0,
          "run": 1
         },
         {
          "location": "((1, 1), 'down')",
          "q_value": 0,
          "run": 2
         },
         {
          "location": "((1, 1), 'down')",
          "q_value": 0,
          "run": 3
         },
         {
          "location": "((1, 1), 'down')",
          "q_value": 0,
          "run": 4
         },
         {
          "location": "((1, 1), 'down')",
          "q_value": 0,
          "run": 5
         },
         {
          "location": "((1, 1), 'down')",
          "q_value": 0,
          "run": 6
         },
         {
          "location": "((1, 1), 'down')",
          "q_value": 0,
          "run": 7
         },
         {
          "location": "((1, 1), 'down')",
          "q_value": 0,
          "run": 8
         },
         {
          "location": "((1, 1), 'down')",
          "q_value": 0,
          "run": 9
         },
         {
          "location": "((1, 1), 'down')",
          "q_value": 0,
          "run": 10
         },
         {
          "location": "((1, 1), 'down')",
          "q_value": 0,
          "run": 11
         },
         {
          "location": "((1, 1), 'down')",
          "q_value": 0,
          "run": 12
         },
         {
          "location": "((1, 1), 'down')",
          "q_value": 0,
          "run": 13
         },
         {
          "location": "((1, 1), 'down')",
          "q_value": 0,
          "run": 14
         },
         {
          "location": "((1, 1), 'down')",
          "q_value": 0,
          "run": 15
         },
         {
          "location": "((1, 1), 'down')",
          "q_value": 0,
          "run": 16
         },
         {
          "location": "((1, 1), 'down')",
          "q_value": 0,
          "run": 17
         },
         {
          "location": "((1, 1), 'down')",
          "q_value": 0,
          "run": 18
         },
         {
          "location": "((1, 1), 'down')",
          "q_value": 0,
          "run": 19
         },
         {
          "location": "((1, 1), 'down')",
          "q_value": 0,
          "run": 20
         },
         {
          "location": "((1, 1), 'down')",
          "q_value": 0,
          "run": 21
         },
         {
          "location": "((1, 1), 'down')",
          "q_value": 0,
          "run": 22
         },
         {
          "location": "((1, 1), 'down')",
          "q_value": 0,
          "run": 23
         },
         {
          "location": "((1, 1), 'down')",
          "q_value": 0,
          "run": 24
         },
         {
          "location": "((1, 1), 'down')",
          "q_value": 0,
          "run": 25
         },
         {
          "location": "((1, 1), 'down')",
          "q_value": 0,
          "run": 26
         },
         {
          "location": "((1, 1), 'down')",
          "q_value": 0,
          "run": 27
         },
         {
          "location": "((1, 1), 'down')",
          "q_value": 0,
          "run": 28
         },
         {
          "location": "((1, 1), 'down')",
          "q_value": 0,
          "run": 29
         },
         {
          "location": "((1, 1), 'down')",
          "q_value": 0,
          "run": 30
         },
         {
          "location": "((1, 1), 'down')",
          "q_value": 0,
          "run": 31
         },
         {
          "location": "((1, 1), 'down')",
          "q_value": 0,
          "run": 32
         },
         {
          "location": "((1, 1), 'down')",
          "q_value": 0,
          "run": 33
         },
         {
          "location": "((1, 1), 'down')",
          "q_value": 0,
          "run": 34
         },
         {
          "location": "((1, 1), 'down')",
          "q_value": 0,
          "run": 35
         },
         {
          "location": "((1, 1), 'down')",
          "q_value": 0,
          "run": 36
         },
         {
          "location": "((1, 1), 'down')",
          "q_value": 0,
          "run": 37
         },
         {
          "location": "((1, 1), 'down')",
          "q_value": 0,
          "run": 38
         },
         {
          "location": "((1, 1), 'down')",
          "q_value": 0,
          "run": 39
         },
         {
          "location": "((1, 1), 'down')",
          "q_value": 0,
          "run": 40
         },
         {
          "location": "((1, 1), 'down')",
          "q_value": 0,
          "run": 41
         },
         {
          "location": "((1, 1), 'down')",
          "q_value": 0,
          "run": 42
         },
         {
          "location": "((1, 1), 'down')",
          "q_value": 0,
          "run": 43
         },
         {
          "location": "((1, 1), 'down')",
          "q_value": 0,
          "run": 44
         },
         {
          "location": "((1, 1), 'down')",
          "q_value": 0,
          "run": 45
         },
         {
          "location": "((1, 1), 'down')",
          "q_value": 0,
          "run": 46
         },
         {
          "location": "((1, 1), 'down')",
          "q_value": 0,
          "run": 47
         },
         {
          "location": "((1, 1), 'down')",
          "q_value": 0,
          "run": 48
         },
         {
          "location": "((1, 1), 'down')",
          "q_value": 0,
          "run": 49
         },
         {
          "location": "((1, 1), 'down')",
          "q_value": 0,
          "run": 50
         },
         {
          "location": "((1, 1), 'down')",
          "q_value": 0,
          "run": 51
         },
         {
          "location": "((1, 1), 'down')",
          "q_value": 0,
          "run": 52
         },
         {
          "location": "((1, 1), 'down')",
          "q_value": 0,
          "run": 53
         },
         {
          "location": "((1, 1), 'down')",
          "q_value": 0,
          "run": 54
         },
         {
          "location": "((1, 1), 'down')",
          "q_value": 0,
          "run": 55
         },
         {
          "location": "((1, 1), 'down')",
          "q_value": 0,
          "run": 56
         },
         {
          "location": "((1, 1), 'down')",
          "q_value": 0,
          "run": 57
         },
         {
          "location": "((1, 1), 'down')",
          "q_value": 0,
          "run": 58
         },
         {
          "location": "((1, 1), 'down')",
          "q_value": 0,
          "run": 59
         },
         {
          "location": "((1, 1), 'down')",
          "q_value": 0,
          "run": 60
         },
         {
          "location": "((1, 1), 'down')",
          "q_value": 0,
          "run": 61
         },
         {
          "location": "((1, 1), 'down')",
          "q_value": 0,
          "run": 62
         },
         {
          "location": "((1, 1), 'down')",
          "q_value": 0,
          "run": 63
         },
         {
          "location": "((1, 1), 'down')",
          "q_value": 0,
          "run": 64
         },
         {
          "location": "((1, 1), 'down')",
          "q_value": 0,
          "run": 65
         },
         {
          "location": "((1, 1), 'down')",
          "q_value": 0,
          "run": 66
         },
         {
          "location": "((1, 1), 'down')",
          "q_value": 0,
          "run": 67
         },
         {
          "location": "((1, 1), 'down')",
          "q_value": 0,
          "run": 68
         },
         {
          "location": "((1, 1), 'down')",
          "q_value": 0,
          "run": 69
         },
         {
          "location": "((1, 1), 'down')",
          "q_value": 0,
          "run": 70
         },
         {
          "location": "((1, 1), 'down')",
          "q_value": 0,
          "run": 71
         },
         {
          "location": "((1, 1), 'down')",
          "q_value": 0,
          "run": 72
         },
         {
          "location": "((1, 1), 'down')",
          "q_value": 0,
          "run": 73
         },
         {
          "location": "((1, 1), 'down')",
          "q_value": 0,
          "run": 74
         },
         {
          "location": "((1, 1), 'down')",
          "q_value": 0,
          "run": 75
         },
         {
          "location": "((1, 1), 'down')",
          "q_value": 0,
          "run": 76
         },
         {
          "location": "((1, 1), 'down')",
          "q_value": 0,
          "run": 77
         },
         {
          "location": "((1, 1), 'down')",
          "q_value": 0,
          "run": 78
         },
         {
          "location": "((1, 1), 'down')",
          "q_value": 0,
          "run": 79
         },
         {
          "location": "((1, 1), 'down')",
          "q_value": 0,
          "run": 80
         },
         {
          "location": "((1, 1), 'down')",
          "q_value": 0,
          "run": 81
         },
         {
          "location": "((1, 1), 'down')",
          "q_value": 0,
          "run": 82
         },
         {
          "location": "((1, 1), 'down')",
          "q_value": 0,
          "run": 83
         },
         {
          "location": "((1, 1), 'down')",
          "q_value": 0,
          "run": 84
         },
         {
          "location": "((1, 1), 'down')",
          "q_value": 0,
          "run": 85
         },
         {
          "location": "((1, 1), 'down')",
          "q_value": 0,
          "run": 86
         },
         {
          "location": "((1, 1), 'down')",
          "q_value": 0,
          "run": 87
         },
         {
          "location": "((1, 1), 'down')",
          "q_value": 0,
          "run": 88
         },
         {
          "location": "((1, 1), 'down')",
          "q_value": 0,
          "run": 89
         },
         {
          "location": "((1, 1), 'down')",
          "q_value": 0,
          "run": 90
         },
         {
          "location": "((1, 1), 'down')",
          "q_value": 0,
          "run": 91
         },
         {
          "location": "((1, 1), 'down')",
          "q_value": 0,
          "run": 92
         },
         {
          "location": "((1, 1), 'down')",
          "q_value": 0,
          "run": 93
         },
         {
          "location": "((1, 1), 'down')",
          "q_value": 0,
          "run": 94
         },
         {
          "location": "((1, 1), 'down')",
          "q_value": 0,
          "run": 95
         },
         {
          "location": "((1, 1), 'down')",
          "q_value": 0,
          "run": 96
         },
         {
          "location": "((1, 1), 'down')",
          "q_value": 0,
          "run": 97
         },
         {
          "location": "((1, 1), 'down')",
          "q_value": 0,
          "run": 98
         },
         {
          "location": "((1, 1), 'down')",
          "q_value": 0,
          "run": 99
         },
         {
          "location": "((1, 1), 'down')",
          "q_value": 0,
          "run": 100
         },
         {
          "location": "((1, 1), 'right')",
          "q_value": 0,
          "run": 0
         },
         {
          "location": "((1, 1), 'right')",
          "q_value": 0,
          "run": 1
         },
         {
          "location": "((1, 1), 'right')",
          "q_value": 0,
          "run": 2
         },
         {
          "location": "((1, 1), 'right')",
          "q_value": 0.171,
          "run": 3
         },
         {
          "location": "((1, 1), 'right')",
          "q_value": 0.171,
          "run": 4
         },
         {
          "location": "((1, 1), 'right')",
          "q_value": 0.171,
          "run": 5
         },
         {
          "location": "((1, 1), 'right')",
          "q_value": 0.171,
          "run": 6
         },
         {
          "location": "((1, 1), 'right')",
          "q_value": 0.171,
          "run": 7
         },
         {
          "location": "((1, 1), 'right')",
          "q_value": 0.171,
          "run": 8
         },
         {
          "location": "((1, 1), 'right')",
          "q_value": 0.171,
          "run": 9
         },
         {
          "location": "((1, 1), 'right')",
          "q_value": 0.171,
          "run": 10
         },
         {
          "location": "((1, 1), 'right')",
          "q_value": 0.171,
          "run": 11
         },
         {
          "location": "((1, 1), 'right')",
          "q_value": 0.171,
          "run": 12
         },
         {
          "location": "((1, 1), 'right')",
          "q_value": 0.171,
          "run": 13
         },
         {
          "location": "((1, 1), 'right')",
          "q_value": 0.171,
          "run": 14
         },
         {
          "location": "((1, 1), 'right')",
          "q_value": 0.171,
          "run": 15
         },
         {
          "location": "((1, 1), 'right')",
          "q_value": 0.171,
          "run": 16
         },
         {
          "location": "((1, 1), 'right')",
          "q_value": 0.171,
          "run": 17
         },
         {
          "location": "((1, 1), 'right')",
          "q_value": 0.171,
          "run": 18
         },
         {
          "location": "((1, 1), 'right')",
          "q_value": 0.171,
          "run": 19
         },
         {
          "location": "((1, 1), 'right')",
          "q_value": 0.171,
          "run": 20
         },
         {
          "location": "((1, 1), 'right')",
          "q_value": 0.171,
          "run": 21
         },
         {
          "location": "((1, 1), 'right')",
          "q_value": 0.171,
          "run": 22
         },
         {
          "location": "((1, 1), 'right')",
          "q_value": 0.171,
          "run": 23
         },
         {
          "location": "((1, 1), 'right')",
          "q_value": 0.171,
          "run": 24
         },
         {
          "location": "((1, 1), 'right')",
          "q_value": 0.171,
          "run": 25
         },
         {
          "location": "((1, 1), 'right')",
          "q_value": 0.9892891811077333,
          "run": 26
         },
         {
          "location": "((1, 1), 'right')",
          "q_value": 0.9892891811077333,
          "run": 27
         },
         {
          "location": "((1, 1), 'right')",
          "q_value": 0.9892891811077333,
          "run": 28
         },
         {
          "location": "((1, 1), 'right')",
          "q_value": 0.9892891811077333,
          "run": 29
         },
         {
          "location": "((1, 1), 'right')",
          "q_value": 0.9892891811077333,
          "run": 30
         },
         {
          "location": "((1, 1), 'right')",
          "q_value": 0.9892891811077333,
          "run": 31
         },
         {
          "location": "((1, 1), 'right')",
          "q_value": 0.9892891811077333,
          "run": 32
         },
         {
          "location": "((1, 1), 'right')",
          "q_value": 0.9892891811077333,
          "run": 33
         },
         {
          "location": "((1, 1), 'right')",
          "q_value": 0.9892891811077333,
          "run": 34
         },
         {
          "location": "((1, 1), 'right')",
          "q_value": 0.9892891811077333,
          "run": 35
         },
         {
          "location": "((1, 1), 'right')",
          "q_value": 0.9892891811077333,
          "run": 36
         },
         {
          "location": "((1, 1), 'right')",
          "q_value": 0.9892891811077333,
          "run": 37
         },
         {
          "location": "((1, 1), 'right')",
          "q_value": 0.9892891811077333,
          "run": 38
         },
         {
          "location": "((1, 1), 'right')",
          "q_value": 0.9892891811077333,
          "run": 39
         },
         {
          "location": "((1, 1), 'right')",
          "q_value": 0.9892891811077333,
          "run": 40
         },
         {
          "location": "((1, 1), 'right')",
          "q_value": 0.9892891811077333,
          "run": 41
         },
         {
          "location": "((1, 1), 'right')",
          "q_value": 0.9892891811077333,
          "run": 42
         },
         {
          "location": "((1, 1), 'right')",
          "q_value": 0.9892891811077333,
          "run": 43
         },
         {
          "location": "((1, 1), 'right')",
          "q_value": 0.9892891811077333,
          "run": 44
         },
         {
          "location": "((1, 1), 'right')",
          "q_value": 0.9892891811077333,
          "run": 45
         },
         {
          "location": "((1, 1), 'right')",
          "q_value": 0.9892891811077333,
          "run": 46
         },
         {
          "location": "((1, 1), 'right')",
          "q_value": 0.9892891811077333,
          "run": 47
         },
         {
          "location": "((1, 1), 'right')",
          "q_value": 0.9892891811077333,
          "run": 48
         },
         {
          "location": "((1, 1), 'right')",
          "q_value": 0.9892891811077333,
          "run": 49
         },
         {
          "location": "((1, 1), 'right')",
          "q_value": 0.9892891811077333,
          "run": 50
         },
         {
          "location": "((1, 1), 'right')",
          "q_value": 0.9892891811077333,
          "run": 51
         },
         {
          "location": "((1, 1), 'right')",
          "q_value": 0.9892891811077333,
          "run": 52
         },
         {
          "location": "((1, 1), 'right')",
          "q_value": 0.9892891811077333,
          "run": 53
         },
         {
          "location": "((1, 1), 'right')",
          "q_value": 0.9892891811077333,
          "run": 54
         },
         {
          "location": "((1, 1), 'right')",
          "q_value": 0.9892891811077333,
          "run": 55
         },
         {
          "location": "((1, 1), 'right')",
          "q_value": 0.9892891811077333,
          "run": 56
         },
         {
          "location": "((1, 1), 'right')",
          "q_value": 0.9892891811077333,
          "run": 57
         },
         {
          "location": "((1, 1), 'right')",
          "q_value": 0.9892891811077333,
          "run": 58
         },
         {
          "location": "((1, 1), 'right')",
          "q_value": 0.9892891811077333,
          "run": 59
         },
         {
          "location": "((1, 1), 'right')",
          "q_value": 0.9892891811077333,
          "run": 60
         },
         {
          "location": "((1, 1), 'right')",
          "q_value": 0.9892891811077333,
          "run": 61
         },
         {
          "location": "((1, 1), 'right')",
          "q_value": 0.9892891811077333,
          "run": 62
         },
         {
          "location": "((1, 1), 'right')",
          "q_value": 0.9892891811077333,
          "run": 63
         },
         {
          "location": "((1, 1), 'right')",
          "q_value": 0.9892891811077333,
          "run": 64
         },
         {
          "location": "((1, 1), 'right')",
          "q_value": 0.9892891811077333,
          "run": 65
         },
         {
          "location": "((1, 1), 'right')",
          "q_value": 0.9892891811077333,
          "run": 66
         },
         {
          "location": "((1, 1), 'right')",
          "q_value": 0.9892891811077333,
          "run": 67
         },
         {
          "location": "((1, 1), 'right')",
          "q_value": 0.9892891811077333,
          "run": 68
         },
         {
          "location": "((1, 1), 'right')",
          "q_value": 0.9892891811077333,
          "run": 69
         },
         {
          "location": "((1, 1), 'right')",
          "q_value": 0.9892891811077333,
          "run": 70
         },
         {
          "location": "((1, 1), 'right')",
          "q_value": 0.9892891811077333,
          "run": 71
         },
         {
          "location": "((1, 1), 'right')",
          "q_value": 0.9892891811077333,
          "run": 72
         },
         {
          "location": "((1, 1), 'right')",
          "q_value": 0.9892891811077333,
          "run": 73
         },
         {
          "location": "((1, 1), 'right')",
          "q_value": 0.9892891811077333,
          "run": 74
         },
         {
          "location": "((1, 1), 'right')",
          "q_value": 0.9892891811077333,
          "run": 75
         },
         {
          "location": "((1, 1), 'right')",
          "q_value": 0.9892891811077333,
          "run": 76
         },
         {
          "location": "((1, 1), 'right')",
          "q_value": 0.9892891811077333,
          "run": 77
         },
         {
          "location": "((1, 1), 'right')",
          "q_value": 0.9892891811077333,
          "run": 78
         },
         {
          "location": "((1, 1), 'right')",
          "q_value": 0.9892891811077333,
          "run": 79
         },
         {
          "location": "((1, 1), 'right')",
          "q_value": 0.9892891811077333,
          "run": 80
         },
         {
          "location": "((1, 1), 'right')",
          "q_value": 0.9892891811077333,
          "run": 81
         },
         {
          "location": "((1, 1), 'right')",
          "q_value": 0.9892891811077333,
          "run": 82
         },
         {
          "location": "((1, 1), 'right')",
          "q_value": 0.9892891811077333,
          "run": 83
         },
         {
          "location": "((1, 1), 'right')",
          "q_value": 0.9892891811077333,
          "run": 84
         },
         {
          "location": "((1, 1), 'right')",
          "q_value": 0.9892891811077333,
          "run": 85
         },
         {
          "location": "((1, 1), 'right')",
          "q_value": 0.9892891811077333,
          "run": 86
         },
         {
          "location": "((1, 1), 'right')",
          "q_value": 0.9892891811077333,
          "run": 87
         },
         {
          "location": "((1, 1), 'right')",
          "q_value": 0.9892891811077333,
          "run": 88
         },
         {
          "location": "((1, 1), 'right')",
          "q_value": 0.9892891811077333,
          "run": 89
         },
         {
          "location": "((1, 1), 'right')",
          "q_value": 1.7902756214991313,
          "run": 90
         },
         {
          "location": "((1, 1), 'right')",
          "q_value": 1.7902756214991313,
          "run": 91
         },
         {
          "location": "((1, 1), 'right')",
          "q_value": 1.7902756214991313,
          "run": 92
         },
         {
          "location": "((1, 1), 'right')",
          "q_value": 1.7902756214991313,
          "run": 93
         },
         {
          "location": "((1, 1), 'right')",
          "q_value": 1.7902756214991313,
          "run": 94
         },
         {
          "location": "((1, 1), 'right')",
          "q_value": 1.7902756214991313,
          "run": 95
         },
         {
          "location": "((1, 1), 'right')",
          "q_value": 1.7902756214991313,
          "run": 96
         },
         {
          "location": "((1, 1), 'right')",
          "q_value": 1.7902756214991313,
          "run": 97
         },
         {
          "location": "((1, 1), 'right')",
          "q_value": 1.7902756214991313,
          "run": 98
         },
         {
          "location": "((1, 1), 'right')",
          "q_value": 3.160060948898387,
          "run": 99
         },
         {
          "location": "((1, 1), 'right')",
          "q_value": 3.160060948898387,
          "run": 100
         },
         {
          "location": "((1, 1), 'up')",
          "q_value": 0,
          "run": 0
         },
         {
          "location": "((1, 1), 'up')",
          "q_value": 0,
          "run": 1
         },
         {
          "location": "((1, 1), 'up')",
          "q_value": 0,
          "run": 2
         },
         {
          "location": "((1, 1), 'up')",
          "q_value": 0,
          "run": 3
         },
         {
          "location": "((1, 1), 'up')",
          "q_value": 0,
          "run": 4
         },
         {
          "location": "((1, 1), 'up')",
          "q_value": 0,
          "run": 5
         },
         {
          "location": "((1, 1), 'up')",
          "q_value": 0,
          "run": 6
         },
         {
          "location": "((1, 1), 'up')",
          "q_value": 0,
          "run": 7
         },
         {
          "location": "((1, 1), 'up')",
          "q_value": 0,
          "run": 8
         },
         {
          "location": "((1, 1), 'up')",
          "q_value": 0,
          "run": 9
         },
         {
          "location": "((1, 1), 'up')",
          "q_value": 0,
          "run": 10
         },
         {
          "location": "((1, 1), 'up')",
          "q_value": 0,
          "run": 11
         },
         {
          "location": "((1, 1), 'up')",
          "q_value": 0,
          "run": 12
         },
         {
          "location": "((1, 1), 'up')",
          "q_value": 0,
          "run": 13
         },
         {
          "location": "((1, 1), 'up')",
          "q_value": 0,
          "run": 14
         },
         {
          "location": "((1, 1), 'up')",
          "q_value": 0,
          "run": 15
         },
         {
          "location": "((1, 1), 'up')",
          "q_value": 0,
          "run": 16
         },
         {
          "location": "((1, 1), 'up')",
          "q_value": 0,
          "run": 17
         },
         {
          "location": "((1, 1), 'up')",
          "q_value": 0,
          "run": 18
         },
         {
          "location": "((1, 1), 'up')",
          "q_value": 0,
          "run": 19
         },
         {
          "location": "((1, 1), 'up')",
          "q_value": 0,
          "run": 20
         },
         {
          "location": "((1, 1), 'up')",
          "q_value": 0,
          "run": 21
         },
         {
          "location": "((1, 1), 'up')",
          "q_value": 0,
          "run": 22
         },
         {
          "location": "((1, 1), 'up')",
          "q_value": 0,
          "run": 23
         },
         {
          "location": "((1, 1), 'up')",
          "q_value": 0,
          "run": 24
         },
         {
          "location": "((1, 1), 'up')",
          "q_value": 0,
          "run": 25
         },
         {
          "location": "((1, 1), 'up')",
          "q_value": 0,
          "run": 26
         },
         {
          "location": "((1, 1), 'up')",
          "q_value": 0,
          "run": 27
         },
         {
          "location": "((1, 1), 'up')",
          "q_value": 0,
          "run": 28
         },
         {
          "location": "((1, 1), 'up')",
          "q_value": 0,
          "run": 29
         },
         {
          "location": "((1, 1), 'up')",
          "q_value": 0,
          "run": 30
         },
         {
          "location": "((1, 1), 'up')",
          "q_value": 0,
          "run": 31
         },
         {
          "location": "((1, 1), 'up')",
          "q_value": 0,
          "run": 32
         },
         {
          "location": "((1, 1), 'up')",
          "q_value": 0,
          "run": 33
         },
         {
          "location": "((1, 1), 'up')",
          "q_value": 0,
          "run": 34
         },
         {
          "location": "((1, 1), 'up')",
          "q_value": 0,
          "run": 35
         },
         {
          "location": "((1, 1), 'up')",
          "q_value": 0,
          "run": 36
         },
         {
          "location": "((1, 1), 'up')",
          "q_value": 0,
          "run": 37
         },
         {
          "location": "((1, 1), 'up')",
          "q_value": 0,
          "run": 38
         },
         {
          "location": "((1, 1), 'up')",
          "q_value": 0,
          "run": 39
         },
         {
          "location": "((1, 1), 'up')",
          "q_value": 0,
          "run": 40
         },
         {
          "location": "((1, 1), 'up')",
          "q_value": 0,
          "run": 41
         },
         {
          "location": "((1, 1), 'up')",
          "q_value": 0,
          "run": 42
         },
         {
          "location": "((1, 1), 'up')",
          "q_value": 0,
          "run": 43
         },
         {
          "location": "((1, 1), 'up')",
          "q_value": 0,
          "run": 44
         },
         {
          "location": "((1, 1), 'up')",
          "q_value": 0,
          "run": 45
         },
         {
          "location": "((1, 1), 'up')",
          "q_value": 0,
          "run": 46
         },
         {
          "location": "((1, 1), 'up')",
          "q_value": 0,
          "run": 47
         },
         {
          "location": "((1, 1), 'up')",
          "q_value": 0,
          "run": 48
         },
         {
          "location": "((1, 1), 'up')",
          "q_value": 0,
          "run": 49
         },
         {
          "location": "((1, 1), 'up')",
          "q_value": 0,
          "run": 50
         },
         {
          "location": "((1, 1), 'up')",
          "q_value": 0,
          "run": 51
         },
         {
          "location": "((1, 1), 'up')",
          "q_value": 0,
          "run": 52
         },
         {
          "location": "((1, 1), 'up')",
          "q_value": 0,
          "run": 53
         },
         {
          "location": "((1, 1), 'up')",
          "q_value": 0,
          "run": 54
         },
         {
          "location": "((1, 1), 'up')",
          "q_value": 0,
          "run": 55
         },
         {
          "location": "((1, 1), 'up')",
          "q_value": 0,
          "run": 56
         },
         {
          "location": "((1, 1), 'up')",
          "q_value": 0,
          "run": 57
         },
         {
          "location": "((1, 1), 'up')",
          "q_value": 0,
          "run": 58
         },
         {
          "location": "((1, 1), 'up')",
          "q_value": 0,
          "run": 59
         },
         {
          "location": "((1, 1), 'up')",
          "q_value": 0,
          "run": 60
         },
         {
          "location": "((1, 1), 'up')",
          "q_value": 0,
          "run": 61
         },
         {
          "location": "((1, 1), 'up')",
          "q_value": 0,
          "run": 62
         },
         {
          "location": "((1, 1), 'up')",
          "q_value": 0,
          "run": 63
         },
         {
          "location": "((1, 1), 'up')",
          "q_value": 0,
          "run": 64
         },
         {
          "location": "((1, 1), 'up')",
          "q_value": 0,
          "run": 65
         },
         {
          "location": "((1, 1), 'up')",
          "q_value": 0,
          "run": 66
         },
         {
          "location": "((1, 1), 'up')",
          "q_value": 0,
          "run": 67
         },
         {
          "location": "((1, 1), 'up')",
          "q_value": 0,
          "run": 68
         },
         {
          "location": "((1, 1), 'up')",
          "q_value": 0,
          "run": 69
         },
         {
          "location": "((1, 1), 'up')",
          "q_value": 0,
          "run": 70
         },
         {
          "location": "((1, 1), 'up')",
          "q_value": 0,
          "run": 71
         },
         {
          "location": "((1, 1), 'up')",
          "q_value": 0,
          "run": 72
         },
         {
          "location": "((1, 1), 'up')",
          "q_value": 0,
          "run": 73
         },
         {
          "location": "((1, 1), 'up')",
          "q_value": 0,
          "run": 74
         },
         {
          "location": "((1, 1), 'up')",
          "q_value": 0,
          "run": 75
         },
         {
          "location": "((1, 1), 'up')",
          "q_value": 0,
          "run": 76
         },
         {
          "location": "((1, 1), 'up')",
          "q_value": 0,
          "run": 77
         },
         {
          "location": "((1, 1), 'up')",
          "q_value": 0,
          "run": 78
         },
         {
          "location": "((1, 1), 'up')",
          "q_value": 0,
          "run": 79
         },
         {
          "location": "((1, 1), 'up')",
          "q_value": 0,
          "run": 80
         },
         {
          "location": "((1, 1), 'up')",
          "q_value": 0,
          "run": 81
         },
         {
          "location": "((1, 1), 'up')",
          "q_value": 0,
          "run": 82
         },
         {
          "location": "((1, 1), 'up')",
          "q_value": 0,
          "run": 83
         },
         {
          "location": "((1, 1), 'up')",
          "q_value": 0,
          "run": 84
         },
         {
          "location": "((1, 1), 'up')",
          "q_value": 0,
          "run": 85
         },
         {
          "location": "((1, 1), 'up')",
          "q_value": 0,
          "run": 86
         },
         {
          "location": "((1, 1), 'up')",
          "q_value": 0,
          "run": 87
         },
         {
          "location": "((1, 1), 'up')",
          "q_value": 0,
          "run": 88
         },
         {
          "location": "((1, 1), 'up')",
          "q_value": 0,
          "run": 89
         },
         {
          "location": "((1, 1), 'up')",
          "q_value": 0.7258946321674535,
          "run": 90
         },
         {
          "location": "((1, 1), 'up')",
          "q_value": 0.7258946321674535,
          "run": 91
         },
         {
          "location": "((1, 1), 'up')",
          "q_value": 0.7258946321674535,
          "run": 92
         },
         {
          "location": "((1, 1), 'up')",
          "q_value": 0.7258946321674535,
          "run": 93
         },
         {
          "location": "((1, 1), 'up')",
          "q_value": 0.7258946321674535,
          "run": 94
         },
         {
          "location": "((1, 1), 'up')",
          "q_value": 0.7258946321674535,
          "run": 95
         },
         {
          "location": "((1, 1), 'up')",
          "q_value": 0.7258946321674535,
          "run": 96
         },
         {
          "location": "((1, 1), 'up')",
          "q_value": 0.7258946321674535,
          "run": 97
         },
         {
          "location": "((1, 1), 'up')",
          "q_value": 0.7258946321674535,
          "run": 98
         },
         {
          "location": "((1, 1), 'up')",
          "q_value": 0.7258946321674535,
          "run": 99
         },
         {
          "location": "((1, 1), 'up')",
          "q_value": 0.7258946321674535,
          "run": 100
         },
         {
          "location": "((1, 1), 'left')",
          "q_value": 0,
          "run": 0
         },
         {
          "location": "((1, 1), 'left')",
          "q_value": 0,
          "run": 1
         },
         {
          "location": "((1, 1), 'left')",
          "q_value": 0,
          "run": 2
         },
         {
          "location": "((1, 1), 'left')",
          "q_value": 0,
          "run": 3
         },
         {
          "location": "((1, 1), 'left')",
          "q_value": 0,
          "run": 4
         },
         {
          "location": "((1, 1), 'left')",
          "q_value": 0,
          "run": 5
         },
         {
          "location": "((1, 1), 'left')",
          "q_value": 0,
          "run": 6
         },
         {
          "location": "((1, 1), 'left')",
          "q_value": 0,
          "run": 7
         },
         {
          "location": "((1, 1), 'left')",
          "q_value": 0,
          "run": 8
         },
         {
          "location": "((1, 1), 'left')",
          "q_value": 0,
          "run": 9
         },
         {
          "location": "((1, 1), 'left')",
          "q_value": 0,
          "run": 10
         },
         {
          "location": "((1, 1), 'left')",
          "q_value": 0,
          "run": 11
         },
         {
          "location": "((1, 1), 'left')",
          "q_value": 0,
          "run": 12
         },
         {
          "location": "((1, 1), 'left')",
          "q_value": 0,
          "run": 13
         },
         {
          "location": "((1, 1), 'left')",
          "q_value": 0,
          "run": 14
         },
         {
          "location": "((1, 1), 'left')",
          "q_value": 0,
          "run": 15
         },
         {
          "location": "((1, 1), 'left')",
          "q_value": 0,
          "run": 16
         },
         {
          "location": "((1, 1), 'left')",
          "q_value": 0,
          "run": 17
         },
         {
          "location": "((1, 1), 'left')",
          "q_value": 0,
          "run": 18
         },
         {
          "location": "((1, 1), 'left')",
          "q_value": 0,
          "run": 19
         },
         {
          "location": "((1, 1), 'left')",
          "q_value": 0,
          "run": 20
         },
         {
          "location": "((1, 1), 'left')",
          "q_value": 0,
          "run": 21
         },
         {
          "location": "((1, 1), 'left')",
          "q_value": 0,
          "run": 22
         },
         {
          "location": "((1, 1), 'left')",
          "q_value": 0,
          "run": 23
         },
         {
          "location": "((1, 1), 'left')",
          "q_value": 0,
          "run": 24
         },
         {
          "location": "((1, 1), 'left')",
          "q_value": 0,
          "run": 25
         },
         {
          "location": "((1, 1), 'left')",
          "q_value": 0,
          "run": 26
         },
         {
          "location": "((1, 1), 'left')",
          "q_value": 0,
          "run": 27
         },
         {
          "location": "((1, 1), 'left')",
          "q_value": 0,
          "run": 28
         },
         {
          "location": "((1, 1), 'left')",
          "q_value": 0,
          "run": 29
         },
         {
          "location": "((1, 1), 'left')",
          "q_value": 0,
          "run": 30
         },
         {
          "location": "((1, 1), 'left')",
          "q_value": 0,
          "run": 31
         },
         {
          "location": "((1, 1), 'left')",
          "q_value": 0,
          "run": 32
         },
         {
          "location": "((1, 1), 'left')",
          "q_value": 0,
          "run": 33
         },
         {
          "location": "((1, 1), 'left')",
          "q_value": 0,
          "run": 34
         },
         {
          "location": "((1, 1), 'left')",
          "q_value": 0,
          "run": 35
         },
         {
          "location": "((1, 1), 'left')",
          "q_value": 0,
          "run": 36
         },
         {
          "location": "((1, 1), 'left')",
          "q_value": 0,
          "run": 37
         },
         {
          "location": "((1, 1), 'left')",
          "q_value": 0,
          "run": 38
         },
         {
          "location": "((1, 1), 'left')",
          "q_value": 0,
          "run": 39
         },
         {
          "location": "((1, 1), 'left')",
          "q_value": 0,
          "run": 40
         },
         {
          "location": "((1, 1), 'left')",
          "q_value": 0,
          "run": 41
         },
         {
          "location": "((1, 1), 'left')",
          "q_value": 0,
          "run": 42
         },
         {
          "location": "((1, 1), 'left')",
          "q_value": 0,
          "run": 43
         },
         {
          "location": "((1, 1), 'left')",
          "q_value": 0,
          "run": 44
         },
         {
          "location": "((1, 1), 'left')",
          "q_value": 0,
          "run": 45
         },
         {
          "location": "((1, 1), 'left')",
          "q_value": 0,
          "run": 46
         },
         {
          "location": "((1, 1), 'left')",
          "q_value": 0,
          "run": 47
         },
         {
          "location": "((1, 1), 'left')",
          "q_value": 0,
          "run": 48
         },
         {
          "location": "((1, 1), 'left')",
          "q_value": 0,
          "run": 49
         },
         {
          "location": "((1, 1), 'left')",
          "q_value": 0,
          "run": 50
         },
         {
          "location": "((1, 1), 'left')",
          "q_value": 0,
          "run": 51
         },
         {
          "location": "((1, 1), 'left')",
          "q_value": 0,
          "run": 52
         },
         {
          "location": "((1, 1), 'left')",
          "q_value": 0,
          "run": 53
         },
         {
          "location": "((1, 1), 'left')",
          "q_value": 0,
          "run": 54
         },
         {
          "location": "((1, 1), 'left')",
          "q_value": 0,
          "run": 55
         },
         {
          "location": "((1, 1), 'left')",
          "q_value": 0,
          "run": 56
         },
         {
          "location": "((1, 1), 'left')",
          "q_value": 0,
          "run": 57
         },
         {
          "location": "((1, 1), 'left')",
          "q_value": 0,
          "run": 58
         },
         {
          "location": "((1, 1), 'left')",
          "q_value": 0,
          "run": 59
         },
         {
          "location": "((1, 1), 'left')",
          "q_value": 0,
          "run": 60
         },
         {
          "location": "((1, 1), 'left')",
          "q_value": 0,
          "run": 61
         },
         {
          "location": "((1, 1), 'left')",
          "q_value": 0,
          "run": 62
         },
         {
          "location": "((1, 1), 'left')",
          "q_value": 0,
          "run": 63
         },
         {
          "location": "((1, 1), 'left')",
          "q_value": 0,
          "run": 64
         },
         {
          "location": "((1, 1), 'left')",
          "q_value": 0,
          "run": 65
         },
         {
          "location": "((1, 1), 'left')",
          "q_value": 0,
          "run": 66
         },
         {
          "location": "((1, 1), 'left')",
          "q_value": 0,
          "run": 67
         },
         {
          "location": "((1, 1), 'left')",
          "q_value": 0,
          "run": 68
         },
         {
          "location": "((1, 1), 'left')",
          "q_value": 0,
          "run": 69
         },
         {
          "location": "((1, 1), 'left')",
          "q_value": 0,
          "run": 70
         },
         {
          "location": "((1, 1), 'left')",
          "q_value": 0,
          "run": 71
         },
         {
          "location": "((1, 1), 'left')",
          "q_value": 0,
          "run": 72
         },
         {
          "location": "((1, 1), 'left')",
          "q_value": 0,
          "run": 73
         },
         {
          "location": "((1, 1), 'left')",
          "q_value": 0,
          "run": 74
         },
         {
          "location": "((1, 1), 'left')",
          "q_value": 0,
          "run": 75
         },
         {
          "location": "((1, 1), 'left')",
          "q_value": 0,
          "run": 76
         },
         {
          "location": "((1, 1), 'left')",
          "q_value": 0,
          "run": 77
         },
         {
          "location": "((1, 1), 'left')",
          "q_value": 0,
          "run": 78
         },
         {
          "location": "((1, 1), 'left')",
          "q_value": 0,
          "run": 79
         },
         {
          "location": "((1, 1), 'left')",
          "q_value": 0,
          "run": 80
         },
         {
          "location": "((1, 1), 'left')",
          "q_value": 0,
          "run": 81
         },
         {
          "location": "((1, 1), 'left')",
          "q_value": 0,
          "run": 82
         },
         {
          "location": "((1, 1), 'left')",
          "q_value": 0,
          "run": 83
         },
         {
          "location": "((1, 1), 'left')",
          "q_value": 0,
          "run": 84
         },
         {
          "location": "((1, 1), 'left')",
          "q_value": 0,
          "run": 85
         },
         {
          "location": "((1, 1), 'left')",
          "q_value": 0,
          "run": 86
         },
         {
          "location": "((1, 1), 'left')",
          "q_value": 0,
          "run": 87
         },
         {
          "location": "((1, 1), 'left')",
          "q_value": 0,
          "run": 88
         },
         {
          "location": "((1, 1), 'left')",
          "q_value": 0,
          "run": 89
         },
         {
          "location": "((1, 1), 'left')",
          "q_value": 0,
          "run": 90
         },
         {
          "location": "((1, 1), 'left')",
          "q_value": 0,
          "run": 91
         },
         {
          "location": "((1, 1), 'left')",
          "q_value": 0,
          "run": 92
         },
         {
          "location": "((1, 1), 'left')",
          "q_value": 0,
          "run": 93
         },
         {
          "location": "((1, 1), 'left')",
          "q_value": 0,
          "run": 94
         },
         {
          "location": "((1, 1), 'left')",
          "q_value": 0,
          "run": 95
         },
         {
          "location": "((1, 1), 'left')",
          "q_value": 0,
          "run": 96
         },
         {
          "location": "((1, 1), 'left')",
          "q_value": 0,
          "run": 97
         },
         {
          "location": "((1, 1), 'left')",
          "q_value": 0,
          "run": 98
         },
         {
          "location": "((1, 1), 'left')",
          "q_value": 0,
          "run": 99
         },
         {
          "location": "((1, 1), 'left')",
          "q_value": 0,
          "run": 100
         },
         {
          "location": "((1, 2), 'down')",
          "q_value": 0,
          "run": 0
         },
         {
          "location": "((1, 2), 'down')",
          "q_value": 1,
          "run": 1
         },
         {
          "location": "((1, 2), 'down')",
          "q_value": 1.9,
          "run": 2
         },
         {
          "location": "((1, 2), 'down')",
          "q_value": 2.71,
          "run": 3
         },
         {
          "location": "((1, 2), 'down')",
          "q_value": 3.439,
          "run": 4
         },
         {
          "location": "((1, 2), 'down')",
          "q_value": 4.0951,
          "run": 5
         },
         {
          "location": "((1, 2), 'down')",
          "q_value": 4.68559,
          "run": 6
         },
         {
          "location": "((1, 2), 'down')",
          "q_value": 5.217031,
          "run": 7
         },
         {
          "location": "((1, 2), 'down')",
          "q_value": 5.6953279000000006,
          "run": 8
         },
         {
          "location": "((1, 2), 'down')",
          "q_value": 6.12579511,
          "run": 9
         },
         {
          "location": "((1, 2), 'down')",
          "q_value": 6.5132155990000005,
          "run": 10
         },
         {
          "location": "((1, 2), 'down')",
          "q_value": 6.8618940391,
          "run": 11
         },
         {
          "location": "((1, 2), 'down')",
          "q_value": 7.17570463519,
          "run": 12
         },
         {
          "location": "((1, 2), 'down')",
          "q_value": 7.4581341716709995,
          "run": 13
         },
         {
          "location": "((1, 2), 'down')",
          "q_value": 7.712320754503899,
          "run": 14
         },
         {
          "location": "((1, 2), 'down')",
          "q_value": 7.941088679053509,
          "run": 15
         },
         {
          "location": "((1, 2), 'down')",
          "q_value": 8.146979811148158,
          "run": 16
         },
         {
          "location": "((1, 2), 'down')",
          "q_value": 8.332281830033342,
          "run": 17
         },
         {
          "location": "((1, 2), 'down')",
          "q_value": 8.499053647030008,
          "run": 18
         },
         {
          "location": "((1, 2), 'down')",
          "q_value": 8.649148282327008,
          "run": 19
         },
         {
          "location": "((1, 2), 'down')",
          "q_value": 8.784233454094307,
          "run": 20
         },
         {
          "location": "((1, 2), 'down')",
          "q_value": 8.905810108684877,
          "run": 21
         },
         {
          "location": "((1, 2), 'down')",
          "q_value": 9.01522909781639,
          "run": 22
         },
         {
          "location": "((1, 2), 'down')",
          "q_value": 9.113706188034751,
          "run": 23
         },
         {
          "location": "((1, 2), 'down')",
          "q_value": 9.202335569231275,
          "run": 24
         },
         {
          "location": "((1, 2), 'down')",
          "q_value": 9.282102012308147,
          "run": 25
         },
         {
          "location": "((1, 2), 'down')",
          "q_value": 9.353891811077332,
          "run": 26
         },
         {
          "location": "((1, 2), 'down')",
          "q_value": 9.418502629969598,
          "run": 27
         },
         {
          "location": "((1, 2), 'down')",
          "q_value": 9.476652366972639,
          "run": 28
         },
         {
          "location": "((1, 2), 'down')",
          "q_value": 9.528987130275375,
          "run": 29
         },
         {
          "location": "((1, 2), 'down')",
          "q_value": 9.576088417247838,
          "run": 30
         },
         {
          "location": "((1, 2), 'down')",
          "q_value": 9.618479575523054,
          "run": 31
         },
         {
          "location": "((1, 2), 'down')",
          "q_value": 9.65663161797075,
          "run": 32
         },
         {
          "location": "((1, 2), 'down')",
          "q_value": 9.690968456173675,
          "run": 33
         },
         {
          "location": "((1, 2), 'down')",
          "q_value": 9.721871610556308,
          "run": 34
         },
         {
          "location": "((1, 2), 'down')",
          "q_value": 9.749684449500677,
          "run": 35
         },
         {
          "location": "((1, 2), 'down')",
          "q_value": 9.774716004550609,
          "run": 36
         },
         {
          "location": "((1, 2), 'down')",
          "q_value": 9.797244404095547,
          "run": 37
         },
         {
          "location": "((1, 2), 'down')",
          "q_value": 9.797244404095547,
          "run": 38
         },
         {
          "location": "((1, 2), 'down')",
          "q_value": 9.817519963685992,
          "run": 39
         },
         {
          "location": "((1, 2), 'down')",
          "q_value": 9.835767967317393,
          "run": 40
         },
         {
          "location": "((1, 2), 'down')",
          "q_value": 9.852191170585654,
          "run": 41
         },
         {
          "location": "((1, 2), 'down')",
          "q_value": 9.866972053527089,
          "run": 42
         },
         {
          "location": "((1, 2), 'down')",
          "q_value": 9.88027484817438,
          "run": 43
         },
         {
          "location": "((1, 2), 'down')",
          "q_value": 9.892247363356942,
          "run": 44
         },
         {
          "location": "((1, 2), 'down')",
          "q_value": 9.903022627021247,
          "run": 45
         },
         {
          "location": "((1, 2), 'down')",
          "q_value": 9.912720364319123,
          "run": 46
         },
         {
          "location": "((1, 2), 'down')",
          "q_value": 9.92144832788721,
          "run": 47
         },
         {
          "location": "((1, 2), 'down')",
          "q_value": 9.92930349509849,
          "run": 48
         },
         {
          "location": "((1, 2), 'down')",
          "q_value": 9.93637314558864,
          "run": 49
         },
         {
          "location": "((1, 2), 'down')",
          "q_value": 9.942735831029776,
          "run": 50
         },
         {
          "location": "((1, 2), 'down')",
          "q_value": 9.948462247926798,
          "run": 51
         },
         {
          "location": "((1, 2), 'down')",
          "q_value": 9.953616023134119,
          "run": 52
         },
         {
          "location": "((1, 2), 'down')",
          "q_value": 9.958254420820706,
          "run": 53
         },
         {
          "location": "((1, 2), 'down')",
          "q_value": 9.962428978738636,
          "run": 54
         },
         {
          "location": "((1, 2), 'down')",
          "q_value": 9.966186080864773,
          "run": 55
         },
         {
          "location": "((1, 2), 'down')",
          "q_value": 9.969567472778296,
          "run": 56
         },
         {
          "location": "((1, 2), 'down')",
          "q_value": 9.972610725500466,
          "run": 57
         },
         {
          "location": "((1, 2), 'down')",
          "q_value": 9.97534965295042,
          "run": 58
         },
         {
          "location": "((1, 2), 'down')",
          "q_value": 9.977814687655378,
          "run": 59
         },
         {
          "location": "((1, 2), 'down')",
          "q_value": 9.98003321888984,
          "run": 60
         },
         {
          "location": "((1, 2), 'down')",
          "q_value": 9.982029897000857,
          "run": 61
         },
         {
          "location": "((1, 2), 'down')",
          "q_value": 9.98382690730077,
          "run": 62
         },
         {
          "location": "((1, 2), 'down')",
          "q_value": 9.985444216570693,
          "run": 63
         },
         {
          "location": "((1, 2), 'down')",
          "q_value": 9.986899794913624,
          "run": 64
         },
         {
          "location": "((1, 2), 'down')",
          "q_value": 9.988209815422262,
          "run": 65
         },
         {
          "location": "((1, 2), 'down')",
          "q_value": 9.989388833880037,
          "run": 66
         },
         {
          "location": "((1, 2), 'down')",
          "q_value": 9.990449950492033,
          "run": 67
         },
         {
          "location": "((1, 2), 'down')",
          "q_value": 9.99140495544283,
          "run": 68
         },
         {
          "location": "((1, 2), 'down')",
          "q_value": 9.992264459898546,
          "run": 69
         },
         {
          "location": "((1, 2), 'down')",
          "q_value": 9.993038013908691,
          "run": 70
         },
         {
          "location": "((1, 2), 'down')",
          "q_value": 9.993734212517822,
          "run": 71
         },
         {
          "location": "((1, 2), 'down')",
          "q_value": 9.99436079126604,
          "run": 72
         },
         {
          "location": "((1, 2), 'down')",
          "q_value": 9.994924712139436,
          "run": 73
         },
         {
          "location": "((1, 2), 'down')",
          "q_value": 9.995432240925492,
          "run": 74
         },
         {
          "location": "((1, 2), 'down')",
          "q_value": 9.995889016832942,
          "run": 75
         },
         {
          "location": "((1, 2), 'down')",
          "q_value": 9.996300115149648,
          "run": 76
         },
         {
          "location": "((1, 2), 'down')",
          "q_value": 9.996670103634683,
          "run": 77
         },
         {
          "location": "((1, 2), 'down')",
          "q_value": 9.997003093271214,
          "run": 78
         },
         {
          "location": "((1, 2), 'down')",
          "q_value": 9.997302783944093,
          "run": 79
         },
         {
          "location": "((1, 2), 'down')",
          "q_value": 9.997572505549684,
          "run": 80
         },
         {
          "location": "((1, 2), 'down')",
          "q_value": 9.997815254994716,
          "run": 81
         },
         {
          "location": "((1, 2), 'down')",
          "q_value": 9.998033729495244,
          "run": 82
         },
         {
          "location": "((1, 2), 'down')",
          "q_value": 9.99823035654572,
          "run": 83
         },
         {
          "location": "((1, 2), 'down')",
          "q_value": 9.998407320891149,
          "run": 84
         },
         {
          "location": "((1, 2), 'down')",
          "q_value": 9.998566588802033,
          "run": 85
         },
         {
          "location": "((1, 2), 'down')",
          "q_value": 9.99870992992183,
          "run": 86
         },
         {
          "location": "((1, 2), 'down')",
          "q_value": 9.998838936929648,
          "run": 87
         },
         {
          "location": "((1, 2), 'down')",
          "q_value": 9.998955043236682,
          "run": 88
         },
         {
          "location": "((1, 2), 'down')",
          "q_value": 9.999059538913015,
          "run": 89
         },
         {
          "location": "((1, 2), 'down')",
          "q_value": 9.999153585021713,
          "run": 90
         },
         {
          "location": "((1, 2), 'down')",
          "q_value": 9.999238226519541,
          "run": 91
         },
         {
          "location": "((1, 2), 'down')",
          "q_value": 9.999314403867587,
          "run": 92
         },
         {
          "location": "((1, 2), 'down')",
          "q_value": 9.999382963480828,
          "run": 93
         },
         {
          "location": "((1, 2), 'down')",
          "q_value": 9.999444667132746,
          "run": 94
         },
         {
          "location": "((1, 2), 'down')",
          "q_value": 9.99950020041947,
          "run": 95
         },
         {
          "location": "((1, 2), 'down')",
          "q_value": 9.999550180377524,
          "run": 96
         },
         {
          "location": "((1, 2), 'down')",
          "q_value": 9.999595162339771,
          "run": 97
         },
         {
          "location": "((1, 2), 'down')",
          "q_value": 9.999635646105794,
          "run": 98
         },
         {
          "location": "((1, 2), 'down')",
          "q_value": 9.999672081495214,
          "run": 99
         },
         {
          "location": "((1, 2), 'down')",
          "q_value": 9.999704873345692,
          "run": 100
         },
         {
          "location": "((1, 2), 'right')",
          "q_value": 0,
          "run": 0
         },
         {
          "location": "((1, 2), 'right')",
          "q_value": 0,
          "run": 1
         },
         {
          "location": "((1, 2), 'right')",
          "q_value": 0,
          "run": 2
         },
         {
          "location": "((1, 2), 'right')",
          "q_value": 0,
          "run": 3
         },
         {
          "location": "((1, 2), 'right')",
          "q_value": 0,
          "run": 4
         },
         {
          "location": "((1, 2), 'right')",
          "q_value": 0,
          "run": 5
         },
         {
          "location": "((1, 2), 'right')",
          "q_value": 0,
          "run": 6
         },
         {
          "location": "((1, 2), 'right')",
          "q_value": 0,
          "run": 7
         },
         {
          "location": "((1, 2), 'right')",
          "q_value": 0,
          "run": 8
         },
         {
          "location": "((1, 2), 'right')",
          "q_value": 0,
          "run": 9
         },
         {
          "location": "((1, 2), 'right')",
          "q_value": 0,
          "run": 10
         },
         {
          "location": "((1, 2), 'right')",
          "q_value": 0,
          "run": 11
         },
         {
          "location": "((1, 2), 'right')",
          "q_value": 0,
          "run": 12
         },
         {
          "location": "((1, 2), 'right')",
          "q_value": 0,
          "run": 13
         },
         {
          "location": "((1, 2), 'right')",
          "q_value": 0,
          "run": 14
         },
         {
          "location": "((1, 2), 'right')",
          "q_value": 0,
          "run": 15
         },
         {
          "location": "((1, 2), 'right')",
          "q_value": 0,
          "run": 16
         },
         {
          "location": "((1, 2), 'right')",
          "q_value": 0,
          "run": 17
         },
         {
          "location": "((1, 2), 'right')",
          "q_value": 0,
          "run": 18
         },
         {
          "location": "((1, 2), 'right')",
          "q_value": 0,
          "run": 19
         },
         {
          "location": "((1, 2), 'right')",
          "q_value": 0,
          "run": 20
         },
         {
          "location": "((1, 2), 'right')",
          "q_value": 0,
          "run": 21
         },
         {
          "location": "((1, 2), 'right')",
          "q_value": 0,
          "run": 22
         },
         {
          "location": "((1, 2), 'right')",
          "q_value": 0,
          "run": 23
         },
         {
          "location": "((1, 2), 'right')",
          "q_value": 0,
          "run": 24
         },
         {
          "location": "((1, 2), 'right')",
          "q_value": 0,
          "run": 25
         },
         {
          "location": "((1, 2), 'right')",
          "q_value": 0,
          "run": 26
         },
         {
          "location": "((1, 2), 'right')",
          "q_value": 0,
          "run": 27
         },
         {
          "location": "((1, 2), 'right')",
          "q_value": 0,
          "run": 28
         },
         {
          "location": "((1, 2), 'right')",
          "q_value": 0,
          "run": 29
         },
         {
          "location": "((1, 2), 'right')",
          "q_value": 0,
          "run": 30
         },
         {
          "location": "((1, 2), 'right')",
          "q_value": 0,
          "run": 31
         },
         {
          "location": "((1, 2), 'right')",
          "q_value": 0,
          "run": 32
         },
         {
          "location": "((1, 2), 'right')",
          "q_value": 0,
          "run": 33
         },
         {
          "location": "((1, 2), 'right')",
          "q_value": 0,
          "run": 34
         },
         {
          "location": "((1, 2), 'right')",
          "q_value": 0,
          "run": 35
         },
         {
          "location": "((1, 2), 'right')",
          "q_value": 0,
          "run": 36
         },
         {
          "location": "((1, 2), 'right')",
          "q_value": 0,
          "run": 37
         },
         {
          "location": "((1, 2), 'right')",
          "q_value": 0,
          "run": 38
         },
         {
          "location": "((1, 2), 'right')",
          "q_value": 0,
          "run": 39
         },
         {
          "location": "((1, 2), 'right')",
          "q_value": 0,
          "run": 40
         },
         {
          "location": "((1, 2), 'right')",
          "q_value": 0,
          "run": 41
         },
         {
          "location": "((1, 2), 'right')",
          "q_value": 0,
          "run": 42
         },
         {
          "location": "((1, 2), 'right')",
          "q_value": 0,
          "run": 43
         },
         {
          "location": "((1, 2), 'right')",
          "q_value": 0,
          "run": 44
         },
         {
          "location": "((1, 2), 'right')",
          "q_value": 0,
          "run": 45
         },
         {
          "location": "((1, 2), 'right')",
          "q_value": 0,
          "run": 46
         },
         {
          "location": "((1, 2), 'right')",
          "q_value": 0,
          "run": 47
         },
         {
          "location": "((1, 2), 'right')",
          "q_value": 0,
          "run": 48
         },
         {
          "location": "((1, 2), 'right')",
          "q_value": 0,
          "run": 49
         },
         {
          "location": "((1, 2), 'right')",
          "q_value": 0,
          "run": 50
         },
         {
          "location": "((1, 2), 'right')",
          "q_value": 0,
          "run": 51
         },
         {
          "location": "((1, 2), 'right')",
          "q_value": 0,
          "run": 52
         },
         {
          "location": "((1, 2), 'right')",
          "q_value": 0,
          "run": 53
         },
         {
          "location": "((1, 2), 'right')",
          "q_value": 0,
          "run": 54
         },
         {
          "location": "((1, 2), 'right')",
          "q_value": 0,
          "run": 55
         },
         {
          "location": "((1, 2), 'right')",
          "q_value": 0,
          "run": 56
         },
         {
          "location": "((1, 2), 'right')",
          "q_value": 0,
          "run": 57
         },
         {
          "location": "((1, 2), 'right')",
          "q_value": 0,
          "run": 58
         },
         {
          "location": "((1, 2), 'right')",
          "q_value": 0,
          "run": 59
         },
         {
          "location": "((1, 2), 'right')",
          "q_value": 0,
          "run": 60
         },
         {
          "location": "((1, 2), 'right')",
          "q_value": 0,
          "run": 61
         },
         {
          "location": "((1, 2), 'right')",
          "q_value": 0,
          "run": 62
         },
         {
          "location": "((1, 2), 'right')",
          "q_value": 0,
          "run": 63
         },
         {
          "location": "((1, 2), 'right')",
          "q_value": 0,
          "run": 64
         },
         {
          "location": "((1, 2), 'right')",
          "q_value": 0,
          "run": 65
         },
         {
          "location": "((1, 2), 'right')",
          "q_value": 0,
          "run": 66
         },
         {
          "location": "((1, 2), 'right')",
          "q_value": 0,
          "run": 67
         },
         {
          "location": "((1, 2), 'right')",
          "q_value": 0,
          "run": 68
         },
         {
          "location": "((1, 2), 'right')",
          "q_value": 0,
          "run": 69
         },
         {
          "location": "((1, 2), 'right')",
          "q_value": 0,
          "run": 70
         },
         {
          "location": "((1, 2), 'right')",
          "q_value": 0,
          "run": 71
         },
         {
          "location": "((1, 2), 'right')",
          "q_value": 0,
          "run": 72
         },
         {
          "location": "((1, 2), 'right')",
          "q_value": 0,
          "run": 73
         },
         {
          "location": "((1, 2), 'right')",
          "q_value": 0,
          "run": 74
         },
         {
          "location": "((1, 2), 'right')",
          "q_value": 0,
          "run": 75
         },
         {
          "location": "((1, 2), 'right')",
          "q_value": 0,
          "run": 76
         },
         {
          "location": "((1, 2), 'right')",
          "q_value": 0,
          "run": 77
         },
         {
          "location": "((1, 2), 'right')",
          "q_value": 0,
          "run": 78
         },
         {
          "location": "((1, 2), 'right')",
          "q_value": 0,
          "run": 79
         },
         {
          "location": "((1, 2), 'right')",
          "q_value": 0,
          "run": 80
         },
         {
          "location": "((1, 2), 'right')",
          "q_value": 0,
          "run": 81
         },
         {
          "location": "((1, 2), 'right')",
          "q_value": 0,
          "run": 82
         },
         {
          "location": "((1, 2), 'right')",
          "q_value": 0,
          "run": 83
         },
         {
          "location": "((1, 2), 'right')",
          "q_value": 0,
          "run": 84
         },
         {
          "location": "((1, 2), 'right')",
          "q_value": 0,
          "run": 85
         },
         {
          "location": "((1, 2), 'right')",
          "q_value": 0,
          "run": 86
         },
         {
          "location": "((1, 2), 'right')",
          "q_value": 0,
          "run": 87
         },
         {
          "location": "((1, 2), 'right')",
          "q_value": 0,
          "run": 88
         },
         {
          "location": "((1, 2), 'right')",
          "q_value": 0,
          "run": 89
         },
         {
          "location": "((1, 2), 'right')",
          "q_value": 0,
          "run": 90
         },
         {
          "location": "((1, 2), 'right')",
          "q_value": 0,
          "run": 91
         },
         {
          "location": "((1, 2), 'right')",
          "q_value": 0,
          "run": 92
         },
         {
          "location": "((1, 2), 'right')",
          "q_value": 0,
          "run": 93
         },
         {
          "location": "((1, 2), 'right')",
          "q_value": 0,
          "run": 94
         },
         {
          "location": "((1, 2), 'right')",
          "q_value": 0,
          "run": 95
         },
         {
          "location": "((1, 2), 'right')",
          "q_value": 0,
          "run": 96
         },
         {
          "location": "((1, 2), 'right')",
          "q_value": 0,
          "run": 97
         },
         {
          "location": "((1, 2), 'right')",
          "q_value": 0,
          "run": 98
         },
         {
          "location": "((1, 2), 'right')",
          "q_value": 0,
          "run": 99
         },
         {
          "location": "((1, 2), 'right')",
          "q_value": 0,
          "run": 100
         },
         {
          "location": "((1, 2), 'up')",
          "q_value": 0,
          "run": 0
         },
         {
          "location": "((1, 2), 'up')",
          "q_value": 0,
          "run": 1
         },
         {
          "location": "((1, 2), 'up')",
          "q_value": 0,
          "run": 2
         },
         {
          "location": "((1, 2), 'up')",
          "q_value": 0,
          "run": 3
         },
         {
          "location": "((1, 2), 'up')",
          "q_value": 0,
          "run": 4
         },
         {
          "location": "((1, 2), 'up')",
          "q_value": 0,
          "run": 5
         },
         {
          "location": "((1, 2), 'up')",
          "q_value": 0,
          "run": 6
         },
         {
          "location": "((1, 2), 'up')",
          "q_value": 0,
          "run": 7
         },
         {
          "location": "((1, 2), 'up')",
          "q_value": 0,
          "run": 8
         },
         {
          "location": "((1, 2), 'up')",
          "q_value": 0,
          "run": 9
         },
         {
          "location": "((1, 2), 'up')",
          "q_value": 0,
          "run": 10
         },
         {
          "location": "((1, 2), 'up')",
          "q_value": 0,
          "run": 11
         },
         {
          "location": "((1, 2), 'up')",
          "q_value": 0,
          "run": 12
         },
         {
          "location": "((1, 2), 'up')",
          "q_value": 0,
          "run": 13
         },
         {
          "location": "((1, 2), 'up')",
          "q_value": 0,
          "run": 14
         },
         {
          "location": "((1, 2), 'up')",
          "q_value": 0,
          "run": 15
         },
         {
          "location": "((1, 2), 'up')",
          "q_value": 0,
          "run": 16
         },
         {
          "location": "((1, 2), 'up')",
          "q_value": 0,
          "run": 17
         },
         {
          "location": "((1, 2), 'up')",
          "q_value": 0,
          "run": 18
         },
         {
          "location": "((1, 2), 'up')",
          "q_value": 0,
          "run": 19
         },
         {
          "location": "((1, 2), 'up')",
          "q_value": 0.4902533984268027,
          "run": 20
         },
         {
          "location": "((1, 2), 'up')",
          "q_value": 0.4902533984268027,
          "run": 21
         },
         {
          "location": "((1, 2), 'up')",
          "q_value": 0.4902533984268027,
          "run": 22
         },
         {
          "location": "((1, 2), 'up')",
          "q_value": 0.4902533984268027,
          "run": 23
         },
         {
          "location": "((1, 2), 'up')",
          "q_value": 0.4902533984268027,
          "run": 24
         },
         {
          "location": "((1, 2), 'up')",
          "q_value": 0.4902533984268027,
          "run": 25
         },
         {
          "location": "((1, 2), 'up')",
          "q_value": 0.4902533984268027,
          "run": 26
         },
         {
          "location": "((1, 2), 'up')",
          "q_value": 0.4902533984268027,
          "run": 27
         },
         {
          "location": "((1, 2), 'up')",
          "q_value": 0.4902533984268027,
          "run": 28
         },
         {
          "location": "((1, 2), 'up')",
          "q_value": 0.4902533984268027,
          "run": 29
         },
         {
          "location": "((1, 2), 'up')",
          "q_value": 0.4902533984268027,
          "run": 30
         },
         {
          "location": "((1, 2), 'up')",
          "q_value": 1.1108285423766064,
          "run": 31
         },
         {
          "location": "((1, 2), 'up')",
          "q_value": 1.1108285423766064,
          "run": 32
         },
         {
          "location": "((1, 2), 'up')",
          "q_value": 1.1108285423766064,
          "run": 33
         },
         {
          "location": "((1, 2), 'up')",
          "q_value": 1.1108285423766064,
          "run": 34
         },
         {
          "location": "((1, 2), 'up')",
          "q_value": 1.7155769780411,
          "run": 35
         },
         {
          "location": "((1, 2), 'up')",
          "q_value": 1.7155769780411,
          "run": 36
         },
         {
          "location": "((1, 2), 'up')",
          "q_value": 1.7155769780411,
          "run": 37
         },
         {
          "location": "((1, 2), 'up')",
          "q_value": 1.7155769780411,
          "run": 38
         },
         {
          "location": "((1, 2), 'up')",
          "q_value": 1.7155769780411,
          "run": 39
         },
         {
          "location": "((1, 2), 'up')",
          "q_value": 1.7155769780411,
          "run": 40
         },
         {
          "location": "((1, 2), 'up')",
          "q_value": 1.7155769780411,
          "run": 41
         },
         {
          "location": "((1, 2), 'up')",
          "q_value": 1.7155769780411,
          "run": 42
         },
         {
          "location": "((1, 2), 'up')",
          "q_value": 1.7155769780411,
          "run": 43
         },
         {
          "location": "((1, 2), 'up')",
          "q_value": 1.7155769780411,
          "run": 44
         },
         {
          "location": "((1, 2), 'up')",
          "q_value": 1.7155769780411,
          "run": 45
         },
         {
          "location": "((1, 2), 'up')",
          "q_value": 1.7155769780411,
          "run": 46
         },
         {
          "location": "((1, 2), 'up')",
          "q_value": 1.7155769780411,
          "run": 47
         },
         {
          "location": "((1, 2), 'up')",
          "q_value": 1.7155769780411,
          "run": 48
         },
         {
          "location": "((1, 2), 'up')",
          "q_value": 1.7155769780411,
          "run": 49
         },
         {
          "location": "((1, 2), 'up')",
          "q_value": 1.7155769780411,
          "run": 50
         },
         {
          "location": "((1, 2), 'up')",
          "q_value": 1.7155769780411,
          "run": 51
         },
         {
          "location": "((1, 2), 'up')",
          "q_value": 1.7155769780411,
          "run": 52
         },
         {
          "location": "((1, 2), 'up')",
          "q_value": 1.7155769780411,
          "run": 53
         },
         {
          "location": "((1, 2), 'up')",
          "q_value": 1.7155769780411,
          "run": 54
         },
         {
          "location": "((1, 2), 'up')",
          "q_value": 1.7155769780411,
          "run": 55
         },
         {
          "location": "((1, 2), 'up')",
          "q_value": 1.7155769780411,
          "run": 56
         },
         {
          "location": "((1, 2), 'up')",
          "q_value": 1.7155769780411,
          "run": 57
         },
         {
          "location": "((1, 2), 'up')",
          "q_value": 1.7155769780411,
          "run": 58
         },
         {
          "location": "((1, 2), 'up')",
          "q_value": 1.7155769780411,
          "run": 59
         },
         {
          "location": "((1, 2), 'up')",
          "q_value": 1.7155769780411,
          "run": 60
         },
         {
          "location": "((1, 2), 'up')",
          "q_value": 1.7155769780411,
          "run": 61
         },
         {
          "location": "((1, 2), 'up')",
          "q_value": 1.7155769780411,
          "run": 62
         },
         {
          "location": "((1, 2), 'up')",
          "q_value": 1.7155769780411,
          "run": 63
         },
         {
          "location": "((1, 2), 'up')",
          "q_value": 1.7155769780411,
          "run": 64
         },
         {
          "location": "((1, 2), 'up')",
          "q_value": 1.7155769780411,
          "run": 65
         },
         {
          "location": "((1, 2), 'up')",
          "q_value": 1.7155769780411,
          "run": 66
         },
         {
          "location": "((1, 2), 'up')",
          "q_value": 1.7155769780411,
          "run": 67
         },
         {
          "location": "((1, 2), 'up')",
          "q_value": 1.7155769780411,
          "run": 68
         },
         {
          "location": "((1, 2), 'up')",
          "q_value": 1.7155769780411,
          "run": 69
         },
         {
          "location": "((1, 2), 'up')",
          "q_value": 1.7155769780411,
          "run": 70
         },
         {
          "location": "((1, 2), 'up')",
          "q_value": 1.7155769780411,
          "run": 71
         },
         {
          "location": "((1, 2), 'up')",
          "q_value": 1.7155769780411,
          "run": 72
         },
         {
          "location": "((1, 2), 'up')",
          "q_value": 1.7155769780411,
          "run": 73
         },
         {
          "location": "((1, 2), 'up')",
          "q_value": 1.7155769780411,
          "run": 74
         },
         {
          "location": "((1, 2), 'up')",
          "q_value": 1.7155769780411,
          "run": 75
         },
         {
          "location": "((1, 2), 'up')",
          "q_value": 2.3514013157145786,
          "run": 76
         },
         {
          "location": "((1, 2), 'up')",
          "q_value": 2.3514013157145786,
          "run": 77
         },
         {
          "location": "((1, 2), 'up')",
          "q_value": 2.3514013157145786,
          "run": 78
         },
         {
          "location": "((1, 2), 'up')",
          "q_value": 2.3514013157145786,
          "run": 79
         },
         {
          "location": "((1, 2), 'up')",
          "q_value": 2.3514013157145786,
          "run": 80
         },
         {
          "location": "((1, 2), 'up')",
          "q_value": 2.3514013157145786,
          "run": 81
         },
         {
          "location": "((1, 2), 'up')",
          "q_value": 2.3514013157145786,
          "run": 82
         },
         {
          "location": "((1, 2), 'up')",
          "q_value": 2.3514013157145786,
          "run": 83
         },
         {
          "location": "((1, 2), 'up')",
          "q_value": 2.3514013157145786,
          "run": 84
         },
         {
          "location": "((1, 2), 'up')",
          "q_value": 2.3514013157145786,
          "run": 85
         },
         {
          "location": "((1, 2), 'up')",
          "q_value": 2.3514013157145786,
          "run": 86
         },
         {
          "location": "((1, 2), 'up')",
          "q_value": 2.3514013157145786,
          "run": 87
         },
         {
          "location": "((1, 2), 'up')",
          "q_value": 2.3514013157145786,
          "run": 88
         },
         {
          "location": "((1, 2), 'up')",
          "q_value": 2.3514013157145786,
          "run": 89
         },
         {
          "location": "((1, 2), 'up')",
          "q_value": 2.925607902441749,
          "run": 90
         },
         {
          "location": "((1, 2), 'up')",
          "q_value": 2.925607902441749,
          "run": 91
         },
         {
          "location": "((1, 2), 'up')",
          "q_value": 2.925607902441749,
          "run": 92
         },
         {
          "location": "((1, 2), 'up')",
          "q_value": 2.925607902441749,
          "run": 93
         },
         {
          "location": "((1, 2), 'up')",
          "q_value": 2.925607902441749,
          "run": 94
         },
         {
          "location": "((1, 2), 'up')",
          "q_value": 2.925607902441749,
          "run": 95
         },
         {
          "location": "((1, 2), 'up')",
          "q_value": 2.925607902441749,
          "run": 96
         },
         {
          "location": "((1, 2), 'up')",
          "q_value": 2.925607902441749,
          "run": 97
         },
         {
          "location": "((1, 2), 'up')",
          "q_value": 2.925607902441749,
          "run": 98
         },
         {
          "location": "((1, 2), 'up')",
          "q_value": 2.925607902441749,
          "run": 99
         },
         {
          "location": "((1, 2), 'up')",
          "q_value": 2.925607902441749,
          "run": 100
         },
         {
          "location": "((1, 2), 'left')",
          "q_value": 0,
          "run": 0
         },
         {
          "location": "((1, 2), 'left')",
          "q_value": 0,
          "run": 1
         },
         {
          "location": "((1, 2), 'left')",
          "q_value": 0,
          "run": 2
         },
         {
          "location": "((1, 2), 'left')",
          "q_value": 0,
          "run": 3
         },
         {
          "location": "((1, 2), 'left')",
          "q_value": 0,
          "run": 4
         },
         {
          "location": "((1, 2), 'left')",
          "q_value": 0,
          "run": 5
         },
         {
          "location": "((1, 2), 'left')",
          "q_value": 0,
          "run": 6
         },
         {
          "location": "((1, 2), 'left')",
          "q_value": 0,
          "run": 7
         },
         {
          "location": "((1, 2), 'left')",
          "q_value": 0,
          "run": 8
         },
         {
          "location": "((1, 2), 'left')",
          "q_value": 0,
          "run": 9
         },
         {
          "location": "((1, 2), 'left')",
          "q_value": 0,
          "run": 10
         },
         {
          "location": "((1, 2), 'left')",
          "q_value": 0,
          "run": 11
         },
         {
          "location": "((1, 2), 'left')",
          "q_value": 0,
          "run": 12
         },
         {
          "location": "((1, 2), 'left')",
          "q_value": 0,
          "run": 13
         },
         {
          "location": "((1, 2), 'left')",
          "q_value": 0,
          "run": 14
         },
         {
          "location": "((1, 2), 'left')",
          "q_value": 0,
          "run": 15
         },
         {
          "location": "((1, 2), 'left')",
          "q_value": 0,
          "run": 16
         },
         {
          "location": "((1, 2), 'left')",
          "q_value": 0,
          "run": 17
         },
         {
          "location": "((1, 2), 'left')",
          "q_value": 0,
          "run": 18
         },
         {
          "location": "((1, 2), 'left')",
          "q_value": 0,
          "run": 19
         },
         {
          "location": "((1, 2), 'left')",
          "q_value": 0,
          "run": 20
         },
         {
          "location": "((1, 2), 'left')",
          "q_value": 0,
          "run": 21
         },
         {
          "location": "((1, 2), 'left')",
          "q_value": 0,
          "run": 22
         },
         {
          "location": "((1, 2), 'left')",
          "q_value": 0,
          "run": 23
         },
         {
          "location": "((1, 2), 'left')",
          "q_value": 0,
          "run": 24
         },
         {
          "location": "((1, 2), 'left')",
          "q_value": 0,
          "run": 25
         },
         {
          "location": "((1, 2), 'left')",
          "q_value": 0,
          "run": 26
         },
         {
          "location": "((1, 2), 'left')",
          "q_value": 0,
          "run": 27
         },
         {
          "location": "((1, 2), 'left')",
          "q_value": 0,
          "run": 28
         },
         {
          "location": "((1, 2), 'left')",
          "q_value": 0,
          "run": 29
         },
         {
          "location": "((1, 2), 'left')",
          "q_value": 0,
          "run": 30
         },
         {
          "location": "((1, 2), 'left')",
          "q_value": 0,
          "run": 31
         },
         {
          "location": "((1, 2), 'left')",
          "q_value": 0,
          "run": 32
         },
         {
          "location": "((1, 2), 'left')",
          "q_value": 0,
          "run": 33
         },
         {
          "location": "((1, 2), 'left')",
          "q_value": 0,
          "run": 34
         },
         {
          "location": "((1, 2), 'left')",
          "q_value": 0,
          "run": 35
         },
         {
          "location": "((1, 2), 'left')",
          "q_value": 0,
          "run": 36
         },
         {
          "location": "((1, 2), 'left')",
          "q_value": 0,
          "run": 37
         },
         {
          "location": "((1, 2), 'left')",
          "q_value": 0,
          "run": 38
         },
         {
          "location": "((1, 2), 'left')",
          "q_value": 0,
          "run": 39
         },
         {
          "location": "((1, 2), 'left')",
          "q_value": 0,
          "run": 40
         },
         {
          "location": "((1, 2), 'left')",
          "q_value": 0,
          "run": 41
         },
         {
          "location": "((1, 2), 'left')",
          "q_value": 0,
          "run": 42
         },
         {
          "location": "((1, 2), 'left')",
          "q_value": 0,
          "run": 43
         },
         {
          "location": "((1, 2), 'left')",
          "q_value": 0,
          "run": 44
         },
         {
          "location": "((1, 2), 'left')",
          "q_value": 0,
          "run": 45
         },
         {
          "location": "((1, 2), 'left')",
          "q_value": 0,
          "run": 46
         },
         {
          "location": "((1, 2), 'left')",
          "q_value": 0,
          "run": 47
         },
         {
          "location": "((1, 2), 'left')",
          "q_value": 0,
          "run": 48
         },
         {
          "location": "((1, 2), 'left')",
          "q_value": 0,
          "run": 49
         },
         {
          "location": "((1, 2), 'left')",
          "q_value": 0,
          "run": 50
         },
         {
          "location": "((1, 2), 'left')",
          "q_value": 0,
          "run": 51
         },
         {
          "location": "((1, 2), 'left')",
          "q_value": 0,
          "run": 52
         },
         {
          "location": "((1, 2), 'left')",
          "q_value": 0,
          "run": 53
         },
         {
          "location": "((1, 2), 'left')",
          "q_value": 0,
          "run": 54
         },
         {
          "location": "((1, 2), 'left')",
          "q_value": 0,
          "run": 55
         },
         {
          "location": "((1, 2), 'left')",
          "q_value": 0,
          "run": 56
         },
         {
          "location": "((1, 2), 'left')",
          "q_value": 0,
          "run": 57
         },
         {
          "location": "((1, 2), 'left')",
          "q_value": 0,
          "run": 58
         },
         {
          "location": "((1, 2), 'left')",
          "q_value": 0,
          "run": 59
         },
         {
          "location": "((1, 2), 'left')",
          "q_value": 0,
          "run": 60
         },
         {
          "location": "((1, 2), 'left')",
          "q_value": 0,
          "run": 61
         },
         {
          "location": "((1, 2), 'left')",
          "q_value": 0,
          "run": 62
         },
         {
          "location": "((1, 2), 'left')",
          "q_value": 0,
          "run": 63
         },
         {
          "location": "((1, 2), 'left')",
          "q_value": 0,
          "run": 64
         },
         {
          "location": "((1, 2), 'left')",
          "q_value": 0,
          "run": 65
         },
         {
          "location": "((1, 2), 'left')",
          "q_value": 0,
          "run": 66
         },
         {
          "location": "((1, 2), 'left')",
          "q_value": 0,
          "run": 67
         },
         {
          "location": "((1, 2), 'left')",
          "q_value": 0,
          "run": 68
         },
         {
          "location": "((1, 2), 'left')",
          "q_value": 0,
          "run": 69
         },
         {
          "location": "((1, 2), 'left')",
          "q_value": 0,
          "run": 70
         },
         {
          "location": "((1, 2), 'left')",
          "q_value": 0,
          "run": 71
         },
         {
          "location": "((1, 2), 'left')",
          "q_value": 0,
          "run": 72
         },
         {
          "location": "((1, 2), 'left')",
          "q_value": 0,
          "run": 73
         },
         {
          "location": "((1, 2), 'left')",
          "q_value": 0,
          "run": 74
         },
         {
          "location": "((1, 2), 'left')",
          "q_value": 0,
          "run": 75
         },
         {
          "location": "((1, 2), 'left')",
          "q_value": 0,
          "run": 76
         },
         {
          "location": "((1, 2), 'left')",
          "q_value": 0,
          "run": 77
         },
         {
          "location": "((1, 2), 'left')",
          "q_value": 0,
          "run": 78
         },
         {
          "location": "((1, 2), 'left')",
          "q_value": 0,
          "run": 79
         },
         {
          "location": "((1, 2), 'left')",
          "q_value": 0,
          "run": 80
         },
         {
          "location": "((1, 2), 'left')",
          "q_value": 0,
          "run": 81
         },
         {
          "location": "((1, 2), 'left')",
          "q_value": 0,
          "run": 82
         },
         {
          "location": "((1, 2), 'left')",
          "q_value": 0,
          "run": 83
         },
         {
          "location": "((1, 2), 'left')",
          "q_value": 0,
          "run": 84
         },
         {
          "location": "((1, 2), 'left')",
          "q_value": 0,
          "run": 85
         },
         {
          "location": "((1, 2), 'left')",
          "q_value": 0,
          "run": 86
         },
         {
          "location": "((1, 2), 'left')",
          "q_value": 0,
          "run": 87
         },
         {
          "location": "((1, 2), 'left')",
          "q_value": 0,
          "run": 88
         },
         {
          "location": "((1, 2), 'left')",
          "q_value": 0,
          "run": 89
         },
         {
          "location": "((1, 2), 'left')",
          "q_value": 0.24125722960464824,
          "run": 90
         },
         {
          "location": "((1, 2), 'left')",
          "q_value": 0.24125722960464824,
          "run": 91
         },
         {
          "location": "((1, 2), 'left')",
          "q_value": 0.24125722960464824,
          "run": 92
         },
         {
          "location": "((1, 2), 'left')",
          "q_value": 0.24125722960464824,
          "run": 93
         },
         {
          "location": "((1, 2), 'left')",
          "q_value": 0.24125722960464824,
          "run": 94
         },
         {
          "location": "((1, 2), 'left')",
          "q_value": 0.24125722960464824,
          "run": 95
         },
         {
          "location": "((1, 2), 'left')",
          "q_value": 0.24125722960464824,
          "run": 96
         },
         {
          "location": "((1, 2), 'left')",
          "q_value": 0.24125722960464824,
          "run": 97
         },
         {
          "location": "((1, 2), 'left')",
          "q_value": 0.24125722960464824,
          "run": 98
         },
         {
          "location": "((1, 2), 'left')",
          "q_value": 0.44314088071907,
          "run": 99
         },
         {
          "location": "((1, 2), 'left')",
          "q_value": 0.44314088071907,
          "run": 100
         },
         {
          "location": "((1, 3), 'down')",
          "q_value": 0,
          "run": 0
         },
         {
          "location": "((1, 3), 'down')",
          "q_value": 0,
          "run": 1
         },
         {
          "location": "((1, 3), 'down')",
          "q_value": 0,
          "run": 2
         },
         {
          "location": "((1, 3), 'down')",
          "q_value": 0,
          "run": 3
         },
         {
          "location": "((1, 3), 'down')",
          "q_value": 0,
          "run": 4
         },
         {
          "location": "((1, 3), 'down')",
          "q_value": 0,
          "run": 5
         },
         {
          "location": "((1, 3), 'down')",
          "q_value": 0,
          "run": 6
         },
         {
          "location": "((1, 3), 'down')",
          "q_value": 0,
          "run": 7
         },
         {
          "location": "((1, 3), 'down')",
          "q_value": 0,
          "run": 8
         },
         {
          "location": "((1, 3), 'down')",
          "q_value": 0,
          "run": 9
         },
         {
          "location": "((1, 3), 'down')",
          "q_value": 0,
          "run": 10
         },
         {
          "location": "((1, 3), 'down')",
          "q_value": 0,
          "run": 11
         },
         {
          "location": "((1, 3), 'down')",
          "q_value": 0,
          "run": 12
         },
         {
          "location": "((1, 3), 'down')",
          "q_value": 0,
          "run": 13
         },
         {
          "location": "((1, 3), 'down')",
          "q_value": 0,
          "run": 14
         },
         {
          "location": "((1, 3), 'down')",
          "q_value": 0,
          "run": 15
         },
         {
          "location": "((1, 3), 'down')",
          "q_value": 0,
          "run": 16
         },
         {
          "location": "((1, 3), 'down')",
          "q_value": 0,
          "run": 17
         },
         {
          "location": "((1, 3), 'down')",
          "q_value": 0,
          "run": 18
         },
         {
          "location": "((1, 3), 'down')",
          "q_value": 0,
          "run": 19
         },
         {
          "location": "((1, 3), 'down')",
          "q_value": 0,
          "run": 20
         },
         {
          "location": "((1, 3), 'down')",
          "q_value": 0,
          "run": 21
         },
         {
          "location": "((1, 3), 'down')",
          "q_value": 0,
          "run": 22
         },
         {
          "location": "((1, 3), 'down')",
          "q_value": 0,
          "run": 23
         },
         {
          "location": "((1, 3), 'down')",
          "q_value": 0,
          "run": 24
         },
         {
          "location": "((1, 3), 'down')",
          "q_value": 0,
          "run": 25
         },
         {
          "location": "((1, 3), 'down')",
          "q_value": 0,
          "run": 26
         },
         {
          "location": "((1, 3), 'down')",
          "q_value": 0,
          "run": 27
         },
         {
          "location": "((1, 3), 'down')",
          "q_value": 0,
          "run": 28
         },
         {
          "location": "((1, 3), 'down')",
          "q_value": 0,
          "run": 29
         },
         {
          "location": "((1, 3), 'down')",
          "q_value": 0,
          "run": 30
         },
         {
          "location": "((1, 3), 'down')",
          "q_value": 0,
          "run": 31
         },
         {
          "location": "((1, 3), 'down')",
          "q_value": 0,
          "run": 32
         },
         {
          "location": "((1, 3), 'down')",
          "q_value": 0,
          "run": 33
         },
         {
          "location": "((1, 3), 'down')",
          "q_value": 0,
          "run": 34
         },
         {
          "location": "((1, 3), 'down')",
          "q_value": 0,
          "run": 35
         },
         {
          "location": "((1, 3), 'down')",
          "q_value": 0,
          "run": 36
         },
         {
          "location": "((1, 3), 'down')",
          "q_value": 0,
          "run": 37
         },
         {
          "location": "((1, 3), 'down')",
          "q_value": 0,
          "run": 38
         },
         {
          "location": "((1, 3), 'down')",
          "q_value": 0,
          "run": 39
         },
         {
          "location": "((1, 3), 'down')",
          "q_value": 0,
          "run": 40
         },
         {
          "location": "((1, 3), 'down')",
          "q_value": 0,
          "run": 41
         },
         {
          "location": "((1, 3), 'down')",
          "q_value": 0,
          "run": 42
         },
         {
          "location": "((1, 3), 'down')",
          "q_value": 0,
          "run": 43
         },
         {
          "location": "((1, 3), 'down')",
          "q_value": 0,
          "run": 44
         },
         {
          "location": "((1, 3), 'down')",
          "q_value": 0,
          "run": 45
         },
         {
          "location": "((1, 3), 'down')",
          "q_value": 0,
          "run": 46
         },
         {
          "location": "((1, 3), 'down')",
          "q_value": 0,
          "run": 47
         },
         {
          "location": "((1, 3), 'down')",
          "q_value": 0,
          "run": 48
         },
         {
          "location": "((1, 3), 'down')",
          "q_value": 0,
          "run": 49
         },
         {
          "location": "((1, 3), 'down')",
          "q_value": 0,
          "run": 50
         },
         {
          "location": "((1, 3), 'down')",
          "q_value": 0,
          "run": 51
         },
         {
          "location": "((1, 3), 'down')",
          "q_value": 0,
          "run": 52
         },
         {
          "location": "((1, 3), 'down')",
          "q_value": 0,
          "run": 53
         },
         {
          "location": "((1, 3), 'down')",
          "q_value": 0,
          "run": 54
         },
         {
          "location": "((1, 3), 'down')",
          "q_value": 0,
          "run": 55
         },
         {
          "location": "((1, 3), 'down')",
          "q_value": 0,
          "run": 56
         },
         {
          "location": "((1, 3), 'down')",
          "q_value": 0,
          "run": 57
         },
         {
          "location": "((1, 3), 'down')",
          "q_value": 0,
          "run": 58
         },
         {
          "location": "((1, 3), 'down')",
          "q_value": 0,
          "run": 59
         },
         {
          "location": "((1, 3), 'down')",
          "q_value": 0,
          "run": 60
         },
         {
          "location": "((1, 3), 'down')",
          "q_value": 0,
          "run": 61
         },
         {
          "location": "((1, 3), 'down')",
          "q_value": 0,
          "run": 62
         },
         {
          "location": "((1, 3), 'down')",
          "q_value": 0,
          "run": 63
         },
         {
          "location": "((1, 3), 'down')",
          "q_value": 0,
          "run": 64
         },
         {
          "location": "((1, 3), 'down')",
          "q_value": 0,
          "run": 65
         },
         {
          "location": "((1, 3), 'down')",
          "q_value": 0,
          "run": 66
         },
         {
          "location": "((1, 3), 'down')",
          "q_value": 0,
          "run": 67
         },
         {
          "location": "((1, 3), 'down')",
          "q_value": 0,
          "run": 68
         },
         {
          "location": "((1, 3), 'down')",
          "q_value": 0,
          "run": 69
         },
         {
          "location": "((1, 3), 'down')",
          "q_value": 0,
          "run": 70
         },
         {
          "location": "((1, 3), 'down')",
          "q_value": 0,
          "run": 71
         },
         {
          "location": "((1, 3), 'down')",
          "q_value": 0,
          "run": 72
         },
         {
          "location": "((1, 3), 'down')",
          "q_value": 0,
          "run": 73
         },
         {
          "location": "((1, 3), 'down')",
          "q_value": 0,
          "run": 74
         },
         {
          "location": "((1, 3), 'down')",
          "q_value": 0,
          "run": 75
         },
         {
          "location": "((1, 3), 'down')",
          "q_value": 0,
          "run": 76
         },
         {
          "location": "((1, 3), 'down')",
          "q_value": 0,
          "run": 77
         },
         {
          "location": "((1, 3), 'down')",
          "q_value": 0,
          "run": 78
         },
         {
          "location": "((1, 3), 'down')",
          "q_value": 0,
          "run": 79
         },
         {
          "location": "((1, 3), 'down')",
          "q_value": 0,
          "run": 80
         },
         {
          "location": "((1, 3), 'down')",
          "q_value": 0,
          "run": 81
         },
         {
          "location": "((1, 3), 'down')",
          "q_value": 0,
          "run": 82
         },
         {
          "location": "((1, 3), 'down')",
          "q_value": 0,
          "run": 83
         },
         {
          "location": "((1, 3), 'down')",
          "q_value": 0,
          "run": 84
         },
         {
          "location": "((1, 3), 'down')",
          "q_value": 0,
          "run": 85
         },
         {
          "location": "((1, 3), 'down')",
          "q_value": 0,
          "run": 86
         },
         {
          "location": "((1, 3), 'down')",
          "q_value": 0,
          "run": 87
         },
         {
          "location": "((1, 3), 'down')",
          "q_value": 0,
          "run": 88
         },
         {
          "location": "((1, 3), 'down')",
          "q_value": 0,
          "run": 89
         },
         {
          "location": "((1, 3), 'down')",
          "q_value": 0,
          "run": 90
         },
         {
          "location": "((1, 3), 'down')",
          "q_value": 0,
          "run": 91
         },
         {
          "location": "((1, 3), 'down')",
          "q_value": 0,
          "run": 92
         },
         {
          "location": "((1, 3), 'down')",
          "q_value": 0,
          "run": 93
         },
         {
          "location": "((1, 3), 'down')",
          "q_value": 0,
          "run": 94
         },
         {
          "location": "((1, 3), 'down')",
          "q_value": 0,
          "run": 95
         },
         {
          "location": "((1, 3), 'down')",
          "q_value": 0,
          "run": 96
         },
         {
          "location": "((1, 3), 'down')",
          "q_value": 0,
          "run": 97
         },
         {
          "location": "((1, 3), 'down')",
          "q_value": 0,
          "run": 98
         },
         {
          "location": "((1, 3), 'down')",
          "q_value": 0,
          "run": 99
         },
         {
          "location": "((1, 3), 'down')",
          "q_value": 0,
          "run": 100
         },
         {
          "location": "((1, 3), 'right')",
          "q_value": 0,
          "run": 0
         },
         {
          "location": "((1, 3), 'right')",
          "q_value": 0,
          "run": 1
         },
         {
          "location": "((1, 3), 'right')",
          "q_value": 0,
          "run": 2
         },
         {
          "location": "((1, 3), 'right')",
          "q_value": 0,
          "run": 3
         },
         {
          "location": "((1, 3), 'right')",
          "q_value": 0,
          "run": 4
         },
         {
          "location": "((1, 3), 'right')",
          "q_value": 0,
          "run": 5
         },
         {
          "location": "((1, 3), 'right')",
          "q_value": 0,
          "run": 6
         },
         {
          "location": "((1, 3), 'right')",
          "q_value": 0,
          "run": 7
         },
         {
          "location": "((1, 3), 'right')",
          "q_value": 0,
          "run": 8
         },
         {
          "location": "((1, 3), 'right')",
          "q_value": 0,
          "run": 9
         },
         {
          "location": "((1, 3), 'right')",
          "q_value": 0,
          "run": 10
         },
         {
          "location": "((1, 3), 'right')",
          "q_value": 0,
          "run": 11
         },
         {
          "location": "((1, 3), 'right')",
          "q_value": 0,
          "run": 12
         },
         {
          "location": "((1, 3), 'right')",
          "q_value": 0,
          "run": 13
         },
         {
          "location": "((1, 3), 'right')",
          "q_value": 0,
          "run": 14
         },
         {
          "location": "((1, 3), 'right')",
          "q_value": 0,
          "run": 15
         },
         {
          "location": "((1, 3), 'right')",
          "q_value": 0,
          "run": 16
         },
         {
          "location": "((1, 3), 'right')",
          "q_value": 0,
          "run": 17
         },
         {
          "location": "((1, 3), 'right')",
          "q_value": 0,
          "run": 18
         },
         {
          "location": "((1, 3), 'right')",
          "q_value": 0,
          "run": 19
         },
         {
          "location": "((1, 3), 'right')",
          "q_value": 0,
          "run": 20
         },
         {
          "location": "((1, 3), 'right')",
          "q_value": 0,
          "run": 21
         },
         {
          "location": "((1, 3), 'right')",
          "q_value": 0,
          "run": 22
         },
         {
          "location": "((1, 3), 'right')",
          "q_value": 0,
          "run": 23
         },
         {
          "location": "((1, 3), 'right')",
          "q_value": 0,
          "run": 24
         },
         {
          "location": "((1, 3), 'right')",
          "q_value": 0,
          "run": 25
         },
         {
          "location": "((1, 3), 'right')",
          "q_value": 0,
          "run": 26
         },
         {
          "location": "((1, 3), 'right')",
          "q_value": 0,
          "run": 27
         },
         {
          "location": "((1, 3), 'right')",
          "q_value": 0,
          "run": 28
         },
         {
          "location": "((1, 3), 'right')",
          "q_value": 0,
          "run": 29
         },
         {
          "location": "((1, 3), 'right')",
          "q_value": 0,
          "run": 30
         },
         {
          "location": "((1, 3), 'right')",
          "q_value": 0,
          "run": 31
         },
         {
          "location": "((1, 3), 'right')",
          "q_value": 0,
          "run": 32
         },
         {
          "location": "((1, 3), 'right')",
          "q_value": 0,
          "run": 33
         },
         {
          "location": "((1, 3), 'right')",
          "q_value": 0,
          "run": 34
         },
         {
          "location": "((1, 3), 'right')",
          "q_value": 0,
          "run": 35
         },
         {
          "location": "((1, 3), 'right')",
          "q_value": 0,
          "run": 36
         },
         {
          "location": "((1, 3), 'right')",
          "q_value": 0,
          "run": 37
         },
         {
          "location": "((1, 3), 'right')",
          "q_value": 0,
          "run": 38
         },
         {
          "location": "((1, 3), 'right')",
          "q_value": 0,
          "run": 39
         },
         {
          "location": "((1, 3), 'right')",
          "q_value": 0,
          "run": 40
         },
         {
          "location": "((1, 3), 'right')",
          "q_value": 0,
          "run": 41
         },
         {
          "location": "((1, 3), 'right')",
          "q_value": 0,
          "run": 42
         },
         {
          "location": "((1, 3), 'right')",
          "q_value": 0,
          "run": 43
         },
         {
          "location": "((1, 3), 'right')",
          "q_value": 0,
          "run": 44
         },
         {
          "location": "((1, 3), 'right')",
          "q_value": 0,
          "run": 45
         },
         {
          "location": "((1, 3), 'right')",
          "q_value": 0,
          "run": 46
         },
         {
          "location": "((1, 3), 'right')",
          "q_value": 0,
          "run": 47
         },
         {
          "location": "((1, 3), 'right')",
          "q_value": 0,
          "run": 48
         },
         {
          "location": "((1, 3), 'right')",
          "q_value": 0,
          "run": 49
         },
         {
          "location": "((1, 3), 'right')",
          "q_value": 0,
          "run": 50
         },
         {
          "location": "((1, 3), 'right')",
          "q_value": 0,
          "run": 51
         },
         {
          "location": "((1, 3), 'right')",
          "q_value": 0,
          "run": 52
         },
         {
          "location": "((1, 3), 'right')",
          "q_value": 0,
          "run": 53
         },
         {
          "location": "((1, 3), 'right')",
          "q_value": 0,
          "run": 54
         },
         {
          "location": "((1, 3), 'right')",
          "q_value": 0,
          "run": 55
         },
         {
          "location": "((1, 3), 'right')",
          "q_value": 0,
          "run": 56
         },
         {
          "location": "((1, 3), 'right')",
          "q_value": 0,
          "run": 57
         },
         {
          "location": "((1, 3), 'right')",
          "q_value": 0,
          "run": 58
         },
         {
          "location": "((1, 3), 'right')",
          "q_value": 0,
          "run": 59
         },
         {
          "location": "((1, 3), 'right')",
          "q_value": 0,
          "run": 60
         },
         {
          "location": "((1, 3), 'right')",
          "q_value": 0,
          "run": 61
         },
         {
          "location": "((1, 3), 'right')",
          "q_value": 0,
          "run": 62
         },
         {
          "location": "((1, 3), 'right')",
          "q_value": 0,
          "run": 63
         },
         {
          "location": "((1, 3), 'right')",
          "q_value": 0,
          "run": 64
         },
         {
          "location": "((1, 3), 'right')",
          "q_value": 0,
          "run": 65
         },
         {
          "location": "((1, 3), 'right')",
          "q_value": 0,
          "run": 66
         },
         {
          "location": "((1, 3), 'right')",
          "q_value": 0,
          "run": 67
         },
         {
          "location": "((1, 3), 'right')",
          "q_value": 0,
          "run": 68
         },
         {
          "location": "((1, 3), 'right')",
          "q_value": 0,
          "run": 69
         },
         {
          "location": "((1, 3), 'right')",
          "q_value": 0,
          "run": 70
         },
         {
          "location": "((1, 3), 'right')",
          "q_value": 0,
          "run": 71
         },
         {
          "location": "((1, 3), 'right')",
          "q_value": 0,
          "run": 72
         },
         {
          "location": "((1, 3), 'right')",
          "q_value": 0,
          "run": 73
         },
         {
          "location": "((1, 3), 'right')",
          "q_value": 0,
          "run": 74
         },
         {
          "location": "((1, 3), 'right')",
          "q_value": 0,
          "run": 75
         },
         {
          "location": "((1, 3), 'right')",
          "q_value": 0,
          "run": 76
         },
         {
          "location": "((1, 3), 'right')",
          "q_value": 0,
          "run": 77
         },
         {
          "location": "((1, 3), 'right')",
          "q_value": 0,
          "run": 78
         },
         {
          "location": "((1, 3), 'right')",
          "q_value": 0,
          "run": 79
         },
         {
          "location": "((1, 3), 'right')",
          "q_value": 0,
          "run": 80
         },
         {
          "location": "((1, 3), 'right')",
          "q_value": 0,
          "run": 81
         },
         {
          "location": "((1, 3), 'right')",
          "q_value": 0,
          "run": 82
         },
         {
          "location": "((1, 3), 'right')",
          "q_value": 0,
          "run": 83
         },
         {
          "location": "((1, 3), 'right')",
          "q_value": 0,
          "run": 84
         },
         {
          "location": "((1, 3), 'right')",
          "q_value": 0,
          "run": 85
         },
         {
          "location": "((1, 3), 'right')",
          "q_value": 0,
          "run": 86
         },
         {
          "location": "((1, 3), 'right')",
          "q_value": 0,
          "run": 87
         },
         {
          "location": "((1, 3), 'right')",
          "q_value": 0,
          "run": 88
         },
         {
          "location": "((1, 3), 'right')",
          "q_value": 0,
          "run": 89
         },
         {
          "location": "((1, 3), 'right')",
          "q_value": 0,
          "run": 90
         },
         {
          "location": "((1, 3), 'right')",
          "q_value": 0,
          "run": 91
         },
         {
          "location": "((1, 3), 'right')",
          "q_value": 0,
          "run": 92
         },
         {
          "location": "((1, 3), 'right')",
          "q_value": 0,
          "run": 93
         },
         {
          "location": "((1, 3), 'right')",
          "q_value": 0,
          "run": 94
         },
         {
          "location": "((1, 3), 'right')",
          "q_value": 0,
          "run": 95
         },
         {
          "location": "((1, 3), 'right')",
          "q_value": 0,
          "run": 96
         },
         {
          "location": "((1, 3), 'right')",
          "q_value": 0,
          "run": 97
         },
         {
          "location": "((1, 3), 'right')",
          "q_value": 0,
          "run": 98
         },
         {
          "location": "((1, 3), 'right')",
          "q_value": 0,
          "run": 99
         },
         {
          "location": "((1, 3), 'right')",
          "q_value": 0,
          "run": 100
         },
         {
          "location": "((1, 3), 'up')",
          "q_value": 0,
          "run": 0
         },
         {
          "location": "((1, 3), 'up')",
          "q_value": 0,
          "run": 1
         },
         {
          "location": "((1, 3), 'up')",
          "q_value": 0,
          "run": 2
         },
         {
          "location": "((1, 3), 'up')",
          "q_value": 0,
          "run": 3
         },
         {
          "location": "((1, 3), 'up')",
          "q_value": 0,
          "run": 4
         },
         {
          "location": "((1, 3), 'up')",
          "q_value": 0,
          "run": 5
         },
         {
          "location": "((1, 3), 'up')",
          "q_value": 0,
          "run": 6
         },
         {
          "location": "((1, 3), 'up')",
          "q_value": 0,
          "run": 7
         },
         {
          "location": "((1, 3), 'up')",
          "q_value": 0,
          "run": 8
         },
         {
          "location": "((1, 3), 'up')",
          "q_value": 0,
          "run": 9
         },
         {
          "location": "((1, 3), 'up')",
          "q_value": 0,
          "run": 10
         },
         {
          "location": "((1, 3), 'up')",
          "q_value": 0,
          "run": 11
         },
         {
          "location": "((1, 3), 'up')",
          "q_value": 0,
          "run": 12
         },
         {
          "location": "((1, 3), 'up')",
          "q_value": 0,
          "run": 13
         },
         {
          "location": "((1, 3), 'up')",
          "q_value": 0,
          "run": 14
         },
         {
          "location": "((1, 3), 'up')",
          "q_value": 0,
          "run": 15
         },
         {
          "location": "((1, 3), 'up')",
          "q_value": 0,
          "run": 16
         },
         {
          "location": "((1, 3), 'up')",
          "q_value": 0,
          "run": 17
         },
         {
          "location": "((1, 3), 'up')",
          "q_value": 0,
          "run": 18
         },
         {
          "location": "((1, 3), 'up')",
          "q_value": 0,
          "run": 19
         },
         {
          "location": "((1, 3), 'up')",
          "q_value": 0,
          "run": 20
         },
         {
          "location": "((1, 3), 'up')",
          "q_value": 0,
          "run": 21
         },
         {
          "location": "((1, 3), 'up')",
          "q_value": 0,
          "run": 22
         },
         {
          "location": "((1, 3), 'up')",
          "q_value": 0,
          "run": 23
         },
         {
          "location": "((1, 3), 'up')",
          "q_value": 0,
          "run": 24
         },
         {
          "location": "((1, 3), 'up')",
          "q_value": 0,
          "run": 25
         },
         {
          "location": "((1, 3), 'up')",
          "q_value": 0,
          "run": 26
         },
         {
          "location": "((1, 3), 'up')",
          "q_value": 0,
          "run": 27
         },
         {
          "location": "((1, 3), 'up')",
          "q_value": 0,
          "run": 28
         },
         {
          "location": "((1, 3), 'up')",
          "q_value": 0,
          "run": 29
         },
         {
          "location": "((1, 3), 'up')",
          "q_value": 0,
          "run": 30
         },
         {
          "location": "((1, 3), 'up')",
          "q_value": 0,
          "run": 31
         },
         {
          "location": "((1, 3), 'up')",
          "q_value": 0,
          "run": 32
         },
         {
          "location": "((1, 3), 'up')",
          "q_value": 0,
          "run": 33
         },
         {
          "location": "((1, 3), 'up')",
          "q_value": 0,
          "run": 34
         },
         {
          "location": "((1, 3), 'up')",
          "q_value": 0,
          "run": 35
         },
         {
          "location": "((1, 3), 'up')",
          "q_value": 0,
          "run": 36
         },
         {
          "location": "((1, 3), 'up')",
          "q_value": 0,
          "run": 37
         },
         {
          "location": "((1, 3), 'up')",
          "q_value": 0,
          "run": 38
         },
         {
          "location": "((1, 3), 'up')",
          "q_value": 0,
          "run": 39
         },
         {
          "location": "((1, 3), 'up')",
          "q_value": 0,
          "run": 40
         },
         {
          "location": "((1, 3), 'up')",
          "q_value": 0,
          "run": 41
         },
         {
          "location": "((1, 3), 'up')",
          "q_value": 0,
          "run": 42
         },
         {
          "location": "((1, 3), 'up')",
          "q_value": 0,
          "run": 43
         },
         {
          "location": "((1, 3), 'up')",
          "q_value": 0,
          "run": 44
         },
         {
          "location": "((1, 3), 'up')",
          "q_value": 0,
          "run": 45
         },
         {
          "location": "((1, 3), 'up')",
          "q_value": 0,
          "run": 46
         },
         {
          "location": "((1, 3), 'up')",
          "q_value": 0,
          "run": 47
         },
         {
          "location": "((1, 3), 'up')",
          "q_value": 0,
          "run": 48
         },
         {
          "location": "((1, 3), 'up')",
          "q_value": 0,
          "run": 49
         },
         {
          "location": "((1, 3), 'up')",
          "q_value": 0,
          "run": 50
         },
         {
          "location": "((1, 3), 'up')",
          "q_value": 0,
          "run": 51
         },
         {
          "location": "((1, 3), 'up')",
          "q_value": 0,
          "run": 52
         },
         {
          "location": "((1, 3), 'up')",
          "q_value": 0,
          "run": 53
         },
         {
          "location": "((1, 3), 'up')",
          "q_value": 0,
          "run": 54
         },
         {
          "location": "((1, 3), 'up')",
          "q_value": 0,
          "run": 55
         },
         {
          "location": "((1, 3), 'up')",
          "q_value": 0,
          "run": 56
         },
         {
          "location": "((1, 3), 'up')",
          "q_value": 0,
          "run": 57
         },
         {
          "location": "((1, 3), 'up')",
          "q_value": 0,
          "run": 58
         },
         {
          "location": "((1, 3), 'up')",
          "q_value": 0,
          "run": 59
         },
         {
          "location": "((1, 3), 'up')",
          "q_value": 0,
          "run": 60
         },
         {
          "location": "((1, 3), 'up')",
          "q_value": 0,
          "run": 61
         },
         {
          "location": "((1, 3), 'up')",
          "q_value": 0,
          "run": 62
         },
         {
          "location": "((1, 3), 'up')",
          "q_value": 0,
          "run": 63
         },
         {
          "location": "((1, 3), 'up')",
          "q_value": 0,
          "run": 64
         },
         {
          "location": "((1, 3), 'up')",
          "q_value": 0,
          "run": 65
         },
         {
          "location": "((1, 3), 'up')",
          "q_value": 0,
          "run": 66
         },
         {
          "location": "((1, 3), 'up')",
          "q_value": 0,
          "run": 67
         },
         {
          "location": "((1, 3), 'up')",
          "q_value": 0,
          "run": 68
         },
         {
          "location": "((1, 3), 'up')",
          "q_value": 0,
          "run": 69
         },
         {
          "location": "((1, 3), 'up')",
          "q_value": 0,
          "run": 70
         },
         {
          "location": "((1, 3), 'up')",
          "q_value": 0,
          "run": 71
         },
         {
          "location": "((1, 3), 'up')",
          "q_value": 0,
          "run": 72
         },
         {
          "location": "((1, 3), 'up')",
          "q_value": 0,
          "run": 73
         },
         {
          "location": "((1, 3), 'up')",
          "q_value": 0,
          "run": 74
         },
         {
          "location": "((1, 3), 'up')",
          "q_value": 0,
          "run": 75
         },
         {
          "location": "((1, 3), 'up')",
          "q_value": 0,
          "run": 76
         },
         {
          "location": "((1, 3), 'up')",
          "q_value": 0,
          "run": 77
         },
         {
          "location": "((1, 3), 'up')",
          "q_value": 0,
          "run": 78
         },
         {
          "location": "((1, 3), 'up')",
          "q_value": 0,
          "run": 79
         },
         {
          "location": "((1, 3), 'up')",
          "q_value": 0,
          "run": 80
         },
         {
          "location": "((1, 3), 'up')",
          "q_value": 0,
          "run": 81
         },
         {
          "location": "((1, 3), 'up')",
          "q_value": 0,
          "run": 82
         },
         {
          "location": "((1, 3), 'up')",
          "q_value": 0,
          "run": 83
         },
         {
          "location": "((1, 3), 'up')",
          "q_value": 0,
          "run": 84
         },
         {
          "location": "((1, 3), 'up')",
          "q_value": 0,
          "run": 85
         },
         {
          "location": "((1, 3), 'up')",
          "q_value": 0,
          "run": 86
         },
         {
          "location": "((1, 3), 'up')",
          "q_value": 0,
          "run": 87
         },
         {
          "location": "((1, 3), 'up')",
          "q_value": 0,
          "run": 88
         },
         {
          "location": "((1, 3), 'up')",
          "q_value": 0,
          "run": 89
         },
         {
          "location": "((1, 3), 'up')",
          "q_value": 0,
          "run": 90
         },
         {
          "location": "((1, 3), 'up')",
          "q_value": 0,
          "run": 91
         },
         {
          "location": "((1, 3), 'up')",
          "q_value": 0,
          "run": 92
         },
         {
          "location": "((1, 3), 'up')",
          "q_value": 0,
          "run": 93
         },
         {
          "location": "((1, 3), 'up')",
          "q_value": 0,
          "run": 94
         },
         {
          "location": "((1, 3), 'up')",
          "q_value": 0,
          "run": 95
         },
         {
          "location": "((1, 3), 'up')",
          "q_value": 0,
          "run": 96
         },
         {
          "location": "((1, 3), 'up')",
          "q_value": 0,
          "run": 97
         },
         {
          "location": "((1, 3), 'up')",
          "q_value": 0,
          "run": 98
         },
         {
          "location": "((1, 3), 'up')",
          "q_value": 0,
          "run": 99
         },
         {
          "location": "((1, 3), 'up')",
          "q_value": 0,
          "run": 100
         },
         {
          "location": "((1, 3), 'left')",
          "q_value": 0,
          "run": 0
         },
         {
          "location": "((1, 3), 'left')",
          "q_value": 0,
          "run": 1
         },
         {
          "location": "((1, 3), 'left')",
          "q_value": 0,
          "run": 2
         },
         {
          "location": "((1, 3), 'left')",
          "q_value": 0,
          "run": 3
         },
         {
          "location": "((1, 3), 'left')",
          "q_value": 0,
          "run": 4
         },
         {
          "location": "((1, 3), 'left')",
          "q_value": 0,
          "run": 5
         },
         {
          "location": "((1, 3), 'left')",
          "q_value": 0,
          "run": 6
         },
         {
          "location": "((1, 3), 'left')",
          "q_value": 0,
          "run": 7
         },
         {
          "location": "((1, 3), 'left')",
          "q_value": 0,
          "run": 8
         },
         {
          "location": "((1, 3), 'left')",
          "q_value": 0,
          "run": 9
         },
         {
          "location": "((1, 3), 'left')",
          "q_value": 0,
          "run": 10
         },
         {
          "location": "((1, 3), 'left')",
          "q_value": 0,
          "run": 11
         },
         {
          "location": "((1, 3), 'left')",
          "q_value": 0,
          "run": 12
         },
         {
          "location": "((1, 3), 'left')",
          "q_value": 0,
          "run": 13
         },
         {
          "location": "((1, 3), 'left')",
          "q_value": 0,
          "run": 14
         },
         {
          "location": "((1, 3), 'left')",
          "q_value": 0,
          "run": 15
         },
         {
          "location": "((1, 3), 'left')",
          "q_value": 0,
          "run": 16
         },
         {
          "location": "((1, 3), 'left')",
          "q_value": 0,
          "run": 17
         },
         {
          "location": "((1, 3), 'left')",
          "q_value": 0,
          "run": 18
         },
         {
          "location": "((1, 3), 'left')",
          "q_value": 0,
          "run": 19
         },
         {
          "location": "((1, 3), 'left')",
          "q_value": 0,
          "run": 20
         },
         {
          "location": "((1, 3), 'left')",
          "q_value": 0,
          "run": 21
         },
         {
          "location": "((1, 3), 'left')",
          "q_value": 0,
          "run": 22
         },
         {
          "location": "((1, 3), 'left')",
          "q_value": 0,
          "run": 23
         },
         {
          "location": "((1, 3), 'left')",
          "q_value": 0,
          "run": 24
         },
         {
          "location": "((1, 3), 'left')",
          "q_value": 0,
          "run": 25
         },
         {
          "location": "((1, 3), 'left')",
          "q_value": 0,
          "run": 26
         },
         {
          "location": "((1, 3), 'left')",
          "q_value": 0,
          "run": 27
         },
         {
          "location": "((1, 3), 'left')",
          "q_value": 0,
          "run": 28
         },
         {
          "location": "((1, 3), 'left')",
          "q_value": 0,
          "run": 29
         },
         {
          "location": "((1, 3), 'left')",
          "q_value": 0,
          "run": 30
         },
         {
          "location": "((1, 3), 'left')",
          "q_value": 0,
          "run": 31
         },
         {
          "location": "((1, 3), 'left')",
          "q_value": 0,
          "run": 32
         },
         {
          "location": "((1, 3), 'left')",
          "q_value": 0,
          "run": 33
         },
         {
          "location": "((1, 3), 'left')",
          "q_value": 0,
          "run": 34
         },
         {
          "location": "((1, 3), 'left')",
          "q_value": 0,
          "run": 35
         },
         {
          "location": "((1, 3), 'left')",
          "q_value": 0,
          "run": 36
         },
         {
          "location": "((1, 3), 'left')",
          "q_value": 0,
          "run": 37
         },
         {
          "location": "((1, 3), 'left')",
          "q_value": 0,
          "run": 38
         },
         {
          "location": "((1, 3), 'left')",
          "q_value": 0,
          "run": 39
         },
         {
          "location": "((1, 3), 'left')",
          "q_value": 0,
          "run": 40
         },
         {
          "location": "((1, 3), 'left')",
          "q_value": 0,
          "run": 41
         },
         {
          "location": "((1, 3), 'left')",
          "q_value": 0,
          "run": 42
         },
         {
          "location": "((1, 3), 'left')",
          "q_value": 0,
          "run": 43
         },
         {
          "location": "((1, 3), 'left')",
          "q_value": 0,
          "run": 44
         },
         {
          "location": "((1, 3), 'left')",
          "q_value": 0,
          "run": 45
         },
         {
          "location": "((1, 3), 'left')",
          "q_value": 0,
          "run": 46
         },
         {
          "location": "((1, 3), 'left')",
          "q_value": 0,
          "run": 47
         },
         {
          "location": "((1, 3), 'left')",
          "q_value": 0,
          "run": 48
         },
         {
          "location": "((1, 3), 'left')",
          "q_value": 0,
          "run": 49
         },
         {
          "location": "((1, 3), 'left')",
          "q_value": 0,
          "run": 50
         },
         {
          "location": "((1, 3), 'left')",
          "q_value": 0,
          "run": 51
         },
         {
          "location": "((1, 3), 'left')",
          "q_value": 0,
          "run": 52
         },
         {
          "location": "((1, 3), 'left')",
          "q_value": 0,
          "run": 53
         },
         {
          "location": "((1, 3), 'left')",
          "q_value": 0,
          "run": 54
         },
         {
          "location": "((1, 3), 'left')",
          "q_value": 0,
          "run": 55
         },
         {
          "location": "((1, 3), 'left')",
          "q_value": 0,
          "run": 56
         },
         {
          "location": "((1, 3), 'left')",
          "q_value": 0,
          "run": 57
         },
         {
          "location": "((1, 3), 'left')",
          "q_value": 0,
          "run": 58
         },
         {
          "location": "((1, 3), 'left')",
          "q_value": 0,
          "run": 59
         },
         {
          "location": "((1, 3), 'left')",
          "q_value": 0,
          "run": 60
         },
         {
          "location": "((1, 3), 'left')",
          "q_value": 0,
          "run": 61
         },
         {
          "location": "((1, 3), 'left')",
          "q_value": 0,
          "run": 62
         },
         {
          "location": "((1, 3), 'left')",
          "q_value": 0,
          "run": 63
         },
         {
          "location": "((1, 3), 'left')",
          "q_value": 0,
          "run": 64
         },
         {
          "location": "((1, 3), 'left')",
          "q_value": 0,
          "run": 65
         },
         {
          "location": "((1, 3), 'left')",
          "q_value": 0,
          "run": 66
         },
         {
          "location": "((1, 3), 'left')",
          "q_value": 0,
          "run": 67
         },
         {
          "location": "((1, 3), 'left')",
          "q_value": 0,
          "run": 68
         },
         {
          "location": "((1, 3), 'left')",
          "q_value": 0,
          "run": 69
         },
         {
          "location": "((1, 3), 'left')",
          "q_value": 0,
          "run": 70
         },
         {
          "location": "((1, 3), 'left')",
          "q_value": 0,
          "run": 71
         },
         {
          "location": "((1, 3), 'left')",
          "q_value": 0,
          "run": 72
         },
         {
          "location": "((1, 3), 'left')",
          "q_value": 0,
          "run": 73
         },
         {
          "location": "((1, 3), 'left')",
          "q_value": 0,
          "run": 74
         },
         {
          "location": "((1, 3), 'left')",
          "q_value": 0,
          "run": 75
         },
         {
          "location": "((1, 3), 'left')",
          "q_value": 0,
          "run": 76
         },
         {
          "location": "((1, 3), 'left')",
          "q_value": 0,
          "run": 77
         },
         {
          "location": "((1, 3), 'left')",
          "q_value": 0,
          "run": 78
         },
         {
          "location": "((1, 3), 'left')",
          "q_value": 0,
          "run": 79
         },
         {
          "location": "((1, 3), 'left')",
          "q_value": 0,
          "run": 80
         },
         {
          "location": "((1, 3), 'left')",
          "q_value": 0,
          "run": 81
         },
         {
          "location": "((1, 3), 'left')",
          "q_value": 0,
          "run": 82
         },
         {
          "location": "((1, 3), 'left')",
          "q_value": 0,
          "run": 83
         },
         {
          "location": "((1, 3), 'left')",
          "q_value": 0,
          "run": 84
         },
         {
          "location": "((1, 3), 'left')",
          "q_value": 0,
          "run": 85
         },
         {
          "location": "((1, 3), 'left')",
          "q_value": 0,
          "run": 86
         },
         {
          "location": "((1, 3), 'left')",
          "q_value": 0,
          "run": 87
         },
         {
          "location": "((1, 3), 'left')",
          "q_value": 0,
          "run": 88
         },
         {
          "location": "((1, 3), 'left')",
          "q_value": 0,
          "run": 89
         },
         {
          "location": "((1, 3), 'left')",
          "q_value": 0,
          "run": 90
         },
         {
          "location": "((1, 3), 'left')",
          "q_value": 0,
          "run": 91
         },
         {
          "location": "((1, 3), 'left')",
          "q_value": 0,
          "run": 92
         },
         {
          "location": "((1, 3), 'left')",
          "q_value": 0,
          "run": 93
         },
         {
          "location": "((1, 3), 'left')",
          "q_value": 0,
          "run": 94
         },
         {
          "location": "((1, 3), 'left')",
          "q_value": 0,
          "run": 95
         },
         {
          "location": "((1, 3), 'left')",
          "q_value": 0,
          "run": 96
         },
         {
          "location": "((1, 3), 'left')",
          "q_value": 0,
          "run": 97
         },
         {
          "location": "((1, 3), 'left')",
          "q_value": 0,
          "run": 98
         },
         {
          "location": "((1, 3), 'left')",
          "q_value": 0,
          "run": 99
         },
         {
          "location": "((1, 3), 'left')",
          "q_value": 0,
          "run": 100
         },
         {
          "location": "((2, 0), 'down')",
          "q_value": 0,
          "run": 0
         },
         {
          "location": "((2, 0), 'down')",
          "q_value": 0,
          "run": 1
         },
         {
          "location": "((2, 0), 'down')",
          "q_value": 0,
          "run": 2
         },
         {
          "location": "((2, 0), 'down')",
          "q_value": 0,
          "run": 3
         },
         {
          "location": "((2, 0), 'down')",
          "q_value": 0,
          "run": 4
         },
         {
          "location": "((2, 0), 'down')",
          "q_value": 0,
          "run": 5
         },
         {
          "location": "((2, 0), 'down')",
          "q_value": 0,
          "run": 6
         },
         {
          "location": "((2, 0), 'down')",
          "q_value": 0,
          "run": 7
         },
         {
          "location": "((2, 0), 'down')",
          "q_value": 0,
          "run": 8
         },
         {
          "location": "((2, 0), 'down')",
          "q_value": 0,
          "run": 9
         },
         {
          "location": "((2, 0), 'down')",
          "q_value": 0,
          "run": 10
         },
         {
          "location": "((2, 0), 'down')",
          "q_value": 0,
          "run": 11
         },
         {
          "location": "((2, 0), 'down')",
          "q_value": 0,
          "run": 12
         },
         {
          "location": "((2, 0), 'down')",
          "q_value": 0,
          "run": 13
         },
         {
          "location": "((2, 0), 'down')",
          "q_value": 0,
          "run": 14
         },
         {
          "location": "((2, 0), 'down')",
          "q_value": 0,
          "run": 15
         },
         {
          "location": "((2, 0), 'down')",
          "q_value": 0,
          "run": 16
         },
         {
          "location": "((2, 0), 'down')",
          "q_value": 0,
          "run": 17
         },
         {
          "location": "((2, 0), 'down')",
          "q_value": 0,
          "run": 18
         },
         {
          "location": "((2, 0), 'down')",
          "q_value": 0,
          "run": 19
         },
         {
          "location": "((2, 0), 'down')",
          "q_value": 0,
          "run": 20
         },
         {
          "location": "((2, 0), 'down')",
          "q_value": 0,
          "run": 21
         },
         {
          "location": "((2, 0), 'down')",
          "q_value": 0,
          "run": 22
         },
         {
          "location": "((2, 0), 'down')",
          "q_value": 0,
          "run": 23
         },
         {
          "location": "((2, 0), 'down')",
          "q_value": 0,
          "run": 24
         },
         {
          "location": "((2, 0), 'down')",
          "q_value": 0,
          "run": 25
         },
         {
          "location": "((2, 0), 'down')",
          "q_value": 0,
          "run": 26
         },
         {
          "location": "((2, 0), 'down')",
          "q_value": 0,
          "run": 27
         },
         {
          "location": "((2, 0), 'down')",
          "q_value": 0,
          "run": 28
         },
         {
          "location": "((2, 0), 'down')",
          "q_value": 0,
          "run": 29
         },
         {
          "location": "((2, 0), 'down')",
          "q_value": 0,
          "run": 30
         },
         {
          "location": "((2, 0), 'down')",
          "q_value": 0,
          "run": 31
         },
         {
          "location": "((2, 0), 'down')",
          "q_value": 0,
          "run": 32
         },
         {
          "location": "((2, 0), 'down')",
          "q_value": 0,
          "run": 33
         },
         {
          "location": "((2, 0), 'down')",
          "q_value": 0,
          "run": 34
         },
         {
          "location": "((2, 0), 'down')",
          "q_value": 0,
          "run": 35
         },
         {
          "location": "((2, 0), 'down')",
          "q_value": 0,
          "run": 36
         },
         {
          "location": "((2, 0), 'down')",
          "q_value": 0,
          "run": 37
         },
         {
          "location": "((2, 0), 'down')",
          "q_value": 0,
          "run": 38
         },
         {
          "location": "((2, 0), 'down')",
          "q_value": 0,
          "run": 39
         },
         {
          "location": "((2, 0), 'down')",
          "q_value": 0,
          "run": 40
         },
         {
          "location": "((2, 0), 'down')",
          "q_value": 0,
          "run": 41
         },
         {
          "location": "((2, 0), 'down')",
          "q_value": 0,
          "run": 42
         },
         {
          "location": "((2, 0), 'down')",
          "q_value": 0,
          "run": 43
         },
         {
          "location": "((2, 0), 'down')",
          "q_value": 0,
          "run": 44
         },
         {
          "location": "((2, 0), 'down')",
          "q_value": 0,
          "run": 45
         },
         {
          "location": "((2, 0), 'down')",
          "q_value": 0,
          "run": 46
         },
         {
          "location": "((2, 0), 'down')",
          "q_value": 0,
          "run": 47
         },
         {
          "location": "((2, 0), 'down')",
          "q_value": 0,
          "run": 48
         },
         {
          "location": "((2, 0), 'down')",
          "q_value": 0,
          "run": 49
         },
         {
          "location": "((2, 0), 'down')",
          "q_value": 0,
          "run": 50
         },
         {
          "location": "((2, 0), 'down')",
          "q_value": 0,
          "run": 51
         },
         {
          "location": "((2, 0), 'down')",
          "q_value": 0,
          "run": 52
         },
         {
          "location": "((2, 0), 'down')",
          "q_value": 0,
          "run": 53
         },
         {
          "location": "((2, 0), 'down')",
          "q_value": 0,
          "run": 54
         },
         {
          "location": "((2, 0), 'down')",
          "q_value": 0,
          "run": 55
         },
         {
          "location": "((2, 0), 'down')",
          "q_value": 0,
          "run": 56
         },
         {
          "location": "((2, 0), 'down')",
          "q_value": 0,
          "run": 57
         },
         {
          "location": "((2, 0), 'down')",
          "q_value": 0,
          "run": 58
         },
         {
          "location": "((2, 0), 'down')",
          "q_value": 0,
          "run": 59
         },
         {
          "location": "((2, 0), 'down')",
          "q_value": 0,
          "run": 60
         },
         {
          "location": "((2, 0), 'down')",
          "q_value": 0,
          "run": 61
         },
         {
          "location": "((2, 0), 'down')",
          "q_value": 0,
          "run": 62
         },
         {
          "location": "((2, 0), 'down')",
          "q_value": 0,
          "run": 63
         },
         {
          "location": "((2, 0), 'down')",
          "q_value": 0,
          "run": 64
         },
         {
          "location": "((2, 0), 'down')",
          "q_value": 0,
          "run": 65
         },
         {
          "location": "((2, 0), 'down')",
          "q_value": 0,
          "run": 66
         },
         {
          "location": "((2, 0), 'down')",
          "q_value": 0,
          "run": 67
         },
         {
          "location": "((2, 0), 'down')",
          "q_value": 0,
          "run": 68
         },
         {
          "location": "((2, 0), 'down')",
          "q_value": 0,
          "run": 69
         },
         {
          "location": "((2, 0), 'down')",
          "q_value": 0,
          "run": 70
         },
         {
          "location": "((2, 0), 'down')",
          "q_value": 0,
          "run": 71
         },
         {
          "location": "((2, 0), 'down')",
          "q_value": 0,
          "run": 72
         },
         {
          "location": "((2, 0), 'down')",
          "q_value": 0,
          "run": 73
         },
         {
          "location": "((2, 0), 'down')",
          "q_value": 0,
          "run": 74
         },
         {
          "location": "((2, 0), 'down')",
          "q_value": 0,
          "run": 75
         },
         {
          "location": "((2, 0), 'down')",
          "q_value": 0,
          "run": 76
         },
         {
          "location": "((2, 0), 'down')",
          "q_value": 0,
          "run": 77
         },
         {
          "location": "((2, 0), 'down')",
          "q_value": 0,
          "run": 78
         },
         {
          "location": "((2, 0), 'down')",
          "q_value": 0,
          "run": 79
         },
         {
          "location": "((2, 0), 'down')",
          "q_value": 0,
          "run": 80
         },
         {
          "location": "((2, 0), 'down')",
          "q_value": 0,
          "run": 81
         },
         {
          "location": "((2, 0), 'down')",
          "q_value": 0,
          "run": 82
         },
         {
          "location": "((2, 0), 'down')",
          "q_value": 0,
          "run": 83
         },
         {
          "location": "((2, 0), 'down')",
          "q_value": 0,
          "run": 84
         },
         {
          "location": "((2, 0), 'down')",
          "q_value": 0,
          "run": 85
         },
         {
          "location": "((2, 0), 'down')",
          "q_value": 0,
          "run": 86
         },
         {
          "location": "((2, 0), 'down')",
          "q_value": 0,
          "run": 87
         },
         {
          "location": "((2, 0), 'down')",
          "q_value": 0,
          "run": 88
         },
         {
          "location": "((2, 0), 'down')",
          "q_value": 0,
          "run": 89
         },
         {
          "location": "((2, 0), 'down')",
          "q_value": 0,
          "run": 90
         },
         {
          "location": "((2, 0), 'down')",
          "q_value": 0,
          "run": 91
         },
         {
          "location": "((2, 0), 'down')",
          "q_value": 0,
          "run": 92
         },
         {
          "location": "((2, 0), 'down')",
          "q_value": 0,
          "run": 93
         },
         {
          "location": "((2, 0), 'down')",
          "q_value": 0,
          "run": 94
         },
         {
          "location": "((2, 0), 'down')",
          "q_value": 0,
          "run": 95
         },
         {
          "location": "((2, 0), 'down')",
          "q_value": 0,
          "run": 96
         },
         {
          "location": "((2, 0), 'down')",
          "q_value": 0,
          "run": 97
         },
         {
          "location": "((2, 0), 'down')",
          "q_value": 0,
          "run": 98
         },
         {
          "location": "((2, 0), 'down')",
          "q_value": 0,
          "run": 99
         },
         {
          "location": "((2, 0), 'down')",
          "q_value": 0,
          "run": 100
         },
         {
          "location": "((2, 0), 'right')",
          "q_value": 0,
          "run": 0
         },
         {
          "location": "((2, 0), 'right')",
          "q_value": 0,
          "run": 1
         },
         {
          "location": "((2, 0), 'right')",
          "q_value": 0,
          "run": 2
         },
         {
          "location": "((2, 0), 'right')",
          "q_value": 0,
          "run": 3
         },
         {
          "location": "((2, 0), 'right')",
          "q_value": 0,
          "run": 4
         },
         {
          "location": "((2, 0), 'right')",
          "q_value": 0,
          "run": 5
         },
         {
          "location": "((2, 0), 'right')",
          "q_value": 0,
          "run": 6
         },
         {
          "location": "((2, 0), 'right')",
          "q_value": 0,
          "run": 7
         },
         {
          "location": "((2, 0), 'right')",
          "q_value": 0,
          "run": 8
         },
         {
          "location": "((2, 0), 'right')",
          "q_value": 0,
          "run": 9
         },
         {
          "location": "((2, 0), 'right')",
          "q_value": 0,
          "run": 10
         },
         {
          "location": "((2, 0), 'right')",
          "q_value": 0,
          "run": 11
         },
         {
          "location": "((2, 0), 'right')",
          "q_value": 0,
          "run": 12
         },
         {
          "location": "((2, 0), 'right')",
          "q_value": 0,
          "run": 13
         },
         {
          "location": "((2, 0), 'right')",
          "q_value": 0,
          "run": 14
         },
         {
          "location": "((2, 0), 'right')",
          "q_value": 0,
          "run": 15
         },
         {
          "location": "((2, 0), 'right')",
          "q_value": 0,
          "run": 16
         },
         {
          "location": "((2, 0), 'right')",
          "q_value": 0,
          "run": 17
         },
         {
          "location": "((2, 0), 'right')",
          "q_value": 0,
          "run": 18
         },
         {
          "location": "((2, 0), 'right')",
          "q_value": 0,
          "run": 19
         },
         {
          "location": "((2, 0), 'right')",
          "q_value": 0,
          "run": 20
         },
         {
          "location": "((2, 0), 'right')",
          "q_value": 0,
          "run": 21
         },
         {
          "location": "((2, 0), 'right')",
          "q_value": 0,
          "run": 22
         },
         {
          "location": "((2, 0), 'right')",
          "q_value": 0,
          "run": 23
         },
         {
          "location": "((2, 0), 'right')",
          "q_value": 0,
          "run": 24
         },
         {
          "location": "((2, 0), 'right')",
          "q_value": 0,
          "run": 25
         },
         {
          "location": "((2, 0), 'right')",
          "q_value": 0,
          "run": 26
         },
         {
          "location": "((2, 0), 'right')",
          "q_value": 0,
          "run": 27
         },
         {
          "location": "((2, 0), 'right')",
          "q_value": 0,
          "run": 28
         },
         {
          "location": "((2, 0), 'right')",
          "q_value": 0,
          "run": 29
         },
         {
          "location": "((2, 0), 'right')",
          "q_value": 0,
          "run": 30
         },
         {
          "location": "((2, 0), 'right')",
          "q_value": 0,
          "run": 31
         },
         {
          "location": "((2, 0), 'right')",
          "q_value": 0,
          "run": 32
         },
         {
          "location": "((2, 0), 'right')",
          "q_value": 0,
          "run": 33
         },
         {
          "location": "((2, 0), 'right')",
          "q_value": 0,
          "run": 34
         },
         {
          "location": "((2, 0), 'right')",
          "q_value": 0,
          "run": 35
         },
         {
          "location": "((2, 0), 'right')",
          "q_value": 0,
          "run": 36
         },
         {
          "location": "((2, 0), 'right')",
          "q_value": 0,
          "run": 37
         },
         {
          "location": "((2, 0), 'right')",
          "q_value": 0,
          "run": 38
         },
         {
          "location": "((2, 0), 'right')",
          "q_value": 0,
          "run": 39
         },
         {
          "location": "((2, 0), 'right')",
          "q_value": 0,
          "run": 40
         },
         {
          "location": "((2, 0), 'right')",
          "q_value": 0,
          "run": 41
         },
         {
          "location": "((2, 0), 'right')",
          "q_value": 0,
          "run": 42
         },
         {
          "location": "((2, 0), 'right')",
          "q_value": 0,
          "run": 43
         },
         {
          "location": "((2, 0), 'right')",
          "q_value": 0,
          "run": 44
         },
         {
          "location": "((2, 0), 'right')",
          "q_value": 0,
          "run": 45
         },
         {
          "location": "((2, 0), 'right')",
          "q_value": 0,
          "run": 46
         },
         {
          "location": "((2, 0), 'right')",
          "q_value": 0,
          "run": 47
         },
         {
          "location": "((2, 0), 'right')",
          "q_value": 0,
          "run": 48
         },
         {
          "location": "((2, 0), 'right')",
          "q_value": 0,
          "run": 49
         },
         {
          "location": "((2, 0), 'right')",
          "q_value": 0,
          "run": 50
         },
         {
          "location": "((2, 0), 'right')",
          "q_value": 0,
          "run": 51
         },
         {
          "location": "((2, 0), 'right')",
          "q_value": 0,
          "run": 52
         },
         {
          "location": "((2, 0), 'right')",
          "q_value": 0,
          "run": 53
         },
         {
          "location": "((2, 0), 'right')",
          "q_value": 0,
          "run": 54
         },
         {
          "location": "((2, 0), 'right')",
          "q_value": 0,
          "run": 55
         },
         {
          "location": "((2, 0), 'right')",
          "q_value": 0,
          "run": 56
         },
         {
          "location": "((2, 0), 'right')",
          "q_value": 0,
          "run": 57
         },
         {
          "location": "((2, 0), 'right')",
          "q_value": 0,
          "run": 58
         },
         {
          "location": "((2, 0), 'right')",
          "q_value": 0,
          "run": 59
         },
         {
          "location": "((2, 0), 'right')",
          "q_value": 0,
          "run": 60
         },
         {
          "location": "((2, 0), 'right')",
          "q_value": 0,
          "run": 61
         },
         {
          "location": "((2, 0), 'right')",
          "q_value": 0,
          "run": 62
         },
         {
          "location": "((2, 0), 'right')",
          "q_value": 0,
          "run": 63
         },
         {
          "location": "((2, 0), 'right')",
          "q_value": 0,
          "run": 64
         },
         {
          "location": "((2, 0), 'right')",
          "q_value": 0,
          "run": 65
         },
         {
          "location": "((2, 0), 'right')",
          "q_value": 0,
          "run": 66
         },
         {
          "location": "((2, 0), 'right')",
          "q_value": 0,
          "run": 67
         },
         {
          "location": "((2, 0), 'right')",
          "q_value": 0,
          "run": 68
         },
         {
          "location": "((2, 0), 'right')",
          "q_value": 0,
          "run": 69
         },
         {
          "location": "((2, 0), 'right')",
          "q_value": 0,
          "run": 70
         },
         {
          "location": "((2, 0), 'right')",
          "q_value": 0,
          "run": 71
         },
         {
          "location": "((2, 0), 'right')",
          "q_value": 0,
          "run": 72
         },
         {
          "location": "((2, 0), 'right')",
          "q_value": 0,
          "run": 73
         },
         {
          "location": "((2, 0), 'right')",
          "q_value": 0,
          "run": 74
         },
         {
          "location": "((2, 0), 'right')",
          "q_value": 0,
          "run": 75
         },
         {
          "location": "((2, 0), 'right')",
          "q_value": 0,
          "run": 76
         },
         {
          "location": "((2, 0), 'right')",
          "q_value": 0,
          "run": 77
         },
         {
          "location": "((2, 0), 'right')",
          "q_value": 0,
          "run": 78
         },
         {
          "location": "((2, 0), 'right')",
          "q_value": 0,
          "run": 79
         },
         {
          "location": "((2, 0), 'right')",
          "q_value": 0,
          "run": 80
         },
         {
          "location": "((2, 0), 'right')",
          "q_value": 0,
          "run": 81
         },
         {
          "location": "((2, 0), 'right')",
          "q_value": 0,
          "run": 82
         },
         {
          "location": "((2, 0), 'right')",
          "q_value": 0,
          "run": 83
         },
         {
          "location": "((2, 0), 'right')",
          "q_value": 0,
          "run": 84
         },
         {
          "location": "((2, 0), 'right')",
          "q_value": 0,
          "run": 85
         },
         {
          "location": "((2, 0), 'right')",
          "q_value": 0,
          "run": 86
         },
         {
          "location": "((2, 0), 'right')",
          "q_value": 0,
          "run": 87
         },
         {
          "location": "((2, 0), 'right')",
          "q_value": 0,
          "run": 88
         },
         {
          "location": "((2, 0), 'right')",
          "q_value": 0,
          "run": 89
         },
         {
          "location": "((2, 0), 'right')",
          "q_value": 0,
          "run": 90
         },
         {
          "location": "((2, 0), 'right')",
          "q_value": 0,
          "run": 91
         },
         {
          "location": "((2, 0), 'right')",
          "q_value": 0,
          "run": 92
         },
         {
          "location": "((2, 0), 'right')",
          "q_value": 0,
          "run": 93
         },
         {
          "location": "((2, 0), 'right')",
          "q_value": 0,
          "run": 94
         },
         {
          "location": "((2, 0), 'right')",
          "q_value": 0,
          "run": 95
         },
         {
          "location": "((2, 0), 'right')",
          "q_value": 0,
          "run": 96
         },
         {
          "location": "((2, 0), 'right')",
          "q_value": 0,
          "run": 97
         },
         {
          "location": "((2, 0), 'right')",
          "q_value": 0,
          "run": 98
         },
         {
          "location": "((2, 0), 'right')",
          "q_value": 0,
          "run": 99
         },
         {
          "location": "((2, 0), 'right')",
          "q_value": 0,
          "run": 100
         },
         {
          "location": "((2, 0), 'up')",
          "q_value": 0,
          "run": 0
         },
         {
          "location": "((2, 0), 'up')",
          "q_value": 0,
          "run": 1
         },
         {
          "location": "((2, 0), 'up')",
          "q_value": 0,
          "run": 2
         },
         {
          "location": "((2, 0), 'up')",
          "q_value": 0,
          "run": 3
         },
         {
          "location": "((2, 0), 'up')",
          "q_value": 0,
          "run": 4
         },
         {
          "location": "((2, 0), 'up')",
          "q_value": 0,
          "run": 5
         },
         {
          "location": "((2, 0), 'up')",
          "q_value": 0,
          "run": 6
         },
         {
          "location": "((2, 0), 'up')",
          "q_value": 0,
          "run": 7
         },
         {
          "location": "((2, 0), 'up')",
          "q_value": 0,
          "run": 8
         },
         {
          "location": "((2, 0), 'up')",
          "q_value": 0,
          "run": 9
         },
         {
          "location": "((2, 0), 'up')",
          "q_value": 0,
          "run": 10
         },
         {
          "location": "((2, 0), 'up')",
          "q_value": 0,
          "run": 11
         },
         {
          "location": "((2, 0), 'up')",
          "q_value": 0,
          "run": 12
         },
         {
          "location": "((2, 0), 'up')",
          "q_value": 0,
          "run": 13
         },
         {
          "location": "((2, 0), 'up')",
          "q_value": 0,
          "run": 14
         },
         {
          "location": "((2, 0), 'up')",
          "q_value": 0,
          "run": 15
         },
         {
          "location": "((2, 0), 'up')",
          "q_value": 0,
          "run": 16
         },
         {
          "location": "((2, 0), 'up')",
          "q_value": 0,
          "run": 17
         },
         {
          "location": "((2, 0), 'up')",
          "q_value": 0,
          "run": 18
         },
         {
          "location": "((2, 0), 'up')",
          "q_value": 0,
          "run": 19
         },
         {
          "location": "((2, 0), 'up')",
          "q_value": 0,
          "run": 20
         },
         {
          "location": "((2, 0), 'up')",
          "q_value": 0,
          "run": 21
         },
         {
          "location": "((2, 0), 'up')",
          "q_value": 0,
          "run": 22
         },
         {
          "location": "((2, 0), 'up')",
          "q_value": 0,
          "run": 23
         },
         {
          "location": "((2, 0), 'up')",
          "q_value": 0,
          "run": 24
         },
         {
          "location": "((2, 0), 'up')",
          "q_value": 0,
          "run": 25
         },
         {
          "location": "((2, 0), 'up')",
          "q_value": 0,
          "run": 26
         },
         {
          "location": "((2, 0), 'up')",
          "q_value": 0,
          "run": 27
         },
         {
          "location": "((2, 0), 'up')",
          "q_value": 0,
          "run": 28
         },
         {
          "location": "((2, 0), 'up')",
          "q_value": 0,
          "run": 29
         },
         {
          "location": "((2, 0), 'up')",
          "q_value": 0,
          "run": 30
         },
         {
          "location": "((2, 0), 'up')",
          "q_value": 0,
          "run": 31
         },
         {
          "location": "((2, 0), 'up')",
          "q_value": 0,
          "run": 32
         },
         {
          "location": "((2, 0), 'up')",
          "q_value": 0,
          "run": 33
         },
         {
          "location": "((2, 0), 'up')",
          "q_value": 0,
          "run": 34
         },
         {
          "location": "((2, 0), 'up')",
          "q_value": 0,
          "run": 35
         },
         {
          "location": "((2, 0), 'up')",
          "q_value": 0,
          "run": 36
         },
         {
          "location": "((2, 0), 'up')",
          "q_value": 0,
          "run": 37
         },
         {
          "location": "((2, 0), 'up')",
          "q_value": 0,
          "run": 38
         },
         {
          "location": "((2, 0), 'up')",
          "q_value": 0,
          "run": 39
         },
         {
          "location": "((2, 0), 'up')",
          "q_value": 0,
          "run": 40
         },
         {
          "location": "((2, 0), 'up')",
          "q_value": 0,
          "run": 41
         },
         {
          "location": "((2, 0), 'up')",
          "q_value": 0,
          "run": 42
         },
         {
          "location": "((2, 0), 'up')",
          "q_value": 0,
          "run": 43
         },
         {
          "location": "((2, 0), 'up')",
          "q_value": 0,
          "run": 44
         },
         {
          "location": "((2, 0), 'up')",
          "q_value": 0,
          "run": 45
         },
         {
          "location": "((2, 0), 'up')",
          "q_value": 0,
          "run": 46
         },
         {
          "location": "((2, 0), 'up')",
          "q_value": 0,
          "run": 47
         },
         {
          "location": "((2, 0), 'up')",
          "q_value": 0,
          "run": 48
         },
         {
          "location": "((2, 0), 'up')",
          "q_value": 0,
          "run": 49
         },
         {
          "location": "((2, 0), 'up')",
          "q_value": 0,
          "run": 50
         },
         {
          "location": "((2, 0), 'up')",
          "q_value": 0,
          "run": 51
         },
         {
          "location": "((2, 0), 'up')",
          "q_value": 0,
          "run": 52
         },
         {
          "location": "((2, 0), 'up')",
          "q_value": 0,
          "run": 53
         },
         {
          "location": "((2, 0), 'up')",
          "q_value": 0,
          "run": 54
         },
         {
          "location": "((2, 0), 'up')",
          "q_value": 0,
          "run": 55
         },
         {
          "location": "((2, 0), 'up')",
          "q_value": 0,
          "run": 56
         },
         {
          "location": "((2, 0), 'up')",
          "q_value": 0,
          "run": 57
         },
         {
          "location": "((2, 0), 'up')",
          "q_value": 0,
          "run": 58
         },
         {
          "location": "((2, 0), 'up')",
          "q_value": 0,
          "run": 59
         },
         {
          "location": "((2, 0), 'up')",
          "q_value": 0,
          "run": 60
         },
         {
          "location": "((2, 0), 'up')",
          "q_value": 0,
          "run": 61
         },
         {
          "location": "((2, 0), 'up')",
          "q_value": 0,
          "run": 62
         },
         {
          "location": "((2, 0), 'up')",
          "q_value": 0,
          "run": 63
         },
         {
          "location": "((2, 0), 'up')",
          "q_value": 0,
          "run": 64
         },
         {
          "location": "((2, 0), 'up')",
          "q_value": 0,
          "run": 65
         },
         {
          "location": "((2, 0), 'up')",
          "q_value": 0,
          "run": 66
         },
         {
          "location": "((2, 0), 'up')",
          "q_value": 0,
          "run": 67
         },
         {
          "location": "((2, 0), 'up')",
          "q_value": 0,
          "run": 68
         },
         {
          "location": "((2, 0), 'up')",
          "q_value": 0,
          "run": 69
         },
         {
          "location": "((2, 0), 'up')",
          "q_value": 0,
          "run": 70
         },
         {
          "location": "((2, 0), 'up')",
          "q_value": 0,
          "run": 71
         },
         {
          "location": "((2, 0), 'up')",
          "q_value": 0,
          "run": 72
         },
         {
          "location": "((2, 0), 'up')",
          "q_value": 0,
          "run": 73
         },
         {
          "location": "((2, 0), 'up')",
          "q_value": 0,
          "run": 74
         },
         {
          "location": "((2, 0), 'up')",
          "q_value": 0,
          "run": 75
         },
         {
          "location": "((2, 0), 'up')",
          "q_value": 0,
          "run": 76
         },
         {
          "location": "((2, 0), 'up')",
          "q_value": 0,
          "run": 77
         },
         {
          "location": "((2, 0), 'up')",
          "q_value": 0,
          "run": 78
         },
         {
          "location": "((2, 0), 'up')",
          "q_value": 0,
          "run": 79
         },
         {
          "location": "((2, 0), 'up')",
          "q_value": 0,
          "run": 80
         },
         {
          "location": "((2, 0), 'up')",
          "q_value": 0,
          "run": 81
         },
         {
          "location": "((2, 0), 'up')",
          "q_value": 0,
          "run": 82
         },
         {
          "location": "((2, 0), 'up')",
          "q_value": 0,
          "run": 83
         },
         {
          "location": "((2, 0), 'up')",
          "q_value": 0,
          "run": 84
         },
         {
          "location": "((2, 0), 'up')",
          "q_value": 0,
          "run": 85
         },
         {
          "location": "((2, 0), 'up')",
          "q_value": 0,
          "run": 86
         },
         {
          "location": "((2, 0), 'up')",
          "q_value": 0,
          "run": 87
         },
         {
          "location": "((2, 0), 'up')",
          "q_value": 0,
          "run": 88
         },
         {
          "location": "((2, 0), 'up')",
          "q_value": 0,
          "run": 89
         },
         {
          "location": "((2, 0), 'up')",
          "q_value": 0,
          "run": 90
         },
         {
          "location": "((2, 0), 'up')",
          "q_value": 0,
          "run": 91
         },
         {
          "location": "((2, 0), 'up')",
          "q_value": 0,
          "run": 92
         },
         {
          "location": "((2, 0), 'up')",
          "q_value": 0,
          "run": 93
         },
         {
          "location": "((2, 0), 'up')",
          "q_value": 0,
          "run": 94
         },
         {
          "location": "((2, 0), 'up')",
          "q_value": 0,
          "run": 95
         },
         {
          "location": "((2, 0), 'up')",
          "q_value": 0,
          "run": 96
         },
         {
          "location": "((2, 0), 'up')",
          "q_value": 0,
          "run": 97
         },
         {
          "location": "((2, 0), 'up')",
          "q_value": 0,
          "run": 98
         },
         {
          "location": "((2, 0), 'up')",
          "q_value": 0,
          "run": 99
         },
         {
          "location": "((2, 0), 'up')",
          "q_value": 0,
          "run": 100
         },
         {
          "location": "((2, 0), 'left')",
          "q_value": 0,
          "run": 0
         },
         {
          "location": "((2, 0), 'left')",
          "q_value": -0.19,
          "run": 1
         },
         {
          "location": "((2, 0), 'left')",
          "q_value": -0.19,
          "run": 2
         },
         {
          "location": "((2, 0), 'left')",
          "q_value": -0.19,
          "run": 3
         },
         {
          "location": "((2, 0), 'left')",
          "q_value": -0.19,
          "run": 4
         },
         {
          "location": "((2, 0), 'left')",
          "q_value": -0.19,
          "run": 5
         },
         {
          "location": "((2, 0), 'left')",
          "q_value": -0.19,
          "run": 6
         },
         {
          "location": "((2, 0), 'left')",
          "q_value": -0.19,
          "run": 7
         },
         {
          "location": "((2, 0), 'left')",
          "q_value": -0.19,
          "run": 8
         },
         {
          "location": "((2, 0), 'left')",
          "q_value": -0.19,
          "run": 9
         },
         {
          "location": "((2, 0), 'left')",
          "q_value": -0.19,
          "run": 10
         },
         {
          "location": "((2, 0), 'left')",
          "q_value": -0.19,
          "run": 11
         },
         {
          "location": "((2, 0), 'left')",
          "q_value": -0.19,
          "run": 12
         },
         {
          "location": "((2, 0), 'left')",
          "q_value": -0.19,
          "run": 13
         },
         {
          "location": "((2, 0), 'left')",
          "q_value": -0.19,
          "run": 14
         },
         {
          "location": "((2, 0), 'left')",
          "q_value": -0.19,
          "run": 15
         },
         {
          "location": "((2, 0), 'left')",
          "q_value": -0.19,
          "run": 16
         },
         {
          "location": "((2, 0), 'left')",
          "q_value": -0.19,
          "run": 17
         },
         {
          "location": "((2, 0), 'left')",
          "q_value": -0.19,
          "run": 18
         },
         {
          "location": "((2, 0), 'left')",
          "q_value": -0.19,
          "run": 19
         },
         {
          "location": "((2, 0), 'left')",
          "q_value": -0.19,
          "run": 20
         },
         {
          "location": "((2, 0), 'left')",
          "q_value": -0.19,
          "run": 21
         },
         {
          "location": "((2, 0), 'left')",
          "q_value": -0.19,
          "run": 22
         },
         {
          "location": "((2, 0), 'left')",
          "q_value": -0.19,
          "run": 23
         },
         {
          "location": "((2, 0), 'left')",
          "q_value": -0.19,
          "run": 24
         },
         {
          "location": "((2, 0), 'left')",
          "q_value": -0.19,
          "run": 25
         },
         {
          "location": "((2, 0), 'left')",
          "q_value": -0.19,
          "run": 26
         },
         {
          "location": "((2, 0), 'left')",
          "q_value": -0.19,
          "run": 27
         },
         {
          "location": "((2, 0), 'left')",
          "q_value": -0.19,
          "run": 28
         },
         {
          "location": "((2, 0), 'left')",
          "q_value": -0.19,
          "run": 29
         },
         {
          "location": "((2, 0), 'left')",
          "q_value": -0.19,
          "run": 30
         },
         {
          "location": "((2, 0), 'left')",
          "q_value": -0.19,
          "run": 31
         },
         {
          "location": "((2, 0), 'left')",
          "q_value": -0.19,
          "run": 32
         },
         {
          "location": "((2, 0), 'left')",
          "q_value": -0.19,
          "run": 33
         },
         {
          "location": "((2, 0), 'left')",
          "q_value": -0.19,
          "run": 34
         },
         {
          "location": "((2, 0), 'left')",
          "q_value": -0.19,
          "run": 35
         },
         {
          "location": "((2, 0), 'left')",
          "q_value": -0.19,
          "run": 36
         },
         {
          "location": "((2, 0), 'left')",
          "q_value": -0.19,
          "run": 37
         },
         {
          "location": "((2, 0), 'left')",
          "q_value": -0.19,
          "run": 38
         },
         {
          "location": "((2, 0), 'left')",
          "q_value": -0.19,
          "run": 39
         },
         {
          "location": "((2, 0), 'left')",
          "q_value": -0.19,
          "run": 40
         },
         {
          "location": "((2, 0), 'left')",
          "q_value": -0.19,
          "run": 41
         },
         {
          "location": "((2, 0), 'left')",
          "q_value": -0.19,
          "run": 42
         },
         {
          "location": "((2, 0), 'left')",
          "q_value": -0.19,
          "run": 43
         },
         {
          "location": "((2, 0), 'left')",
          "q_value": -0.19,
          "run": 44
         },
         {
          "location": "((2, 0), 'left')",
          "q_value": -0.19,
          "run": 45
         },
         {
          "location": "((2, 0), 'left')",
          "q_value": -0.19,
          "run": 46
         },
         {
          "location": "((2, 0), 'left')",
          "q_value": -0.19,
          "run": 47
         },
         {
          "location": "((2, 0), 'left')",
          "q_value": -0.19,
          "run": 48
         },
         {
          "location": "((2, 0), 'left')",
          "q_value": -0.19,
          "run": 49
         },
         {
          "location": "((2, 0), 'left')",
          "q_value": -0.19,
          "run": 50
         },
         {
          "location": "((2, 0), 'left')",
          "q_value": -0.19,
          "run": 51
         },
         {
          "location": "((2, 0), 'left')",
          "q_value": -0.19,
          "run": 52
         },
         {
          "location": "((2, 0), 'left')",
          "q_value": -0.19,
          "run": 53
         },
         {
          "location": "((2, 0), 'left')",
          "q_value": -0.19,
          "run": 54
         },
         {
          "location": "((2, 0), 'left')",
          "q_value": -0.19,
          "run": 55
         },
         {
          "location": "((2, 0), 'left')",
          "q_value": -0.19,
          "run": 56
         },
         {
          "location": "((2, 0), 'left')",
          "q_value": -0.19,
          "run": 57
         },
         {
          "location": "((2, 0), 'left')",
          "q_value": -0.19,
          "run": 58
         },
         {
          "location": "((2, 0), 'left')",
          "q_value": -0.19,
          "run": 59
         },
         {
          "location": "((2, 0), 'left')",
          "q_value": -0.19,
          "run": 60
         },
         {
          "location": "((2, 0), 'left')",
          "q_value": -0.19,
          "run": 61
         },
         {
          "location": "((2, 0), 'left')",
          "q_value": -0.19,
          "run": 62
         },
         {
          "location": "((2, 0), 'left')",
          "q_value": -0.19,
          "run": 63
         },
         {
          "location": "((2, 0), 'left')",
          "q_value": -0.19,
          "run": 64
         },
         {
          "location": "((2, 0), 'left')",
          "q_value": -0.19,
          "run": 65
         },
         {
          "location": "((2, 0), 'left')",
          "q_value": -0.19,
          "run": 66
         },
         {
          "location": "((2, 0), 'left')",
          "q_value": -0.19,
          "run": 67
         },
         {
          "location": "((2, 0), 'left')",
          "q_value": -0.19,
          "run": 68
         },
         {
          "location": "((2, 0), 'left')",
          "q_value": -0.19,
          "run": 69
         },
         {
          "location": "((2, 0), 'left')",
          "q_value": -0.19,
          "run": 70
         },
         {
          "location": "((2, 0), 'left')",
          "q_value": -0.19,
          "run": 71
         },
         {
          "location": "((2, 0), 'left')",
          "q_value": -0.19,
          "run": 72
         },
         {
          "location": "((2, 0), 'left')",
          "q_value": -0.19,
          "run": 73
         },
         {
          "location": "((2, 0), 'left')",
          "q_value": -0.19,
          "run": 74
         },
         {
          "location": "((2, 0), 'left')",
          "q_value": -0.19,
          "run": 75
         },
         {
          "location": "((2, 0), 'left')",
          "q_value": -0.19,
          "run": 76
         },
         {
          "location": "((2, 0), 'left')",
          "q_value": -0.19,
          "run": 77
         },
         {
          "location": "((2, 0), 'left')",
          "q_value": -0.19,
          "run": 78
         },
         {
          "location": "((2, 0), 'left')",
          "q_value": -0.19,
          "run": 79
         },
         {
          "location": "((2, 0), 'left')",
          "q_value": -0.19,
          "run": 80
         },
         {
          "location": "((2, 0), 'left')",
          "q_value": -0.19,
          "run": 81
         },
         {
          "location": "((2, 0), 'left')",
          "q_value": -0.19,
          "run": 82
         },
         {
          "location": "((2, 0), 'left')",
          "q_value": -0.19,
          "run": 83
         },
         {
          "location": "((2, 0), 'left')",
          "q_value": -0.19,
          "run": 84
         },
         {
          "location": "((2, 0), 'left')",
          "q_value": -0.19,
          "run": 85
         },
         {
          "location": "((2, 0), 'left')",
          "q_value": -0.19,
          "run": 86
         },
         {
          "location": "((2, 0), 'left')",
          "q_value": -0.19,
          "run": 87
         },
         {
          "location": "((2, 0), 'left')",
          "q_value": -0.19,
          "run": 88
         },
         {
          "location": "((2, 0), 'left')",
          "q_value": -0.19,
          "run": 89
         },
         {
          "location": "((2, 0), 'left')",
          "q_value": -0.19,
          "run": 90
         },
         {
          "location": "((2, 0), 'left')",
          "q_value": -0.19,
          "run": 91
         },
         {
          "location": "((2, 0), 'left')",
          "q_value": -0.19,
          "run": 92
         },
         {
          "location": "((2, 0), 'left')",
          "q_value": -0.19,
          "run": 93
         },
         {
          "location": "((2, 0), 'left')",
          "q_value": -0.19,
          "run": 94
         },
         {
          "location": "((2, 0), 'left')",
          "q_value": -0.19,
          "run": 95
         },
         {
          "location": "((2, 0), 'left')",
          "q_value": -0.19,
          "run": 96
         },
         {
          "location": "((2, 0), 'left')",
          "q_value": -0.19,
          "run": 97
         },
         {
          "location": "((2, 0), 'left')",
          "q_value": -0.19,
          "run": 98
         },
         {
          "location": "((2, 0), 'left')",
          "q_value": -0.19,
          "run": 99
         },
         {
          "location": "((2, 0), 'left')",
          "q_value": -0.19,
          "run": 100
         },
         {
          "location": "((2, 1), 'down')",
          "q_value": 0,
          "run": 0
         },
         {
          "location": "((2, 1), 'down')",
          "q_value": 0,
          "run": 1
         },
         {
          "location": "((2, 1), 'down')",
          "q_value": 0,
          "run": 2
         },
         {
          "location": "((2, 1), 'down')",
          "q_value": 0,
          "run": 3
         },
         {
          "location": "((2, 1), 'down')",
          "q_value": 0,
          "run": 4
         },
         {
          "location": "((2, 1), 'down')",
          "q_value": 0,
          "run": 5
         },
         {
          "location": "((2, 1), 'down')",
          "q_value": 0,
          "run": 6
         },
         {
          "location": "((2, 1), 'down')",
          "q_value": 0,
          "run": 7
         },
         {
          "location": "((2, 1), 'down')",
          "q_value": 0,
          "run": 8
         },
         {
          "location": "((2, 1), 'down')",
          "q_value": 0,
          "run": 9
         },
         {
          "location": "((2, 1), 'down')",
          "q_value": 0,
          "run": 10
         },
         {
          "location": "((2, 1), 'down')",
          "q_value": 0,
          "run": 11
         },
         {
          "location": "((2, 1), 'down')",
          "q_value": 0,
          "run": 12
         },
         {
          "location": "((2, 1), 'down')",
          "q_value": 0,
          "run": 13
         },
         {
          "location": "((2, 1), 'down')",
          "q_value": 0,
          "run": 14
         },
         {
          "location": "((2, 1), 'down')",
          "q_value": 0,
          "run": 15
         },
         {
          "location": "((2, 1), 'down')",
          "q_value": 0,
          "run": 16
         },
         {
          "location": "((2, 1), 'down')",
          "q_value": 0,
          "run": 17
         },
         {
          "location": "((2, 1), 'down')",
          "q_value": 0,
          "run": 18
         },
         {
          "location": "((2, 1), 'down')",
          "q_value": 0,
          "run": 19
         },
         {
          "location": "((2, 1), 'down')",
          "q_value": 0,
          "run": 20
         },
         {
          "location": "((2, 1), 'down')",
          "q_value": 0,
          "run": 21
         },
         {
          "location": "((2, 1), 'down')",
          "q_value": 0,
          "run": 22
         },
         {
          "location": "((2, 1), 'down')",
          "q_value": 0,
          "run": 23
         },
         {
          "location": "((2, 1), 'down')",
          "q_value": 0,
          "run": 24
         },
         {
          "location": "((2, 1), 'down')",
          "q_value": 0,
          "run": 25
         },
         {
          "location": "((2, 1), 'down')",
          "q_value": 0,
          "run": 26
         },
         {
          "location": "((2, 1), 'down')",
          "q_value": 0,
          "run": 27
         },
         {
          "location": "((2, 1), 'down')",
          "q_value": 0,
          "run": 28
         },
         {
          "location": "((2, 1), 'down')",
          "q_value": 0,
          "run": 29
         },
         {
          "location": "((2, 1), 'down')",
          "q_value": 0,
          "run": 30
         },
         {
          "location": "((2, 1), 'down')",
          "q_value": 0,
          "run": 31
         },
         {
          "location": "((2, 1), 'down')",
          "q_value": 0,
          "run": 32
         },
         {
          "location": "((2, 1), 'down')",
          "q_value": 0,
          "run": 33
         },
         {
          "location": "((2, 1), 'down')",
          "q_value": 0,
          "run": 34
         },
         {
          "location": "((2, 1), 'down')",
          "q_value": 0,
          "run": 35
         },
         {
          "location": "((2, 1), 'down')",
          "q_value": 0,
          "run": 36
         },
         {
          "location": "((2, 1), 'down')",
          "q_value": 0,
          "run": 37
         },
         {
          "location": "((2, 1), 'down')",
          "q_value": 0,
          "run": 38
         },
         {
          "location": "((2, 1), 'down')",
          "q_value": 0,
          "run": 39
         },
         {
          "location": "((2, 1), 'down')",
          "q_value": 0,
          "run": 40
         },
         {
          "location": "((2, 1), 'down')",
          "q_value": 0,
          "run": 41
         },
         {
          "location": "((2, 1), 'down')",
          "q_value": 0,
          "run": 42
         },
         {
          "location": "((2, 1), 'down')",
          "q_value": 0,
          "run": 43
         },
         {
          "location": "((2, 1), 'down')",
          "q_value": 0,
          "run": 44
         },
         {
          "location": "((2, 1), 'down')",
          "q_value": 0,
          "run": 45
         },
         {
          "location": "((2, 1), 'down')",
          "q_value": 0,
          "run": 46
         },
         {
          "location": "((2, 1), 'down')",
          "q_value": 0,
          "run": 47
         },
         {
          "location": "((2, 1), 'down')",
          "q_value": 0,
          "run": 48
         },
         {
          "location": "((2, 1), 'down')",
          "q_value": 0,
          "run": 49
         },
         {
          "location": "((2, 1), 'down')",
          "q_value": 0,
          "run": 50
         },
         {
          "location": "((2, 1), 'down')",
          "q_value": 0,
          "run": 51
         },
         {
          "location": "((2, 1), 'down')",
          "q_value": 0,
          "run": 52
         },
         {
          "location": "((2, 1), 'down')",
          "q_value": 0,
          "run": 53
         },
         {
          "location": "((2, 1), 'down')",
          "q_value": 0,
          "run": 54
         },
         {
          "location": "((2, 1), 'down')",
          "q_value": 0,
          "run": 55
         },
         {
          "location": "((2, 1), 'down')",
          "q_value": 0,
          "run": 56
         },
         {
          "location": "((2, 1), 'down')",
          "q_value": 0,
          "run": 57
         },
         {
          "location": "((2, 1), 'down')",
          "q_value": 0,
          "run": 58
         },
         {
          "location": "((2, 1), 'down')",
          "q_value": 0,
          "run": 59
         },
         {
          "location": "((2, 1), 'down')",
          "q_value": 0,
          "run": 60
         },
         {
          "location": "((2, 1), 'down')",
          "q_value": 0,
          "run": 61
         },
         {
          "location": "((2, 1), 'down')",
          "q_value": 0,
          "run": 62
         },
         {
          "location": "((2, 1), 'down')",
          "q_value": 0,
          "run": 63
         },
         {
          "location": "((2, 1), 'down')",
          "q_value": 0,
          "run": 64
         },
         {
          "location": "((2, 1), 'down')",
          "q_value": 0,
          "run": 65
         },
         {
          "location": "((2, 1), 'down')",
          "q_value": 0,
          "run": 66
         },
         {
          "location": "((2, 1), 'down')",
          "q_value": 0,
          "run": 67
         },
         {
          "location": "((2, 1), 'down')",
          "q_value": 0,
          "run": 68
         },
         {
          "location": "((2, 1), 'down')",
          "q_value": 0,
          "run": 69
         },
         {
          "location": "((2, 1), 'down')",
          "q_value": 0,
          "run": 70
         },
         {
          "location": "((2, 1), 'down')",
          "q_value": 0,
          "run": 71
         },
         {
          "location": "((2, 1), 'down')",
          "q_value": 0,
          "run": 72
         },
         {
          "location": "((2, 1), 'down')",
          "q_value": 0,
          "run": 73
         },
         {
          "location": "((2, 1), 'down')",
          "q_value": 0,
          "run": 74
         },
         {
          "location": "((2, 1), 'down')",
          "q_value": 0,
          "run": 75
         },
         {
          "location": "((2, 1), 'down')",
          "q_value": 0,
          "run": 76
         },
         {
          "location": "((2, 1), 'down')",
          "q_value": 0,
          "run": 77
         },
         {
          "location": "((2, 1), 'down')",
          "q_value": 0,
          "run": 78
         },
         {
          "location": "((2, 1), 'down')",
          "q_value": 0,
          "run": 79
         },
         {
          "location": "((2, 1), 'down')",
          "q_value": 0,
          "run": 80
         },
         {
          "location": "((2, 1), 'down')",
          "q_value": 0,
          "run": 81
         },
         {
          "location": "((2, 1), 'down')",
          "q_value": 0,
          "run": 82
         },
         {
          "location": "((2, 1), 'down')",
          "q_value": 0,
          "run": 83
         },
         {
          "location": "((2, 1), 'down')",
          "q_value": 0,
          "run": 84
         },
         {
          "location": "((2, 1), 'down')",
          "q_value": 0,
          "run": 85
         },
         {
          "location": "((2, 1), 'down')",
          "q_value": 0,
          "run": 86
         },
         {
          "location": "((2, 1), 'down')",
          "q_value": 0,
          "run": 87
         },
         {
          "location": "((2, 1), 'down')",
          "q_value": 0,
          "run": 88
         },
         {
          "location": "((2, 1), 'down')",
          "q_value": 0,
          "run": 89
         },
         {
          "location": "((2, 1), 'down')",
          "q_value": 0,
          "run": 90
         },
         {
          "location": "((2, 1), 'down')",
          "q_value": 0,
          "run": 91
         },
         {
          "location": "((2, 1), 'down')",
          "q_value": 0,
          "run": 92
         },
         {
          "location": "((2, 1), 'down')",
          "q_value": 0,
          "run": 93
         },
         {
          "location": "((2, 1), 'down')",
          "q_value": 0,
          "run": 94
         },
         {
          "location": "((2, 1), 'down')",
          "q_value": 0,
          "run": 95
         },
         {
          "location": "((2, 1), 'down')",
          "q_value": 0,
          "run": 96
         },
         {
          "location": "((2, 1), 'down')",
          "q_value": 0,
          "run": 97
         },
         {
          "location": "((2, 1), 'down')",
          "q_value": 0,
          "run": 98
         },
         {
          "location": "((2, 1), 'down')",
          "q_value": 0,
          "run": 99
         },
         {
          "location": "((2, 1), 'down')",
          "q_value": 0,
          "run": 100
         },
         {
          "location": "((2, 1), 'right')",
          "q_value": 0,
          "run": 0
         },
         {
          "location": "((2, 1), 'right')",
          "q_value": 0,
          "run": 1
         },
         {
          "location": "((2, 1), 'right')",
          "q_value": 0,
          "run": 2
         },
         {
          "location": "((2, 1), 'right')",
          "q_value": 0,
          "run": 3
         },
         {
          "location": "((2, 1), 'right')",
          "q_value": 0,
          "run": 4
         },
         {
          "location": "((2, 1), 'right')",
          "q_value": 0,
          "run": 5
         },
         {
          "location": "((2, 1), 'right')",
          "q_value": 0,
          "run": 6
         },
         {
          "location": "((2, 1), 'right')",
          "q_value": 0,
          "run": 7
         },
         {
          "location": "((2, 1), 'right')",
          "q_value": 0,
          "run": 8
         },
         {
          "location": "((2, 1), 'right')",
          "q_value": 0,
          "run": 9
         },
         {
          "location": "((2, 1), 'right')",
          "q_value": 0,
          "run": 10
         },
         {
          "location": "((2, 1), 'right')",
          "q_value": 0,
          "run": 11
         },
         {
          "location": "((2, 1), 'right')",
          "q_value": 0,
          "run": 12
         },
         {
          "location": "((2, 1), 'right')",
          "q_value": 0,
          "run": 13
         },
         {
          "location": "((2, 1), 'right')",
          "q_value": 0,
          "run": 14
         },
         {
          "location": "((2, 1), 'right')",
          "q_value": 0,
          "run": 15
         },
         {
          "location": "((2, 1), 'right')",
          "q_value": 0,
          "run": 16
         },
         {
          "location": "((2, 1), 'right')",
          "q_value": 0,
          "run": 17
         },
         {
          "location": "((2, 1), 'right')",
          "q_value": 0,
          "run": 18
         },
         {
          "location": "((2, 1), 'right')",
          "q_value": 0,
          "run": 19
         },
         {
          "location": "((2, 1), 'right')",
          "q_value": 0,
          "run": 20
         },
         {
          "location": "((2, 1), 'right')",
          "q_value": 0,
          "run": 21
         },
         {
          "location": "((2, 1), 'right')",
          "q_value": 0,
          "run": 22
         },
         {
          "location": "((2, 1), 'right')",
          "q_value": 0,
          "run": 23
         },
         {
          "location": "((2, 1), 'right')",
          "q_value": 0,
          "run": 24
         },
         {
          "location": "((2, 1), 'right')",
          "q_value": 0,
          "run": 25
         },
         {
          "location": "((2, 1), 'right')",
          "q_value": 0,
          "run": 26
         },
         {
          "location": "((2, 1), 'right')",
          "q_value": 0,
          "run": 27
         },
         {
          "location": "((2, 1), 'right')",
          "q_value": 0,
          "run": 28
         },
         {
          "location": "((2, 1), 'right')",
          "q_value": 0,
          "run": 29
         },
         {
          "location": "((2, 1), 'right')",
          "q_value": 0,
          "run": 30
         },
         {
          "location": "((2, 1), 'right')",
          "q_value": 0,
          "run": 31
         },
         {
          "location": "((2, 1), 'right')",
          "q_value": 0,
          "run": 32
         },
         {
          "location": "((2, 1), 'right')",
          "q_value": 0,
          "run": 33
         },
         {
          "location": "((2, 1), 'right')",
          "q_value": 0,
          "run": 34
         },
         {
          "location": "((2, 1), 'right')",
          "q_value": 0,
          "run": 35
         },
         {
          "location": "((2, 1), 'right')",
          "q_value": 0,
          "run": 36
         },
         {
          "location": "((2, 1), 'right')",
          "q_value": 0,
          "run": 37
         },
         {
          "location": "((2, 1), 'right')",
          "q_value": 1,
          "run": 38
         },
         {
          "location": "((2, 1), 'right')",
          "q_value": 1,
          "run": 39
         },
         {
          "location": "((2, 1), 'right')",
          "q_value": 1,
          "run": 40
         },
         {
          "location": "((2, 1), 'right')",
          "q_value": 1,
          "run": 41
         },
         {
          "location": "((2, 1), 'right')",
          "q_value": 1,
          "run": 42
         },
         {
          "location": "((2, 1), 'right')",
          "q_value": 1,
          "run": 43
         },
         {
          "location": "((2, 1), 'right')",
          "q_value": 1,
          "run": 44
         },
         {
          "location": "((2, 1), 'right')",
          "q_value": 1,
          "run": 45
         },
         {
          "location": "((2, 1), 'right')",
          "q_value": 1,
          "run": 46
         },
         {
          "location": "((2, 1), 'right')",
          "q_value": 1,
          "run": 47
         },
         {
          "location": "((2, 1), 'right')",
          "q_value": 1,
          "run": 48
         },
         {
          "location": "((2, 1), 'right')",
          "q_value": 1,
          "run": 49
         },
         {
          "location": "((2, 1), 'right')",
          "q_value": 1,
          "run": 50
         },
         {
          "location": "((2, 1), 'right')",
          "q_value": 1,
          "run": 51
         },
         {
          "location": "((2, 1), 'right')",
          "q_value": 1,
          "run": 52
         },
         {
          "location": "((2, 1), 'right')",
          "q_value": 1,
          "run": 53
         },
         {
          "location": "((2, 1), 'right')",
          "q_value": 1,
          "run": 54
         },
         {
          "location": "((2, 1), 'right')",
          "q_value": 1,
          "run": 55
         },
         {
          "location": "((2, 1), 'right')",
          "q_value": 1,
          "run": 56
         },
         {
          "location": "((2, 1), 'right')",
          "q_value": 1,
          "run": 57
         },
         {
          "location": "((2, 1), 'right')",
          "q_value": 1,
          "run": 58
         },
         {
          "location": "((2, 1), 'right')",
          "q_value": 1,
          "run": 59
         },
         {
          "location": "((2, 1), 'right')",
          "q_value": 1,
          "run": 60
         },
         {
          "location": "((2, 1), 'right')",
          "q_value": 1,
          "run": 61
         },
         {
          "location": "((2, 1), 'right')",
          "q_value": 1,
          "run": 62
         },
         {
          "location": "((2, 1), 'right')",
          "q_value": 1,
          "run": 63
         },
         {
          "location": "((2, 1), 'right')",
          "q_value": 1,
          "run": 64
         },
         {
          "location": "((2, 1), 'right')",
          "q_value": 1,
          "run": 65
         },
         {
          "location": "((2, 1), 'right')",
          "q_value": 1,
          "run": 66
         },
         {
          "location": "((2, 1), 'right')",
          "q_value": 1,
          "run": 67
         },
         {
          "location": "((2, 1), 'right')",
          "q_value": 1,
          "run": 68
         },
         {
          "location": "((2, 1), 'right')",
          "q_value": 1,
          "run": 69
         },
         {
          "location": "((2, 1), 'right')",
          "q_value": 1,
          "run": 70
         },
         {
          "location": "((2, 1), 'right')",
          "q_value": 1,
          "run": 71
         },
         {
          "location": "((2, 1), 'right')",
          "q_value": 1,
          "run": 72
         },
         {
          "location": "((2, 1), 'right')",
          "q_value": 1,
          "run": 73
         },
         {
          "location": "((2, 1), 'right')",
          "q_value": 1,
          "run": 74
         },
         {
          "location": "((2, 1), 'right')",
          "q_value": 1,
          "run": 75
         },
         {
          "location": "((2, 1), 'right')",
          "q_value": 1,
          "run": 76
         },
         {
          "location": "((2, 1), 'right')",
          "q_value": 1,
          "run": 77
         },
         {
          "location": "((2, 1), 'right')",
          "q_value": 1,
          "run": 78
         },
         {
          "location": "((2, 1), 'right')",
          "q_value": 1,
          "run": 79
         },
         {
          "location": "((2, 1), 'right')",
          "q_value": 1,
          "run": 80
         },
         {
          "location": "((2, 1), 'right')",
          "q_value": 1,
          "run": 81
         },
         {
          "location": "((2, 1), 'right')",
          "q_value": 1,
          "run": 82
         },
         {
          "location": "((2, 1), 'right')",
          "q_value": 1,
          "run": 83
         },
         {
          "location": "((2, 1), 'right')",
          "q_value": 1,
          "run": 84
         },
         {
          "location": "((2, 1), 'right')",
          "q_value": 1,
          "run": 85
         },
         {
          "location": "((2, 1), 'right')",
          "q_value": 1,
          "run": 86
         },
         {
          "location": "((2, 1), 'right')",
          "q_value": 1,
          "run": 87
         },
         {
          "location": "((2, 1), 'right')",
          "q_value": 1,
          "run": 88
         },
         {
          "location": "((2, 1), 'right')",
          "q_value": 1,
          "run": 89
         },
         {
          "location": "((2, 1), 'right')",
          "q_value": 1,
          "run": 90
         },
         {
          "location": "((2, 1), 'right')",
          "q_value": 1,
          "run": 91
         },
         {
          "location": "((2, 1), 'right')",
          "q_value": 1,
          "run": 92
         },
         {
          "location": "((2, 1), 'right')",
          "q_value": 1,
          "run": 93
         },
         {
          "location": "((2, 1), 'right')",
          "q_value": 1,
          "run": 94
         },
         {
          "location": "((2, 1), 'right')",
          "q_value": 1,
          "run": 95
         },
         {
          "location": "((2, 1), 'right')",
          "q_value": 1,
          "run": 96
         },
         {
          "location": "((2, 1), 'right')",
          "q_value": 1,
          "run": 97
         },
         {
          "location": "((2, 1), 'right')",
          "q_value": 1,
          "run": 98
         },
         {
          "location": "((2, 1), 'right')",
          "q_value": 1,
          "run": 99
         },
         {
          "location": "((2, 1), 'right')",
          "q_value": 1,
          "run": 100
         },
         {
          "location": "((2, 1), 'up')",
          "q_value": 0,
          "run": 0
         },
         {
          "location": "((2, 1), 'up')",
          "q_value": 0,
          "run": 1
         },
         {
          "location": "((2, 1), 'up')",
          "q_value": 0,
          "run": 2
         },
         {
          "location": "((2, 1), 'up')",
          "q_value": 0,
          "run": 3
         },
         {
          "location": "((2, 1), 'up')",
          "q_value": 0,
          "run": 4
         },
         {
          "location": "((2, 1), 'up')",
          "q_value": 0,
          "run": 5
         },
         {
          "location": "((2, 1), 'up')",
          "q_value": 0,
          "run": 6
         },
         {
          "location": "((2, 1), 'up')",
          "q_value": 0,
          "run": 7
         },
         {
          "location": "((2, 1), 'up')",
          "q_value": 0,
          "run": 8
         },
         {
          "location": "((2, 1), 'up')",
          "q_value": 0,
          "run": 9
         },
         {
          "location": "((2, 1), 'up')",
          "q_value": 0,
          "run": 10
         },
         {
          "location": "((2, 1), 'up')",
          "q_value": 0,
          "run": 11
         },
         {
          "location": "((2, 1), 'up')",
          "q_value": 0,
          "run": 12
         },
         {
          "location": "((2, 1), 'up')",
          "q_value": 0,
          "run": 13
         },
         {
          "location": "((2, 1), 'up')",
          "q_value": 0,
          "run": 14
         },
         {
          "location": "((2, 1), 'up')",
          "q_value": 0,
          "run": 15
         },
         {
          "location": "((2, 1), 'up')",
          "q_value": 0,
          "run": 16
         },
         {
          "location": "((2, 1), 'up')",
          "q_value": 0,
          "run": 17
         },
         {
          "location": "((2, 1), 'up')",
          "q_value": 0,
          "run": 18
         },
         {
          "location": "((2, 1), 'up')",
          "q_value": 0,
          "run": 19
         },
         {
          "location": "((2, 1), 'up')",
          "q_value": 0,
          "run": 20
         },
         {
          "location": "((2, 1), 'up')",
          "q_value": 0,
          "run": 21
         },
         {
          "location": "((2, 1), 'up')",
          "q_value": 0,
          "run": 22
         },
         {
          "location": "((2, 1), 'up')",
          "q_value": 0,
          "run": 23
         },
         {
          "location": "((2, 1), 'up')",
          "q_value": 0,
          "run": 24
         },
         {
          "location": "((2, 1), 'up')",
          "q_value": 0,
          "run": 25
         },
         {
          "location": "((2, 1), 'up')",
          "q_value": 0,
          "run": 26
         },
         {
          "location": "((2, 1), 'up')",
          "q_value": 0,
          "run": 27
         },
         {
          "location": "((2, 1), 'up')",
          "q_value": 0,
          "run": 28
         },
         {
          "location": "((2, 1), 'up')",
          "q_value": 0,
          "run": 29
         },
         {
          "location": "((2, 1), 'up')",
          "q_value": 0,
          "run": 30
         },
         {
          "location": "((2, 1), 'up')",
          "q_value": 0,
          "run": 31
         },
         {
          "location": "((2, 1), 'up')",
          "q_value": 0,
          "run": 32
         },
         {
          "location": "((2, 1), 'up')",
          "q_value": 0,
          "run": 33
         },
         {
          "location": "((2, 1), 'up')",
          "q_value": 0,
          "run": 34
         },
         {
          "location": "((2, 1), 'up')",
          "q_value": 0,
          "run": 35
         },
         {
          "location": "((2, 1), 'up')",
          "q_value": 0,
          "run": 36
         },
         {
          "location": "((2, 1), 'up')",
          "q_value": 0,
          "run": 37
         },
         {
          "location": "((2, 1), 'up')",
          "q_value": 0,
          "run": 38
         },
         {
          "location": "((2, 1), 'up')",
          "q_value": 0,
          "run": 39
         },
         {
          "location": "((2, 1), 'up')",
          "q_value": 0,
          "run": 40
         },
         {
          "location": "((2, 1), 'up')",
          "q_value": 0,
          "run": 41
         },
         {
          "location": "((2, 1), 'up')",
          "q_value": 0,
          "run": 42
         },
         {
          "location": "((2, 1), 'up')",
          "q_value": 0,
          "run": 43
         },
         {
          "location": "((2, 1), 'up')",
          "q_value": 0,
          "run": 44
         },
         {
          "location": "((2, 1), 'up')",
          "q_value": 0,
          "run": 45
         },
         {
          "location": "((2, 1), 'up')",
          "q_value": 0,
          "run": 46
         },
         {
          "location": "((2, 1), 'up')",
          "q_value": 0,
          "run": 47
         },
         {
          "location": "((2, 1), 'up')",
          "q_value": 0,
          "run": 48
         },
         {
          "location": "((2, 1), 'up')",
          "q_value": 0,
          "run": 49
         },
         {
          "location": "((2, 1), 'up')",
          "q_value": 0,
          "run": 50
         },
         {
          "location": "((2, 1), 'up')",
          "q_value": 0,
          "run": 51
         },
         {
          "location": "((2, 1), 'up')",
          "q_value": 0,
          "run": 52
         },
         {
          "location": "((2, 1), 'up')",
          "q_value": 0,
          "run": 53
         },
         {
          "location": "((2, 1), 'up')",
          "q_value": 0,
          "run": 54
         },
         {
          "location": "((2, 1), 'up')",
          "q_value": 0,
          "run": 55
         },
         {
          "location": "((2, 1), 'up')",
          "q_value": 0,
          "run": 56
         },
         {
          "location": "((2, 1), 'up')",
          "q_value": 0,
          "run": 57
         },
         {
          "location": "((2, 1), 'up')",
          "q_value": 0,
          "run": 58
         },
         {
          "location": "((2, 1), 'up')",
          "q_value": 0,
          "run": 59
         },
         {
          "location": "((2, 1), 'up')",
          "q_value": 0,
          "run": 60
         },
         {
          "location": "((2, 1), 'up')",
          "q_value": 0,
          "run": 61
         },
         {
          "location": "((2, 1), 'up')",
          "q_value": 0,
          "run": 62
         },
         {
          "location": "((2, 1), 'up')",
          "q_value": 0,
          "run": 63
         },
         {
          "location": "((2, 1), 'up')",
          "q_value": 0,
          "run": 64
         },
         {
          "location": "((2, 1), 'up')",
          "q_value": 0,
          "run": 65
         },
         {
          "location": "((2, 1), 'up')",
          "q_value": 0,
          "run": 66
         },
         {
          "location": "((2, 1), 'up')",
          "q_value": 0,
          "run": 67
         },
         {
          "location": "((2, 1), 'up')",
          "q_value": 0,
          "run": 68
         },
         {
          "location": "((2, 1), 'up')",
          "q_value": 0,
          "run": 69
         },
         {
          "location": "((2, 1), 'up')",
          "q_value": 0,
          "run": 70
         },
         {
          "location": "((2, 1), 'up')",
          "q_value": 0,
          "run": 71
         },
         {
          "location": "((2, 1), 'up')",
          "q_value": 0,
          "run": 72
         },
         {
          "location": "((2, 1), 'up')",
          "q_value": 0,
          "run": 73
         },
         {
          "location": "((2, 1), 'up')",
          "q_value": 0,
          "run": 74
         },
         {
          "location": "((2, 1), 'up')",
          "q_value": 0,
          "run": 75
         },
         {
          "location": "((2, 1), 'up')",
          "q_value": 0,
          "run": 76
         },
         {
          "location": "((2, 1), 'up')",
          "q_value": 0,
          "run": 77
         },
         {
          "location": "((2, 1), 'up')",
          "q_value": 0,
          "run": 78
         },
         {
          "location": "((2, 1), 'up')",
          "q_value": 0,
          "run": 79
         },
         {
          "location": "((2, 1), 'up')",
          "q_value": 0,
          "run": 80
         },
         {
          "location": "((2, 1), 'up')",
          "q_value": 0,
          "run": 81
         },
         {
          "location": "((2, 1), 'up')",
          "q_value": 0,
          "run": 82
         },
         {
          "location": "((2, 1), 'up')",
          "q_value": 0,
          "run": 83
         },
         {
          "location": "((2, 1), 'up')",
          "q_value": 0,
          "run": 84
         },
         {
          "location": "((2, 1), 'up')",
          "q_value": 0,
          "run": 85
         },
         {
          "location": "((2, 1), 'up')",
          "q_value": 0,
          "run": 86
         },
         {
          "location": "((2, 1), 'up')",
          "q_value": 0,
          "run": 87
         },
         {
          "location": "((2, 1), 'up')",
          "q_value": 0,
          "run": 88
         },
         {
          "location": "((2, 1), 'up')",
          "q_value": 0,
          "run": 89
         },
         {
          "location": "((2, 1), 'up')",
          "q_value": 0,
          "run": 90
         },
         {
          "location": "((2, 1), 'up')",
          "q_value": 0,
          "run": 91
         },
         {
          "location": "((2, 1), 'up')",
          "q_value": 0,
          "run": 92
         },
         {
          "location": "((2, 1), 'up')",
          "q_value": 0,
          "run": 93
         },
         {
          "location": "((2, 1), 'up')",
          "q_value": 0,
          "run": 94
         },
         {
          "location": "((2, 1), 'up')",
          "q_value": 0,
          "run": 95
         },
         {
          "location": "((2, 1), 'up')",
          "q_value": 0,
          "run": 96
         },
         {
          "location": "((2, 1), 'up')",
          "q_value": 0,
          "run": 97
         },
         {
          "location": "((2, 1), 'up')",
          "q_value": 0,
          "run": 98
         },
         {
          "location": "((2, 1), 'up')",
          "q_value": 0,
          "run": 99
         },
         {
          "location": "((2, 1), 'up')",
          "q_value": 0,
          "run": 100
         },
         {
          "location": "((2, 1), 'left')",
          "q_value": 0,
          "run": 0
         },
         {
          "location": "((2, 1), 'left')",
          "q_value": 0,
          "run": 1
         },
         {
          "location": "((2, 1), 'left')",
          "q_value": 0,
          "run": 2
         },
         {
          "location": "((2, 1), 'left')",
          "q_value": 0,
          "run": 3
         },
         {
          "location": "((2, 1), 'left')",
          "q_value": 0,
          "run": 4
         },
         {
          "location": "((2, 1), 'left')",
          "q_value": 0,
          "run": 5
         },
         {
          "location": "((2, 1), 'left')",
          "q_value": 0,
          "run": 6
         },
         {
          "location": "((2, 1), 'left')",
          "q_value": 0,
          "run": 7
         },
         {
          "location": "((2, 1), 'left')",
          "q_value": 0,
          "run": 8
         },
         {
          "location": "((2, 1), 'left')",
          "q_value": 0,
          "run": 9
         },
         {
          "location": "((2, 1), 'left')",
          "q_value": 0,
          "run": 10
         },
         {
          "location": "((2, 1), 'left')",
          "q_value": 0,
          "run": 11
         },
         {
          "location": "((2, 1), 'left')",
          "q_value": 0,
          "run": 12
         },
         {
          "location": "((2, 1), 'left')",
          "q_value": 0,
          "run": 13
         },
         {
          "location": "((2, 1), 'left')",
          "q_value": 0,
          "run": 14
         },
         {
          "location": "((2, 1), 'left')",
          "q_value": 0,
          "run": 15
         },
         {
          "location": "((2, 1), 'left')",
          "q_value": 0,
          "run": 16
         },
         {
          "location": "((2, 1), 'left')",
          "q_value": 0,
          "run": 17
         },
         {
          "location": "((2, 1), 'left')",
          "q_value": 0,
          "run": 18
         },
         {
          "location": "((2, 1), 'left')",
          "q_value": 0,
          "run": 19
         },
         {
          "location": "((2, 1), 'left')",
          "q_value": 0,
          "run": 20
         },
         {
          "location": "((2, 1), 'left')",
          "q_value": 0,
          "run": 21
         },
         {
          "location": "((2, 1), 'left')",
          "q_value": 0,
          "run": 22
         },
         {
          "location": "((2, 1), 'left')",
          "q_value": 0,
          "run": 23
         },
         {
          "location": "((2, 1), 'left')",
          "q_value": 0,
          "run": 24
         },
         {
          "location": "((2, 1), 'left')",
          "q_value": 0,
          "run": 25
         },
         {
          "location": "((2, 1), 'left')",
          "q_value": 0,
          "run": 26
         },
         {
          "location": "((2, 1), 'left')",
          "q_value": 0,
          "run": 27
         },
         {
          "location": "((2, 1), 'left')",
          "q_value": 0,
          "run": 28
         },
         {
          "location": "((2, 1), 'left')",
          "q_value": 0,
          "run": 29
         },
         {
          "location": "((2, 1), 'left')",
          "q_value": 0,
          "run": 30
         },
         {
          "location": "((2, 1), 'left')",
          "q_value": 0,
          "run": 31
         },
         {
          "location": "((2, 1), 'left')",
          "q_value": 0,
          "run": 32
         },
         {
          "location": "((2, 1), 'left')",
          "q_value": 0,
          "run": 33
         },
         {
          "location": "((2, 1), 'left')",
          "q_value": 0,
          "run": 34
         },
         {
          "location": "((2, 1), 'left')",
          "q_value": 0,
          "run": 35
         },
         {
          "location": "((2, 1), 'left')",
          "q_value": 0,
          "run": 36
         },
         {
          "location": "((2, 1), 'left')",
          "q_value": 0,
          "run": 37
         },
         {
          "location": "((2, 1), 'left')",
          "q_value": 0,
          "run": 38
         },
         {
          "location": "((2, 1), 'left')",
          "q_value": 0,
          "run": 39
         },
         {
          "location": "((2, 1), 'left')",
          "q_value": 0,
          "run": 40
         },
         {
          "location": "((2, 1), 'left')",
          "q_value": 0,
          "run": 41
         },
         {
          "location": "((2, 1), 'left')",
          "q_value": 0,
          "run": 42
         },
         {
          "location": "((2, 1), 'left')",
          "q_value": 0,
          "run": 43
         },
         {
          "location": "((2, 1), 'left')",
          "q_value": 0,
          "run": 44
         },
         {
          "location": "((2, 1), 'left')",
          "q_value": 0,
          "run": 45
         },
         {
          "location": "((2, 1), 'left')",
          "q_value": 0,
          "run": 46
         },
         {
          "location": "((2, 1), 'left')",
          "q_value": 0,
          "run": 47
         },
         {
          "location": "((2, 1), 'left')",
          "q_value": 0,
          "run": 48
         },
         {
          "location": "((2, 1), 'left')",
          "q_value": 0,
          "run": 49
         },
         {
          "location": "((2, 1), 'left')",
          "q_value": 0,
          "run": 50
         },
         {
          "location": "((2, 1), 'left')",
          "q_value": 0,
          "run": 51
         },
         {
          "location": "((2, 1), 'left')",
          "q_value": 0,
          "run": 52
         },
         {
          "location": "((2, 1), 'left')",
          "q_value": 0,
          "run": 53
         },
         {
          "location": "((2, 1), 'left')",
          "q_value": 0,
          "run": 54
         },
         {
          "location": "((2, 1), 'left')",
          "q_value": 0,
          "run": 55
         },
         {
          "location": "((2, 1), 'left')",
          "q_value": 0,
          "run": 56
         },
         {
          "location": "((2, 1), 'left')",
          "q_value": 0,
          "run": 57
         },
         {
          "location": "((2, 1), 'left')",
          "q_value": 0,
          "run": 58
         },
         {
          "location": "((2, 1), 'left')",
          "q_value": 0,
          "run": 59
         },
         {
          "location": "((2, 1), 'left')",
          "q_value": 0,
          "run": 60
         },
         {
          "location": "((2, 1), 'left')",
          "q_value": 0,
          "run": 61
         },
         {
          "location": "((2, 1), 'left')",
          "q_value": 0,
          "run": 62
         },
         {
          "location": "((2, 1), 'left')",
          "q_value": 0,
          "run": 63
         },
         {
          "location": "((2, 1), 'left')",
          "q_value": 0,
          "run": 64
         },
         {
          "location": "((2, 1), 'left')",
          "q_value": 0,
          "run": 65
         },
         {
          "location": "((2, 1), 'left')",
          "q_value": 0,
          "run": 66
         },
         {
          "location": "((2, 1), 'left')",
          "q_value": 0,
          "run": 67
         },
         {
          "location": "((2, 1), 'left')",
          "q_value": 0,
          "run": 68
         },
         {
          "location": "((2, 1), 'left')",
          "q_value": 0,
          "run": 69
         },
         {
          "location": "((2, 1), 'left')",
          "q_value": 0,
          "run": 70
         },
         {
          "location": "((2, 1), 'left')",
          "q_value": 0,
          "run": 71
         },
         {
          "location": "((2, 1), 'left')",
          "q_value": 0,
          "run": 72
         },
         {
          "location": "((2, 1), 'left')",
          "q_value": 0,
          "run": 73
         },
         {
          "location": "((2, 1), 'left')",
          "q_value": 0,
          "run": 74
         },
         {
          "location": "((2, 1), 'left')",
          "q_value": 0,
          "run": 75
         },
         {
          "location": "((2, 1), 'left')",
          "q_value": 0,
          "run": 76
         },
         {
          "location": "((2, 1), 'left')",
          "q_value": 0,
          "run": 77
         },
         {
          "location": "((2, 1), 'left')",
          "q_value": 0,
          "run": 78
         },
         {
          "location": "((2, 1), 'left')",
          "q_value": 0,
          "run": 79
         },
         {
          "location": "((2, 1), 'left')",
          "q_value": 0,
          "run": 80
         },
         {
          "location": "((2, 1), 'left')",
          "q_value": 0,
          "run": 81
         },
         {
          "location": "((2, 1), 'left')",
          "q_value": 0,
          "run": 82
         },
         {
          "location": "((2, 1), 'left')",
          "q_value": 0,
          "run": 83
         },
         {
          "location": "((2, 1), 'left')",
          "q_value": 0,
          "run": 84
         },
         {
          "location": "((2, 1), 'left')",
          "q_value": 0,
          "run": 85
         },
         {
          "location": "((2, 1), 'left')",
          "q_value": 0,
          "run": 86
         },
         {
          "location": "((2, 1), 'left')",
          "q_value": 0,
          "run": 87
         },
         {
          "location": "((2, 1), 'left')",
          "q_value": 0,
          "run": 88
         },
         {
          "location": "((2, 1), 'left')",
          "q_value": 0,
          "run": 89
         },
         {
          "location": "((2, 1), 'left')",
          "q_value": 0,
          "run": 90
         },
         {
          "location": "((2, 1), 'left')",
          "q_value": 0,
          "run": 91
         },
         {
          "location": "((2, 1), 'left')",
          "q_value": 0,
          "run": 92
         },
         {
          "location": "((2, 1), 'left')",
          "q_value": 0,
          "run": 93
         },
         {
          "location": "((2, 1), 'left')",
          "q_value": 0,
          "run": 94
         },
         {
          "location": "((2, 1), 'left')",
          "q_value": 0,
          "run": 95
         },
         {
          "location": "((2, 1), 'left')",
          "q_value": 0,
          "run": 96
         },
         {
          "location": "((2, 1), 'left')",
          "q_value": 0,
          "run": 97
         },
         {
          "location": "((2, 1), 'left')",
          "q_value": 0,
          "run": 98
         },
         {
          "location": "((2, 1), 'left')",
          "q_value": 0,
          "run": 99
         },
         {
          "location": "((2, 1), 'left')",
          "q_value": 0,
          "run": 100
         },
         {
          "location": "((2, 2), 'down')",
          "q_value": 0,
          "run": 0
         },
         {
          "location": "((2, 2), 'down')",
          "q_value": 0,
          "run": 1
         },
         {
          "location": "((2, 2), 'down')",
          "q_value": 0,
          "run": 2
         },
         {
          "location": "((2, 2), 'down')",
          "q_value": 0,
          "run": 3
         },
         {
          "location": "((2, 2), 'down')",
          "q_value": 0,
          "run": 4
         },
         {
          "location": "((2, 2), 'down')",
          "q_value": 0,
          "run": 5
         },
         {
          "location": "((2, 2), 'down')",
          "q_value": 0,
          "run": 6
         },
         {
          "location": "((2, 2), 'down')",
          "q_value": 0,
          "run": 7
         },
         {
          "location": "((2, 2), 'down')",
          "q_value": 0,
          "run": 8
         },
         {
          "location": "((2, 2), 'down')",
          "q_value": 0,
          "run": 9
         },
         {
          "location": "((2, 2), 'down')",
          "q_value": 0,
          "run": 10
         },
         {
          "location": "((2, 2), 'down')",
          "q_value": 0,
          "run": 11
         },
         {
          "location": "((2, 2), 'down')",
          "q_value": 0,
          "run": 12
         },
         {
          "location": "((2, 2), 'down')",
          "q_value": 0,
          "run": 13
         },
         {
          "location": "((2, 2), 'down')",
          "q_value": 0,
          "run": 14
         },
         {
          "location": "((2, 2), 'down')",
          "q_value": 0,
          "run": 15
         },
         {
          "location": "((2, 2), 'down')",
          "q_value": 0,
          "run": 16
         },
         {
          "location": "((2, 2), 'down')",
          "q_value": 0,
          "run": 17
         },
         {
          "location": "((2, 2), 'down')",
          "q_value": 0,
          "run": 18
         },
         {
          "location": "((2, 2), 'down')",
          "q_value": 0,
          "run": 19
         },
         {
          "location": "((2, 2), 'down')",
          "q_value": 0,
          "run": 20
         },
         {
          "location": "((2, 2), 'down')",
          "q_value": 0,
          "run": 21
         },
         {
          "location": "((2, 2), 'down')",
          "q_value": 0,
          "run": 22
         },
         {
          "location": "((2, 2), 'down')",
          "q_value": 0,
          "run": 23
         },
         {
          "location": "((2, 2), 'down')",
          "q_value": 0,
          "run": 24
         },
         {
          "location": "((2, 2), 'down')",
          "q_value": 0,
          "run": 25
         },
         {
          "location": "((2, 2), 'down')",
          "q_value": 0,
          "run": 26
         },
         {
          "location": "((2, 2), 'down')",
          "q_value": 0,
          "run": 27
         },
         {
          "location": "((2, 2), 'down')",
          "q_value": 0,
          "run": 28
         },
         {
          "location": "((2, 2), 'down')",
          "q_value": 0,
          "run": 29
         },
         {
          "location": "((2, 2), 'down')",
          "q_value": 0,
          "run": 30
         },
         {
          "location": "((2, 2), 'down')",
          "q_value": 0,
          "run": 31
         },
         {
          "location": "((2, 2), 'down')",
          "q_value": 0,
          "run": 32
         },
         {
          "location": "((2, 2), 'down')",
          "q_value": 0,
          "run": 33
         },
         {
          "location": "((2, 2), 'down')",
          "q_value": 0,
          "run": 34
         },
         {
          "location": "((2, 2), 'down')",
          "q_value": 0,
          "run": 35
         },
         {
          "location": "((2, 2), 'down')",
          "q_value": 0,
          "run": 36
         },
         {
          "location": "((2, 2), 'down')",
          "q_value": 0,
          "run": 37
         },
         {
          "location": "((2, 2), 'down')",
          "q_value": 0,
          "run": 38
         },
         {
          "location": "((2, 2), 'down')",
          "q_value": 0,
          "run": 39
         },
         {
          "location": "((2, 2), 'down')",
          "q_value": 0,
          "run": 40
         },
         {
          "location": "((2, 2), 'down')",
          "q_value": 0,
          "run": 41
         },
         {
          "location": "((2, 2), 'down')",
          "q_value": 0,
          "run": 42
         },
         {
          "location": "((2, 2), 'down')",
          "q_value": 0,
          "run": 43
         },
         {
          "location": "((2, 2), 'down')",
          "q_value": 0,
          "run": 44
         },
         {
          "location": "((2, 2), 'down')",
          "q_value": 0,
          "run": 45
         },
         {
          "location": "((2, 2), 'down')",
          "q_value": 0,
          "run": 46
         },
         {
          "location": "((2, 2), 'down')",
          "q_value": 0,
          "run": 47
         },
         {
          "location": "((2, 2), 'down')",
          "q_value": 0,
          "run": 48
         },
         {
          "location": "((2, 2), 'down')",
          "q_value": 0,
          "run": 49
         },
         {
          "location": "((2, 2), 'down')",
          "q_value": 0,
          "run": 50
         },
         {
          "location": "((2, 2), 'down')",
          "q_value": 0,
          "run": 51
         },
         {
          "location": "((2, 2), 'down')",
          "q_value": 0,
          "run": 52
         },
         {
          "location": "((2, 2), 'down')",
          "q_value": 0,
          "run": 53
         },
         {
          "location": "((2, 2), 'down')",
          "q_value": 0,
          "run": 54
         },
         {
          "location": "((2, 2), 'down')",
          "q_value": 0,
          "run": 55
         },
         {
          "location": "((2, 2), 'down')",
          "q_value": 0,
          "run": 56
         },
         {
          "location": "((2, 2), 'down')",
          "q_value": 0,
          "run": 57
         },
         {
          "location": "((2, 2), 'down')",
          "q_value": 0,
          "run": 58
         },
         {
          "location": "((2, 2), 'down')",
          "q_value": 0,
          "run": 59
         },
         {
          "location": "((2, 2), 'down')",
          "q_value": 0,
          "run": 60
         },
         {
          "location": "((2, 2), 'down')",
          "q_value": 0,
          "run": 61
         },
         {
          "location": "((2, 2), 'down')",
          "q_value": 0,
          "run": 62
         },
         {
          "location": "((2, 2), 'down')",
          "q_value": 0,
          "run": 63
         },
         {
          "location": "((2, 2), 'down')",
          "q_value": 0,
          "run": 64
         },
         {
          "location": "((2, 2), 'down')",
          "q_value": 0,
          "run": 65
         },
         {
          "location": "((2, 2), 'down')",
          "q_value": 0,
          "run": 66
         },
         {
          "location": "((2, 2), 'down')",
          "q_value": 0,
          "run": 67
         },
         {
          "location": "((2, 2), 'down')",
          "q_value": 0,
          "run": 68
         },
         {
          "location": "((2, 2), 'down')",
          "q_value": 0,
          "run": 69
         },
         {
          "location": "((2, 2), 'down')",
          "q_value": 0,
          "run": 70
         },
         {
          "location": "((2, 2), 'down')",
          "q_value": 0,
          "run": 71
         },
         {
          "location": "((2, 2), 'down')",
          "q_value": 0,
          "run": 72
         },
         {
          "location": "((2, 2), 'down')",
          "q_value": 0,
          "run": 73
         },
         {
          "location": "((2, 2), 'down')",
          "q_value": 0,
          "run": 74
         },
         {
          "location": "((2, 2), 'down')",
          "q_value": 0,
          "run": 75
         },
         {
          "location": "((2, 2), 'down')",
          "q_value": 0,
          "run": 76
         },
         {
          "location": "((2, 2), 'down')",
          "q_value": 0,
          "run": 77
         },
         {
          "location": "((2, 2), 'down')",
          "q_value": 0,
          "run": 78
         },
         {
          "location": "((2, 2), 'down')",
          "q_value": 0,
          "run": 79
         },
         {
          "location": "((2, 2), 'down')",
          "q_value": 0,
          "run": 80
         },
         {
          "location": "((2, 2), 'down')",
          "q_value": 0,
          "run": 81
         },
         {
          "location": "((2, 2), 'down')",
          "q_value": 0,
          "run": 82
         },
         {
          "location": "((2, 2), 'down')",
          "q_value": 0,
          "run": 83
         },
         {
          "location": "((2, 2), 'down')",
          "q_value": 0,
          "run": 84
         },
         {
          "location": "((2, 2), 'down')",
          "q_value": 0,
          "run": 85
         },
         {
          "location": "((2, 2), 'down')",
          "q_value": 0,
          "run": 86
         },
         {
          "location": "((2, 2), 'down')",
          "q_value": 0,
          "run": 87
         },
         {
          "location": "((2, 2), 'down')",
          "q_value": 0,
          "run": 88
         },
         {
          "location": "((2, 2), 'down')",
          "q_value": 0,
          "run": 89
         },
         {
          "location": "((2, 2), 'down')",
          "q_value": 0,
          "run": 90
         },
         {
          "location": "((2, 2), 'down')",
          "q_value": 0,
          "run": 91
         },
         {
          "location": "((2, 2), 'down')",
          "q_value": 0,
          "run": 92
         },
         {
          "location": "((2, 2), 'down')",
          "q_value": 0,
          "run": 93
         },
         {
          "location": "((2, 2), 'down')",
          "q_value": 0,
          "run": 94
         },
         {
          "location": "((2, 2), 'down')",
          "q_value": 0,
          "run": 95
         },
         {
          "location": "((2, 2), 'down')",
          "q_value": 0,
          "run": 96
         },
         {
          "location": "((2, 2), 'down')",
          "q_value": 0,
          "run": 97
         },
         {
          "location": "((2, 2), 'down')",
          "q_value": 0,
          "run": 98
         },
         {
          "location": "((2, 2), 'down')",
          "q_value": 0,
          "run": 99
         },
         {
          "location": "((2, 2), 'down')",
          "q_value": 0,
          "run": 100
         },
         {
          "location": "((2, 2), 'right')",
          "q_value": 0,
          "run": 0
         },
         {
          "location": "((2, 2), 'right')",
          "q_value": 0,
          "run": 1
         },
         {
          "location": "((2, 2), 'right')",
          "q_value": 0,
          "run": 2
         },
         {
          "location": "((2, 2), 'right')",
          "q_value": 0,
          "run": 3
         },
         {
          "location": "((2, 2), 'right')",
          "q_value": 0,
          "run": 4
         },
         {
          "location": "((2, 2), 'right')",
          "q_value": 0,
          "run": 5
         },
         {
          "location": "((2, 2), 'right')",
          "q_value": 0,
          "run": 6
         },
         {
          "location": "((2, 2), 'right')",
          "q_value": 0,
          "run": 7
         },
         {
          "location": "((2, 2), 'right')",
          "q_value": 0,
          "run": 8
         },
         {
          "location": "((2, 2), 'right')",
          "q_value": 0,
          "run": 9
         },
         {
          "location": "((2, 2), 'right')",
          "q_value": 0,
          "run": 10
         },
         {
          "location": "((2, 2), 'right')",
          "q_value": 0,
          "run": 11
         },
         {
          "location": "((2, 2), 'right')",
          "q_value": 0,
          "run": 12
         },
         {
          "location": "((2, 2), 'right')",
          "q_value": 0,
          "run": 13
         },
         {
          "location": "((2, 2), 'right')",
          "q_value": 0,
          "run": 14
         },
         {
          "location": "((2, 2), 'right')",
          "q_value": 0,
          "run": 15
         },
         {
          "location": "((2, 2), 'right')",
          "q_value": 0,
          "run": 16
         },
         {
          "location": "((2, 2), 'right')",
          "q_value": 0,
          "run": 17
         },
         {
          "location": "((2, 2), 'right')",
          "q_value": 0,
          "run": 18
         },
         {
          "location": "((2, 2), 'right')",
          "q_value": 0,
          "run": 19
         },
         {
          "location": "((2, 2), 'right')",
          "q_value": 0,
          "run": 20
         },
         {
          "location": "((2, 2), 'right')",
          "q_value": 0,
          "run": 21
         },
         {
          "location": "((2, 2), 'right')",
          "q_value": 0,
          "run": 22
         },
         {
          "location": "((2, 2), 'right')",
          "q_value": 0,
          "run": 23
         },
         {
          "location": "((2, 2), 'right')",
          "q_value": 0,
          "run": 24
         },
         {
          "location": "((2, 2), 'right')",
          "q_value": 0,
          "run": 25
         },
         {
          "location": "((2, 2), 'right')",
          "q_value": 0,
          "run": 26
         },
         {
          "location": "((2, 2), 'right')",
          "q_value": 0,
          "run": 27
         },
         {
          "location": "((2, 2), 'right')",
          "q_value": 0,
          "run": 28
         },
         {
          "location": "((2, 2), 'right')",
          "q_value": 0,
          "run": 29
         },
         {
          "location": "((2, 2), 'right')",
          "q_value": 0,
          "run": 30
         },
         {
          "location": "((2, 2), 'right')",
          "q_value": 0,
          "run": 31
         },
         {
          "location": "((2, 2), 'right')",
          "q_value": 0,
          "run": 32
         },
         {
          "location": "((2, 2), 'right')",
          "q_value": 0,
          "run": 33
         },
         {
          "location": "((2, 2), 'right')",
          "q_value": 0,
          "run": 34
         },
         {
          "location": "((2, 2), 'right')",
          "q_value": 0,
          "run": 35
         },
         {
          "location": "((2, 2), 'right')",
          "q_value": 0,
          "run": 36
         },
         {
          "location": "((2, 2), 'right')",
          "q_value": 0,
          "run": 37
         },
         {
          "location": "((2, 2), 'right')",
          "q_value": 0,
          "run": 38
         },
         {
          "location": "((2, 2), 'right')",
          "q_value": 0,
          "run": 39
         },
         {
          "location": "((2, 2), 'right')",
          "q_value": 0,
          "run": 40
         },
         {
          "location": "((2, 2), 'right')",
          "q_value": 0,
          "run": 41
         },
         {
          "location": "((2, 2), 'right')",
          "q_value": 0,
          "run": 42
         },
         {
          "location": "((2, 2), 'right')",
          "q_value": 0,
          "run": 43
         },
         {
          "location": "((2, 2), 'right')",
          "q_value": 0,
          "run": 44
         },
         {
          "location": "((2, 2), 'right')",
          "q_value": 0,
          "run": 45
         },
         {
          "location": "((2, 2), 'right')",
          "q_value": 0,
          "run": 46
         },
         {
          "location": "((2, 2), 'right')",
          "q_value": 0,
          "run": 47
         },
         {
          "location": "((2, 2), 'right')",
          "q_value": 0,
          "run": 48
         },
         {
          "location": "((2, 2), 'right')",
          "q_value": 0,
          "run": 49
         },
         {
          "location": "((2, 2), 'right')",
          "q_value": 0,
          "run": 50
         },
         {
          "location": "((2, 2), 'right')",
          "q_value": 0,
          "run": 51
         },
         {
          "location": "((2, 2), 'right')",
          "q_value": 0,
          "run": 52
         },
         {
          "location": "((2, 2), 'right')",
          "q_value": 0,
          "run": 53
         },
         {
          "location": "((2, 2), 'right')",
          "q_value": 0,
          "run": 54
         },
         {
          "location": "((2, 2), 'right')",
          "q_value": 0,
          "run": 55
         },
         {
          "location": "((2, 2), 'right')",
          "q_value": 0,
          "run": 56
         },
         {
          "location": "((2, 2), 'right')",
          "q_value": 0,
          "run": 57
         },
         {
          "location": "((2, 2), 'right')",
          "q_value": 0,
          "run": 58
         },
         {
          "location": "((2, 2), 'right')",
          "q_value": 0,
          "run": 59
         },
         {
          "location": "((2, 2), 'right')",
          "q_value": 0,
          "run": 60
         },
         {
          "location": "((2, 2), 'right')",
          "q_value": 0,
          "run": 61
         },
         {
          "location": "((2, 2), 'right')",
          "q_value": 0,
          "run": 62
         },
         {
          "location": "((2, 2), 'right')",
          "q_value": 0,
          "run": 63
         },
         {
          "location": "((2, 2), 'right')",
          "q_value": 0,
          "run": 64
         },
         {
          "location": "((2, 2), 'right')",
          "q_value": 0,
          "run": 65
         },
         {
          "location": "((2, 2), 'right')",
          "q_value": 0,
          "run": 66
         },
         {
          "location": "((2, 2), 'right')",
          "q_value": 0,
          "run": 67
         },
         {
          "location": "((2, 2), 'right')",
          "q_value": 0,
          "run": 68
         },
         {
          "location": "((2, 2), 'right')",
          "q_value": 0,
          "run": 69
         },
         {
          "location": "((2, 2), 'right')",
          "q_value": 0,
          "run": 70
         },
         {
          "location": "((2, 2), 'right')",
          "q_value": 0,
          "run": 71
         },
         {
          "location": "((2, 2), 'right')",
          "q_value": 0,
          "run": 72
         },
         {
          "location": "((2, 2), 'right')",
          "q_value": 0,
          "run": 73
         },
         {
          "location": "((2, 2), 'right')",
          "q_value": 0,
          "run": 74
         },
         {
          "location": "((2, 2), 'right')",
          "q_value": 0,
          "run": 75
         },
         {
          "location": "((2, 2), 'right')",
          "q_value": 0,
          "run": 76
         },
         {
          "location": "((2, 2), 'right')",
          "q_value": 0,
          "run": 77
         },
         {
          "location": "((2, 2), 'right')",
          "q_value": 0,
          "run": 78
         },
         {
          "location": "((2, 2), 'right')",
          "q_value": 0,
          "run": 79
         },
         {
          "location": "((2, 2), 'right')",
          "q_value": 0,
          "run": 80
         },
         {
          "location": "((2, 2), 'right')",
          "q_value": 0,
          "run": 81
         },
         {
          "location": "((2, 2), 'right')",
          "q_value": 0,
          "run": 82
         },
         {
          "location": "((2, 2), 'right')",
          "q_value": 0,
          "run": 83
         },
         {
          "location": "((2, 2), 'right')",
          "q_value": 0,
          "run": 84
         },
         {
          "location": "((2, 2), 'right')",
          "q_value": 0,
          "run": 85
         },
         {
          "location": "((2, 2), 'right')",
          "q_value": 0,
          "run": 86
         },
         {
          "location": "((2, 2), 'right')",
          "q_value": 0,
          "run": 87
         },
         {
          "location": "((2, 2), 'right')",
          "q_value": 0,
          "run": 88
         },
         {
          "location": "((2, 2), 'right')",
          "q_value": 0,
          "run": 89
         },
         {
          "location": "((2, 2), 'right')",
          "q_value": 0,
          "run": 90
         },
         {
          "location": "((2, 2), 'right')",
          "q_value": 0,
          "run": 91
         },
         {
          "location": "((2, 2), 'right')",
          "q_value": 0,
          "run": 92
         },
         {
          "location": "((2, 2), 'right')",
          "q_value": 0,
          "run": 93
         },
         {
          "location": "((2, 2), 'right')",
          "q_value": 0,
          "run": 94
         },
         {
          "location": "((2, 2), 'right')",
          "q_value": 0,
          "run": 95
         },
         {
          "location": "((2, 2), 'right')",
          "q_value": 0,
          "run": 96
         },
         {
          "location": "((2, 2), 'right')",
          "q_value": 0,
          "run": 97
         },
         {
          "location": "((2, 2), 'right')",
          "q_value": 0,
          "run": 98
         },
         {
          "location": "((2, 2), 'right')",
          "q_value": 0,
          "run": 99
         },
         {
          "location": "((2, 2), 'right')",
          "q_value": 0,
          "run": 100
         },
         {
          "location": "((2, 2), 'up')",
          "q_value": 0,
          "run": 0
         },
         {
          "location": "((2, 2), 'up')",
          "q_value": 0,
          "run": 1
         },
         {
          "location": "((2, 2), 'up')",
          "q_value": 0,
          "run": 2
         },
         {
          "location": "((2, 2), 'up')",
          "q_value": 0,
          "run": 3
         },
         {
          "location": "((2, 2), 'up')",
          "q_value": 0,
          "run": 4
         },
         {
          "location": "((2, 2), 'up')",
          "q_value": 0,
          "run": 5
         },
         {
          "location": "((2, 2), 'up')",
          "q_value": 0,
          "run": 6
         },
         {
          "location": "((2, 2), 'up')",
          "q_value": 0,
          "run": 7
         },
         {
          "location": "((2, 2), 'up')",
          "q_value": 0,
          "run": 8
         },
         {
          "location": "((2, 2), 'up')",
          "q_value": 0,
          "run": 9
         },
         {
          "location": "((2, 2), 'up')",
          "q_value": 0,
          "run": 10
         },
         {
          "location": "((2, 2), 'up')",
          "q_value": 0,
          "run": 11
         },
         {
          "location": "((2, 2), 'up')",
          "q_value": 0,
          "run": 12
         },
         {
          "location": "((2, 2), 'up')",
          "q_value": 0,
          "run": 13
         },
         {
          "location": "((2, 2), 'up')",
          "q_value": 0,
          "run": 14
         },
         {
          "location": "((2, 2), 'up')",
          "q_value": 0,
          "run": 15
         },
         {
          "location": "((2, 2), 'up')",
          "q_value": 0,
          "run": 16
         },
         {
          "location": "((2, 2), 'up')",
          "q_value": 0,
          "run": 17
         },
         {
          "location": "((2, 2), 'up')",
          "q_value": 0,
          "run": 18
         },
         {
          "location": "((2, 2), 'up')",
          "q_value": 0,
          "run": 19
         },
         {
          "location": "((2, 2), 'up')",
          "q_value": 0,
          "run": 20
         },
         {
          "location": "((2, 2), 'up')",
          "q_value": 0,
          "run": 21
         },
         {
          "location": "((2, 2), 'up')",
          "q_value": 0,
          "run": 22
         },
         {
          "location": "((2, 2), 'up')",
          "q_value": 0,
          "run": 23
         },
         {
          "location": "((2, 2), 'up')",
          "q_value": 0,
          "run": 24
         },
         {
          "location": "((2, 2), 'up')",
          "q_value": 0,
          "run": 25
         },
         {
          "location": "((2, 2), 'up')",
          "q_value": 0,
          "run": 26
         },
         {
          "location": "((2, 2), 'up')",
          "q_value": 0,
          "run": 27
         },
         {
          "location": "((2, 2), 'up')",
          "q_value": 0,
          "run": 28
         },
         {
          "location": "((2, 2), 'up')",
          "q_value": 0,
          "run": 29
         },
         {
          "location": "((2, 2), 'up')",
          "q_value": 0,
          "run": 30
         },
         {
          "location": "((2, 2), 'up')",
          "q_value": 0,
          "run": 31
         },
         {
          "location": "((2, 2), 'up')",
          "q_value": 0,
          "run": 32
         },
         {
          "location": "((2, 2), 'up')",
          "q_value": 0,
          "run": 33
         },
         {
          "location": "((2, 2), 'up')",
          "q_value": 0,
          "run": 34
         },
         {
          "location": "((2, 2), 'up')",
          "q_value": 0,
          "run": 35
         },
         {
          "location": "((2, 2), 'up')",
          "q_value": 0,
          "run": 36
         },
         {
          "location": "((2, 2), 'up')",
          "q_value": 0,
          "run": 37
         },
         {
          "location": "((2, 2), 'up')",
          "q_value": 0,
          "run": 38
         },
         {
          "location": "((2, 2), 'up')",
          "q_value": 0,
          "run": 39
         },
         {
          "location": "((2, 2), 'up')",
          "q_value": 0,
          "run": 40
         },
         {
          "location": "((2, 2), 'up')",
          "q_value": 0,
          "run": 41
         },
         {
          "location": "((2, 2), 'up')",
          "q_value": 0,
          "run": 42
         },
         {
          "location": "((2, 2), 'up')",
          "q_value": 0,
          "run": 43
         },
         {
          "location": "((2, 2), 'up')",
          "q_value": 0,
          "run": 44
         },
         {
          "location": "((2, 2), 'up')",
          "q_value": 0,
          "run": 45
         },
         {
          "location": "((2, 2), 'up')",
          "q_value": 0,
          "run": 46
         },
         {
          "location": "((2, 2), 'up')",
          "q_value": 0,
          "run": 47
         },
         {
          "location": "((2, 2), 'up')",
          "q_value": 0,
          "run": 48
         },
         {
          "location": "((2, 2), 'up')",
          "q_value": 0,
          "run": 49
         },
         {
          "location": "((2, 2), 'up')",
          "q_value": 0,
          "run": 50
         },
         {
          "location": "((2, 2), 'up')",
          "q_value": 0,
          "run": 51
         },
         {
          "location": "((2, 2), 'up')",
          "q_value": 0,
          "run": 52
         },
         {
          "location": "((2, 2), 'up')",
          "q_value": 0,
          "run": 53
         },
         {
          "location": "((2, 2), 'up')",
          "q_value": 0,
          "run": 54
         },
         {
          "location": "((2, 2), 'up')",
          "q_value": 0,
          "run": 55
         },
         {
          "location": "((2, 2), 'up')",
          "q_value": 0,
          "run": 56
         },
         {
          "location": "((2, 2), 'up')",
          "q_value": 0,
          "run": 57
         },
         {
          "location": "((2, 2), 'up')",
          "q_value": 0,
          "run": 58
         },
         {
          "location": "((2, 2), 'up')",
          "q_value": 0,
          "run": 59
         },
         {
          "location": "((2, 2), 'up')",
          "q_value": 0,
          "run": 60
         },
         {
          "location": "((2, 2), 'up')",
          "q_value": 0,
          "run": 61
         },
         {
          "location": "((2, 2), 'up')",
          "q_value": 0,
          "run": 62
         },
         {
          "location": "((2, 2), 'up')",
          "q_value": 0,
          "run": 63
         },
         {
          "location": "((2, 2), 'up')",
          "q_value": 0,
          "run": 64
         },
         {
          "location": "((2, 2), 'up')",
          "q_value": 0,
          "run": 65
         },
         {
          "location": "((2, 2), 'up')",
          "q_value": 0,
          "run": 66
         },
         {
          "location": "((2, 2), 'up')",
          "q_value": 0,
          "run": 67
         },
         {
          "location": "((2, 2), 'up')",
          "q_value": 0,
          "run": 68
         },
         {
          "location": "((2, 2), 'up')",
          "q_value": 0,
          "run": 69
         },
         {
          "location": "((2, 2), 'up')",
          "q_value": 0,
          "run": 70
         },
         {
          "location": "((2, 2), 'up')",
          "q_value": 0,
          "run": 71
         },
         {
          "location": "((2, 2), 'up')",
          "q_value": 0,
          "run": 72
         },
         {
          "location": "((2, 2), 'up')",
          "q_value": 0,
          "run": 73
         },
         {
          "location": "((2, 2), 'up')",
          "q_value": 0,
          "run": 74
         },
         {
          "location": "((2, 2), 'up')",
          "q_value": 0,
          "run": 75
         },
         {
          "location": "((2, 2), 'up')",
          "q_value": 0,
          "run": 76
         },
         {
          "location": "((2, 2), 'up')",
          "q_value": 0,
          "run": 77
         },
         {
          "location": "((2, 2), 'up')",
          "q_value": 0,
          "run": 78
         },
         {
          "location": "((2, 2), 'up')",
          "q_value": 0,
          "run": 79
         },
         {
          "location": "((2, 2), 'up')",
          "q_value": 0,
          "run": 80
         },
         {
          "location": "((2, 2), 'up')",
          "q_value": 0,
          "run": 81
         },
         {
          "location": "((2, 2), 'up')",
          "q_value": 0,
          "run": 82
         },
         {
          "location": "((2, 2), 'up')",
          "q_value": 0,
          "run": 83
         },
         {
          "location": "((2, 2), 'up')",
          "q_value": 0,
          "run": 84
         },
         {
          "location": "((2, 2), 'up')",
          "q_value": 0,
          "run": 85
         },
         {
          "location": "((2, 2), 'up')",
          "q_value": 0,
          "run": 86
         },
         {
          "location": "((2, 2), 'up')",
          "q_value": 0,
          "run": 87
         },
         {
          "location": "((2, 2), 'up')",
          "q_value": 0,
          "run": 88
         },
         {
          "location": "((2, 2), 'up')",
          "q_value": 0,
          "run": 89
         },
         {
          "location": "((2, 2), 'up')",
          "q_value": 0,
          "run": 90
         },
         {
          "location": "((2, 2), 'up')",
          "q_value": 0,
          "run": 91
         },
         {
          "location": "((2, 2), 'up')",
          "q_value": 0,
          "run": 92
         },
         {
          "location": "((2, 2), 'up')",
          "q_value": 0,
          "run": 93
         },
         {
          "location": "((2, 2), 'up')",
          "q_value": 0,
          "run": 94
         },
         {
          "location": "((2, 2), 'up')",
          "q_value": 0,
          "run": 95
         },
         {
          "location": "((2, 2), 'up')",
          "q_value": 0,
          "run": 96
         },
         {
          "location": "((2, 2), 'up')",
          "q_value": 0,
          "run": 97
         },
         {
          "location": "((2, 2), 'up')",
          "q_value": 0,
          "run": 98
         },
         {
          "location": "((2, 2), 'up')",
          "q_value": 0,
          "run": 99
         },
         {
          "location": "((2, 2), 'up')",
          "q_value": 0,
          "run": 100
         },
         {
          "location": "((2, 2), 'left')",
          "q_value": 0,
          "run": 0
         },
         {
          "location": "((2, 2), 'left')",
          "q_value": 0,
          "run": 1
         },
         {
          "location": "((2, 2), 'left')",
          "q_value": 0,
          "run": 2
         },
         {
          "location": "((2, 2), 'left')",
          "q_value": 0,
          "run": 3
         },
         {
          "location": "((2, 2), 'left')",
          "q_value": 0,
          "run": 4
         },
         {
          "location": "((2, 2), 'left')",
          "q_value": 0,
          "run": 5
         },
         {
          "location": "((2, 2), 'left')",
          "q_value": 0,
          "run": 6
         },
         {
          "location": "((2, 2), 'left')",
          "q_value": 0,
          "run": 7
         },
         {
          "location": "((2, 2), 'left')",
          "q_value": 0,
          "run": 8
         },
         {
          "location": "((2, 2), 'left')",
          "q_value": 0,
          "run": 9
         },
         {
          "location": "((2, 2), 'left')",
          "q_value": 0,
          "run": 10
         },
         {
          "location": "((2, 2), 'left')",
          "q_value": 0,
          "run": 11
         },
         {
          "location": "((2, 2), 'left')",
          "q_value": 0,
          "run": 12
         },
         {
          "location": "((2, 2), 'left')",
          "q_value": 0,
          "run": 13
         },
         {
          "location": "((2, 2), 'left')",
          "q_value": 0,
          "run": 14
         },
         {
          "location": "((2, 2), 'left')",
          "q_value": 0,
          "run": 15
         },
         {
          "location": "((2, 2), 'left')",
          "q_value": 0,
          "run": 16
         },
         {
          "location": "((2, 2), 'left')",
          "q_value": 0,
          "run": 17
         },
         {
          "location": "((2, 2), 'left')",
          "q_value": 0,
          "run": 18
         },
         {
          "location": "((2, 2), 'left')",
          "q_value": 0,
          "run": 19
         },
         {
          "location": "((2, 2), 'left')",
          "q_value": 0,
          "run": 20
         },
         {
          "location": "((2, 2), 'left')",
          "q_value": 0,
          "run": 21
         },
         {
          "location": "((2, 2), 'left')",
          "q_value": 0,
          "run": 22
         },
         {
          "location": "((2, 2), 'left')",
          "q_value": 0,
          "run": 23
         },
         {
          "location": "((2, 2), 'left')",
          "q_value": 0,
          "run": 24
         },
         {
          "location": "((2, 2), 'left')",
          "q_value": 0,
          "run": 25
         },
         {
          "location": "((2, 2), 'left')",
          "q_value": 0,
          "run": 26
         },
         {
          "location": "((2, 2), 'left')",
          "q_value": 0,
          "run": 27
         },
         {
          "location": "((2, 2), 'left')",
          "q_value": 0,
          "run": 28
         },
         {
          "location": "((2, 2), 'left')",
          "q_value": 0,
          "run": 29
         },
         {
          "location": "((2, 2), 'left')",
          "q_value": 0,
          "run": 30
         },
         {
          "location": "((2, 2), 'left')",
          "q_value": 0,
          "run": 31
         },
         {
          "location": "((2, 2), 'left')",
          "q_value": 0,
          "run": 32
         },
         {
          "location": "((2, 2), 'left')",
          "q_value": 0,
          "run": 33
         },
         {
          "location": "((2, 2), 'left')",
          "q_value": 0,
          "run": 34
         },
         {
          "location": "((2, 2), 'left')",
          "q_value": 0,
          "run": 35
         },
         {
          "location": "((2, 2), 'left')",
          "q_value": 0,
          "run": 36
         },
         {
          "location": "((2, 2), 'left')",
          "q_value": 0,
          "run": 37
         },
         {
          "location": "((2, 2), 'left')",
          "q_value": 0,
          "run": 38
         },
         {
          "location": "((2, 2), 'left')",
          "q_value": 0,
          "run": 39
         },
         {
          "location": "((2, 2), 'left')",
          "q_value": 0,
          "run": 40
         },
         {
          "location": "((2, 2), 'left')",
          "q_value": 0,
          "run": 41
         },
         {
          "location": "((2, 2), 'left')",
          "q_value": 0,
          "run": 42
         },
         {
          "location": "((2, 2), 'left')",
          "q_value": 0,
          "run": 43
         },
         {
          "location": "((2, 2), 'left')",
          "q_value": 0,
          "run": 44
         },
         {
          "location": "((2, 2), 'left')",
          "q_value": 0,
          "run": 45
         },
         {
          "location": "((2, 2), 'left')",
          "q_value": 0,
          "run": 46
         },
         {
          "location": "((2, 2), 'left')",
          "q_value": 0,
          "run": 47
         },
         {
          "location": "((2, 2), 'left')",
          "q_value": 0,
          "run": 48
         },
         {
          "location": "((2, 2), 'left')",
          "q_value": 0,
          "run": 49
         },
         {
          "location": "((2, 2), 'left')",
          "q_value": 0,
          "run": 50
         },
         {
          "location": "((2, 2), 'left')",
          "q_value": 0,
          "run": 51
         },
         {
          "location": "((2, 2), 'left')",
          "q_value": 0,
          "run": 52
         },
         {
          "location": "((2, 2), 'left')",
          "q_value": 0,
          "run": 53
         },
         {
          "location": "((2, 2), 'left')",
          "q_value": 0,
          "run": 54
         },
         {
          "location": "((2, 2), 'left')",
          "q_value": 0,
          "run": 55
         },
         {
          "location": "((2, 2), 'left')",
          "q_value": 0,
          "run": 56
         },
         {
          "location": "((2, 2), 'left')",
          "q_value": 0,
          "run": 57
         },
         {
          "location": "((2, 2), 'left')",
          "q_value": 0,
          "run": 58
         },
         {
          "location": "((2, 2), 'left')",
          "q_value": 0,
          "run": 59
         },
         {
          "location": "((2, 2), 'left')",
          "q_value": 0,
          "run": 60
         },
         {
          "location": "((2, 2), 'left')",
          "q_value": 0,
          "run": 61
         },
         {
          "location": "((2, 2), 'left')",
          "q_value": 0,
          "run": 62
         },
         {
          "location": "((2, 2), 'left')",
          "q_value": 0,
          "run": 63
         },
         {
          "location": "((2, 2), 'left')",
          "q_value": 0,
          "run": 64
         },
         {
          "location": "((2, 2), 'left')",
          "q_value": 0,
          "run": 65
         },
         {
          "location": "((2, 2), 'left')",
          "q_value": 0,
          "run": 66
         },
         {
          "location": "((2, 2), 'left')",
          "q_value": 0,
          "run": 67
         },
         {
          "location": "((2, 2), 'left')",
          "q_value": 0,
          "run": 68
         },
         {
          "location": "((2, 2), 'left')",
          "q_value": 0,
          "run": 69
         },
         {
          "location": "((2, 2), 'left')",
          "q_value": 0,
          "run": 70
         },
         {
          "location": "((2, 2), 'left')",
          "q_value": 0,
          "run": 71
         },
         {
          "location": "((2, 2), 'left')",
          "q_value": 0,
          "run": 72
         },
         {
          "location": "((2, 2), 'left')",
          "q_value": 0,
          "run": 73
         },
         {
          "location": "((2, 2), 'left')",
          "q_value": 0,
          "run": 74
         },
         {
          "location": "((2, 2), 'left')",
          "q_value": 0,
          "run": 75
         },
         {
          "location": "((2, 2), 'left')",
          "q_value": 0,
          "run": 76
         },
         {
          "location": "((2, 2), 'left')",
          "q_value": 0,
          "run": 77
         },
         {
          "location": "((2, 2), 'left')",
          "q_value": 0,
          "run": 78
         },
         {
          "location": "((2, 2), 'left')",
          "q_value": 0,
          "run": 79
         },
         {
          "location": "((2, 2), 'left')",
          "q_value": 0,
          "run": 80
         },
         {
          "location": "((2, 2), 'left')",
          "q_value": 0,
          "run": 81
         },
         {
          "location": "((2, 2), 'left')",
          "q_value": 0,
          "run": 82
         },
         {
          "location": "((2, 2), 'left')",
          "q_value": 0,
          "run": 83
         },
         {
          "location": "((2, 2), 'left')",
          "q_value": 0,
          "run": 84
         },
         {
          "location": "((2, 2), 'left')",
          "q_value": 0,
          "run": 85
         },
         {
          "location": "((2, 2), 'left')",
          "q_value": 0,
          "run": 86
         },
         {
          "location": "((2, 2), 'left')",
          "q_value": 0,
          "run": 87
         },
         {
          "location": "((2, 2), 'left')",
          "q_value": 0,
          "run": 88
         },
         {
          "location": "((2, 2), 'left')",
          "q_value": 0,
          "run": 89
         },
         {
          "location": "((2, 2), 'left')",
          "q_value": 0,
          "run": 90
         },
         {
          "location": "((2, 2), 'left')",
          "q_value": 0,
          "run": 91
         },
         {
          "location": "((2, 2), 'left')",
          "q_value": 0,
          "run": 92
         },
         {
          "location": "((2, 2), 'left')",
          "q_value": 0,
          "run": 93
         },
         {
          "location": "((2, 2), 'left')",
          "q_value": 0,
          "run": 94
         },
         {
          "location": "((2, 2), 'left')",
          "q_value": 0,
          "run": 95
         },
         {
          "location": "((2, 2), 'left')",
          "q_value": 0,
          "run": 96
         },
         {
          "location": "((2, 2), 'left')",
          "q_value": 0,
          "run": 97
         },
         {
          "location": "((2, 2), 'left')",
          "q_value": 0,
          "run": 98
         },
         {
          "location": "((2, 2), 'left')",
          "q_value": 0,
          "run": 99
         },
         {
          "location": "((2, 2), 'left')",
          "q_value": 0,
          "run": 100
         },
         {
          "location": "((2, 3), 'down')",
          "q_value": 0,
          "run": 0
         },
         {
          "location": "((2, 3), 'down')",
          "q_value": 0,
          "run": 1
         },
         {
          "location": "((2, 3), 'down')",
          "q_value": 0,
          "run": 2
         },
         {
          "location": "((2, 3), 'down')",
          "q_value": 0,
          "run": 3
         },
         {
          "location": "((2, 3), 'down')",
          "q_value": 0,
          "run": 4
         },
         {
          "location": "((2, 3), 'down')",
          "q_value": 0,
          "run": 5
         },
         {
          "location": "((2, 3), 'down')",
          "q_value": 0,
          "run": 6
         },
         {
          "location": "((2, 3), 'down')",
          "q_value": 0,
          "run": 7
         },
         {
          "location": "((2, 3), 'down')",
          "q_value": 0,
          "run": 8
         },
         {
          "location": "((2, 3), 'down')",
          "q_value": 0,
          "run": 9
         },
         {
          "location": "((2, 3), 'down')",
          "q_value": 0,
          "run": 10
         },
         {
          "location": "((2, 3), 'down')",
          "q_value": 0,
          "run": 11
         },
         {
          "location": "((2, 3), 'down')",
          "q_value": 0,
          "run": 12
         },
         {
          "location": "((2, 3), 'down')",
          "q_value": 0,
          "run": 13
         },
         {
          "location": "((2, 3), 'down')",
          "q_value": 0,
          "run": 14
         },
         {
          "location": "((2, 3), 'down')",
          "q_value": 0,
          "run": 15
         },
         {
          "location": "((2, 3), 'down')",
          "q_value": 0,
          "run": 16
         },
         {
          "location": "((2, 3), 'down')",
          "q_value": 0,
          "run": 17
         },
         {
          "location": "((2, 3), 'down')",
          "q_value": 0,
          "run": 18
         },
         {
          "location": "((2, 3), 'down')",
          "q_value": 0,
          "run": 19
         },
         {
          "location": "((2, 3), 'down')",
          "q_value": 0,
          "run": 20
         },
         {
          "location": "((2, 3), 'down')",
          "q_value": 0,
          "run": 21
         },
         {
          "location": "((2, 3), 'down')",
          "q_value": 0,
          "run": 22
         },
         {
          "location": "((2, 3), 'down')",
          "q_value": 0,
          "run": 23
         },
         {
          "location": "((2, 3), 'down')",
          "q_value": 0,
          "run": 24
         },
         {
          "location": "((2, 3), 'down')",
          "q_value": 0,
          "run": 25
         },
         {
          "location": "((2, 3), 'down')",
          "q_value": 0,
          "run": 26
         },
         {
          "location": "((2, 3), 'down')",
          "q_value": 0,
          "run": 27
         },
         {
          "location": "((2, 3), 'down')",
          "q_value": 0,
          "run": 28
         },
         {
          "location": "((2, 3), 'down')",
          "q_value": 0,
          "run": 29
         },
         {
          "location": "((2, 3), 'down')",
          "q_value": 0,
          "run": 30
         },
         {
          "location": "((2, 3), 'down')",
          "q_value": 0,
          "run": 31
         },
         {
          "location": "((2, 3), 'down')",
          "q_value": 0,
          "run": 32
         },
         {
          "location": "((2, 3), 'down')",
          "q_value": 0,
          "run": 33
         },
         {
          "location": "((2, 3), 'down')",
          "q_value": 0,
          "run": 34
         },
         {
          "location": "((2, 3), 'down')",
          "q_value": 0,
          "run": 35
         },
         {
          "location": "((2, 3), 'down')",
          "q_value": 0,
          "run": 36
         },
         {
          "location": "((2, 3), 'down')",
          "q_value": 0,
          "run": 37
         },
         {
          "location": "((2, 3), 'down')",
          "q_value": 0,
          "run": 38
         },
         {
          "location": "((2, 3), 'down')",
          "q_value": 0,
          "run": 39
         },
         {
          "location": "((2, 3), 'down')",
          "q_value": 0,
          "run": 40
         },
         {
          "location": "((2, 3), 'down')",
          "q_value": 0,
          "run": 41
         },
         {
          "location": "((2, 3), 'down')",
          "q_value": 0,
          "run": 42
         },
         {
          "location": "((2, 3), 'down')",
          "q_value": 0,
          "run": 43
         },
         {
          "location": "((2, 3), 'down')",
          "q_value": 0,
          "run": 44
         },
         {
          "location": "((2, 3), 'down')",
          "q_value": 0,
          "run": 45
         },
         {
          "location": "((2, 3), 'down')",
          "q_value": 0,
          "run": 46
         },
         {
          "location": "((2, 3), 'down')",
          "q_value": 0,
          "run": 47
         },
         {
          "location": "((2, 3), 'down')",
          "q_value": 0,
          "run": 48
         },
         {
          "location": "((2, 3), 'down')",
          "q_value": 0,
          "run": 49
         },
         {
          "location": "((2, 3), 'down')",
          "q_value": 0,
          "run": 50
         },
         {
          "location": "((2, 3), 'down')",
          "q_value": 0,
          "run": 51
         },
         {
          "location": "((2, 3), 'down')",
          "q_value": 0,
          "run": 52
         },
         {
          "location": "((2, 3), 'down')",
          "q_value": 0,
          "run": 53
         },
         {
          "location": "((2, 3), 'down')",
          "q_value": 0,
          "run": 54
         },
         {
          "location": "((2, 3), 'down')",
          "q_value": 0,
          "run": 55
         },
         {
          "location": "((2, 3), 'down')",
          "q_value": 0,
          "run": 56
         },
         {
          "location": "((2, 3), 'down')",
          "q_value": 0,
          "run": 57
         },
         {
          "location": "((2, 3), 'down')",
          "q_value": 0,
          "run": 58
         },
         {
          "location": "((2, 3), 'down')",
          "q_value": 0,
          "run": 59
         },
         {
          "location": "((2, 3), 'down')",
          "q_value": 0,
          "run": 60
         },
         {
          "location": "((2, 3), 'down')",
          "q_value": 0,
          "run": 61
         },
         {
          "location": "((2, 3), 'down')",
          "q_value": 0,
          "run": 62
         },
         {
          "location": "((2, 3), 'down')",
          "q_value": 0,
          "run": 63
         },
         {
          "location": "((2, 3), 'down')",
          "q_value": 0,
          "run": 64
         },
         {
          "location": "((2, 3), 'down')",
          "q_value": 0,
          "run": 65
         },
         {
          "location": "((2, 3), 'down')",
          "q_value": 0,
          "run": 66
         },
         {
          "location": "((2, 3), 'down')",
          "q_value": 0,
          "run": 67
         },
         {
          "location": "((2, 3), 'down')",
          "q_value": 0,
          "run": 68
         },
         {
          "location": "((2, 3), 'down')",
          "q_value": 0,
          "run": 69
         },
         {
          "location": "((2, 3), 'down')",
          "q_value": 0,
          "run": 70
         },
         {
          "location": "((2, 3), 'down')",
          "q_value": 0,
          "run": 71
         },
         {
          "location": "((2, 3), 'down')",
          "q_value": 0,
          "run": 72
         },
         {
          "location": "((2, 3), 'down')",
          "q_value": 0,
          "run": 73
         },
         {
          "location": "((2, 3), 'down')",
          "q_value": 0,
          "run": 74
         },
         {
          "location": "((2, 3), 'down')",
          "q_value": 0,
          "run": 75
         },
         {
          "location": "((2, 3), 'down')",
          "q_value": 0,
          "run": 76
         },
         {
          "location": "((2, 3), 'down')",
          "q_value": 0,
          "run": 77
         },
         {
          "location": "((2, 3), 'down')",
          "q_value": 0,
          "run": 78
         },
         {
          "location": "((2, 3), 'down')",
          "q_value": 0,
          "run": 79
         },
         {
          "location": "((2, 3), 'down')",
          "q_value": 0,
          "run": 80
         },
         {
          "location": "((2, 3), 'down')",
          "q_value": 0,
          "run": 81
         },
         {
          "location": "((2, 3), 'down')",
          "q_value": 0,
          "run": 82
         },
         {
          "location": "((2, 3), 'down')",
          "q_value": 0,
          "run": 83
         },
         {
          "location": "((2, 3), 'down')",
          "q_value": 0,
          "run": 84
         },
         {
          "location": "((2, 3), 'down')",
          "q_value": 0,
          "run": 85
         },
         {
          "location": "((2, 3), 'down')",
          "q_value": 0,
          "run": 86
         },
         {
          "location": "((2, 3), 'down')",
          "q_value": 0,
          "run": 87
         },
         {
          "location": "((2, 3), 'down')",
          "q_value": 0,
          "run": 88
         },
         {
          "location": "((2, 3), 'down')",
          "q_value": 0,
          "run": 89
         },
         {
          "location": "((2, 3), 'down')",
          "q_value": 0,
          "run": 90
         },
         {
          "location": "((2, 3), 'down')",
          "q_value": 0,
          "run": 91
         },
         {
          "location": "((2, 3), 'down')",
          "q_value": 0,
          "run": 92
         },
         {
          "location": "((2, 3), 'down')",
          "q_value": 0,
          "run": 93
         },
         {
          "location": "((2, 3), 'down')",
          "q_value": 0,
          "run": 94
         },
         {
          "location": "((2, 3), 'down')",
          "q_value": 0,
          "run": 95
         },
         {
          "location": "((2, 3), 'down')",
          "q_value": 0,
          "run": 96
         },
         {
          "location": "((2, 3), 'down')",
          "q_value": 0,
          "run": 97
         },
         {
          "location": "((2, 3), 'down')",
          "q_value": 0,
          "run": 98
         },
         {
          "location": "((2, 3), 'down')",
          "q_value": 0,
          "run": 99
         },
         {
          "location": "((2, 3), 'down')",
          "q_value": 0,
          "run": 100
         },
         {
          "location": "((2, 3), 'right')",
          "q_value": 0,
          "run": 0
         },
         {
          "location": "((2, 3), 'right')",
          "q_value": 0,
          "run": 1
         },
         {
          "location": "((2, 3), 'right')",
          "q_value": 0,
          "run": 2
         },
         {
          "location": "((2, 3), 'right')",
          "q_value": 0,
          "run": 3
         },
         {
          "location": "((2, 3), 'right')",
          "q_value": 0,
          "run": 4
         },
         {
          "location": "((2, 3), 'right')",
          "q_value": 0,
          "run": 5
         },
         {
          "location": "((2, 3), 'right')",
          "q_value": 0,
          "run": 6
         },
         {
          "location": "((2, 3), 'right')",
          "q_value": 0,
          "run": 7
         },
         {
          "location": "((2, 3), 'right')",
          "q_value": 0,
          "run": 8
         },
         {
          "location": "((2, 3), 'right')",
          "q_value": 0,
          "run": 9
         },
         {
          "location": "((2, 3), 'right')",
          "q_value": 0,
          "run": 10
         },
         {
          "location": "((2, 3), 'right')",
          "q_value": 0,
          "run": 11
         },
         {
          "location": "((2, 3), 'right')",
          "q_value": 0,
          "run": 12
         },
         {
          "location": "((2, 3), 'right')",
          "q_value": 0,
          "run": 13
         },
         {
          "location": "((2, 3), 'right')",
          "q_value": 0,
          "run": 14
         },
         {
          "location": "((2, 3), 'right')",
          "q_value": 0,
          "run": 15
         },
         {
          "location": "((2, 3), 'right')",
          "q_value": 0,
          "run": 16
         },
         {
          "location": "((2, 3), 'right')",
          "q_value": 0,
          "run": 17
         },
         {
          "location": "((2, 3), 'right')",
          "q_value": 0,
          "run": 18
         },
         {
          "location": "((2, 3), 'right')",
          "q_value": 0,
          "run": 19
         },
         {
          "location": "((2, 3), 'right')",
          "q_value": 0,
          "run": 20
         },
         {
          "location": "((2, 3), 'right')",
          "q_value": 0,
          "run": 21
         },
         {
          "location": "((2, 3), 'right')",
          "q_value": 0,
          "run": 22
         },
         {
          "location": "((2, 3), 'right')",
          "q_value": 0,
          "run": 23
         },
         {
          "location": "((2, 3), 'right')",
          "q_value": 0,
          "run": 24
         },
         {
          "location": "((2, 3), 'right')",
          "q_value": 0,
          "run": 25
         },
         {
          "location": "((2, 3), 'right')",
          "q_value": 0,
          "run": 26
         },
         {
          "location": "((2, 3), 'right')",
          "q_value": 0,
          "run": 27
         },
         {
          "location": "((2, 3), 'right')",
          "q_value": 0,
          "run": 28
         },
         {
          "location": "((2, 3), 'right')",
          "q_value": 0,
          "run": 29
         },
         {
          "location": "((2, 3), 'right')",
          "q_value": 0,
          "run": 30
         },
         {
          "location": "((2, 3), 'right')",
          "q_value": 0,
          "run": 31
         },
         {
          "location": "((2, 3), 'right')",
          "q_value": 0,
          "run": 32
         },
         {
          "location": "((2, 3), 'right')",
          "q_value": 0,
          "run": 33
         },
         {
          "location": "((2, 3), 'right')",
          "q_value": 0,
          "run": 34
         },
         {
          "location": "((2, 3), 'right')",
          "q_value": 0,
          "run": 35
         },
         {
          "location": "((2, 3), 'right')",
          "q_value": 0,
          "run": 36
         },
         {
          "location": "((2, 3), 'right')",
          "q_value": 0,
          "run": 37
         },
         {
          "location": "((2, 3), 'right')",
          "q_value": 0,
          "run": 38
         },
         {
          "location": "((2, 3), 'right')",
          "q_value": 0,
          "run": 39
         },
         {
          "location": "((2, 3), 'right')",
          "q_value": 0,
          "run": 40
         },
         {
          "location": "((2, 3), 'right')",
          "q_value": 0,
          "run": 41
         },
         {
          "location": "((2, 3), 'right')",
          "q_value": 0,
          "run": 42
         },
         {
          "location": "((2, 3), 'right')",
          "q_value": 0,
          "run": 43
         },
         {
          "location": "((2, 3), 'right')",
          "q_value": 0,
          "run": 44
         },
         {
          "location": "((2, 3), 'right')",
          "q_value": 0,
          "run": 45
         },
         {
          "location": "((2, 3), 'right')",
          "q_value": 0,
          "run": 46
         },
         {
          "location": "((2, 3), 'right')",
          "q_value": 0,
          "run": 47
         },
         {
          "location": "((2, 3), 'right')",
          "q_value": 0,
          "run": 48
         },
         {
          "location": "((2, 3), 'right')",
          "q_value": 0,
          "run": 49
         },
         {
          "location": "((2, 3), 'right')",
          "q_value": 0,
          "run": 50
         },
         {
          "location": "((2, 3), 'right')",
          "q_value": 0,
          "run": 51
         },
         {
          "location": "((2, 3), 'right')",
          "q_value": 0,
          "run": 52
         },
         {
          "location": "((2, 3), 'right')",
          "q_value": 0,
          "run": 53
         },
         {
          "location": "((2, 3), 'right')",
          "q_value": 0,
          "run": 54
         },
         {
          "location": "((2, 3), 'right')",
          "q_value": 0,
          "run": 55
         },
         {
          "location": "((2, 3), 'right')",
          "q_value": 0,
          "run": 56
         },
         {
          "location": "((2, 3), 'right')",
          "q_value": 0,
          "run": 57
         },
         {
          "location": "((2, 3), 'right')",
          "q_value": 0,
          "run": 58
         },
         {
          "location": "((2, 3), 'right')",
          "q_value": 0,
          "run": 59
         },
         {
          "location": "((2, 3), 'right')",
          "q_value": 0,
          "run": 60
         },
         {
          "location": "((2, 3), 'right')",
          "q_value": 0,
          "run": 61
         },
         {
          "location": "((2, 3), 'right')",
          "q_value": 0,
          "run": 62
         },
         {
          "location": "((2, 3), 'right')",
          "q_value": 0,
          "run": 63
         },
         {
          "location": "((2, 3), 'right')",
          "q_value": 0,
          "run": 64
         },
         {
          "location": "((2, 3), 'right')",
          "q_value": 0,
          "run": 65
         },
         {
          "location": "((2, 3), 'right')",
          "q_value": 0,
          "run": 66
         },
         {
          "location": "((2, 3), 'right')",
          "q_value": 0,
          "run": 67
         },
         {
          "location": "((2, 3), 'right')",
          "q_value": 0,
          "run": 68
         },
         {
          "location": "((2, 3), 'right')",
          "q_value": 0,
          "run": 69
         },
         {
          "location": "((2, 3), 'right')",
          "q_value": 0,
          "run": 70
         },
         {
          "location": "((2, 3), 'right')",
          "q_value": 0,
          "run": 71
         },
         {
          "location": "((2, 3), 'right')",
          "q_value": 0,
          "run": 72
         },
         {
          "location": "((2, 3), 'right')",
          "q_value": 0,
          "run": 73
         },
         {
          "location": "((2, 3), 'right')",
          "q_value": 0,
          "run": 74
         },
         {
          "location": "((2, 3), 'right')",
          "q_value": 0,
          "run": 75
         },
         {
          "location": "((2, 3), 'right')",
          "q_value": 0,
          "run": 76
         },
         {
          "location": "((2, 3), 'right')",
          "q_value": 0,
          "run": 77
         },
         {
          "location": "((2, 3), 'right')",
          "q_value": 0,
          "run": 78
         },
         {
          "location": "((2, 3), 'right')",
          "q_value": 0,
          "run": 79
         },
         {
          "location": "((2, 3), 'right')",
          "q_value": 0,
          "run": 80
         },
         {
          "location": "((2, 3), 'right')",
          "q_value": 0,
          "run": 81
         },
         {
          "location": "((2, 3), 'right')",
          "q_value": 0,
          "run": 82
         },
         {
          "location": "((2, 3), 'right')",
          "q_value": 0,
          "run": 83
         },
         {
          "location": "((2, 3), 'right')",
          "q_value": 0,
          "run": 84
         },
         {
          "location": "((2, 3), 'right')",
          "q_value": 0,
          "run": 85
         },
         {
          "location": "((2, 3), 'right')",
          "q_value": 0,
          "run": 86
         },
         {
          "location": "((2, 3), 'right')",
          "q_value": 0,
          "run": 87
         },
         {
          "location": "((2, 3), 'right')",
          "q_value": 0,
          "run": 88
         },
         {
          "location": "((2, 3), 'right')",
          "q_value": 0,
          "run": 89
         },
         {
          "location": "((2, 3), 'right')",
          "q_value": 0,
          "run": 90
         },
         {
          "location": "((2, 3), 'right')",
          "q_value": 0,
          "run": 91
         },
         {
          "location": "((2, 3), 'right')",
          "q_value": 0,
          "run": 92
         },
         {
          "location": "((2, 3), 'right')",
          "q_value": 0,
          "run": 93
         },
         {
          "location": "((2, 3), 'right')",
          "q_value": 0,
          "run": 94
         },
         {
          "location": "((2, 3), 'right')",
          "q_value": 0,
          "run": 95
         },
         {
          "location": "((2, 3), 'right')",
          "q_value": 0,
          "run": 96
         },
         {
          "location": "((2, 3), 'right')",
          "q_value": 0,
          "run": 97
         },
         {
          "location": "((2, 3), 'right')",
          "q_value": 0,
          "run": 98
         },
         {
          "location": "((2, 3), 'right')",
          "q_value": 0,
          "run": 99
         },
         {
          "location": "((2, 3), 'right')",
          "q_value": 0,
          "run": 100
         },
         {
          "location": "((2, 3), 'up')",
          "q_value": 0,
          "run": 0
         },
         {
          "location": "((2, 3), 'up')",
          "q_value": 0,
          "run": 1
         },
         {
          "location": "((2, 3), 'up')",
          "q_value": 0,
          "run": 2
         },
         {
          "location": "((2, 3), 'up')",
          "q_value": 0,
          "run": 3
         },
         {
          "location": "((2, 3), 'up')",
          "q_value": 0,
          "run": 4
         },
         {
          "location": "((2, 3), 'up')",
          "q_value": 0,
          "run": 5
         },
         {
          "location": "((2, 3), 'up')",
          "q_value": 0,
          "run": 6
         },
         {
          "location": "((2, 3), 'up')",
          "q_value": 0,
          "run": 7
         },
         {
          "location": "((2, 3), 'up')",
          "q_value": 0,
          "run": 8
         },
         {
          "location": "((2, 3), 'up')",
          "q_value": 0,
          "run": 9
         },
         {
          "location": "((2, 3), 'up')",
          "q_value": 0,
          "run": 10
         },
         {
          "location": "((2, 3), 'up')",
          "q_value": 0,
          "run": 11
         },
         {
          "location": "((2, 3), 'up')",
          "q_value": 0,
          "run": 12
         },
         {
          "location": "((2, 3), 'up')",
          "q_value": 0,
          "run": 13
         },
         {
          "location": "((2, 3), 'up')",
          "q_value": 0,
          "run": 14
         },
         {
          "location": "((2, 3), 'up')",
          "q_value": 0,
          "run": 15
         },
         {
          "location": "((2, 3), 'up')",
          "q_value": 0,
          "run": 16
         },
         {
          "location": "((2, 3), 'up')",
          "q_value": 0,
          "run": 17
         },
         {
          "location": "((2, 3), 'up')",
          "q_value": 0,
          "run": 18
         },
         {
          "location": "((2, 3), 'up')",
          "q_value": 0,
          "run": 19
         },
         {
          "location": "((2, 3), 'up')",
          "q_value": 0,
          "run": 20
         },
         {
          "location": "((2, 3), 'up')",
          "q_value": 0,
          "run": 21
         },
         {
          "location": "((2, 3), 'up')",
          "q_value": 0,
          "run": 22
         },
         {
          "location": "((2, 3), 'up')",
          "q_value": 0,
          "run": 23
         },
         {
          "location": "((2, 3), 'up')",
          "q_value": 0,
          "run": 24
         },
         {
          "location": "((2, 3), 'up')",
          "q_value": 0,
          "run": 25
         },
         {
          "location": "((2, 3), 'up')",
          "q_value": 0,
          "run": 26
         },
         {
          "location": "((2, 3), 'up')",
          "q_value": 0,
          "run": 27
         },
         {
          "location": "((2, 3), 'up')",
          "q_value": 0,
          "run": 28
         },
         {
          "location": "((2, 3), 'up')",
          "q_value": 0,
          "run": 29
         },
         {
          "location": "((2, 3), 'up')",
          "q_value": 0,
          "run": 30
         },
         {
          "location": "((2, 3), 'up')",
          "q_value": 0,
          "run": 31
         },
         {
          "location": "((2, 3), 'up')",
          "q_value": 0,
          "run": 32
         },
         {
          "location": "((2, 3), 'up')",
          "q_value": 0,
          "run": 33
         },
         {
          "location": "((2, 3), 'up')",
          "q_value": 0,
          "run": 34
         },
         {
          "location": "((2, 3), 'up')",
          "q_value": 0,
          "run": 35
         },
         {
          "location": "((2, 3), 'up')",
          "q_value": 0,
          "run": 36
         },
         {
          "location": "((2, 3), 'up')",
          "q_value": 0,
          "run": 37
         },
         {
          "location": "((2, 3), 'up')",
          "q_value": 0,
          "run": 38
         },
         {
          "location": "((2, 3), 'up')",
          "q_value": 0,
          "run": 39
         },
         {
          "location": "((2, 3), 'up')",
          "q_value": 0,
          "run": 40
         },
         {
          "location": "((2, 3), 'up')",
          "q_value": 0,
          "run": 41
         },
         {
          "location": "((2, 3), 'up')",
          "q_value": 0,
          "run": 42
         },
         {
          "location": "((2, 3), 'up')",
          "q_value": 0,
          "run": 43
         },
         {
          "location": "((2, 3), 'up')",
          "q_value": 0,
          "run": 44
         },
         {
          "location": "((2, 3), 'up')",
          "q_value": 0,
          "run": 45
         },
         {
          "location": "((2, 3), 'up')",
          "q_value": 0,
          "run": 46
         },
         {
          "location": "((2, 3), 'up')",
          "q_value": 0,
          "run": 47
         },
         {
          "location": "((2, 3), 'up')",
          "q_value": 0,
          "run": 48
         },
         {
          "location": "((2, 3), 'up')",
          "q_value": 0,
          "run": 49
         },
         {
          "location": "((2, 3), 'up')",
          "q_value": 0,
          "run": 50
         },
         {
          "location": "((2, 3), 'up')",
          "q_value": 0,
          "run": 51
         },
         {
          "location": "((2, 3), 'up')",
          "q_value": 0,
          "run": 52
         },
         {
          "location": "((2, 3), 'up')",
          "q_value": 0,
          "run": 53
         },
         {
          "location": "((2, 3), 'up')",
          "q_value": 0,
          "run": 54
         },
         {
          "location": "((2, 3), 'up')",
          "q_value": 0,
          "run": 55
         },
         {
          "location": "((2, 3), 'up')",
          "q_value": 0,
          "run": 56
         },
         {
          "location": "((2, 3), 'up')",
          "q_value": 0,
          "run": 57
         },
         {
          "location": "((2, 3), 'up')",
          "q_value": 0,
          "run": 58
         },
         {
          "location": "((2, 3), 'up')",
          "q_value": 0,
          "run": 59
         },
         {
          "location": "((2, 3), 'up')",
          "q_value": 0,
          "run": 60
         },
         {
          "location": "((2, 3), 'up')",
          "q_value": 0,
          "run": 61
         },
         {
          "location": "((2, 3), 'up')",
          "q_value": 0,
          "run": 62
         },
         {
          "location": "((2, 3), 'up')",
          "q_value": 0,
          "run": 63
         },
         {
          "location": "((2, 3), 'up')",
          "q_value": 0,
          "run": 64
         },
         {
          "location": "((2, 3), 'up')",
          "q_value": 0,
          "run": 65
         },
         {
          "location": "((2, 3), 'up')",
          "q_value": 0,
          "run": 66
         },
         {
          "location": "((2, 3), 'up')",
          "q_value": 0,
          "run": 67
         },
         {
          "location": "((2, 3), 'up')",
          "q_value": 0,
          "run": 68
         },
         {
          "location": "((2, 3), 'up')",
          "q_value": 0,
          "run": 69
         },
         {
          "location": "((2, 3), 'up')",
          "q_value": 0,
          "run": 70
         },
         {
          "location": "((2, 3), 'up')",
          "q_value": 0,
          "run": 71
         },
         {
          "location": "((2, 3), 'up')",
          "q_value": 0,
          "run": 72
         },
         {
          "location": "((2, 3), 'up')",
          "q_value": 0,
          "run": 73
         },
         {
          "location": "((2, 3), 'up')",
          "q_value": 0,
          "run": 74
         },
         {
          "location": "((2, 3), 'up')",
          "q_value": 0,
          "run": 75
         },
         {
          "location": "((2, 3), 'up')",
          "q_value": 0,
          "run": 76
         },
         {
          "location": "((2, 3), 'up')",
          "q_value": 0,
          "run": 77
         },
         {
          "location": "((2, 3), 'up')",
          "q_value": 0,
          "run": 78
         },
         {
          "location": "((2, 3), 'up')",
          "q_value": 0,
          "run": 79
         },
         {
          "location": "((2, 3), 'up')",
          "q_value": 0,
          "run": 80
         },
         {
          "location": "((2, 3), 'up')",
          "q_value": 0,
          "run": 81
         },
         {
          "location": "((2, 3), 'up')",
          "q_value": 0,
          "run": 82
         },
         {
          "location": "((2, 3), 'up')",
          "q_value": 0,
          "run": 83
         },
         {
          "location": "((2, 3), 'up')",
          "q_value": 0,
          "run": 84
         },
         {
          "location": "((2, 3), 'up')",
          "q_value": 0,
          "run": 85
         },
         {
          "location": "((2, 3), 'up')",
          "q_value": 0,
          "run": 86
         },
         {
          "location": "((2, 3), 'up')",
          "q_value": 0,
          "run": 87
         },
         {
          "location": "((2, 3), 'up')",
          "q_value": 0,
          "run": 88
         },
         {
          "location": "((2, 3), 'up')",
          "q_value": 0,
          "run": 89
         },
         {
          "location": "((2, 3), 'up')",
          "q_value": 0,
          "run": 90
         },
         {
          "location": "((2, 3), 'up')",
          "q_value": 0,
          "run": 91
         },
         {
          "location": "((2, 3), 'up')",
          "q_value": 0,
          "run": 92
         },
         {
          "location": "((2, 3), 'up')",
          "q_value": 0,
          "run": 93
         },
         {
          "location": "((2, 3), 'up')",
          "q_value": 0,
          "run": 94
         },
         {
          "location": "((2, 3), 'up')",
          "q_value": 0,
          "run": 95
         },
         {
          "location": "((2, 3), 'up')",
          "q_value": 0,
          "run": 96
         },
         {
          "location": "((2, 3), 'up')",
          "q_value": 0,
          "run": 97
         },
         {
          "location": "((2, 3), 'up')",
          "q_value": 0,
          "run": 98
         },
         {
          "location": "((2, 3), 'up')",
          "q_value": 0,
          "run": 99
         },
         {
          "location": "((2, 3), 'up')",
          "q_value": 0,
          "run": 100
         },
         {
          "location": "((2, 3), 'left')",
          "q_value": 0,
          "run": 0
         },
         {
          "location": "((2, 3), 'left')",
          "q_value": 0,
          "run": 1
         },
         {
          "location": "((2, 3), 'left')",
          "q_value": 0,
          "run": 2
         },
         {
          "location": "((2, 3), 'left')",
          "q_value": 0,
          "run": 3
         },
         {
          "location": "((2, 3), 'left')",
          "q_value": 0,
          "run": 4
         },
         {
          "location": "((2, 3), 'left')",
          "q_value": 0,
          "run": 5
         },
         {
          "location": "((2, 3), 'left')",
          "q_value": 0,
          "run": 6
         },
         {
          "location": "((2, 3), 'left')",
          "q_value": 0,
          "run": 7
         },
         {
          "location": "((2, 3), 'left')",
          "q_value": 0,
          "run": 8
         },
         {
          "location": "((2, 3), 'left')",
          "q_value": 0,
          "run": 9
         },
         {
          "location": "((2, 3), 'left')",
          "q_value": 0,
          "run": 10
         },
         {
          "location": "((2, 3), 'left')",
          "q_value": 0,
          "run": 11
         },
         {
          "location": "((2, 3), 'left')",
          "q_value": 0,
          "run": 12
         },
         {
          "location": "((2, 3), 'left')",
          "q_value": 0,
          "run": 13
         },
         {
          "location": "((2, 3), 'left')",
          "q_value": 0,
          "run": 14
         },
         {
          "location": "((2, 3), 'left')",
          "q_value": 0,
          "run": 15
         },
         {
          "location": "((2, 3), 'left')",
          "q_value": 0,
          "run": 16
         },
         {
          "location": "((2, 3), 'left')",
          "q_value": 0,
          "run": 17
         },
         {
          "location": "((2, 3), 'left')",
          "q_value": 0,
          "run": 18
         },
         {
          "location": "((2, 3), 'left')",
          "q_value": 0,
          "run": 19
         },
         {
          "location": "((2, 3), 'left')",
          "q_value": 0,
          "run": 20
         },
         {
          "location": "((2, 3), 'left')",
          "q_value": 0,
          "run": 21
         },
         {
          "location": "((2, 3), 'left')",
          "q_value": 0,
          "run": 22
         },
         {
          "location": "((2, 3), 'left')",
          "q_value": 0,
          "run": 23
         },
         {
          "location": "((2, 3), 'left')",
          "q_value": 0,
          "run": 24
         },
         {
          "location": "((2, 3), 'left')",
          "q_value": 0,
          "run": 25
         },
         {
          "location": "((2, 3), 'left')",
          "q_value": 0,
          "run": 26
         },
         {
          "location": "((2, 3), 'left')",
          "q_value": 0,
          "run": 27
         },
         {
          "location": "((2, 3), 'left')",
          "q_value": 0,
          "run": 28
         },
         {
          "location": "((2, 3), 'left')",
          "q_value": 0,
          "run": 29
         },
         {
          "location": "((2, 3), 'left')",
          "q_value": 0,
          "run": 30
         },
         {
          "location": "((2, 3), 'left')",
          "q_value": 0,
          "run": 31
         },
         {
          "location": "((2, 3), 'left')",
          "q_value": 0,
          "run": 32
         },
         {
          "location": "((2, 3), 'left')",
          "q_value": 0,
          "run": 33
         },
         {
          "location": "((2, 3), 'left')",
          "q_value": 0,
          "run": 34
         },
         {
          "location": "((2, 3), 'left')",
          "q_value": 0,
          "run": 35
         },
         {
          "location": "((2, 3), 'left')",
          "q_value": 0,
          "run": 36
         },
         {
          "location": "((2, 3), 'left')",
          "q_value": 0,
          "run": 37
         },
         {
          "location": "((2, 3), 'left')",
          "q_value": 0,
          "run": 38
         },
         {
          "location": "((2, 3), 'left')",
          "q_value": 0,
          "run": 39
         },
         {
          "location": "((2, 3), 'left')",
          "q_value": 0,
          "run": 40
         },
         {
          "location": "((2, 3), 'left')",
          "q_value": 0,
          "run": 41
         },
         {
          "location": "((2, 3), 'left')",
          "q_value": 0,
          "run": 42
         },
         {
          "location": "((2, 3), 'left')",
          "q_value": 0,
          "run": 43
         },
         {
          "location": "((2, 3), 'left')",
          "q_value": 0,
          "run": 44
         },
         {
          "location": "((2, 3), 'left')",
          "q_value": 0,
          "run": 45
         },
         {
          "location": "((2, 3), 'left')",
          "q_value": 0,
          "run": 46
         },
         {
          "location": "((2, 3), 'left')",
          "q_value": 0,
          "run": 47
         },
         {
          "location": "((2, 3), 'left')",
          "q_value": 0,
          "run": 48
         },
         {
          "location": "((2, 3), 'left')",
          "q_value": 0,
          "run": 49
         },
         {
          "location": "((2, 3), 'left')",
          "q_value": 0,
          "run": 50
         },
         {
          "location": "((2, 3), 'left')",
          "q_value": 0,
          "run": 51
         },
         {
          "location": "((2, 3), 'left')",
          "q_value": 0,
          "run": 52
         },
         {
          "location": "((2, 3), 'left')",
          "q_value": 0,
          "run": 53
         },
         {
          "location": "((2, 3), 'left')",
          "q_value": 0,
          "run": 54
         },
         {
          "location": "((2, 3), 'left')",
          "q_value": 0,
          "run": 55
         },
         {
          "location": "((2, 3), 'left')",
          "q_value": 0,
          "run": 56
         },
         {
          "location": "((2, 3), 'left')",
          "q_value": 0,
          "run": 57
         },
         {
          "location": "((2, 3), 'left')",
          "q_value": 0,
          "run": 58
         },
         {
          "location": "((2, 3), 'left')",
          "q_value": 0,
          "run": 59
         },
         {
          "location": "((2, 3), 'left')",
          "q_value": 0,
          "run": 60
         },
         {
          "location": "((2, 3), 'left')",
          "q_value": 0,
          "run": 61
         },
         {
          "location": "((2, 3), 'left')",
          "q_value": 0,
          "run": 62
         },
         {
          "location": "((2, 3), 'left')",
          "q_value": 0,
          "run": 63
         },
         {
          "location": "((2, 3), 'left')",
          "q_value": 0,
          "run": 64
         },
         {
          "location": "((2, 3), 'left')",
          "q_value": 0,
          "run": 65
         },
         {
          "location": "((2, 3), 'left')",
          "q_value": 0,
          "run": 66
         },
         {
          "location": "((2, 3), 'left')",
          "q_value": 0,
          "run": 67
         },
         {
          "location": "((2, 3), 'left')",
          "q_value": 0,
          "run": 68
         },
         {
          "location": "((2, 3), 'left')",
          "q_value": 0,
          "run": 69
         },
         {
          "location": "((2, 3), 'left')",
          "q_value": 0,
          "run": 70
         },
         {
          "location": "((2, 3), 'left')",
          "q_value": 0,
          "run": 71
         },
         {
          "location": "((2, 3), 'left')",
          "q_value": 0,
          "run": 72
         },
         {
          "location": "((2, 3), 'left')",
          "q_value": 0,
          "run": 73
         },
         {
          "location": "((2, 3), 'left')",
          "q_value": 0,
          "run": 74
         },
         {
          "location": "((2, 3), 'left')",
          "q_value": 0,
          "run": 75
         },
         {
          "location": "((2, 3), 'left')",
          "q_value": 0,
          "run": 76
         },
         {
          "location": "((2, 3), 'left')",
          "q_value": 0,
          "run": 77
         },
         {
          "location": "((2, 3), 'left')",
          "q_value": 0,
          "run": 78
         },
         {
          "location": "((2, 3), 'left')",
          "q_value": 0,
          "run": 79
         },
         {
          "location": "((2, 3), 'left')",
          "q_value": 0,
          "run": 80
         },
         {
          "location": "((2, 3), 'left')",
          "q_value": 0,
          "run": 81
         },
         {
          "location": "((2, 3), 'left')",
          "q_value": 0,
          "run": 82
         },
         {
          "location": "((2, 3), 'left')",
          "q_value": 0,
          "run": 83
         },
         {
          "location": "((2, 3), 'left')",
          "q_value": 0,
          "run": 84
         },
         {
          "location": "((2, 3), 'left')",
          "q_value": 0,
          "run": 85
         },
         {
          "location": "((2, 3), 'left')",
          "q_value": 0,
          "run": 86
         },
         {
          "location": "((2, 3), 'left')",
          "q_value": 0,
          "run": 87
         },
         {
          "location": "((2, 3), 'left')",
          "q_value": 0,
          "run": 88
         },
         {
          "location": "((2, 3), 'left')",
          "q_value": 0,
          "run": 89
         },
         {
          "location": "((2, 3), 'left')",
          "q_value": 0,
          "run": 90
         },
         {
          "location": "((2, 3), 'left')",
          "q_value": 0,
          "run": 91
         },
         {
          "location": "((2, 3), 'left')",
          "q_value": 0,
          "run": 92
         },
         {
          "location": "((2, 3), 'left')",
          "q_value": 0,
          "run": 93
         },
         {
          "location": "((2, 3), 'left')",
          "q_value": 0,
          "run": 94
         },
         {
          "location": "((2, 3), 'left')",
          "q_value": 0,
          "run": 95
         },
         {
          "location": "((2, 3), 'left')",
          "q_value": 0,
          "run": 96
         },
         {
          "location": "((2, 3), 'left')",
          "q_value": 0,
          "run": 97
         },
         {
          "location": "((2, 3), 'left')",
          "q_value": 0,
          "run": 98
         },
         {
          "location": "((2, 3), 'left')",
          "q_value": 0,
          "run": 99
         },
         {
          "location": "((2, 3), 'left')",
          "q_value": 0,
          "run": 100
         },
         {
          "location": "((3, 0), 'down')",
          "q_value": 0,
          "run": 0
         },
         {
          "location": "((3, 0), 'down')",
          "q_value": -0.19,
          "run": 1
         },
         {
          "location": "((3, 0), 'down')",
          "q_value": -0.19,
          "run": 2
         },
         {
          "location": "((3, 0), 'down')",
          "q_value": -0.19,
          "run": 3
         },
         {
          "location": "((3, 0), 'down')",
          "q_value": -0.19,
          "run": 4
         },
         {
          "location": "((3, 0), 'down')",
          "q_value": -0.19,
          "run": 5
         },
         {
          "location": "((3, 0), 'down')",
          "q_value": -0.19,
          "run": 6
         },
         {
          "location": "((3, 0), 'down')",
          "q_value": -0.19,
          "run": 7
         },
         {
          "location": "((3, 0), 'down')",
          "q_value": -0.19,
          "run": 8
         },
         {
          "location": "((3, 0), 'down')",
          "q_value": -0.19,
          "run": 9
         },
         {
          "location": "((3, 0), 'down')",
          "q_value": -0.19,
          "run": 10
         },
         {
          "location": "((3, 0), 'down')",
          "q_value": -0.19,
          "run": 11
         },
         {
          "location": "((3, 0), 'down')",
          "q_value": -0.19,
          "run": 12
         },
         {
          "location": "((3, 0), 'down')",
          "q_value": -0.19,
          "run": 13
         },
         {
          "location": "((3, 0), 'down')",
          "q_value": -0.19,
          "run": 14
         },
         {
          "location": "((3, 0), 'down')",
          "q_value": -0.19,
          "run": 15
         },
         {
          "location": "((3, 0), 'down')",
          "q_value": -0.19,
          "run": 16
         },
         {
          "location": "((3, 0), 'down')",
          "q_value": -0.19,
          "run": 17
         },
         {
          "location": "((3, 0), 'down')",
          "q_value": -0.19,
          "run": 18
         },
         {
          "location": "((3, 0), 'down')",
          "q_value": -0.19,
          "run": 19
         },
         {
          "location": "((3, 0), 'down')",
          "q_value": -0.19,
          "run": 20
         },
         {
          "location": "((3, 0), 'down')",
          "q_value": -0.19,
          "run": 21
         },
         {
          "location": "((3, 0), 'down')",
          "q_value": -0.19,
          "run": 22
         },
         {
          "location": "((3, 0), 'down')",
          "q_value": -0.19,
          "run": 23
         },
         {
          "location": "((3, 0), 'down')",
          "q_value": -0.19,
          "run": 24
         },
         {
          "location": "((3, 0), 'down')",
          "q_value": -0.19,
          "run": 25
         },
         {
          "location": "((3, 0), 'down')",
          "q_value": -0.19,
          "run": 26
         },
         {
          "location": "((3, 0), 'down')",
          "q_value": -0.19,
          "run": 27
         },
         {
          "location": "((3, 0), 'down')",
          "q_value": -0.19,
          "run": 28
         },
         {
          "location": "((3, 0), 'down')",
          "q_value": -0.19,
          "run": 29
         },
         {
          "location": "((3, 0), 'down')",
          "q_value": -0.19,
          "run": 30
         },
         {
          "location": "((3, 0), 'down')",
          "q_value": -0.19,
          "run": 31
         },
         {
          "location": "((3, 0), 'down')",
          "q_value": -0.19,
          "run": 32
         },
         {
          "location": "((3, 0), 'down')",
          "q_value": -0.19,
          "run": 33
         },
         {
          "location": "((3, 0), 'down')",
          "q_value": -0.19,
          "run": 34
         },
         {
          "location": "((3, 0), 'down')",
          "q_value": -0.19,
          "run": 35
         },
         {
          "location": "((3, 0), 'down')",
          "q_value": -0.19,
          "run": 36
         },
         {
          "location": "((3, 0), 'down')",
          "q_value": -0.19,
          "run": 37
         },
         {
          "location": "((3, 0), 'down')",
          "q_value": -0.19,
          "run": 38
         },
         {
          "location": "((3, 0), 'down')",
          "q_value": -0.19,
          "run": 39
         },
         {
          "location": "((3, 0), 'down')",
          "q_value": -0.19,
          "run": 40
         },
         {
          "location": "((3, 0), 'down')",
          "q_value": -0.19,
          "run": 41
         },
         {
          "location": "((3, 0), 'down')",
          "q_value": -0.19,
          "run": 42
         },
         {
          "location": "((3, 0), 'down')",
          "q_value": -0.19,
          "run": 43
         },
         {
          "location": "((3, 0), 'down')",
          "q_value": -0.19,
          "run": 44
         },
         {
          "location": "((3, 0), 'down')",
          "q_value": -0.19,
          "run": 45
         },
         {
          "location": "((3, 0), 'down')",
          "q_value": -0.19,
          "run": 46
         },
         {
          "location": "((3, 0), 'down')",
          "q_value": -0.19,
          "run": 47
         },
         {
          "location": "((3, 0), 'down')",
          "q_value": -0.19,
          "run": 48
         },
         {
          "location": "((3, 0), 'down')",
          "q_value": -0.19,
          "run": 49
         },
         {
          "location": "((3, 0), 'down')",
          "q_value": -0.19,
          "run": 50
         },
         {
          "location": "((3, 0), 'down')",
          "q_value": -0.19,
          "run": 51
         },
         {
          "location": "((3, 0), 'down')",
          "q_value": -0.19,
          "run": 52
         },
         {
          "location": "((3, 0), 'down')",
          "q_value": -0.19,
          "run": 53
         },
         {
          "location": "((3, 0), 'down')",
          "q_value": -0.19,
          "run": 54
         },
         {
          "location": "((3, 0), 'down')",
          "q_value": -0.19,
          "run": 55
         },
         {
          "location": "((3, 0), 'down')",
          "q_value": -0.19,
          "run": 56
         },
         {
          "location": "((3, 0), 'down')",
          "q_value": -0.19,
          "run": 57
         },
         {
          "location": "((3, 0), 'down')",
          "q_value": -0.19,
          "run": 58
         },
         {
          "location": "((3, 0), 'down')",
          "q_value": -0.19,
          "run": 59
         },
         {
          "location": "((3, 0), 'down')",
          "q_value": -0.19,
          "run": 60
         },
         {
          "location": "((3, 0), 'down')",
          "q_value": -0.19,
          "run": 61
         },
         {
          "location": "((3, 0), 'down')",
          "q_value": -0.19,
          "run": 62
         },
         {
          "location": "((3, 0), 'down')",
          "q_value": -0.19,
          "run": 63
         },
         {
          "location": "((3, 0), 'down')",
          "q_value": -0.19,
          "run": 64
         },
         {
          "location": "((3, 0), 'down')",
          "q_value": -0.19,
          "run": 65
         },
         {
          "location": "((3, 0), 'down')",
          "q_value": -0.19,
          "run": 66
         },
         {
          "location": "((3, 0), 'down')",
          "q_value": -0.19,
          "run": 67
         },
         {
          "location": "((3, 0), 'down')",
          "q_value": -0.19,
          "run": 68
         },
         {
          "location": "((3, 0), 'down')",
          "q_value": -0.19,
          "run": 69
         },
         {
          "location": "((3, 0), 'down')",
          "q_value": -0.19,
          "run": 70
         },
         {
          "location": "((3, 0), 'down')",
          "q_value": -0.19,
          "run": 71
         },
         {
          "location": "((3, 0), 'down')",
          "q_value": -0.19,
          "run": 72
         },
         {
          "location": "((3, 0), 'down')",
          "q_value": -0.19,
          "run": 73
         },
         {
          "location": "((3, 0), 'down')",
          "q_value": -0.19,
          "run": 74
         },
         {
          "location": "((3, 0), 'down')",
          "q_value": -0.19,
          "run": 75
         },
         {
          "location": "((3, 0), 'down')",
          "q_value": -0.19,
          "run": 76
         },
         {
          "location": "((3, 0), 'down')",
          "q_value": -0.19,
          "run": 77
         },
         {
          "location": "((3, 0), 'down')",
          "q_value": -0.19,
          "run": 78
         },
         {
          "location": "((3, 0), 'down')",
          "q_value": -0.19,
          "run": 79
         },
         {
          "location": "((3, 0), 'down')",
          "q_value": -0.19,
          "run": 80
         },
         {
          "location": "((3, 0), 'down')",
          "q_value": -0.19,
          "run": 81
         },
         {
          "location": "((3, 0), 'down')",
          "q_value": -0.19,
          "run": 82
         },
         {
          "location": "((3, 0), 'down')",
          "q_value": -0.19,
          "run": 83
         },
         {
          "location": "((3, 0), 'down')",
          "q_value": -0.19,
          "run": 84
         },
         {
          "location": "((3, 0), 'down')",
          "q_value": -0.19,
          "run": 85
         },
         {
          "location": "((3, 0), 'down')",
          "q_value": -0.19,
          "run": 86
         },
         {
          "location": "((3, 0), 'down')",
          "q_value": -0.19,
          "run": 87
         },
         {
          "location": "((3, 0), 'down')",
          "q_value": -0.19,
          "run": 88
         },
         {
          "location": "((3, 0), 'down')",
          "q_value": -0.19,
          "run": 89
         },
         {
          "location": "((3, 0), 'down')",
          "q_value": -0.19,
          "run": 90
         },
         {
          "location": "((3, 0), 'down')",
          "q_value": -0.19,
          "run": 91
         },
         {
          "location": "((3, 0), 'down')",
          "q_value": -0.19,
          "run": 92
         },
         {
          "location": "((3, 0), 'down')",
          "q_value": -0.19,
          "run": 93
         },
         {
          "location": "((3, 0), 'down')",
          "q_value": -0.19,
          "run": 94
         },
         {
          "location": "((3, 0), 'down')",
          "q_value": -0.19,
          "run": 95
         },
         {
          "location": "((3, 0), 'down')",
          "q_value": -0.19,
          "run": 96
         },
         {
          "location": "((3, 0), 'down')",
          "q_value": -0.19,
          "run": 97
         },
         {
          "location": "((3, 0), 'down')",
          "q_value": -0.19,
          "run": 98
         },
         {
          "location": "((3, 0), 'down')",
          "q_value": -0.19,
          "run": 99
         },
         {
          "location": "((3, 0), 'down')",
          "q_value": -0.19,
          "run": 100
         },
         {
          "location": "((3, 0), 'right')",
          "q_value": 0,
          "run": 0
         },
         {
          "location": "((3, 0), 'right')",
          "q_value": 0,
          "run": 1
         },
         {
          "location": "((3, 0), 'right')",
          "q_value": 0,
          "run": 2
         },
         {
          "location": "((3, 0), 'right')",
          "q_value": 0,
          "run": 3
         },
         {
          "location": "((3, 0), 'right')",
          "q_value": 0,
          "run": 4
         },
         {
          "location": "((3, 0), 'right')",
          "q_value": 0,
          "run": 5
         },
         {
          "location": "((3, 0), 'right')",
          "q_value": 0,
          "run": 6
         },
         {
          "location": "((3, 0), 'right')",
          "q_value": 0,
          "run": 7
         },
         {
          "location": "((3, 0), 'right')",
          "q_value": 0,
          "run": 8
         },
         {
          "location": "((3, 0), 'right')",
          "q_value": 0,
          "run": 9
         },
         {
          "location": "((3, 0), 'right')",
          "q_value": 0,
          "run": 10
         },
         {
          "location": "((3, 0), 'right')",
          "q_value": 0,
          "run": 11
         },
         {
          "location": "((3, 0), 'right')",
          "q_value": 0,
          "run": 12
         },
         {
          "location": "((3, 0), 'right')",
          "q_value": 0,
          "run": 13
         },
         {
          "location": "((3, 0), 'right')",
          "q_value": 0,
          "run": 14
         },
         {
          "location": "((3, 0), 'right')",
          "q_value": 0,
          "run": 15
         },
         {
          "location": "((3, 0), 'right')",
          "q_value": 0,
          "run": 16
         },
         {
          "location": "((3, 0), 'right')",
          "q_value": 0,
          "run": 17
         },
         {
          "location": "((3, 0), 'right')",
          "q_value": 0,
          "run": 18
         },
         {
          "location": "((3, 0), 'right')",
          "q_value": 0,
          "run": 19
         },
         {
          "location": "((3, 0), 'right')",
          "q_value": 0,
          "run": 20
         },
         {
          "location": "((3, 0), 'right')",
          "q_value": 0,
          "run": 21
         },
         {
          "location": "((3, 0), 'right')",
          "q_value": 0,
          "run": 22
         },
         {
          "location": "((3, 0), 'right')",
          "q_value": 0,
          "run": 23
         },
         {
          "location": "((3, 0), 'right')",
          "q_value": 0,
          "run": 24
         },
         {
          "location": "((3, 0), 'right')",
          "q_value": 0,
          "run": 25
         },
         {
          "location": "((3, 0), 'right')",
          "q_value": 0,
          "run": 26
         },
         {
          "location": "((3, 0), 'right')",
          "q_value": 0,
          "run": 27
         },
         {
          "location": "((3, 0), 'right')",
          "q_value": 0,
          "run": 28
         },
         {
          "location": "((3, 0), 'right')",
          "q_value": 0,
          "run": 29
         },
         {
          "location": "((3, 0), 'right')",
          "q_value": 0,
          "run": 30
         },
         {
          "location": "((3, 0), 'right')",
          "q_value": 0,
          "run": 31
         },
         {
          "location": "((3, 0), 'right')",
          "q_value": 0,
          "run": 32
         },
         {
          "location": "((3, 0), 'right')",
          "q_value": 0,
          "run": 33
         },
         {
          "location": "((3, 0), 'right')",
          "q_value": 0,
          "run": 34
         },
         {
          "location": "((3, 0), 'right')",
          "q_value": 0,
          "run": 35
         },
         {
          "location": "((3, 0), 'right')",
          "q_value": 0,
          "run": 36
         },
         {
          "location": "((3, 0), 'right')",
          "q_value": 0,
          "run": 37
         },
         {
          "location": "((3, 0), 'right')",
          "q_value": 0,
          "run": 38
         },
         {
          "location": "((3, 0), 'right')",
          "q_value": 0,
          "run": 39
         },
         {
          "location": "((3, 0), 'right')",
          "q_value": 0,
          "run": 40
         },
         {
          "location": "((3, 0), 'right')",
          "q_value": 0,
          "run": 41
         },
         {
          "location": "((3, 0), 'right')",
          "q_value": 0,
          "run": 42
         },
         {
          "location": "((3, 0), 'right')",
          "q_value": 0,
          "run": 43
         },
         {
          "location": "((3, 0), 'right')",
          "q_value": 0,
          "run": 44
         },
         {
          "location": "((3, 0), 'right')",
          "q_value": 0,
          "run": 45
         },
         {
          "location": "((3, 0), 'right')",
          "q_value": 0,
          "run": 46
         },
         {
          "location": "((3, 0), 'right')",
          "q_value": 0,
          "run": 47
         },
         {
          "location": "((3, 0), 'right')",
          "q_value": 0,
          "run": 48
         },
         {
          "location": "((3, 0), 'right')",
          "q_value": 0,
          "run": 49
         },
         {
          "location": "((3, 0), 'right')",
          "q_value": 0,
          "run": 50
         },
         {
          "location": "((3, 0), 'right')",
          "q_value": 0,
          "run": 51
         },
         {
          "location": "((3, 0), 'right')",
          "q_value": 0,
          "run": 52
         },
         {
          "location": "((3, 0), 'right')",
          "q_value": 0,
          "run": 53
         },
         {
          "location": "((3, 0), 'right')",
          "q_value": 0,
          "run": 54
         },
         {
          "location": "((3, 0), 'right')",
          "q_value": 0,
          "run": 55
         },
         {
          "location": "((3, 0), 'right')",
          "q_value": 0,
          "run": 56
         },
         {
          "location": "((3, 0), 'right')",
          "q_value": 0,
          "run": 57
         },
         {
          "location": "((3, 0), 'right')",
          "q_value": 0,
          "run": 58
         },
         {
          "location": "((3, 0), 'right')",
          "q_value": 0,
          "run": 59
         },
         {
          "location": "((3, 0), 'right')",
          "q_value": 0,
          "run": 60
         },
         {
          "location": "((3, 0), 'right')",
          "q_value": 0,
          "run": 61
         },
         {
          "location": "((3, 0), 'right')",
          "q_value": 0,
          "run": 62
         },
         {
          "location": "((3, 0), 'right')",
          "q_value": 0,
          "run": 63
         },
         {
          "location": "((3, 0), 'right')",
          "q_value": 0,
          "run": 64
         },
         {
          "location": "((3, 0), 'right')",
          "q_value": 0,
          "run": 65
         },
         {
          "location": "((3, 0), 'right')",
          "q_value": 0,
          "run": 66
         },
         {
          "location": "((3, 0), 'right')",
          "q_value": 0,
          "run": 67
         },
         {
          "location": "((3, 0), 'right')",
          "q_value": 0,
          "run": 68
         },
         {
          "location": "((3, 0), 'right')",
          "q_value": 0,
          "run": 69
         },
         {
          "location": "((3, 0), 'right')",
          "q_value": 0,
          "run": 70
         },
         {
          "location": "((3, 0), 'right')",
          "q_value": 0,
          "run": 71
         },
         {
          "location": "((3, 0), 'right')",
          "q_value": 0,
          "run": 72
         },
         {
          "location": "((3, 0), 'right')",
          "q_value": 0,
          "run": 73
         },
         {
          "location": "((3, 0), 'right')",
          "q_value": 0,
          "run": 74
         },
         {
          "location": "((3, 0), 'right')",
          "q_value": 0,
          "run": 75
         },
         {
          "location": "((3, 0), 'right')",
          "q_value": 0,
          "run": 76
         },
         {
          "location": "((3, 0), 'right')",
          "q_value": 0,
          "run": 77
         },
         {
          "location": "((3, 0), 'right')",
          "q_value": 0,
          "run": 78
         },
         {
          "location": "((3, 0), 'right')",
          "q_value": 0,
          "run": 79
         },
         {
          "location": "((3, 0), 'right')",
          "q_value": 0,
          "run": 80
         },
         {
          "location": "((3, 0), 'right')",
          "q_value": 0,
          "run": 81
         },
         {
          "location": "((3, 0), 'right')",
          "q_value": 0,
          "run": 82
         },
         {
          "location": "((3, 0), 'right')",
          "q_value": 0,
          "run": 83
         },
         {
          "location": "((3, 0), 'right')",
          "q_value": 0,
          "run": 84
         },
         {
          "location": "((3, 0), 'right')",
          "q_value": 0,
          "run": 85
         },
         {
          "location": "((3, 0), 'right')",
          "q_value": 0,
          "run": 86
         },
         {
          "location": "((3, 0), 'right')",
          "q_value": 0,
          "run": 87
         },
         {
          "location": "((3, 0), 'right')",
          "q_value": 0,
          "run": 88
         },
         {
          "location": "((3, 0), 'right')",
          "q_value": 0,
          "run": 89
         },
         {
          "location": "((3, 0), 'right')",
          "q_value": 0,
          "run": 90
         },
         {
          "location": "((3, 0), 'right')",
          "q_value": 0,
          "run": 91
         },
         {
          "location": "((3, 0), 'right')",
          "q_value": 0,
          "run": 92
         },
         {
          "location": "((3, 0), 'right')",
          "q_value": 0,
          "run": 93
         },
         {
          "location": "((3, 0), 'right')",
          "q_value": 0,
          "run": 94
         },
         {
          "location": "((3, 0), 'right')",
          "q_value": 0,
          "run": 95
         },
         {
          "location": "((3, 0), 'right')",
          "q_value": 0,
          "run": 96
         },
         {
          "location": "((3, 0), 'right')",
          "q_value": 0,
          "run": 97
         },
         {
          "location": "((3, 0), 'right')",
          "q_value": 0,
          "run": 98
         },
         {
          "location": "((3, 0), 'right')",
          "q_value": 0,
          "run": 99
         },
         {
          "location": "((3, 0), 'right')",
          "q_value": 0,
          "run": 100
         },
         {
          "location": "((3, 0), 'up')",
          "q_value": 0,
          "run": 0
         },
         {
          "location": "((3, 0), 'up')",
          "q_value": 0,
          "run": 1
         },
         {
          "location": "((3, 0), 'up')",
          "q_value": 0,
          "run": 2
         },
         {
          "location": "((3, 0), 'up')",
          "q_value": 0,
          "run": 3
         },
         {
          "location": "((3, 0), 'up')",
          "q_value": 0,
          "run": 4
         },
         {
          "location": "((3, 0), 'up')",
          "q_value": 0,
          "run": 5
         },
         {
          "location": "((3, 0), 'up')",
          "q_value": 0,
          "run": 6
         },
         {
          "location": "((3, 0), 'up')",
          "q_value": 0,
          "run": 7
         },
         {
          "location": "((3, 0), 'up')",
          "q_value": 0,
          "run": 8
         },
         {
          "location": "((3, 0), 'up')",
          "q_value": 0,
          "run": 9
         },
         {
          "location": "((3, 0), 'up')",
          "q_value": 0,
          "run": 10
         },
         {
          "location": "((3, 0), 'up')",
          "q_value": 0,
          "run": 11
         },
         {
          "location": "((3, 0), 'up')",
          "q_value": 0,
          "run": 12
         },
         {
          "location": "((3, 0), 'up')",
          "q_value": 0,
          "run": 13
         },
         {
          "location": "((3, 0), 'up')",
          "q_value": 0,
          "run": 14
         },
         {
          "location": "((3, 0), 'up')",
          "q_value": 0,
          "run": 15
         },
         {
          "location": "((3, 0), 'up')",
          "q_value": 0,
          "run": 16
         },
         {
          "location": "((3, 0), 'up')",
          "q_value": 0,
          "run": 17
         },
         {
          "location": "((3, 0), 'up')",
          "q_value": 0,
          "run": 18
         },
         {
          "location": "((3, 0), 'up')",
          "q_value": 0,
          "run": 19
         },
         {
          "location": "((3, 0), 'up')",
          "q_value": 0,
          "run": 20
         },
         {
          "location": "((3, 0), 'up')",
          "q_value": 0,
          "run": 21
         },
         {
          "location": "((3, 0), 'up')",
          "q_value": 0,
          "run": 22
         },
         {
          "location": "((3, 0), 'up')",
          "q_value": 0,
          "run": 23
         },
         {
          "location": "((3, 0), 'up')",
          "q_value": 0,
          "run": 24
         },
         {
          "location": "((3, 0), 'up')",
          "q_value": 0,
          "run": 25
         },
         {
          "location": "((3, 0), 'up')",
          "q_value": 0,
          "run": 26
         },
         {
          "location": "((3, 0), 'up')",
          "q_value": 0,
          "run": 27
         },
         {
          "location": "((3, 0), 'up')",
          "q_value": 0,
          "run": 28
         },
         {
          "location": "((3, 0), 'up')",
          "q_value": 0,
          "run": 29
         },
         {
          "location": "((3, 0), 'up')",
          "q_value": 0,
          "run": 30
         },
         {
          "location": "((3, 0), 'up')",
          "q_value": 0,
          "run": 31
         },
         {
          "location": "((3, 0), 'up')",
          "q_value": 0,
          "run": 32
         },
         {
          "location": "((3, 0), 'up')",
          "q_value": 0,
          "run": 33
         },
         {
          "location": "((3, 0), 'up')",
          "q_value": 0,
          "run": 34
         },
         {
          "location": "((3, 0), 'up')",
          "q_value": 0,
          "run": 35
         },
         {
          "location": "((3, 0), 'up')",
          "q_value": 0,
          "run": 36
         },
         {
          "location": "((3, 0), 'up')",
          "q_value": 0,
          "run": 37
         },
         {
          "location": "((3, 0), 'up')",
          "q_value": 0,
          "run": 38
         },
         {
          "location": "((3, 0), 'up')",
          "q_value": 0,
          "run": 39
         },
         {
          "location": "((3, 0), 'up')",
          "q_value": 0,
          "run": 40
         },
         {
          "location": "((3, 0), 'up')",
          "q_value": 0,
          "run": 41
         },
         {
          "location": "((3, 0), 'up')",
          "q_value": 0,
          "run": 42
         },
         {
          "location": "((3, 0), 'up')",
          "q_value": 0,
          "run": 43
         },
         {
          "location": "((3, 0), 'up')",
          "q_value": 0,
          "run": 44
         },
         {
          "location": "((3, 0), 'up')",
          "q_value": 0,
          "run": 45
         },
         {
          "location": "((3, 0), 'up')",
          "q_value": 0,
          "run": 46
         },
         {
          "location": "((3, 0), 'up')",
          "q_value": 0,
          "run": 47
         },
         {
          "location": "((3, 0), 'up')",
          "q_value": 0,
          "run": 48
         },
         {
          "location": "((3, 0), 'up')",
          "q_value": 0,
          "run": 49
         },
         {
          "location": "((3, 0), 'up')",
          "q_value": 0,
          "run": 50
         },
         {
          "location": "((3, 0), 'up')",
          "q_value": 0,
          "run": 51
         },
         {
          "location": "((3, 0), 'up')",
          "q_value": 0,
          "run": 52
         },
         {
          "location": "((3, 0), 'up')",
          "q_value": 0,
          "run": 53
         },
         {
          "location": "((3, 0), 'up')",
          "q_value": 0,
          "run": 54
         },
         {
          "location": "((3, 0), 'up')",
          "q_value": 0,
          "run": 55
         },
         {
          "location": "((3, 0), 'up')",
          "q_value": 0,
          "run": 56
         },
         {
          "location": "((3, 0), 'up')",
          "q_value": 0,
          "run": 57
         },
         {
          "location": "((3, 0), 'up')",
          "q_value": 0,
          "run": 58
         },
         {
          "location": "((3, 0), 'up')",
          "q_value": 0,
          "run": 59
         },
         {
          "location": "((3, 0), 'up')",
          "q_value": 0,
          "run": 60
         },
         {
          "location": "((3, 0), 'up')",
          "q_value": 0,
          "run": 61
         },
         {
          "location": "((3, 0), 'up')",
          "q_value": 0,
          "run": 62
         },
         {
          "location": "((3, 0), 'up')",
          "q_value": 0,
          "run": 63
         },
         {
          "location": "((3, 0), 'up')",
          "q_value": 0,
          "run": 64
         },
         {
          "location": "((3, 0), 'up')",
          "q_value": 0,
          "run": 65
         },
         {
          "location": "((3, 0), 'up')",
          "q_value": 0,
          "run": 66
         },
         {
          "location": "((3, 0), 'up')",
          "q_value": 0,
          "run": 67
         },
         {
          "location": "((3, 0), 'up')",
          "q_value": 0,
          "run": 68
         },
         {
          "location": "((3, 0), 'up')",
          "q_value": 0,
          "run": 69
         },
         {
          "location": "((3, 0), 'up')",
          "q_value": 0,
          "run": 70
         },
         {
          "location": "((3, 0), 'up')",
          "q_value": 0,
          "run": 71
         },
         {
          "location": "((3, 0), 'up')",
          "q_value": 0,
          "run": 72
         },
         {
          "location": "((3, 0), 'up')",
          "q_value": 0,
          "run": 73
         },
         {
          "location": "((3, 0), 'up')",
          "q_value": 0,
          "run": 74
         },
         {
          "location": "((3, 0), 'up')",
          "q_value": 0,
          "run": 75
         },
         {
          "location": "((3, 0), 'up')",
          "q_value": 0,
          "run": 76
         },
         {
          "location": "((3, 0), 'up')",
          "q_value": 0,
          "run": 77
         },
         {
          "location": "((3, 0), 'up')",
          "q_value": 0,
          "run": 78
         },
         {
          "location": "((3, 0), 'up')",
          "q_value": 0,
          "run": 79
         },
         {
          "location": "((3, 0), 'up')",
          "q_value": 0,
          "run": 80
         },
         {
          "location": "((3, 0), 'up')",
          "q_value": 0,
          "run": 81
         },
         {
          "location": "((3, 0), 'up')",
          "q_value": 0,
          "run": 82
         },
         {
          "location": "((3, 0), 'up')",
          "q_value": 0,
          "run": 83
         },
         {
          "location": "((3, 0), 'up')",
          "q_value": 0,
          "run": 84
         },
         {
          "location": "((3, 0), 'up')",
          "q_value": 0,
          "run": 85
         },
         {
          "location": "((3, 0), 'up')",
          "q_value": 0,
          "run": 86
         },
         {
          "location": "((3, 0), 'up')",
          "q_value": 0,
          "run": 87
         },
         {
          "location": "((3, 0), 'up')",
          "q_value": 0,
          "run": 88
         },
         {
          "location": "((3, 0), 'up')",
          "q_value": 0,
          "run": 89
         },
         {
          "location": "((3, 0), 'up')",
          "q_value": 0,
          "run": 90
         },
         {
          "location": "((3, 0), 'up')",
          "q_value": 0,
          "run": 91
         },
         {
          "location": "((3, 0), 'up')",
          "q_value": 0,
          "run": 92
         },
         {
          "location": "((3, 0), 'up')",
          "q_value": 0,
          "run": 93
         },
         {
          "location": "((3, 0), 'up')",
          "q_value": 0,
          "run": 94
         },
         {
          "location": "((3, 0), 'up')",
          "q_value": 0,
          "run": 95
         },
         {
          "location": "((3, 0), 'up')",
          "q_value": 0,
          "run": 96
         },
         {
          "location": "((3, 0), 'up')",
          "q_value": 0,
          "run": 97
         },
         {
          "location": "((3, 0), 'up')",
          "q_value": 0,
          "run": 98
         },
         {
          "location": "((3, 0), 'up')",
          "q_value": 0,
          "run": 99
         },
         {
          "location": "((3, 0), 'up')",
          "q_value": 0,
          "run": 100
         },
         {
          "location": "((3, 0), 'left')",
          "q_value": 0,
          "run": 0
         },
         {
          "location": "((3, 0), 'left')",
          "q_value": -0.1,
          "run": 1
         },
         {
          "location": "((3, 0), 'left')",
          "q_value": -0.1,
          "run": 2
         },
         {
          "location": "((3, 0), 'left')",
          "q_value": -0.1,
          "run": 3
         },
         {
          "location": "((3, 0), 'left')",
          "q_value": -0.1,
          "run": 4
         },
         {
          "location": "((3, 0), 'left')",
          "q_value": -0.1,
          "run": 5
         },
         {
          "location": "((3, 0), 'left')",
          "q_value": -0.1,
          "run": 6
         },
         {
          "location": "((3, 0), 'left')",
          "q_value": -0.1,
          "run": 7
         },
         {
          "location": "((3, 0), 'left')",
          "q_value": -0.1,
          "run": 8
         },
         {
          "location": "((3, 0), 'left')",
          "q_value": -0.1,
          "run": 9
         },
         {
          "location": "((3, 0), 'left')",
          "q_value": -0.1,
          "run": 10
         },
         {
          "location": "((3, 0), 'left')",
          "q_value": -0.1,
          "run": 11
         },
         {
          "location": "((3, 0), 'left')",
          "q_value": -0.1,
          "run": 12
         },
         {
          "location": "((3, 0), 'left')",
          "q_value": -0.1,
          "run": 13
         },
         {
          "location": "((3, 0), 'left')",
          "q_value": -0.1,
          "run": 14
         },
         {
          "location": "((3, 0), 'left')",
          "q_value": -0.1,
          "run": 15
         },
         {
          "location": "((3, 0), 'left')",
          "q_value": -0.1,
          "run": 16
         },
         {
          "location": "((3, 0), 'left')",
          "q_value": -0.1,
          "run": 17
         },
         {
          "location": "((3, 0), 'left')",
          "q_value": -0.1,
          "run": 18
         },
         {
          "location": "((3, 0), 'left')",
          "q_value": -0.1,
          "run": 19
         },
         {
          "location": "((3, 0), 'left')",
          "q_value": -0.1,
          "run": 20
         },
         {
          "location": "((3, 0), 'left')",
          "q_value": -0.1,
          "run": 21
         },
         {
          "location": "((3, 0), 'left')",
          "q_value": -0.1,
          "run": 22
         },
         {
          "location": "((3, 0), 'left')",
          "q_value": -0.1,
          "run": 23
         },
         {
          "location": "((3, 0), 'left')",
          "q_value": -0.1,
          "run": 24
         },
         {
          "location": "((3, 0), 'left')",
          "q_value": -0.1,
          "run": 25
         },
         {
          "location": "((3, 0), 'left')",
          "q_value": -0.1,
          "run": 26
         },
         {
          "location": "((3, 0), 'left')",
          "q_value": -0.1,
          "run": 27
         },
         {
          "location": "((3, 0), 'left')",
          "q_value": -0.1,
          "run": 28
         },
         {
          "location": "((3, 0), 'left')",
          "q_value": -0.1,
          "run": 29
         },
         {
          "location": "((3, 0), 'left')",
          "q_value": -0.1,
          "run": 30
         },
         {
          "location": "((3, 0), 'left')",
          "q_value": -0.1,
          "run": 31
         },
         {
          "location": "((3, 0), 'left')",
          "q_value": -0.1,
          "run": 32
         },
         {
          "location": "((3, 0), 'left')",
          "q_value": -0.1,
          "run": 33
         },
         {
          "location": "((3, 0), 'left')",
          "q_value": -0.1,
          "run": 34
         },
         {
          "location": "((3, 0), 'left')",
          "q_value": -0.1,
          "run": 35
         },
         {
          "location": "((3, 0), 'left')",
          "q_value": -0.1,
          "run": 36
         },
         {
          "location": "((3, 0), 'left')",
          "q_value": -0.1,
          "run": 37
         },
         {
          "location": "((3, 0), 'left')",
          "q_value": -0.1,
          "run": 38
         },
         {
          "location": "((3, 0), 'left')",
          "q_value": -0.1,
          "run": 39
         },
         {
          "location": "((3, 0), 'left')",
          "q_value": -0.1,
          "run": 40
         },
         {
          "location": "((3, 0), 'left')",
          "q_value": -0.1,
          "run": 41
         },
         {
          "location": "((3, 0), 'left')",
          "q_value": -0.1,
          "run": 42
         },
         {
          "location": "((3, 0), 'left')",
          "q_value": -0.1,
          "run": 43
         },
         {
          "location": "((3, 0), 'left')",
          "q_value": -0.1,
          "run": 44
         },
         {
          "location": "((3, 0), 'left')",
          "q_value": -0.1,
          "run": 45
         },
         {
          "location": "((3, 0), 'left')",
          "q_value": -0.1,
          "run": 46
         },
         {
          "location": "((3, 0), 'left')",
          "q_value": -0.1,
          "run": 47
         },
         {
          "location": "((3, 0), 'left')",
          "q_value": -0.1,
          "run": 48
         },
         {
          "location": "((3, 0), 'left')",
          "q_value": -0.1,
          "run": 49
         },
         {
          "location": "((3, 0), 'left')",
          "q_value": -0.1,
          "run": 50
         },
         {
          "location": "((3, 0), 'left')",
          "q_value": -0.1,
          "run": 51
         },
         {
          "location": "((3, 0), 'left')",
          "q_value": -0.1,
          "run": 52
         },
         {
          "location": "((3, 0), 'left')",
          "q_value": -0.1,
          "run": 53
         },
         {
          "location": "((3, 0), 'left')",
          "q_value": -0.1,
          "run": 54
         },
         {
          "location": "((3, 0), 'left')",
          "q_value": -0.1,
          "run": 55
         },
         {
          "location": "((3, 0), 'left')",
          "q_value": -0.1,
          "run": 56
         },
         {
          "location": "((3, 0), 'left')",
          "q_value": -0.1,
          "run": 57
         },
         {
          "location": "((3, 0), 'left')",
          "q_value": -0.1,
          "run": 58
         },
         {
          "location": "((3, 0), 'left')",
          "q_value": -0.1,
          "run": 59
         },
         {
          "location": "((3, 0), 'left')",
          "q_value": -0.1,
          "run": 60
         },
         {
          "location": "((3, 0), 'left')",
          "q_value": -0.1,
          "run": 61
         },
         {
          "location": "((3, 0), 'left')",
          "q_value": -0.1,
          "run": 62
         },
         {
          "location": "((3, 0), 'left')",
          "q_value": -0.1,
          "run": 63
         },
         {
          "location": "((3, 0), 'left')",
          "q_value": -0.1,
          "run": 64
         },
         {
          "location": "((3, 0), 'left')",
          "q_value": -0.1,
          "run": 65
         },
         {
          "location": "((3, 0), 'left')",
          "q_value": -0.1,
          "run": 66
         },
         {
          "location": "((3, 0), 'left')",
          "q_value": -0.1,
          "run": 67
         },
         {
          "location": "((3, 0), 'left')",
          "q_value": -0.1,
          "run": 68
         },
         {
          "location": "((3, 0), 'left')",
          "q_value": -0.1,
          "run": 69
         },
         {
          "location": "((3, 0), 'left')",
          "q_value": -0.1,
          "run": 70
         },
         {
          "location": "((3, 0), 'left')",
          "q_value": -0.1,
          "run": 71
         },
         {
          "location": "((3, 0), 'left')",
          "q_value": -0.1,
          "run": 72
         },
         {
          "location": "((3, 0), 'left')",
          "q_value": -0.1,
          "run": 73
         },
         {
          "location": "((3, 0), 'left')",
          "q_value": -0.1,
          "run": 74
         },
         {
          "location": "((3, 0), 'left')",
          "q_value": -0.1,
          "run": 75
         },
         {
          "location": "((3, 0), 'left')",
          "q_value": -0.1,
          "run": 76
         },
         {
          "location": "((3, 0), 'left')",
          "q_value": -0.1,
          "run": 77
         },
         {
          "location": "((3, 0), 'left')",
          "q_value": -0.1,
          "run": 78
         },
         {
          "location": "((3, 0), 'left')",
          "q_value": -0.1,
          "run": 79
         },
         {
          "location": "((3, 0), 'left')",
          "q_value": -0.1,
          "run": 80
         },
         {
          "location": "((3, 0), 'left')",
          "q_value": -0.1,
          "run": 81
         },
         {
          "location": "((3, 0), 'left')",
          "q_value": -0.1,
          "run": 82
         },
         {
          "location": "((3, 0), 'left')",
          "q_value": -0.1,
          "run": 83
         },
         {
          "location": "((3, 0), 'left')",
          "q_value": -0.1,
          "run": 84
         },
         {
          "location": "((3, 0), 'left')",
          "q_value": -0.1,
          "run": 85
         },
         {
          "location": "((3, 0), 'left')",
          "q_value": -0.1,
          "run": 86
         },
         {
          "location": "((3, 0), 'left')",
          "q_value": -0.1,
          "run": 87
         },
         {
          "location": "((3, 0), 'left')",
          "q_value": -0.1,
          "run": 88
         },
         {
          "location": "((3, 0), 'left')",
          "q_value": -0.1,
          "run": 89
         },
         {
          "location": "((3, 0), 'left')",
          "q_value": -0.1,
          "run": 90
         },
         {
          "location": "((3, 0), 'left')",
          "q_value": -0.1,
          "run": 91
         },
         {
          "location": "((3, 0), 'left')",
          "q_value": -0.1,
          "run": 92
         },
         {
          "location": "((3, 0), 'left')",
          "q_value": -0.1,
          "run": 93
         },
         {
          "location": "((3, 0), 'left')",
          "q_value": -0.1,
          "run": 94
         },
         {
          "location": "((3, 0), 'left')",
          "q_value": -0.1,
          "run": 95
         },
         {
          "location": "((3, 0), 'left')",
          "q_value": -0.1,
          "run": 96
         },
         {
          "location": "((3, 0), 'left')",
          "q_value": -0.1,
          "run": 97
         },
         {
          "location": "((3, 0), 'left')",
          "q_value": -0.1,
          "run": 98
         },
         {
          "location": "((3, 0), 'left')",
          "q_value": -0.1,
          "run": 99
         },
         {
          "location": "((3, 0), 'left')",
          "q_value": -0.1,
          "run": 100
         },
         {
          "location": "((3, 1), 'down')",
          "q_value": 0,
          "run": 0
         },
         {
          "location": "((3, 1), 'down')",
          "q_value": -0.19,
          "run": 1
         },
         {
          "location": "((3, 1), 'down')",
          "q_value": -0.19,
          "run": 2
         },
         {
          "location": "((3, 1), 'down')",
          "q_value": -0.19,
          "run": 3
         },
         {
          "location": "((3, 1), 'down')",
          "q_value": -0.19,
          "run": 4
         },
         {
          "location": "((3, 1), 'down')",
          "q_value": -0.19,
          "run": 5
         },
         {
          "location": "((3, 1), 'down')",
          "q_value": -0.19,
          "run": 6
         },
         {
          "location": "((3, 1), 'down')",
          "q_value": -0.19,
          "run": 7
         },
         {
          "location": "((3, 1), 'down')",
          "q_value": -0.19,
          "run": 8
         },
         {
          "location": "((3, 1), 'down')",
          "q_value": -0.19,
          "run": 9
         },
         {
          "location": "((3, 1), 'down')",
          "q_value": -0.19,
          "run": 10
         },
         {
          "location": "((3, 1), 'down')",
          "q_value": -0.19,
          "run": 11
         },
         {
          "location": "((3, 1), 'down')",
          "q_value": -0.19,
          "run": 12
         },
         {
          "location": "((3, 1), 'down')",
          "q_value": -0.19,
          "run": 13
         },
         {
          "location": "((3, 1), 'down')",
          "q_value": -0.19,
          "run": 14
         },
         {
          "location": "((3, 1), 'down')",
          "q_value": -0.19,
          "run": 15
         },
         {
          "location": "((3, 1), 'down')",
          "q_value": -0.19,
          "run": 16
         },
         {
          "location": "((3, 1), 'down')",
          "q_value": -0.19,
          "run": 17
         },
         {
          "location": "((3, 1), 'down')",
          "q_value": -0.19,
          "run": 18
         },
         {
          "location": "((3, 1), 'down')",
          "q_value": -0.19,
          "run": 19
         },
         {
          "location": "((3, 1), 'down')",
          "q_value": -0.19,
          "run": 20
         },
         {
          "location": "((3, 1), 'down')",
          "q_value": -0.19,
          "run": 21
         },
         {
          "location": "((3, 1), 'down')",
          "q_value": -0.19,
          "run": 22
         },
         {
          "location": "((3, 1), 'down')",
          "q_value": -0.19,
          "run": 23
         },
         {
          "location": "((3, 1), 'down')",
          "q_value": -0.19,
          "run": 24
         },
         {
          "location": "((3, 1), 'down')",
          "q_value": -0.19,
          "run": 25
         },
         {
          "location": "((3, 1), 'down')",
          "q_value": -0.19,
          "run": 26
         },
         {
          "location": "((3, 1), 'down')",
          "q_value": -0.19,
          "run": 27
         },
         {
          "location": "((3, 1), 'down')",
          "q_value": -0.19,
          "run": 28
         },
         {
          "location": "((3, 1), 'down')",
          "q_value": -0.19,
          "run": 29
         },
         {
          "location": "((3, 1), 'down')",
          "q_value": -0.19,
          "run": 30
         },
         {
          "location": "((3, 1), 'down')",
          "q_value": -0.19,
          "run": 31
         },
         {
          "location": "((3, 1), 'down')",
          "q_value": -0.19,
          "run": 32
         },
         {
          "location": "((3, 1), 'down')",
          "q_value": -0.19,
          "run": 33
         },
         {
          "location": "((3, 1), 'down')",
          "q_value": -0.19,
          "run": 34
         },
         {
          "location": "((3, 1), 'down')",
          "q_value": -0.19,
          "run": 35
         },
         {
          "location": "((3, 1), 'down')",
          "q_value": -0.19,
          "run": 36
         },
         {
          "location": "((3, 1), 'down')",
          "q_value": -0.19,
          "run": 37
         },
         {
          "location": "((3, 1), 'down')",
          "q_value": -0.19,
          "run": 38
         },
         {
          "location": "((3, 1), 'down')",
          "q_value": -0.19,
          "run": 39
         },
         {
          "location": "((3, 1), 'down')",
          "q_value": -0.19,
          "run": 40
         },
         {
          "location": "((3, 1), 'down')",
          "q_value": -0.19,
          "run": 41
         },
         {
          "location": "((3, 1), 'down')",
          "q_value": -0.19,
          "run": 42
         },
         {
          "location": "((3, 1), 'down')",
          "q_value": -0.19,
          "run": 43
         },
         {
          "location": "((3, 1), 'down')",
          "q_value": -0.19,
          "run": 44
         },
         {
          "location": "((3, 1), 'down')",
          "q_value": -0.19,
          "run": 45
         },
         {
          "location": "((3, 1), 'down')",
          "q_value": -0.19,
          "run": 46
         },
         {
          "location": "((3, 1), 'down')",
          "q_value": -0.19,
          "run": 47
         },
         {
          "location": "((3, 1), 'down')",
          "q_value": -0.19,
          "run": 48
         },
         {
          "location": "((3, 1), 'down')",
          "q_value": -0.19,
          "run": 49
         },
         {
          "location": "((3, 1), 'down')",
          "q_value": -0.19,
          "run": 50
         },
         {
          "location": "((3, 1), 'down')",
          "q_value": -0.19,
          "run": 51
         },
         {
          "location": "((3, 1), 'down')",
          "q_value": -0.19,
          "run": 52
         },
         {
          "location": "((3, 1), 'down')",
          "q_value": -0.19,
          "run": 53
         },
         {
          "location": "((3, 1), 'down')",
          "q_value": -0.19,
          "run": 54
         },
         {
          "location": "((3, 1), 'down')",
          "q_value": -0.19,
          "run": 55
         },
         {
          "location": "((3, 1), 'down')",
          "q_value": -0.19,
          "run": 56
         },
         {
          "location": "((3, 1), 'down')",
          "q_value": -0.19,
          "run": 57
         },
         {
          "location": "((3, 1), 'down')",
          "q_value": -0.19,
          "run": 58
         },
         {
          "location": "((3, 1), 'down')",
          "q_value": -0.19,
          "run": 59
         },
         {
          "location": "((3, 1), 'down')",
          "q_value": -0.19,
          "run": 60
         },
         {
          "location": "((3, 1), 'down')",
          "q_value": -0.19,
          "run": 61
         },
         {
          "location": "((3, 1), 'down')",
          "q_value": -0.19,
          "run": 62
         },
         {
          "location": "((3, 1), 'down')",
          "q_value": -0.19,
          "run": 63
         },
         {
          "location": "((3, 1), 'down')",
          "q_value": -0.19,
          "run": 64
         },
         {
          "location": "((3, 1), 'down')",
          "q_value": -0.19,
          "run": 65
         },
         {
          "location": "((3, 1), 'down')",
          "q_value": -0.19,
          "run": 66
         },
         {
          "location": "((3, 1), 'down')",
          "q_value": -0.19,
          "run": 67
         },
         {
          "location": "((3, 1), 'down')",
          "q_value": -0.19,
          "run": 68
         },
         {
          "location": "((3, 1), 'down')",
          "q_value": -0.19,
          "run": 69
         },
         {
          "location": "((3, 1), 'down')",
          "q_value": -0.19,
          "run": 70
         },
         {
          "location": "((3, 1), 'down')",
          "q_value": -0.19,
          "run": 71
         },
         {
          "location": "((3, 1), 'down')",
          "q_value": -0.19,
          "run": 72
         },
         {
          "location": "((3, 1), 'down')",
          "q_value": -0.19,
          "run": 73
         },
         {
          "location": "((3, 1), 'down')",
          "q_value": -0.19,
          "run": 74
         },
         {
          "location": "((3, 1), 'down')",
          "q_value": -0.19,
          "run": 75
         },
         {
          "location": "((3, 1), 'down')",
          "q_value": -0.19,
          "run": 76
         },
         {
          "location": "((3, 1), 'down')",
          "q_value": -0.19,
          "run": 77
         },
         {
          "location": "((3, 1), 'down')",
          "q_value": -0.19,
          "run": 78
         },
         {
          "location": "((3, 1), 'down')",
          "q_value": -0.19,
          "run": 79
         },
         {
          "location": "((3, 1), 'down')",
          "q_value": -0.19,
          "run": 80
         },
         {
          "location": "((3, 1), 'down')",
          "q_value": -0.19,
          "run": 81
         },
         {
          "location": "((3, 1), 'down')",
          "q_value": -0.19,
          "run": 82
         },
         {
          "location": "((3, 1), 'down')",
          "q_value": -0.19,
          "run": 83
         },
         {
          "location": "((3, 1), 'down')",
          "q_value": -0.19,
          "run": 84
         },
         {
          "location": "((3, 1), 'down')",
          "q_value": -0.19,
          "run": 85
         },
         {
          "location": "((3, 1), 'down')",
          "q_value": -0.19,
          "run": 86
         },
         {
          "location": "((3, 1), 'down')",
          "q_value": -0.19,
          "run": 87
         },
         {
          "location": "((3, 1), 'down')",
          "q_value": -0.19,
          "run": 88
         },
         {
          "location": "((3, 1), 'down')",
          "q_value": -0.19,
          "run": 89
         },
         {
          "location": "((3, 1), 'down')",
          "q_value": -0.19,
          "run": 90
         },
         {
          "location": "((3, 1), 'down')",
          "q_value": -0.19,
          "run": 91
         },
         {
          "location": "((3, 1), 'down')",
          "q_value": -0.19,
          "run": 92
         },
         {
          "location": "((3, 1), 'down')",
          "q_value": -0.19,
          "run": 93
         },
         {
          "location": "((3, 1), 'down')",
          "q_value": -0.19,
          "run": 94
         },
         {
          "location": "((3, 1), 'down')",
          "q_value": -0.19,
          "run": 95
         },
         {
          "location": "((3, 1), 'down')",
          "q_value": -0.19,
          "run": 96
         },
         {
          "location": "((3, 1), 'down')",
          "q_value": -0.19,
          "run": 97
         },
         {
          "location": "((3, 1), 'down')",
          "q_value": -0.19,
          "run": 98
         },
         {
          "location": "((3, 1), 'down')",
          "q_value": -0.19,
          "run": 99
         },
         {
          "location": "((3, 1), 'down')",
          "q_value": -0.19,
          "run": 100
         },
         {
          "location": "((3, 1), 'right')",
          "q_value": 0,
          "run": 0
         },
         {
          "location": "((3, 1), 'right')",
          "q_value": 0,
          "run": 1
         },
         {
          "location": "((3, 1), 'right')",
          "q_value": 0,
          "run": 2
         },
         {
          "location": "((3, 1), 'right')",
          "q_value": 0,
          "run": 3
         },
         {
          "location": "((3, 1), 'right')",
          "q_value": 0,
          "run": 4
         },
         {
          "location": "((3, 1), 'right')",
          "q_value": 0,
          "run": 5
         },
         {
          "location": "((3, 1), 'right')",
          "q_value": 0,
          "run": 6
         },
         {
          "location": "((3, 1), 'right')",
          "q_value": 0,
          "run": 7
         },
         {
          "location": "((3, 1), 'right')",
          "q_value": 0,
          "run": 8
         },
         {
          "location": "((3, 1), 'right')",
          "q_value": 0,
          "run": 9
         },
         {
          "location": "((3, 1), 'right')",
          "q_value": 0,
          "run": 10
         },
         {
          "location": "((3, 1), 'right')",
          "q_value": 0,
          "run": 11
         },
         {
          "location": "((3, 1), 'right')",
          "q_value": 0,
          "run": 12
         },
         {
          "location": "((3, 1), 'right')",
          "q_value": 0,
          "run": 13
         },
         {
          "location": "((3, 1), 'right')",
          "q_value": 0,
          "run": 14
         },
         {
          "location": "((3, 1), 'right')",
          "q_value": 0,
          "run": 15
         },
         {
          "location": "((3, 1), 'right')",
          "q_value": 0,
          "run": 16
         },
         {
          "location": "((3, 1), 'right')",
          "q_value": 0,
          "run": 17
         },
         {
          "location": "((3, 1), 'right')",
          "q_value": 0,
          "run": 18
         },
         {
          "location": "((3, 1), 'right')",
          "q_value": 0,
          "run": 19
         },
         {
          "location": "((3, 1), 'right')",
          "q_value": 0,
          "run": 20
         },
         {
          "location": "((3, 1), 'right')",
          "q_value": 0,
          "run": 21
         },
         {
          "location": "((3, 1), 'right')",
          "q_value": 0,
          "run": 22
         },
         {
          "location": "((3, 1), 'right')",
          "q_value": 0,
          "run": 23
         },
         {
          "location": "((3, 1), 'right')",
          "q_value": 0,
          "run": 24
         },
         {
          "location": "((3, 1), 'right')",
          "q_value": 0,
          "run": 25
         },
         {
          "location": "((3, 1), 'right')",
          "q_value": 0,
          "run": 26
         },
         {
          "location": "((3, 1), 'right')",
          "q_value": 0,
          "run": 27
         },
         {
          "location": "((3, 1), 'right')",
          "q_value": 0,
          "run": 28
         },
         {
          "location": "((3, 1), 'right')",
          "q_value": 0,
          "run": 29
         },
         {
          "location": "((3, 1), 'right')",
          "q_value": 0,
          "run": 30
         },
         {
          "location": "((3, 1), 'right')",
          "q_value": 0,
          "run": 31
         },
         {
          "location": "((3, 1), 'right')",
          "q_value": 0,
          "run": 32
         },
         {
          "location": "((3, 1), 'right')",
          "q_value": 0,
          "run": 33
         },
         {
          "location": "((3, 1), 'right')",
          "q_value": 0,
          "run": 34
         },
         {
          "location": "((3, 1), 'right')",
          "q_value": 0,
          "run": 35
         },
         {
          "location": "((3, 1), 'right')",
          "q_value": 0,
          "run": 36
         },
         {
          "location": "((3, 1), 'right')",
          "q_value": 0,
          "run": 37
         },
         {
          "location": "((3, 1), 'right')",
          "q_value": 0,
          "run": 38
         },
         {
          "location": "((3, 1), 'right')",
          "q_value": 0,
          "run": 39
         },
         {
          "location": "((3, 1), 'right')",
          "q_value": 0,
          "run": 40
         },
         {
          "location": "((3, 1), 'right')",
          "q_value": 0,
          "run": 41
         },
         {
          "location": "((3, 1), 'right')",
          "q_value": 0,
          "run": 42
         },
         {
          "location": "((3, 1), 'right')",
          "q_value": 0,
          "run": 43
         },
         {
          "location": "((3, 1), 'right')",
          "q_value": 0,
          "run": 44
         },
         {
          "location": "((3, 1), 'right')",
          "q_value": 0,
          "run": 45
         },
         {
          "location": "((3, 1), 'right')",
          "q_value": 0,
          "run": 46
         },
         {
          "location": "((3, 1), 'right')",
          "q_value": 0,
          "run": 47
         },
         {
          "location": "((3, 1), 'right')",
          "q_value": 0,
          "run": 48
         },
         {
          "location": "((3, 1), 'right')",
          "q_value": 0,
          "run": 49
         },
         {
          "location": "((3, 1), 'right')",
          "q_value": 0,
          "run": 50
         },
         {
          "location": "((3, 1), 'right')",
          "q_value": 0,
          "run": 51
         },
         {
          "location": "((3, 1), 'right')",
          "q_value": 0,
          "run": 52
         },
         {
          "location": "((3, 1), 'right')",
          "q_value": 0,
          "run": 53
         },
         {
          "location": "((3, 1), 'right')",
          "q_value": 0,
          "run": 54
         },
         {
          "location": "((3, 1), 'right')",
          "q_value": 0,
          "run": 55
         },
         {
          "location": "((3, 1), 'right')",
          "q_value": 0,
          "run": 56
         },
         {
          "location": "((3, 1), 'right')",
          "q_value": 0,
          "run": 57
         },
         {
          "location": "((3, 1), 'right')",
          "q_value": 0,
          "run": 58
         },
         {
          "location": "((3, 1), 'right')",
          "q_value": 0,
          "run": 59
         },
         {
          "location": "((3, 1), 'right')",
          "q_value": 0,
          "run": 60
         },
         {
          "location": "((3, 1), 'right')",
          "q_value": 0,
          "run": 61
         },
         {
          "location": "((3, 1), 'right')",
          "q_value": 0,
          "run": 62
         },
         {
          "location": "((3, 1), 'right')",
          "q_value": 0,
          "run": 63
         },
         {
          "location": "((3, 1), 'right')",
          "q_value": 0,
          "run": 64
         },
         {
          "location": "((3, 1), 'right')",
          "q_value": 0,
          "run": 65
         },
         {
          "location": "((3, 1), 'right')",
          "q_value": 0,
          "run": 66
         },
         {
          "location": "((3, 1), 'right')",
          "q_value": 0,
          "run": 67
         },
         {
          "location": "((3, 1), 'right')",
          "q_value": 0,
          "run": 68
         },
         {
          "location": "((3, 1), 'right')",
          "q_value": 0,
          "run": 69
         },
         {
          "location": "((3, 1), 'right')",
          "q_value": 0,
          "run": 70
         },
         {
          "location": "((3, 1), 'right')",
          "q_value": 0,
          "run": 71
         },
         {
          "location": "((3, 1), 'right')",
          "q_value": 0,
          "run": 72
         },
         {
          "location": "((3, 1), 'right')",
          "q_value": 0,
          "run": 73
         },
         {
          "location": "((3, 1), 'right')",
          "q_value": 0,
          "run": 74
         },
         {
          "location": "((3, 1), 'right')",
          "q_value": 0,
          "run": 75
         },
         {
          "location": "((3, 1), 'right')",
          "q_value": 0,
          "run": 76
         },
         {
          "location": "((3, 1), 'right')",
          "q_value": 0,
          "run": 77
         },
         {
          "location": "((3, 1), 'right')",
          "q_value": 0,
          "run": 78
         },
         {
          "location": "((3, 1), 'right')",
          "q_value": 0,
          "run": 79
         },
         {
          "location": "((3, 1), 'right')",
          "q_value": 0,
          "run": 80
         },
         {
          "location": "((3, 1), 'right')",
          "q_value": 0,
          "run": 81
         },
         {
          "location": "((3, 1), 'right')",
          "q_value": 0,
          "run": 82
         },
         {
          "location": "((3, 1), 'right')",
          "q_value": 0,
          "run": 83
         },
         {
          "location": "((3, 1), 'right')",
          "q_value": 0,
          "run": 84
         },
         {
          "location": "((3, 1), 'right')",
          "q_value": 0,
          "run": 85
         },
         {
          "location": "((3, 1), 'right')",
          "q_value": 0,
          "run": 86
         },
         {
          "location": "((3, 1), 'right')",
          "q_value": 0,
          "run": 87
         },
         {
          "location": "((3, 1), 'right')",
          "q_value": 0,
          "run": 88
         },
         {
          "location": "((3, 1), 'right')",
          "q_value": 0,
          "run": 89
         },
         {
          "location": "((3, 1), 'right')",
          "q_value": 0,
          "run": 90
         },
         {
          "location": "((3, 1), 'right')",
          "q_value": 0,
          "run": 91
         },
         {
          "location": "((3, 1), 'right')",
          "q_value": 0,
          "run": 92
         },
         {
          "location": "((3, 1), 'right')",
          "q_value": 0,
          "run": 93
         },
         {
          "location": "((3, 1), 'right')",
          "q_value": 0,
          "run": 94
         },
         {
          "location": "((3, 1), 'right')",
          "q_value": 0,
          "run": 95
         },
         {
          "location": "((3, 1), 'right')",
          "q_value": 0,
          "run": 96
         },
         {
          "location": "((3, 1), 'right')",
          "q_value": 0,
          "run": 97
         },
         {
          "location": "((3, 1), 'right')",
          "q_value": 0,
          "run": 98
         },
         {
          "location": "((3, 1), 'right')",
          "q_value": 0,
          "run": 99
         },
         {
          "location": "((3, 1), 'right')",
          "q_value": 0,
          "run": 100
         },
         {
          "location": "((3, 1), 'up')",
          "q_value": 0,
          "run": 0
         },
         {
          "location": "((3, 1), 'up')",
          "q_value": 0,
          "run": 1
         },
         {
          "location": "((3, 1), 'up')",
          "q_value": 0,
          "run": 2
         },
         {
          "location": "((3, 1), 'up')",
          "q_value": 0,
          "run": 3
         },
         {
          "location": "((3, 1), 'up')",
          "q_value": 0,
          "run": 4
         },
         {
          "location": "((3, 1), 'up')",
          "q_value": 0,
          "run": 5
         },
         {
          "location": "((3, 1), 'up')",
          "q_value": 0,
          "run": 6
         },
         {
          "location": "((3, 1), 'up')",
          "q_value": 0,
          "run": 7
         },
         {
          "location": "((3, 1), 'up')",
          "q_value": 0,
          "run": 8
         },
         {
          "location": "((3, 1), 'up')",
          "q_value": 0,
          "run": 9
         },
         {
          "location": "((3, 1), 'up')",
          "q_value": 0,
          "run": 10
         },
         {
          "location": "((3, 1), 'up')",
          "q_value": 0,
          "run": 11
         },
         {
          "location": "((3, 1), 'up')",
          "q_value": 0,
          "run": 12
         },
         {
          "location": "((3, 1), 'up')",
          "q_value": 0,
          "run": 13
         },
         {
          "location": "((3, 1), 'up')",
          "q_value": 0,
          "run": 14
         },
         {
          "location": "((3, 1), 'up')",
          "q_value": 0,
          "run": 15
         },
         {
          "location": "((3, 1), 'up')",
          "q_value": 0,
          "run": 16
         },
         {
          "location": "((3, 1), 'up')",
          "q_value": 0,
          "run": 17
         },
         {
          "location": "((3, 1), 'up')",
          "q_value": 0,
          "run": 18
         },
         {
          "location": "((3, 1), 'up')",
          "q_value": 0,
          "run": 19
         },
         {
          "location": "((3, 1), 'up')",
          "q_value": 0,
          "run": 20
         },
         {
          "location": "((3, 1), 'up')",
          "q_value": 0,
          "run": 21
         },
         {
          "location": "((3, 1), 'up')",
          "q_value": 0,
          "run": 22
         },
         {
          "location": "((3, 1), 'up')",
          "q_value": 0,
          "run": 23
         },
         {
          "location": "((3, 1), 'up')",
          "q_value": 0,
          "run": 24
         },
         {
          "location": "((3, 1), 'up')",
          "q_value": 0,
          "run": 25
         },
         {
          "location": "((3, 1), 'up')",
          "q_value": 0,
          "run": 26
         },
         {
          "location": "((3, 1), 'up')",
          "q_value": 0,
          "run": 27
         },
         {
          "location": "((3, 1), 'up')",
          "q_value": 0,
          "run": 28
         },
         {
          "location": "((3, 1), 'up')",
          "q_value": 0,
          "run": 29
         },
         {
          "location": "((3, 1), 'up')",
          "q_value": 0,
          "run": 30
         },
         {
          "location": "((3, 1), 'up')",
          "q_value": 0,
          "run": 31
         },
         {
          "location": "((3, 1), 'up')",
          "q_value": 0,
          "run": 32
         },
         {
          "location": "((3, 1), 'up')",
          "q_value": 0,
          "run": 33
         },
         {
          "location": "((3, 1), 'up')",
          "q_value": 0,
          "run": 34
         },
         {
          "location": "((3, 1), 'up')",
          "q_value": 0,
          "run": 35
         },
         {
          "location": "((3, 1), 'up')",
          "q_value": 0,
          "run": 36
         },
         {
          "location": "((3, 1), 'up')",
          "q_value": 0,
          "run": 37
         },
         {
          "location": "((3, 1), 'up')",
          "q_value": 0,
          "run": 38
         },
         {
          "location": "((3, 1), 'up')",
          "q_value": 0,
          "run": 39
         },
         {
          "location": "((3, 1), 'up')",
          "q_value": 0,
          "run": 40
         },
         {
          "location": "((3, 1), 'up')",
          "q_value": 0,
          "run": 41
         },
         {
          "location": "((3, 1), 'up')",
          "q_value": 0,
          "run": 42
         },
         {
          "location": "((3, 1), 'up')",
          "q_value": 0,
          "run": 43
         },
         {
          "location": "((3, 1), 'up')",
          "q_value": 0,
          "run": 44
         },
         {
          "location": "((3, 1), 'up')",
          "q_value": 0,
          "run": 45
         },
         {
          "location": "((3, 1), 'up')",
          "q_value": 0,
          "run": 46
         },
         {
          "location": "((3, 1), 'up')",
          "q_value": 0,
          "run": 47
         },
         {
          "location": "((3, 1), 'up')",
          "q_value": 0,
          "run": 48
         },
         {
          "location": "((3, 1), 'up')",
          "q_value": 0,
          "run": 49
         },
         {
          "location": "((3, 1), 'up')",
          "q_value": 0,
          "run": 50
         },
         {
          "location": "((3, 1), 'up')",
          "q_value": 0,
          "run": 51
         },
         {
          "location": "((3, 1), 'up')",
          "q_value": 0,
          "run": 52
         },
         {
          "location": "((3, 1), 'up')",
          "q_value": 0,
          "run": 53
         },
         {
          "location": "((3, 1), 'up')",
          "q_value": 0,
          "run": 54
         },
         {
          "location": "((3, 1), 'up')",
          "q_value": 0,
          "run": 55
         },
         {
          "location": "((3, 1), 'up')",
          "q_value": 0,
          "run": 56
         },
         {
          "location": "((3, 1), 'up')",
          "q_value": 0,
          "run": 57
         },
         {
          "location": "((3, 1), 'up')",
          "q_value": 0,
          "run": 58
         },
         {
          "location": "((3, 1), 'up')",
          "q_value": 0,
          "run": 59
         },
         {
          "location": "((3, 1), 'up')",
          "q_value": 0,
          "run": 60
         },
         {
          "location": "((3, 1), 'up')",
          "q_value": 0,
          "run": 61
         },
         {
          "location": "((3, 1), 'up')",
          "q_value": 0,
          "run": 62
         },
         {
          "location": "((3, 1), 'up')",
          "q_value": 0,
          "run": 63
         },
         {
          "location": "((3, 1), 'up')",
          "q_value": 0,
          "run": 64
         },
         {
          "location": "((3, 1), 'up')",
          "q_value": 0,
          "run": 65
         },
         {
          "location": "((3, 1), 'up')",
          "q_value": 0,
          "run": 66
         },
         {
          "location": "((3, 1), 'up')",
          "q_value": 0,
          "run": 67
         },
         {
          "location": "((3, 1), 'up')",
          "q_value": 0,
          "run": 68
         },
         {
          "location": "((3, 1), 'up')",
          "q_value": 0,
          "run": 69
         },
         {
          "location": "((3, 1), 'up')",
          "q_value": 0,
          "run": 70
         },
         {
          "location": "((3, 1), 'up')",
          "q_value": 0,
          "run": 71
         },
         {
          "location": "((3, 1), 'up')",
          "q_value": 0,
          "run": 72
         },
         {
          "location": "((3, 1), 'up')",
          "q_value": 0,
          "run": 73
         },
         {
          "location": "((3, 1), 'up')",
          "q_value": 0,
          "run": 74
         },
         {
          "location": "((3, 1), 'up')",
          "q_value": 0,
          "run": 75
         },
         {
          "location": "((3, 1), 'up')",
          "q_value": 0,
          "run": 76
         },
         {
          "location": "((3, 1), 'up')",
          "q_value": 0,
          "run": 77
         },
         {
          "location": "((3, 1), 'up')",
          "q_value": 0,
          "run": 78
         },
         {
          "location": "((3, 1), 'up')",
          "q_value": 0,
          "run": 79
         },
         {
          "location": "((3, 1), 'up')",
          "q_value": 0,
          "run": 80
         },
         {
          "location": "((3, 1), 'up')",
          "q_value": 0,
          "run": 81
         },
         {
          "location": "((3, 1), 'up')",
          "q_value": 0,
          "run": 82
         },
         {
          "location": "((3, 1), 'up')",
          "q_value": 0,
          "run": 83
         },
         {
          "location": "((3, 1), 'up')",
          "q_value": 0,
          "run": 84
         },
         {
          "location": "((3, 1), 'up')",
          "q_value": 0,
          "run": 85
         },
         {
          "location": "((3, 1), 'up')",
          "q_value": 0,
          "run": 86
         },
         {
          "location": "((3, 1), 'up')",
          "q_value": 0,
          "run": 87
         },
         {
          "location": "((3, 1), 'up')",
          "q_value": 0,
          "run": 88
         },
         {
          "location": "((3, 1), 'up')",
          "q_value": 0,
          "run": 89
         },
         {
          "location": "((3, 1), 'up')",
          "q_value": 0,
          "run": 90
         },
         {
          "location": "((3, 1), 'up')",
          "q_value": 0,
          "run": 91
         },
         {
          "location": "((3, 1), 'up')",
          "q_value": 0,
          "run": 92
         },
         {
          "location": "((3, 1), 'up')",
          "q_value": 0,
          "run": 93
         },
         {
          "location": "((3, 1), 'up')",
          "q_value": 0,
          "run": 94
         },
         {
          "location": "((3, 1), 'up')",
          "q_value": 0,
          "run": 95
         },
         {
          "location": "((3, 1), 'up')",
          "q_value": 0,
          "run": 96
         },
         {
          "location": "((3, 1), 'up')",
          "q_value": 0,
          "run": 97
         },
         {
          "location": "((3, 1), 'up')",
          "q_value": 0,
          "run": 98
         },
         {
          "location": "((3, 1), 'up')",
          "q_value": 0,
          "run": 99
         },
         {
          "location": "((3, 1), 'up')",
          "q_value": 0,
          "run": 100
         },
         {
          "location": "((3, 1), 'left')",
          "q_value": 0,
          "run": 0
         },
         {
          "location": "((3, 1), 'left')",
          "q_value": 0,
          "run": 1
         },
         {
          "location": "((3, 1), 'left')",
          "q_value": 0,
          "run": 2
         },
         {
          "location": "((3, 1), 'left')",
          "q_value": 0,
          "run": 3
         },
         {
          "location": "((3, 1), 'left')",
          "q_value": 0,
          "run": 4
         },
         {
          "location": "((3, 1), 'left')",
          "q_value": 0,
          "run": 5
         },
         {
          "location": "((3, 1), 'left')",
          "q_value": 0,
          "run": 6
         },
         {
          "location": "((3, 1), 'left')",
          "q_value": 0,
          "run": 7
         },
         {
          "location": "((3, 1), 'left')",
          "q_value": 0,
          "run": 8
         },
         {
          "location": "((3, 1), 'left')",
          "q_value": 0,
          "run": 9
         },
         {
          "location": "((3, 1), 'left')",
          "q_value": 0,
          "run": 10
         },
         {
          "location": "((3, 1), 'left')",
          "q_value": 0,
          "run": 11
         },
         {
          "location": "((3, 1), 'left')",
          "q_value": 0,
          "run": 12
         },
         {
          "location": "((3, 1), 'left')",
          "q_value": 0,
          "run": 13
         },
         {
          "location": "((3, 1), 'left')",
          "q_value": 0,
          "run": 14
         },
         {
          "location": "((3, 1), 'left')",
          "q_value": 0,
          "run": 15
         },
         {
          "location": "((3, 1), 'left')",
          "q_value": 0,
          "run": 16
         },
         {
          "location": "((3, 1), 'left')",
          "q_value": 0,
          "run": 17
         },
         {
          "location": "((3, 1), 'left')",
          "q_value": 0,
          "run": 18
         },
         {
          "location": "((3, 1), 'left')",
          "q_value": 0,
          "run": 19
         },
         {
          "location": "((3, 1), 'left')",
          "q_value": 0,
          "run": 20
         },
         {
          "location": "((3, 1), 'left')",
          "q_value": 0,
          "run": 21
         },
         {
          "location": "((3, 1), 'left')",
          "q_value": 0,
          "run": 22
         },
         {
          "location": "((3, 1), 'left')",
          "q_value": 0,
          "run": 23
         },
         {
          "location": "((3, 1), 'left')",
          "q_value": 0,
          "run": 24
         },
         {
          "location": "((3, 1), 'left')",
          "q_value": 0,
          "run": 25
         },
         {
          "location": "((3, 1), 'left')",
          "q_value": 0,
          "run": 26
         },
         {
          "location": "((3, 1), 'left')",
          "q_value": 0,
          "run": 27
         },
         {
          "location": "((3, 1), 'left')",
          "q_value": 0,
          "run": 28
         },
         {
          "location": "((3, 1), 'left')",
          "q_value": 0,
          "run": 29
         },
         {
          "location": "((3, 1), 'left')",
          "q_value": 0,
          "run": 30
         },
         {
          "location": "((3, 1), 'left')",
          "q_value": 0,
          "run": 31
         },
         {
          "location": "((3, 1), 'left')",
          "q_value": 0,
          "run": 32
         },
         {
          "location": "((3, 1), 'left')",
          "q_value": 0,
          "run": 33
         },
         {
          "location": "((3, 1), 'left')",
          "q_value": 0,
          "run": 34
         },
         {
          "location": "((3, 1), 'left')",
          "q_value": 0,
          "run": 35
         },
         {
          "location": "((3, 1), 'left')",
          "q_value": 0,
          "run": 36
         },
         {
          "location": "((3, 1), 'left')",
          "q_value": 0,
          "run": 37
         },
         {
          "location": "((3, 1), 'left')",
          "q_value": 0,
          "run": 38
         },
         {
          "location": "((3, 1), 'left')",
          "q_value": 0,
          "run": 39
         },
         {
          "location": "((3, 1), 'left')",
          "q_value": 0,
          "run": 40
         },
         {
          "location": "((3, 1), 'left')",
          "q_value": 0,
          "run": 41
         },
         {
          "location": "((3, 1), 'left')",
          "q_value": 0,
          "run": 42
         },
         {
          "location": "((3, 1), 'left')",
          "q_value": 0,
          "run": 43
         },
         {
          "location": "((3, 1), 'left')",
          "q_value": 0,
          "run": 44
         },
         {
          "location": "((3, 1), 'left')",
          "q_value": 0,
          "run": 45
         },
         {
          "location": "((3, 1), 'left')",
          "q_value": 0,
          "run": 46
         },
         {
          "location": "((3, 1), 'left')",
          "q_value": 0,
          "run": 47
         },
         {
          "location": "((3, 1), 'left')",
          "q_value": 0,
          "run": 48
         },
         {
          "location": "((3, 1), 'left')",
          "q_value": 0,
          "run": 49
         },
         {
          "location": "((3, 1), 'left')",
          "q_value": 0,
          "run": 50
         },
         {
          "location": "((3, 1), 'left')",
          "q_value": 0,
          "run": 51
         },
         {
          "location": "((3, 1), 'left')",
          "q_value": 0,
          "run": 52
         },
         {
          "location": "((3, 1), 'left')",
          "q_value": 0,
          "run": 53
         },
         {
          "location": "((3, 1), 'left')",
          "q_value": 0,
          "run": 54
         },
         {
          "location": "((3, 1), 'left')",
          "q_value": 0,
          "run": 55
         },
         {
          "location": "((3, 1), 'left')",
          "q_value": 0,
          "run": 56
         },
         {
          "location": "((3, 1), 'left')",
          "q_value": 0,
          "run": 57
         },
         {
          "location": "((3, 1), 'left')",
          "q_value": 0,
          "run": 58
         },
         {
          "location": "((3, 1), 'left')",
          "q_value": 0,
          "run": 59
         },
         {
          "location": "((3, 1), 'left')",
          "q_value": 0,
          "run": 60
         },
         {
          "location": "((3, 1), 'left')",
          "q_value": 0,
          "run": 61
         },
         {
          "location": "((3, 1), 'left')",
          "q_value": 0,
          "run": 62
         },
         {
          "location": "((3, 1), 'left')",
          "q_value": 0,
          "run": 63
         },
         {
          "location": "((3, 1), 'left')",
          "q_value": 0,
          "run": 64
         },
         {
          "location": "((3, 1), 'left')",
          "q_value": 0,
          "run": 65
         },
         {
          "location": "((3, 1), 'left')",
          "q_value": 0,
          "run": 66
         },
         {
          "location": "((3, 1), 'left')",
          "q_value": 0,
          "run": 67
         },
         {
          "location": "((3, 1), 'left')",
          "q_value": 0,
          "run": 68
         },
         {
          "location": "((3, 1), 'left')",
          "q_value": 0,
          "run": 69
         },
         {
          "location": "((3, 1), 'left')",
          "q_value": 0,
          "run": 70
         },
         {
          "location": "((3, 1), 'left')",
          "q_value": 0,
          "run": 71
         },
         {
          "location": "((3, 1), 'left')",
          "q_value": 0,
          "run": 72
         },
         {
          "location": "((3, 1), 'left')",
          "q_value": 0,
          "run": 73
         },
         {
          "location": "((3, 1), 'left')",
          "q_value": 0,
          "run": 74
         },
         {
          "location": "((3, 1), 'left')",
          "q_value": 0,
          "run": 75
         },
         {
          "location": "((3, 1), 'left')",
          "q_value": 0,
          "run": 76
         },
         {
          "location": "((3, 1), 'left')",
          "q_value": 0,
          "run": 77
         },
         {
          "location": "((3, 1), 'left')",
          "q_value": 0,
          "run": 78
         },
         {
          "location": "((3, 1), 'left')",
          "q_value": 0,
          "run": 79
         },
         {
          "location": "((3, 1), 'left')",
          "q_value": 0,
          "run": 80
         },
         {
          "location": "((3, 1), 'left')",
          "q_value": 0,
          "run": 81
         },
         {
          "location": "((3, 1), 'left')",
          "q_value": 0,
          "run": 82
         },
         {
          "location": "((3, 1), 'left')",
          "q_value": 0,
          "run": 83
         },
         {
          "location": "((3, 1), 'left')",
          "q_value": 0,
          "run": 84
         },
         {
          "location": "((3, 1), 'left')",
          "q_value": 0,
          "run": 85
         },
         {
          "location": "((3, 1), 'left')",
          "q_value": 0,
          "run": 86
         },
         {
          "location": "((3, 1), 'left')",
          "q_value": 0,
          "run": 87
         },
         {
          "location": "((3, 1), 'left')",
          "q_value": 0,
          "run": 88
         },
         {
          "location": "((3, 1), 'left')",
          "q_value": 0,
          "run": 89
         },
         {
          "location": "((3, 1), 'left')",
          "q_value": 0,
          "run": 90
         },
         {
          "location": "((3, 1), 'left')",
          "q_value": 0,
          "run": 91
         },
         {
          "location": "((3, 1), 'left')",
          "q_value": 0,
          "run": 92
         },
         {
          "location": "((3, 1), 'left')",
          "q_value": 0,
          "run": 93
         },
         {
          "location": "((3, 1), 'left')",
          "q_value": 0,
          "run": 94
         },
         {
          "location": "((3, 1), 'left')",
          "q_value": 0,
          "run": 95
         },
         {
          "location": "((3, 1), 'left')",
          "q_value": 0,
          "run": 96
         },
         {
          "location": "((3, 1), 'left')",
          "q_value": 0,
          "run": 97
         },
         {
          "location": "((3, 1), 'left')",
          "q_value": 0,
          "run": 98
         },
         {
          "location": "((3, 1), 'left')",
          "q_value": 0,
          "run": 99
         },
         {
          "location": "((3, 1), 'left')",
          "q_value": 0,
          "run": 100
         },
         {
          "location": "((3, 2), 'down')",
          "q_value": 0,
          "run": 0
         },
         {
          "location": "((3, 2), 'down')",
          "q_value": -0.1,
          "run": 1
         },
         {
          "location": "((3, 2), 'down')",
          "q_value": -0.1,
          "run": 2
         },
         {
          "location": "((3, 2), 'down')",
          "q_value": -0.1,
          "run": 3
         },
         {
          "location": "((3, 2), 'down')",
          "q_value": -0.1,
          "run": 4
         },
         {
          "location": "((3, 2), 'down')",
          "q_value": -0.1,
          "run": 5
         },
         {
          "location": "((3, 2), 'down')",
          "q_value": -0.1,
          "run": 6
         },
         {
          "location": "((3, 2), 'down')",
          "q_value": -0.1,
          "run": 7
         },
         {
          "location": "((3, 2), 'down')",
          "q_value": -0.1,
          "run": 8
         },
         {
          "location": "((3, 2), 'down')",
          "q_value": -0.1,
          "run": 9
         },
         {
          "location": "((3, 2), 'down')",
          "q_value": -0.1,
          "run": 10
         },
         {
          "location": "((3, 2), 'down')",
          "q_value": -0.1,
          "run": 11
         },
         {
          "location": "((3, 2), 'down')",
          "q_value": -0.1,
          "run": 12
         },
         {
          "location": "((3, 2), 'down')",
          "q_value": -0.1,
          "run": 13
         },
         {
          "location": "((3, 2), 'down')",
          "q_value": -0.1,
          "run": 14
         },
         {
          "location": "((3, 2), 'down')",
          "q_value": -0.1,
          "run": 15
         },
         {
          "location": "((3, 2), 'down')",
          "q_value": -0.1,
          "run": 16
         },
         {
          "location": "((3, 2), 'down')",
          "q_value": -0.1,
          "run": 17
         },
         {
          "location": "((3, 2), 'down')",
          "q_value": -0.1,
          "run": 18
         },
         {
          "location": "((3, 2), 'down')",
          "q_value": -0.1,
          "run": 19
         },
         {
          "location": "((3, 2), 'down')",
          "q_value": -0.1,
          "run": 20
         },
         {
          "location": "((3, 2), 'down')",
          "q_value": -0.1,
          "run": 21
         },
         {
          "location": "((3, 2), 'down')",
          "q_value": -0.1,
          "run": 22
         },
         {
          "location": "((3, 2), 'down')",
          "q_value": -0.1,
          "run": 23
         },
         {
          "location": "((3, 2), 'down')",
          "q_value": -0.1,
          "run": 24
         },
         {
          "location": "((3, 2), 'down')",
          "q_value": -0.1,
          "run": 25
         },
         {
          "location": "((3, 2), 'down')",
          "q_value": -0.1,
          "run": 26
         },
         {
          "location": "((3, 2), 'down')",
          "q_value": -0.1,
          "run": 27
         },
         {
          "location": "((3, 2), 'down')",
          "q_value": -0.1,
          "run": 28
         },
         {
          "location": "((3, 2), 'down')",
          "q_value": -0.1,
          "run": 29
         },
         {
          "location": "((3, 2), 'down')",
          "q_value": -0.1,
          "run": 30
         },
         {
          "location": "((3, 2), 'down')",
          "q_value": -0.1,
          "run": 31
         },
         {
          "location": "((3, 2), 'down')",
          "q_value": -0.1,
          "run": 32
         },
         {
          "location": "((3, 2), 'down')",
          "q_value": -0.1,
          "run": 33
         },
         {
          "location": "((3, 2), 'down')",
          "q_value": -0.1,
          "run": 34
         },
         {
          "location": "((3, 2), 'down')",
          "q_value": -0.1,
          "run": 35
         },
         {
          "location": "((3, 2), 'down')",
          "q_value": -0.1,
          "run": 36
         },
         {
          "location": "((3, 2), 'down')",
          "q_value": -0.1,
          "run": 37
         },
         {
          "location": "((3, 2), 'down')",
          "q_value": -0.1,
          "run": 38
         },
         {
          "location": "((3, 2), 'down')",
          "q_value": -0.1,
          "run": 39
         },
         {
          "location": "((3, 2), 'down')",
          "q_value": -0.1,
          "run": 40
         },
         {
          "location": "((3, 2), 'down')",
          "q_value": -0.1,
          "run": 41
         },
         {
          "location": "((3, 2), 'down')",
          "q_value": -0.1,
          "run": 42
         },
         {
          "location": "((3, 2), 'down')",
          "q_value": -0.1,
          "run": 43
         },
         {
          "location": "((3, 2), 'down')",
          "q_value": -0.1,
          "run": 44
         },
         {
          "location": "((3, 2), 'down')",
          "q_value": -0.1,
          "run": 45
         },
         {
          "location": "((3, 2), 'down')",
          "q_value": -0.1,
          "run": 46
         },
         {
          "location": "((3, 2), 'down')",
          "q_value": -0.1,
          "run": 47
         },
         {
          "location": "((3, 2), 'down')",
          "q_value": -0.1,
          "run": 48
         },
         {
          "location": "((3, 2), 'down')",
          "q_value": -0.1,
          "run": 49
         },
         {
          "location": "((3, 2), 'down')",
          "q_value": -0.1,
          "run": 50
         },
         {
          "location": "((3, 2), 'down')",
          "q_value": -0.1,
          "run": 51
         },
         {
          "location": "((3, 2), 'down')",
          "q_value": -0.1,
          "run": 52
         },
         {
          "location": "((3, 2), 'down')",
          "q_value": -0.1,
          "run": 53
         },
         {
          "location": "((3, 2), 'down')",
          "q_value": -0.1,
          "run": 54
         },
         {
          "location": "((3, 2), 'down')",
          "q_value": -0.1,
          "run": 55
         },
         {
          "location": "((3, 2), 'down')",
          "q_value": -0.1,
          "run": 56
         },
         {
          "location": "((3, 2), 'down')",
          "q_value": -0.1,
          "run": 57
         },
         {
          "location": "((3, 2), 'down')",
          "q_value": -0.1,
          "run": 58
         },
         {
          "location": "((3, 2), 'down')",
          "q_value": -0.1,
          "run": 59
         },
         {
          "location": "((3, 2), 'down')",
          "q_value": -0.1,
          "run": 60
         },
         {
          "location": "((3, 2), 'down')",
          "q_value": -0.1,
          "run": 61
         },
         {
          "location": "((3, 2), 'down')",
          "q_value": -0.1,
          "run": 62
         },
         {
          "location": "((3, 2), 'down')",
          "q_value": -0.1,
          "run": 63
         },
         {
          "location": "((3, 2), 'down')",
          "q_value": -0.1,
          "run": 64
         },
         {
          "location": "((3, 2), 'down')",
          "q_value": -0.1,
          "run": 65
         },
         {
          "location": "((3, 2), 'down')",
          "q_value": -0.1,
          "run": 66
         },
         {
          "location": "((3, 2), 'down')",
          "q_value": -0.1,
          "run": 67
         },
         {
          "location": "((3, 2), 'down')",
          "q_value": -0.1,
          "run": 68
         },
         {
          "location": "((3, 2), 'down')",
          "q_value": -0.1,
          "run": 69
         },
         {
          "location": "((3, 2), 'down')",
          "q_value": -0.1,
          "run": 70
         },
         {
          "location": "((3, 2), 'down')",
          "q_value": -0.1,
          "run": 71
         },
         {
          "location": "((3, 2), 'down')",
          "q_value": -0.1,
          "run": 72
         },
         {
          "location": "((3, 2), 'down')",
          "q_value": -0.1,
          "run": 73
         },
         {
          "location": "((3, 2), 'down')",
          "q_value": -0.1,
          "run": 74
         },
         {
          "location": "((3, 2), 'down')",
          "q_value": -0.1,
          "run": 75
         },
         {
          "location": "((3, 2), 'down')",
          "q_value": -0.1,
          "run": 76
         },
         {
          "location": "((3, 2), 'down')",
          "q_value": -0.1,
          "run": 77
         },
         {
          "location": "((3, 2), 'down')",
          "q_value": -0.1,
          "run": 78
         },
         {
          "location": "((3, 2), 'down')",
          "q_value": -0.1,
          "run": 79
         },
         {
          "location": "((3, 2), 'down')",
          "q_value": -0.1,
          "run": 80
         },
         {
          "location": "((3, 2), 'down')",
          "q_value": -0.1,
          "run": 81
         },
         {
          "location": "((3, 2), 'down')",
          "q_value": -0.1,
          "run": 82
         },
         {
          "location": "((3, 2), 'down')",
          "q_value": -0.1,
          "run": 83
         },
         {
          "location": "((3, 2), 'down')",
          "q_value": -0.1,
          "run": 84
         },
         {
          "location": "((3, 2), 'down')",
          "q_value": -0.1,
          "run": 85
         },
         {
          "location": "((3, 2), 'down')",
          "q_value": -0.1,
          "run": 86
         },
         {
          "location": "((3, 2), 'down')",
          "q_value": -0.1,
          "run": 87
         },
         {
          "location": "((3, 2), 'down')",
          "q_value": -0.1,
          "run": 88
         },
         {
          "location": "((3, 2), 'down')",
          "q_value": -0.1,
          "run": 89
         },
         {
          "location": "((3, 2), 'down')",
          "q_value": -0.1,
          "run": 90
         },
         {
          "location": "((3, 2), 'down')",
          "q_value": -0.1,
          "run": 91
         },
         {
          "location": "((3, 2), 'down')",
          "q_value": -0.1,
          "run": 92
         },
         {
          "location": "((3, 2), 'down')",
          "q_value": -0.1,
          "run": 93
         },
         {
          "location": "((3, 2), 'down')",
          "q_value": -0.1,
          "run": 94
         },
         {
          "location": "((3, 2), 'down')",
          "q_value": -0.1,
          "run": 95
         },
         {
          "location": "((3, 2), 'down')",
          "q_value": -0.1,
          "run": 96
         },
         {
          "location": "((3, 2), 'down')",
          "q_value": -0.1,
          "run": 97
         },
         {
          "location": "((3, 2), 'down')",
          "q_value": -0.1,
          "run": 98
         },
         {
          "location": "((3, 2), 'down')",
          "q_value": -0.1,
          "run": 99
         },
         {
          "location": "((3, 2), 'down')",
          "q_value": -0.1,
          "run": 100
         },
         {
          "location": "((3, 2), 'right')",
          "q_value": 0,
          "run": 0
         },
         {
          "location": "((3, 2), 'right')",
          "q_value": 0,
          "run": 1
         },
         {
          "location": "((3, 2), 'right')",
          "q_value": 0,
          "run": 2
         },
         {
          "location": "((3, 2), 'right')",
          "q_value": 0,
          "run": 3
         },
         {
          "location": "((3, 2), 'right')",
          "q_value": 0,
          "run": 4
         },
         {
          "location": "((3, 2), 'right')",
          "q_value": 0,
          "run": 5
         },
         {
          "location": "((3, 2), 'right')",
          "q_value": 0,
          "run": 6
         },
         {
          "location": "((3, 2), 'right')",
          "q_value": 0,
          "run": 7
         },
         {
          "location": "((3, 2), 'right')",
          "q_value": 0,
          "run": 8
         },
         {
          "location": "((3, 2), 'right')",
          "q_value": 0,
          "run": 9
         },
         {
          "location": "((3, 2), 'right')",
          "q_value": 0,
          "run": 10
         },
         {
          "location": "((3, 2), 'right')",
          "q_value": 0,
          "run": 11
         },
         {
          "location": "((3, 2), 'right')",
          "q_value": 0,
          "run": 12
         },
         {
          "location": "((3, 2), 'right')",
          "q_value": 0,
          "run": 13
         },
         {
          "location": "((3, 2), 'right')",
          "q_value": 0,
          "run": 14
         },
         {
          "location": "((3, 2), 'right')",
          "q_value": 0,
          "run": 15
         },
         {
          "location": "((3, 2), 'right')",
          "q_value": 0,
          "run": 16
         },
         {
          "location": "((3, 2), 'right')",
          "q_value": 0,
          "run": 17
         },
         {
          "location": "((3, 2), 'right')",
          "q_value": 0,
          "run": 18
         },
         {
          "location": "((3, 2), 'right')",
          "q_value": 0,
          "run": 19
         },
         {
          "location": "((3, 2), 'right')",
          "q_value": 0,
          "run": 20
         },
         {
          "location": "((3, 2), 'right')",
          "q_value": 0,
          "run": 21
         },
         {
          "location": "((3, 2), 'right')",
          "q_value": 0,
          "run": 22
         },
         {
          "location": "((3, 2), 'right')",
          "q_value": 0,
          "run": 23
         },
         {
          "location": "((3, 2), 'right')",
          "q_value": 0,
          "run": 24
         },
         {
          "location": "((3, 2), 'right')",
          "q_value": 0,
          "run": 25
         },
         {
          "location": "((3, 2), 'right')",
          "q_value": 0,
          "run": 26
         },
         {
          "location": "((3, 2), 'right')",
          "q_value": 0,
          "run": 27
         },
         {
          "location": "((3, 2), 'right')",
          "q_value": 0,
          "run": 28
         },
         {
          "location": "((3, 2), 'right')",
          "q_value": 0,
          "run": 29
         },
         {
          "location": "((3, 2), 'right')",
          "q_value": 0,
          "run": 30
         },
         {
          "location": "((3, 2), 'right')",
          "q_value": 0,
          "run": 31
         },
         {
          "location": "((3, 2), 'right')",
          "q_value": 0,
          "run": 32
         },
         {
          "location": "((3, 2), 'right')",
          "q_value": 0,
          "run": 33
         },
         {
          "location": "((3, 2), 'right')",
          "q_value": 0,
          "run": 34
         },
         {
          "location": "((3, 2), 'right')",
          "q_value": 0,
          "run": 35
         },
         {
          "location": "((3, 2), 'right')",
          "q_value": 0,
          "run": 36
         },
         {
          "location": "((3, 2), 'right')",
          "q_value": 0,
          "run": 37
         },
         {
          "location": "((3, 2), 'right')",
          "q_value": 0,
          "run": 38
         },
         {
          "location": "((3, 2), 'right')",
          "q_value": 0,
          "run": 39
         },
         {
          "location": "((3, 2), 'right')",
          "q_value": 0,
          "run": 40
         },
         {
          "location": "((3, 2), 'right')",
          "q_value": 0,
          "run": 41
         },
         {
          "location": "((3, 2), 'right')",
          "q_value": 0,
          "run": 42
         },
         {
          "location": "((3, 2), 'right')",
          "q_value": 0,
          "run": 43
         },
         {
          "location": "((3, 2), 'right')",
          "q_value": 0,
          "run": 44
         },
         {
          "location": "((3, 2), 'right')",
          "q_value": 0,
          "run": 45
         },
         {
          "location": "((3, 2), 'right')",
          "q_value": 0,
          "run": 46
         },
         {
          "location": "((3, 2), 'right')",
          "q_value": 0,
          "run": 47
         },
         {
          "location": "((3, 2), 'right')",
          "q_value": 0,
          "run": 48
         },
         {
          "location": "((3, 2), 'right')",
          "q_value": 0,
          "run": 49
         },
         {
          "location": "((3, 2), 'right')",
          "q_value": 0,
          "run": 50
         },
         {
          "location": "((3, 2), 'right')",
          "q_value": 0,
          "run": 51
         },
         {
          "location": "((3, 2), 'right')",
          "q_value": 0,
          "run": 52
         },
         {
          "location": "((3, 2), 'right')",
          "q_value": 0,
          "run": 53
         },
         {
          "location": "((3, 2), 'right')",
          "q_value": 0,
          "run": 54
         },
         {
          "location": "((3, 2), 'right')",
          "q_value": 0,
          "run": 55
         },
         {
          "location": "((3, 2), 'right')",
          "q_value": 0,
          "run": 56
         },
         {
          "location": "((3, 2), 'right')",
          "q_value": 0,
          "run": 57
         },
         {
          "location": "((3, 2), 'right')",
          "q_value": 0,
          "run": 58
         },
         {
          "location": "((3, 2), 'right')",
          "q_value": 0,
          "run": 59
         },
         {
          "location": "((3, 2), 'right')",
          "q_value": 0,
          "run": 60
         },
         {
          "location": "((3, 2), 'right')",
          "q_value": 0,
          "run": 61
         },
         {
          "location": "((3, 2), 'right')",
          "q_value": 0,
          "run": 62
         },
         {
          "location": "((3, 2), 'right')",
          "q_value": 0,
          "run": 63
         },
         {
          "location": "((3, 2), 'right')",
          "q_value": 0,
          "run": 64
         },
         {
          "location": "((3, 2), 'right')",
          "q_value": 0,
          "run": 65
         },
         {
          "location": "((3, 2), 'right')",
          "q_value": 0,
          "run": 66
         },
         {
          "location": "((3, 2), 'right')",
          "q_value": 0,
          "run": 67
         },
         {
          "location": "((3, 2), 'right')",
          "q_value": 0,
          "run": 68
         },
         {
          "location": "((3, 2), 'right')",
          "q_value": 0,
          "run": 69
         },
         {
          "location": "((3, 2), 'right')",
          "q_value": 0,
          "run": 70
         },
         {
          "location": "((3, 2), 'right')",
          "q_value": 0,
          "run": 71
         },
         {
          "location": "((3, 2), 'right')",
          "q_value": 0,
          "run": 72
         },
         {
          "location": "((3, 2), 'right')",
          "q_value": 0,
          "run": 73
         },
         {
          "location": "((3, 2), 'right')",
          "q_value": 0,
          "run": 74
         },
         {
          "location": "((3, 2), 'right')",
          "q_value": 0,
          "run": 75
         },
         {
          "location": "((3, 2), 'right')",
          "q_value": 0,
          "run": 76
         },
         {
          "location": "((3, 2), 'right')",
          "q_value": 0,
          "run": 77
         },
         {
          "location": "((3, 2), 'right')",
          "q_value": 0,
          "run": 78
         },
         {
          "location": "((3, 2), 'right')",
          "q_value": 0,
          "run": 79
         },
         {
          "location": "((3, 2), 'right')",
          "q_value": 0,
          "run": 80
         },
         {
          "location": "((3, 2), 'right')",
          "q_value": 0,
          "run": 81
         },
         {
          "location": "((3, 2), 'right')",
          "q_value": 0,
          "run": 82
         },
         {
          "location": "((3, 2), 'right')",
          "q_value": 0,
          "run": 83
         },
         {
          "location": "((3, 2), 'right')",
          "q_value": 0,
          "run": 84
         },
         {
          "location": "((3, 2), 'right')",
          "q_value": 0,
          "run": 85
         },
         {
          "location": "((3, 2), 'right')",
          "q_value": 0,
          "run": 86
         },
         {
          "location": "((3, 2), 'right')",
          "q_value": 0,
          "run": 87
         },
         {
          "location": "((3, 2), 'right')",
          "q_value": 0,
          "run": 88
         },
         {
          "location": "((3, 2), 'right')",
          "q_value": 0,
          "run": 89
         },
         {
          "location": "((3, 2), 'right')",
          "q_value": 0,
          "run": 90
         },
         {
          "location": "((3, 2), 'right')",
          "q_value": 0,
          "run": 91
         },
         {
          "location": "((3, 2), 'right')",
          "q_value": 0,
          "run": 92
         },
         {
          "location": "((3, 2), 'right')",
          "q_value": 0,
          "run": 93
         },
         {
          "location": "((3, 2), 'right')",
          "q_value": 0,
          "run": 94
         },
         {
          "location": "((3, 2), 'right')",
          "q_value": 0,
          "run": 95
         },
         {
          "location": "((3, 2), 'right')",
          "q_value": 0,
          "run": 96
         },
         {
          "location": "((3, 2), 'right')",
          "q_value": 0,
          "run": 97
         },
         {
          "location": "((3, 2), 'right')",
          "q_value": 0,
          "run": 98
         },
         {
          "location": "((3, 2), 'right')",
          "q_value": 0,
          "run": 99
         },
         {
          "location": "((3, 2), 'right')",
          "q_value": 0,
          "run": 100
         },
         {
          "location": "((3, 2), 'up')",
          "q_value": 0,
          "run": 0
         },
         {
          "location": "((3, 2), 'up')",
          "q_value": 1,
          "run": 1
         },
         {
          "location": "((3, 2), 'up')",
          "q_value": 1,
          "run": 2
         },
         {
          "location": "((3, 2), 'up')",
          "q_value": 1,
          "run": 3
         },
         {
          "location": "((3, 2), 'up')",
          "q_value": 1,
          "run": 4
         },
         {
          "location": "((3, 2), 'up')",
          "q_value": 1,
          "run": 5
         },
         {
          "location": "((3, 2), 'up')",
          "q_value": 1,
          "run": 6
         },
         {
          "location": "((3, 2), 'up')",
          "q_value": 1,
          "run": 7
         },
         {
          "location": "((3, 2), 'up')",
          "q_value": 1,
          "run": 8
         },
         {
          "location": "((3, 2), 'up')",
          "q_value": 1,
          "run": 9
         },
         {
          "location": "((3, 2), 'up')",
          "q_value": 1,
          "run": 10
         },
         {
          "location": "((3, 2), 'up')",
          "q_value": 1,
          "run": 11
         },
         {
          "location": "((3, 2), 'up')",
          "q_value": 1,
          "run": 12
         },
         {
          "location": "((3, 2), 'up')",
          "q_value": 1,
          "run": 13
         },
         {
          "location": "((3, 2), 'up')",
          "q_value": 1,
          "run": 14
         },
         {
          "location": "((3, 2), 'up')",
          "q_value": 1,
          "run": 15
         },
         {
          "location": "((3, 2), 'up')",
          "q_value": 1,
          "run": 16
         },
         {
          "location": "((3, 2), 'up')",
          "q_value": 1,
          "run": 17
         },
         {
          "location": "((3, 2), 'up')",
          "q_value": 1,
          "run": 18
         },
         {
          "location": "((3, 2), 'up')",
          "q_value": 1,
          "run": 19
         },
         {
          "location": "((3, 2), 'up')",
          "q_value": 1,
          "run": 20
         },
         {
          "location": "((3, 2), 'up')",
          "q_value": 1,
          "run": 21
         },
         {
          "location": "((3, 2), 'up')",
          "q_value": 1,
          "run": 22
         },
         {
          "location": "((3, 2), 'up')",
          "q_value": 1,
          "run": 23
         },
         {
          "location": "((3, 2), 'up')",
          "q_value": 1,
          "run": 24
         },
         {
          "location": "((3, 2), 'up')",
          "q_value": 1,
          "run": 25
         },
         {
          "location": "((3, 2), 'up')",
          "q_value": 1,
          "run": 26
         },
         {
          "location": "((3, 2), 'up')",
          "q_value": 1,
          "run": 27
         },
         {
          "location": "((3, 2), 'up')",
          "q_value": 1,
          "run": 28
         },
         {
          "location": "((3, 2), 'up')",
          "q_value": 1,
          "run": 29
         },
         {
          "location": "((3, 2), 'up')",
          "q_value": 1,
          "run": 30
         },
         {
          "location": "((3, 2), 'up')",
          "q_value": 1,
          "run": 31
         },
         {
          "location": "((3, 2), 'up')",
          "q_value": 1,
          "run": 32
         },
         {
          "location": "((3, 2), 'up')",
          "q_value": 1,
          "run": 33
         },
         {
          "location": "((3, 2), 'up')",
          "q_value": 1,
          "run": 34
         },
         {
          "location": "((3, 2), 'up')",
          "q_value": 1,
          "run": 35
         },
         {
          "location": "((3, 2), 'up')",
          "q_value": 1,
          "run": 36
         },
         {
          "location": "((3, 2), 'up')",
          "q_value": 1,
          "run": 37
         },
         {
          "location": "((3, 2), 'up')",
          "q_value": 1,
          "run": 38
         },
         {
          "location": "((3, 2), 'up')",
          "q_value": 1,
          "run": 39
         },
         {
          "location": "((3, 2), 'up')",
          "q_value": 1,
          "run": 40
         },
         {
          "location": "((3, 2), 'up')",
          "q_value": 1,
          "run": 41
         },
         {
          "location": "((3, 2), 'up')",
          "q_value": 1,
          "run": 42
         },
         {
          "location": "((3, 2), 'up')",
          "q_value": 1,
          "run": 43
         },
         {
          "location": "((3, 2), 'up')",
          "q_value": 1,
          "run": 44
         },
         {
          "location": "((3, 2), 'up')",
          "q_value": 1,
          "run": 45
         },
         {
          "location": "((3, 2), 'up')",
          "q_value": 1,
          "run": 46
         },
         {
          "location": "((3, 2), 'up')",
          "q_value": 1,
          "run": 47
         },
         {
          "location": "((3, 2), 'up')",
          "q_value": 1,
          "run": 48
         },
         {
          "location": "((3, 2), 'up')",
          "q_value": 1,
          "run": 49
         },
         {
          "location": "((3, 2), 'up')",
          "q_value": 1,
          "run": 50
         },
         {
          "location": "((3, 2), 'up')",
          "q_value": 1,
          "run": 51
         },
         {
          "location": "((3, 2), 'up')",
          "q_value": 1,
          "run": 52
         },
         {
          "location": "((3, 2), 'up')",
          "q_value": 1,
          "run": 53
         },
         {
          "location": "((3, 2), 'up')",
          "q_value": 1,
          "run": 54
         },
         {
          "location": "((3, 2), 'up')",
          "q_value": 1,
          "run": 55
         },
         {
          "location": "((3, 2), 'up')",
          "q_value": 1,
          "run": 56
         },
         {
          "location": "((3, 2), 'up')",
          "q_value": 1,
          "run": 57
         },
         {
          "location": "((3, 2), 'up')",
          "q_value": 1,
          "run": 58
         },
         {
          "location": "((3, 2), 'up')",
          "q_value": 1,
          "run": 59
         },
         {
          "location": "((3, 2), 'up')",
          "q_value": 1,
          "run": 60
         },
         {
          "location": "((3, 2), 'up')",
          "q_value": 1,
          "run": 61
         },
         {
          "location": "((3, 2), 'up')",
          "q_value": 1,
          "run": 62
         },
         {
          "location": "((3, 2), 'up')",
          "q_value": 1,
          "run": 63
         },
         {
          "location": "((3, 2), 'up')",
          "q_value": 1,
          "run": 64
         },
         {
          "location": "((3, 2), 'up')",
          "q_value": 1,
          "run": 65
         },
         {
          "location": "((3, 2), 'up')",
          "q_value": 1,
          "run": 66
         },
         {
          "location": "((3, 2), 'up')",
          "q_value": 1,
          "run": 67
         },
         {
          "location": "((3, 2), 'up')",
          "q_value": 1,
          "run": 68
         },
         {
          "location": "((3, 2), 'up')",
          "q_value": 1,
          "run": 69
         },
         {
          "location": "((3, 2), 'up')",
          "q_value": 1,
          "run": 70
         },
         {
          "location": "((3, 2), 'up')",
          "q_value": 1,
          "run": 71
         },
         {
          "location": "((3, 2), 'up')",
          "q_value": 1,
          "run": 72
         },
         {
          "location": "((3, 2), 'up')",
          "q_value": 1,
          "run": 73
         },
         {
          "location": "((3, 2), 'up')",
          "q_value": 1,
          "run": 74
         },
         {
          "location": "((3, 2), 'up')",
          "q_value": 1,
          "run": 75
         },
         {
          "location": "((3, 2), 'up')",
          "q_value": 1,
          "run": 76
         },
         {
          "location": "((3, 2), 'up')",
          "q_value": 1,
          "run": 77
         },
         {
          "location": "((3, 2), 'up')",
          "q_value": 1,
          "run": 78
         },
         {
          "location": "((3, 2), 'up')",
          "q_value": 1,
          "run": 79
         },
         {
          "location": "((3, 2), 'up')",
          "q_value": 1,
          "run": 80
         },
         {
          "location": "((3, 2), 'up')",
          "q_value": 1,
          "run": 81
         },
         {
          "location": "((3, 2), 'up')",
          "q_value": 1,
          "run": 82
         },
         {
          "location": "((3, 2), 'up')",
          "q_value": 1,
          "run": 83
         },
         {
          "location": "((3, 2), 'up')",
          "q_value": 1,
          "run": 84
         },
         {
          "location": "((3, 2), 'up')",
          "q_value": 1,
          "run": 85
         },
         {
          "location": "((3, 2), 'up')",
          "q_value": 1,
          "run": 86
         },
         {
          "location": "((3, 2), 'up')",
          "q_value": 1,
          "run": 87
         },
         {
          "location": "((3, 2), 'up')",
          "q_value": 1,
          "run": 88
         },
         {
          "location": "((3, 2), 'up')",
          "q_value": 1,
          "run": 89
         },
         {
          "location": "((3, 2), 'up')",
          "q_value": 1,
          "run": 90
         },
         {
          "location": "((3, 2), 'up')",
          "q_value": 1,
          "run": 91
         },
         {
          "location": "((3, 2), 'up')",
          "q_value": 1,
          "run": 92
         },
         {
          "location": "((3, 2), 'up')",
          "q_value": 1,
          "run": 93
         },
         {
          "location": "((3, 2), 'up')",
          "q_value": 1,
          "run": 94
         },
         {
          "location": "((3, 2), 'up')",
          "q_value": 1,
          "run": 95
         },
         {
          "location": "((3, 2), 'up')",
          "q_value": 1,
          "run": 96
         },
         {
          "location": "((3, 2), 'up')",
          "q_value": 1,
          "run": 97
         },
         {
          "location": "((3, 2), 'up')",
          "q_value": 1,
          "run": 98
         },
         {
          "location": "((3, 2), 'up')",
          "q_value": 1,
          "run": 99
         },
         {
          "location": "((3, 2), 'up')",
          "q_value": 1,
          "run": 100
         },
         {
          "location": "((3, 2), 'left')",
          "q_value": 0,
          "run": 0
         },
         {
          "location": "((3, 2), 'left')",
          "q_value": 0,
          "run": 1
         },
         {
          "location": "((3, 2), 'left')",
          "q_value": 0,
          "run": 2
         },
         {
          "location": "((3, 2), 'left')",
          "q_value": 0,
          "run": 3
         },
         {
          "location": "((3, 2), 'left')",
          "q_value": 0,
          "run": 4
         },
         {
          "location": "((3, 2), 'left')",
          "q_value": 0,
          "run": 5
         },
         {
          "location": "((3, 2), 'left')",
          "q_value": 0,
          "run": 6
         },
         {
          "location": "((3, 2), 'left')",
          "q_value": 0,
          "run": 7
         },
         {
          "location": "((3, 2), 'left')",
          "q_value": 0,
          "run": 8
         },
         {
          "location": "((3, 2), 'left')",
          "q_value": 0,
          "run": 9
         },
         {
          "location": "((3, 2), 'left')",
          "q_value": 0,
          "run": 10
         },
         {
          "location": "((3, 2), 'left')",
          "q_value": 0,
          "run": 11
         },
         {
          "location": "((3, 2), 'left')",
          "q_value": 0,
          "run": 12
         },
         {
          "location": "((3, 2), 'left')",
          "q_value": 0,
          "run": 13
         },
         {
          "location": "((3, 2), 'left')",
          "q_value": 0,
          "run": 14
         },
         {
          "location": "((3, 2), 'left')",
          "q_value": 0,
          "run": 15
         },
         {
          "location": "((3, 2), 'left')",
          "q_value": 0,
          "run": 16
         },
         {
          "location": "((3, 2), 'left')",
          "q_value": 0,
          "run": 17
         },
         {
          "location": "((3, 2), 'left')",
          "q_value": 0,
          "run": 18
         },
         {
          "location": "((3, 2), 'left')",
          "q_value": 0,
          "run": 19
         },
         {
          "location": "((3, 2), 'left')",
          "q_value": 0,
          "run": 20
         },
         {
          "location": "((3, 2), 'left')",
          "q_value": 0,
          "run": 21
         },
         {
          "location": "((3, 2), 'left')",
          "q_value": 0,
          "run": 22
         },
         {
          "location": "((3, 2), 'left')",
          "q_value": 0,
          "run": 23
         },
         {
          "location": "((3, 2), 'left')",
          "q_value": 0,
          "run": 24
         },
         {
          "location": "((3, 2), 'left')",
          "q_value": 0,
          "run": 25
         },
         {
          "location": "((3, 2), 'left')",
          "q_value": 0,
          "run": 26
         },
         {
          "location": "((3, 2), 'left')",
          "q_value": 0,
          "run": 27
         },
         {
          "location": "((3, 2), 'left')",
          "q_value": 0,
          "run": 28
         },
         {
          "location": "((3, 2), 'left')",
          "q_value": 0,
          "run": 29
         },
         {
          "location": "((3, 2), 'left')",
          "q_value": 0,
          "run": 30
         },
         {
          "location": "((3, 2), 'left')",
          "q_value": 0,
          "run": 31
         },
         {
          "location": "((3, 2), 'left')",
          "q_value": 0,
          "run": 32
         },
         {
          "location": "((3, 2), 'left')",
          "q_value": 0,
          "run": 33
         },
         {
          "location": "((3, 2), 'left')",
          "q_value": 0,
          "run": 34
         },
         {
          "location": "((3, 2), 'left')",
          "q_value": 0,
          "run": 35
         },
         {
          "location": "((3, 2), 'left')",
          "q_value": 0,
          "run": 36
         },
         {
          "location": "((3, 2), 'left')",
          "q_value": 0,
          "run": 37
         },
         {
          "location": "((3, 2), 'left')",
          "q_value": 0,
          "run": 38
         },
         {
          "location": "((3, 2), 'left')",
          "q_value": 0,
          "run": 39
         },
         {
          "location": "((3, 2), 'left')",
          "q_value": 0,
          "run": 40
         },
         {
          "location": "((3, 2), 'left')",
          "q_value": 0,
          "run": 41
         },
         {
          "location": "((3, 2), 'left')",
          "q_value": 0,
          "run": 42
         },
         {
          "location": "((3, 2), 'left')",
          "q_value": 0,
          "run": 43
         },
         {
          "location": "((3, 2), 'left')",
          "q_value": 0,
          "run": 44
         },
         {
          "location": "((3, 2), 'left')",
          "q_value": 0,
          "run": 45
         },
         {
          "location": "((3, 2), 'left')",
          "q_value": 0,
          "run": 46
         },
         {
          "location": "((3, 2), 'left')",
          "q_value": 0,
          "run": 47
         },
         {
          "location": "((3, 2), 'left')",
          "q_value": 0,
          "run": 48
         },
         {
          "location": "((3, 2), 'left')",
          "q_value": 0,
          "run": 49
         },
         {
          "location": "((3, 2), 'left')",
          "q_value": 0,
          "run": 50
         },
         {
          "location": "((3, 2), 'left')",
          "q_value": 0,
          "run": 51
         },
         {
          "location": "((3, 2), 'left')",
          "q_value": 0,
          "run": 52
         },
         {
          "location": "((3, 2), 'left')",
          "q_value": 0,
          "run": 53
         },
         {
          "location": "((3, 2), 'left')",
          "q_value": 0,
          "run": 54
         },
         {
          "location": "((3, 2), 'left')",
          "q_value": 0,
          "run": 55
         },
         {
          "location": "((3, 2), 'left')",
          "q_value": 0,
          "run": 56
         },
         {
          "location": "((3, 2), 'left')",
          "q_value": 0,
          "run": 57
         },
         {
          "location": "((3, 2), 'left')",
          "q_value": 0,
          "run": 58
         },
         {
          "location": "((3, 2), 'left')",
          "q_value": 0,
          "run": 59
         },
         {
          "location": "((3, 2), 'left')",
          "q_value": 0,
          "run": 60
         },
         {
          "location": "((3, 2), 'left')",
          "q_value": 0,
          "run": 61
         },
         {
          "location": "((3, 2), 'left')",
          "q_value": 0,
          "run": 62
         },
         {
          "location": "((3, 2), 'left')",
          "q_value": 0,
          "run": 63
         },
         {
          "location": "((3, 2), 'left')",
          "q_value": 0,
          "run": 64
         },
         {
          "location": "((3, 2), 'left')",
          "q_value": 0,
          "run": 65
         },
         {
          "location": "((3, 2), 'left')",
          "q_value": 0,
          "run": 66
         },
         {
          "location": "((3, 2), 'left')",
          "q_value": 0,
          "run": 67
         },
         {
          "location": "((3, 2), 'left')",
          "q_value": 0,
          "run": 68
         },
         {
          "location": "((3, 2), 'left')",
          "q_value": 0,
          "run": 69
         },
         {
          "location": "((3, 2), 'left')",
          "q_value": 0,
          "run": 70
         },
         {
          "location": "((3, 2), 'left')",
          "q_value": 0,
          "run": 71
         },
         {
          "location": "((3, 2), 'left')",
          "q_value": 0,
          "run": 72
         },
         {
          "location": "((3, 2), 'left')",
          "q_value": 0,
          "run": 73
         },
         {
          "location": "((3, 2), 'left')",
          "q_value": 0,
          "run": 74
         },
         {
          "location": "((3, 2), 'left')",
          "q_value": 0,
          "run": 75
         },
         {
          "location": "((3, 2), 'left')",
          "q_value": 0,
          "run": 76
         },
         {
          "location": "((3, 2), 'left')",
          "q_value": 0,
          "run": 77
         },
         {
          "location": "((3, 2), 'left')",
          "q_value": 0,
          "run": 78
         },
         {
          "location": "((3, 2), 'left')",
          "q_value": 0,
          "run": 79
         },
         {
          "location": "((3, 2), 'left')",
          "q_value": 0,
          "run": 80
         },
         {
          "location": "((3, 2), 'left')",
          "q_value": 0,
          "run": 81
         },
         {
          "location": "((3, 2), 'left')",
          "q_value": 0,
          "run": 82
         },
         {
          "location": "((3, 2), 'left')",
          "q_value": 0,
          "run": 83
         },
         {
          "location": "((3, 2), 'left')",
          "q_value": 0,
          "run": 84
         },
         {
          "location": "((3, 2), 'left')",
          "q_value": 0,
          "run": 85
         },
         {
          "location": "((3, 2), 'left')",
          "q_value": 0,
          "run": 86
         },
         {
          "location": "((3, 2), 'left')",
          "q_value": 0,
          "run": 87
         },
         {
          "location": "((3, 2), 'left')",
          "q_value": 0,
          "run": 88
         },
         {
          "location": "((3, 2), 'left')",
          "q_value": 0,
          "run": 89
         },
         {
          "location": "((3, 2), 'left')",
          "q_value": 0,
          "run": 90
         },
         {
          "location": "((3, 2), 'left')",
          "q_value": 0,
          "run": 91
         },
         {
          "location": "((3, 2), 'left')",
          "q_value": 0,
          "run": 92
         },
         {
          "location": "((3, 2), 'left')",
          "q_value": 0,
          "run": 93
         },
         {
          "location": "((3, 2), 'left')",
          "q_value": 0,
          "run": 94
         },
         {
          "location": "((3, 2), 'left')",
          "q_value": 0,
          "run": 95
         },
         {
          "location": "((3, 2), 'left')",
          "q_value": 0,
          "run": 96
         },
         {
          "location": "((3, 2), 'left')",
          "q_value": 0,
          "run": 97
         },
         {
          "location": "((3, 2), 'left')",
          "q_value": 0,
          "run": 98
         },
         {
          "location": "((3, 2), 'left')",
          "q_value": 0,
          "run": 99
         },
         {
          "location": "((3, 2), 'left')",
          "q_value": 0,
          "run": 100
         },
         {
          "location": "((3, 3), 'down')",
          "q_value": 0,
          "run": 0
         },
         {
          "location": "((3, 3), 'down')",
          "q_value": 0,
          "run": 1
         },
         {
          "location": "((3, 3), 'down')",
          "q_value": 0,
          "run": 2
         },
         {
          "location": "((3, 3), 'down')",
          "q_value": 0,
          "run": 3
         },
         {
          "location": "((3, 3), 'down')",
          "q_value": 0,
          "run": 4
         },
         {
          "location": "((3, 3), 'down')",
          "q_value": 0,
          "run": 5
         },
         {
          "location": "((3, 3), 'down')",
          "q_value": 0,
          "run": 6
         },
         {
          "location": "((3, 3), 'down')",
          "q_value": 0,
          "run": 7
         },
         {
          "location": "((3, 3), 'down')",
          "q_value": 0,
          "run": 8
         },
         {
          "location": "((3, 3), 'down')",
          "q_value": 0,
          "run": 9
         },
         {
          "location": "((3, 3), 'down')",
          "q_value": 0,
          "run": 10
         },
         {
          "location": "((3, 3), 'down')",
          "q_value": 0,
          "run": 11
         },
         {
          "location": "((3, 3), 'down')",
          "q_value": 0,
          "run": 12
         },
         {
          "location": "((3, 3), 'down')",
          "q_value": 0,
          "run": 13
         },
         {
          "location": "((3, 3), 'down')",
          "q_value": 0,
          "run": 14
         },
         {
          "location": "((3, 3), 'down')",
          "q_value": 0,
          "run": 15
         },
         {
          "location": "((3, 3), 'down')",
          "q_value": 0,
          "run": 16
         },
         {
          "location": "((3, 3), 'down')",
          "q_value": 0,
          "run": 17
         },
         {
          "location": "((3, 3), 'down')",
          "q_value": 0,
          "run": 18
         },
         {
          "location": "((3, 3), 'down')",
          "q_value": 0,
          "run": 19
         },
         {
          "location": "((3, 3), 'down')",
          "q_value": 0,
          "run": 20
         },
         {
          "location": "((3, 3), 'down')",
          "q_value": 0,
          "run": 21
         },
         {
          "location": "((3, 3), 'down')",
          "q_value": 0,
          "run": 22
         },
         {
          "location": "((3, 3), 'down')",
          "q_value": 0,
          "run": 23
         },
         {
          "location": "((3, 3), 'down')",
          "q_value": 0,
          "run": 24
         },
         {
          "location": "((3, 3), 'down')",
          "q_value": 0,
          "run": 25
         },
         {
          "location": "((3, 3), 'down')",
          "q_value": 0,
          "run": 26
         },
         {
          "location": "((3, 3), 'down')",
          "q_value": 0,
          "run": 27
         },
         {
          "location": "((3, 3), 'down')",
          "q_value": 0,
          "run": 28
         },
         {
          "location": "((3, 3), 'down')",
          "q_value": 0,
          "run": 29
         },
         {
          "location": "((3, 3), 'down')",
          "q_value": 0,
          "run": 30
         },
         {
          "location": "((3, 3), 'down')",
          "q_value": 0,
          "run": 31
         },
         {
          "location": "((3, 3), 'down')",
          "q_value": 0,
          "run": 32
         },
         {
          "location": "((3, 3), 'down')",
          "q_value": 0,
          "run": 33
         },
         {
          "location": "((3, 3), 'down')",
          "q_value": 0,
          "run": 34
         },
         {
          "location": "((3, 3), 'down')",
          "q_value": 0,
          "run": 35
         },
         {
          "location": "((3, 3), 'down')",
          "q_value": 0,
          "run": 36
         },
         {
          "location": "((3, 3), 'down')",
          "q_value": 0,
          "run": 37
         },
         {
          "location": "((3, 3), 'down')",
          "q_value": 0,
          "run": 38
         },
         {
          "location": "((3, 3), 'down')",
          "q_value": 0,
          "run": 39
         },
         {
          "location": "((3, 3), 'down')",
          "q_value": 0,
          "run": 40
         },
         {
          "location": "((3, 3), 'down')",
          "q_value": 0,
          "run": 41
         },
         {
          "location": "((3, 3), 'down')",
          "q_value": 0,
          "run": 42
         },
         {
          "location": "((3, 3), 'down')",
          "q_value": 0,
          "run": 43
         },
         {
          "location": "((3, 3), 'down')",
          "q_value": 0,
          "run": 44
         },
         {
          "location": "((3, 3), 'down')",
          "q_value": 0,
          "run": 45
         },
         {
          "location": "((3, 3), 'down')",
          "q_value": 0,
          "run": 46
         },
         {
          "location": "((3, 3), 'down')",
          "q_value": 0,
          "run": 47
         },
         {
          "location": "((3, 3), 'down')",
          "q_value": 0,
          "run": 48
         },
         {
          "location": "((3, 3), 'down')",
          "q_value": 0,
          "run": 49
         },
         {
          "location": "((3, 3), 'down')",
          "q_value": 0,
          "run": 50
         },
         {
          "location": "((3, 3), 'down')",
          "q_value": 0,
          "run": 51
         },
         {
          "location": "((3, 3), 'down')",
          "q_value": 0,
          "run": 52
         },
         {
          "location": "((3, 3), 'down')",
          "q_value": 0,
          "run": 53
         },
         {
          "location": "((3, 3), 'down')",
          "q_value": 0,
          "run": 54
         },
         {
          "location": "((3, 3), 'down')",
          "q_value": 0,
          "run": 55
         },
         {
          "location": "((3, 3), 'down')",
          "q_value": 0,
          "run": 56
         },
         {
          "location": "((3, 3), 'down')",
          "q_value": 0,
          "run": 57
         },
         {
          "location": "((3, 3), 'down')",
          "q_value": 0,
          "run": 58
         },
         {
          "location": "((3, 3), 'down')",
          "q_value": 0,
          "run": 59
         },
         {
          "location": "((3, 3), 'down')",
          "q_value": 0,
          "run": 60
         },
         {
          "location": "((3, 3), 'down')",
          "q_value": 0,
          "run": 61
         },
         {
          "location": "((3, 3), 'down')",
          "q_value": 0,
          "run": 62
         },
         {
          "location": "((3, 3), 'down')",
          "q_value": 0,
          "run": 63
         },
         {
          "location": "((3, 3), 'down')",
          "q_value": 0,
          "run": 64
         },
         {
          "location": "((3, 3), 'down')",
          "q_value": 0,
          "run": 65
         },
         {
          "location": "((3, 3), 'down')",
          "q_value": 0,
          "run": 66
         },
         {
          "location": "((3, 3), 'down')",
          "q_value": 0,
          "run": 67
         },
         {
          "location": "((3, 3), 'down')",
          "q_value": 0,
          "run": 68
         },
         {
          "location": "((3, 3), 'down')",
          "q_value": 0,
          "run": 69
         },
         {
          "location": "((3, 3), 'down')",
          "q_value": 0,
          "run": 70
         },
         {
          "location": "((3, 3), 'down')",
          "q_value": 0,
          "run": 71
         },
         {
          "location": "((3, 3), 'down')",
          "q_value": 0,
          "run": 72
         },
         {
          "location": "((3, 3), 'down')",
          "q_value": 0,
          "run": 73
         },
         {
          "location": "((3, 3), 'down')",
          "q_value": 0,
          "run": 74
         },
         {
          "location": "((3, 3), 'down')",
          "q_value": 0,
          "run": 75
         },
         {
          "location": "((3, 3), 'down')",
          "q_value": 0,
          "run": 76
         },
         {
          "location": "((3, 3), 'down')",
          "q_value": 0,
          "run": 77
         },
         {
          "location": "((3, 3), 'down')",
          "q_value": 0,
          "run": 78
         },
         {
          "location": "((3, 3), 'down')",
          "q_value": 0,
          "run": 79
         },
         {
          "location": "((3, 3), 'down')",
          "q_value": 0,
          "run": 80
         },
         {
          "location": "((3, 3), 'down')",
          "q_value": 0,
          "run": 81
         },
         {
          "location": "((3, 3), 'down')",
          "q_value": 0,
          "run": 82
         },
         {
          "location": "((3, 3), 'down')",
          "q_value": 0,
          "run": 83
         },
         {
          "location": "((3, 3), 'down')",
          "q_value": 0,
          "run": 84
         },
         {
          "location": "((3, 3), 'down')",
          "q_value": 0,
          "run": 85
         },
         {
          "location": "((3, 3), 'down')",
          "q_value": 0,
          "run": 86
         },
         {
          "location": "((3, 3), 'down')",
          "q_value": 0,
          "run": 87
         },
         {
          "location": "((3, 3), 'down')",
          "q_value": 0,
          "run": 88
         },
         {
          "location": "((3, 3), 'down')",
          "q_value": 0,
          "run": 89
         },
         {
          "location": "((3, 3), 'down')",
          "q_value": 0,
          "run": 90
         },
         {
          "location": "((3, 3), 'down')",
          "q_value": 0,
          "run": 91
         },
         {
          "location": "((3, 3), 'down')",
          "q_value": 0,
          "run": 92
         },
         {
          "location": "((3, 3), 'down')",
          "q_value": 0,
          "run": 93
         },
         {
          "location": "((3, 3), 'down')",
          "q_value": 0,
          "run": 94
         },
         {
          "location": "((3, 3), 'down')",
          "q_value": 0,
          "run": 95
         },
         {
          "location": "((3, 3), 'down')",
          "q_value": 0,
          "run": 96
         },
         {
          "location": "((3, 3), 'down')",
          "q_value": 0,
          "run": 97
         },
         {
          "location": "((3, 3), 'down')",
          "q_value": 0,
          "run": 98
         },
         {
          "location": "((3, 3), 'down')",
          "q_value": 0,
          "run": 99
         },
         {
          "location": "((3, 3), 'down')",
          "q_value": 0,
          "run": 100
         },
         {
          "location": "((3, 3), 'right')",
          "q_value": 0,
          "run": 0
         },
         {
          "location": "((3, 3), 'right')",
          "q_value": 0,
          "run": 1
         },
         {
          "location": "((3, 3), 'right')",
          "q_value": 0,
          "run": 2
         },
         {
          "location": "((3, 3), 'right')",
          "q_value": 0,
          "run": 3
         },
         {
          "location": "((3, 3), 'right')",
          "q_value": 0,
          "run": 4
         },
         {
          "location": "((3, 3), 'right')",
          "q_value": 0,
          "run": 5
         },
         {
          "location": "((3, 3), 'right')",
          "q_value": 0,
          "run": 6
         },
         {
          "location": "((3, 3), 'right')",
          "q_value": 0,
          "run": 7
         },
         {
          "location": "((3, 3), 'right')",
          "q_value": 0,
          "run": 8
         },
         {
          "location": "((3, 3), 'right')",
          "q_value": 0,
          "run": 9
         },
         {
          "location": "((3, 3), 'right')",
          "q_value": 0,
          "run": 10
         },
         {
          "location": "((3, 3), 'right')",
          "q_value": 0,
          "run": 11
         },
         {
          "location": "((3, 3), 'right')",
          "q_value": 0,
          "run": 12
         },
         {
          "location": "((3, 3), 'right')",
          "q_value": 0,
          "run": 13
         },
         {
          "location": "((3, 3), 'right')",
          "q_value": 0,
          "run": 14
         },
         {
          "location": "((3, 3), 'right')",
          "q_value": 0,
          "run": 15
         },
         {
          "location": "((3, 3), 'right')",
          "q_value": 0,
          "run": 16
         },
         {
          "location": "((3, 3), 'right')",
          "q_value": 0,
          "run": 17
         },
         {
          "location": "((3, 3), 'right')",
          "q_value": 0,
          "run": 18
         },
         {
          "location": "((3, 3), 'right')",
          "q_value": 0,
          "run": 19
         },
         {
          "location": "((3, 3), 'right')",
          "q_value": 0,
          "run": 20
         },
         {
          "location": "((3, 3), 'right')",
          "q_value": 0,
          "run": 21
         },
         {
          "location": "((3, 3), 'right')",
          "q_value": 0,
          "run": 22
         },
         {
          "location": "((3, 3), 'right')",
          "q_value": 0,
          "run": 23
         },
         {
          "location": "((3, 3), 'right')",
          "q_value": 0,
          "run": 24
         },
         {
          "location": "((3, 3), 'right')",
          "q_value": 0,
          "run": 25
         },
         {
          "location": "((3, 3), 'right')",
          "q_value": 0,
          "run": 26
         },
         {
          "location": "((3, 3), 'right')",
          "q_value": 0,
          "run": 27
         },
         {
          "location": "((3, 3), 'right')",
          "q_value": 0,
          "run": 28
         },
         {
          "location": "((3, 3), 'right')",
          "q_value": 0,
          "run": 29
         },
         {
          "location": "((3, 3), 'right')",
          "q_value": 0,
          "run": 30
         },
         {
          "location": "((3, 3), 'right')",
          "q_value": 0,
          "run": 31
         },
         {
          "location": "((3, 3), 'right')",
          "q_value": 0,
          "run": 32
         },
         {
          "location": "((3, 3), 'right')",
          "q_value": 0,
          "run": 33
         },
         {
          "location": "((3, 3), 'right')",
          "q_value": 0,
          "run": 34
         },
         {
          "location": "((3, 3), 'right')",
          "q_value": 0,
          "run": 35
         },
         {
          "location": "((3, 3), 'right')",
          "q_value": 0,
          "run": 36
         },
         {
          "location": "((3, 3), 'right')",
          "q_value": 0,
          "run": 37
         },
         {
          "location": "((3, 3), 'right')",
          "q_value": 0,
          "run": 38
         },
         {
          "location": "((3, 3), 'right')",
          "q_value": 0,
          "run": 39
         },
         {
          "location": "((3, 3), 'right')",
          "q_value": 0,
          "run": 40
         },
         {
          "location": "((3, 3), 'right')",
          "q_value": 0,
          "run": 41
         },
         {
          "location": "((3, 3), 'right')",
          "q_value": 0,
          "run": 42
         },
         {
          "location": "((3, 3), 'right')",
          "q_value": 0,
          "run": 43
         },
         {
          "location": "((3, 3), 'right')",
          "q_value": 0,
          "run": 44
         },
         {
          "location": "((3, 3), 'right')",
          "q_value": 0,
          "run": 45
         },
         {
          "location": "((3, 3), 'right')",
          "q_value": 0,
          "run": 46
         },
         {
          "location": "((3, 3), 'right')",
          "q_value": 0,
          "run": 47
         },
         {
          "location": "((3, 3), 'right')",
          "q_value": 0,
          "run": 48
         },
         {
          "location": "((3, 3), 'right')",
          "q_value": 0,
          "run": 49
         },
         {
          "location": "((3, 3), 'right')",
          "q_value": 0,
          "run": 50
         },
         {
          "location": "((3, 3), 'right')",
          "q_value": 0,
          "run": 51
         },
         {
          "location": "((3, 3), 'right')",
          "q_value": 0,
          "run": 52
         },
         {
          "location": "((3, 3), 'right')",
          "q_value": 0,
          "run": 53
         },
         {
          "location": "((3, 3), 'right')",
          "q_value": 0,
          "run": 54
         },
         {
          "location": "((3, 3), 'right')",
          "q_value": 0,
          "run": 55
         },
         {
          "location": "((3, 3), 'right')",
          "q_value": 0,
          "run": 56
         },
         {
          "location": "((3, 3), 'right')",
          "q_value": 0,
          "run": 57
         },
         {
          "location": "((3, 3), 'right')",
          "q_value": 0,
          "run": 58
         },
         {
          "location": "((3, 3), 'right')",
          "q_value": 0,
          "run": 59
         },
         {
          "location": "((3, 3), 'right')",
          "q_value": 0,
          "run": 60
         },
         {
          "location": "((3, 3), 'right')",
          "q_value": 0,
          "run": 61
         },
         {
          "location": "((3, 3), 'right')",
          "q_value": 0,
          "run": 62
         },
         {
          "location": "((3, 3), 'right')",
          "q_value": 0,
          "run": 63
         },
         {
          "location": "((3, 3), 'right')",
          "q_value": 0,
          "run": 64
         },
         {
          "location": "((3, 3), 'right')",
          "q_value": 0,
          "run": 65
         },
         {
          "location": "((3, 3), 'right')",
          "q_value": 0,
          "run": 66
         },
         {
          "location": "((3, 3), 'right')",
          "q_value": 0,
          "run": 67
         },
         {
          "location": "((3, 3), 'right')",
          "q_value": 0,
          "run": 68
         },
         {
          "location": "((3, 3), 'right')",
          "q_value": 0,
          "run": 69
         },
         {
          "location": "((3, 3), 'right')",
          "q_value": 0,
          "run": 70
         },
         {
          "location": "((3, 3), 'right')",
          "q_value": 0,
          "run": 71
         },
         {
          "location": "((3, 3), 'right')",
          "q_value": 0,
          "run": 72
         },
         {
          "location": "((3, 3), 'right')",
          "q_value": 0,
          "run": 73
         },
         {
          "location": "((3, 3), 'right')",
          "q_value": 0,
          "run": 74
         },
         {
          "location": "((3, 3), 'right')",
          "q_value": 0,
          "run": 75
         },
         {
          "location": "((3, 3), 'right')",
          "q_value": 0,
          "run": 76
         },
         {
          "location": "((3, 3), 'right')",
          "q_value": 0,
          "run": 77
         },
         {
          "location": "((3, 3), 'right')",
          "q_value": 0,
          "run": 78
         },
         {
          "location": "((3, 3), 'right')",
          "q_value": 0,
          "run": 79
         },
         {
          "location": "((3, 3), 'right')",
          "q_value": 0,
          "run": 80
         },
         {
          "location": "((3, 3), 'right')",
          "q_value": 0,
          "run": 81
         },
         {
          "location": "((3, 3), 'right')",
          "q_value": 0,
          "run": 82
         },
         {
          "location": "((3, 3), 'right')",
          "q_value": 0,
          "run": 83
         },
         {
          "location": "((3, 3), 'right')",
          "q_value": 0,
          "run": 84
         },
         {
          "location": "((3, 3), 'right')",
          "q_value": 0,
          "run": 85
         },
         {
          "location": "((3, 3), 'right')",
          "q_value": 0,
          "run": 86
         },
         {
          "location": "((3, 3), 'right')",
          "q_value": 0,
          "run": 87
         },
         {
          "location": "((3, 3), 'right')",
          "q_value": 0,
          "run": 88
         },
         {
          "location": "((3, 3), 'right')",
          "q_value": 0,
          "run": 89
         },
         {
          "location": "((3, 3), 'right')",
          "q_value": 0,
          "run": 90
         },
         {
          "location": "((3, 3), 'right')",
          "q_value": 0,
          "run": 91
         },
         {
          "location": "((3, 3), 'right')",
          "q_value": 0,
          "run": 92
         },
         {
          "location": "((3, 3), 'right')",
          "q_value": 0,
          "run": 93
         },
         {
          "location": "((3, 3), 'right')",
          "q_value": 0,
          "run": 94
         },
         {
          "location": "((3, 3), 'right')",
          "q_value": 0,
          "run": 95
         },
         {
          "location": "((3, 3), 'right')",
          "q_value": 0,
          "run": 96
         },
         {
          "location": "((3, 3), 'right')",
          "q_value": 0,
          "run": 97
         },
         {
          "location": "((3, 3), 'right')",
          "q_value": 0,
          "run": 98
         },
         {
          "location": "((3, 3), 'right')",
          "q_value": 0,
          "run": 99
         },
         {
          "location": "((3, 3), 'right')",
          "q_value": 0,
          "run": 100
         },
         {
          "location": "((3, 3), 'up')",
          "q_value": 0,
          "run": 0
         },
         {
          "location": "((3, 3), 'up')",
          "q_value": 0,
          "run": 1
         },
         {
          "location": "((3, 3), 'up')",
          "q_value": 0,
          "run": 2
         },
         {
          "location": "((3, 3), 'up')",
          "q_value": 0,
          "run": 3
         },
         {
          "location": "((3, 3), 'up')",
          "q_value": 0,
          "run": 4
         },
         {
          "location": "((3, 3), 'up')",
          "q_value": 0,
          "run": 5
         },
         {
          "location": "((3, 3), 'up')",
          "q_value": 0,
          "run": 6
         },
         {
          "location": "((3, 3), 'up')",
          "q_value": 0,
          "run": 7
         },
         {
          "location": "((3, 3), 'up')",
          "q_value": 0,
          "run": 8
         },
         {
          "location": "((3, 3), 'up')",
          "q_value": 0,
          "run": 9
         },
         {
          "location": "((3, 3), 'up')",
          "q_value": 0,
          "run": 10
         },
         {
          "location": "((3, 3), 'up')",
          "q_value": 0,
          "run": 11
         },
         {
          "location": "((3, 3), 'up')",
          "q_value": 0,
          "run": 12
         },
         {
          "location": "((3, 3), 'up')",
          "q_value": 0,
          "run": 13
         },
         {
          "location": "((3, 3), 'up')",
          "q_value": 0,
          "run": 14
         },
         {
          "location": "((3, 3), 'up')",
          "q_value": 0,
          "run": 15
         },
         {
          "location": "((3, 3), 'up')",
          "q_value": 0,
          "run": 16
         },
         {
          "location": "((3, 3), 'up')",
          "q_value": 0,
          "run": 17
         },
         {
          "location": "((3, 3), 'up')",
          "q_value": 0,
          "run": 18
         },
         {
          "location": "((3, 3), 'up')",
          "q_value": 0,
          "run": 19
         },
         {
          "location": "((3, 3), 'up')",
          "q_value": 0,
          "run": 20
         },
         {
          "location": "((3, 3), 'up')",
          "q_value": 0,
          "run": 21
         },
         {
          "location": "((3, 3), 'up')",
          "q_value": 0,
          "run": 22
         },
         {
          "location": "((3, 3), 'up')",
          "q_value": 0,
          "run": 23
         },
         {
          "location": "((3, 3), 'up')",
          "q_value": 0,
          "run": 24
         },
         {
          "location": "((3, 3), 'up')",
          "q_value": 0,
          "run": 25
         },
         {
          "location": "((3, 3), 'up')",
          "q_value": 0,
          "run": 26
         },
         {
          "location": "((3, 3), 'up')",
          "q_value": 0,
          "run": 27
         },
         {
          "location": "((3, 3), 'up')",
          "q_value": 0,
          "run": 28
         },
         {
          "location": "((3, 3), 'up')",
          "q_value": 0,
          "run": 29
         },
         {
          "location": "((3, 3), 'up')",
          "q_value": 0,
          "run": 30
         },
         {
          "location": "((3, 3), 'up')",
          "q_value": 0,
          "run": 31
         },
         {
          "location": "((3, 3), 'up')",
          "q_value": 0,
          "run": 32
         },
         {
          "location": "((3, 3), 'up')",
          "q_value": 0,
          "run": 33
         },
         {
          "location": "((3, 3), 'up')",
          "q_value": 0,
          "run": 34
         },
         {
          "location": "((3, 3), 'up')",
          "q_value": 0,
          "run": 35
         },
         {
          "location": "((3, 3), 'up')",
          "q_value": 0,
          "run": 36
         },
         {
          "location": "((3, 3), 'up')",
          "q_value": 0,
          "run": 37
         },
         {
          "location": "((3, 3), 'up')",
          "q_value": 0,
          "run": 38
         },
         {
          "location": "((3, 3), 'up')",
          "q_value": 0,
          "run": 39
         },
         {
          "location": "((3, 3), 'up')",
          "q_value": 0,
          "run": 40
         },
         {
          "location": "((3, 3), 'up')",
          "q_value": 0,
          "run": 41
         },
         {
          "location": "((3, 3), 'up')",
          "q_value": 0,
          "run": 42
         },
         {
          "location": "((3, 3), 'up')",
          "q_value": 0,
          "run": 43
         },
         {
          "location": "((3, 3), 'up')",
          "q_value": 0,
          "run": 44
         },
         {
          "location": "((3, 3), 'up')",
          "q_value": 0,
          "run": 45
         },
         {
          "location": "((3, 3), 'up')",
          "q_value": 0,
          "run": 46
         },
         {
          "location": "((3, 3), 'up')",
          "q_value": 0,
          "run": 47
         },
         {
          "location": "((3, 3), 'up')",
          "q_value": 0,
          "run": 48
         },
         {
          "location": "((3, 3), 'up')",
          "q_value": 0,
          "run": 49
         },
         {
          "location": "((3, 3), 'up')",
          "q_value": 0,
          "run": 50
         },
         {
          "location": "((3, 3), 'up')",
          "q_value": 0,
          "run": 51
         },
         {
          "location": "((3, 3), 'up')",
          "q_value": 0,
          "run": 52
         },
         {
          "location": "((3, 3), 'up')",
          "q_value": 0,
          "run": 53
         },
         {
          "location": "((3, 3), 'up')",
          "q_value": 0,
          "run": 54
         },
         {
          "location": "((3, 3), 'up')",
          "q_value": 0,
          "run": 55
         },
         {
          "location": "((3, 3), 'up')",
          "q_value": 0,
          "run": 56
         },
         {
          "location": "((3, 3), 'up')",
          "q_value": 0,
          "run": 57
         },
         {
          "location": "((3, 3), 'up')",
          "q_value": 0,
          "run": 58
         },
         {
          "location": "((3, 3), 'up')",
          "q_value": 0,
          "run": 59
         },
         {
          "location": "((3, 3), 'up')",
          "q_value": 0,
          "run": 60
         },
         {
          "location": "((3, 3), 'up')",
          "q_value": 0,
          "run": 61
         },
         {
          "location": "((3, 3), 'up')",
          "q_value": 0,
          "run": 62
         },
         {
          "location": "((3, 3), 'up')",
          "q_value": 0,
          "run": 63
         },
         {
          "location": "((3, 3), 'up')",
          "q_value": 0,
          "run": 64
         },
         {
          "location": "((3, 3), 'up')",
          "q_value": 0,
          "run": 65
         },
         {
          "location": "((3, 3), 'up')",
          "q_value": 0,
          "run": 66
         },
         {
          "location": "((3, 3), 'up')",
          "q_value": 0,
          "run": 67
         },
         {
          "location": "((3, 3), 'up')",
          "q_value": 0,
          "run": 68
         },
         {
          "location": "((3, 3), 'up')",
          "q_value": 0,
          "run": 69
         },
         {
          "location": "((3, 3), 'up')",
          "q_value": 0,
          "run": 70
         },
         {
          "location": "((3, 3), 'up')",
          "q_value": 0,
          "run": 71
         },
         {
          "location": "((3, 3), 'up')",
          "q_value": 0,
          "run": 72
         },
         {
          "location": "((3, 3), 'up')",
          "q_value": 0,
          "run": 73
         },
         {
          "location": "((3, 3), 'up')",
          "q_value": 0,
          "run": 74
         },
         {
          "location": "((3, 3), 'up')",
          "q_value": 0,
          "run": 75
         },
         {
          "location": "((3, 3), 'up')",
          "q_value": 0,
          "run": 76
         },
         {
          "location": "((3, 3), 'up')",
          "q_value": 0,
          "run": 77
         },
         {
          "location": "((3, 3), 'up')",
          "q_value": 0,
          "run": 78
         },
         {
          "location": "((3, 3), 'up')",
          "q_value": 0,
          "run": 79
         },
         {
          "location": "((3, 3), 'up')",
          "q_value": 0,
          "run": 80
         },
         {
          "location": "((3, 3), 'up')",
          "q_value": 0,
          "run": 81
         },
         {
          "location": "((3, 3), 'up')",
          "q_value": 0,
          "run": 82
         },
         {
          "location": "((3, 3), 'up')",
          "q_value": 0,
          "run": 83
         },
         {
          "location": "((3, 3), 'up')",
          "q_value": 0,
          "run": 84
         },
         {
          "location": "((3, 3), 'up')",
          "q_value": 0,
          "run": 85
         },
         {
          "location": "((3, 3), 'up')",
          "q_value": 0,
          "run": 86
         },
         {
          "location": "((3, 3), 'up')",
          "q_value": 0,
          "run": 87
         },
         {
          "location": "((3, 3), 'up')",
          "q_value": 0,
          "run": 88
         },
         {
          "location": "((3, 3), 'up')",
          "q_value": 0,
          "run": 89
         },
         {
          "location": "((3, 3), 'up')",
          "q_value": 0,
          "run": 90
         },
         {
          "location": "((3, 3), 'up')",
          "q_value": 0,
          "run": 91
         },
         {
          "location": "((3, 3), 'up')",
          "q_value": 0,
          "run": 92
         },
         {
          "location": "((3, 3), 'up')",
          "q_value": 0,
          "run": 93
         },
         {
          "location": "((3, 3), 'up')",
          "q_value": 0,
          "run": 94
         },
         {
          "location": "((3, 3), 'up')",
          "q_value": 0,
          "run": 95
         },
         {
          "location": "((3, 3), 'up')",
          "q_value": 0,
          "run": 96
         },
         {
          "location": "((3, 3), 'up')",
          "q_value": 0,
          "run": 97
         },
         {
          "location": "((3, 3), 'up')",
          "q_value": 0,
          "run": 98
         },
         {
          "location": "((3, 3), 'up')",
          "q_value": 0,
          "run": 99
         },
         {
          "location": "((3, 3), 'up')",
          "q_value": 0,
          "run": 100
         },
         {
          "location": "((3, 3), 'left')",
          "q_value": 0,
          "run": 0
         },
         {
          "location": "((3, 3), 'left')",
          "q_value": 0,
          "run": 1
         },
         {
          "location": "((3, 3), 'left')",
          "q_value": 0,
          "run": 2
         },
         {
          "location": "((3, 3), 'left')",
          "q_value": 0,
          "run": 3
         },
         {
          "location": "((3, 3), 'left')",
          "q_value": 0,
          "run": 4
         },
         {
          "location": "((3, 3), 'left')",
          "q_value": 0,
          "run": 5
         },
         {
          "location": "((3, 3), 'left')",
          "q_value": 0,
          "run": 6
         },
         {
          "location": "((3, 3), 'left')",
          "q_value": 0,
          "run": 7
         },
         {
          "location": "((3, 3), 'left')",
          "q_value": 0,
          "run": 8
         },
         {
          "location": "((3, 3), 'left')",
          "q_value": 0,
          "run": 9
         },
         {
          "location": "((3, 3), 'left')",
          "q_value": 0,
          "run": 10
         },
         {
          "location": "((3, 3), 'left')",
          "q_value": 0,
          "run": 11
         },
         {
          "location": "((3, 3), 'left')",
          "q_value": 0,
          "run": 12
         },
         {
          "location": "((3, 3), 'left')",
          "q_value": 0,
          "run": 13
         },
         {
          "location": "((3, 3), 'left')",
          "q_value": 0,
          "run": 14
         },
         {
          "location": "((3, 3), 'left')",
          "q_value": 0,
          "run": 15
         },
         {
          "location": "((3, 3), 'left')",
          "q_value": 0,
          "run": 16
         },
         {
          "location": "((3, 3), 'left')",
          "q_value": 0,
          "run": 17
         },
         {
          "location": "((3, 3), 'left')",
          "q_value": 0,
          "run": 18
         },
         {
          "location": "((3, 3), 'left')",
          "q_value": 0,
          "run": 19
         },
         {
          "location": "((3, 3), 'left')",
          "q_value": 0,
          "run": 20
         },
         {
          "location": "((3, 3), 'left')",
          "q_value": 0,
          "run": 21
         },
         {
          "location": "((3, 3), 'left')",
          "q_value": 0,
          "run": 22
         },
         {
          "location": "((3, 3), 'left')",
          "q_value": 0,
          "run": 23
         },
         {
          "location": "((3, 3), 'left')",
          "q_value": 0,
          "run": 24
         },
         {
          "location": "((3, 3), 'left')",
          "q_value": 0,
          "run": 25
         },
         {
          "location": "((3, 3), 'left')",
          "q_value": 0,
          "run": 26
         },
         {
          "location": "((3, 3), 'left')",
          "q_value": 0,
          "run": 27
         },
         {
          "location": "((3, 3), 'left')",
          "q_value": 0,
          "run": 28
         },
         {
          "location": "((3, 3), 'left')",
          "q_value": 0,
          "run": 29
         },
         {
          "location": "((3, 3), 'left')",
          "q_value": 0,
          "run": 30
         },
         {
          "location": "((3, 3), 'left')",
          "q_value": 0,
          "run": 31
         },
         {
          "location": "((3, 3), 'left')",
          "q_value": 0,
          "run": 32
         },
         {
          "location": "((3, 3), 'left')",
          "q_value": 0,
          "run": 33
         },
         {
          "location": "((3, 3), 'left')",
          "q_value": 0,
          "run": 34
         },
         {
          "location": "((3, 3), 'left')",
          "q_value": 0,
          "run": 35
         },
         {
          "location": "((3, 3), 'left')",
          "q_value": 0,
          "run": 36
         },
         {
          "location": "((3, 3), 'left')",
          "q_value": 0,
          "run": 37
         },
         {
          "location": "((3, 3), 'left')",
          "q_value": 0,
          "run": 38
         },
         {
          "location": "((3, 3), 'left')",
          "q_value": 0,
          "run": 39
         },
         {
          "location": "((3, 3), 'left')",
          "q_value": 0,
          "run": 40
         },
         {
          "location": "((3, 3), 'left')",
          "q_value": 0,
          "run": 41
         },
         {
          "location": "((3, 3), 'left')",
          "q_value": 0,
          "run": 42
         },
         {
          "location": "((3, 3), 'left')",
          "q_value": 0,
          "run": 43
         },
         {
          "location": "((3, 3), 'left')",
          "q_value": 0,
          "run": 44
         },
         {
          "location": "((3, 3), 'left')",
          "q_value": 0,
          "run": 45
         },
         {
          "location": "((3, 3), 'left')",
          "q_value": 0,
          "run": 46
         },
         {
          "location": "((3, 3), 'left')",
          "q_value": 0,
          "run": 47
         },
         {
          "location": "((3, 3), 'left')",
          "q_value": 0,
          "run": 48
         },
         {
          "location": "((3, 3), 'left')",
          "q_value": 0,
          "run": 49
         },
         {
          "location": "((3, 3), 'left')",
          "q_value": 0,
          "run": 50
         },
         {
          "location": "((3, 3), 'left')",
          "q_value": 0,
          "run": 51
         },
         {
          "location": "((3, 3), 'left')",
          "q_value": 0,
          "run": 52
         },
         {
          "location": "((3, 3), 'left')",
          "q_value": 0,
          "run": 53
         },
         {
          "location": "((3, 3), 'left')",
          "q_value": 0,
          "run": 54
         },
         {
          "location": "((3, 3), 'left')",
          "q_value": 0,
          "run": 55
         },
         {
          "location": "((3, 3), 'left')",
          "q_value": 0,
          "run": 56
         },
         {
          "location": "((3, 3), 'left')",
          "q_value": 0,
          "run": 57
         },
         {
          "location": "((3, 3), 'left')",
          "q_value": 0,
          "run": 58
         },
         {
          "location": "((3, 3), 'left')",
          "q_value": 0,
          "run": 59
         },
         {
          "location": "((3, 3), 'left')",
          "q_value": 0,
          "run": 60
         },
         {
          "location": "((3, 3), 'left')",
          "q_value": 0,
          "run": 61
         },
         {
          "location": "((3, 3), 'left')",
          "q_value": 0,
          "run": 62
         },
         {
          "location": "((3, 3), 'left')",
          "q_value": 0,
          "run": 63
         },
         {
          "location": "((3, 3), 'left')",
          "q_value": 0,
          "run": 64
         },
         {
          "location": "((3, 3), 'left')",
          "q_value": 0,
          "run": 65
         },
         {
          "location": "((3, 3), 'left')",
          "q_value": 0,
          "run": 66
         },
         {
          "location": "((3, 3), 'left')",
          "q_value": 0,
          "run": 67
         },
         {
          "location": "((3, 3), 'left')",
          "q_value": 0,
          "run": 68
         },
         {
          "location": "((3, 3), 'left')",
          "q_value": 0,
          "run": 69
         },
         {
          "location": "((3, 3), 'left')",
          "q_value": 0,
          "run": 70
         },
         {
          "location": "((3, 3), 'left')",
          "q_value": 0,
          "run": 71
         },
         {
          "location": "((3, 3), 'left')",
          "q_value": 0,
          "run": 72
         },
         {
          "location": "((3, 3), 'left')",
          "q_value": 0,
          "run": 73
         },
         {
          "location": "((3, 3), 'left')",
          "q_value": 0,
          "run": 74
         },
         {
          "location": "((3, 3), 'left')",
          "q_value": 0,
          "run": 75
         },
         {
          "location": "((3, 3), 'left')",
          "q_value": 0,
          "run": 76
         },
         {
          "location": "((3, 3), 'left')",
          "q_value": 0,
          "run": 77
         },
         {
          "location": "((3, 3), 'left')",
          "q_value": 0,
          "run": 78
         },
         {
          "location": "((3, 3), 'left')",
          "q_value": 0,
          "run": 79
         },
         {
          "location": "((3, 3), 'left')",
          "q_value": 0,
          "run": 80
         },
         {
          "location": "((3, 3), 'left')",
          "q_value": 0,
          "run": 81
         },
         {
          "location": "((3, 3), 'left')",
          "q_value": 0,
          "run": 82
         },
         {
          "location": "((3, 3), 'left')",
          "q_value": 0,
          "run": 83
         },
         {
          "location": "((3, 3), 'left')",
          "q_value": 0,
          "run": 84
         },
         {
          "location": "((3, 3), 'left')",
          "q_value": 0,
          "run": 85
         },
         {
          "location": "((3, 3), 'left')",
          "q_value": 0,
          "run": 86
         },
         {
          "location": "((3, 3), 'left')",
          "q_value": 0,
          "run": 87
         },
         {
          "location": "((3, 3), 'left')",
          "q_value": 0,
          "run": 88
         },
         {
          "location": "((3, 3), 'left')",
          "q_value": 0,
          "run": 89
         },
         {
          "location": "((3, 3), 'left')",
          "q_value": 0,
          "run": 90
         },
         {
          "location": "((3, 3), 'left')",
          "q_value": 0,
          "run": 91
         },
         {
          "location": "((3, 3), 'left')",
          "q_value": 0,
          "run": 92
         },
         {
          "location": "((3, 3), 'left')",
          "q_value": 0,
          "run": 93
         },
         {
          "location": "((3, 3), 'left')",
          "q_value": 0,
          "run": 94
         },
         {
          "location": "((3, 3), 'left')",
          "q_value": 0,
          "run": 95
         },
         {
          "location": "((3, 3), 'left')",
          "q_value": 0,
          "run": 96
         },
         {
          "location": "((3, 3), 'left')",
          "q_value": 0,
          "run": 97
         },
         {
          "location": "((3, 3), 'left')",
          "q_value": 0,
          "run": 98
         },
         {
          "location": "((3, 3), 'left')",
          "q_value": 0,
          "run": 99
         },
         {
          "location": "((3, 3), 'left')",
          "q_value": 0,
          "run": 100
         }
        ]
       },
       "encoding": {
        "x": {
         "field": "location",
         "type": "nominal"
        },
        "y": {
         "field": "q_value",
         "scale": {
          "domain": [
           0,
           11
          ]
         },
         "type": "quantitative"
        }
       },
       "mark": "bar",
       "selection": {
        "iteration": {
         "bind": {
          "input": "range",
          "max": 100,
          "min": 1,
          "step": 1
         },
         "empty": "all",
         "fields": [
          "run"
         ],
         "on": "click",
         "resolve": "global",
         "type": "single"
        }
       },
       "transform": [
        {
         "filter": {
          "selection": "iteration"
         }
        }
       ]
      },
      "image/png": "[encoded data removed]",
      "text/plain": [
       "<VegaLite 2 object>\n",
       "\n",
       "If you see this message, it means the renderer has not been properly enabled\n",
       "for the frontend that you are using. For more information, see\n",
       "https://altair-viz.github.io/user_guide/troubleshooting.html\n"
      ]
     },
     "execution_count": 11,
     "metadata": {},
     "output_type": "execute_result"
    }
   ],
   "source": [
    "import altair as alt\n",
    "\n",
    "slider = alt.binding_range(min=1, max=100, step=1)\n",
    "select_run = alt.selection_single(name=\"iteration\", fields=['run'], bind=slider)\n",
    "alt.data_transformers.enable('default', max_rows=None)\n",
    "alt.Chart(df).mark_bar().encode(\n",
    "    x='location:N',\n",
    "    y=alt.Y('q_value:Q', scale=alt.Scale(domain=(0, 11))),\n",
    ").add_selection(\n",
    "    select_run\n",
    ").transform_filter(\n",
    "    select_run\n",
    ")"
   ]
  },
  {
   "cell_type": "code",
   "execution_count": null,
   "metadata": {},
   "outputs": [],
   "source": []
  }
 ],
 "metadata": {
  "kernelspec": {
   "display_name": "Python 3",
   "language": "python",
   "name": "python3"
  },
  "language_info": {
   "codemirror_mode": {
    "name": "ipython",
    "version": 3
   },
   "file_extension": ".py",
   "mimetype": "text/x-python",
   "name": "python",
   "nbconvert_exporter": "python",
   "pygments_lexer": "ipython3",
   "version": "3.6.4"
  }
 },
 "nbformat": 4,
 "nbformat_minor": 2
}
