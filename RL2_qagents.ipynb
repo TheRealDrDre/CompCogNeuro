{
 "cells": [
  {
   "cell_type": "markdown",
   "metadata": {},
   "source": [
    "# Reinforcement Learning Code, Part 2: Agents that act\n",
    "\n",
    "\n",
    "Here we are going to implement a RL agent interacting with a simple environment. In this case, our agent would be a simulated RL mouse, and the environment a 2D maze.\n",
    "\n",
    "## Defining the environment\n",
    "\n",
    "To define the environment, we need to define the set of possible states $S = {s_1, s_2 ... s_N}$, the transition function $P_{s,s'}^{a}$, and the reward transition function $R_{s,s'}^{a}$.\n",
    "\n",
    "In our case, the environment just consists of a 4x4 grid. Our hypothetical agent perceives only one cell at any time---the cell where it is.  Therefore, our states correspond to the sixteen position of the maze, which we can indicate with the coordinates $(0, 0), (0, 1)... (0, 3), (1, 0) ... (3, 3)$.\n",
    "\n",
    "An environment is characterized by two functions:\n",
    "\n",
    "* The state transition probability function $P(s, a, s')$, which the probability of transitioning to a possible state $s'$ when action $a$ is applied during state $s$; and\n",
    "\n",
    "* The reward transition probability function $R(s, a, s')$, which is the probability of receiving a reward $r$ when action $a$ is applied to state $s$ and the environment moves to state $s'\n",
    "\n",
    "In our simple cases, both $P(s,a,s')$ and $R(s,a,s')$ will be simplified to deterministic functions.\n"
   ]
  },
  {
   "cell_type": "code",
   "execution_count": 1,
   "metadata": {},
   "outputs": [],
   "source": [
    "import random\n",
    "import numpy as np\n",
    "from copy import copy\n",
    "import matplotlib.pyplot as plt \n",
    "\n",
    "class Maze():\n",
    "    \"\"\"A maze environment\"\"\"\n",
    "\n",
    "    ACTIONS = (\"up\", \"down\", \"left\", \"right\") # List of actions\n",
    "    INITIAL_STATE = (0, 0) # Always starts at the topleft corner\n",
    "    \n",
    "    def __init__(self, fname = \"grid.txt\"):\n",
    "        \"\"\"Inits a maze by loading the grid file\"\"\"\n",
    "        self.grid = np.loadtxt(fname)\n",
    "        self.state = self.INITIAL_STATE\n",
    "        self.end = False\n",
    "\n",
    "\n",
    "    def state_transition(self, state1, action1):\n",
    "        \"Defines the next state gien the \"\n",
    "        s = state1\n",
    "        state2 = copy(state1)\n",
    "        \n",
    "        if action1 in self.ACTIONS:\n",
    "            if action1 == \"up\":\n",
    "                if s[0] > 0:\n",
    "                    state2 = (s[0] - 1, s[1])\n",
    "            \n",
    "            elif action1 == \"left\":\n",
    "                if s[1] > 0:\n",
    "                    state2 = (s[0], s[1] - 1)\n",
    "            \n",
    "            elif action1 == \"down\":\n",
    "                if s[0] < (self.grid.shape[0] - 1):\n",
    "                    state2 = (s[0] + 1, s[1])\n",
    "\n",
    "            elif action1 == \"right\":\n",
    "                if s[1] < (self.grid.shape[1] - 1):\n",
    "                    state2 = (s[0], s[1] + 1)\n",
    "                    \n",
    "        return state2\n",
    "                    \n",
    "    \n",
    "    def reward_transition(self, state1, action1, state2):\n",
    "        \"\"\"Reward is -1 for bouncing against the walls, and whatever is on the grid otherwise\"\"\"\n",
    "        if state1 == state2:\n",
    "            return -1\n",
    "        else:\n",
    "            return self.grid[state2[0], state2[1]]\n",
    "        \n",
    "    \n",
    "    # Quick way to combine State transitions and Reward transitions \n",
    "    def transition(self, action1):\n",
    "        \"\"\"Changes the state following an action\"\"\"\n",
    "        state1 = self.state\n",
    "        state2 = self.state_transition(state1, action1)\n",
    "        reward2 = self.reward_transition(state1, action1, state2)\n",
    "        \n",
    "        self.state = state2\n",
    "        return (state2, reward2) # Returns s_t+1, r_t+1\n",
    "\n",
    "    \n",
    "    def print_state(self):\n",
    "        \"Prints a text representation of the maze (with the agent position)\"\n",
    "        bar = \"-\" * ( 4 * self.grid.shape[1] + 1)\n",
    "        for i in range(self.grid.shape[0]):\n",
    "            row = \"|\"\n",
    "            for j in range(self.grid.shape[1]):\n",
    "                cell = \" \"\n",
    "                if i == self.state[0] and j == self.state[1]:\n",
    "                    cell = \"*\"\n",
    "                row += (\" %s |\" % cell)\n",
    "            print(bar)\n",
    "            print(row)\n",
    "        print(bar)"
   ]
  },
  {
   "cell_type": "markdown",
   "metadata": {},
   "source": [
    "## Testing the maze\n",
    "The maze is simple but functional. It is easy to create a maze, check the available actions, apply a few actions, and so on. Let's check that our environment works."
   ]
  },
  {
   "cell_type": "code",
   "execution_count": 2,
   "metadata": {},
   "outputs": [
    {
     "name": "stdout",
     "output_type": "stream",
     "text": [
      "-----------------\n",
      "| * |   |   |   |\n",
      "-----------------\n",
      "|   |   |   |   |\n",
      "-----------------\n",
      "|   |   |   |   |\n",
      "-----------------\n",
      "|   |   |   |   |\n",
      "-----------------\n",
      "State after illegal action: (0, 0)\n",
      "Reward after illegal action: -1\n",
      "State after legal action: (1, 0)\n",
      "Reward after legal action: 0.0\n"
     ]
    }
   ],
   "source": [
    "m = Maze()\n",
    "m.print_state()\n",
    "state_after_bad_action = m.state_transition(m.state, \"up\")  # Illigal action: bounces!\n",
    "state_after_good_action = m.state_transition(m.state, \"down\") # Legal action: Goes down\n",
    "\n",
    "print(\"State after illegal action: %s\" % (state_after_bad_action,))\n",
    "print(\"Reward after illegal action: %s\" % (m.reward_transition(m.state, \"up\", state_after_bad_action)))\n",
    "\n",
    "print(\"State after legal action: %s\" % (state_after_good_action,))\n",
    "print(\"Reward after legal action: %s\" % (m.reward_transition(m.state, \"down\", state_after_good_action)))\n",
    "\n"
   ]
  },
  {
   "cell_type": "markdown",
   "metadata": {},
   "source": [
    "And, finally, we can easily navigate in our virtual maze by executing the appropriate actions:"
   ]
  },
  {
   "cell_type": "code",
   "execution_count": 3,
   "metadata": {},
   "outputs": [
    {
     "data": {
      "text/plain": [
       "((1, 0), 0.0)"
      ]
     },
     "execution_count": 3,
     "metadata": {},
     "output_type": "execute_result"
    }
   ],
   "source": [
    "m.transition(\"down\")"
   ]
  },
  {
   "cell_type": "markdown",
   "metadata": {},
   "source": [
    "Note how the ```Maze``` object returns two values at the end of each action execution, the new state $s_{t+1}$ and the associated reward $r_{t+1}$. If the ```down``` action was executed with the original maze layout of the ```grid.txt``` file, case, the two values are $s_{t+1} = $ ```(3, 0)``` and $r_{t+1} = $ ```0.0```. We can also execute more actions, and see what happens after a few movements:"
   ]
  },
  {
   "cell_type": "code",
   "execution_count": 4,
   "metadata": {},
   "outputs": [
    {
     "name": "stdout",
     "output_type": "stream",
     "text": [
      "-----------------\n",
      "|   |   |   |   |\n",
      "-----------------\n",
      "|   |   |   |   |\n",
      "-----------------\n",
      "|   |   |   |   |\n",
      "-----------------\n",
      "|   | * |   |   |\n",
      "-----------------\n"
     ]
    }
   ],
   "source": [
    "m.transition(\"down\")\n",
    "m.transition(\"down\")\n",
    "m.transition(\"right\")\n",
    "m.print_state()\n"
   ]
  },
  {
   "cell_type": "markdown",
   "metadata": {},
   "source": [
    "## Creating a Q-Agent\n",
    "Now we can create our own very fantastic agents! As an example, we will create a $Q$-learning agent that interacts with the ``` Maze``` world. The $Q$-table should contain $16 \\times 4 = 64$ different state-action pairs; rather than filling it up right away, we will fill it up as we encounter new state-action pairs, assuming that any previously unencountered state has a value of $Q = 0$ "
   ]
  },
  {
   "cell_type": "code",
   "execution_count": 5,
   "metadata": {},
   "outputs": [],
   "source": [
    "import random\n",
    "import numpy as np\n",
    "\n",
    "class Agent():\n",
    "    def __init__(self, actions=Maze.ACTIONS, epsilon=0.1, alpha=0.1, gamma=0.9):\n",
    "        \"\"\"Creates a Q-agent\"\"\"\n",
    "        self.Q = {}    ## Initial dictionary of (s, a) pairs. At the beginning, it's emtpy.\n",
    "\n",
    "        self.epsilon = epsilon     # Epsilon for e-greey policy\n",
    "        self.alpha = alpha         # Learning rate\n",
    "        self.gamma = gamma         # Temporal discounting\n",
    "        self.actions = actions     # Set of possible actions (provide those of Maze.ACTIONS)\n",
    "\n",
    "\n",
    "    def policy(self, state):\n",
    "        \"\"\"Selects an action with a epsilon-greedy policy\"\"\"\n",
    "        if random.random() < self.epsilon:\n",
    "            action = random.choice(self.actions)\n",
    "        else:\n",
    "            q = [self.Q[(state, a)] if (state, a) in self.Q.keys() else 0.0 for a in self.actions]\n",
    "            maxQ = max(q)\n",
    "            count = q.count(maxQ)\n",
    "            if count > 1:\n",
    "                best = [i for i in range(len(self.actions)) if q[i] == maxQ]\n",
    "                i = random.choice(best)\n",
    "            else:\n",
    "                i = q.index(maxQ)\n",
    "\n",
    "            action = self.actions[i]\n",
    "        return action\n",
    "\n",
    "    \n",
    "    def learnQ(self, state1, action1, reward2, state2, action2):\n",
    "        \"\"\"Updates the Q-values when given an (s,a) pair, the reward value and a new state\"\"\"\n",
    "        g = self.gamma\n",
    "        a = self.alpha\n",
    "        \n",
    "        q1 = 0.0\n",
    "        \n",
    "        if (state1, action1) in self.Q.keys():\n",
    "            q1 = self.Q[(state1, action1)]\n",
    "        \n",
    "        max_q2 = max([self.Q[(state2, a)] if (state2, a) in self.Q.keys() else 0.0 for a in self.actions])\n",
    "        \n",
    "        rpe = reward2 + g * max_q2 - q1\n",
    "        #print(\"s1 = %s, a1 = %s, s2 = %s, q1 = %.4f, r2 = %.4f, q2 = %.4f\" % (state1, action1, state2, q1, reward2, max_q2))\n",
    "        q1 += a * rpe\n",
    "        #print(\"new q1 = %.4f\" % (q1,))\n",
    "        self.Q[(state1, action1)] = q1\n",
    "\n",
    "            \n",
    "    def calculateV(self, task):\n",
    "        \"\"\"Returns a representation of the best Q values in every states\"\"\"\n",
    "        v = np.zeros(task.grid.shape)\n",
    "        for i in range(v.shape[0]):\n",
    "            for j in range(v.shape[1]):\n",
    "                maxq = max([self.getQ((i, j), a) for a in self.actions])\n",
    "                v[i,j] =maxq\n",
    "        return v\n",
    "    \n",
    "    def visualizeQ(self):\n",
    "        \"\"\"Visualizes the Q tables, one per action\"\"\"\n",
    "        for a in self.actions:\n",
    "            # Create the corresponding state table\n",
    "            mat = np.zeros((4,4))\n",
    "            states = [x for x in self.Q.keys() if x[1] == a]\n",
    "            \n",
    "            for s in states:\n",
    "                row, col = s[0]\n",
    "                mat[row, col] = self.Q[s]\n",
    "            \n",
    "            # Show the Q-table as a heatmap\n",
    "            plt.imshow(mat, interpolation = \"none\", vmin=-1, vmax=10, cmap='jet')\n",
    "            plt.title(\"Q-Table for action '%s'\" % a.upper())\n",
    "            plt.show()\n",
    "\n",
    "        "
   ]
  },
  {
   "cell_type": "markdown",
   "metadata": {},
   "source": [
    "## Interaction between Environment and Agent\n",
    "Now, two functions to run multiple trials."
   ]
  },
  {
   "cell_type": "code",
   "execution_count": 6,
   "metadata": {},
   "outputs": [],
   "source": [
    "def run_trial(environment, agent):\n",
    "    \"\"\"A trial ends when the agent gets a reward. The history is returned\"\"\"\n",
    "    state1 = environment.state\n",
    "    action1 = agent.policy(state1)\n",
    "    reward2 = 0.0\n",
    "    history = [state1]\n",
    "    while reward2 != 10:\n",
    "        state2, reward2 = environment.transition(action1)\n",
    "        action2 = agent.policy(state2)\n",
    "        \n",
    "        # Save the states visited\n",
    "        history.append(state2)\n",
    "        \n",
    "        # Update the Q-values for state1, action1\n",
    "        agent.learnQ(state1, action1, reward2, state2, action2)\n",
    "        \n",
    "        state1 = state2\n",
    "        action1 = action2\n",
    "        \n",
    "    return history\n",
    "\n",
    "    \n",
    "def run_trials(environment, agent, n, collect=True):\n",
    "    \"\"\"Runs N trials\"\"\"\n",
    "    history = []\n",
    "    for j in range(n):\n",
    "        h = run_trial(environment, agent)\n",
    "        history += h\n",
    "        environment.state = Maze.INITIAL_STATE\n",
    "    \n",
    "    return history\n",
    "        \n",
    "def visualize_history(history):\n",
    "    mat = np.zeros((4,4))            \n",
    "    for s in history:\n",
    "        row, col = s\n",
    "        mat[row, col] += 1\n",
    "    \n",
    "    mat /= np.sum(mat)\n",
    "    mat *= 5  # min number of moves\n",
    "    \n",
    "    plt.imshow(mat, interpolation = \"none\", vmin=0, vmax=1, cmap='jet')\n",
    "    plt.title(\"Preferred path\")\n",
    "    plt.show()\n",
    "    "
   ]
  },
  {
   "cell_type": "markdown",
   "metadata": {},
   "source": [
    "## Testing the agent\n",
    "\n",
    "Here a few tests."
   ]
  },
  {
   "cell_type": "code",
   "execution_count": 7,
   "metadata": {},
   "outputs": [
    {
     "data": {
      "image/png": "[encoded data removed]",
      "text/plain": [
       "<Figure size 432x288 with 1 Axes>"
      ]
     },
     "metadata": {},
     "output_type": "display_data"
    },
    {
     "data": {
      "image/png": "[encoded data removed]",
      "text/plain": [
       "<Figure size 432x288 with 1 Axes>"
      ]
     },
     "metadata": {},
     "output_type": "display_data"
    },
    {
     "data": {
      "image/png": "[encoded data removed]",
      "text/plain": [
       "<Figure size 432x288 with 1 Axes>"
      ]
     },
     "metadata": {},
     "output_type": "display_data"
    },
    {
     "data": {
      "image/png": "[encoded data removed]",
      "text/plain": [
       "<Figure size 432x288 with 1 Axes>"
      ]
     },
     "metadata": {},
     "output_type": "display_data"
    },
    {
     "data": {
      "image/png": "[encoded data removed]",
      "text/plain": [
       "<Figure size 432x288 with 1 Axes>"
      ]
     },
     "metadata": {},
     "output_type": "display_data"
    }
   ],
   "source": [
    "m = Maze()\n",
    "a = Agent()\n",
    "run_trials(m, a, 10000)\n",
    "a.visualizeQ()\n",
    "h = run_trials(m, a, 10)\n",
    "visualize_history(h)"
   ]
  },
  {
   "cell_type": "markdown",
   "metadata": {},
   "source": [
    "## How are the $Q$ values changing?"
   ]
  },
  {
   "cell_type": "code",
   "execution_count": 8,
   "metadata": {},
   "outputs": [],
   "source": [
    "def run_trials_for_altair(environment, agent, n, collect=True):\n",
    "    \"\"\"Runs N trials\"\"\"\n",
    "    state_action = {} \n",
    "    # init all state_actions\n",
    "    for i in range(4):\n",
    "        for j in range(4):\n",
    "            for direction in ['down', 'right', 'up', 'left']:\n",
    "                state_action[str(((i, j), direction))] = [0] \n",
    "\n",
    "    for j in range(n):\n",
    "        run_trial(environment, agent)\n",
    "        all_keys = set(state_action.keys())\n",
    "        # keys with new values\n",
    "        for key, val in agent.Q.items():\n",
    "            state_action[str(key)].append(val)\n",
    "            all_keys.remove(str(key))\n",
    "        # keys without new values\n",
    "        for key in all_keys:\n",
    "            state_action[str(key)].append(state_action[str(key)][-1])\n",
    "        environment.state = Maze.INITIAL_STATE\n",
    "        \n",
    "    import pandas as pd\n",
    "    location = []\n",
    "    run = []\n",
    "    q_value = []\n",
    "    for loc in state_action.keys():\n",
    "        for i in range(len(state_action[loc])):\n",
    "            location.append(loc)\n",
    "            run.append(i)\n",
    "            q_value.append(state_action[loc][i])\n",
    "    df = pd.DataFrame({\"location\":location, \"run\":run, \"q_value\":q_value})\n",
    "    return df    "
   ]
  },
  {
   "cell_type": "code",
   "execution_count": 9,
   "metadata": {},
   "outputs": [],
   "source": [
    "m = Maze()\n",
    "a = Agent()\n",
    "df = run_trials_for_altair(m, a, 100)"
   ]
  },
  {
   "cell_type": "code",
   "execution_count": 10,
   "metadata": {},
   "outputs": [
    {
     "data": {
      "application/vnd.vegalite.v2+json": {
       "$schema": "https://vega.github.io/schema/vega-lite/v2.6.0.json",
       "config": {
        "view": {
         "height": 300,
         "width": 400
        }
       },
       "data": {
        "name": "data-daaa5299442ab278c0ce1d7ad6a8d6b8"
       },
       "datasets": {
        "data-daaa5299442ab278c0ce1d7ad6a8d6b8": [
         {
          "location": "((0, 0), 'down')",
          "q_value": 0,
          "run": 0
         },
         {
          "location": "((0, 0), 'down')",
          "q_value": 0,
          "run": 1
         },
         {
          "location": "((0, 0), 'down')",
          "q_value": 0,
          "run": 2
         },
         {
          "location": "((0, 0), 'down')",
          "q_value": 0,
          "run": 3
         },
         {
          "location": "((0, 0), 'down')",
          "q_value": 0,
          "run": 4
         },
         {
          "location": "((0, 0), 'down')",
          "q_value": 0,
          "run": 5
         },
         {
          "location": "((0, 0), 'down')",
          "q_value": 0,
          "run": 6
         },
         {
          "location": "((0, 0), 'down')",
          "q_value": 0,
          "run": 7
         },
         {
          "location": "((0, 0), 'down')",
          "q_value": 0,
          "run": 8
         },
         {
          "location": "((0, 0), 'down')",
          "q_value": 0,
          "run": 9
         },
         {
          "location": "((0, 0), 'down')",
          "q_value": 0,
          "run": 10
         },
         {
          "location": "((0, 0), 'down')",
          "q_value": 0,
          "run": 11
         },
         {
          "location": "((0, 0), 'down')",
          "q_value": 0,
          "run": 12
         },
         {
          "location": "((0, 0), 'down')",
          "q_value": 0,
          "run": 13
         },
         {
          "location": "((0, 0), 'down')",
          "q_value": 0,
          "run": 14
         },
         {
          "location": "((0, 0), 'down')",
          "q_value": 0,
          "run": 15
         },
         {
          "location": "((0, 0), 'down')",
          "q_value": 0,
          "run": 16
         },
         {
          "location": "((0, 0), 'down')",
          "q_value": 0,
          "run": 17
         },
         {
          "location": "((0, 0), 'down')",
          "q_value": 0,
          "run": 18
         },
         {
          "location": "((0, 0), 'down')",
          "q_value": 0,
          "run": 19
         },
         {
          "location": "((0, 0), 'down')",
          "q_value": 0,
          "run": 20
         },
         {
          "location": "((0, 0), 'down')",
          "q_value": 0,
          "run": 21
         },
         {
          "location": "((0, 0), 'down')",
          "q_value": 0,
          "run": 22
         },
         {
          "location": "((0, 0), 'down')",
          "q_value": 0,
          "run": 23
         },
         {
          "location": "((0, 0), 'down')",
          "q_value": 0,
          "run": 24
         },
         {
          "location": "((0, 0), 'down')",
          "q_value": 0,
          "run": 25
         },
         {
          "location": "((0, 0), 'down')",
          "q_value": 0,
          "run": 26
         },
         {
          "location": "((0, 0), 'down')",
          "q_value": 0,
          "run": 27
         },
         {
          "location": "((0, 0), 'down')",
          "q_value": 0,
          "run": 28
         },
         {
          "location": "((0, 0), 'down')",
          "q_value": 0,
          "run": 29
         },
         {
          "location": "((0, 0), 'down')",
          "q_value": 0,
          "run": 30
         },
         {
          "location": "((0, 0), 'down')",
          "q_value": 0,
          "run": 31
         },
         {
          "location": "((0, 0), 'down')",
          "q_value": 0,
          "run": 32
         },
         {
          "location": "((0, 0), 'down')",
          "q_value": 0,
          "run": 33
         },
         {
          "location": "((0, 0), 'down')",
          "q_value": 0,
          "run": 34
         },
         {
          "location": "((0, 0), 'down')",
          "q_value": 0,
          "run": 35
         },
         {
          "location": "((0, 0), 'down')",
          "q_value": 0,
          "run": 36
         },
         {
          "location": "((0, 0), 'down')",
          "q_value": 0,
          "run": 37
         },
         {
          "location": "((0, 0), 'down')",
          "q_value": 0,
          "run": 38
         },
         {
          "location": "((0, 0), 'down')",
          "q_value": 0,
          "run": 39
         },
         {
          "location": "((0, 0), 'down')",
          "q_value": 0,
          "run": 40
         },
         {
          "location": "((0, 0), 'down')",
          "q_value": 0,
          "run": 41
         },
         {
          "location": "((0, 0), 'down')",
          "q_value": 0,
          "run": 42
         },
         {
          "location": "((0, 0), 'down')",
          "q_value": 0,
          "run": 43
         },
         {
          "location": "((0, 0), 'down')",
          "q_value": 0,
          "run": 44
         },
         {
          "location": "((0, 0), 'down')",
          "q_value": 0,
          "run": 45
         },
         {
          "location": "((0, 0), 'down')",
          "q_value": 0,
          "run": 46
         },
         {
          "location": "((0, 0), 'down')",
          "q_value": 0,
          "run": 47
         },
         {
          "location": "((0, 0), 'down')",
          "q_value": 0,
          "run": 48
         },
         {
          "location": "((0, 0), 'down')",
          "q_value": 0,
          "run": 49
         },
         {
          "location": "((0, 0), 'down')",
          "q_value": 0,
          "run": 50
         },
         {
          "location": "((0, 0), 'down')",
          "q_value": 0,
          "run": 51
         },
         {
          "location": "((0, 0), 'down')",
          "q_value": 0,
          "run": 52
         },
         {
          "location": "((0, 0), 'down')",
          "q_value": 0,
          "run": 53
         },
         {
          "location": "((0, 0), 'down')",
          "q_value": 0,
          "run": 54
         },
         {
          "location": "((0, 0), 'down')",
          "q_value": 0,
          "run": 55
         },
         {
          "location": "((0, 0), 'down')",
          "q_value": 0,
          "run": 56
         },
         {
          "location": "((0, 0), 'down')",
          "q_value": 0,
          "run": 57
         },
         {
          "location": "((0, 0), 'down')",
          "q_value": 0,
          "run": 58
         },
         {
          "location": "((0, 0), 'down')",
          "q_value": 0,
          "run": 59
         },
         {
          "location": "((0, 0), 'down')",
          "q_value": 0,
          "run": 60
         },
         {
          "location": "((0, 0), 'down')",
          "q_value": 0,
          "run": 61
         },
         {
          "location": "((0, 0), 'down')",
          "q_value": 0,
          "run": 62
         },
         {
          "location": "((0, 0), 'down')",
          "q_value": 0,
          "run": 63
         },
         {
          "location": "((0, 0), 'down')",
          "q_value": 0,
          "run": 64
         },
         {
          "location": "((0, 0), 'down')",
          "q_value": 0,
          "run": 65
         },
         {
          "location": "((0, 0), 'down')",
          "q_value": 0,
          "run": 66
         },
         {
          "location": "((0, 0), 'down')",
          "q_value": 0,
          "run": 67
         },
         {
          "location": "((0, 0), 'down')",
          "q_value": 0,
          "run": 68
         },
         {
          "location": "((0, 0), 'down')",
          "q_value": 0,
          "run": 69
         },
         {
          "location": "((0, 0), 'down')",
          "q_value": 0,
          "run": 70
         },
         {
          "location": "((0, 0), 'down')",
          "q_value": 0,
          "run": 71
         },
         {
          "location": "((0, 0), 'down')",
          "q_value": 0,
          "run": 72
         },
         {
          "location": "((0, 0), 'down')",
          "q_value": 0,
          "run": 73
         },
         {
          "location": "((0, 0), 'down')",
          "q_value": 0,
          "run": 74
         },
         {
          "location": "((0, 0), 'down')",
          "q_value": 0,
          "run": 75
         },
         {
          "location": "((0, 0), 'down')",
          "q_value": 0,
          "run": 76
         },
         {
          "location": "((0, 0), 'down')",
          "q_value": 0,
          "run": 77
         },
         {
          "location": "((0, 0), 'down')",
          "q_value": 0,
          "run": 78
         },
         {
          "location": "((0, 0), 'down')",
          "q_value": 0.05854491984187624,
          "run": 79
         },
         {
          "location": "((0, 0), 'down')",
          "q_value": 0.05854491984187624,
          "run": 80
         },
         {
          "location": "((0, 0), 'down')",
          "q_value": 0.05854491984187624,
          "run": 81
         },
         {
          "location": "((0, 0), 'down')",
          "q_value": 0.05854491984187624,
          "run": 82
         },
         {
          "location": "((0, 0), 'down')",
          "q_value": 0.05854491984187624,
          "run": 83
         },
         {
          "location": "((0, 0), 'down')",
          "q_value": 0.05854491984187624,
          "run": 84
         },
         {
          "location": "((0, 0), 'down')",
          "q_value": 0.05854491984187624,
          "run": 85
         },
         {
          "location": "((0, 0), 'down')",
          "q_value": 0.05854491984187624,
          "run": 86
         },
         {
          "location": "((0, 0), 'down')",
          "q_value": 0.05854491984187624,
          "run": 87
         },
         {
          "location": "((0, 0), 'down')",
          "q_value": 0.05854491984187624,
          "run": 88
         },
         {
          "location": "((0, 0), 'down')",
          "q_value": 0.05854491984187624,
          "run": 89
         },
         {
          "location": "((0, 0), 'down')",
          "q_value": 0.05854491984187624,
          "run": 90
         },
         {
          "location": "((0, 0), 'down')",
          "q_value": 0.23818826242078212,
          "run": 91
         },
         {
          "location": "((0, 0), 'down')",
          "q_value": 0.23818826242078212,
          "run": 92
         },
         {
          "location": "((0, 0), 'down')",
          "q_value": 0.23818826242078212,
          "run": 93
         },
         {
          "location": "((0, 0), 'down')",
          "q_value": 0.23818826242078212,
          "run": 94
         },
         {
          "location": "((0, 0), 'down')",
          "q_value": 0.23818826242078212,
          "run": 95
         },
         {
          "location": "((0, 0), 'down')",
          "q_value": 0.23818826242078212,
          "run": 96
         },
         {
          "location": "((0, 0), 'down')",
          "q_value": 0.23818826242078212,
          "run": 97
         },
         {
          "location": "((0, 0), 'down')",
          "q_value": 0.23818826242078212,
          "run": 98
         },
         {
          "location": "((0, 0), 'down')",
          "q_value": 0.23818826242078212,
          "run": 99
         },
         {
          "location": "((0, 0), 'down')",
          "q_value": 0.23818826242078212,
          "run": 100
         },
         {
          "location": "((0, 0), 'right')",
          "q_value": 0,
          "run": 0
         },
         {
          "location": "((0, 0), 'right')",
          "q_value": 0,
          "run": 1
         },
         {
          "location": "((0, 0), 'right')",
          "q_value": 0,
          "run": 2
         },
         {
          "location": "((0, 0), 'right')",
          "q_value": 0,
          "run": 3
         },
         {
          "location": "((0, 0), 'right')",
          "q_value": 0,
          "run": 4
         },
         {
          "location": "((0, 0), 'right')",
          "q_value": 0,
          "run": 5
         },
         {
          "location": "((0, 0), 'right')",
          "q_value": 0,
          "run": 6
         },
         {
          "location": "((0, 0), 'right')",
          "q_value": 0.0020412000000000004,
          "run": 7
         },
         {
          "location": "((0, 0), 'right')",
          "q_value": 0.003878280000000001,
          "run": 8
         },
         {
          "location": "((0, 0), 'right')",
          "q_value": 0.009140202000000004,
          "run": 9
         },
         {
          "location": "((0, 0), 'right')",
          "q_value": 0.019727687700000007,
          "run": 10
         },
         {
          "location": "((0, 0), 'right')",
          "q_value": 0.03729712716000001,
          "run": 11
         },
         {
          "location": "((0, 0), 'right')",
          "q_value": 0.06323038507800002,
          "run": 12
         },
         {
          "location": "((0, 0), 'right')",
          "q_value": 0.09862339908420004,
          "run": 13
         },
         {
          "location": "((0, 0), 'right')",
          "q_value": 0.14428865212263003,
          "run": 14
         },
         {
          "location": "((0, 0), 'right')",
          "q_value": 0.20076758585002805,
          "run": 15
         },
         {
          "location": "((0, 0), 'right')",
          "q_value": 0.2683498358239705,
          "run": 16
         },
         {
          "location": "((0, 0), 'right')",
          "q_value": 0.3470968391856029,
          "run": 17
         },
         {
          "location": "((0, 0), 'right')",
          "q_value": 0.43686791464469826,
          "run": 18
         },
         {
          "location": "((0, 0), 'right')",
          "q_value": 0.537347362465378,
          "run": 19
         },
         {
          "location": "((0, 0), 'right')",
          "q_value": 0.6480714954832383,
          "run": 20
         },
         {
          "location": "((0, 0), 'right')",
          "q_value": 0.768454805072187,
          "run": 21
         },
         {
          "location": "((0, 0), 'right')",
          "q_value": 0.8978147003619907,
          "run": 22
         },
         {
          "location": "((0, 0), 'right')",
          "q_value": 1.0353944449679262,
          "run": 23
         },
         {
          "location": "((0, 0), 'right')",
          "q_value": 1.1803840615292038,
          "run": 24
         },
         {
          "location": "((0, 0), 'right')",
          "q_value": 1.3527976295068558,
          "run": 25
         },
         {
          "location": "((0, 0), 'right')",
          "q_value": 1.546887986741039,
          "run": 26
         },
         {
          "location": "((0, 0), 'right')",
          "q_value": 1.739779987206254,
          "run": 27
         },
         {
          "location": "((0, 0), 'right')",
          "q_value": 1.931301521397736,
          "run": 28
         },
         {
          "location": "((0, 0), 'right')",
          "q_value": 2.121238583826877,
          "run": 29
         },
         {
          "location": "((0, 0), 'right')",
          "q_value": 2.3093477423764015,
          "run": 30
         },
         {
          "location": "((0, 0), 'right')",
          "q_value": 2.5125904695534182,
          "run": 31
         },
         {
          "location": "((0, 0), 'right')",
          "q_value": 2.711057200146204,
          "run": 32
         },
         {
          "location": "((0, 0), 'right')",
          "q_value": 2.918187376069202,
          "run": 33
         },
         {
          "location": "((0, 0), 'right')",
          "q_value": 3.1177076893247784,
          "run": 34
         },
         {
          "location": "((0, 0), 'right')",
          "q_value": 3.309957104691497,
          "run": 35
         },
         {
          "location": "((0, 0), 'right')",
          "q_value": 3.4952249663728354,
          "run": 36
         },
         {
          "location": "((0, 0), 'right')",
          "q_value": 3.6737602347735816,
          "run": 37
         },
         {
          "location": "((0, 0), 'right')",
          "q_value": 3.8457794109273324,
          "run": 38
         },
         {
          "location": "((0, 0), 'right')",
          "q_value": 4.011473283893887,
          "run": 39
         },
         {
          "location": "((0, 0), 'right')",
          "q_value": 4.1710126290737035,
          "run": 40
         },
         {
          "location": "((0, 0), 'right')",
          "q_value": 4.324552977170198,
          "run": 41
         },
         {
          "location": "((0, 0), 'right')",
          "q_value": 4.472238564839663,
          "run": 42
         },
         {
          "location": "((0, 0), 'right')",
          "q_value": 4.614205569191767,
          "run": 43
         },
         {
          "location": "((0, 0), 'right')",
          "q_value": 4.750584719462637,
          "run": 44
         },
         {
          "location": "((0, 0), 'right')",
          "q_value": 4.881503370544599,
          "run": 45
         },
         {
          "location": "((0, 0), 'right')",
          "q_value": 5.007087114744028,
          "run": 46
         },
         {
          "location": "((0, 0), 'right')",
          "q_value": 5.127461000238082,
          "run": 47
         },
         {
          "location": "((0, 0), 'right')",
          "q_value": 5.242750417269733,
          "run": 48
         },
         {
          "location": "((0, 0), 'right')",
          "q_value": 5.353081706193234,
          "run": 49
         },
         {
          "location": "((0, 0), 'right')",
          "q_value": 5.458582535075432,
          "run": 50
         },
         {
          "location": "((0, 0), 'right')",
          "q_value": 5.559382088674772,
          "run": 51
         },
         {
          "location": "((0, 0), 'right')",
          "q_value": 5.6556111052513796,
          "run": 52
         },
         {
          "location": "((0, 0), 'right')",
          "q_value": 5.747401792792153,
          "run": 53
         },
         {
          "location": "((0, 0), 'right')",
          "q_value": 5.839274468080147,
          "run": 54
         },
         {
          "location": "((0, 0), 'right')",
          "q_value": 5.926099497424748,
          "run": 55
         },
         {
          "location": "((0, 0), 'right')",
          "q_value": 6.0081437786384075,
          "run": 56
         },
         {
          "location": "((0, 0), 'right')",
          "q_value": 6.085657078284767,
          "run": 57
         },
         {
          "location": "((0, 0), 'right')",
          "q_value": 6.158873873625684,
          "run": 58
         },
         {
          "location": "((0, 0), 'right')",
          "q_value": 6.22801492283771,
          "run": 59
         },
         {
          "location": "((0, 0), 'right')",
          "q_value": 6.293288603508658,
          "run": 60
         },
         {
          "location": "((0, 0), 'right')",
          "q_value": 6.354892054069753,
          "run": 61
         },
         {
          "location": "((0, 0), 'right')",
          "q_value": 6.4130121481079865,
          "run": 62
         },
         {
          "location": "((0, 0), 'right')",
          "q_value": 6.467826327367176,
          "run": 63
         },
         {
          "location": "((0, 0), 'right')",
          "q_value": 6.519503315622388,
          "run": 64
         },
         {
          "location": "((0, 0), 'right')",
          "q_value": 6.5682037324438465,
          "run": 65
         },
         {
          "location": "((0, 0), 'right')",
          "q_value": 6.614080623102076,
          "run": 66
         },
         {
          "location": "((0, 0), 'right')",
          "q_value": 6.657279918459659,
          "run": 67
         },
         {
          "location": "((0, 0), 'right')",
          "q_value": 6.697940836605092,
          "run": 68
         },
         {
          "location": "((0, 0), 'right')",
          "q_value": 6.736196236173631,
          "run": 69
         },
         {
          "location": "((0, 0), 'right')",
          "q_value": 6.772172929735422,
          "run": 70
         },
         {
          "location": "((0, 0), 'right')",
          "q_value": 6.805991964282736,
          "run": 71
         },
         {
          "location": "((0, 0), 'right')",
          "q_value": 6.837768874689407,
          "run": 72
         },
         {
          "location": "((0, 0), 'right')",
          "q_value": 6.867613915022738,
          "run": 73
         },
         {
          "location": "((0, 0), 'right')",
          "q_value": 6.895632271740388,
          "run": 74
         },
         {
          "location": "((0, 0), 'right')",
          "q_value": 6.921890831162161,
          "run": 75
         },
         {
          "location": "((0, 0), 'right')",
          "q_value": 6.946494800101192,
          "run": 76
         },
         {
          "location": "((0, 0), 'right')",
          "q_value": 6.969543055664744,
          "run": 77
         },
         {
          "location": "((0, 0), 'right')",
          "q_value": 6.991128602081277,
          "run": 78
         },
         {
          "location": "((0, 0), 'right')",
          "q_value": 6.991128602081277,
          "run": 79
         },
         {
          "location": "((0, 0), 'right')",
          "q_value": 7.011338979731524,
          "run": 80
         },
         {
          "location": "((0, 0), 'right')",
          "q_value": 7.047322874981716,
          "run": 81
         },
         {
          "location": "((0, 0), 'right')",
          "q_value": 7.063357359701983,
          "run": 82
         },
         {
          "location": "((0, 0), 'right')",
          "q_value": 7.078430668909792,
          "run": 83
         },
         {
          "location": "((0, 0), 'right')",
          "q_value": 7.092590831571785,
          "run": 84
         },
         {
          "location": "((0, 0), 'right')",
          "q_value": 7.105884465372317,
          "run": 85
         },
         {
          "location": "((0, 0), 'right')",
          "q_value": 7.1183567007419475,
          "run": 86
         },
         {
          "location": "((0, 0), 'right')",
          "q_value": 7.130051123953161,
          "run": 87
         },
         {
          "location": "((0, 0), 'right')",
          "q_value": 7.141009737056944,
          "run": 88
         },
         {
          "location": "((0, 0), 'right')",
          "q_value": 7.1512729326253766,
          "run": 89
         },
         {
          "location": "((0, 0), 'right')",
          "q_value": 7.1608794814452335,
          "run": 90
         },
         {
          "location": "((0, 0), 'right')",
          "q_value": 7.1608794814452335,
          "run": 91
         },
         {
          "location": "((0, 0), 'right')",
          "q_value": 7.169866531475891,
          "run": 92
         },
         {
          "location": "((0, 0), 'right')",
          "q_value": 7.178276630782834,
          "run": 93
         },
         {
          "location": "((0, 0), 'right')",
          "q_value": 7.186141688004681,
          "run": 94
         },
         {
          "location": "((0, 0), 'right')",
          "q_value": 7.193492429219756,
          "run": 95
         },
         {
          "location": "((0, 0), 'right')",
          "q_value": 7.200358365549786,
          "run": 96
         },
         {
          "location": "((0, 0), 'right')",
          "q_value": 7.206767774736246,
          "run": 97
         },
         {
          "location": "((0, 0), 'right')",
          "q_value": 7.212747694583465,
          "run": 98
         },
         {
          "location": "((0, 0), 'right')",
          "q_value": 7.21832392641441,
          "run": 99
         },
         {
          "location": "((0, 0), 'right')",
          "q_value": 7.223521046909918,
          "run": 100
         },
         {
          "location": "((0, 0), 'up')",
          "q_value": 0,
          "run": 0
         },
         {
          "location": "((0, 0), 'up')",
          "q_value": -0.1,
          "run": 1
         },
         {
          "location": "((0, 0), 'up')",
          "q_value": -0.1,
          "run": 2
         },
         {
          "location": "((0, 0), 'up')",
          "q_value": -0.1,
          "run": 3
         },
         {
          "location": "((0, 0), 'up')",
          "q_value": -0.1,
          "run": 4
         },
         {
          "location": "((0, 0), 'up')",
          "q_value": -0.1,
          "run": 5
         },
         {
          "location": "((0, 0), 'up')",
          "q_value": -0.1,
          "run": 6
         },
         {
          "location": "((0, 0), 'up')",
          "q_value": -0.1,
          "run": 7
         },
         {
          "location": "((0, 0), 'up')",
          "q_value": -0.1,
          "run": 8
         },
         {
          "location": "((0, 0), 'up')",
          "q_value": -0.1,
          "run": 9
         },
         {
          "location": "((0, 0), 'up')",
          "q_value": -0.1,
          "run": 10
         },
         {
          "location": "((0, 0), 'up')",
          "q_value": -0.1,
          "run": 11
         },
         {
          "location": "((0, 0), 'up')",
          "q_value": -0.1,
          "run": 12
         },
         {
          "location": "((0, 0), 'up')",
          "q_value": -0.1,
          "run": 13
         },
         {
          "location": "((0, 0), 'up')",
          "q_value": -0.1,
          "run": 14
         },
         {
          "location": "((0, 0), 'up')",
          "q_value": -0.1,
          "run": 15
         },
         {
          "location": "((0, 0), 'up')",
          "q_value": -0.1,
          "run": 16
         },
         {
          "location": "((0, 0), 'up')",
          "q_value": -0.1,
          "run": 17
         },
         {
          "location": "((0, 0), 'up')",
          "q_value": -0.1,
          "run": 18
         },
         {
          "location": "((0, 0), 'up')",
          "q_value": -0.1,
          "run": 19
         },
         {
          "location": "((0, 0), 'up')",
          "q_value": -0.1,
          "run": 20
         },
         {
          "location": "((0, 0), 'up')",
          "q_value": -0.1,
          "run": 21
         },
         {
          "location": "((0, 0), 'up')",
          "q_value": -0.1,
          "run": 22
         },
         {
          "location": "((0, 0), 'up')",
          "q_value": -0.1,
          "run": 23
         },
         {
          "location": "((0, 0), 'up')",
          "q_value": -0.1,
          "run": 24
         },
         {
          "location": "((0, 0), 'up')",
          "q_value": -0.1,
          "run": 25
         },
         {
          "location": "((0, 0), 'up')",
          "q_value": -0.1,
          "run": 26
         },
         {
          "location": "((0, 0), 'up')",
          "q_value": -0.1,
          "run": 27
         },
         {
          "location": "((0, 0), 'up')",
          "q_value": -0.03341980115143714,
          "run": 28
         },
         {
          "location": "((0, 0), 'up')",
          "q_value": -0.03341980115143714,
          "run": 29
         },
         {
          "location": "((0, 0), 'up')",
          "q_value": 0.060833651508125516,
          "run": 30
         },
         {
          "location": "((0, 0), 'up')",
          "q_value": 0.060833651508125516,
          "run": 31
         },
         {
          "location": "((0, 0), 'up')",
          "q_value": 0.060833651508125516,
          "run": 32
         },
         {
          "location": "((0, 0), 'up')",
          "q_value": 0.19874543437047132,
          "run": 33
         },
         {
          "location": "((0, 0), 'up')",
          "q_value": 0.19874543437047132,
          "run": 34
         },
         {
          "location": "((0, 0), 'up')",
          "q_value": 0.19874543437047132,
          "run": 35
         },
         {
          "location": "((0, 0), 'up')",
          "q_value": 0.19874543437047132,
          "run": 36
         },
         {
          "location": "((0, 0), 'up')",
          "q_value": 0.19874543437047132,
          "run": 37
         },
         {
          "location": "((0, 0), 'up')",
          "q_value": 0.19874543437047132,
          "run": 38
         },
         {
          "location": "((0, 0), 'up')",
          "q_value": 0.19874543437047132,
          "run": 39
         },
         {
          "location": "((0, 0), 'up')",
          "q_value": 0.19874543437047132,
          "run": 40
         },
         {
          "location": "((0, 0), 'up')",
          "q_value": 0.19874543437047132,
          "run": 41
         },
         {
          "location": "((0, 0), 'up')",
          "q_value": 0.19874543437047132,
          "run": 42
         },
         {
          "location": "((0, 0), 'up')",
          "q_value": 0.19874543437047132,
          "run": 43
         },
         {
          "location": "((0, 0), 'up')",
          "q_value": 0.19874543437047132,
          "run": 44
         },
         {
          "location": "((0, 0), 'up')",
          "q_value": 0.19874543437047132,
          "run": 45
         },
         {
          "location": "((0, 0), 'up')",
          "q_value": 0.19874543437047132,
          "run": 46
         },
         {
          "location": "((0, 0), 'up')",
          "q_value": 0.19874543437047132,
          "run": 47
         },
         {
          "location": "((0, 0), 'up')",
          "q_value": 0.19874543437047132,
          "run": 48
         },
         {
          "location": "((0, 0), 'up')",
          "q_value": 0.19874543437047132,
          "run": 49
         },
         {
          "location": "((0, 0), 'up')",
          "q_value": 0.19874543437047132,
          "run": 50
         },
         {
          "location": "((0, 0), 'up')",
          "q_value": 0.19874543437047132,
          "run": 51
         },
         {
          "location": "((0, 0), 'up')",
          "q_value": 0.19874543437047132,
          "run": 52
         },
         {
          "location": "((0, 0), 'up')",
          "q_value": 0.19874543437047132,
          "run": 53
         },
         {
          "location": "((0, 0), 'up')",
          "q_value": 0.19874543437047132,
          "run": 54
         },
         {
          "location": "((0, 0), 'up')",
          "q_value": 0.19874543437047132,
          "run": 55
         },
         {
          "location": "((0, 0), 'up')",
          "q_value": 0.19874543437047132,
          "run": 56
         },
         {
          "location": "((0, 0), 'up')",
          "q_value": 0.19874543437047132,
          "run": 57
         },
         {
          "location": "((0, 0), 'up')",
          "q_value": 0.19874543437047132,
          "run": 58
         },
         {
          "location": "((0, 0), 'up')",
          "q_value": 0.19874543437047132,
          "run": 59
         },
         {
          "location": "((0, 0), 'up')",
          "q_value": 0.19874543437047132,
          "run": 60
         },
         {
          "location": "((0, 0), 'up')",
          "q_value": 0.19874543437047132,
          "run": 61
         },
         {
          "location": "((0, 0), 'up')",
          "q_value": 0.19874543437047132,
          "run": 62
         },
         {
          "location": "((0, 0), 'up')",
          "q_value": 0.19874543437047132,
          "run": 63
         },
         {
          "location": "((0, 0), 'up')",
          "q_value": 0.19874543437047132,
          "run": 64
         },
         {
          "location": "((0, 0), 'up')",
          "q_value": 0.19874543437047132,
          "run": 65
         },
         {
          "location": "((0, 0), 'up')",
          "q_value": 0.19874543437047132,
          "run": 66
         },
         {
          "location": "((0, 0), 'up')",
          "q_value": 0.19874543437047132,
          "run": 67
         },
         {
          "location": "((0, 0), 'up')",
          "q_value": 0.19874543437047132,
          "run": 68
         },
         {
          "location": "((0, 0), 'up')",
          "q_value": 0.19874543437047132,
          "run": 69
         },
         {
          "location": "((0, 0), 'up')",
          "q_value": 0.19874543437047132,
          "run": 70
         },
         {
          "location": "((0, 0), 'up')",
          "q_value": 0.19874543437047132,
          "run": 71
         },
         {
          "location": "((0, 0), 'up')",
          "q_value": 0.19874543437047132,
          "run": 72
         },
         {
          "location": "((0, 0), 'up')",
          "q_value": 0.19874543437047132,
          "run": 73
         },
         {
          "location": "((0, 0), 'up')",
          "q_value": 0.19874543437047132,
          "run": 74
         },
         {
          "location": "((0, 0), 'up')",
          "q_value": 0.19874543437047132,
          "run": 75
         },
         {
          "location": "((0, 0), 'up')",
          "q_value": 0.19874543437047132,
          "run": 76
         },
         {
          "location": "((0, 0), 'up')",
          "q_value": 0.19874543437047132,
          "run": 77
         },
         {
          "location": "((0, 0), 'up')",
          "q_value": 0.19874543437047132,
          "run": 78
         },
         {
          "location": "((0, 0), 'up')",
          "q_value": 0.19874543437047132,
          "run": 79
         },
         {
          "location": "((0, 0), 'up')",
          "q_value": 0.19874543437047132,
          "run": 80
         },
         {
          "location": "((0, 0), 'up')",
          "q_value": 0.19874543437047132,
          "run": 81
         },
         {
          "location": "((0, 0), 'up')",
          "q_value": 0.19874543437047132,
          "run": 82
         },
         {
          "location": "((0, 0), 'up')",
          "q_value": 0.19874543437047132,
          "run": 83
         },
         {
          "location": "((0, 0), 'up')",
          "q_value": 0.19874543437047132,
          "run": 84
         },
         {
          "location": "((0, 0), 'up')",
          "q_value": 0.19874543437047132,
          "run": 85
         },
         {
          "location": "((0, 0), 'up')",
          "q_value": 0.19874543437047132,
          "run": 86
         },
         {
          "location": "((0, 0), 'up')",
          "q_value": 0.19874543437047132,
          "run": 87
         },
         {
          "location": "((0, 0), 'up')",
          "q_value": 0.19874543437047132,
          "run": 88
         },
         {
          "location": "((0, 0), 'up')",
          "q_value": 0.19874543437047132,
          "run": 89
         },
         {
          "location": "((0, 0), 'up')",
          "q_value": 0.19874543437047132,
          "run": 90
         },
         {
          "location": "((0, 0), 'up')",
          "q_value": 0.19874543437047132,
          "run": 91
         },
         {
          "location": "((0, 0), 'up')",
          "q_value": 0.19874543437047132,
          "run": 92
         },
         {
          "location": "((0, 0), 'up')",
          "q_value": 0.19874543437047132,
          "run": 93
         },
         {
          "location": "((0, 0), 'up')",
          "q_value": 0.19874543437047132,
          "run": 94
         },
         {
          "location": "((0, 0), 'up')",
          "q_value": 0.19874543437047132,
          "run": 95
         },
         {
          "location": "((0, 0), 'up')",
          "q_value": 0.19874543437047132,
          "run": 96
         },
         {
          "location": "((0, 0), 'up')",
          "q_value": 0.19874543437047132,
          "run": 97
         },
         {
          "location": "((0, 0), 'up')",
          "q_value": 0.19874543437047132,
          "run": 98
         },
         {
          "location": "((0, 0), 'up')",
          "q_value": 0.19874543437047132,
          "run": 99
         },
         {
          "location": "((0, 0), 'up')",
          "q_value": 0.19874543437047132,
          "run": 100
         },
         {
          "location": "((0, 0), 'left')",
          "q_value": 0,
          "run": 0
         },
         {
          "location": "((0, 0), 'left')",
          "q_value": -0.1,
          "run": 1
         },
         {
          "location": "((0, 0), 'left')",
          "q_value": -0.1,
          "run": 2
         },
         {
          "location": "((0, 0), 'left')",
          "q_value": -0.1,
          "run": 3
         },
         {
          "location": "((0, 0), 'left')",
          "q_value": -0.1,
          "run": 4
         },
         {
          "location": "((0, 0), 'left')",
          "q_value": -0.1,
          "run": 5
         },
         {
          "location": "((0, 0), 'left')",
          "q_value": -0.1,
          "run": 6
         },
         {
          "location": "((0, 0), 'left')",
          "q_value": -0.1,
          "run": 7
         },
         {
          "location": "((0, 0), 'left')",
          "q_value": -0.1,
          "run": 8
         },
         {
          "location": "((0, 0), 'left')",
          "q_value": -0.1,
          "run": 9
         },
         {
          "location": "((0, 0), 'left')",
          "q_value": -0.1,
          "run": 10
         },
         {
          "location": "((0, 0), 'left')",
          "q_value": -0.1,
          "run": 11
         },
         {
          "location": "((0, 0), 'left')",
          "q_value": -0.1,
          "run": 12
         },
         {
          "location": "((0, 0), 'left')",
          "q_value": -0.1,
          "run": 13
         },
         {
          "location": "((0, 0), 'left')",
          "q_value": -0.1,
          "run": 14
         },
         {
          "location": "((0, 0), 'left')",
          "q_value": -0.1,
          "run": 15
         },
         {
          "location": "((0, 0), 'left')",
          "q_value": -0.1,
          "run": 16
         },
         {
          "location": "((0, 0), 'left')",
          "q_value": -0.1,
          "run": 17
         },
         {
          "location": "((0, 0), 'left')",
          "q_value": -0.1,
          "run": 18
         },
         {
          "location": "((0, 0), 'left')",
          "q_value": -0.1,
          "run": 19
         },
         {
          "location": "((0, 0), 'left')",
          "q_value": -0.1,
          "run": 20
         },
         {
          "location": "((0, 0), 'left')",
          "q_value": -0.1,
          "run": 21
         },
         {
          "location": "((0, 0), 'left')",
          "q_value": -0.1,
          "run": 22
         },
         {
          "location": "((0, 0), 'left')",
          "q_value": -0.1,
          "run": 23
         },
         {
          "location": "((0, 0), 'left')",
          "q_value": -0.1,
          "run": 24
         },
         {
          "location": "((0, 0), 'left')",
          "q_value": -0.1,
          "run": 25
         },
         {
          "location": "((0, 0), 'left')",
          "q_value": -0.1,
          "run": 26
         },
         {
          "location": "((0, 0), 'left')",
          "q_value": -0.1,
          "run": 27
         },
         {
          "location": "((0, 0), 'left')",
          "q_value": -0.1,
          "run": 28
         },
         {
          "location": "((0, 0), 'left')",
          "q_value": -0.1,
          "run": 29
         },
         {
          "location": "((0, 0), 'left')",
          "q_value": -0.1,
          "run": 30
         },
         {
          "location": "((0, 0), 'left')",
          "q_value": -0.1,
          "run": 31
         },
         {
          "location": "((0, 0), 'left')",
          "q_value": -0.1,
          "run": 32
         },
         {
          "location": "((0, 0), 'left')",
          "q_value": -0.1,
          "run": 33
         },
         {
          "location": "((0, 0), 'left')",
          "q_value": -0.1,
          "run": 34
         },
         {
          "location": "((0, 0), 'left')",
          "q_value": -0.1,
          "run": 35
         },
         {
          "location": "((0, 0), 'left')",
          "q_value": -0.1,
          "run": 36
         },
         {
          "location": "((0, 0), 'left')",
          "q_value": -0.1,
          "run": 37
         },
         {
          "location": "((0, 0), 'left')",
          "q_value": -0.1,
          "run": 38
         },
         {
          "location": "((0, 0), 'left')",
          "q_value": -0.1,
          "run": 39
         },
         {
          "location": "((0, 0), 'left')",
          "q_value": -0.1,
          "run": 40
         },
         {
          "location": "((0, 0), 'left')",
          "q_value": -0.1,
          "run": 41
         },
         {
          "location": "((0, 0), 'left')",
          "q_value": -0.1,
          "run": 42
         },
         {
          "location": "((0, 0), 'left')",
          "q_value": -0.1,
          "run": 43
         },
         {
          "location": "((0, 0), 'left')",
          "q_value": -0.1,
          "run": 44
         },
         {
          "location": "((0, 0), 'left')",
          "q_value": -0.1,
          "run": 45
         },
         {
          "location": "((0, 0), 'left')",
          "q_value": -0.1,
          "run": 46
         },
         {
          "location": "((0, 0), 'left')",
          "q_value": -0.1,
          "run": 47
         },
         {
          "location": "((0, 0), 'left')",
          "q_value": 0.27147149002142745,
          "run": 48
         },
         {
          "location": "((0, 0), 'left')",
          "q_value": 0.27147149002142745,
          "run": 49
         },
         {
          "location": "((0, 0), 'left')",
          "q_value": 0.27147149002142745,
          "run": 50
         },
         {
          "location": "((0, 0), 'left')",
          "q_value": 0.27147149002142745,
          "run": 51
         },
         {
          "location": "((0, 0), 'left')",
          "q_value": 0.27147149002142745,
          "run": 52
         },
         {
          "location": "((0, 0), 'left')",
          "q_value": 0.27147149002142745,
          "run": 53
         },
         {
          "location": "((0, 0), 'left')",
          "q_value": 0.27147149002142745,
          "run": 54
         },
         {
          "location": "((0, 0), 'left')",
          "q_value": 0.27147149002142745,
          "run": 55
         },
         {
          "location": "((0, 0), 'left')",
          "q_value": 0.6776732957875122,
          "run": 56
         },
         {
          "location": "((0, 0), 'left')",
          "q_value": 0.6776732957875122,
          "run": 57
         },
         {
          "location": "((0, 0), 'left')",
          "q_value": 0.6776732957875122,
          "run": 58
         },
         {
          "location": "((0, 0), 'left')",
          "q_value": 0.6776732957875122,
          "run": 59
         },
         {
          "location": "((0, 0), 'left')",
          "q_value": 0.6776732957875122,
          "run": 60
         },
         {
          "location": "((0, 0), 'left')",
          "q_value": 0.6776732957875122,
          "run": 61
         },
         {
          "location": "((0, 0), 'left')",
          "q_value": 0.6776732957875122,
          "run": 62
         },
         {
          "location": "((0, 0), 'left')",
          "q_value": 0.6776732957875122,
          "run": 63
         },
         {
          "location": "((0, 0), 'left')",
          "q_value": 0.6776732957875122,
          "run": 64
         },
         {
          "location": "((0, 0), 'left')",
          "q_value": 0.6776732957875122,
          "run": 65
         },
         {
          "location": "((0, 0), 'left')",
          "q_value": 0.6776732957875122,
          "run": 66
         },
         {
          "location": "((0, 0), 'left')",
          "q_value": 0.6776732957875122,
          "run": 67
         },
         {
          "location": "((0, 0), 'left')",
          "q_value": 0.6776732957875122,
          "run": 68
         },
         {
          "location": "((0, 0), 'left')",
          "q_value": 0.6776732957875122,
          "run": 69
         },
         {
          "location": "((0, 0), 'left')",
          "q_value": 1.1161636274643878,
          "run": 70
         },
         {
          "location": "((0, 0), 'left')",
          "q_value": 1.1161636274643878,
          "run": 71
         },
         {
          "location": "((0, 0), 'left')",
          "q_value": 1.1161636274643878,
          "run": 72
         },
         {
          "location": "((0, 0), 'left')",
          "q_value": 1.1161636274643878,
          "run": 73
         },
         {
          "location": "((0, 0), 'left')",
          "q_value": 1.1161636274643878,
          "run": 74
         },
         {
          "location": "((0, 0), 'left')",
          "q_value": 1.1161636274643878,
          "run": 75
         },
         {
          "location": "((0, 0), 'left')",
          "q_value": 1.1161636274643878,
          "run": 76
         },
         {
          "location": "((0, 0), 'left')",
          "q_value": 1.1161636274643878,
          "run": 77
         },
         {
          "location": "((0, 0), 'left')",
          "q_value": 1.1161636274643878,
          "run": 78
         },
         {
          "location": "((0, 0), 'left')",
          "q_value": 1.1161636274643878,
          "run": 79
         },
         {
          "location": "((0, 0), 'left')",
          "q_value": 1.533748838905264,
          "run": 80
         },
         {
          "location": "((0, 0), 'left')",
          "q_value": 1.533748838905264,
          "run": 81
         },
         {
          "location": "((0, 0), 'left')",
          "q_value": 1.533748838905264,
          "run": 82
         },
         {
          "location": "((0, 0), 'left')",
          "q_value": 1.533748838905264,
          "run": 83
         },
         {
          "location": "((0, 0), 'left')",
          "q_value": 1.533748838905264,
          "run": 84
         },
         {
          "location": "((0, 0), 'left')",
          "q_value": 1.533748838905264,
          "run": 85
         },
         {
          "location": "((0, 0), 'left')",
          "q_value": 1.533748838905264,
          "run": 86
         },
         {
          "location": "((0, 0), 'left')",
          "q_value": 1.533748838905264,
          "run": 87
         },
         {
          "location": "((0, 0), 'left')",
          "q_value": 1.533748838905264,
          "run": 88
         },
         {
          "location": "((0, 0), 'left')",
          "q_value": 1.533748838905264,
          "run": 89
         },
         {
          "location": "((0, 0), 'left')",
          "q_value": 1.533748838905264,
          "run": 90
         },
         {
          "location": "((0, 0), 'left')",
          "q_value": 1.533748838905264,
          "run": 91
         },
         {
          "location": "((0, 0), 'left')",
          "q_value": 1.533748838905264,
          "run": 92
         },
         {
          "location": "((0, 0), 'left')",
          "q_value": 1.533748838905264,
          "run": 93
         },
         {
          "location": "((0, 0), 'left')",
          "q_value": 1.533748838905264,
          "run": 94
         },
         {
          "location": "((0, 0), 'left')",
          "q_value": 1.533748838905264,
          "run": 95
         },
         {
          "location": "((0, 0), 'left')",
          "q_value": 1.533748838905264,
          "run": 96
         },
         {
          "location": "((0, 0), 'left')",
          "q_value": 1.533748838905264,
          "run": 97
         },
         {
          "location": "((0, 0), 'left')",
          "q_value": 1.533748838905264,
          "run": 98
         },
         {
          "location": "((0, 0), 'left')",
          "q_value": 1.533748838905264,
          "run": 99
         },
         {
          "location": "((0, 0), 'left')",
          "q_value": 1.533748838905264,
          "run": 100
         },
         {
          "location": "((0, 1), 'down')",
          "q_value": 0,
          "run": 0
         },
         {
          "location": "((0, 1), 'down')",
          "q_value": 0,
          "run": 1
         },
         {
          "location": "((0, 1), 'down')",
          "q_value": 0,
          "run": 2
         },
         {
          "location": "((0, 1), 'down')",
          "q_value": 0,
          "run": 3
         },
         {
          "location": "((0, 1), 'down')",
          "q_value": 0,
          "run": 4
         },
         {
          "location": "((0, 1), 'down')",
          "q_value": 0,
          "run": 5
         },
         {
          "location": "((0, 1), 'down')",
          "q_value": 0.022680000000000002,
          "run": 6
         },
         {
          "location": "((0, 1), 'down')",
          "q_value": 0.022680000000000002,
          "run": 7
         },
         {
          "location": "((0, 1), 'down')",
          "q_value": 0.06277500000000001,
          "run": 8
         },
         {
          "location": "((0, 1), 'down')",
          "q_value": 0.12779451000000003,
          "run": 9
         },
         {
          "location": "((0, 1), 'down')",
          "q_value": 0.21713564700000004,
          "run": 10
         },
         {
          "location": "((0, 1), 'down')",
          "q_value": 0.3295885626000001,
          "run": 11
         },
         {
          "location": "((0, 1), 'down')",
          "q_value": 0.4635116946000001,
          "run": 12
         },
         {
          "location": "((0, 1), 'down')",
          "q_value": 0.6169732549650001,
          "run": 13
         },
         {
          "location": "((0, 1), 'down')",
          "q_value": 0.7878644326629002,
          "run": 14
         },
         {
          "location": "((0, 1), 'down')",
          "q_value": 0.9739889839882803,
          "run": 15
         },
         {
          "location": "((0, 1), 'down')",
          "q_value": 1.1731331882669942,
          "run": 16
         },
         {
          "location": "((0, 1), 'down')",
          "q_value": 1.3831195486406178,
          "run": 17
         },
         {
          "location": "((0, 1), 'down')",
          "q_value": 1.6018471031683283,
          "run": 18
         },
         {
          "location": "((0, 1), 'down')",
          "q_value": 1.827320769604424,
          "run": 19
         },
         {
          "location": "((0, 1), 'down')",
          "q_value": 2.057671768191917,
          "run": 20
         },
         {
          "location": "((0, 1), 'down')",
          "q_value": 2.2911708421891377,
          "run": 21
         },
         {
          "location": "((0, 1), 'down')",
          "q_value": 2.526235718245938,
          "run": 22
         },
         {
          "location": "((0, 1), 'down')",
          "q_value": 2.761434011756336,
          "run": 23
         },
         {
          "location": "((0, 1), 'down')",
          "q_value": 3.2272441570063606,
          "run": 24
         },
         {
          "location": "((0, 1), 'down')",
          "q_value": 3.6596680020540977,
          "run": 25
         },
         {
          "location": "((0, 1), 'down')",
          "q_value": 3.8620088793257645,
          "run": 26
         },
         {
          "location": "((0, 1), 'down')",
          "q_value": 4.061105921245638,
          "run": 27
         },
         {
          "location": "((0, 1), 'down')",
          "q_value": 4.256302384099053,
          "run": 28
         },
         {
          "location": "((0, 1), 'down')",
          "q_value": 4.447033521469025,
          "run": 29
         },
         {
          "location": "((0, 1), 'down')",
          "q_value": 4.824194460162853,
          "run": 30
         },
         {
          "location": "((0, 1), 'down')",
          "q_value": 4.996953083868084,
          "run": 31
         },
         {
          "location": "((0, 1), 'down')",
          "q_value": 5.313732177084649,
          "run": 32
         },
         {
          "location": "((0, 1), 'down')",
          "q_value": 5.4593227873610735,
          "run": 33
         },
         {
          "location": "((0, 1), 'down')",
          "q_value": 5.600224269991074,
          "run": 34
         },
         {
          "location": "((0, 1), 'down')",
          "q_value": 5.7362619127832,
          "run": 35
         },
         {
          "location": "((0, 1), 'down')",
          "q_value": 5.867308500422554,
          "run": 36
         },
         {
          "location": "((0, 1), 'down')",
          "q_value": 5.9932799959012115,
          "run": 37
         },
         {
          "location": "((0, 1), 'down')",
          "q_value": 6.114131267325418,
          "run": 38
         },
         {
          "location": "((0, 1), 'down')",
          "q_value": 6.229851928546727,
          "run": 39
         },
         {
          "location": "((0, 1), 'down')",
          "q_value": 6.3404623444873796,
          "run": 40
         },
         {
          "location": "((0, 1), 'down')",
          "q_value": 6.446009837627608,
          "run": 41
         },
         {
          "location": "((0, 1), 'down')",
          "q_value": 6.546565120400774,
          "run": 42
         },
         {
          "location": "((0, 1), 'down')",
          "q_value": 6.642218968778302,
          "run": 43
         },
         {
          "location": "((0, 1), 'down')",
          "q_value": 6.73307914475806,
          "run": 44
         },
         {
          "location": "((0, 1), 'down')",
          "q_value": 6.819267569487653,
          "run": 45
         },
         {
          "location": "((0, 1), 'down')",
          "q_value": 6.900917744093959,
          "run": 46
         },
         {
          "location": "((0, 1), 'down')",
          "q_value": 6.978172411727318,
          "run": 47
         },
         {
          "location": "((0, 1), 'down')",
          "q_value": 7.051181451671938,
          "run": 48
         },
         {
          "location": "((0, 1), 'down')",
          "q_value": 7.120099994461346,
          "run": 49
         },
         {
          "location": "((0, 1), 'down')",
          "q_value": 7.185086745632039,
          "run": 50
         },
         {
          "location": "((0, 1), 'down')",
          "q_value": 7.2463025049342775,
          "run": 51
         },
         {
          "location": "((0, 1), 'down')",
          "q_value": 7.3039088673990165,
          "run": 52
         },
         {
          "location": "((0, 1), 'down')",
          "q_value": 7.406809495191216,
          "run": 53
         },
         {
          "location": "((0, 1), 'down')",
          "q_value": 7.452805290584624,
          "run": 54
         },
         {
          "location": "((0, 1), 'down')",
          "q_value": 7.496158121734823,
          "run": 55
         },
         {
          "location": "((0, 1), 'down')",
          "q_value": 7.536974194557785,
          "run": 56
         },
         {
          "location": "((0, 1), 'down')",
          "q_value": 7.575361146326589,
          "run": 57
         },
         {
          "location": "((0, 1), 'down')",
          "q_value": 7.611427073051059,
          "run": 58
         },
         {
          "location": "((0, 1), 'down')",
          "q_value": 7.645279699496873,
          "run": 59
         },
         {
          "location": "((0, 1), 'down')",
          "q_value": 7.677025676799568,
          "run": 60
         },
         {
          "location": "((0, 1), 'down')",
          "q_value": 7.706769993835653,
          "run": 61
         },
         {
          "location": "((0, 1), 'down')",
          "q_value": 7.734615489666535,
          "run": 62
         },
         {
          "location": "((0, 1), 'down')",
          "q_value": 7.760662455465891,
          "run": 63
         },
         {
          "location": "((0, 1), 'down')",
          "q_value": 7.785008315374418,
          "run": 64
         },
         {
          "location": "((0, 1), 'down')",
          "q_value": 7.807747376695716,
          "run": 65
         },
         {
          "location": "((0, 1), 'down')",
          "q_value": 7.828970640753234,
          "run": 66
         },
         {
          "location": "((0, 1), 'down')",
          "q_value": 7.84876566657109,
          "run": 67
         },
         {
          "location": "((0, 1), 'down')",
          "q_value": 7.867216480322764,
          "run": 68
         },
         {
          "location": "((0, 1), 'down')",
          "q_value": 7.88440352421282,
          "run": 69
         },
         {
          "location": "((0, 1), 'down')",
          "q_value": 7.900403639120623,
          "run": 70
         },
         {
          "location": "((0, 1), 'down')",
          "q_value": 7.915290075943824,
          "run": 71
         },
         {
          "location": "((0, 1), 'down')",
          "q_value": 7.929132531136357,
          "run": 72
         },
         {
          "location": "((0, 1), 'down')",
          "q_value": 7.941997202443606,
          "run": 73
         },
         {
          "location": "((0, 1), 'down')",
          "q_value": 7.953575406620129,
          "run": 74
         },
         {
          "location": "((0, 1), 'down')",
          "q_value": 7.964367245058307,
          "run": 75
         },
         {
          "location": "((0, 1), 'down')",
          "q_value": 7.974419284151902,
          "run": 76
         },
         {
          "location": "((0, 1), 'down')",
          "q_value": 7.983776133144525,
          "run": 77
         },
         {
          "location": "((0, 1), 'down')",
          "q_value": 7.992480420648601,
          "run": 78
         },
         {
          "location": "((0, 1), 'down')",
          "q_value": 7.992480420648601,
          "run": 79
         },
         {
          "location": "((0, 1), 'down')",
          "q_value": 8.000808780112173,
          "run": 80
         },
         {
          "location": "((0, 1), 'down')",
          "q_value": 8.008519691315986,
          "run": 81
         },
         {
          "location": "((0, 1), 'down')",
          "q_value": 8.01565605753341,
          "run": 82
         },
         {
          "location": "((0, 1), 'down')",
          "q_value": 8.022258106144138,
          "run": 83
         },
         {
          "location": "((0, 1), 'down')",
          "q_value": 8.028363521752338,
          "run": 84
         },
         {
          "location": "((0, 1), 'down')",
          "q_value": 8.034007576742914,
          "run": 85
         },
         {
          "location": "((0, 1), 'down')",
          "q_value": 8.039223258726762,
          "run": 86
         },
         {
          "location": "((0, 1), 'down')",
          "q_value": 8.044041394434434,
          "run": 87
         },
         {
          "location": "((0, 1), 'down')",
          "q_value": 8.04849076971252,
          "run": 88
         },
         {
          "location": "((0, 1), 'down')",
          "q_value": 8.052598245359942,
          "run": 89
         },
         {
          "location": "((0, 1), 'down')",
          "q_value": 8.056388868613121,
          "run": 90
         },
         {
          "location": "((0, 1), 'down')",
          "q_value": 8.056388868613121,
          "run": 91
         },
         {
          "location": "((0, 1), 'down')",
          "q_value": 8.059963916161474,
          "run": 92
         },
         {
          "location": "((0, 1), 'down')",
          "q_value": 8.06325244777922,
          "run": 93
         },
         {
          "location": "((0, 1), 'down')",
          "q_value": 8.066276777950478,
          "run": 94
         },
         {
          "location": "((0, 1), 'down')",
          "q_value": 8.0690575472445,
          "run": 95
         },
         {
          "location": "((0, 1), 'down')",
          "q_value": 8.07161384157154,
          "run": 96
         },
         {
          "location": "((0, 1), 'down')",
          "q_value": 8.073963303564923,
          "run": 97
         },
         {
          "location": "((0, 1), 'down')",
          "q_value": 8.07612223654769,
          "run": 98
         },
         {
          "location": "((0, 1), 'down')",
          "q_value": 8.07810570152165,
          "run": 99
         },
         {
          "location": "((0, 1), 'down')",
          "q_value": 8.0799276075964,
          "run": 100
         },
         {
          "location": "((0, 1), 'right')",
          "q_value": 0,
          "run": 0
         },
         {
          "location": "((0, 1), 'right')",
          "q_value": 0,
          "run": 1
         },
         {
          "location": "((0, 1), 'right')",
          "q_value": 0,
          "run": 2
         },
         {
          "location": "((0, 1), 'right')",
          "q_value": 0,
          "run": 3
         },
         {
          "location": "((0, 1), 'right')",
          "q_value": 0,
          "run": 4
         },
         {
          "location": "((0, 1), 'right')",
          "q_value": 0,
          "run": 5
         },
         {
          "location": "((0, 1), 'right')",
          "q_value": 0,
          "run": 6
         },
         {
          "location": "((0, 1), 'right')",
          "q_value": 0,
          "run": 7
         },
         {
          "location": "((0, 1), 'right')",
          "q_value": 0,
          "run": 8
         },
         {
          "location": "((0, 1), 'right')",
          "q_value": 0,
          "run": 9
         },
         {
          "location": "((0, 1), 'right')",
          "q_value": 0,
          "run": 10
         },
         {
          "location": "((0, 1), 'right')",
          "q_value": 0,
          "run": 11
         },
         {
          "location": "((0, 1), 'right')",
          "q_value": 0,
          "run": 12
         },
         {
          "location": "((0, 1), 'right')",
          "q_value": 0,
          "run": 13
         },
         {
          "location": "((0, 1), 'right')",
          "q_value": 0,
          "run": 14
         },
         {
          "location": "((0, 1), 'right')",
          "q_value": 0,
          "run": 15
         },
         {
          "location": "((0, 1), 'right')",
          "q_value": 0,
          "run": 16
         },
         {
          "location": "((0, 1), 'right')",
          "q_value": 0,
          "run": 17
         },
         {
          "location": "((0, 1), 'right')",
          "q_value": 0,
          "run": 18
         },
         {
          "location": "((0, 1), 'right')",
          "q_value": 0,
          "run": 19
         },
         {
          "location": "((0, 1), 'right')",
          "q_value": 0,
          "run": 20
         },
         {
          "location": "((0, 1), 'right')",
          "q_value": 0,
          "run": 21
         },
         {
          "location": "((0, 1), 'right')",
          "q_value": 0,
          "run": 22
         },
         {
          "location": "((0, 1), 'right')",
          "q_value": 0,
          "run": 23
         },
         {
          "location": "((0, 1), 'right')",
          "q_value": 0,
          "run": 24
         },
         {
          "location": "((0, 1), 'right')",
          "q_value": 0,
          "run": 25
         },
         {
          "location": "((0, 1), 'right')",
          "q_value": 0,
          "run": 26
         },
         {
          "location": "((0, 1), 'right')",
          "q_value": 0,
          "run": 27
         },
         {
          "location": "((0, 1), 'right')",
          "q_value": 0,
          "run": 28
         },
         {
          "location": "((0, 1), 'right')",
          "q_value": 0,
          "run": 29
         },
         {
          "location": "((0, 1), 'right')",
          "q_value": 0.024263408900918906,
          "run": 30
         },
         {
          "location": "((0, 1), 'right')",
          "q_value": 0.024263408900918906,
          "run": 31
         },
         {
          "location": "((0, 1), 'right')",
          "q_value": 0.024263408900918906,
          "run": 32
         },
         {
          "location": "((0, 1), 'right')",
          "q_value": 0.024263408900918906,
          "run": 33
         },
         {
          "location": "((0, 1), 'right')",
          "q_value": 0.024263408900918906,
          "run": 34
         },
         {
          "location": "((0, 1), 'right')",
          "q_value": 0.024263408900918906,
          "run": 35
         },
         {
          "location": "((0, 1), 'right')",
          "q_value": 0.024263408900918906,
          "run": 36
         },
         {
          "location": "((0, 1), 'right')",
          "q_value": 0.024263408900918906,
          "run": 37
         },
         {
          "location": "((0, 1), 'right')",
          "q_value": 0.024263408900918906,
          "run": 38
         },
         {
          "location": "((0, 1), 'right')",
          "q_value": 0.024263408900918906,
          "run": 39
         },
         {
          "location": "((0, 1), 'right')",
          "q_value": 0.024263408900918906,
          "run": 40
         },
         {
          "location": "((0, 1), 'right')",
          "q_value": 0.024263408900918906,
          "run": 41
         },
         {
          "location": "((0, 1), 'right')",
          "q_value": 0.024263408900918906,
          "run": 42
         },
         {
          "location": "((0, 1), 'right')",
          "q_value": 0.024263408900918906,
          "run": 43
         },
         {
          "location": "((0, 1), 'right')",
          "q_value": 0.024263408900918906,
          "run": 44
         },
         {
          "location": "((0, 1), 'right')",
          "q_value": 0.024263408900918906,
          "run": 45
         },
         {
          "location": "((0, 1), 'right')",
          "q_value": 0.024263408900918906,
          "run": 46
         },
         {
          "location": "((0, 1), 'right')",
          "q_value": 0.024263408900918906,
          "run": 47
         },
         {
          "location": "((0, 1), 'right')",
          "q_value": 0.024263408900918906,
          "run": 48
         },
         {
          "location": "((0, 1), 'right')",
          "q_value": 0.024263408900918906,
          "run": 49
         },
         {
          "location": "((0, 1), 'right')",
          "q_value": 0.024263408900918906,
          "run": 50
         },
         {
          "location": "((0, 1), 'right')",
          "q_value": 0.024263408900918906,
          "run": 51
         },
         {
          "location": "((0, 1), 'right')",
          "q_value": 0.024263408900918906,
          "run": 52
         },
         {
          "location": "((0, 1), 'right')",
          "q_value": 0.024263408900918906,
          "run": 53
         },
         {
          "location": "((0, 1), 'right')",
          "q_value": 0.024263408900918906,
          "run": 54
         },
         {
          "location": "((0, 1), 'right')",
          "q_value": 0.024263408900918906,
          "run": 55
         },
         {
          "location": "((0, 1), 'right')",
          "q_value": 0.024263408900918906,
          "run": 56
         },
         {
          "location": "((0, 1), 'right')",
          "q_value": 0.024263408900918906,
          "run": 57
         },
         {
          "location": "((0, 1), 'right')",
          "q_value": 0.024263408900918906,
          "run": 58
         },
         {
          "location": "((0, 1), 'right')",
          "q_value": 0.024263408900918906,
          "run": 59
         },
         {
          "location": "((0, 1), 'right')",
          "q_value": 0.024263408900918906,
          "run": 60
         },
         {
          "location": "((0, 1), 'right')",
          "q_value": 0.024263408900918906,
          "run": 61
         },
         {
          "location": "((0, 1), 'right')",
          "q_value": 0.024263408900918906,
          "run": 62
         },
         {
          "location": "((0, 1), 'right')",
          "q_value": 0.024263408900918906,
          "run": 63
         },
         {
          "location": "((0, 1), 'right')",
          "q_value": 0.024263408900918906,
          "run": 64
         },
         {
          "location": "((0, 1), 'right')",
          "q_value": 0.024263408900918906,
          "run": 65
         },
         {
          "location": "((0, 1), 'right')",
          "q_value": 0.024263408900918906,
          "run": 66
         },
         {
          "location": "((0, 1), 'right')",
          "q_value": 0.024263408900918906,
          "run": 67
         },
         {
          "location": "((0, 1), 'right')",
          "q_value": 0.024263408900918906,
          "run": 68
         },
         {
          "location": "((0, 1), 'right')",
          "q_value": 0.024263408900918906,
          "run": 69
         },
         {
          "location": "((0, 1), 'right')",
          "q_value": 0.024263408900918906,
          "run": 70
         },
         {
          "location": "((0, 1), 'right')",
          "q_value": 0.024263408900918906,
          "run": 71
         },
         {
          "location": "((0, 1), 'right')",
          "q_value": 0.024263408900918906,
          "run": 72
         },
         {
          "location": "((0, 1), 'right')",
          "q_value": 0.024263408900918906,
          "run": 73
         },
         {
          "location": "((0, 1), 'right')",
          "q_value": 0.024263408900918906,
          "run": 74
         },
         {
          "location": "((0, 1), 'right')",
          "q_value": 0.024263408900918906,
          "run": 75
         },
         {
          "location": "((0, 1), 'right')",
          "q_value": 0.024263408900918906,
          "run": 76
         },
         {
          "location": "((0, 1), 'right')",
          "q_value": 0.024263408900918906,
          "run": 77
         },
         {
          "location": "((0, 1), 'right')",
          "q_value": 0.024263408900918906,
          "run": 78
         },
         {
          "location": "((0, 1), 'right')",
          "q_value": 0.024263408900918906,
          "run": 79
         },
         {
          "location": "((0, 1), 'right')",
          "q_value": 0.024263408900918906,
          "run": 80
         },
         {
          "location": "((0, 1), 'right')",
          "q_value": 0.024263408900918906,
          "run": 81
         },
         {
          "location": "((0, 1), 'right')",
          "q_value": 0.024263408900918906,
          "run": 82
         },
         {
          "location": "((0, 1), 'right')",
          "q_value": 0.024263408900918906,
          "run": 83
         },
         {
          "location": "((0, 1), 'right')",
          "q_value": 0.024263408900918906,
          "run": 84
         },
         {
          "location": "((0, 1), 'right')",
          "q_value": 0.024263408900918906,
          "run": 85
         },
         {
          "location": "((0, 1), 'right')",
          "q_value": 0.024263408900918906,
          "run": 86
         },
         {
          "location": "((0, 1), 'right')",
          "q_value": 0.024263408900918906,
          "run": 87
         },
         {
          "location": "((0, 1), 'right')",
          "q_value": 0.024263408900918906,
          "run": 88
         },
         {
          "location": "((0, 1), 'right')",
          "q_value": 0.024263408900918906,
          "run": 89
         },
         {
          "location": "((0, 1), 'right')",
          "q_value": 0.024263408900918906,
          "run": 90
         },
         {
          "location": "((0, 1), 'right')",
          "q_value": 0.024263408900918906,
          "run": 91
         },
         {
          "location": "((0, 1), 'right')",
          "q_value": 0.024263408900918906,
          "run": 92
         },
         {
          "location": "((0, 1), 'right')",
          "q_value": 0.024263408900918906,
          "run": 93
         },
         {
          "location": "((0, 1), 'right')",
          "q_value": 0.024263408900918906,
          "run": 94
         },
         {
          "location": "((0, 1), 'right')",
          "q_value": 0.024263408900918906,
          "run": 95
         },
         {
          "location": "((0, 1), 'right')",
          "q_value": 0.024263408900918906,
          "run": 96
         },
         {
          "location": "((0, 1), 'right')",
          "q_value": 0.024263408900918906,
          "run": 97
         },
         {
          "location": "((0, 1), 'right')",
          "q_value": 0.024263408900918906,
          "run": 98
         },
         {
          "location": "((0, 1), 'right')",
          "q_value": 0.024263408900918906,
          "run": 99
         },
         {
          "location": "((0, 1), 'right')",
          "q_value": 0.024263408900918906,
          "run": 100
         },
         {
          "location": "((0, 1), 'up')",
          "q_value": 0,
          "run": 0
         },
         {
          "location": "((0, 1), 'up')",
          "q_value": 0,
          "run": 1
         },
         {
          "location": "((0, 1), 'up')",
          "q_value": -0.34390000000000004,
          "run": 2
         },
         {
          "location": "((0, 1), 'up')",
          "q_value": -0.34390000000000004,
          "run": 3
         },
         {
          "location": "((0, 1), 'up')",
          "q_value": -0.34390000000000004,
          "run": 4
         },
         {
          "location": "((0, 1), 'up')",
          "q_value": -0.34390000000000004,
          "run": 5
         },
         {
          "location": "((0, 1), 'up')",
          "q_value": -0.34390000000000004,
          "run": 6
         },
         {
          "location": "((0, 1), 'up')",
          "q_value": -0.34390000000000004,
          "run": 7
         },
         {
          "location": "((0, 1), 'up')",
          "q_value": -0.34390000000000004,
          "run": 8
         },
         {
          "location": "((0, 1), 'up')",
          "q_value": -0.34390000000000004,
          "run": 9
         },
         {
          "location": "((0, 1), 'up')",
          "q_value": -0.34390000000000004,
          "run": 10
         },
         {
          "location": "((0, 1), 'up')",
          "q_value": -0.34390000000000004,
          "run": 11
         },
         {
          "location": "((0, 1), 'up')",
          "q_value": -0.34390000000000004,
          "run": 12
         },
         {
          "location": "((0, 1), 'up')",
          "q_value": -0.34390000000000004,
          "run": 13
         },
         {
          "location": "((0, 1), 'up')",
          "q_value": -0.34390000000000004,
          "run": 14
         },
         {
          "location": "((0, 1), 'up')",
          "q_value": -0.34390000000000004,
          "run": 15
         },
         {
          "location": "((0, 1), 'up')",
          "q_value": -0.34390000000000004,
          "run": 16
         },
         {
          "location": "((0, 1), 'up')",
          "q_value": -0.34390000000000004,
          "run": 17
         },
         {
          "location": "((0, 1), 'up')",
          "q_value": -0.34390000000000004,
          "run": 18
         },
         {
          "location": "((0, 1), 'up')",
          "q_value": -0.34390000000000004,
          "run": 19
         },
         {
          "location": "((0, 1), 'up')",
          "q_value": -0.34390000000000004,
          "run": 20
         },
         {
          "location": "((0, 1), 'up')",
          "q_value": -0.34390000000000004,
          "run": 21
         },
         {
          "location": "((0, 1), 'up')",
          "q_value": -0.34390000000000004,
          "run": 22
         },
         {
          "location": "((0, 1), 'up')",
          "q_value": -0.34390000000000004,
          "run": 23
         },
         {
          "location": "((0, 1), 'up')",
          "q_value": -0.34390000000000004,
          "run": 24
         },
         {
          "location": "((0, 1), 'up')",
          "q_value": -0.34390000000000004,
          "run": 25
         },
         {
          "location": "((0, 1), 'up')",
          "q_value": -0.34390000000000004,
          "run": 26
         },
         {
          "location": "((0, 1), 'up')",
          "q_value": -0.34390000000000004,
          "run": 27
         },
         {
          "location": "((0, 1), 'up')",
          "q_value": -0.34390000000000004,
          "run": 28
         },
         {
          "location": "((0, 1), 'up')",
          "q_value": -0.34390000000000004,
          "run": 29
         },
         {
          "location": "((0, 1), 'up')",
          "q_value": -0.34390000000000004,
          "run": 30
         },
         {
          "location": "((0, 1), 'up')",
          "q_value": -0.34390000000000004,
          "run": 31
         },
         {
          "location": "((0, 1), 'up')",
          "q_value": -0.34390000000000004,
          "run": 32
         },
         {
          "location": "((0, 1), 'up')",
          "q_value": -0.34390000000000004,
          "run": 33
         },
         {
          "location": "((0, 1), 'up')",
          "q_value": -0.34390000000000004,
          "run": 34
         },
         {
          "location": "((0, 1), 'up')",
          "q_value": -0.34390000000000004,
          "run": 35
         },
         {
          "location": "((0, 1), 'up')",
          "q_value": -0.34390000000000004,
          "run": 36
         },
         {
          "location": "((0, 1), 'up')",
          "q_value": -0.34390000000000004,
          "run": 37
         },
         {
          "location": "((0, 1), 'up')",
          "q_value": -0.34390000000000004,
          "run": 38
         },
         {
          "location": "((0, 1), 'up')",
          "q_value": -0.34390000000000004,
          "run": 39
         },
         {
          "location": "((0, 1), 'up')",
          "q_value": -0.34390000000000004,
          "run": 40
         },
         {
          "location": "((0, 1), 'up')",
          "q_value": -0.34390000000000004,
          "run": 41
         },
         {
          "location": "((0, 1), 'up')",
          "q_value": -0.34390000000000004,
          "run": 42
         },
         {
          "location": "((0, 1), 'up')",
          "q_value": -0.34390000000000004,
          "run": 43
         },
         {
          "location": "((0, 1), 'up')",
          "q_value": -0.34390000000000004,
          "run": 44
         },
         {
          "location": "((0, 1), 'up')",
          "q_value": -0.34390000000000004,
          "run": 45
         },
         {
          "location": "((0, 1), 'up')",
          "q_value": -0.34390000000000004,
          "run": 46
         },
         {
          "location": "((0, 1), 'up')",
          "q_value": 0.21157259696845626,
          "run": 47
         },
         {
          "location": "((0, 1), 'up')",
          "q_value": 0.21157259696845626,
          "run": 48
         },
         {
          "location": "((0, 1), 'up')",
          "q_value": 0.21157259696845626,
          "run": 49
         },
         {
          "location": "((0, 1), 'up')",
          "q_value": 0.21157259696845626,
          "run": 50
         },
         {
          "location": "((0, 1), 'up')",
          "q_value": 0.21157259696845626,
          "run": 51
         },
         {
          "location": "((0, 1), 'up')",
          "q_value": 0.21157259696845626,
          "run": 52
         },
         {
          "location": "((0, 1), 'up')",
          "q_value": 0.21157259696845626,
          "run": 53
         },
         {
          "location": "((0, 1), 'up')",
          "q_value": 0.21157259696845626,
          "run": 54
         },
         {
          "location": "((0, 1), 'up')",
          "q_value": 0.7611678134242268,
          "run": 55
         },
         {
          "location": "((0, 1), 'up')",
          "q_value": 0.7611678134242268,
          "run": 56
         },
         {
          "location": "((0, 1), 'up')",
          "q_value": 0.7611678134242268,
          "run": 57
         },
         {
          "location": "((0, 1), 'up')",
          "q_value": 0.7611678134242268,
          "run": 58
         },
         {
          "location": "((0, 1), 'up')",
          "q_value": 0.7611678134242268,
          "run": 59
         },
         {
          "location": "((0, 1), 'up')",
          "q_value": 0.7611678134242268,
          "run": 60
         },
         {
          "location": "((0, 1), 'up')",
          "q_value": 0.7611678134242268,
          "run": 61
         },
         {
          "location": "((0, 1), 'up')",
          "q_value": 0.7611678134242268,
          "run": 62
         },
         {
          "location": "((0, 1), 'up')",
          "q_value": 1.2811664261517923,
          "run": 63
         },
         {
          "location": "((0, 1), 'up')",
          "q_value": 1.2811664261517923,
          "run": 64
         },
         {
          "location": "((0, 1), 'up')",
          "q_value": 1.2811664261517923,
          "run": 65
         },
         {
          "location": "((0, 1), 'up')",
          "q_value": 1.2811664261517923,
          "run": 66
         },
         {
          "location": "((0, 1), 'up')",
          "q_value": 1.2811664261517923,
          "run": 67
         },
         {
          "location": "((0, 1), 'up')",
          "q_value": 1.2811664261517923,
          "run": 68
         },
         {
          "location": "((0, 1), 'up')",
          "q_value": 1.2811664261517923,
          "run": 69
         },
         {
          "location": "((0, 1), 'up')",
          "q_value": 1.2811664261517923,
          "run": 70
         },
         {
          "location": "((0, 1), 'up')",
          "q_value": 1.2811664261517923,
          "run": 71
         },
         {
          "location": "((0, 1), 'up')",
          "q_value": 1.2811664261517923,
          "run": 72
         },
         {
          "location": "((0, 1), 'up')",
          "q_value": 1.2811664261517923,
          "run": 73
         },
         {
          "location": "((0, 1), 'up')",
          "q_value": 1.2811664261517923,
          "run": 74
         },
         {
          "location": "((0, 1), 'up')",
          "q_value": 1.2811664261517923,
          "run": 75
         },
         {
          "location": "((0, 1), 'up')",
          "q_value": 1.2811664261517923,
          "run": 76
         },
         {
          "location": "((0, 1), 'up')",
          "q_value": 1.2811664261517923,
          "run": 77
         },
         {
          "location": "((0, 1), 'up')",
          "q_value": 1.2811664261517923,
          "run": 78
         },
         {
          "location": "((0, 1), 'up')",
          "q_value": 1.2811664261517923,
          "run": 79
         },
         {
          "location": "((0, 1), 'up')",
          "q_value": 1.2811664261517923,
          "run": 80
         },
         {
          "location": "((0, 1), 'up')",
          "q_value": 1.2811664261517923,
          "run": 81
         },
         {
          "location": "((0, 1), 'up')",
          "q_value": 1.2811664261517923,
          "run": 82
         },
         {
          "location": "((0, 1), 'up')",
          "q_value": 1.2811664261517923,
          "run": 83
         },
         {
          "location": "((0, 1), 'up')",
          "q_value": 1.2811664261517923,
          "run": 84
         },
         {
          "location": "((0, 1), 'up')",
          "q_value": 1.2811664261517923,
          "run": 85
         },
         {
          "location": "((0, 1), 'up')",
          "q_value": 1.2811664261517923,
          "run": 86
         },
         {
          "location": "((0, 1), 'up')",
          "q_value": 1.2811664261517923,
          "run": 87
         },
         {
          "location": "((0, 1), 'up')",
          "q_value": 1.2811664261517923,
          "run": 88
         },
         {
          "location": "((0, 1), 'up')",
          "q_value": 1.77741395281074,
          "run": 89
         },
         {
          "location": "((0, 1), 'up')",
          "q_value": 1.77741395281074,
          "run": 90
         },
         {
          "location": "((0, 1), 'up')",
          "q_value": 1.77741395281074,
          "run": 91
         },
         {
          "location": "((0, 1), 'up')",
          "q_value": 1.77741395281074,
          "run": 92
         },
         {
          "location": "((0, 1), 'up')",
          "q_value": 1.77741395281074,
          "run": 93
         },
         {
          "location": "((0, 1), 'up')",
          "q_value": 1.77741395281074,
          "run": 94
         },
         {
          "location": "((0, 1), 'up')",
          "q_value": 1.77741395281074,
          "run": 95
         },
         {
          "location": "((0, 1), 'up')",
          "q_value": 1.77741395281074,
          "run": 96
         },
         {
          "location": "((0, 1), 'up')",
          "q_value": 1.77741395281074,
          "run": 97
         },
         {
          "location": "((0, 1), 'up')",
          "q_value": 1.77741395281074,
          "run": 98
         },
         {
          "location": "((0, 1), 'up')",
          "q_value": 1.77741395281074,
          "run": 99
         },
         {
          "location": "((0, 1), 'up')",
          "q_value": 1.77741395281074,
          "run": 100
         },
         {
          "location": "((0, 1), 'left')",
          "q_value": 0,
          "run": 0
         },
         {
          "location": "((0, 1), 'left')",
          "q_value": 0,
          "run": 1
         },
         {
          "location": "((0, 1), 'left')",
          "q_value": 0,
          "run": 2
         },
         {
          "location": "((0, 1), 'left')",
          "q_value": 0,
          "run": 3
         },
         {
          "location": "((0, 1), 'left')",
          "q_value": 0,
          "run": 4
         },
         {
          "location": "((0, 1), 'left')",
          "q_value": 0,
          "run": 5
         },
         {
          "location": "((0, 1), 'left')",
          "q_value": 0,
          "run": 6
         },
         {
          "location": "((0, 1), 'left')",
          "q_value": 0,
          "run": 7
         },
         {
          "location": "((0, 1), 'left')",
          "q_value": 0,
          "run": 8
         },
         {
          "location": "((0, 1), 'left')",
          "q_value": 0,
          "run": 9
         },
         {
          "location": "((0, 1), 'left')",
          "q_value": 0,
          "run": 10
         },
         {
          "location": "((0, 1), 'left')",
          "q_value": 0,
          "run": 11
         },
         {
          "location": "((0, 1), 'left')",
          "q_value": 0,
          "run": 12
         },
         {
          "location": "((0, 1), 'left')",
          "q_value": 0,
          "run": 13
         },
         {
          "location": "((0, 1), 'left')",
          "q_value": 0,
          "run": 14
         },
         {
          "location": "((0, 1), 'left')",
          "q_value": 0,
          "run": 15
         },
         {
          "location": "((0, 1), 'left')",
          "q_value": 0,
          "run": 16
         },
         {
          "location": "((0, 1), 'left')",
          "q_value": 0,
          "run": 17
         },
         {
          "location": "((0, 1), 'left')",
          "q_value": 0,
          "run": 18
         },
         {
          "location": "((0, 1), 'left')",
          "q_value": 0,
          "run": 19
         },
         {
          "location": "((0, 1), 'left')",
          "q_value": 0,
          "run": 20
         },
         {
          "location": "((0, 1), 'left')",
          "q_value": 0,
          "run": 21
         },
         {
          "location": "((0, 1), 'left')",
          "q_value": 0,
          "run": 22
         },
         {
          "location": "((0, 1), 'left')",
          "q_value": 0,
          "run": 23
         },
         {
          "location": "((0, 1), 'left')",
          "q_value": 0,
          "run": 24
         },
         {
          "location": "((0, 1), 'left')",
          "q_value": 0,
          "run": 25
         },
         {
          "location": "((0, 1), 'left')",
          "q_value": 0,
          "run": 26
         },
         {
          "location": "((0, 1), 'left')",
          "q_value": 0,
          "run": 27
         },
         {
          "location": "((0, 1), 'left')",
          "q_value": 0,
          "run": 28
         },
         {
          "location": "((0, 1), 'left')",
          "q_value": 0,
          "run": 29
         },
         {
          "location": "((0, 1), 'left')",
          "q_value": 0,
          "run": 30
         },
         {
          "location": "((0, 1), 'left')",
          "q_value": 0,
          "run": 31
         },
         {
          "location": "((0, 1), 'left')",
          "q_value": 0,
          "run": 32
         },
         {
          "location": "((0, 1), 'left')",
          "q_value": 0,
          "run": 33
         },
         {
          "location": "((0, 1), 'left')",
          "q_value": 0,
          "run": 34
         },
         {
          "location": "((0, 1), 'left')",
          "q_value": 0,
          "run": 35
         },
         {
          "location": "((0, 1), 'left')",
          "q_value": 0,
          "run": 36
         },
         {
          "location": "((0, 1), 'left')",
          "q_value": 0,
          "run": 37
         },
         {
          "location": "((0, 1), 'left')",
          "q_value": 0,
          "run": 38
         },
         {
          "location": "((0, 1), 'left')",
          "q_value": 0,
          "run": 39
         },
         {
          "location": "((0, 1), 'left')",
          "q_value": 0,
          "run": 40
         },
         {
          "location": "((0, 1), 'left')",
          "q_value": 0,
          "run": 41
         },
         {
          "location": "((0, 1), 'left')",
          "q_value": 0,
          "run": 42
         },
         {
          "location": "((0, 1), 'left')",
          "q_value": 0,
          "run": 43
         },
         {
          "location": "((0, 1), 'left')",
          "q_value": 0,
          "run": 44
         },
         {
          "location": "((0, 1), 'left')",
          "q_value": 0,
          "run": 45
         },
         {
          "location": "((0, 1), 'left')",
          "q_value": 0,
          "run": 46
         },
         {
          "location": "((0, 1), 'left')",
          "q_value": 0,
          "run": 47
         },
         {
          "location": "((0, 1), 'left')",
          "q_value": 0,
          "run": 48
         },
         {
          "location": "((0, 1), 'left')",
          "q_value": 0,
          "run": 49
         },
         {
          "location": "((0, 1), 'left')",
          "q_value": 0,
          "run": 50
         },
         {
          "location": "((0, 1), 'left')",
          "q_value": 0,
          "run": 51
         },
         {
          "location": "((0, 1), 'left')",
          "q_value": 0,
          "run": 52
         },
         {
          "location": "((0, 1), 'left')",
          "q_value": 0,
          "run": 53
         },
         {
          "location": "((0, 1), 'left')",
          "q_value": 0,
          "run": 54
         },
         {
          "location": "((0, 1), 'left')",
          "q_value": 0,
          "run": 55
         },
         {
          "location": "((0, 1), 'left')",
          "q_value": 0,
          "run": 56
         },
         {
          "location": "((0, 1), 'left')",
          "q_value": 0,
          "run": 57
         },
         {
          "location": "((0, 1), 'left')",
          "q_value": 0,
          "run": 58
         },
         {
          "location": "((0, 1), 'left')",
          "q_value": 0,
          "run": 59
         },
         {
          "location": "((0, 1), 'left')",
          "q_value": 0,
          "run": 60
         },
         {
          "location": "((0, 1), 'left')",
          "q_value": 0,
          "run": 61
         },
         {
          "location": "((0, 1), 'left')",
          "q_value": 0,
          "run": 62
         },
         {
          "location": "((0, 1), 'left')",
          "q_value": 0,
          "run": 63
         },
         {
          "location": "((0, 1), 'left')",
          "q_value": 0,
          "run": 64
         },
         {
          "location": "((0, 1), 'left')",
          "q_value": 0,
          "run": 65
         },
         {
          "location": "((0, 1), 'left')",
          "q_value": 0,
          "run": 66
         },
         {
          "location": "((0, 1), 'left')",
          "q_value": 0,
          "run": 67
         },
         {
          "location": "((0, 1), 'left')",
          "q_value": 0,
          "run": 68
         },
         {
          "location": "((0, 1), 'left')",
          "q_value": 0,
          "run": 69
         },
         {
          "location": "((0, 1), 'left')",
          "q_value": 0,
          "run": 70
         },
         {
          "location": "((0, 1), 'left')",
          "q_value": 0,
          "run": 71
         },
         {
          "location": "((0, 1), 'left')",
          "q_value": 0,
          "run": 72
         },
         {
          "location": "((0, 1), 'left')",
          "q_value": 0,
          "run": 73
         },
         {
          "location": "((0, 1), 'left')",
          "q_value": 0,
          "run": 74
         },
         {
          "location": "((0, 1), 'left')",
          "q_value": 0,
          "run": 75
         },
         {
          "location": "((0, 1), 'left')",
          "q_value": 0,
          "run": 76
         },
         {
          "location": "((0, 1), 'left')",
          "q_value": 0,
          "run": 77
         },
         {
          "location": "((0, 1), 'left')",
          "q_value": 0,
          "run": 78
         },
         {
          "location": "((0, 1), 'left')",
          "q_value": 0,
          "run": 79
         },
         {
          "location": "((0, 1), 'left')",
          "q_value": 0,
          "run": 80
         },
         {
          "location": "((0, 1), 'left')",
          "q_value": 0.6327250084771621,
          "run": 81
         },
         {
          "location": "((0, 1), 'left')",
          "q_value": 0.6327250084771621,
          "run": 82
         },
         {
          "location": "((0, 1), 'left')",
          "q_value": 0.6327250084771621,
          "run": 83
         },
         {
          "location": "((0, 1), 'left')",
          "q_value": 0.6327250084771621,
          "run": 84
         },
         {
          "location": "((0, 1), 'left')",
          "q_value": 0.6327250084771621,
          "run": 85
         },
         {
          "location": "((0, 1), 'left')",
          "q_value": 0.6327250084771621,
          "run": 86
         },
         {
          "location": "((0, 1), 'left')",
          "q_value": 0.6327250084771621,
          "run": 87
         },
         {
          "location": "((0, 1), 'left')",
          "q_value": 0.6327250084771621,
          "run": 88
         },
         {
          "location": "((0, 1), 'left')",
          "q_value": 0.6327250084771621,
          "run": 89
         },
         {
          "location": "((0, 1), 'left')",
          "q_value": 0.6327250084771621,
          "run": 90
         },
         {
          "location": "((0, 1), 'left')",
          "q_value": 0.6327250084771621,
          "run": 91
         },
         {
          "location": "((0, 1), 'left')",
          "q_value": 0.6327250084771621,
          "run": 92
         },
         {
          "location": "((0, 1), 'left')",
          "q_value": 0.6327250084771621,
          "run": 93
         },
         {
          "location": "((0, 1), 'left')",
          "q_value": 0.6327250084771621,
          "run": 94
         },
         {
          "location": "((0, 1), 'left')",
          "q_value": 0.6327250084771621,
          "run": 95
         },
         {
          "location": "((0, 1), 'left')",
          "q_value": 0.6327250084771621,
          "run": 96
         },
         {
          "location": "((0, 1), 'left')",
          "q_value": 0.6327250084771621,
          "run": 97
         },
         {
          "location": "((0, 1), 'left')",
          "q_value": 0.6327250084771621,
          "run": 98
         },
         {
          "location": "((0, 1), 'left')",
          "q_value": 0.6327250084771621,
          "run": 99
         },
         {
          "location": "((0, 1), 'left')",
          "q_value": 0.6327250084771621,
          "run": 100
         },
         {
          "location": "((0, 2), 'down')",
          "q_value": 0,
          "run": 0
         },
         {
          "location": "((0, 2), 'down')",
          "q_value": 0,
          "run": 1
         },
         {
          "location": "((0, 2), 'down')",
          "q_value": 0,
          "run": 2
         },
         {
          "location": "((0, 2), 'down')",
          "q_value": 0,
          "run": 3
         },
         {
          "location": "((0, 2), 'down')",
          "q_value": 0,
          "run": 4
         },
         {
          "location": "((0, 2), 'down')",
          "q_value": 0,
          "run": 5
         },
         {
          "location": "((0, 2), 'down')",
          "q_value": 0,
          "run": 6
         },
         {
          "location": "((0, 2), 'down')",
          "q_value": 0,
          "run": 7
         },
         {
          "location": "((0, 2), 'down')",
          "q_value": 0,
          "run": 8
         },
         {
          "location": "((0, 2), 'down')",
          "q_value": 0,
          "run": 9
         },
         {
          "location": "((0, 2), 'down')",
          "q_value": 0,
          "run": 10
         },
         {
          "location": "((0, 2), 'down')",
          "q_value": 0,
          "run": 11
         },
         {
          "location": "((0, 2), 'down')",
          "q_value": 0,
          "run": 12
         },
         {
          "location": "((0, 2), 'down')",
          "q_value": 0,
          "run": 13
         },
         {
          "location": "((0, 2), 'down')",
          "q_value": 0,
          "run": 14
         },
         {
          "location": "((0, 2), 'down')",
          "q_value": 0,
          "run": 15
         },
         {
          "location": "((0, 2), 'down')",
          "q_value": 0,
          "run": 16
         },
         {
          "location": "((0, 2), 'down')",
          "q_value": 0,
          "run": 17
         },
         {
          "location": "((0, 2), 'down')",
          "q_value": 0,
          "run": 18
         },
         {
          "location": "((0, 2), 'down')",
          "q_value": 0,
          "run": 19
         },
         {
          "location": "((0, 2), 'down')",
          "q_value": 0,
          "run": 20
         },
         {
          "location": "((0, 2), 'down')",
          "q_value": 0,
          "run": 21
         },
         {
          "location": "((0, 2), 'down')",
          "q_value": 0,
          "run": 22
         },
         {
          "location": "((0, 2), 'down')",
          "q_value": 0,
          "run": 23
         },
         {
          "location": "((0, 2), 'down')",
          "q_value": 0,
          "run": 24
         },
         {
          "location": "((0, 2), 'down')",
          "q_value": 0,
          "run": 25
         },
         {
          "location": "((0, 2), 'down')",
          "q_value": 0,
          "run": 26
         },
         {
          "location": "((0, 2), 'down')",
          "q_value": 0,
          "run": 27
         },
         {
          "location": "((0, 2), 'down')",
          "q_value": 0,
          "run": 28
         },
         {
          "location": "((0, 2), 'down')",
          "q_value": 0,
          "run": 29
         },
         {
          "location": "((0, 2), 'down')",
          "q_value": 0,
          "run": 30
         },
         {
          "location": "((0, 2), 'down')",
          "q_value": 0,
          "run": 31
         },
         {
          "location": "((0, 2), 'down')",
          "q_value": 0,
          "run": 32
         },
         {
          "location": "((0, 2), 'down')",
          "q_value": 0,
          "run": 33
         },
         {
          "location": "((0, 2), 'down')",
          "q_value": 0,
          "run": 34
         },
         {
          "location": "((0, 2), 'down')",
          "q_value": 0,
          "run": 35
         },
         {
          "location": "((0, 2), 'down')",
          "q_value": 0,
          "run": 36
         },
         {
          "location": "((0, 2), 'down')",
          "q_value": 0,
          "run": 37
         },
         {
          "location": "((0, 2), 'down')",
          "q_value": 0,
          "run": 38
         },
         {
          "location": "((0, 2), 'down')",
          "q_value": 0,
          "run": 39
         },
         {
          "location": "((0, 2), 'down')",
          "q_value": 0,
          "run": 40
         },
         {
          "location": "((0, 2), 'down')",
          "q_value": 0,
          "run": 41
         },
         {
          "location": "((0, 2), 'down')",
          "q_value": 0,
          "run": 42
         },
         {
          "location": "((0, 2), 'down')",
          "q_value": 0,
          "run": 43
         },
         {
          "location": "((0, 2), 'down')",
          "q_value": 0,
          "run": 44
         },
         {
          "location": "((0, 2), 'down')",
          "q_value": 0,
          "run": 45
         },
         {
          "location": "((0, 2), 'down')",
          "q_value": 0,
          "run": 46
         },
         {
          "location": "((0, 2), 'down')",
          "q_value": 0,
          "run": 47
         },
         {
          "location": "((0, 2), 'down')",
          "q_value": 0,
          "run": 48
         },
         {
          "location": "((0, 2), 'down')",
          "q_value": 0,
          "run": 49
         },
         {
          "location": "((0, 2), 'down')",
          "q_value": 0,
          "run": 50
         },
         {
          "location": "((0, 2), 'down')",
          "q_value": 0,
          "run": 51
         },
         {
          "location": "((0, 2), 'down')",
          "q_value": 0,
          "run": 52
         },
         {
          "location": "((0, 2), 'down')",
          "q_value": 0,
          "run": 53
         },
         {
          "location": "((0, 2), 'down')",
          "q_value": 0,
          "run": 54
         },
         {
          "location": "((0, 2), 'down')",
          "q_value": 0,
          "run": 55
         },
         {
          "location": "((0, 2), 'down')",
          "q_value": 0,
          "run": 56
         },
         {
          "location": "((0, 2), 'down')",
          "q_value": 0,
          "run": 57
         },
         {
          "location": "((0, 2), 'down')",
          "q_value": 0,
          "run": 58
         },
         {
          "location": "((0, 2), 'down')",
          "q_value": 0,
          "run": 59
         },
         {
          "location": "((0, 2), 'down')",
          "q_value": 0,
          "run": 60
         },
         {
          "location": "((0, 2), 'down')",
          "q_value": 0,
          "run": 61
         },
         {
          "location": "((0, 2), 'down')",
          "q_value": 0,
          "run": 62
         },
         {
          "location": "((0, 2), 'down')",
          "q_value": 0,
          "run": 63
         },
         {
          "location": "((0, 2), 'down')",
          "q_value": 0,
          "run": 64
         },
         {
          "location": "((0, 2), 'down')",
          "q_value": 0,
          "run": 65
         },
         {
          "location": "((0, 2), 'down')",
          "q_value": 0,
          "run": 66
         },
         {
          "location": "((0, 2), 'down')",
          "q_value": 0,
          "run": 67
         },
         {
          "location": "((0, 2), 'down')",
          "q_value": 0,
          "run": 68
         },
         {
          "location": "((0, 2), 'down')",
          "q_value": 0,
          "run": 69
         },
         {
          "location": "((0, 2), 'down')",
          "q_value": 0,
          "run": 70
         },
         {
          "location": "((0, 2), 'down')",
          "q_value": 0,
          "run": 71
         },
         {
          "location": "((0, 2), 'down')",
          "q_value": 0,
          "run": 72
         },
         {
          "location": "((0, 2), 'down')",
          "q_value": 0,
          "run": 73
         },
         {
          "location": "((0, 2), 'down')",
          "q_value": 0,
          "run": 74
         },
         {
          "location": "((0, 2), 'down')",
          "q_value": 0,
          "run": 75
         },
         {
          "location": "((0, 2), 'down')",
          "q_value": 0,
          "run": 76
         },
         {
          "location": "((0, 2), 'down')",
          "q_value": 0,
          "run": 77
         },
         {
          "location": "((0, 2), 'down')",
          "q_value": 0,
          "run": 78
         },
         {
          "location": "((0, 2), 'down')",
          "q_value": 0,
          "run": 79
         },
         {
          "location": "((0, 2), 'down')",
          "q_value": 0,
          "run": 80
         },
         {
          "location": "((0, 2), 'down')",
          "q_value": 0,
          "run": 81
         },
         {
          "location": "((0, 2), 'down')",
          "q_value": 0,
          "run": 82
         },
         {
          "location": "((0, 2), 'down')",
          "q_value": 0,
          "run": 83
         },
         {
          "location": "((0, 2), 'down')",
          "q_value": 0,
          "run": 84
         },
         {
          "location": "((0, 2), 'down')",
          "q_value": 0,
          "run": 85
         },
         {
          "location": "((0, 2), 'down')",
          "q_value": 0,
          "run": 86
         },
         {
          "location": "((0, 2), 'down')",
          "q_value": 0,
          "run": 87
         },
         {
          "location": "((0, 2), 'down')",
          "q_value": 0,
          "run": 88
         },
         {
          "location": "((0, 2), 'down')",
          "q_value": 0,
          "run": 89
         },
         {
          "location": "((0, 2), 'down')",
          "q_value": 0,
          "run": 90
         },
         {
          "location": "((0, 2), 'down')",
          "q_value": 0,
          "run": 91
         },
         {
          "location": "((0, 2), 'down')",
          "q_value": 0,
          "run": 92
         },
         {
          "location": "((0, 2), 'down')",
          "q_value": 0,
          "run": 93
         },
         {
          "location": "((0, 2), 'down')",
          "q_value": 0,
          "run": 94
         },
         {
          "location": "((0, 2), 'down')",
          "q_value": 0,
          "run": 95
         },
         {
          "location": "((0, 2), 'down')",
          "q_value": 0,
          "run": 96
         },
         {
          "location": "((0, 2), 'down')",
          "q_value": 0,
          "run": 97
         },
         {
          "location": "((0, 2), 'down')",
          "q_value": 0,
          "run": 98
         },
         {
          "location": "((0, 2), 'down')",
          "q_value": 0,
          "run": 99
         },
         {
          "location": "((0, 2), 'down')",
          "q_value": 0,
          "run": 100
         },
         {
          "location": "((0, 2), 'right')",
          "q_value": 0,
          "run": 0
         },
         {
          "location": "((0, 2), 'right')",
          "q_value": 0,
          "run": 1
         },
         {
          "location": "((0, 2), 'right')",
          "q_value": 0,
          "run": 2
         },
         {
          "location": "((0, 2), 'right')",
          "q_value": 0,
          "run": 3
         },
         {
          "location": "((0, 2), 'right')",
          "q_value": 0,
          "run": 4
         },
         {
          "location": "((0, 2), 'right')",
          "q_value": 0,
          "run": 5
         },
         {
          "location": "((0, 2), 'right')",
          "q_value": 0,
          "run": 6
         },
         {
          "location": "((0, 2), 'right')",
          "q_value": 0,
          "run": 7
         },
         {
          "location": "((0, 2), 'right')",
          "q_value": 0,
          "run": 8
         },
         {
          "location": "((0, 2), 'right')",
          "q_value": 0,
          "run": 9
         },
         {
          "location": "((0, 2), 'right')",
          "q_value": 0,
          "run": 10
         },
         {
          "location": "((0, 2), 'right')",
          "q_value": 0,
          "run": 11
         },
         {
          "location": "((0, 2), 'right')",
          "q_value": 0,
          "run": 12
         },
         {
          "location": "((0, 2), 'right')",
          "q_value": 0,
          "run": 13
         },
         {
          "location": "((0, 2), 'right')",
          "q_value": 0,
          "run": 14
         },
         {
          "location": "((0, 2), 'right')",
          "q_value": 0,
          "run": 15
         },
         {
          "location": "((0, 2), 'right')",
          "q_value": 0,
          "run": 16
         },
         {
          "location": "((0, 2), 'right')",
          "q_value": 0,
          "run": 17
         },
         {
          "location": "((0, 2), 'right')",
          "q_value": 0,
          "run": 18
         },
         {
          "location": "((0, 2), 'right')",
          "q_value": 0,
          "run": 19
         },
         {
          "location": "((0, 2), 'right')",
          "q_value": 0,
          "run": 20
         },
         {
          "location": "((0, 2), 'right')",
          "q_value": 0,
          "run": 21
         },
         {
          "location": "((0, 2), 'right')",
          "q_value": 0,
          "run": 22
         },
         {
          "location": "((0, 2), 'right')",
          "q_value": 0,
          "run": 23
         },
         {
          "location": "((0, 2), 'right')",
          "q_value": 0,
          "run": 24
         },
         {
          "location": "((0, 2), 'right')",
          "q_value": 0,
          "run": 25
         },
         {
          "location": "((0, 2), 'right')",
          "q_value": 0,
          "run": 26
         },
         {
          "location": "((0, 2), 'right')",
          "q_value": 0,
          "run": 27
         },
         {
          "location": "((0, 2), 'right')",
          "q_value": 0,
          "run": 28
         },
         {
          "location": "((0, 2), 'right')",
          "q_value": 0,
          "run": 29
         },
         {
          "location": "((0, 2), 'right')",
          "q_value": 0,
          "run": 30
         },
         {
          "location": "((0, 2), 'right')",
          "q_value": 0,
          "run": 31
         },
         {
          "location": "((0, 2), 'right')",
          "q_value": 0,
          "run": 32
         },
         {
          "location": "((0, 2), 'right')",
          "q_value": 0,
          "run": 33
         },
         {
          "location": "((0, 2), 'right')",
          "q_value": 0,
          "run": 34
         },
         {
          "location": "((0, 2), 'right')",
          "q_value": 0,
          "run": 35
         },
         {
          "location": "((0, 2), 'right')",
          "q_value": 0,
          "run": 36
         },
         {
          "location": "((0, 2), 'right')",
          "q_value": 0,
          "run": 37
         },
         {
          "location": "((0, 2), 'right')",
          "q_value": 0,
          "run": 38
         },
         {
          "location": "((0, 2), 'right')",
          "q_value": 0,
          "run": 39
         },
         {
          "location": "((0, 2), 'right')",
          "q_value": 0,
          "run": 40
         },
         {
          "location": "((0, 2), 'right')",
          "q_value": 0,
          "run": 41
         },
         {
          "location": "((0, 2), 'right')",
          "q_value": 0,
          "run": 42
         },
         {
          "location": "((0, 2), 'right')",
          "q_value": 0,
          "run": 43
         },
         {
          "location": "((0, 2), 'right')",
          "q_value": 0,
          "run": 44
         },
         {
          "location": "((0, 2), 'right')",
          "q_value": 0,
          "run": 45
         },
         {
          "location": "((0, 2), 'right')",
          "q_value": 0,
          "run": 46
         },
         {
          "location": "((0, 2), 'right')",
          "q_value": 0,
          "run": 47
         },
         {
          "location": "((0, 2), 'right')",
          "q_value": 0,
          "run": 48
         },
         {
          "location": "((0, 2), 'right')",
          "q_value": 0,
          "run": 49
         },
         {
          "location": "((0, 2), 'right')",
          "q_value": 0,
          "run": 50
         },
         {
          "location": "((0, 2), 'right')",
          "q_value": 0,
          "run": 51
         },
         {
          "location": "((0, 2), 'right')",
          "q_value": 0,
          "run": 52
         },
         {
          "location": "((0, 2), 'right')",
          "q_value": 0,
          "run": 53
         },
         {
          "location": "((0, 2), 'right')",
          "q_value": 0,
          "run": 54
         },
         {
          "location": "((0, 2), 'right')",
          "q_value": 0,
          "run": 55
         },
         {
          "location": "((0, 2), 'right')",
          "q_value": 0,
          "run": 56
         },
         {
          "location": "((0, 2), 'right')",
          "q_value": 0,
          "run": 57
         },
         {
          "location": "((0, 2), 'right')",
          "q_value": 0,
          "run": 58
         },
         {
          "location": "((0, 2), 'right')",
          "q_value": 0,
          "run": 59
         },
         {
          "location": "((0, 2), 'right')",
          "q_value": 0,
          "run": 60
         },
         {
          "location": "((0, 2), 'right')",
          "q_value": 0,
          "run": 61
         },
         {
          "location": "((0, 2), 'right')",
          "q_value": 0,
          "run": 62
         },
         {
          "location": "((0, 2), 'right')",
          "q_value": 0,
          "run": 63
         },
         {
          "location": "((0, 2), 'right')",
          "q_value": 0,
          "run": 64
         },
         {
          "location": "((0, 2), 'right')",
          "q_value": 0,
          "run": 65
         },
         {
          "location": "((0, 2), 'right')",
          "q_value": 0,
          "run": 66
         },
         {
          "location": "((0, 2), 'right')",
          "q_value": 0,
          "run": 67
         },
         {
          "location": "((0, 2), 'right')",
          "q_value": 0,
          "run": 68
         },
         {
          "location": "((0, 2), 'right')",
          "q_value": 0,
          "run": 69
         },
         {
          "location": "((0, 2), 'right')",
          "q_value": 0,
          "run": 70
         },
         {
          "location": "((0, 2), 'right')",
          "q_value": 0,
          "run": 71
         },
         {
          "location": "((0, 2), 'right')",
          "q_value": 0,
          "run": 72
         },
         {
          "location": "((0, 2), 'right')",
          "q_value": 0,
          "run": 73
         },
         {
          "location": "((0, 2), 'right')",
          "q_value": 0,
          "run": 74
         },
         {
          "location": "((0, 2), 'right')",
          "q_value": 0,
          "run": 75
         },
         {
          "location": "((0, 2), 'right')",
          "q_value": 0,
          "run": 76
         },
         {
          "location": "((0, 2), 'right')",
          "q_value": 0,
          "run": 77
         },
         {
          "location": "((0, 2), 'right')",
          "q_value": 0,
          "run": 78
         },
         {
          "location": "((0, 2), 'right')",
          "q_value": 0,
          "run": 79
         },
         {
          "location": "((0, 2), 'right')",
          "q_value": 0,
          "run": 80
         },
         {
          "location": "((0, 2), 'right')",
          "q_value": 0,
          "run": 81
         },
         {
          "location": "((0, 2), 'right')",
          "q_value": 0,
          "run": 82
         },
         {
          "location": "((0, 2), 'right')",
          "q_value": 0,
          "run": 83
         },
         {
          "location": "((0, 2), 'right')",
          "q_value": 0,
          "run": 84
         },
         {
          "location": "((0, 2), 'right')",
          "q_value": 0,
          "run": 85
         },
         {
          "location": "((0, 2), 'right')",
          "q_value": 0,
          "run": 86
         },
         {
          "location": "((0, 2), 'right')",
          "q_value": 0,
          "run": 87
         },
         {
          "location": "((0, 2), 'right')",
          "q_value": 0,
          "run": 88
         },
         {
          "location": "((0, 2), 'right')",
          "q_value": 0,
          "run": 89
         },
         {
          "location": "((0, 2), 'right')",
          "q_value": 0,
          "run": 90
         },
         {
          "location": "((0, 2), 'right')",
          "q_value": 0,
          "run": 91
         },
         {
          "location": "((0, 2), 'right')",
          "q_value": 0,
          "run": 92
         },
         {
          "location": "((0, 2), 'right')",
          "q_value": 0,
          "run": 93
         },
         {
          "location": "((0, 2), 'right')",
          "q_value": 0,
          "run": 94
         },
         {
          "location": "((0, 2), 'right')",
          "q_value": 0,
          "run": 95
         },
         {
          "location": "((0, 2), 'right')",
          "q_value": 0,
          "run": 96
         },
         {
          "location": "((0, 2), 'right')",
          "q_value": 0,
          "run": 97
         },
         {
          "location": "((0, 2), 'right')",
          "q_value": 0,
          "run": 98
         },
         {
          "location": "((0, 2), 'right')",
          "q_value": 0,
          "run": 99
         },
         {
          "location": "((0, 2), 'right')",
          "q_value": 0,
          "run": 100
         },
         {
          "location": "((0, 2), 'up')",
          "q_value": 0,
          "run": 0
         },
         {
          "location": "((0, 2), 'up')",
          "q_value": -0.1,
          "run": 1
         },
         {
          "location": "((0, 2), 'up')",
          "q_value": -0.1,
          "run": 2
         },
         {
          "location": "((0, 2), 'up')",
          "q_value": -0.1,
          "run": 3
         },
         {
          "location": "((0, 2), 'up')",
          "q_value": -0.1,
          "run": 4
         },
         {
          "location": "((0, 2), 'up')",
          "q_value": -0.1,
          "run": 5
         },
         {
          "location": "((0, 2), 'up')",
          "q_value": -0.1,
          "run": 6
         },
         {
          "location": "((0, 2), 'up')",
          "q_value": -0.1,
          "run": 7
         },
         {
          "location": "((0, 2), 'up')",
          "q_value": -0.1,
          "run": 8
         },
         {
          "location": "((0, 2), 'up')",
          "q_value": -0.1,
          "run": 9
         },
         {
          "location": "((0, 2), 'up')",
          "q_value": -0.1,
          "run": 10
         },
         {
          "location": "((0, 2), 'up')",
          "q_value": -0.1,
          "run": 11
         },
         {
          "location": "((0, 2), 'up')",
          "q_value": -0.1,
          "run": 12
         },
         {
          "location": "((0, 2), 'up')",
          "q_value": -0.1,
          "run": 13
         },
         {
          "location": "((0, 2), 'up')",
          "q_value": -0.1,
          "run": 14
         },
         {
          "location": "((0, 2), 'up')",
          "q_value": -0.1,
          "run": 15
         },
         {
          "location": "((0, 2), 'up')",
          "q_value": -0.1,
          "run": 16
         },
         {
          "location": "((0, 2), 'up')",
          "q_value": -0.1,
          "run": 17
         },
         {
          "location": "((0, 2), 'up')",
          "q_value": -0.1,
          "run": 18
         },
         {
          "location": "((0, 2), 'up')",
          "q_value": -0.1,
          "run": 19
         },
         {
          "location": "((0, 2), 'up')",
          "q_value": -0.1,
          "run": 20
         },
         {
          "location": "((0, 2), 'up')",
          "q_value": -0.1,
          "run": 21
         },
         {
          "location": "((0, 2), 'up')",
          "q_value": -0.1,
          "run": 22
         },
         {
          "location": "((0, 2), 'up')",
          "q_value": -0.1,
          "run": 23
         },
         {
          "location": "((0, 2), 'up')",
          "q_value": -0.1,
          "run": 24
         },
         {
          "location": "((0, 2), 'up')",
          "q_value": -0.1,
          "run": 25
         },
         {
          "location": "((0, 2), 'up')",
          "q_value": -0.1,
          "run": 26
         },
         {
          "location": "((0, 2), 'up')",
          "q_value": -0.1,
          "run": 27
         },
         {
          "location": "((0, 2), 'up')",
          "q_value": -0.1,
          "run": 28
         },
         {
          "location": "((0, 2), 'up')",
          "q_value": -0.1,
          "run": 29
         },
         {
          "location": "((0, 2), 'up')",
          "q_value": -0.1,
          "run": 30
         },
         {
          "location": "((0, 2), 'up')",
          "q_value": -0.1,
          "run": 31
         },
         {
          "location": "((0, 2), 'up')",
          "q_value": -0.1,
          "run": 32
         },
         {
          "location": "((0, 2), 'up')",
          "q_value": -0.1,
          "run": 33
         },
         {
          "location": "((0, 2), 'up')",
          "q_value": -0.1,
          "run": 34
         },
         {
          "location": "((0, 2), 'up')",
          "q_value": -0.1,
          "run": 35
         },
         {
          "location": "((0, 2), 'up')",
          "q_value": -0.1,
          "run": 36
         },
         {
          "location": "((0, 2), 'up')",
          "q_value": -0.1,
          "run": 37
         },
         {
          "location": "((0, 2), 'up')",
          "q_value": -0.1,
          "run": 38
         },
         {
          "location": "((0, 2), 'up')",
          "q_value": -0.1,
          "run": 39
         },
         {
          "location": "((0, 2), 'up')",
          "q_value": -0.1,
          "run": 40
         },
         {
          "location": "((0, 2), 'up')",
          "q_value": -0.1,
          "run": 41
         },
         {
          "location": "((0, 2), 'up')",
          "q_value": -0.1,
          "run": 42
         },
         {
          "location": "((0, 2), 'up')",
          "q_value": -0.1,
          "run": 43
         },
         {
          "location": "((0, 2), 'up')",
          "q_value": -0.1,
          "run": 44
         },
         {
          "location": "((0, 2), 'up')",
          "q_value": -0.1,
          "run": 45
         },
         {
          "location": "((0, 2), 'up')",
          "q_value": -0.1,
          "run": 46
         },
         {
          "location": "((0, 2), 'up')",
          "q_value": -0.1,
          "run": 47
         },
         {
          "location": "((0, 2), 'up')",
          "q_value": -0.1,
          "run": 48
         },
         {
          "location": "((0, 2), 'up')",
          "q_value": -0.1,
          "run": 49
         },
         {
          "location": "((0, 2), 'up')",
          "q_value": -0.1,
          "run": 50
         },
         {
          "location": "((0, 2), 'up')",
          "q_value": -0.1,
          "run": 51
         },
         {
          "location": "((0, 2), 'up')",
          "q_value": -0.1,
          "run": 52
         },
         {
          "location": "((0, 2), 'up')",
          "q_value": -0.1,
          "run": 53
         },
         {
          "location": "((0, 2), 'up')",
          "q_value": -0.1,
          "run": 54
         },
         {
          "location": "((0, 2), 'up')",
          "q_value": -0.1,
          "run": 55
         },
         {
          "location": "((0, 2), 'up')",
          "q_value": -0.1,
          "run": 56
         },
         {
          "location": "((0, 2), 'up')",
          "q_value": -0.1,
          "run": 57
         },
         {
          "location": "((0, 2), 'up')",
          "q_value": -0.1,
          "run": 58
         },
         {
          "location": "((0, 2), 'up')",
          "q_value": -0.1,
          "run": 59
         },
         {
          "location": "((0, 2), 'up')",
          "q_value": -0.1,
          "run": 60
         },
         {
          "location": "((0, 2), 'up')",
          "q_value": -0.1,
          "run": 61
         },
         {
          "location": "((0, 2), 'up')",
          "q_value": -0.1,
          "run": 62
         },
         {
          "location": "((0, 2), 'up')",
          "q_value": -0.1,
          "run": 63
         },
         {
          "location": "((0, 2), 'up')",
          "q_value": -0.1,
          "run": 64
         },
         {
          "location": "((0, 2), 'up')",
          "q_value": -0.1,
          "run": 65
         },
         {
          "location": "((0, 2), 'up')",
          "q_value": -0.1,
          "run": 66
         },
         {
          "location": "((0, 2), 'up')",
          "q_value": -0.1,
          "run": 67
         },
         {
          "location": "((0, 2), 'up')",
          "q_value": -0.1,
          "run": 68
         },
         {
          "location": "((0, 2), 'up')",
          "q_value": -0.1,
          "run": 69
         },
         {
          "location": "((0, 2), 'up')",
          "q_value": -0.1,
          "run": 70
         },
         {
          "location": "((0, 2), 'up')",
          "q_value": -0.1,
          "run": 71
         },
         {
          "location": "((0, 2), 'up')",
          "q_value": -0.1,
          "run": 72
         },
         {
          "location": "((0, 2), 'up')",
          "q_value": -0.1,
          "run": 73
         },
         {
          "location": "((0, 2), 'up')",
          "q_value": -0.1,
          "run": 74
         },
         {
          "location": "((0, 2), 'up')",
          "q_value": -0.1,
          "run": 75
         },
         {
          "location": "((0, 2), 'up')",
          "q_value": -0.1,
          "run": 76
         },
         {
          "location": "((0, 2), 'up')",
          "q_value": -0.1,
          "run": 77
         },
         {
          "location": "((0, 2), 'up')",
          "q_value": -0.1,
          "run": 78
         },
         {
          "location": "((0, 2), 'up')",
          "q_value": -0.1,
          "run": 79
         },
         {
          "location": "((0, 2), 'up')",
          "q_value": -0.1,
          "run": 80
         },
         {
          "location": "((0, 2), 'up')",
          "q_value": -0.1,
          "run": 81
         },
         {
          "location": "((0, 2), 'up')",
          "q_value": -0.1,
          "run": 82
         },
         {
          "location": "((0, 2), 'up')",
          "q_value": -0.1,
          "run": 83
         },
         {
          "location": "((0, 2), 'up')",
          "q_value": -0.1,
          "run": 84
         },
         {
          "location": "((0, 2), 'up')",
          "q_value": -0.1,
          "run": 85
         },
         {
          "location": "((0, 2), 'up')",
          "q_value": -0.1,
          "run": 86
         },
         {
          "location": "((0, 2), 'up')",
          "q_value": -0.1,
          "run": 87
         },
         {
          "location": "((0, 2), 'up')",
          "q_value": -0.1,
          "run": 88
         },
         {
          "location": "((0, 2), 'up')",
          "q_value": -0.1,
          "run": 89
         },
         {
          "location": "((0, 2), 'up')",
          "q_value": -0.1,
          "run": 90
         },
         {
          "location": "((0, 2), 'up')",
          "q_value": -0.1,
          "run": 91
         },
         {
          "location": "((0, 2), 'up')",
          "q_value": -0.1,
          "run": 92
         },
         {
          "location": "((0, 2), 'up')",
          "q_value": -0.1,
          "run": 93
         },
         {
          "location": "((0, 2), 'up')",
          "q_value": -0.1,
          "run": 94
         },
         {
          "location": "((0, 2), 'up')",
          "q_value": -0.1,
          "run": 95
         },
         {
          "location": "((0, 2), 'up')",
          "q_value": -0.1,
          "run": 96
         },
         {
          "location": "((0, 2), 'up')",
          "q_value": -0.1,
          "run": 97
         },
         {
          "location": "((0, 2), 'up')",
          "q_value": -0.1,
          "run": 98
         },
         {
          "location": "((0, 2), 'up')",
          "q_value": -0.1,
          "run": 99
         },
         {
          "location": "((0, 2), 'up')",
          "q_value": -0.1,
          "run": 100
         },
         {
          "location": "((0, 2), 'left')",
          "q_value": 0,
          "run": 0
         },
         {
          "location": "((0, 2), 'left')",
          "q_value": 0,
          "run": 1
         },
         {
          "location": "((0, 2), 'left')",
          "q_value": 0,
          "run": 2
         },
         {
          "location": "((0, 2), 'left')",
          "q_value": 0,
          "run": 3
         },
         {
          "location": "((0, 2), 'left')",
          "q_value": 0,
          "run": 4
         },
         {
          "location": "((0, 2), 'left')",
          "q_value": 0,
          "run": 5
         },
         {
          "location": "((0, 2), 'left')",
          "q_value": 0,
          "run": 6
         },
         {
          "location": "((0, 2), 'left')",
          "q_value": 0,
          "run": 7
         },
         {
          "location": "((0, 2), 'left')",
          "q_value": 0,
          "run": 8
         },
         {
          "location": "((0, 2), 'left')",
          "q_value": 0,
          "run": 9
         },
         {
          "location": "((0, 2), 'left')",
          "q_value": 0,
          "run": 10
         },
         {
          "location": "((0, 2), 'left')",
          "q_value": 0,
          "run": 11
         },
         {
          "location": "((0, 2), 'left')",
          "q_value": 0,
          "run": 12
         },
         {
          "location": "((0, 2), 'left')",
          "q_value": 0,
          "run": 13
         },
         {
          "location": "((0, 2), 'left')",
          "q_value": 0,
          "run": 14
         },
         {
          "location": "((0, 2), 'left')",
          "q_value": 0,
          "run": 15
         },
         {
          "location": "((0, 2), 'left')",
          "q_value": 0,
          "run": 16
         },
         {
          "location": "((0, 2), 'left')",
          "q_value": 0,
          "run": 17
         },
         {
          "location": "((0, 2), 'left')",
          "q_value": 0,
          "run": 18
         },
         {
          "location": "((0, 2), 'left')",
          "q_value": 0,
          "run": 19
         },
         {
          "location": "((0, 2), 'left')",
          "q_value": 0,
          "run": 20
         },
         {
          "location": "((0, 2), 'left')",
          "q_value": 0,
          "run": 21
         },
         {
          "location": "((0, 2), 'left')",
          "q_value": 0,
          "run": 22
         },
         {
          "location": "((0, 2), 'left')",
          "q_value": 0,
          "run": 23
         },
         {
          "location": "((0, 2), 'left')",
          "q_value": 0.26959343223243226,
          "run": 24
         },
         {
          "location": "((0, 2), 'left')",
          "q_value": 0.26959343223243226,
          "run": 25
         },
         {
          "location": "((0, 2), 'left')",
          "q_value": 0.26959343223243226,
          "run": 26
         },
         {
          "location": "((0, 2), 'left')",
          "q_value": 0.26959343223243226,
          "run": 27
         },
         {
          "location": "((0, 2), 'left')",
          "q_value": 0.26959343223243226,
          "run": 28
         },
         {
          "location": "((0, 2), 'left')",
          "q_value": 0.26959343223243226,
          "run": 29
         },
         {
          "location": "((0, 2), 'left')",
          "q_value": 0.6607326240900563,
          "run": 30
         },
         {
          "location": "((0, 2), 'left')",
          "q_value": 0.6607326240900563,
          "run": 31
         },
         {
          "location": "((0, 2), 'left')",
          "q_value": 0.6607326240900563,
          "run": 32
         },
         {
          "location": "((0, 2), 'left')",
          "q_value": 0.6607326240900563,
          "run": 33
         },
         {
          "location": "((0, 2), 'left')",
          "q_value": 0.6607326240900563,
          "run": 34
         },
         {
          "location": "((0, 2), 'left')",
          "q_value": 0.6607326240900563,
          "run": 35
         },
         {
          "location": "((0, 2), 'left')",
          "q_value": 0.6607326240900563,
          "run": 36
         },
         {
          "location": "((0, 2), 'left')",
          "q_value": 0.6607326240900563,
          "run": 37
         },
         {
          "location": "((0, 2), 'left')",
          "q_value": 0.6607326240900563,
          "run": 38
         },
         {
          "location": "((0, 2), 'left')",
          "q_value": 0.6607326240900563,
          "run": 39
         },
         {
          "location": "((0, 2), 'left')",
          "q_value": 0.6607326240900563,
          "run": 40
         },
         {
          "location": "((0, 2), 'left')",
          "q_value": 0.6607326240900563,
          "run": 41
         },
         {
          "location": "((0, 2), 'left')",
          "q_value": 0.6607326240900563,
          "run": 42
         },
         {
          "location": "((0, 2), 'left')",
          "q_value": 0.6607326240900563,
          "run": 43
         },
         {
          "location": "((0, 2), 'left')",
          "q_value": 0.6607326240900563,
          "run": 44
         },
         {
          "location": "((0, 2), 'left')",
          "q_value": 0.6607326240900563,
          "run": 45
         },
         {
          "location": "((0, 2), 'left')",
          "q_value": 0.6607326240900563,
          "run": 46
         },
         {
          "location": "((0, 2), 'left')",
          "q_value": 0.6607326240900563,
          "run": 47
         },
         {
          "location": "((0, 2), 'left')",
          "q_value": 0.6607326240900563,
          "run": 48
         },
         {
          "location": "((0, 2), 'left')",
          "q_value": 0.6607326240900563,
          "run": 49
         },
         {
          "location": "((0, 2), 'left')",
          "q_value": 0.6607326240900563,
          "run": 50
         },
         {
          "location": "((0, 2), 'left')",
          "q_value": 0.6607326240900563,
          "run": 51
         },
         {
          "location": "((0, 2), 'left')",
          "q_value": 0.6607326240900563,
          "run": 52
         },
         {
          "location": "((0, 2), 'left')",
          "q_value": 0.6607326240900563,
          "run": 53
         },
         {
          "location": "((0, 2), 'left')",
          "q_value": 0.6607326240900563,
          "run": 54
         },
         {
          "location": "((0, 2), 'left')",
          "q_value": 0.6607326240900563,
          "run": 55
         },
         {
          "location": "((0, 2), 'left')",
          "q_value": 0.6607326240900563,
          "run": 56
         },
         {
          "location": "((0, 2), 'left')",
          "q_value": 0.6607326240900563,
          "run": 57
         },
         {
          "location": "((0, 2), 'left')",
          "q_value": 0.6607326240900563,
          "run": 58
         },
         {
          "location": "((0, 2), 'left')",
          "q_value": 0.6607326240900563,
          "run": 59
         },
         {
          "location": "((0, 2), 'left')",
          "q_value": 0.6607326240900563,
          "run": 60
         },
         {
          "location": "((0, 2), 'left')",
          "q_value": 0.6607326240900563,
          "run": 61
         },
         {
          "location": "((0, 2), 'left')",
          "q_value": 0.6607326240900563,
          "run": 62
         },
         {
          "location": "((0, 2), 'left')",
          "q_value": 0.6607326240900563,
          "run": 63
         },
         {
          "location": "((0, 2), 'left')",
          "q_value": 0.6607326240900563,
          "run": 64
         },
         {
          "location": "((0, 2), 'left')",
          "q_value": 0.6607326240900563,
          "run": 65
         },
         {
          "location": "((0, 2), 'left')",
          "q_value": 0.6607326240900563,
          "run": 66
         },
         {
          "location": "((0, 2), 'left')",
          "q_value": 0.6607326240900563,
          "run": 67
         },
         {
          "location": "((0, 2), 'left')",
          "q_value": 0.6607326240900563,
          "run": 68
         },
         {
          "location": "((0, 2), 'left')",
          "q_value": 0.6607326240900563,
          "run": 69
         },
         {
          "location": "((0, 2), 'left')",
          "q_value": 0.6607326240900563,
          "run": 70
         },
         {
          "location": "((0, 2), 'left')",
          "q_value": 0.6607326240900563,
          "run": 71
         },
         {
          "location": "((0, 2), 'left')",
          "q_value": 0.6607326240900563,
          "run": 72
         },
         {
          "location": "((0, 2), 'left')",
          "q_value": 0.6607326240900563,
          "run": 73
         },
         {
          "location": "((0, 2), 'left')",
          "q_value": 0.6607326240900563,
          "run": 74
         },
         {
          "location": "((0, 2), 'left')",
          "q_value": 0.6607326240900563,
          "run": 75
         },
         {
          "location": "((0, 2), 'left')",
          "q_value": 0.6607326240900563,
          "run": 76
         },
         {
          "location": "((0, 2), 'left')",
          "q_value": 0.6607326240900563,
          "run": 77
         },
         {
          "location": "((0, 2), 'left')",
          "q_value": 0.6607326240900563,
          "run": 78
         },
         {
          "location": "((0, 2), 'left')",
          "q_value": 0.6607326240900563,
          "run": 79
         },
         {
          "location": "((0, 2), 'left')",
          "q_value": 0.6607326240900563,
          "run": 80
         },
         {
          "location": "((0, 2), 'left')",
          "q_value": 0.6607326240900563,
          "run": 81
         },
         {
          "location": "((0, 2), 'left')",
          "q_value": 0.6607326240900563,
          "run": 82
         },
         {
          "location": "((0, 2), 'left')",
          "q_value": 0.6607326240900563,
          "run": 83
         },
         {
          "location": "((0, 2), 'left')",
          "q_value": 0.6607326240900563,
          "run": 84
         },
         {
          "location": "((0, 2), 'left')",
          "q_value": 0.6607326240900563,
          "run": 85
         },
         {
          "location": "((0, 2), 'left')",
          "q_value": 0.6607326240900563,
          "run": 86
         },
         {
          "location": "((0, 2), 'left')",
          "q_value": 0.6607326240900563,
          "run": 87
         },
         {
          "location": "((0, 2), 'left')",
          "q_value": 0.6607326240900563,
          "run": 88
         },
         {
          "location": "((0, 2), 'left')",
          "q_value": 0.6607326240900563,
          "run": 89
         },
         {
          "location": "((0, 2), 'left')",
          "q_value": 0.6607326240900563,
          "run": 90
         },
         {
          "location": "((0, 2), 'left')",
          "q_value": 0.6607326240900563,
          "run": 91
         },
         {
          "location": "((0, 2), 'left')",
          "q_value": 0.6607326240900563,
          "run": 92
         },
         {
          "location": "((0, 2), 'left')",
          "q_value": 0.6607326240900563,
          "run": 93
         },
         {
          "location": "((0, 2), 'left')",
          "q_value": 0.6607326240900563,
          "run": 94
         },
         {
          "location": "((0, 2), 'left')",
          "q_value": 0.6607326240900563,
          "run": 95
         },
         {
          "location": "((0, 2), 'left')",
          "q_value": 0.6607326240900563,
          "run": 96
         },
         {
          "location": "((0, 2), 'left')",
          "q_value": 0.6607326240900563,
          "run": 97
         },
         {
          "location": "((0, 2), 'left')",
          "q_value": 0.6607326240900563,
          "run": 98
         },
         {
          "location": "((0, 2), 'left')",
          "q_value": 0.6607326240900563,
          "run": 99
         },
         {
          "location": "((0, 2), 'left')",
          "q_value": 0.6607326240900563,
          "run": 100
         },
         {
          "location": "((0, 3), 'down')",
          "q_value": 0,
          "run": 0
         },
         {
          "location": "((0, 3), 'down')",
          "q_value": 0,
          "run": 1
         },
         {
          "location": "((0, 3), 'down')",
          "q_value": 0,
          "run": 2
         },
         {
          "location": "((0, 3), 'down')",
          "q_value": 0,
          "run": 3
         },
         {
          "location": "((0, 3), 'down')",
          "q_value": 0,
          "run": 4
         },
         {
          "location": "((0, 3), 'down')",
          "q_value": 0,
          "run": 5
         },
         {
          "location": "((0, 3), 'down')",
          "q_value": 0,
          "run": 6
         },
         {
          "location": "((0, 3), 'down')",
          "q_value": 0,
          "run": 7
         },
         {
          "location": "((0, 3), 'down')",
          "q_value": 0,
          "run": 8
         },
         {
          "location": "((0, 3), 'down')",
          "q_value": 0,
          "run": 9
         },
         {
          "location": "((0, 3), 'down')",
          "q_value": 0,
          "run": 10
         },
         {
          "location": "((0, 3), 'down')",
          "q_value": 0,
          "run": 11
         },
         {
          "location": "((0, 3), 'down')",
          "q_value": 0,
          "run": 12
         },
         {
          "location": "((0, 3), 'down')",
          "q_value": 0,
          "run": 13
         },
         {
          "location": "((0, 3), 'down')",
          "q_value": 0,
          "run": 14
         },
         {
          "location": "((0, 3), 'down')",
          "q_value": 0,
          "run": 15
         },
         {
          "location": "((0, 3), 'down')",
          "q_value": 0,
          "run": 16
         },
         {
          "location": "((0, 3), 'down')",
          "q_value": 0,
          "run": 17
         },
         {
          "location": "((0, 3), 'down')",
          "q_value": 0,
          "run": 18
         },
         {
          "location": "((0, 3), 'down')",
          "q_value": 0,
          "run": 19
         },
         {
          "location": "((0, 3), 'down')",
          "q_value": 0,
          "run": 20
         },
         {
          "location": "((0, 3), 'down')",
          "q_value": 0,
          "run": 21
         },
         {
          "location": "((0, 3), 'down')",
          "q_value": 0,
          "run": 22
         },
         {
          "location": "((0, 3), 'down')",
          "q_value": 0,
          "run": 23
         },
         {
          "location": "((0, 3), 'down')",
          "q_value": 0,
          "run": 24
         },
         {
          "location": "((0, 3), 'down')",
          "q_value": 0,
          "run": 25
         },
         {
          "location": "((0, 3), 'down')",
          "q_value": 0,
          "run": 26
         },
         {
          "location": "((0, 3), 'down')",
          "q_value": 0,
          "run": 27
         },
         {
          "location": "((0, 3), 'down')",
          "q_value": 0,
          "run": 28
         },
         {
          "location": "((0, 3), 'down')",
          "q_value": 0,
          "run": 29
         },
         {
          "location": "((0, 3), 'down')",
          "q_value": 0,
          "run": 30
         },
         {
          "location": "((0, 3), 'down')",
          "q_value": 0,
          "run": 31
         },
         {
          "location": "((0, 3), 'down')",
          "q_value": 0,
          "run": 32
         },
         {
          "location": "((0, 3), 'down')",
          "q_value": 0,
          "run": 33
         },
         {
          "location": "((0, 3), 'down')",
          "q_value": 0,
          "run": 34
         },
         {
          "location": "((0, 3), 'down')",
          "q_value": 0,
          "run": 35
         },
         {
          "location": "((0, 3), 'down')",
          "q_value": 0,
          "run": 36
         },
         {
          "location": "((0, 3), 'down')",
          "q_value": 0,
          "run": 37
         },
         {
          "location": "((0, 3), 'down')",
          "q_value": 0,
          "run": 38
         },
         {
          "location": "((0, 3), 'down')",
          "q_value": 0,
          "run": 39
         },
         {
          "location": "((0, 3), 'down')",
          "q_value": 0,
          "run": 40
         },
         {
          "location": "((0, 3), 'down')",
          "q_value": 0,
          "run": 41
         },
         {
          "location": "((0, 3), 'down')",
          "q_value": 0,
          "run": 42
         },
         {
          "location": "((0, 3), 'down')",
          "q_value": 0,
          "run": 43
         },
         {
          "location": "((0, 3), 'down')",
          "q_value": 0,
          "run": 44
         },
         {
          "location": "((0, 3), 'down')",
          "q_value": 0,
          "run": 45
         },
         {
          "location": "((0, 3), 'down')",
          "q_value": 0,
          "run": 46
         },
         {
          "location": "((0, 3), 'down')",
          "q_value": 0,
          "run": 47
         },
         {
          "location": "((0, 3), 'down')",
          "q_value": 0,
          "run": 48
         },
         {
          "location": "((0, 3), 'down')",
          "q_value": 0,
          "run": 49
         },
         {
          "location": "((0, 3), 'down')",
          "q_value": 0,
          "run": 50
         },
         {
          "location": "((0, 3), 'down')",
          "q_value": 0,
          "run": 51
         },
         {
          "location": "((0, 3), 'down')",
          "q_value": 0,
          "run": 52
         },
         {
          "location": "((0, 3), 'down')",
          "q_value": 0,
          "run": 53
         },
         {
          "location": "((0, 3), 'down')",
          "q_value": 0,
          "run": 54
         },
         {
          "location": "((0, 3), 'down')",
          "q_value": 0,
          "run": 55
         },
         {
          "location": "((0, 3), 'down')",
          "q_value": 0,
          "run": 56
         },
         {
          "location": "((0, 3), 'down')",
          "q_value": 0,
          "run": 57
         },
         {
          "location": "((0, 3), 'down')",
          "q_value": 0,
          "run": 58
         },
         {
          "location": "((0, 3), 'down')",
          "q_value": 0,
          "run": 59
         },
         {
          "location": "((0, 3), 'down')",
          "q_value": 0,
          "run": 60
         },
         {
          "location": "((0, 3), 'down')",
          "q_value": 0,
          "run": 61
         },
         {
          "location": "((0, 3), 'down')",
          "q_value": 0,
          "run": 62
         },
         {
          "location": "((0, 3), 'down')",
          "q_value": 0,
          "run": 63
         },
         {
          "location": "((0, 3), 'down')",
          "q_value": 0,
          "run": 64
         },
         {
          "location": "((0, 3), 'down')",
          "q_value": 0,
          "run": 65
         },
         {
          "location": "((0, 3), 'down')",
          "q_value": 0,
          "run": 66
         },
         {
          "location": "((0, 3), 'down')",
          "q_value": 0,
          "run": 67
         },
         {
          "location": "((0, 3), 'down')",
          "q_value": 0,
          "run": 68
         },
         {
          "location": "((0, 3), 'down')",
          "q_value": 0,
          "run": 69
         },
         {
          "location": "((0, 3), 'down')",
          "q_value": 0,
          "run": 70
         },
         {
          "location": "((0, 3), 'down')",
          "q_value": 0,
          "run": 71
         },
         {
          "location": "((0, 3), 'down')",
          "q_value": 0,
          "run": 72
         },
         {
          "location": "((0, 3), 'down')",
          "q_value": 0,
          "run": 73
         },
         {
          "location": "((0, 3), 'down')",
          "q_value": 0,
          "run": 74
         },
         {
          "location": "((0, 3), 'down')",
          "q_value": 0,
          "run": 75
         },
         {
          "location": "((0, 3), 'down')",
          "q_value": 0,
          "run": 76
         },
         {
          "location": "((0, 3), 'down')",
          "q_value": 0,
          "run": 77
         },
         {
          "location": "((0, 3), 'down')",
          "q_value": 0,
          "run": 78
         },
         {
          "location": "((0, 3), 'down')",
          "q_value": 0,
          "run": 79
         },
         {
          "location": "((0, 3), 'down')",
          "q_value": 0,
          "run": 80
         },
         {
          "location": "((0, 3), 'down')",
          "q_value": 0,
          "run": 81
         },
         {
          "location": "((0, 3), 'down')",
          "q_value": 0,
          "run": 82
         },
         {
          "location": "((0, 3), 'down')",
          "q_value": 0,
          "run": 83
         },
         {
          "location": "((0, 3), 'down')",
          "q_value": 0,
          "run": 84
         },
         {
          "location": "((0, 3), 'down')",
          "q_value": 0,
          "run": 85
         },
         {
          "location": "((0, 3), 'down')",
          "q_value": 0,
          "run": 86
         },
         {
          "location": "((0, 3), 'down')",
          "q_value": 0,
          "run": 87
         },
         {
          "location": "((0, 3), 'down')",
          "q_value": 0,
          "run": 88
         },
         {
          "location": "((0, 3), 'down')",
          "q_value": 0,
          "run": 89
         },
         {
          "location": "((0, 3), 'down')",
          "q_value": 0,
          "run": 90
         },
         {
          "location": "((0, 3), 'down')",
          "q_value": 0,
          "run": 91
         },
         {
          "location": "((0, 3), 'down')",
          "q_value": 0,
          "run": 92
         },
         {
          "location": "((0, 3), 'down')",
          "q_value": 0,
          "run": 93
         },
         {
          "location": "((0, 3), 'down')",
          "q_value": 0,
          "run": 94
         },
         {
          "location": "((0, 3), 'down')",
          "q_value": 0,
          "run": 95
         },
         {
          "location": "((0, 3), 'down')",
          "q_value": 0,
          "run": 96
         },
         {
          "location": "((0, 3), 'down')",
          "q_value": 0,
          "run": 97
         },
         {
          "location": "((0, 3), 'down')",
          "q_value": 0,
          "run": 98
         },
         {
          "location": "((0, 3), 'down')",
          "q_value": 0,
          "run": 99
         },
         {
          "location": "((0, 3), 'down')",
          "q_value": 0,
          "run": 100
         },
         {
          "location": "((0, 3), 'right')",
          "q_value": 0,
          "run": 0
         },
         {
          "location": "((0, 3), 'right')",
          "q_value": 0,
          "run": 1
         },
         {
          "location": "((0, 3), 'right')",
          "q_value": 0,
          "run": 2
         },
         {
          "location": "((0, 3), 'right')",
          "q_value": -0.1,
          "run": 3
         },
         {
          "location": "((0, 3), 'right')",
          "q_value": -0.1,
          "run": 4
         },
         {
          "location": "((0, 3), 'right')",
          "q_value": -0.1,
          "run": 5
         },
         {
          "location": "((0, 3), 'right')",
          "q_value": -0.1,
          "run": 6
         },
         {
          "location": "((0, 3), 'right')",
          "q_value": -0.1,
          "run": 7
         },
         {
          "location": "((0, 3), 'right')",
          "q_value": -0.1,
          "run": 8
         },
         {
          "location": "((0, 3), 'right')",
          "q_value": -0.1,
          "run": 9
         },
         {
          "location": "((0, 3), 'right')",
          "q_value": -0.1,
          "run": 10
         },
         {
          "location": "((0, 3), 'right')",
          "q_value": -0.1,
          "run": 11
         },
         {
          "location": "((0, 3), 'right')",
          "q_value": -0.1,
          "run": 12
         },
         {
          "location": "((0, 3), 'right')",
          "q_value": -0.1,
          "run": 13
         },
         {
          "location": "((0, 3), 'right')",
          "q_value": -0.1,
          "run": 14
         },
         {
          "location": "((0, 3), 'right')",
          "q_value": -0.1,
          "run": 15
         },
         {
          "location": "((0, 3), 'right')",
          "q_value": -0.1,
          "run": 16
         },
         {
          "location": "((0, 3), 'right')",
          "q_value": -0.1,
          "run": 17
         },
         {
          "location": "((0, 3), 'right')",
          "q_value": -0.1,
          "run": 18
         },
         {
          "location": "((0, 3), 'right')",
          "q_value": -0.1,
          "run": 19
         },
         {
          "location": "((0, 3), 'right')",
          "q_value": -0.1,
          "run": 20
         },
         {
          "location": "((0, 3), 'right')",
          "q_value": -0.1,
          "run": 21
         },
         {
          "location": "((0, 3), 'right')",
          "q_value": -0.1,
          "run": 22
         },
         {
          "location": "((0, 3), 'right')",
          "q_value": -0.1,
          "run": 23
         },
         {
          "location": "((0, 3), 'right')",
          "q_value": -0.1,
          "run": 24
         },
         {
          "location": "((0, 3), 'right')",
          "q_value": -0.1,
          "run": 25
         },
         {
          "location": "((0, 3), 'right')",
          "q_value": -0.1,
          "run": 26
         },
         {
          "location": "((0, 3), 'right')",
          "q_value": -0.1,
          "run": 27
         },
         {
          "location": "((0, 3), 'right')",
          "q_value": -0.1,
          "run": 28
         },
         {
          "location": "((0, 3), 'right')",
          "q_value": -0.1,
          "run": 29
         },
         {
          "location": "((0, 3), 'right')",
          "q_value": -0.1,
          "run": 30
         },
         {
          "location": "((0, 3), 'right')",
          "q_value": -0.1,
          "run": 31
         },
         {
          "location": "((0, 3), 'right')",
          "q_value": -0.1,
          "run": 32
         },
         {
          "location": "((0, 3), 'right')",
          "q_value": -0.1,
          "run": 33
         },
         {
          "location": "((0, 3), 'right')",
          "q_value": -0.1,
          "run": 34
         },
         {
          "location": "((0, 3), 'right')",
          "q_value": -0.1,
          "run": 35
         },
         {
          "location": "((0, 3), 'right')",
          "q_value": -0.1,
          "run": 36
         },
         {
          "location": "((0, 3), 'right')",
          "q_value": -0.1,
          "run": 37
         },
         {
          "location": "((0, 3), 'right')",
          "q_value": -0.1,
          "run": 38
         },
         {
          "location": "((0, 3), 'right')",
          "q_value": -0.1,
          "run": 39
         },
         {
          "location": "((0, 3), 'right')",
          "q_value": -0.1,
          "run": 40
         },
         {
          "location": "((0, 3), 'right')",
          "q_value": -0.1,
          "run": 41
         },
         {
          "location": "((0, 3), 'right')",
          "q_value": -0.1,
          "run": 42
         },
         {
          "location": "((0, 3), 'right')",
          "q_value": -0.1,
          "run": 43
         },
         {
          "location": "((0, 3), 'right')",
          "q_value": -0.1,
          "run": 44
         },
         {
          "location": "((0, 3), 'right')",
          "q_value": -0.1,
          "run": 45
         },
         {
          "location": "((0, 3), 'right')",
          "q_value": -0.1,
          "run": 46
         },
         {
          "location": "((0, 3), 'right')",
          "q_value": -0.1,
          "run": 47
         },
         {
          "location": "((0, 3), 'right')",
          "q_value": -0.1,
          "run": 48
         },
         {
          "location": "((0, 3), 'right')",
          "q_value": -0.1,
          "run": 49
         },
         {
          "location": "((0, 3), 'right')",
          "q_value": -0.1,
          "run": 50
         },
         {
          "location": "((0, 3), 'right')",
          "q_value": -0.1,
          "run": 51
         },
         {
          "location": "((0, 3), 'right')",
          "q_value": -0.1,
          "run": 52
         },
         {
          "location": "((0, 3), 'right')",
          "q_value": -0.1,
          "run": 53
         },
         {
          "location": "((0, 3), 'right')",
          "q_value": -0.1,
          "run": 54
         },
         {
          "location": "((0, 3), 'right')",
          "q_value": -0.1,
          "run": 55
         },
         {
          "location": "((0, 3), 'right')",
          "q_value": -0.1,
          "run": 56
         },
         {
          "location": "((0, 3), 'right')",
          "q_value": -0.1,
          "run": 57
         },
         {
          "location": "((0, 3), 'right')",
          "q_value": -0.1,
          "run": 58
         },
         {
          "location": "((0, 3), 'right')",
          "q_value": -0.1,
          "run": 59
         },
         {
          "location": "((0, 3), 'right')",
          "q_value": -0.1,
          "run": 60
         },
         {
          "location": "((0, 3), 'right')",
          "q_value": -0.1,
          "run": 61
         },
         {
          "location": "((0, 3), 'right')",
          "q_value": -0.1,
          "run": 62
         },
         {
          "location": "((0, 3), 'right')",
          "q_value": -0.1,
          "run": 63
         },
         {
          "location": "((0, 3), 'right')",
          "q_value": -0.1,
          "run": 64
         },
         {
          "location": "((0, 3), 'right')",
          "q_value": -0.1,
          "run": 65
         },
         {
          "location": "((0, 3), 'right')",
          "q_value": -0.1,
          "run": 66
         },
         {
          "location": "((0, 3), 'right')",
          "q_value": -0.1,
          "run": 67
         },
         {
          "location": "((0, 3), 'right')",
          "q_value": -0.1,
          "run": 68
         },
         {
          "location": "((0, 3), 'right')",
          "q_value": -0.1,
          "run": 69
         },
         {
          "location": "((0, 3), 'right')",
          "q_value": -0.1,
          "run": 70
         },
         {
          "location": "((0, 3), 'right')",
          "q_value": -0.1,
          "run": 71
         },
         {
          "location": "((0, 3), 'right')",
          "q_value": -0.1,
          "run": 72
         },
         {
          "location": "((0, 3), 'right')",
          "q_value": -0.1,
          "run": 73
         },
         {
          "location": "((0, 3), 'right')",
          "q_value": -0.1,
          "run": 74
         },
         {
          "location": "((0, 3), 'right')",
          "q_value": -0.1,
          "run": 75
         },
         {
          "location": "((0, 3), 'right')",
          "q_value": -0.1,
          "run": 76
         },
         {
          "location": "((0, 3), 'right')",
          "q_value": -0.1,
          "run": 77
         },
         {
          "location": "((0, 3), 'right')",
          "q_value": -0.1,
          "run": 78
         },
         {
          "location": "((0, 3), 'right')",
          "q_value": -0.1,
          "run": 79
         },
         {
          "location": "((0, 3), 'right')",
          "q_value": -0.1,
          "run": 80
         },
         {
          "location": "((0, 3), 'right')",
          "q_value": -0.1,
          "run": 81
         },
         {
          "location": "((0, 3), 'right')",
          "q_value": -0.1,
          "run": 82
         },
         {
          "location": "((0, 3), 'right')",
          "q_value": -0.1,
          "run": 83
         },
         {
          "location": "((0, 3), 'right')",
          "q_value": -0.1,
          "run": 84
         },
         {
          "location": "((0, 3), 'right')",
          "q_value": -0.1,
          "run": 85
         },
         {
          "location": "((0, 3), 'right')",
          "q_value": -0.1,
          "run": 86
         },
         {
          "location": "((0, 3), 'right')",
          "q_value": -0.1,
          "run": 87
         },
         {
          "location": "((0, 3), 'right')",
          "q_value": -0.1,
          "run": 88
         },
         {
          "location": "((0, 3), 'right')",
          "q_value": -0.1,
          "run": 89
         },
         {
          "location": "((0, 3), 'right')",
          "q_value": -0.1,
          "run": 90
         },
         {
          "location": "((0, 3), 'right')",
          "q_value": -0.1,
          "run": 91
         },
         {
          "location": "((0, 3), 'right')",
          "q_value": -0.1,
          "run": 92
         },
         {
          "location": "((0, 3), 'right')",
          "q_value": -0.1,
          "run": 93
         },
         {
          "location": "((0, 3), 'right')",
          "q_value": -0.1,
          "run": 94
         },
         {
          "location": "((0, 3), 'right')",
          "q_value": -0.1,
          "run": 95
         },
         {
          "location": "((0, 3), 'right')",
          "q_value": -0.1,
          "run": 96
         },
         {
          "location": "((0, 3), 'right')",
          "q_value": -0.1,
          "run": 97
         },
         {
          "location": "((0, 3), 'right')",
          "q_value": -0.1,
          "run": 98
         },
         {
          "location": "((0, 3), 'right')",
          "q_value": -0.1,
          "run": 99
         },
         {
          "location": "((0, 3), 'right')",
          "q_value": -0.1,
          "run": 100
         },
         {
          "location": "((0, 3), 'up')",
          "q_value": 0,
          "run": 0
         },
         {
          "location": "((0, 3), 'up')",
          "q_value": 0,
          "run": 1
         },
         {
          "location": "((0, 3), 'up')",
          "q_value": 0,
          "run": 2
         },
         {
          "location": "((0, 3), 'up')",
          "q_value": -0.1,
          "run": 3
         },
         {
          "location": "((0, 3), 'up')",
          "q_value": -0.1,
          "run": 4
         },
         {
          "location": "((0, 3), 'up')",
          "q_value": -0.1,
          "run": 5
         },
         {
          "location": "((0, 3), 'up')",
          "q_value": -0.19,
          "run": 6
         },
         {
          "location": "((0, 3), 'up')",
          "q_value": -0.19,
          "run": 7
         },
         {
          "location": "((0, 3), 'up')",
          "q_value": -0.19,
          "run": 8
         },
         {
          "location": "((0, 3), 'up')",
          "q_value": -0.19,
          "run": 9
         },
         {
          "location": "((0, 3), 'up')",
          "q_value": -0.19,
          "run": 10
         },
         {
          "location": "((0, 3), 'up')",
          "q_value": -0.19,
          "run": 11
         },
         {
          "location": "((0, 3), 'up')",
          "q_value": -0.19,
          "run": 12
         },
         {
          "location": "((0, 3), 'up')",
          "q_value": -0.19,
          "run": 13
         },
         {
          "location": "((0, 3), 'up')",
          "q_value": -0.19,
          "run": 14
         },
         {
          "location": "((0, 3), 'up')",
          "q_value": -0.19,
          "run": 15
         },
         {
          "location": "((0, 3), 'up')",
          "q_value": -0.19,
          "run": 16
         },
         {
          "location": "((0, 3), 'up')",
          "q_value": -0.19,
          "run": 17
         },
         {
          "location": "((0, 3), 'up')",
          "q_value": -0.19,
          "run": 18
         },
         {
          "location": "((0, 3), 'up')",
          "q_value": -0.19,
          "run": 19
         },
         {
          "location": "((0, 3), 'up')",
          "q_value": -0.19,
          "run": 20
         },
         {
          "location": "((0, 3), 'up')",
          "q_value": -0.19,
          "run": 21
         },
         {
          "location": "((0, 3), 'up')",
          "q_value": -0.19,
          "run": 22
         },
         {
          "location": "((0, 3), 'up')",
          "q_value": -0.19,
          "run": 23
         },
         {
          "location": "((0, 3), 'up')",
          "q_value": -0.19,
          "run": 24
         },
         {
          "location": "((0, 3), 'up')",
          "q_value": -0.19,
          "run": 25
         },
         {
          "location": "((0, 3), 'up')",
          "q_value": -0.19,
          "run": 26
         },
         {
          "location": "((0, 3), 'up')",
          "q_value": -0.19,
          "run": 27
         },
         {
          "location": "((0, 3), 'up')",
          "q_value": -0.19,
          "run": 28
         },
         {
          "location": "((0, 3), 'up')",
          "q_value": -0.19,
          "run": 29
         },
         {
          "location": "((0, 3), 'up')",
          "q_value": -0.19,
          "run": 30
         },
         {
          "location": "((0, 3), 'up')",
          "q_value": -0.19,
          "run": 31
         },
         {
          "location": "((0, 3), 'up')",
          "q_value": -0.19,
          "run": 32
         },
         {
          "location": "((0, 3), 'up')",
          "q_value": -0.19,
          "run": 33
         },
         {
          "location": "((0, 3), 'up')",
          "q_value": -0.19,
          "run": 34
         },
         {
          "location": "((0, 3), 'up')",
          "q_value": -0.19,
          "run": 35
         },
         {
          "location": "((0, 3), 'up')",
          "q_value": -0.19,
          "run": 36
         },
         {
          "location": "((0, 3), 'up')",
          "q_value": -0.19,
          "run": 37
         },
         {
          "location": "((0, 3), 'up')",
          "q_value": -0.19,
          "run": 38
         },
         {
          "location": "((0, 3), 'up')",
          "q_value": -0.19,
          "run": 39
         },
         {
          "location": "((0, 3), 'up')",
          "q_value": -0.19,
          "run": 40
         },
         {
          "location": "((0, 3), 'up')",
          "q_value": -0.19,
          "run": 41
         },
         {
          "location": "((0, 3), 'up')",
          "q_value": -0.19,
          "run": 42
         },
         {
          "location": "((0, 3), 'up')",
          "q_value": -0.19,
          "run": 43
         },
         {
          "location": "((0, 3), 'up')",
          "q_value": -0.19,
          "run": 44
         },
         {
          "location": "((0, 3), 'up')",
          "q_value": -0.19,
          "run": 45
         },
         {
          "location": "((0, 3), 'up')",
          "q_value": -0.19,
          "run": 46
         },
         {
          "location": "((0, 3), 'up')",
          "q_value": -0.19,
          "run": 47
         },
         {
          "location": "((0, 3), 'up')",
          "q_value": -0.19,
          "run": 48
         },
         {
          "location": "((0, 3), 'up')",
          "q_value": -0.19,
          "run": 49
         },
         {
          "location": "((0, 3), 'up')",
          "q_value": -0.19,
          "run": 50
         },
         {
          "location": "((0, 3), 'up')",
          "q_value": -0.19,
          "run": 51
         },
         {
          "location": "((0, 3), 'up')",
          "q_value": -0.19,
          "run": 52
         },
         {
          "location": "((0, 3), 'up')",
          "q_value": -0.19,
          "run": 53
         },
         {
          "location": "((0, 3), 'up')",
          "q_value": -0.19,
          "run": 54
         },
         {
          "location": "((0, 3), 'up')",
          "q_value": -0.19,
          "run": 55
         },
         {
          "location": "((0, 3), 'up')",
          "q_value": -0.19,
          "run": 56
         },
         {
          "location": "((0, 3), 'up')",
          "q_value": -0.19,
          "run": 57
         },
         {
          "location": "((0, 3), 'up')",
          "q_value": -0.19,
          "run": 58
         },
         {
          "location": "((0, 3), 'up')",
          "q_value": -0.19,
          "run": 59
         },
         {
          "location": "((0, 3), 'up')",
          "q_value": -0.19,
          "run": 60
         },
         {
          "location": "((0, 3), 'up')",
          "q_value": -0.19,
          "run": 61
         },
         {
          "location": "((0, 3), 'up')",
          "q_value": -0.19,
          "run": 62
         },
         {
          "location": "((0, 3), 'up')",
          "q_value": -0.19,
          "run": 63
         },
         {
          "location": "((0, 3), 'up')",
          "q_value": -0.19,
          "run": 64
         },
         {
          "location": "((0, 3), 'up')",
          "q_value": -0.19,
          "run": 65
         },
         {
          "location": "((0, 3), 'up')",
          "q_value": -0.19,
          "run": 66
         },
         {
          "location": "((0, 3), 'up')",
          "q_value": -0.19,
          "run": 67
         },
         {
          "location": "((0, 3), 'up')",
          "q_value": -0.19,
          "run": 68
         },
         {
          "location": "((0, 3), 'up')",
          "q_value": -0.19,
          "run": 69
         },
         {
          "location": "((0, 3), 'up')",
          "q_value": -0.19,
          "run": 70
         },
         {
          "location": "((0, 3), 'up')",
          "q_value": -0.19,
          "run": 71
         },
         {
          "location": "((0, 3), 'up')",
          "q_value": -0.19,
          "run": 72
         },
         {
          "location": "((0, 3), 'up')",
          "q_value": -0.19,
          "run": 73
         },
         {
          "location": "((0, 3), 'up')",
          "q_value": -0.19,
          "run": 74
         },
         {
          "location": "((0, 3), 'up')",
          "q_value": -0.19,
          "run": 75
         },
         {
          "location": "((0, 3), 'up')",
          "q_value": -0.19,
          "run": 76
         },
         {
          "location": "((0, 3), 'up')",
          "q_value": -0.19,
          "run": 77
         },
         {
          "location": "((0, 3), 'up')",
          "q_value": -0.19,
          "run": 78
         },
         {
          "location": "((0, 3), 'up')",
          "q_value": -0.19,
          "run": 79
         },
         {
          "location": "((0, 3), 'up')",
          "q_value": -0.19,
          "run": 80
         },
         {
          "location": "((0, 3), 'up')",
          "q_value": -0.19,
          "run": 81
         },
         {
          "location": "((0, 3), 'up')",
          "q_value": -0.19,
          "run": 82
         },
         {
          "location": "((0, 3), 'up')",
          "q_value": -0.19,
          "run": 83
         },
         {
          "location": "((0, 3), 'up')",
          "q_value": -0.19,
          "run": 84
         },
         {
          "location": "((0, 3), 'up')",
          "q_value": -0.19,
          "run": 85
         },
         {
          "location": "((0, 3), 'up')",
          "q_value": -0.19,
          "run": 86
         },
         {
          "location": "((0, 3), 'up')",
          "q_value": -0.19,
          "run": 87
         },
         {
          "location": "((0, 3), 'up')",
          "q_value": -0.19,
          "run": 88
         },
         {
          "location": "((0, 3), 'up')",
          "q_value": -0.19,
          "run": 89
         },
         {
          "location": "((0, 3), 'up')",
          "q_value": -0.19,
          "run": 90
         },
         {
          "location": "((0, 3), 'up')",
          "q_value": -0.19,
          "run": 91
         },
         {
          "location": "((0, 3), 'up')",
          "q_value": -0.19,
          "run": 92
         },
         {
          "location": "((0, 3), 'up')",
          "q_value": -0.19,
          "run": 93
         },
         {
          "location": "((0, 3), 'up')",
          "q_value": -0.19,
          "run": 94
         },
         {
          "location": "((0, 3), 'up')",
          "q_value": -0.19,
          "run": 95
         },
         {
          "location": "((0, 3), 'up')",
          "q_value": -0.19,
          "run": 96
         },
         {
          "location": "((0, 3), 'up')",
          "q_value": -0.19,
          "run": 97
         },
         {
          "location": "((0, 3), 'up')",
          "q_value": -0.19,
          "run": 98
         },
         {
          "location": "((0, 3), 'up')",
          "q_value": -0.19,
          "run": 99
         },
         {
          "location": "((0, 3), 'up')",
          "q_value": -0.19,
          "run": 100
         },
         {
          "location": "((0, 3), 'left')",
          "q_value": 0,
          "run": 0
         },
         {
          "location": "((0, 3), 'left')",
          "q_value": 0,
          "run": 1
         },
         {
          "location": "((0, 3), 'left')",
          "q_value": 0,
          "run": 2
         },
         {
          "location": "((0, 3), 'left')",
          "q_value": 0,
          "run": 3
         },
         {
          "location": "((0, 3), 'left')",
          "q_value": 0,
          "run": 4
         },
         {
          "location": "((0, 3), 'left')",
          "q_value": 0,
          "run": 5
         },
         {
          "location": "((0, 3), 'left')",
          "q_value": 0,
          "run": 6
         },
         {
          "location": "((0, 3), 'left')",
          "q_value": 0,
          "run": 7
         },
         {
          "location": "((0, 3), 'left')",
          "q_value": 0,
          "run": 8
         },
         {
          "location": "((0, 3), 'left')",
          "q_value": 0,
          "run": 9
         },
         {
          "location": "((0, 3), 'left')",
          "q_value": 0,
          "run": 10
         },
         {
          "location": "((0, 3), 'left')",
          "q_value": 0,
          "run": 11
         },
         {
          "location": "((0, 3), 'left')",
          "q_value": 0,
          "run": 12
         },
         {
          "location": "((0, 3), 'left')",
          "q_value": 0,
          "run": 13
         },
         {
          "location": "((0, 3), 'left')",
          "q_value": 0,
          "run": 14
         },
         {
          "location": "((0, 3), 'left')",
          "q_value": 0,
          "run": 15
         },
         {
          "location": "((0, 3), 'left')",
          "q_value": 0,
          "run": 16
         },
         {
          "location": "((0, 3), 'left')",
          "q_value": 0,
          "run": 17
         },
         {
          "location": "((0, 3), 'left')",
          "q_value": 0,
          "run": 18
         },
         {
          "location": "((0, 3), 'left')",
          "q_value": 0,
          "run": 19
         },
         {
          "location": "((0, 3), 'left')",
          "q_value": 0,
          "run": 20
         },
         {
          "location": "((0, 3), 'left')",
          "q_value": 0,
          "run": 21
         },
         {
          "location": "((0, 3), 'left')",
          "q_value": 0,
          "run": 22
         },
         {
          "location": "((0, 3), 'left')",
          "q_value": 0,
          "run": 23
         },
         {
          "location": "((0, 3), 'left')",
          "q_value": 0,
          "run": 24
         },
         {
          "location": "((0, 3), 'left')",
          "q_value": 0,
          "run": 25
         },
         {
          "location": "((0, 3), 'left')",
          "q_value": 0,
          "run": 26
         },
         {
          "location": "((0, 3), 'left')",
          "q_value": 0,
          "run": 27
         },
         {
          "location": "((0, 3), 'left')",
          "q_value": 0,
          "run": 28
         },
         {
          "location": "((0, 3), 'left')",
          "q_value": 0,
          "run": 29
         },
         {
          "location": "((0, 3), 'left')",
          "q_value": 0,
          "run": 30
         },
         {
          "location": "((0, 3), 'left')",
          "q_value": 0,
          "run": 31
         },
         {
          "location": "((0, 3), 'left')",
          "q_value": 0,
          "run": 32
         },
         {
          "location": "((0, 3), 'left')",
          "q_value": 0,
          "run": 33
         },
         {
          "location": "((0, 3), 'left')",
          "q_value": 0,
          "run": 34
         },
         {
          "location": "((0, 3), 'left')",
          "q_value": 0,
          "run": 35
         },
         {
          "location": "((0, 3), 'left')",
          "q_value": 0,
          "run": 36
         },
         {
          "location": "((0, 3), 'left')",
          "q_value": 0,
          "run": 37
         },
         {
          "location": "((0, 3), 'left')",
          "q_value": 0,
          "run": 38
         },
         {
          "location": "((0, 3), 'left')",
          "q_value": 0,
          "run": 39
         },
         {
          "location": "((0, 3), 'left')",
          "q_value": 0,
          "run": 40
         },
         {
          "location": "((0, 3), 'left')",
          "q_value": 0,
          "run": 41
         },
         {
          "location": "((0, 3), 'left')",
          "q_value": 0,
          "run": 42
         },
         {
          "location": "((0, 3), 'left')",
          "q_value": 0,
          "run": 43
         },
         {
          "location": "((0, 3), 'left')",
          "q_value": 0,
          "run": 44
         },
         {
          "location": "((0, 3), 'left')",
          "q_value": 0,
          "run": 45
         },
         {
          "location": "((0, 3), 'left')",
          "q_value": 0,
          "run": 46
         },
         {
          "location": "((0, 3), 'left')",
          "q_value": 0,
          "run": 47
         },
         {
          "location": "((0, 3), 'left')",
          "q_value": 0,
          "run": 48
         },
         {
          "location": "((0, 3), 'left')",
          "q_value": 0,
          "run": 49
         },
         {
          "location": "((0, 3), 'left')",
          "q_value": 0,
          "run": 50
         },
         {
          "location": "((0, 3), 'left')",
          "q_value": 0,
          "run": 51
         },
         {
          "location": "((0, 3), 'left')",
          "q_value": 0,
          "run": 52
         },
         {
          "location": "((0, 3), 'left')",
          "q_value": 0,
          "run": 53
         },
         {
          "location": "((0, 3), 'left')",
          "q_value": 0,
          "run": 54
         },
         {
          "location": "((0, 3), 'left')",
          "q_value": 0,
          "run": 55
         },
         {
          "location": "((0, 3), 'left')",
          "q_value": 0,
          "run": 56
         },
         {
          "location": "((0, 3), 'left')",
          "q_value": 0,
          "run": 57
         },
         {
          "location": "((0, 3), 'left')",
          "q_value": 0,
          "run": 58
         },
         {
          "location": "((0, 3), 'left')",
          "q_value": 0,
          "run": 59
         },
         {
          "location": "((0, 3), 'left')",
          "q_value": 0,
          "run": 60
         },
         {
          "location": "((0, 3), 'left')",
          "q_value": 0,
          "run": 61
         },
         {
          "location": "((0, 3), 'left')",
          "q_value": 0,
          "run": 62
         },
         {
          "location": "((0, 3), 'left')",
          "q_value": 0,
          "run": 63
         },
         {
          "location": "((0, 3), 'left')",
          "q_value": 0,
          "run": 64
         },
         {
          "location": "((0, 3), 'left')",
          "q_value": 0,
          "run": 65
         },
         {
          "location": "((0, 3), 'left')",
          "q_value": 0,
          "run": 66
         },
         {
          "location": "((0, 3), 'left')",
          "q_value": 0,
          "run": 67
         },
         {
          "location": "((0, 3), 'left')",
          "q_value": 0,
          "run": 68
         },
         {
          "location": "((0, 3), 'left')",
          "q_value": 0,
          "run": 69
         },
         {
          "location": "((0, 3), 'left')",
          "q_value": 0,
          "run": 70
         },
         {
          "location": "((0, 3), 'left')",
          "q_value": 0,
          "run": 71
         },
         {
          "location": "((0, 3), 'left')",
          "q_value": 0,
          "run": 72
         },
         {
          "location": "((0, 3), 'left')",
          "q_value": 0,
          "run": 73
         },
         {
          "location": "((0, 3), 'left')",
          "q_value": 0,
          "run": 74
         },
         {
          "location": "((0, 3), 'left')",
          "q_value": 0,
          "run": 75
         },
         {
          "location": "((0, 3), 'left')",
          "q_value": 0,
          "run": 76
         },
         {
          "location": "((0, 3), 'left')",
          "q_value": 0,
          "run": 77
         },
         {
          "location": "((0, 3), 'left')",
          "q_value": 0,
          "run": 78
         },
         {
          "location": "((0, 3), 'left')",
          "q_value": 0,
          "run": 79
         },
         {
          "location": "((0, 3), 'left')",
          "q_value": 0,
          "run": 80
         },
         {
          "location": "((0, 3), 'left')",
          "q_value": 0,
          "run": 81
         },
         {
          "location": "((0, 3), 'left')",
          "q_value": 0,
          "run": 82
         },
         {
          "location": "((0, 3), 'left')",
          "q_value": 0,
          "run": 83
         },
         {
          "location": "((0, 3), 'left')",
          "q_value": 0,
          "run": 84
         },
         {
          "location": "((0, 3), 'left')",
          "q_value": 0,
          "run": 85
         },
         {
          "location": "((0, 3), 'left')",
          "q_value": 0,
          "run": 86
         },
         {
          "location": "((0, 3), 'left')",
          "q_value": 0,
          "run": 87
         },
         {
          "location": "((0, 3), 'left')",
          "q_value": 0,
          "run": 88
         },
         {
          "location": "((0, 3), 'left')",
          "q_value": 0,
          "run": 89
         },
         {
          "location": "((0, 3), 'left')",
          "q_value": 0,
          "run": 90
         },
         {
          "location": "((0, 3), 'left')",
          "q_value": 0,
          "run": 91
         },
         {
          "location": "((0, 3), 'left')",
          "q_value": 0,
          "run": 92
         },
         {
          "location": "((0, 3), 'left')",
          "q_value": 0,
          "run": 93
         },
         {
          "location": "((0, 3), 'left')",
          "q_value": 0,
          "run": 94
         },
         {
          "location": "((0, 3), 'left')",
          "q_value": 0,
          "run": 95
         },
         {
          "location": "((0, 3), 'left')",
          "q_value": 0,
          "run": 96
         },
         {
          "location": "((0, 3), 'left')",
          "q_value": 0,
          "run": 97
         },
         {
          "location": "((0, 3), 'left')",
          "q_value": 0,
          "run": 98
         },
         {
          "location": "((0, 3), 'left')",
          "q_value": 0,
          "run": 99
         },
         {
          "location": "((0, 3), 'left')",
          "q_value": 0,
          "run": 100
         },
         {
          "location": "((1, 0), 'down')",
          "q_value": 0,
          "run": 0
         },
         {
          "location": "((1, 0), 'down')",
          "q_value": 0,
          "run": 1
         },
         {
          "location": "((1, 0), 'down')",
          "q_value": 0,
          "run": 2
         },
         {
          "location": "((1, 0), 'down')",
          "q_value": 0,
          "run": 3
         },
         {
          "location": "((1, 0), 'down')",
          "q_value": 0,
          "run": 4
         },
         {
          "location": "((1, 0), 'down')",
          "q_value": 0,
          "run": 5
         },
         {
          "location": "((1, 0), 'down')",
          "q_value": 0,
          "run": 6
         },
         {
          "location": "((1, 0), 'down')",
          "q_value": 0,
          "run": 7
         },
         {
          "location": "((1, 0), 'down')",
          "q_value": 0,
          "run": 8
         },
         {
          "location": "((1, 0), 'down')",
          "q_value": 0,
          "run": 9
         },
         {
          "location": "((1, 0), 'down')",
          "q_value": 0,
          "run": 10
         },
         {
          "location": "((1, 0), 'down')",
          "q_value": 0,
          "run": 11
         },
         {
          "location": "((1, 0), 'down')",
          "q_value": 0,
          "run": 12
         },
         {
          "location": "((1, 0), 'down')",
          "q_value": 0,
          "run": 13
         },
         {
          "location": "((1, 0), 'down')",
          "q_value": 0,
          "run": 14
         },
         {
          "location": "((1, 0), 'down')",
          "q_value": 0,
          "run": 15
         },
         {
          "location": "((1, 0), 'down')",
          "q_value": 0,
          "run": 16
         },
         {
          "location": "((1, 0), 'down')",
          "q_value": 0,
          "run": 17
         },
         {
          "location": "((1, 0), 'down')",
          "q_value": 0,
          "run": 18
         },
         {
          "location": "((1, 0), 'down')",
          "q_value": 0,
          "run": 19
         },
         {
          "location": "((1, 0), 'down')",
          "q_value": 0,
          "run": 20
         },
         {
          "location": "((1, 0), 'down')",
          "q_value": 0,
          "run": 21
         },
         {
          "location": "((1, 0), 'down')",
          "q_value": 0,
          "run": 22
         },
         {
          "location": "((1, 0), 'down')",
          "q_value": 0,
          "run": 23
         },
         {
          "location": "((1, 0), 'down')",
          "q_value": 0,
          "run": 24
         },
         {
          "location": "((1, 0), 'down')",
          "q_value": 0,
          "run": 25
         },
         {
          "location": "((1, 0), 'down')",
          "q_value": 0,
          "run": 26
         },
         {
          "location": "((1, 0), 'down')",
          "q_value": 0,
          "run": 27
         },
         {
          "location": "((1, 0), 'down')",
          "q_value": 0,
          "run": 28
         },
         {
          "location": "((1, 0), 'down')",
          "q_value": 0,
          "run": 29
         },
         {
          "location": "((1, 0), 'down')",
          "q_value": 0,
          "run": 30
         },
         {
          "location": "((1, 0), 'down')",
          "q_value": 0,
          "run": 31
         },
         {
          "location": "((1, 0), 'down')",
          "q_value": 0,
          "run": 32
         },
         {
          "location": "((1, 0), 'down')",
          "q_value": 0,
          "run": 33
         },
         {
          "location": "((1, 0), 'down')",
          "q_value": 0,
          "run": 34
         },
         {
          "location": "((1, 0), 'down')",
          "q_value": 0,
          "run": 35
         },
         {
          "location": "((1, 0), 'down')",
          "q_value": 0,
          "run": 36
         },
         {
          "location": "((1, 0), 'down')",
          "q_value": 0,
          "run": 37
         },
         {
          "location": "((1, 0), 'down')",
          "q_value": 0,
          "run": 38
         },
         {
          "location": "((1, 0), 'down')",
          "q_value": 0,
          "run": 39
         },
         {
          "location": "((1, 0), 'down')",
          "q_value": 0,
          "run": 40
         },
         {
          "location": "((1, 0), 'down')",
          "q_value": 0,
          "run": 41
         },
         {
          "location": "((1, 0), 'down')",
          "q_value": 0,
          "run": 42
         },
         {
          "location": "((1, 0), 'down')",
          "q_value": 0,
          "run": 43
         },
         {
          "location": "((1, 0), 'down')",
          "q_value": 0,
          "run": 44
         },
         {
          "location": "((1, 0), 'down')",
          "q_value": 0,
          "run": 45
         },
         {
          "location": "((1, 0), 'down')",
          "q_value": 0,
          "run": 46
         },
         {
          "location": "((1, 0), 'down')",
          "q_value": 0,
          "run": 47
         },
         {
          "location": "((1, 0), 'down')",
          "q_value": 0,
          "run": 48
         },
         {
          "location": "((1, 0), 'down')",
          "q_value": 0,
          "run": 49
         },
         {
          "location": "((1, 0), 'down')",
          "q_value": 0,
          "run": 50
         },
         {
          "location": "((1, 0), 'down')",
          "q_value": 0,
          "run": 51
         },
         {
          "location": "((1, 0), 'down')",
          "q_value": 0,
          "run": 52
         },
         {
          "location": "((1, 0), 'down')",
          "q_value": 0,
          "run": 53
         },
         {
          "location": "((1, 0), 'down')",
          "q_value": 0,
          "run": 54
         },
         {
          "location": "((1, 0), 'down')",
          "q_value": 0,
          "run": 55
         },
         {
          "location": "((1, 0), 'down')",
          "q_value": 0,
          "run": 56
         },
         {
          "location": "((1, 0), 'down')",
          "q_value": 0,
          "run": 57
         },
         {
          "location": "((1, 0), 'down')",
          "q_value": 0,
          "run": 58
         },
         {
          "location": "((1, 0), 'down')",
          "q_value": 0,
          "run": 59
         },
         {
          "location": "((1, 0), 'down')",
          "q_value": 0,
          "run": 60
         },
         {
          "location": "((1, 0), 'down')",
          "q_value": 0,
          "run": 61
         },
         {
          "location": "((1, 0), 'down')",
          "q_value": 0,
          "run": 62
         },
         {
          "location": "((1, 0), 'down')",
          "q_value": 0,
          "run": 63
         },
         {
          "location": "((1, 0), 'down')",
          "q_value": 0,
          "run": 64
         },
         {
          "location": "((1, 0), 'down')",
          "q_value": 0,
          "run": 65
         },
         {
          "location": "((1, 0), 'down')",
          "q_value": 0,
          "run": 66
         },
         {
          "location": "((1, 0), 'down')",
          "q_value": 0,
          "run": 67
         },
         {
          "location": "((1, 0), 'down')",
          "q_value": 0,
          "run": 68
         },
         {
          "location": "((1, 0), 'down')",
          "q_value": 0,
          "run": 69
         },
         {
          "location": "((1, 0), 'down')",
          "q_value": 0,
          "run": 70
         },
         {
          "location": "((1, 0), 'down')",
          "q_value": 0,
          "run": 71
         },
         {
          "location": "((1, 0), 'down')",
          "q_value": 0,
          "run": 72
         },
         {
          "location": "((1, 0), 'down')",
          "q_value": 0,
          "run": 73
         },
         {
          "location": "((1, 0), 'down')",
          "q_value": 0,
          "run": 74
         },
         {
          "location": "((1, 0), 'down')",
          "q_value": 0,
          "run": 75
         },
         {
          "location": "((1, 0), 'down')",
          "q_value": 0,
          "run": 76
         },
         {
          "location": "((1, 0), 'down')",
          "q_value": 0,
          "run": 77
         },
         {
          "location": "((1, 0), 'down')",
          "q_value": 0,
          "run": 78
         },
         {
          "location": "((1, 0), 'down')",
          "q_value": 0,
          "run": 79
         },
         {
          "location": "((1, 0), 'down')",
          "q_value": 0,
          "run": 80
         },
         {
          "location": "((1, 0), 'down')",
          "q_value": 0,
          "run": 81
         },
         {
          "location": "((1, 0), 'down')",
          "q_value": 0,
          "run": 82
         },
         {
          "location": "((1, 0), 'down')",
          "q_value": 0,
          "run": 83
         },
         {
          "location": "((1, 0), 'down')",
          "q_value": 0,
          "run": 84
         },
         {
          "location": "((1, 0), 'down')",
          "q_value": 0,
          "run": 85
         },
         {
          "location": "((1, 0), 'down')",
          "q_value": 0,
          "run": 86
         },
         {
          "location": "((1, 0), 'down')",
          "q_value": 0,
          "run": 87
         },
         {
          "location": "((1, 0), 'down')",
          "q_value": 0,
          "run": 88
         },
         {
          "location": "((1, 0), 'down')",
          "q_value": 0,
          "run": 89
         },
         {
          "location": "((1, 0), 'down')",
          "q_value": 0,
          "run": 90
         },
         {
          "location": "((1, 0), 'down')",
          "q_value": 0,
          "run": 91
         },
         {
          "location": "((1, 0), 'down')",
          "q_value": 0,
          "run": 92
         },
         {
          "location": "((1, 0), 'down')",
          "q_value": 0,
          "run": 93
         },
         {
          "location": "((1, 0), 'down')",
          "q_value": 0,
          "run": 94
         },
         {
          "location": "((1, 0), 'down')",
          "q_value": 0,
          "run": 95
         },
         {
          "location": "((1, 0), 'down')",
          "q_value": 0,
          "run": 96
         },
         {
          "location": "((1, 0), 'down')",
          "q_value": 0,
          "run": 97
         },
         {
          "location": "((1, 0), 'down')",
          "q_value": 0,
          "run": 98
         },
         {
          "location": "((1, 0), 'down')",
          "q_value": 0,
          "run": 99
         },
         {
          "location": "((1, 0), 'down')",
          "q_value": 0,
          "run": 100
         },
         {
          "location": "((1, 0), 'right')",
          "q_value": 0,
          "run": 0
         },
         {
          "location": "((1, 0), 'right')",
          "q_value": 0,
          "run": 1
         },
         {
          "location": "((1, 0), 'right')",
          "q_value": 0,
          "run": 2
         },
         {
          "location": "((1, 0), 'right')",
          "q_value": 0,
          "run": 3
         },
         {
          "location": "((1, 0), 'right')",
          "q_value": 0,
          "run": 4
         },
         {
          "location": "((1, 0), 'right')",
          "q_value": 0.008100000000000001,
          "run": 5
         },
         {
          "location": "((1, 0), 'right')",
          "q_value": 0.008100000000000001,
          "run": 6
         },
         {
          "location": "((1, 0), 'right')",
          "q_value": 0.008100000000000001,
          "run": 7
         },
         {
          "location": "((1, 0), 'right')",
          "q_value": 0.008100000000000001,
          "run": 8
         },
         {
          "location": "((1, 0), 'right')",
          "q_value": 0.008100000000000001,
          "run": 9
         },
         {
          "location": "((1, 0), 'right')",
          "q_value": 0.008100000000000001,
          "run": 10
         },
         {
          "location": "((1, 0), 'right')",
          "q_value": 0.008100000000000001,
          "run": 11
         },
         {
          "location": "((1, 0), 'right')",
          "q_value": 0.008100000000000001,
          "run": 12
         },
         {
          "location": "((1, 0), 'right')",
          "q_value": 0.008100000000000001,
          "run": 13
         },
         {
          "location": "((1, 0), 'right')",
          "q_value": 0.008100000000000001,
          "run": 14
         },
         {
          "location": "((1, 0), 'right')",
          "q_value": 0.008100000000000001,
          "run": 15
         },
         {
          "location": "((1, 0), 'right')",
          "q_value": 0.008100000000000001,
          "run": 16
         },
         {
          "location": "((1, 0), 'right')",
          "q_value": 0.008100000000000001,
          "run": 17
         },
         {
          "location": "((1, 0), 'right')",
          "q_value": 0.008100000000000001,
          "run": 18
         },
         {
          "location": "((1, 0), 'right')",
          "q_value": 0.008100000000000001,
          "run": 19
         },
         {
          "location": "((1, 0), 'right')",
          "q_value": 0.008100000000000001,
          "run": 20
         },
         {
          "location": "((1, 0), 'right')",
          "q_value": 0.008100000000000001,
          "run": 21
         },
         {
          "location": "((1, 0), 'right')",
          "q_value": 0.008100000000000001,
          "run": 22
         },
         {
          "location": "((1, 0), 'right')",
          "q_value": 0.008100000000000001,
          "run": 23
         },
         {
          "location": "((1, 0), 'right')",
          "q_value": 0.008100000000000001,
          "run": 24
         },
         {
          "location": "((1, 0), 'right')",
          "q_value": 0.008100000000000001,
          "run": 25
         },
         {
          "location": "((1, 0), 'right')",
          "q_value": 0.008100000000000001,
          "run": 26
         },
         {
          "location": "((1, 0), 'right')",
          "q_value": 0.008100000000000001,
          "run": 27
         },
         {
          "location": "((1, 0), 'right')",
          "q_value": 0.008100000000000001,
          "run": 28
         },
         {
          "location": "((1, 0), 'right')",
          "q_value": 0.008100000000000001,
          "run": 29
         },
         {
          "location": "((1, 0), 'right')",
          "q_value": 0.6504991093541804,
          "run": 30
         },
         {
          "location": "((1, 0), 'right')",
          "q_value": 0.6504991093541804,
          "run": 31
         },
         {
          "location": "((1, 0), 'right')",
          "q_value": 0.6504991093541804,
          "run": 32
         },
         {
          "location": "((1, 0), 'right')",
          "q_value": 0.6504991093541804,
          "run": 33
         },
         {
          "location": "((1, 0), 'right')",
          "q_value": 0.6504991093541804,
          "run": 34
         },
         {
          "location": "((1, 0), 'right')",
          "q_value": 0.6504991093541804,
          "run": 35
         },
         {
          "location": "((1, 0), 'right')",
          "q_value": 0.6504991093541804,
          "run": 36
         },
         {
          "location": "((1, 0), 'right')",
          "q_value": 0.6504991093541804,
          "run": 37
         },
         {
          "location": "((1, 0), 'right')",
          "q_value": 0.6504991093541804,
          "run": 38
         },
         {
          "location": "((1, 0), 'right')",
          "q_value": 0.6504991093541804,
          "run": 39
         },
         {
          "location": "((1, 0), 'right')",
          "q_value": 0.6504991093541804,
          "run": 40
         },
         {
          "location": "((1, 0), 'right')",
          "q_value": 0.6504991093541804,
          "run": 41
         },
         {
          "location": "((1, 0), 'right')",
          "q_value": 0.6504991093541804,
          "run": 42
         },
         {
          "location": "((1, 0), 'right')",
          "q_value": 0.6504991093541804,
          "run": 43
         },
         {
          "location": "((1, 0), 'right')",
          "q_value": 0.6504991093541804,
          "run": 44
         },
         {
          "location": "((1, 0), 'right')",
          "q_value": 0.6504991093541804,
          "run": 45
         },
         {
          "location": "((1, 0), 'right')",
          "q_value": 0.6504991093541804,
          "run": 46
         },
         {
          "location": "((1, 0), 'right')",
          "q_value": 0.6504991093541804,
          "run": 47
         },
         {
          "location": "((1, 0), 'right')",
          "q_value": 0.6504991093541804,
          "run": 48
         },
         {
          "location": "((1, 0), 'right')",
          "q_value": 0.6504991093541804,
          "run": 49
         },
         {
          "location": "((1, 0), 'right')",
          "q_value": 0.6504991093541804,
          "run": 50
         },
         {
          "location": "((1, 0), 'right')",
          "q_value": 0.6504991093541804,
          "run": 51
         },
         {
          "location": "((1, 0), 'right')",
          "q_value": 0.6504991093541804,
          "run": 52
         },
         {
          "location": "((1, 0), 'right')",
          "q_value": 0.6504991093541804,
          "run": 53
         },
         {
          "location": "((1, 0), 'right')",
          "q_value": 0.6504991093541804,
          "run": 54
         },
         {
          "location": "((1, 0), 'right')",
          "q_value": 0.6504991093541804,
          "run": 55
         },
         {
          "location": "((1, 0), 'right')",
          "q_value": 0.6504991093541804,
          "run": 56
         },
         {
          "location": "((1, 0), 'right')",
          "q_value": 0.6504991093541804,
          "run": 57
         },
         {
          "location": "((1, 0), 'right')",
          "q_value": 0.6504991093541804,
          "run": 58
         },
         {
          "location": "((1, 0), 'right')",
          "q_value": 0.6504991093541804,
          "run": 59
         },
         {
          "location": "((1, 0), 'right')",
          "q_value": 0.6504991093541804,
          "run": 60
         },
         {
          "location": "((1, 0), 'right')",
          "q_value": 0.6504991093541804,
          "run": 61
         },
         {
          "location": "((1, 0), 'right')",
          "q_value": 0.6504991093541804,
          "run": 62
         },
         {
          "location": "((1, 0), 'right')",
          "q_value": 0.6504991093541804,
          "run": 63
         },
         {
          "location": "((1, 0), 'right')",
          "q_value": 0.6504991093541804,
          "run": 64
         },
         {
          "location": "((1, 0), 'right')",
          "q_value": 0.6504991093541804,
          "run": 65
         },
         {
          "location": "((1, 0), 'right')",
          "q_value": 0.6504991093541804,
          "run": 66
         },
         {
          "location": "((1, 0), 'right')",
          "q_value": 0.6504991093541804,
          "run": 67
         },
         {
          "location": "((1, 0), 'right')",
          "q_value": 0.6504991093541804,
          "run": 68
         },
         {
          "location": "((1, 0), 'right')",
          "q_value": 0.6504991093541804,
          "run": 69
         },
         {
          "location": "((1, 0), 'right')",
          "q_value": 0.6504991093541804,
          "run": 70
         },
         {
          "location": "((1, 0), 'right')",
          "q_value": 0.6504991093541804,
          "run": 71
         },
         {
          "location": "((1, 0), 'right')",
          "q_value": 0.6504991093541804,
          "run": 72
         },
         {
          "location": "((1, 0), 'right')",
          "q_value": 0.6504991093541804,
          "run": 73
         },
         {
          "location": "((1, 0), 'right')",
          "q_value": 0.6504991093541804,
          "run": 74
         },
         {
          "location": "((1, 0), 'right')",
          "q_value": 0.6504991093541804,
          "run": 75
         },
         {
          "location": "((1, 0), 'right')",
          "q_value": 0.6504991093541804,
          "run": 76
         },
         {
          "location": "((1, 0), 'right')",
          "q_value": 0.6504991093541804,
          "run": 77
         },
         {
          "location": "((1, 0), 'right')",
          "q_value": 0.6504991093541804,
          "run": 78
         },
         {
          "location": "((1, 0), 'right')",
          "q_value": 1.3927896101917847,
          "run": 79
         },
         {
          "location": "((1, 0), 'right')",
          "q_value": 2.0610870507010386,
          "run": 80
         },
         {
          "location": "((1, 0), 'right')",
          "q_value": 2.0610870507010386,
          "run": 81
         },
         {
          "location": "((1, 0), 'right')",
          "q_value": 2.0610870507010386,
          "run": 82
         },
         {
          "location": "((1, 0), 'right')",
          "q_value": 2.0610870507010386,
          "run": 83
         },
         {
          "location": "((1, 0), 'right')",
          "q_value": 2.0610870507010386,
          "run": 84
         },
         {
          "location": "((1, 0), 'right')",
          "q_value": 2.0610870507010386,
          "run": 85
         },
         {
          "location": "((1, 0), 'right')",
          "q_value": 2.0610870507010386,
          "run": 86
         },
         {
          "location": "((1, 0), 'right')",
          "q_value": 2.0610870507010386,
          "run": 87
         },
         {
          "location": "((1, 0), 'right')",
          "q_value": 2.0610870507010386,
          "run": 88
         },
         {
          "location": "((1, 0), 'right')",
          "q_value": 2.0610870507010386,
          "run": 89
         },
         {
          "location": "((1, 0), 'right')",
          "q_value": 2.0610870507010386,
          "run": 90
         },
         {
          "location": "((1, 0), 'right')",
          "q_value": 3.2068389080266746,
          "run": 91
         },
         {
          "location": "((1, 0), 'right')",
          "q_value": 3.2068389080266746,
          "run": 92
         },
         {
          "location": "((1, 0), 'right')",
          "q_value": 3.2068389080266746,
          "run": 93
         },
         {
          "location": "((1, 0), 'right')",
          "q_value": 3.2068389080266746,
          "run": 94
         },
         {
          "location": "((1, 0), 'right')",
          "q_value": 3.2068389080266746,
          "run": 95
         },
         {
          "location": "((1, 0), 'right')",
          "q_value": 3.2068389080266746,
          "run": 96
         },
         {
          "location": "((1, 0), 'right')",
          "q_value": 3.2068389080266746,
          "run": 97
         },
         {
          "location": "((1, 0), 'right')",
          "q_value": 3.2068389080266746,
          "run": 98
         },
         {
          "location": "((1, 0), 'right')",
          "q_value": 3.2068389080266746,
          "run": 99
         },
         {
          "location": "((1, 0), 'right')",
          "q_value": 3.2068389080266746,
          "run": 100
         },
         {
          "location": "((1, 0), 'up')",
          "q_value": 0,
          "run": 0
         },
         {
          "location": "((1, 0), 'up')",
          "q_value": 0,
          "run": 1
         },
         {
          "location": "((1, 0), 'up')",
          "q_value": 0,
          "run": 2
         },
         {
          "location": "((1, 0), 'up')",
          "q_value": 0,
          "run": 3
         },
         {
          "location": "((1, 0), 'up')",
          "q_value": 0,
          "run": 4
         },
         {
          "location": "((1, 0), 'up')",
          "q_value": 0,
          "run": 5
         },
         {
          "location": "((1, 0), 'up')",
          "q_value": 0,
          "run": 6
         },
         {
          "location": "((1, 0), 'up')",
          "q_value": 0,
          "run": 7
         },
         {
          "location": "((1, 0), 'up')",
          "q_value": 0,
          "run": 8
         },
         {
          "location": "((1, 0), 'up')",
          "q_value": 0,
          "run": 9
         },
         {
          "location": "((1, 0), 'up')",
          "q_value": 0,
          "run": 10
         },
         {
          "location": "((1, 0), 'up')",
          "q_value": 0,
          "run": 11
         },
         {
          "location": "((1, 0), 'up')",
          "q_value": 0,
          "run": 12
         },
         {
          "location": "((1, 0), 'up')",
          "q_value": 0,
          "run": 13
         },
         {
          "location": "((1, 0), 'up')",
          "q_value": 0,
          "run": 14
         },
         {
          "location": "((1, 0), 'up')",
          "q_value": 0,
          "run": 15
         },
         {
          "location": "((1, 0), 'up')",
          "q_value": 0,
          "run": 16
         },
         {
          "location": "((1, 0), 'up')",
          "q_value": 0,
          "run": 17
         },
         {
          "location": "((1, 0), 'up')",
          "q_value": 0,
          "run": 18
         },
         {
          "location": "((1, 0), 'up')",
          "q_value": 0,
          "run": 19
         },
         {
          "location": "((1, 0), 'up')",
          "q_value": 0,
          "run": 20
         },
         {
          "location": "((1, 0), 'up')",
          "q_value": 0,
          "run": 21
         },
         {
          "location": "((1, 0), 'up')",
          "q_value": 0,
          "run": 22
         },
         {
          "location": "((1, 0), 'up')",
          "q_value": 0,
          "run": 23
         },
         {
          "location": "((1, 0), 'up')",
          "q_value": 0,
          "run": 24
         },
         {
          "location": "((1, 0), 'up')",
          "q_value": 0,
          "run": 25
         },
         {
          "location": "((1, 0), 'up')",
          "q_value": 0,
          "run": 26
         },
         {
          "location": "((1, 0), 'up')",
          "q_value": 0,
          "run": 27
         },
         {
          "location": "((1, 0), 'up')",
          "q_value": 0,
          "run": 28
         },
         {
          "location": "((1, 0), 'up')",
          "q_value": 0,
          "run": 29
         },
         {
          "location": "((1, 0), 'up')",
          "q_value": 0,
          "run": 30
         },
         {
          "location": "((1, 0), 'up')",
          "q_value": 0,
          "run": 31
         },
         {
          "location": "((1, 0), 'up')",
          "q_value": 0,
          "run": 32
         },
         {
          "location": "((1, 0), 'up')",
          "q_value": 0,
          "run": 33
         },
         {
          "location": "((1, 0), 'up')",
          "q_value": 0,
          "run": 34
         },
         {
          "location": "((1, 0), 'up')",
          "q_value": 0,
          "run": 35
         },
         {
          "location": "((1, 0), 'up')",
          "q_value": 0,
          "run": 36
         },
         {
          "location": "((1, 0), 'up')",
          "q_value": 0,
          "run": 37
         },
         {
          "location": "((1, 0), 'up')",
          "q_value": 0,
          "run": 38
         },
         {
          "location": "((1, 0), 'up')",
          "q_value": 0,
          "run": 39
         },
         {
          "location": "((1, 0), 'up')",
          "q_value": 0,
          "run": 40
         },
         {
          "location": "((1, 0), 'up')",
          "q_value": 0,
          "run": 41
         },
         {
          "location": "((1, 0), 'up')",
          "q_value": 0,
          "run": 42
         },
         {
          "location": "((1, 0), 'up')",
          "q_value": 0,
          "run": 43
         },
         {
          "location": "((1, 0), 'up')",
          "q_value": 0,
          "run": 44
         },
         {
          "location": "((1, 0), 'up')",
          "q_value": 0,
          "run": 45
         },
         {
          "location": "((1, 0), 'up')",
          "q_value": 0,
          "run": 46
         },
         {
          "location": "((1, 0), 'up')",
          "q_value": 0,
          "run": 47
         },
         {
          "location": "((1, 0), 'up')",
          "q_value": 0,
          "run": 48
         },
         {
          "location": "((1, 0), 'up')",
          "q_value": 0,
          "run": 49
         },
         {
          "location": "((1, 0), 'up')",
          "q_value": 0,
          "run": 50
         },
         {
          "location": "((1, 0), 'up')",
          "q_value": 0,
          "run": 51
         },
         {
          "location": "((1, 0), 'up')",
          "q_value": 0,
          "run": 52
         },
         {
          "location": "((1, 0), 'up')",
          "q_value": 0,
          "run": 53
         },
         {
          "location": "((1, 0), 'up')",
          "q_value": 0,
          "run": 54
         },
         {
          "location": "((1, 0), 'up')",
          "q_value": 0,
          "run": 55
         },
         {
          "location": "((1, 0), 'up')",
          "q_value": 0,
          "run": 56
         },
         {
          "location": "((1, 0), 'up')",
          "q_value": 0,
          "run": 57
         },
         {
          "location": "((1, 0), 'up')",
          "q_value": 0,
          "run": 58
         },
         {
          "location": "((1, 0), 'up')",
          "q_value": 0,
          "run": 59
         },
         {
          "location": "((1, 0), 'up')",
          "q_value": 0,
          "run": 60
         },
         {
          "location": "((1, 0), 'up')",
          "q_value": 0,
          "run": 61
         },
         {
          "location": "((1, 0), 'up')",
          "q_value": 0,
          "run": 62
         },
         {
          "location": "((1, 0), 'up')",
          "q_value": 0,
          "run": 63
         },
         {
          "location": "((1, 0), 'up')",
          "q_value": 0,
          "run": 64
         },
         {
          "location": "((1, 0), 'up')",
          "q_value": 0,
          "run": 65
         },
         {
          "location": "((1, 0), 'up')",
          "q_value": 0,
          "run": 66
         },
         {
          "location": "((1, 0), 'up')",
          "q_value": 0,
          "run": 67
         },
         {
          "location": "((1, 0), 'up')",
          "q_value": 0,
          "run": 68
         },
         {
          "location": "((1, 0), 'up')",
          "q_value": 0,
          "run": 69
         },
         {
          "location": "((1, 0), 'up')",
          "q_value": 0,
          "run": 70
         },
         {
          "location": "((1, 0), 'up')",
          "q_value": 0,
          "run": 71
         },
         {
          "location": "((1, 0), 'up')",
          "q_value": 0,
          "run": 72
         },
         {
          "location": "((1, 0), 'up')",
          "q_value": 0,
          "run": 73
         },
         {
          "location": "((1, 0), 'up')",
          "q_value": 0,
          "run": 74
         },
         {
          "location": "((1, 0), 'up')",
          "q_value": 0,
          "run": 75
         },
         {
          "location": "((1, 0), 'up')",
          "q_value": 0,
          "run": 76
         },
         {
          "location": "((1, 0), 'up')",
          "q_value": 0,
          "run": 77
         },
         {
          "location": "((1, 0), 'up')",
          "q_value": 0,
          "run": 78
         },
         {
          "location": "((1, 0), 'up')",
          "q_value": 0,
          "run": 79
         },
         {
          "location": "((1, 0), 'up')",
          "q_value": 0,
          "run": 80
         },
         {
          "location": "((1, 0), 'up')",
          "q_value": 0,
          "run": 81
         },
         {
          "location": "((1, 0), 'up')",
          "q_value": 0,
          "run": 82
         },
         {
          "location": "((1, 0), 'up')",
          "q_value": 0,
          "run": 83
         },
         {
          "location": "((1, 0), 'up')",
          "q_value": 0,
          "run": 84
         },
         {
          "location": "((1, 0), 'up')",
          "q_value": 0,
          "run": 85
         },
         {
          "location": "((1, 0), 'up')",
          "q_value": 0,
          "run": 86
         },
         {
          "location": "((1, 0), 'up')",
          "q_value": 0,
          "run": 87
         },
         {
          "location": "((1, 0), 'up')",
          "q_value": 0,
          "run": 88
         },
         {
          "location": "((1, 0), 'up')",
          "q_value": 0,
          "run": 89
         },
         {
          "location": "((1, 0), 'up')",
          "q_value": 0,
          "run": 90
         },
         {
          "location": "((1, 0), 'up')",
          "q_value": 0,
          "run": 91
         },
         {
          "location": "((1, 0), 'up')",
          "q_value": 0,
          "run": 92
         },
         {
          "location": "((1, 0), 'up')",
          "q_value": 0,
          "run": 93
         },
         {
          "location": "((1, 0), 'up')",
          "q_value": 0,
          "run": 94
         },
         {
          "location": "((1, 0), 'up')",
          "q_value": 0,
          "run": 95
         },
         {
          "location": "((1, 0), 'up')",
          "q_value": 0,
          "run": 96
         },
         {
          "location": "((1, 0), 'up')",
          "q_value": 0,
          "run": 97
         },
         {
          "location": "((1, 0), 'up')",
          "q_value": 0,
          "run": 98
         },
         {
          "location": "((1, 0), 'up')",
          "q_value": 0,
          "run": 99
         },
         {
          "location": "((1, 0), 'up')",
          "q_value": 0,
          "run": 100
         },
         {
          "location": "((1, 0), 'left')",
          "q_value": 0,
          "run": 0
         },
         {
          "location": "((1, 0), 'left')",
          "q_value": 0,
          "run": 1
         },
         {
          "location": "((1, 0), 'left')",
          "q_value": 0,
          "run": 2
         },
         {
          "location": "((1, 0), 'left')",
          "q_value": 0,
          "run": 3
         },
         {
          "location": "((1, 0), 'left')",
          "q_value": 0,
          "run": 4
         },
         {
          "location": "((1, 0), 'left')",
          "q_value": 0,
          "run": 5
         },
         {
          "location": "((1, 0), 'left')",
          "q_value": 0,
          "run": 6
         },
         {
          "location": "((1, 0), 'left')",
          "q_value": 0,
          "run": 7
         },
         {
          "location": "((1, 0), 'left')",
          "q_value": 0,
          "run": 8
         },
         {
          "location": "((1, 0), 'left')",
          "q_value": 0,
          "run": 9
         },
         {
          "location": "((1, 0), 'left')",
          "q_value": 0,
          "run": 10
         },
         {
          "location": "((1, 0), 'left')",
          "q_value": 0,
          "run": 11
         },
         {
          "location": "((1, 0), 'left')",
          "q_value": 0,
          "run": 12
         },
         {
          "location": "((1, 0), 'left')",
          "q_value": 0,
          "run": 13
         },
         {
          "location": "((1, 0), 'left')",
          "q_value": 0,
          "run": 14
         },
         {
          "location": "((1, 0), 'left')",
          "q_value": 0,
          "run": 15
         },
         {
          "location": "((1, 0), 'left')",
          "q_value": 0,
          "run": 16
         },
         {
          "location": "((1, 0), 'left')",
          "q_value": 0,
          "run": 17
         },
         {
          "location": "((1, 0), 'left')",
          "q_value": 0,
          "run": 18
         },
         {
          "location": "((1, 0), 'left')",
          "q_value": 0,
          "run": 19
         },
         {
          "location": "((1, 0), 'left')",
          "q_value": 0,
          "run": 20
         },
         {
          "location": "((1, 0), 'left')",
          "q_value": 0,
          "run": 21
         },
         {
          "location": "((1, 0), 'left')",
          "q_value": 0,
          "run": 22
         },
         {
          "location": "((1, 0), 'left')",
          "q_value": 0,
          "run": 23
         },
         {
          "location": "((1, 0), 'left')",
          "q_value": 0,
          "run": 24
         },
         {
          "location": "((1, 0), 'left')",
          "q_value": 0,
          "run": 25
         },
         {
          "location": "((1, 0), 'left')",
          "q_value": 0,
          "run": 26
         },
         {
          "location": "((1, 0), 'left')",
          "q_value": 0,
          "run": 27
         },
         {
          "location": "((1, 0), 'left')",
          "q_value": 0,
          "run": 28
         },
         {
          "location": "((1, 0), 'left')",
          "q_value": 0,
          "run": 29
         },
         {
          "location": "((1, 0), 'left')",
          "q_value": 0,
          "run": 30
         },
         {
          "location": "((1, 0), 'left')",
          "q_value": 0,
          "run": 31
         },
         {
          "location": "((1, 0), 'left')",
          "q_value": 0,
          "run": 32
         },
         {
          "location": "((1, 0), 'left')",
          "q_value": 0,
          "run": 33
         },
         {
          "location": "((1, 0), 'left')",
          "q_value": 0,
          "run": 34
         },
         {
          "location": "((1, 0), 'left')",
          "q_value": 0,
          "run": 35
         },
         {
          "location": "((1, 0), 'left')",
          "q_value": 0,
          "run": 36
         },
         {
          "location": "((1, 0), 'left')",
          "q_value": 0,
          "run": 37
         },
         {
          "location": "((1, 0), 'left')",
          "q_value": 0,
          "run": 38
         },
         {
          "location": "((1, 0), 'left')",
          "q_value": 0,
          "run": 39
         },
         {
          "location": "((1, 0), 'left')",
          "q_value": 0,
          "run": 40
         },
         {
          "location": "((1, 0), 'left')",
          "q_value": 0,
          "run": 41
         },
         {
          "location": "((1, 0), 'left')",
          "q_value": 0,
          "run": 42
         },
         {
          "location": "((1, 0), 'left')",
          "q_value": 0,
          "run": 43
         },
         {
          "location": "((1, 0), 'left')",
          "q_value": 0,
          "run": 44
         },
         {
          "location": "((1, 0), 'left')",
          "q_value": 0,
          "run": 45
         },
         {
          "location": "((1, 0), 'left')",
          "q_value": 0,
          "run": 46
         },
         {
          "location": "((1, 0), 'left')",
          "q_value": 0,
          "run": 47
         },
         {
          "location": "((1, 0), 'left')",
          "q_value": 0,
          "run": 48
         },
         {
          "location": "((1, 0), 'left')",
          "q_value": 0,
          "run": 49
         },
         {
          "location": "((1, 0), 'left')",
          "q_value": 0,
          "run": 50
         },
         {
          "location": "((1, 0), 'left')",
          "q_value": 0,
          "run": 51
         },
         {
          "location": "((1, 0), 'left')",
          "q_value": 0,
          "run": 52
         },
         {
          "location": "((1, 0), 'left')",
          "q_value": 0,
          "run": 53
         },
         {
          "location": "((1, 0), 'left')",
          "q_value": 0,
          "run": 54
         },
         {
          "location": "((1, 0), 'left')",
          "q_value": 0,
          "run": 55
         },
         {
          "location": "((1, 0), 'left')",
          "q_value": 0,
          "run": 56
         },
         {
          "location": "((1, 0), 'left')",
          "q_value": 0,
          "run": 57
         },
         {
          "location": "((1, 0), 'left')",
          "q_value": 0,
          "run": 58
         },
         {
          "location": "((1, 0), 'left')",
          "q_value": 0,
          "run": 59
         },
         {
          "location": "((1, 0), 'left')",
          "q_value": 0,
          "run": 60
         },
         {
          "location": "((1, 0), 'left')",
          "q_value": 0,
          "run": 61
         },
         {
          "location": "((1, 0), 'left')",
          "q_value": 0,
          "run": 62
         },
         {
          "location": "((1, 0), 'left')",
          "q_value": 0,
          "run": 63
         },
         {
          "location": "((1, 0), 'left')",
          "q_value": 0,
          "run": 64
         },
         {
          "location": "((1, 0), 'left')",
          "q_value": 0,
          "run": 65
         },
         {
          "location": "((1, 0), 'left')",
          "q_value": 0,
          "run": 66
         },
         {
          "location": "((1, 0), 'left')",
          "q_value": 0,
          "run": 67
         },
         {
          "location": "((1, 0), 'left')",
          "q_value": 0,
          "run": 68
         },
         {
          "location": "((1, 0), 'left')",
          "q_value": 0,
          "run": 69
         },
         {
          "location": "((1, 0), 'left')",
          "q_value": 0,
          "run": 70
         },
         {
          "location": "((1, 0), 'left')",
          "q_value": 0,
          "run": 71
         },
         {
          "location": "((1, 0), 'left')",
          "q_value": 0,
          "run": 72
         },
         {
          "location": "((1, 0), 'left')",
          "q_value": 0,
          "run": 73
         },
         {
          "location": "((1, 0), 'left')",
          "q_value": 0,
          "run": 74
         },
         {
          "location": "((1, 0), 'left')",
          "q_value": 0,
          "run": 75
         },
         {
          "location": "((1, 0), 'left')",
          "q_value": 0,
          "run": 76
         },
         {
          "location": "((1, 0), 'left')",
          "q_value": 0,
          "run": 77
         },
         {
          "location": "((1, 0), 'left')",
          "q_value": 0,
          "run": 78
         },
         {
          "location": "((1, 0), 'left')",
          "q_value": 0,
          "run": 79
         },
         {
          "location": "((1, 0), 'left')",
          "q_value": 0,
          "run": 80
         },
         {
          "location": "((1, 0), 'left')",
          "q_value": 0,
          "run": 81
         },
         {
          "location": "((1, 0), 'left')",
          "q_value": 0,
          "run": 82
         },
         {
          "location": "((1, 0), 'left')",
          "q_value": 0,
          "run": 83
         },
         {
          "location": "((1, 0), 'left')",
          "q_value": 0,
          "run": 84
         },
         {
          "location": "((1, 0), 'left')",
          "q_value": 0,
          "run": 85
         },
         {
          "location": "((1, 0), 'left')",
          "q_value": 0,
          "run": 86
         },
         {
          "location": "((1, 0), 'left')",
          "q_value": 0,
          "run": 87
         },
         {
          "location": "((1, 0), 'left')",
          "q_value": 0,
          "run": 88
         },
         {
          "location": "((1, 0), 'left')",
          "q_value": 0,
          "run": 89
         },
         {
          "location": "((1, 0), 'left')",
          "q_value": 0,
          "run": 90
         },
         {
          "location": "((1, 0), 'left')",
          "q_value": 0,
          "run": 91
         },
         {
          "location": "((1, 0), 'left')",
          "q_value": 0,
          "run": 92
         },
         {
          "location": "((1, 0), 'left')",
          "q_value": 0,
          "run": 93
         },
         {
          "location": "((1, 0), 'left')",
          "q_value": 0,
          "run": 94
         },
         {
          "location": "((1, 0), 'left')",
          "q_value": 0,
          "run": 95
         },
         {
          "location": "((1, 0), 'left')",
          "q_value": 0,
          "run": 96
         },
         {
          "location": "((1, 0), 'left')",
          "q_value": 0,
          "run": 97
         },
         {
          "location": "((1, 0), 'left')",
          "q_value": 0,
          "run": 98
         },
         {
          "location": "((1, 0), 'left')",
          "q_value": 0,
          "run": 99
         },
         {
          "location": "((1, 0), 'left')",
          "q_value": 0,
          "run": 100
         },
         {
          "location": "((1, 1), 'down')",
          "q_value": 0,
          "run": 0
         },
         {
          "location": "((1, 1), 'down')",
          "q_value": 0,
          "run": 1
         },
         {
          "location": "((1, 1), 'down')",
          "q_value": 0,
          "run": 2
         },
         {
          "location": "((1, 1), 'down')",
          "q_value": 0,
          "run": 3
         },
         {
          "location": "((1, 1), 'down')",
          "q_value": 0,
          "run": 4
         },
         {
          "location": "((1, 1), 'down')",
          "q_value": 0,
          "run": 5
         },
         {
          "location": "((1, 1), 'down')",
          "q_value": 0,
          "run": 6
         },
         {
          "location": "((1, 1), 'down')",
          "q_value": 0,
          "run": 7
         },
         {
          "location": "((1, 1), 'down')",
          "q_value": 0,
          "run": 8
         },
         {
          "location": "((1, 1), 'down')",
          "q_value": 0,
          "run": 9
         },
         {
          "location": "((1, 1), 'down')",
          "q_value": 0,
          "run": 10
         },
         {
          "location": "((1, 1), 'down')",
          "q_value": 0,
          "run": 11
         },
         {
          "location": "((1, 1), 'down')",
          "q_value": 0,
          "run": 12
         },
         {
          "location": "((1, 1), 'down')",
          "q_value": 0,
          "run": 13
         },
         {
          "location": "((1, 1), 'down')",
          "q_value": 0,
          "run": 14
         },
         {
          "location": "((1, 1), 'down')",
          "q_value": 0,
          "run": 15
         },
         {
          "location": "((1, 1), 'down')",
          "q_value": 0,
          "run": 16
         },
         {
          "location": "((1, 1), 'down')",
          "q_value": 0,
          "run": 17
         },
         {
          "location": "((1, 1), 'down')",
          "q_value": 0,
          "run": 18
         },
         {
          "location": "((1, 1), 'down')",
          "q_value": 0,
          "run": 19
         },
         {
          "location": "((1, 1), 'down')",
          "q_value": 0,
          "run": 20
         },
         {
          "location": "((1, 1), 'down')",
          "q_value": 0,
          "run": 21
         },
         {
          "location": "((1, 1), 'down')",
          "q_value": 0,
          "run": 22
         },
         {
          "location": "((1, 1), 'down')",
          "q_value": 0,
          "run": 23
         },
         {
          "location": "((1, 1), 'down')",
          "q_value": 0,
          "run": 24
         },
         {
          "location": "((1, 1), 'down')",
          "q_value": 0,
          "run": 25
         },
         {
          "location": "((1, 1), 'down')",
          "q_value": 0,
          "run": 26
         },
         {
          "location": "((1, 1), 'down')",
          "q_value": 0,
          "run": 27
         },
         {
          "location": "((1, 1), 'down')",
          "q_value": 0,
          "run": 28
         },
         {
          "location": "((1, 1), 'down')",
          "q_value": 0,
          "run": 29
         },
         {
          "location": "((1, 1), 'down')",
          "q_value": 0,
          "run": 30
         },
         {
          "location": "((1, 1), 'down')",
          "q_value": 0,
          "run": 31
         },
         {
          "location": "((1, 1), 'down')",
          "q_value": 0,
          "run": 32
         },
         {
          "location": "((1, 1), 'down')",
          "q_value": 0,
          "run": 33
         },
         {
          "location": "((1, 1), 'down')",
          "q_value": 0,
          "run": 34
         },
         {
          "location": "((1, 1), 'down')",
          "q_value": 0,
          "run": 35
         },
         {
          "location": "((1, 1), 'down')",
          "q_value": 0,
          "run": 36
         },
         {
          "location": "((1, 1), 'down')",
          "q_value": 0,
          "run": 37
         },
         {
          "location": "((1, 1), 'down')",
          "q_value": 0,
          "run": 38
         },
         {
          "location": "((1, 1), 'down')",
          "q_value": 0,
          "run": 39
         },
         {
          "location": "((1, 1), 'down')",
          "q_value": 0,
          "run": 40
         },
         {
          "location": "((1, 1), 'down')",
          "q_value": 0,
          "run": 41
         },
         {
          "location": "((1, 1), 'down')",
          "q_value": 0,
          "run": 42
         },
         {
          "location": "((1, 1), 'down')",
          "q_value": 0,
          "run": 43
         },
         {
          "location": "((1, 1), 'down')",
          "q_value": 0,
          "run": 44
         },
         {
          "location": "((1, 1), 'down')",
          "q_value": 0,
          "run": 45
         },
         {
          "location": "((1, 1), 'down')",
          "q_value": 0,
          "run": 46
         },
         {
          "location": "((1, 1), 'down')",
          "q_value": 0,
          "run": 47
         },
         {
          "location": "((1, 1), 'down')",
          "q_value": 0,
          "run": 48
         },
         {
          "location": "((1, 1), 'down')",
          "q_value": 0,
          "run": 49
         },
         {
          "location": "((1, 1), 'down')",
          "q_value": 0,
          "run": 50
         },
         {
          "location": "((1, 1), 'down')",
          "q_value": 0,
          "run": 51
         },
         {
          "location": "((1, 1), 'down')",
          "q_value": 0,
          "run": 52
         },
         {
          "location": "((1, 1), 'down')",
          "q_value": 0,
          "run": 53
         },
         {
          "location": "((1, 1), 'down')",
          "q_value": 0,
          "run": 54
         },
         {
          "location": "((1, 1), 'down')",
          "q_value": 0,
          "run": 55
         },
         {
          "location": "((1, 1), 'down')",
          "q_value": 0,
          "run": 56
         },
         {
          "location": "((1, 1), 'down')",
          "q_value": 0,
          "run": 57
         },
         {
          "location": "((1, 1), 'down')",
          "q_value": 0,
          "run": 58
         },
         {
          "location": "((1, 1), 'down')",
          "q_value": 0,
          "run": 59
         },
         {
          "location": "((1, 1), 'down')",
          "q_value": 0,
          "run": 60
         },
         {
          "location": "((1, 1), 'down')",
          "q_value": 0,
          "run": 61
         },
         {
          "location": "((1, 1), 'down')",
          "q_value": 0,
          "run": 62
         },
         {
          "location": "((1, 1), 'down')",
          "q_value": 0,
          "run": 63
         },
         {
          "location": "((1, 1), 'down')",
          "q_value": 0,
          "run": 64
         },
         {
          "location": "((1, 1), 'down')",
          "q_value": 0,
          "run": 65
         },
         {
          "location": "((1, 1), 'down')",
          "q_value": 0,
          "run": 66
         },
         {
          "location": "((1, 1), 'down')",
          "q_value": 0,
          "run": 67
         },
         {
          "location": "((1, 1), 'down')",
          "q_value": 0,
          "run": 68
         },
         {
          "location": "((1, 1), 'down')",
          "q_value": 0,
          "run": 69
         },
         {
          "location": "((1, 1), 'down')",
          "q_value": 0,
          "run": 70
         },
         {
          "location": "((1, 1), 'down')",
          "q_value": 0,
          "run": 71
         },
         {
          "location": "((1, 1), 'down')",
          "q_value": 0,
          "run": 72
         },
         {
          "location": "((1, 1), 'down')",
          "q_value": 0.09000000000000001,
          "run": 73
         },
         {
          "location": "((1, 1), 'down')",
          "q_value": 0.09000000000000001,
          "run": 74
         },
         {
          "location": "((1, 1), 'down')",
          "q_value": 0.09000000000000001,
          "run": 75
         },
         {
          "location": "((1, 1), 'down')",
          "q_value": 0.09000000000000001,
          "run": 76
         },
         {
          "location": "((1, 1), 'down')",
          "q_value": 0.09000000000000001,
          "run": 77
         },
         {
          "location": "((1, 1), 'down')",
          "q_value": 0.09000000000000001,
          "run": 78
         },
         {
          "location": "((1, 1), 'down')",
          "q_value": 0.09000000000000001,
          "run": 79
         },
         {
          "location": "((1, 1), 'down')",
          "q_value": 0.09000000000000001,
          "run": 80
         },
         {
          "location": "((1, 1), 'down')",
          "q_value": 0.09000000000000001,
          "run": 81
         },
         {
          "location": "((1, 1), 'down')",
          "q_value": 0.09000000000000001,
          "run": 82
         },
         {
          "location": "((1, 1), 'down')",
          "q_value": 0.09000000000000001,
          "run": 83
         },
         {
          "location": "((1, 1), 'down')",
          "q_value": 0.09000000000000001,
          "run": 84
         },
         {
          "location": "((1, 1), 'down')",
          "q_value": 0.09000000000000001,
          "run": 85
         },
         {
          "location": "((1, 1), 'down')",
          "q_value": 0.09000000000000001,
          "run": 86
         },
         {
          "location": "((1, 1), 'down')",
          "q_value": 0.09000000000000001,
          "run": 87
         },
         {
          "location": "((1, 1), 'down')",
          "q_value": 0.09000000000000001,
          "run": 88
         },
         {
          "location": "((1, 1), 'down')",
          "q_value": 0.09000000000000001,
          "run": 89
         },
         {
          "location": "((1, 1), 'down')",
          "q_value": 0.09000000000000001,
          "run": 90
         },
         {
          "location": "((1, 1), 'down')",
          "q_value": 0.09000000000000001,
          "run": 91
         },
         {
          "location": "((1, 1), 'down')",
          "q_value": 0.09000000000000001,
          "run": 92
         },
         {
          "location": "((1, 1), 'down')",
          "q_value": 0.09000000000000001,
          "run": 93
         },
         {
          "location": "((1, 1), 'down')",
          "q_value": 0.09000000000000001,
          "run": 94
         },
         {
          "location": "((1, 1), 'down')",
          "q_value": 0.09000000000000001,
          "run": 95
         },
         {
          "location": "((1, 1), 'down')",
          "q_value": 0.09000000000000001,
          "run": 96
         },
         {
          "location": "((1, 1), 'down')",
          "q_value": 0.09000000000000001,
          "run": 97
         },
         {
          "location": "((1, 1), 'down')",
          "q_value": 0.09000000000000001,
          "run": 98
         },
         {
          "location": "((1, 1), 'down')",
          "q_value": 0.09000000000000001,
          "run": 99
         },
         {
          "location": "((1, 1), 'down')",
          "q_value": 0.252,
          "run": 100
         },
         {
          "location": "((1, 1), 'right')",
          "q_value": 0,
          "run": 0
         },
         {
          "location": "((1, 1), 'right')",
          "q_value": 0,
          "run": 1
         },
         {
          "location": "((1, 1), 'right')",
          "q_value": 0,
          "run": 2
         },
         {
          "location": "((1, 1), 'right')",
          "q_value": 0,
          "run": 3
         },
         {
          "location": "((1, 1), 'right')",
          "q_value": 0.09000000000000001,
          "run": 4
         },
         {
          "location": "((1, 1), 'right')",
          "q_value": 0.252,
          "run": 5
         },
         {
          "location": "((1, 1), 'right')",
          "q_value": 0.4707,
          "run": 6
         },
         {
          "location": "((1, 1), 'right')",
          "q_value": 0.4707,
          "run": 7
         },
         {
          "location": "((1, 1), 'right')",
          "q_value": 0.792189,
          "run": 8
         },
         {
          "location": "((1, 1), 'right')",
          "q_value": 1.1346732000000002,
          "run": 9
         },
         {
          "location": "((1, 1), 'right')",
          "q_value": 1.4907386700000003,
          "run": 10
         },
         {
          "location": "((1, 1), 'right')",
          "q_value": 1.8542443140000002,
          "run": 11
         },
         {
          "location": "((1, 1), 'right')",
          "q_value": 2.2201414425,
          "run": 12
         },
         {
          "location": "((1, 1), 'right')",
          "q_value": 2.58431670216,
          "run": 13
         },
         {
          "location": "((1, 1), 'right')",
          "q_value": 2.943455495463,
          "run": 14
         },
         {
          "location": "((1, 1), 'right')",
          "q_value": 3.2949233630838,
          "run": 15
         },
         {
          "location": "((1, 1), 'right')",
          "q_value": 3.63666310222581,
          "run": 16
         },
         {
          "location": "((1, 1), 'right')",
          "q_value": 3.96710565990858,
          "run": 17
         },
         {
          "location": "((1, 1), 'right')",
          "q_value": 4.285093075032538,
          "run": 18
         },
         {
          "location": "((1, 1), 'right')",
          "q_value": 4.589811950532619,
          "run": 19
         },
         {
          "location": "((1, 1), 'right')",
          "q_value": 4.880736120182358,
          "run": 20
         },
         {
          "location": "((1, 1), 'right')",
          "q_value": 5.157577336396823,
          "run": 21
         },
         {
          "location": "((1, 1), 'right')",
          "q_value": 5.420242948166572,
          "run": 22
         },
         {
          "location": "((1, 1), 'right')",
          "q_value": 5.668799664218403,
          "run": 23
         },
         {
          "location": "((1, 1), 'right')",
          "q_value": 6.11462125660202,
          "run": 24
         },
         {
          "location": "((1, 1), 'right')",
          "q_value": 6.314529749745294,
          "run": 25
         },
         {
          "location": "((1, 1), 'right')",
          "q_value": 6.503310331693892,
          "run": 26
         },
         {
          "location": "((1, 1), 'right')",
          "q_value": 6.681189499755318,
          "run": 27
         },
         {
          "location": "((1, 1), 'right')",
          "q_value": 6.8484597308875195,
          "run": 28
         },
         {
          "location": "((1, 1), 'right')",
          "q_value": 7.146767881713115,
          "run": 29
         },
         {
          "location": "((1, 1), 'right')",
          "q_value": 7.279756330239067,
          "run": 30
         },
         {
          "location": "((1, 1), 'right')",
          "q_value": 7.404679410242698,
          "run": 31
         },
         {
          "location": "((1, 1), 'right')",
          "q_value": 7.5218203109432125,
          "run": 32
         },
         {
          "location": "((1, 1), 'right')",
          "q_value": 7.631486237401197,
          "run": 33
         },
         {
          "location": "((1, 1), 'right')",
          "q_value": 7.734000775458153,
          "run": 34
         },
         {
          "location": "((1, 1), 'right')",
          "q_value": 7.829697543529705,
          "run": 35
         },
         {
          "location": "((1, 1), 'right')",
          "q_value": 7.918914950232366,
          "run": 36
         },
         {
          "location": "((1, 1), 'right')",
          "q_value": 8.001991900159197,
          "run": 37
         },
         {
          "location": "((1, 1), 'right')",
          "q_value": 8.079264310598338,
          "run": 38
         },
         {
          "location": "((1, 1), 'right')",
          "q_value": 8.151062319948059,
          "run": 39
         },
         {
          "location": "((1, 1), 'right')",
          "q_value": 8.217708084321853,
          "run": 40
         },
         {
          "location": "((1, 1), 'right')",
          "q_value": 8.279514072621406,
          "run": 41
         },
         {
          "location": "((1, 1), 'right')",
          "q_value": 8.33678178241783,
          "run": 42
         },
         {
          "location": "((1, 1), 'right')",
          "q_value": 8.389800809528756,
          "run": 43
         },
         {
          "location": "((1, 1), 'right')",
          "q_value": 8.43884821339332,
          "run": 44
         },
         {
          "location": "((1, 1), 'right')",
          "q_value": 8.48418812838968,
          "run": 45
         },
         {
          "location": "((1, 1), 'right')",
          "q_value": 8.526071578252838,
          "run": 46
         },
         {
          "location": "((1, 1), 'right')",
          "q_value": 8.564736456859466,
          "run": 47
         },
         {
          "location": "((1, 1), 'right')",
          "q_value": 8.60040764396224,
          "run": 48
         },
         {
          "location": "((1, 1), 'right')",
          "q_value": 8.633297229075865,
          "run": 49
         },
         {
          "location": "((1, 1), 'right')",
          "q_value": 8.663604820727143,
          "run": 50
         },
         {
          "location": "((1, 1), 'right')",
          "q_value": 8.691517921757406,
          "run": 51
         },
         {
          "location": "((1, 1), 'right')",
          "q_value": 8.717212354374345,
          "run": 52
         },
         {
          "location": "((1, 1), 'right')",
          "q_value": 8.740852721250322,
          "run": 53
         },
         {
          "location": "((1, 1), 'right')",
          "q_value": 8.76259289120736,
          "run": 54
         },
         {
          "location": "((1, 1), 'right')",
          "q_value": 8.782576499960488,
          "run": 55
         },
         {
          "location": "((1, 1), 'right')",
          "q_value": 8.800937458050916,
          "run": 56
         },
         {
          "location": "((1, 1), 'right')",
          "q_value": 8.817800459523653,
          "run": 57
         },
         {
          "location": "((1, 1), 'right')",
          "q_value": 8.833281486121335,
          "run": 58
         },
         {
          "location": "((1, 1), 'right')",
          "q_value": 8.847488302804244,
          "run": 59
         },
         {
          "location": "((1, 1), 'right')",
          "q_value": 8.860520941289357,
          "run": 60
         },
         {
          "location": "((1, 1), 'right')",
          "q_value": 8.872472169049406,
          "run": 61
         },
         {
          "location": "((1, 1), 'right')",
          "q_value": 8.88342794184455,
          "run": 62
         },
         {
          "location": "((1, 1), 'right')",
          "q_value": 8.893467838390173,
          "run": 63
         },
         {
          "location": "((1, 1), 'right')",
          "q_value": 8.902665476208224,
          "run": 64
         },
         {
          "location": "((1, 1), 'right')",
          "q_value": 8.911088908078764,
          "run": 65
         },
         {
          "location": "((1, 1), 'right')",
          "q_value": 8.918800998813113,
          "run": 66
         },
         {
          "location": "((1, 1), 'right')",
          "q_value": 8.925859782319806,
          "run": 67
         },
         {
          "location": "((1, 1), 'right')",
          "q_value": 8.932318799137029,
          "run": 68
         },
         {
          "location": "((1, 1), 'right')",
          "q_value": 8.93822741476761,
          "run": 69
         },
         {
          "location": "((1, 1), 'right')",
          "q_value": 8.943631119280704,
          "run": 70
         },
         {
          "location": "((1, 1), 'right')",
          "q_value": 8.948571808743504,
          "run": 71
         },
         {
          "location": "((1, 1), 'right')",
          "q_value": 8.953088049120936,
          "run": 72
         },
         {
          "location": "((1, 1), 'right')",
          "q_value": 8.953088049120936,
          "run": 73
         },
         {
          "location": "((1, 1), 'right')",
          "q_value": 8.957215323335447,
          "run": 74
         },
         {
          "location": "((1, 1), 'right')",
          "q_value": 8.960986262215846,
          "run": 75
         },
         {
          "location": "((1, 1), 'right')",
          "q_value": 8.96443086008681,
          "run": 76
         },
         {
          "location": "((1, 1), 'right')",
          "q_value": 8.967576675761425,
          "run": 77
         },
         {
          "location": "((1, 1), 'right')",
          "q_value": 8.970449019700247,
          "run": 78
         },
         {
          "location": "((1, 1), 'right')",
          "q_value": 8.973071128093691,
          "run": 79
         },
         {
          "location": "((1, 1), 'right')",
          "q_value": 8.975464324611444,
          "run": 80
         },
         {
          "location": "((1, 1), 'right')",
          "q_value": 8.97764817054471,
          "run": 81
         },
         {
          "location": "((1, 1), 'right')",
          "q_value": 8.979640604045207,
          "run": 82
         },
         {
          "location": "((1, 1), 'right')",
          "q_value": 8.981458069140157,
          "run": 83
         },
         {
          "location": "((1, 1), 'right')",
          "q_value": 8.983115635175665,
          "run": 84
         },
         {
          "location": "((1, 1), 'right')",
          "q_value": 8.98462710731267,
          "run": 85
         },
         {
          "location": "((1, 1), 'right')",
          "q_value": 8.986005128670518,
          "run": 86
         },
         {
          "location": "((1, 1), 'right')",
          "q_value": 8.98726127468367,
          "run": 87
         },
         {
          "location": "((1, 1), 'right')",
          "q_value": 8.988406140207486,
          "run": 88
         },
         {
          "location": "((1, 1), 'right')",
          "q_value": 8.989449419879701,
          "run": 89
         },
         {
          "location": "((1, 1), 'right')",
          "q_value": 8.990399982215399,
          "run": 90
         },
         {
          "location": "((1, 1), 'right')",
          "q_value": 8.99126593788516,
          "run": 91
         },
         {
          "location": "((1, 1), 'right')",
          "q_value": 8.992054702598816,
          "run": 92
         },
         {
          "location": "((1, 1), 'right')",
          "q_value": 8.992773054990888,
          "run": 93
         },
         {
          "location": "((1, 1), 'right')",
          "q_value": 8.993427189878558,
          "run": 94
         },
         {
          "location": "((1, 1), 'right')",
          "q_value": 8.994022767238786,
          "run": 95
         },
         {
          "location": "((1, 1), 'right')",
          "q_value": 8.994564957228182,
          "run": 96
         },
         {
          "location": "((1, 1), 'right')",
          "q_value": 8.99505848154731,
          "run": 97
         },
         {
          "location": "((1, 1), 'right')",
          "q_value": 8.995507651430332,
          "run": 98
         },
         {
          "location": "((1, 1), 'right')",
          "q_value": 8.995916402521276,
          "run": 99
         },
         {
          "location": "((1, 1), 'right')",
          "q_value": 8.995916402521276,
          "run": 100
         },
         {
          "location": "((1, 1), 'up')",
          "q_value": 0,
          "run": 0
         },
         {
          "location": "((1, 1), 'up')",
          "q_value": 0,
          "run": 1
         },
         {
          "location": "((1, 1), 'up')",
          "q_value": 0,
          "run": 2
         },
         {
          "location": "((1, 1), 'up')",
          "q_value": 0,
          "run": 3
         },
         {
          "location": "((1, 1), 'up')",
          "q_value": 0,
          "run": 4
         },
         {
          "location": "((1, 1), 'up')",
          "q_value": 0,
          "run": 5
         },
         {
          "location": "((1, 1), 'up')",
          "q_value": 0,
          "run": 6
         },
         {
          "location": "((1, 1), 'up')",
          "q_value": 0,
          "run": 7
         },
         {
          "location": "((1, 1), 'up')",
          "q_value": 0,
          "run": 8
         },
         {
          "location": "((1, 1), 'up')",
          "q_value": 0,
          "run": 9
         },
         {
          "location": "((1, 1), 'up')",
          "q_value": 0,
          "run": 10
         },
         {
          "location": "((1, 1), 'up')",
          "q_value": 0,
          "run": 11
         },
         {
          "location": "((1, 1), 'up')",
          "q_value": 0,
          "run": 12
         },
         {
          "location": "((1, 1), 'up')",
          "q_value": 0,
          "run": 13
         },
         {
          "location": "((1, 1), 'up')",
          "q_value": 0,
          "run": 14
         },
         {
          "location": "((1, 1), 'up')",
          "q_value": 0,
          "run": 15
         },
         {
          "location": "((1, 1), 'up')",
          "q_value": 0,
          "run": 16
         },
         {
          "location": "((1, 1), 'up')",
          "q_value": 0,
          "run": 17
         },
         {
          "location": "((1, 1), 'up')",
          "q_value": 0,
          "run": 18
         },
         {
          "location": "((1, 1), 'up')",
          "q_value": 0,
          "run": 19
         },
         {
          "location": "((1, 1), 'up')",
          "q_value": 0,
          "run": 20
         },
         {
          "location": "((1, 1), 'up')",
          "q_value": 0,
          "run": 21
         },
         {
          "location": "((1, 1), 'up')",
          "q_value": 0,
          "run": 22
         },
         {
          "location": "((1, 1), 'up')",
          "q_value": 0,
          "run": 23
         },
         {
          "location": "((1, 1), 'up')",
          "q_value": 0,
          "run": 24
         },
         {
          "location": "((1, 1), 'up')",
          "q_value": 0.3109352088959916,
          "run": 25
         },
         {
          "location": "((1, 1), 'up')",
          "q_value": 0.3109352088959916,
          "run": 26
         },
         {
          "location": "((1, 1), 'up')",
          "q_value": 0.3109352088959916,
          "run": 27
         },
         {
          "location": "((1, 1), 'up')",
          "q_value": 0.3109352088959916,
          "run": 28
         },
         {
          "location": "((1, 1), 'up')",
          "q_value": 0.3109352088959916,
          "run": 29
         },
         {
          "location": "((1, 1), 'up')",
          "q_value": 0.6979402230872597,
          "run": 30
         },
         {
          "location": "((1, 1), 'up')",
          "q_value": 0.6979402230872597,
          "run": 31
         },
         {
          "location": "((1, 1), 'up')",
          "q_value": 1.0928773037948143,
          "run": 32
         },
         {
          "location": "((1, 1), 'up')",
          "q_value": 1.0928773037948143,
          "run": 33
         },
         {
          "location": "((1, 1), 'up')",
          "q_value": 1.0928773037948143,
          "run": 34
         },
         {
          "location": "((1, 1), 'up')",
          "q_value": 1.0928773037948143,
          "run": 35
         },
         {
          "location": "((1, 1), 'up')",
          "q_value": 1.0928773037948143,
          "run": 36
         },
         {
          "location": "((1, 1), 'up')",
          "q_value": 1.0928773037948143,
          "run": 37
         },
         {
          "location": "((1, 1), 'up')",
          "q_value": 1.0928773037948143,
          "run": 38
         },
         {
          "location": "((1, 1), 'up')",
          "q_value": 1.0928773037948143,
          "run": 39
         },
         {
          "location": "((1, 1), 'up')",
          "q_value": 1.0928773037948143,
          "run": 40
         },
         {
          "location": "((1, 1), 'up')",
          "q_value": 1.0928773037948143,
          "run": 41
         },
         {
          "location": "((1, 1), 'up')",
          "q_value": 1.0928773037948143,
          "run": 42
         },
         {
          "location": "((1, 1), 'up')",
          "q_value": 1.0928773037948143,
          "run": 43
         },
         {
          "location": "((1, 1), 'up')",
          "q_value": 1.0928773037948143,
          "run": 44
         },
         {
          "location": "((1, 1), 'up')",
          "q_value": 1.0928773037948143,
          "run": 45
         },
         {
          "location": "((1, 1), 'up')",
          "q_value": 1.0928773037948143,
          "run": 46
         },
         {
          "location": "((1, 1), 'up')",
          "q_value": 1.0928773037948143,
          "run": 47
         },
         {
          "location": "((1, 1), 'up')",
          "q_value": 1.0928773037948143,
          "run": 48
         },
         {
          "location": "((1, 1), 'up')",
          "q_value": 1.0928773037948143,
          "run": 49
         },
         {
          "location": "((1, 1), 'up')",
          "q_value": 1.0928773037948143,
          "run": 50
         },
         {
          "location": "((1, 1), 'up')",
          "q_value": 1.0928773037948143,
          "run": 51
         },
         {
          "location": "((1, 1), 'up')",
          "q_value": 1.0928773037948143,
          "run": 52
         },
         {
          "location": "((1, 1), 'up')",
          "q_value": 1.6458156117450855,
          "run": 53
         },
         {
          "location": "((1, 1), 'up')",
          "q_value": 1.6458156117450855,
          "run": 54
         },
         {
          "location": "((1, 1), 'up')",
          "q_value": 1.6458156117450855,
          "run": 55
         },
         {
          "location": "((1, 1), 'up')",
          "q_value": 1.6458156117450855,
          "run": 56
         },
         {
          "location": "((1, 1), 'up')",
          "q_value": 1.6458156117450855,
          "run": 57
         },
         {
          "location": "((1, 1), 'up')",
          "q_value": 1.6458156117450855,
          "run": 58
         },
         {
          "location": "((1, 1), 'up')",
          "q_value": 1.6458156117450855,
          "run": 59
         },
         {
          "location": "((1, 1), 'up')",
          "q_value": 1.6458156117450855,
          "run": 60
         },
         {
          "location": "((1, 1), 'up')",
          "q_value": 1.6458156117450855,
          "run": 61
         },
         {
          "location": "((1, 1), 'up')",
          "q_value": 1.6458156117450855,
          "run": 62
         },
         {
          "location": "((1, 1), 'up')",
          "q_value": 1.6458156117450855,
          "run": 63
         },
         {
          "location": "((1, 1), 'up')",
          "q_value": 1.6458156117450855,
          "run": 64
         },
         {
          "location": "((1, 1), 'up')",
          "q_value": 1.6458156117450855,
          "run": 65
         },
         {
          "location": "((1, 1), 'up')",
          "q_value": 1.6458156117450855,
          "run": 66
         },
         {
          "location": "((1, 1), 'up')",
          "q_value": 1.6458156117450855,
          "run": 67
         },
         {
          "location": "((1, 1), 'up')",
          "q_value": 1.6458156117450855,
          "run": 68
         },
         {
          "location": "((1, 1), 'up')",
          "q_value": 1.6458156117450855,
          "run": 69
         },
         {
          "location": "((1, 1), 'up')",
          "q_value": 1.6458156117450855,
          "run": 70
         },
         {
          "location": "((1, 1), 'up')",
          "q_value": 1.6458156117450855,
          "run": 71
         },
         {
          "location": "((1, 1), 'up')",
          "q_value": 1.6458156117450855,
          "run": 72
         },
         {
          "location": "((1, 1), 'up')",
          "q_value": 1.6458156117450855,
          "run": 73
         },
         {
          "location": "((1, 1), 'up')",
          "q_value": 1.6458156117450855,
          "run": 74
         },
         {
          "location": "((1, 1), 'up')",
          "q_value": 1.6458156117450855,
          "run": 75
         },
         {
          "location": "((1, 1), 'up')",
          "q_value": 1.6458156117450855,
          "run": 76
         },
         {
          "location": "((1, 1), 'up')",
          "q_value": 1.6458156117450855,
          "run": 77
         },
         {
          "location": "((1, 1), 'up')",
          "q_value": 1.6458156117450855,
          "run": 78
         },
         {
          "location": "((1, 1), 'up')",
          "q_value": 1.6458156117450855,
          "run": 79
         },
         {
          "location": "((1, 1), 'up')",
          "q_value": 1.6458156117450855,
          "run": 80
         },
         {
          "location": "((1, 1), 'up')",
          "q_value": 1.6458156117450855,
          "run": 81
         },
         {
          "location": "((1, 1), 'up')",
          "q_value": 1.6458156117450855,
          "run": 82
         },
         {
          "location": "((1, 1), 'up')",
          "q_value": 1.6458156117450855,
          "run": 83
         },
         {
          "location": "((1, 1), 'up')",
          "q_value": 1.6458156117450855,
          "run": 84
         },
         {
          "location": "((1, 1), 'up')",
          "q_value": 1.6458156117450855,
          "run": 85
         },
         {
          "location": "((1, 1), 'up')",
          "q_value": 1.6458156117450855,
          "run": 86
         },
         {
          "location": "((1, 1), 'up')",
          "q_value": 1.6458156117450855,
          "run": 87
         },
         {
          "location": "((1, 1), 'up')",
          "q_value": 1.6458156117450855,
          "run": 88
         },
         {
          "location": "((1, 1), 'up')",
          "q_value": 1.6458156117450855,
          "run": 89
         },
         {
          "location": "((1, 1), 'up')",
          "q_value": 1.6458156117450855,
          "run": 90
         },
         {
          "location": "((1, 1), 'up')",
          "q_value": 1.6458156117450855,
          "run": 91
         },
         {
          "location": "((1, 1), 'up')",
          "q_value": 1.6458156117450855,
          "run": 92
         },
         {
          "location": "((1, 1), 'up')",
          "q_value": 1.6458156117450855,
          "run": 93
         },
         {
          "location": "((1, 1), 'up')",
          "q_value": 1.6458156117450855,
          "run": 94
         },
         {
          "location": "((1, 1), 'up')",
          "q_value": 1.6458156117450855,
          "run": 95
         },
         {
          "location": "((1, 1), 'up')",
          "q_value": 1.6458156117450855,
          "run": 96
         },
         {
          "location": "((1, 1), 'up')",
          "q_value": 1.6458156117450855,
          "run": 97
         },
         {
          "location": "((1, 1), 'up')",
          "q_value": 1.6458156117450855,
          "run": 98
         },
         {
          "location": "((1, 1), 'up')",
          "q_value": 1.6458156117450855,
          "run": 99
         },
         {
          "location": "((1, 1), 'up')",
          "q_value": 1.6458156117450855,
          "run": 100
         },
         {
          "location": "((1, 1), 'left')",
          "q_value": 0,
          "run": 0
         },
         {
          "location": "((1, 1), 'left')",
          "q_value": 0,
          "run": 1
         },
         {
          "location": "((1, 1), 'left')",
          "q_value": 0,
          "run": 2
         },
         {
          "location": "((1, 1), 'left')",
          "q_value": 0,
          "run": 3
         },
         {
          "location": "((1, 1), 'left')",
          "q_value": 0,
          "run": 4
         },
         {
          "location": "((1, 1), 'left')",
          "q_value": 0,
          "run": 5
         },
         {
          "location": "((1, 1), 'left')",
          "q_value": 0,
          "run": 6
         },
         {
          "location": "((1, 1), 'left')",
          "q_value": 0,
          "run": 7
         },
         {
          "location": "((1, 1), 'left')",
          "q_value": 0,
          "run": 8
         },
         {
          "location": "((1, 1), 'left')",
          "q_value": 0,
          "run": 9
         },
         {
          "location": "((1, 1), 'left')",
          "q_value": 0,
          "run": 10
         },
         {
          "location": "((1, 1), 'left')",
          "q_value": 0,
          "run": 11
         },
         {
          "location": "((1, 1), 'left')",
          "q_value": 0,
          "run": 12
         },
         {
          "location": "((1, 1), 'left')",
          "q_value": 0,
          "run": 13
         },
         {
          "location": "((1, 1), 'left')",
          "q_value": 0,
          "run": 14
         },
         {
          "location": "((1, 1), 'left')",
          "q_value": 0,
          "run": 15
         },
         {
          "location": "((1, 1), 'left')",
          "q_value": 0,
          "run": 16
         },
         {
          "location": "((1, 1), 'left')",
          "q_value": 0,
          "run": 17
         },
         {
          "location": "((1, 1), 'left')",
          "q_value": 0,
          "run": 18
         },
         {
          "location": "((1, 1), 'left')",
          "q_value": 0,
          "run": 19
         },
         {
          "location": "((1, 1), 'left')",
          "q_value": 0,
          "run": 20
         },
         {
          "location": "((1, 1), 'left')",
          "q_value": 0,
          "run": 21
         },
         {
          "location": "((1, 1), 'left')",
          "q_value": 0,
          "run": 22
         },
         {
          "location": "((1, 1), 'left')",
          "q_value": 0,
          "run": 23
         },
         {
          "location": "((1, 1), 'left')",
          "q_value": 0,
          "run": 24
         },
         {
          "location": "((1, 1), 'left')",
          "q_value": 0,
          "run": 25
         },
         {
          "location": "((1, 1), 'left')",
          "q_value": 0,
          "run": 26
         },
         {
          "location": "((1, 1), 'left')",
          "q_value": 0,
          "run": 27
         },
         {
          "location": "((1, 1), 'left')",
          "q_value": 0,
          "run": 28
         },
         {
          "location": "((1, 1), 'left')",
          "q_value": 0,
          "run": 29
         },
         {
          "location": "((1, 1), 'left')",
          "q_value": 0.0007290000000000002,
          "run": 30
         },
         {
          "location": "((1, 1), 'left')",
          "q_value": 0.0007290000000000002,
          "run": 31
         },
         {
          "location": "((1, 1), 'left')",
          "q_value": 0.0007290000000000002,
          "run": 32
         },
         {
          "location": "((1, 1), 'left')",
          "q_value": 0.0007290000000000002,
          "run": 33
         },
         {
          "location": "((1, 1), 'left')",
          "q_value": 0.0007290000000000002,
          "run": 34
         },
         {
          "location": "((1, 1), 'left')",
          "q_value": 0.0007290000000000002,
          "run": 35
         },
         {
          "location": "((1, 1), 'left')",
          "q_value": 0.0007290000000000002,
          "run": 36
         },
         {
          "location": "((1, 1), 'left')",
          "q_value": 0.0007290000000000002,
          "run": 37
         },
         {
          "location": "((1, 1), 'left')",
          "q_value": 0.0007290000000000002,
          "run": 38
         },
         {
          "location": "((1, 1), 'left')",
          "q_value": 0.0007290000000000002,
          "run": 39
         },
         {
          "location": "((1, 1), 'left')",
          "q_value": 0.0007290000000000002,
          "run": 40
         },
         {
          "location": "((1, 1), 'left')",
          "q_value": 0.0007290000000000002,
          "run": 41
         },
         {
          "location": "((1, 1), 'left')",
          "q_value": 0.0007290000000000002,
          "run": 42
         },
         {
          "location": "((1, 1), 'left')",
          "q_value": 0.0007290000000000002,
          "run": 43
         },
         {
          "location": "((1, 1), 'left')",
          "q_value": 0.0007290000000000002,
          "run": 44
         },
         {
          "location": "((1, 1), 'left')",
          "q_value": 0.0007290000000000002,
          "run": 45
         },
         {
          "location": "((1, 1), 'left')",
          "q_value": 0.0007290000000000002,
          "run": 46
         },
         {
          "location": "((1, 1), 'left')",
          "q_value": 0.0007290000000000002,
          "run": 47
         },
         {
          "location": "((1, 1), 'left')",
          "q_value": 0.0007290000000000002,
          "run": 48
         },
         {
          "location": "((1, 1), 'left')",
          "q_value": 0.0007290000000000002,
          "run": 49
         },
         {
          "location": "((1, 1), 'left')",
          "q_value": 0.0007290000000000002,
          "run": 50
         },
         {
          "location": "((1, 1), 'left')",
          "q_value": 0.0007290000000000002,
          "run": 51
         },
         {
          "location": "((1, 1), 'left')",
          "q_value": 0.0007290000000000002,
          "run": 52
         },
         {
          "location": "((1, 1), 'left')",
          "q_value": 0.0007290000000000002,
          "run": 53
         },
         {
          "location": "((1, 1), 'left')",
          "q_value": 0.0007290000000000002,
          "run": 54
         },
         {
          "location": "((1, 1), 'left')",
          "q_value": 0.0007290000000000002,
          "run": 55
         },
         {
          "location": "((1, 1), 'left')",
          "q_value": 0.0007290000000000002,
          "run": 56
         },
         {
          "location": "((1, 1), 'left')",
          "q_value": 0.0007290000000000002,
          "run": 57
         },
         {
          "location": "((1, 1), 'left')",
          "q_value": 0.0007290000000000002,
          "run": 58
         },
         {
          "location": "((1, 1), 'left')",
          "q_value": 0.0007290000000000002,
          "run": 59
         },
         {
          "location": "((1, 1), 'left')",
          "q_value": 0.0007290000000000002,
          "run": 60
         },
         {
          "location": "((1, 1), 'left')",
          "q_value": 0.0007290000000000002,
          "run": 61
         },
         {
          "location": "((1, 1), 'left')",
          "q_value": 0.0007290000000000002,
          "run": 62
         },
         {
          "location": "((1, 1), 'left')",
          "q_value": 0.0007290000000000002,
          "run": 63
         },
         {
          "location": "((1, 1), 'left')",
          "q_value": 0.0007290000000000002,
          "run": 64
         },
         {
          "location": "((1, 1), 'left')",
          "q_value": 0.0007290000000000002,
          "run": 65
         },
         {
          "location": "((1, 1), 'left')",
          "q_value": 0.0007290000000000002,
          "run": 66
         },
         {
          "location": "((1, 1), 'left')",
          "q_value": 0.0007290000000000002,
          "run": 67
         },
         {
          "location": "((1, 1), 'left')",
          "q_value": 0.0007290000000000002,
          "run": 68
         },
         {
          "location": "((1, 1), 'left')",
          "q_value": 0.0007290000000000002,
          "run": 69
         },
         {
          "location": "((1, 1), 'left')",
          "q_value": 0.0007290000000000002,
          "run": 70
         },
         {
          "location": "((1, 1), 'left')",
          "q_value": 0.0007290000000000002,
          "run": 71
         },
         {
          "location": "((1, 1), 'left')",
          "q_value": 0.0007290000000000002,
          "run": 72
         },
         {
          "location": "((1, 1), 'left')",
          "q_value": 0.0007290000000000002,
          "run": 73
         },
         {
          "location": "((1, 1), 'left')",
          "q_value": 0.0007290000000000002,
          "run": 74
         },
         {
          "location": "((1, 1), 'left')",
          "q_value": 0.0007290000000000002,
          "run": 75
         },
         {
          "location": "((1, 1), 'left')",
          "q_value": 0.0007290000000000002,
          "run": 76
         },
         {
          "location": "((1, 1), 'left')",
          "q_value": 0.0007290000000000002,
          "run": 77
         },
         {
          "location": "((1, 1), 'left')",
          "q_value": 0.0007290000000000002,
          "run": 78
         },
         {
          "location": "((1, 1), 'left')",
          "q_value": 0.0007290000000000002,
          "run": 79
         },
         {
          "location": "((1, 1), 'left')",
          "q_value": 0.12600716491726063,
          "run": 80
         },
         {
          "location": "((1, 1), 'left')",
          "q_value": 0.12600716491726063,
          "run": 81
         },
         {
          "location": "((1, 1), 'left')",
          "q_value": 0.12600716491726063,
          "run": 82
         },
         {
          "location": "((1, 1), 'left')",
          "q_value": 0.12600716491726063,
          "run": 83
         },
         {
          "location": "((1, 1), 'left')",
          "q_value": 0.12600716491726063,
          "run": 84
         },
         {
          "location": "((1, 1), 'left')",
          "q_value": 0.12600716491726063,
          "run": 85
         },
         {
          "location": "((1, 1), 'left')",
          "q_value": 0.12600716491726063,
          "run": 86
         },
         {
          "location": "((1, 1), 'left')",
          "q_value": 0.12600716491726063,
          "run": 87
         },
         {
          "location": "((1, 1), 'left')",
          "q_value": 0.12600716491726063,
          "run": 88
         },
         {
          "location": "((1, 1), 'left')",
          "q_value": 0.12600716491726063,
          "run": 89
         },
         {
          "location": "((1, 1), 'left')",
          "q_value": 0.12600716491726063,
          "run": 90
         },
         {
          "location": "((1, 1), 'left')",
          "q_value": 0.35317673938826344,
          "run": 91
         },
         {
          "location": "((1, 1), 'left')",
          "q_value": 0.35317673938826344,
          "run": 92
         },
         {
          "location": "((1, 1), 'left')",
          "q_value": 0.35317673938826344,
          "run": 93
         },
         {
          "location": "((1, 1), 'left')",
          "q_value": 0.35317673938826344,
          "run": 94
         },
         {
          "location": "((1, 1), 'left')",
          "q_value": 0.35317673938826344,
          "run": 95
         },
         {
          "location": "((1, 1), 'left')",
          "q_value": 0.35317673938826344,
          "run": 96
         },
         {
          "location": "((1, 1), 'left')",
          "q_value": 0.35317673938826344,
          "run": 97
         },
         {
          "location": "((1, 1), 'left')",
          "q_value": 0.35317673938826344,
          "run": 98
         },
         {
          "location": "((1, 1), 'left')",
          "q_value": 0.35317673938826344,
          "run": 99
         },
         {
          "location": "((1, 1), 'left')",
          "q_value": 0.35317673938826344,
          "run": 100
         },
         {
          "location": "((1, 2), 'down')",
          "q_value": 0,
          "run": 0
         },
         {
          "location": "((1, 2), 'down')",
          "q_value": 0,
          "run": 1
         },
         {
          "location": "((1, 2), 'down')",
          "q_value": 0,
          "run": 2
         },
         {
          "location": "((1, 2), 'down')",
          "q_value": 1,
          "run": 3
         },
         {
          "location": "((1, 2), 'down')",
          "q_value": 1.9,
          "run": 4
         },
         {
          "location": "((1, 2), 'down')",
          "q_value": 2.71,
          "run": 5
         },
         {
          "location": "((1, 2), 'down')",
          "q_value": 3.439,
          "run": 6
         },
         {
          "location": "((1, 2), 'down')",
          "q_value": 4.0951,
          "run": 7
         },
         {
          "location": "((1, 2), 'down')",
          "q_value": 4.68559,
          "run": 8
         },
         {
          "location": "((1, 2), 'down')",
          "q_value": 5.217031,
          "run": 9
         },
         {
          "location": "((1, 2), 'down')",
          "q_value": 5.6953279000000006,
          "run": 10
         },
         {
          "location": "((1, 2), 'down')",
          "q_value": 6.12579511,
          "run": 11
         },
         {
          "location": "((1, 2), 'down')",
          "q_value": 6.5132155990000005,
          "run": 12
         },
         {
          "location": "((1, 2), 'down')",
          "q_value": 6.8618940391,
          "run": 13
         },
         {
          "location": "((1, 2), 'down')",
          "q_value": 7.17570463519,
          "run": 14
         },
         {
          "location": "((1, 2), 'down')",
          "q_value": 7.4581341716709995,
          "run": 15
         },
         {
          "location": "((1, 2), 'down')",
          "q_value": 7.712320754503899,
          "run": 16
         },
         {
          "location": "((1, 2), 'down')",
          "q_value": 7.941088679053509,
          "run": 17
         },
         {
          "location": "((1, 2), 'down')",
          "q_value": 8.146979811148158,
          "run": 18
         },
         {
          "location": "((1, 2), 'down')",
          "q_value": 8.332281830033342,
          "run": 19
         },
         {
          "location": "((1, 2), 'down')",
          "q_value": 8.499053647030008,
          "run": 20
         },
         {
          "location": "((1, 2), 'down')",
          "q_value": 8.649148282327008,
          "run": 21
         },
         {
          "location": "((1, 2), 'down')",
          "q_value": 8.784233454094307,
          "run": 22
         },
         {
          "location": "((1, 2), 'down')",
          "q_value": 8.905810108684877,
          "run": 23
         },
         {
          "location": "((1, 2), 'down')",
          "q_value": 9.01522909781639,
          "run": 24
         },
         {
          "location": "((1, 2), 'down')",
          "q_value": 9.113706188034751,
          "run": 25
         },
         {
          "location": "((1, 2), 'down')",
          "q_value": 9.202335569231275,
          "run": 26
         },
         {
          "location": "((1, 2), 'down')",
          "q_value": 9.282102012308147,
          "run": 27
         },
         {
          "location": "((1, 2), 'down')",
          "q_value": 9.353891811077332,
          "run": 28
         },
         {
          "location": "((1, 2), 'down')",
          "q_value": 9.418502629969598,
          "run": 29
         },
         {
          "location": "((1, 2), 'down')",
          "q_value": 9.476652366972639,
          "run": 30
         },
         {
          "location": "((1, 2), 'down')",
          "q_value": 9.528987130275375,
          "run": 31
         },
         {
          "location": "((1, 2), 'down')",
          "q_value": 9.576088417247838,
          "run": 32
         },
         {
          "location": "((1, 2), 'down')",
          "q_value": 9.618479575523054,
          "run": 33
         },
         {
          "location": "((1, 2), 'down')",
          "q_value": 9.65663161797075,
          "run": 34
         },
         {
          "location": "((1, 2), 'down')",
          "q_value": 9.690968456173675,
          "run": 35
         },
         {
          "location": "((1, 2), 'down')",
          "q_value": 9.721871610556308,
          "run": 36
         },
         {
          "location": "((1, 2), 'down')",
          "q_value": 9.749684449500677,
          "run": 37
         },
         {
          "location": "((1, 2), 'down')",
          "q_value": 9.774716004550609,
          "run": 38
         },
         {
          "location": "((1, 2), 'down')",
          "q_value": 9.797244404095547,
          "run": 39
         },
         {
          "location": "((1, 2), 'down')",
          "q_value": 9.817519963685992,
          "run": 40
         },
         {
          "location": "((1, 2), 'down')",
          "q_value": 9.835767967317393,
          "run": 41
         },
         {
          "location": "((1, 2), 'down')",
          "q_value": 9.852191170585654,
          "run": 42
         },
         {
          "location": "((1, 2), 'down')",
          "q_value": 9.866972053527089,
          "run": 43
         },
         {
          "location": "((1, 2), 'down')",
          "q_value": 9.88027484817438,
          "run": 44
         },
         {
          "location": "((1, 2), 'down')",
          "q_value": 9.892247363356942,
          "run": 45
         },
         {
          "location": "((1, 2), 'down')",
          "q_value": 9.903022627021247,
          "run": 46
         },
         {
          "location": "((1, 2), 'down')",
          "q_value": 9.912720364319123,
          "run": 47
         },
         {
          "location": "((1, 2), 'down')",
          "q_value": 9.92144832788721,
          "run": 48
         },
         {
          "location": "((1, 2), 'down')",
          "q_value": 9.92930349509849,
          "run": 49
         },
         {
          "location": "((1, 2), 'down')",
          "q_value": 9.93637314558864,
          "run": 50
         },
         {
          "location": "((1, 2), 'down')",
          "q_value": 9.942735831029776,
          "run": 51
         },
         {
          "location": "((1, 2), 'down')",
          "q_value": 9.948462247926798,
          "run": 52
         },
         {
          "location": "((1, 2), 'down')",
          "q_value": 9.953616023134119,
          "run": 53
         },
         {
          "location": "((1, 2), 'down')",
          "q_value": 9.958254420820706,
          "run": 54
         },
         {
          "location": "((1, 2), 'down')",
          "q_value": 9.962428978738636,
          "run": 55
         },
         {
          "location": "((1, 2), 'down')",
          "q_value": 9.966186080864773,
          "run": 56
         },
         {
          "location": "((1, 2), 'down')",
          "q_value": 9.969567472778296,
          "run": 57
         },
         {
          "location": "((1, 2), 'down')",
          "q_value": 9.972610725500466,
          "run": 58
         },
         {
          "location": "((1, 2), 'down')",
          "q_value": 9.97534965295042,
          "run": 59
         },
         {
          "location": "((1, 2), 'down')",
          "q_value": 9.977814687655378,
          "run": 60
         },
         {
          "location": "((1, 2), 'down')",
          "q_value": 9.98003321888984,
          "run": 61
         },
         {
          "location": "((1, 2), 'down')",
          "q_value": 9.982029897000857,
          "run": 62
         },
         {
          "location": "((1, 2), 'down')",
          "q_value": 9.98382690730077,
          "run": 63
         },
         {
          "location": "((1, 2), 'down')",
          "q_value": 9.985444216570693,
          "run": 64
         },
         {
          "location": "((1, 2), 'down')",
          "q_value": 9.986899794913624,
          "run": 65
         },
         {
          "location": "((1, 2), 'down')",
          "q_value": 9.988209815422262,
          "run": 66
         },
         {
          "location": "((1, 2), 'down')",
          "q_value": 9.989388833880037,
          "run": 67
         },
         {
          "location": "((1, 2), 'down')",
          "q_value": 9.990449950492033,
          "run": 68
         },
         {
          "location": "((1, 2), 'down')",
          "q_value": 9.99140495544283,
          "run": 69
         },
         {
          "location": "((1, 2), 'down')",
          "q_value": 9.992264459898546,
          "run": 70
         },
         {
          "location": "((1, 2), 'down')",
          "q_value": 9.993038013908691,
          "run": 71
         },
         {
          "location": "((1, 2), 'down')",
          "q_value": 9.993734212517822,
          "run": 72
         },
         {
          "location": "((1, 2), 'down')",
          "q_value": 9.993734212517822,
          "run": 73
         },
         {
          "location": "((1, 2), 'down')",
          "q_value": 9.99436079126604,
          "run": 74
         },
         {
          "location": "((1, 2), 'down')",
          "q_value": 9.994924712139436,
          "run": 75
         },
         {
          "location": "((1, 2), 'down')",
          "q_value": 9.995432240925492,
          "run": 76
         },
         {
          "location": "((1, 2), 'down')",
          "q_value": 9.995889016832942,
          "run": 77
         },
         {
          "location": "((1, 2), 'down')",
          "q_value": 9.996300115149648,
          "run": 78
         },
         {
          "location": "((1, 2), 'down')",
          "q_value": 9.996670103634683,
          "run": 79
         },
         {
          "location": "((1, 2), 'down')",
          "q_value": 9.997003093271214,
          "run": 80
         },
         {
          "location": "((1, 2), 'down')",
          "q_value": 9.997302783944093,
          "run": 81
         },
         {
          "location": "((1, 2), 'down')",
          "q_value": 9.997572505549684,
          "run": 82
         },
         {
          "location": "((1, 2), 'down')",
          "q_value": 9.997815254994716,
          "run": 83
         },
         {
          "location": "((1, 2), 'down')",
          "q_value": 9.998033729495244,
          "run": 84
         },
         {
          "location": "((1, 2), 'down')",
          "q_value": 9.99823035654572,
          "run": 85
         },
         {
          "location": "((1, 2), 'down')",
          "q_value": 9.998407320891149,
          "run": 86
         },
         {
          "location": "((1, 2), 'down')",
          "q_value": 9.998566588802033,
          "run": 87
         },
         {
          "location": "((1, 2), 'down')",
          "q_value": 9.99870992992183,
          "run": 88
         },
         {
          "location": "((1, 2), 'down')",
          "q_value": 9.998838936929648,
          "run": 89
         },
         {
          "location": "((1, 2), 'down')",
          "q_value": 9.998955043236682,
          "run": 90
         },
         {
          "location": "((1, 2), 'down')",
          "q_value": 9.999059538913015,
          "run": 91
         },
         {
          "location": "((1, 2), 'down')",
          "q_value": 9.999153585021713,
          "run": 92
         },
         {
          "location": "((1, 2), 'down')",
          "q_value": 9.999238226519541,
          "run": 93
         },
         {
          "location": "((1, 2), 'down')",
          "q_value": 9.999314403867587,
          "run": 94
         },
         {
          "location": "((1, 2), 'down')",
          "q_value": 9.999382963480828,
          "run": 95
         },
         {
          "location": "((1, 2), 'down')",
          "q_value": 9.999444667132746,
          "run": 96
         },
         {
          "location": "((1, 2), 'down')",
          "q_value": 9.99950020041947,
          "run": 97
         },
         {
          "location": "((1, 2), 'down')",
          "q_value": 9.999550180377524,
          "run": 98
         },
         {
          "location": "((1, 2), 'down')",
          "q_value": 9.999595162339771,
          "run": 99
         },
         {
          "location": "((1, 2), 'down')",
          "q_value": 9.999595162339771,
          "run": 100
         },
         {
          "location": "((1, 2), 'right')",
          "q_value": 0,
          "run": 0
         },
         {
          "location": "((1, 2), 'right')",
          "q_value": 0,
          "run": 1
         },
         {
          "location": "((1, 2), 'right')",
          "q_value": 0,
          "run": 2
         },
         {
          "location": "((1, 2), 'right')",
          "q_value": 0,
          "run": 3
         },
         {
          "location": "((1, 2), 'right')",
          "q_value": 0,
          "run": 4
         },
         {
          "location": "((1, 2), 'right')",
          "q_value": 0,
          "run": 5
         },
         {
          "location": "((1, 2), 'right')",
          "q_value": 0,
          "run": 6
         },
         {
          "location": "((1, 2), 'right')",
          "q_value": 0,
          "run": 7
         },
         {
          "location": "((1, 2), 'right')",
          "q_value": 0,
          "run": 8
         },
         {
          "location": "((1, 2), 'right')",
          "q_value": 0,
          "run": 9
         },
         {
          "location": "((1, 2), 'right')",
          "q_value": 0,
          "run": 10
         },
         {
          "location": "((1, 2), 'right')",
          "q_value": 0,
          "run": 11
         },
         {
          "location": "((1, 2), 'right')",
          "q_value": 0,
          "run": 12
         },
         {
          "location": "((1, 2), 'right')",
          "q_value": 0,
          "run": 13
         },
         {
          "location": "((1, 2), 'right')",
          "q_value": 0,
          "run": 14
         },
         {
          "location": "((1, 2), 'right')",
          "q_value": 0,
          "run": 15
         },
         {
          "location": "((1, 2), 'right')",
          "q_value": 0,
          "run": 16
         },
         {
          "location": "((1, 2), 'right')",
          "q_value": 0,
          "run": 17
         },
         {
          "location": "((1, 2), 'right')",
          "q_value": 0,
          "run": 18
         },
         {
          "location": "((1, 2), 'right')",
          "q_value": 0,
          "run": 19
         },
         {
          "location": "((1, 2), 'right')",
          "q_value": 0,
          "run": 20
         },
         {
          "location": "((1, 2), 'right')",
          "q_value": 0,
          "run": 21
         },
         {
          "location": "((1, 2), 'right')",
          "q_value": 0,
          "run": 22
         },
         {
          "location": "((1, 2), 'right')",
          "q_value": 0,
          "run": 23
         },
         {
          "location": "((1, 2), 'right')",
          "q_value": 0,
          "run": 24
         },
         {
          "location": "((1, 2), 'right')",
          "q_value": 0,
          "run": 25
         },
         {
          "location": "((1, 2), 'right')",
          "q_value": 0,
          "run": 26
         },
         {
          "location": "((1, 2), 'right')",
          "q_value": 0,
          "run": 27
         },
         {
          "location": "((1, 2), 'right')",
          "q_value": 0,
          "run": 28
         },
         {
          "location": "((1, 2), 'right')",
          "q_value": 0,
          "run": 29
         },
         {
          "location": "((1, 2), 'right')",
          "q_value": 0.027855900000000003,
          "run": 30
         },
         {
          "location": "((1, 2), 'right')",
          "q_value": 0.027855900000000003,
          "run": 31
         },
         {
          "location": "((1, 2), 'right')",
          "q_value": 0.027855900000000003,
          "run": 32
         },
         {
          "location": "((1, 2), 'right')",
          "q_value": 0.027855900000000003,
          "run": 33
         },
         {
          "location": "((1, 2), 'right')",
          "q_value": 0.027855900000000003,
          "run": 34
         },
         {
          "location": "((1, 2), 'right')",
          "q_value": 0.027855900000000003,
          "run": 35
         },
         {
          "location": "((1, 2), 'right')",
          "q_value": 0.027855900000000003,
          "run": 36
         },
         {
          "location": "((1, 2), 'right')",
          "q_value": 0.027855900000000003,
          "run": 37
         },
         {
          "location": "((1, 2), 'right')",
          "q_value": 0.027855900000000003,
          "run": 38
         },
         {
          "location": "((1, 2), 'right')",
          "q_value": 0.027855900000000003,
          "run": 39
         },
         {
          "location": "((1, 2), 'right')",
          "q_value": 0.027855900000000003,
          "run": 40
         },
         {
          "location": "((1, 2), 'right')",
          "q_value": 0.027855900000000003,
          "run": 41
         },
         {
          "location": "((1, 2), 'right')",
          "q_value": 0.027855900000000003,
          "run": 42
         },
         {
          "location": "((1, 2), 'right')",
          "q_value": 0.027855900000000003,
          "run": 43
         },
         {
          "location": "((1, 2), 'right')",
          "q_value": 0.027855900000000003,
          "run": 44
         },
         {
          "location": "((1, 2), 'right')",
          "q_value": 0.027855900000000003,
          "run": 45
         },
         {
          "location": "((1, 2), 'right')",
          "q_value": 0.12643049130275374,
          "run": 46
         },
         {
          "location": "((1, 2), 'right')",
          "q_value": 0.12643049130275374,
          "run": 47
         },
         {
          "location": "((1, 2), 'right')",
          "q_value": 0.12643049130275374,
          "run": 48
         },
         {
          "location": "((1, 2), 'right')",
          "q_value": 0.12643049130275374,
          "run": 49
         },
         {
          "location": "((1, 2), 'right')",
          "q_value": 0.12643049130275374,
          "run": 50
         },
         {
          "location": "((1, 2), 'right')",
          "q_value": 0.12643049130275374,
          "run": 51
         },
         {
          "location": "((1, 2), 'right')",
          "q_value": 0.12643049130275374,
          "run": 52
         },
         {
          "location": "((1, 2), 'right')",
          "q_value": 0.12643049130275374,
          "run": 53
         },
         {
          "location": "((1, 2), 'right')",
          "q_value": 0.12643049130275374,
          "run": 54
         },
         {
          "location": "((1, 2), 'right')",
          "q_value": 0.12643049130275374,
          "run": 55
         },
         {
          "location": "((1, 2), 'right')",
          "q_value": 0.12643049130275374,
          "run": 56
         },
         {
          "location": "((1, 2), 'right')",
          "q_value": 0.12643049130275374,
          "run": 57
         },
         {
          "location": "((1, 2), 'right')",
          "q_value": 0.12643049130275374,
          "run": 58
         },
         {
          "location": "((1, 2), 'right')",
          "q_value": 0.12643049130275374,
          "run": 59
         },
         {
          "location": "((1, 2), 'right')",
          "q_value": 0.12643049130275374,
          "run": 60
         },
         {
          "location": "((1, 2), 'right')",
          "q_value": 0.12643049130275374,
          "run": 61
         },
         {
          "location": "((1, 2), 'right')",
          "q_value": 0.12643049130275374,
          "run": 62
         },
         {
          "location": "((1, 2), 'right')",
          "q_value": 0.12643049130275374,
          "run": 63
         },
         {
          "location": "((1, 2), 'right')",
          "q_value": 0.12643049130275374,
          "run": 64
         },
         {
          "location": "((1, 2), 'right')",
          "q_value": 0.12643049130275374,
          "run": 65
         },
         {
          "location": "((1, 2), 'right')",
          "q_value": 0.12643049130275374,
          "run": 66
         },
         {
          "location": "((1, 2), 'right')",
          "q_value": 0.12643049130275374,
          "run": 67
         },
         {
          "location": "((1, 2), 'right')",
          "q_value": 0.12643049130275374,
          "run": 68
         },
         {
          "location": "((1, 2), 'right')",
          "q_value": 0.12643049130275374,
          "run": 69
         },
         {
          "location": "((1, 2), 'right')",
          "q_value": 0.12643049130275374,
          "run": 70
         },
         {
          "location": "((1, 2), 'right')",
          "q_value": 0.12643049130275374,
          "run": 71
         },
         {
          "location": "((1, 2), 'right')",
          "q_value": 0.12643049130275374,
          "run": 72
         },
         {
          "location": "((1, 2), 'right')",
          "q_value": 0.12643049130275374,
          "run": 73
         },
         {
          "location": "((1, 2), 'right')",
          "q_value": 0.12643049130275374,
          "run": 74
         },
         {
          "location": "((1, 2), 'right')",
          "q_value": 0.12643049130275374,
          "run": 75
         },
         {
          "location": "((1, 2), 'right')",
          "q_value": 0.12643049130275374,
          "run": 76
         },
         {
          "location": "((1, 2), 'right')",
          "q_value": 0.12643049130275374,
          "run": 77
         },
         {
          "location": "((1, 2), 'right')",
          "q_value": 0.12643049130275374,
          "run": 78
         },
         {
          "location": "((1, 2), 'right')",
          "q_value": 0.12643049130275374,
          "run": 79
         },
         {
          "location": "((1, 2), 'right')",
          "q_value": 0.12643049130275374,
          "run": 80
         },
         {
          "location": "((1, 2), 'right')",
          "q_value": 0.12643049130275374,
          "run": 81
         },
         {
          "location": "((1, 2), 'right')",
          "q_value": 0.12643049130275374,
          "run": 82
         },
         {
          "location": "((1, 2), 'right')",
          "q_value": 0.12643049130275374,
          "run": 83
         },
         {
          "location": "((1, 2), 'right')",
          "q_value": 0.12643049130275374,
          "run": 84
         },
         {
          "location": "((1, 2), 'right')",
          "q_value": 0.12643049130275374,
          "run": 85
         },
         {
          "location": "((1, 2), 'right')",
          "q_value": 0.12643049130275374,
          "run": 86
         },
         {
          "location": "((1, 2), 'right')",
          "q_value": 0.12643049130275374,
          "run": 87
         },
         {
          "location": "((1, 2), 'right')",
          "q_value": 0.12643049130275374,
          "run": 88
         },
         {
          "location": "((1, 2), 'right')",
          "q_value": 0.12643049130275374,
          "run": 89
         },
         {
          "location": "((1, 2), 'right')",
          "q_value": 0.12643049130275374,
          "run": 90
         },
         {
          "location": "((1, 2), 'right')",
          "q_value": 0.12643049130275374,
          "run": 91
         },
         {
          "location": "((1, 2), 'right')",
          "q_value": 0.12643049130275374,
          "run": 92
         },
         {
          "location": "((1, 2), 'right')",
          "q_value": 0.12643049130275374,
          "run": 93
         },
         {
          "location": "((1, 2), 'right')",
          "q_value": 0.12643049130275374,
          "run": 94
         },
         {
          "location": "((1, 2), 'right')",
          "q_value": 0.12643049130275374,
          "run": 95
         },
         {
          "location": "((1, 2), 'right')",
          "q_value": 0.12643049130275374,
          "run": 96
         },
         {
          "location": "((1, 2), 'right')",
          "q_value": 0.12643049130275374,
          "run": 97
         },
         {
          "location": "((1, 2), 'right')",
          "q_value": 0.12643049130275374,
          "run": 98
         },
         {
          "location": "((1, 2), 'right')",
          "q_value": 0.12643049130275374,
          "run": 99
         },
         {
          "location": "((1, 2), 'right')",
          "q_value": 0.12643049130275374,
          "run": 100
         },
         {
          "location": "((1, 2), 'up')",
          "q_value": 0,
          "run": 0
         },
         {
          "location": "((1, 2), 'up')",
          "q_value": 0,
          "run": 1
         },
         {
          "location": "((1, 2), 'up')",
          "q_value": 0,
          "run": 2
         },
         {
          "location": "((1, 2), 'up')",
          "q_value": 0,
          "run": 3
         },
         {
          "location": "((1, 2), 'up')",
          "q_value": 0,
          "run": 4
         },
         {
          "location": "((1, 2), 'up')",
          "q_value": 0,
          "run": 5
         },
         {
          "location": "((1, 2), 'up')",
          "q_value": 0,
          "run": 6
         },
         {
          "location": "((1, 2), 'up')",
          "q_value": 0,
          "run": 7
         },
         {
          "location": "((1, 2), 'up')",
          "q_value": 0,
          "run": 8
         },
         {
          "location": "((1, 2), 'up')",
          "q_value": 0,
          "run": 9
         },
         {
          "location": "((1, 2), 'up')",
          "q_value": 0,
          "run": 10
         },
         {
          "location": "((1, 2), 'up')",
          "q_value": 0,
          "run": 11
         },
         {
          "location": "((1, 2), 'up')",
          "q_value": 0,
          "run": 12
         },
         {
          "location": "((1, 2), 'up')",
          "q_value": 0,
          "run": 13
         },
         {
          "location": "((1, 2), 'up')",
          "q_value": 0,
          "run": 14
         },
         {
          "location": "((1, 2), 'up')",
          "q_value": 0,
          "run": 15
         },
         {
          "location": "((1, 2), 'up')",
          "q_value": 0,
          "run": 16
         },
         {
          "location": "((1, 2), 'up')",
          "q_value": 0,
          "run": 17
         },
         {
          "location": "((1, 2), 'up')",
          "q_value": 0,
          "run": 18
         },
         {
          "location": "((1, 2), 'up')",
          "q_value": 0,
          "run": 19
         },
         {
          "location": "((1, 2), 'up')",
          "q_value": 0,
          "run": 20
         },
         {
          "location": "((1, 2), 'up')",
          "q_value": 0,
          "run": 21
         },
         {
          "location": "((1, 2), 'up')",
          "q_value": 0,
          "run": 22
         },
         {
          "location": "((1, 2), 'up')",
          "q_value": 0,
          "run": 23
         },
         {
          "location": "((1, 2), 'up')",
          "q_value": 0,
          "run": 24
         },
         {
          "location": "((1, 2), 'up')",
          "q_value": 0,
          "run": 25
         },
         {
          "location": "((1, 2), 'up')",
          "q_value": 0,
          "run": 26
         },
         {
          "location": "((1, 2), 'up')",
          "q_value": 0,
          "run": 27
         },
         {
          "location": "((1, 2), 'up')",
          "q_value": 0,
          "run": 28
         },
         {
          "location": "((1, 2), 'up')",
          "q_value": 0,
          "run": 29
         },
         {
          "location": "((1, 2), 'up')",
          "q_value": 0,
          "run": 30
         },
         {
          "location": "((1, 2), 'up')",
          "q_value": 0,
          "run": 31
         },
         {
          "location": "((1, 2), 'up')",
          "q_value": 0,
          "run": 32
         },
         {
          "location": "((1, 2), 'up')",
          "q_value": 0,
          "run": 33
         },
         {
          "location": "((1, 2), 'up')",
          "q_value": 0,
          "run": 34
         },
         {
          "location": "((1, 2), 'up')",
          "q_value": 0,
          "run": 35
         },
         {
          "location": "((1, 2), 'up')",
          "q_value": 0,
          "run": 36
         },
         {
          "location": "((1, 2), 'up')",
          "q_value": 0,
          "run": 37
         },
         {
          "location": "((1, 2), 'up')",
          "q_value": 0,
          "run": 38
         },
         {
          "location": "((1, 2), 'up')",
          "q_value": 0,
          "run": 39
         },
         {
          "location": "((1, 2), 'up')",
          "q_value": 0,
          "run": 40
         },
         {
          "location": "((1, 2), 'up')",
          "q_value": 0,
          "run": 41
         },
         {
          "location": "((1, 2), 'up')",
          "q_value": 0,
          "run": 42
         },
         {
          "location": "((1, 2), 'up')",
          "q_value": 0,
          "run": 43
         },
         {
          "location": "((1, 2), 'up')",
          "q_value": 0,
          "run": 44
         },
         {
          "location": "((1, 2), 'up')",
          "q_value": 0,
          "run": 45
         },
         {
          "location": "((1, 2), 'up')",
          "q_value": 0,
          "run": 46
         },
         {
          "location": "((1, 2), 'up')",
          "q_value": 0,
          "run": 47
         },
         {
          "location": "((1, 2), 'up')",
          "q_value": 0,
          "run": 48
         },
         {
          "location": "((1, 2), 'up')",
          "q_value": 0,
          "run": 49
         },
         {
          "location": "((1, 2), 'up')",
          "q_value": 0,
          "run": 50
         },
         {
          "location": "((1, 2), 'up')",
          "q_value": 0,
          "run": 51
         },
         {
          "location": "((1, 2), 'up')",
          "q_value": 0,
          "run": 52
         },
         {
          "location": "((1, 2), 'up')",
          "q_value": 0,
          "run": 53
         },
         {
          "location": "((1, 2), 'up')",
          "q_value": 0,
          "run": 54
         },
         {
          "location": "((1, 2), 'up')",
          "q_value": 0,
          "run": 55
         },
         {
          "location": "((1, 2), 'up')",
          "q_value": 0,
          "run": 56
         },
         {
          "location": "((1, 2), 'up')",
          "q_value": 0,
          "run": 57
         },
         {
          "location": "((1, 2), 'up')",
          "q_value": 0,
          "run": 58
         },
         {
          "location": "((1, 2), 'up')",
          "q_value": 0,
          "run": 59
         },
         {
          "location": "((1, 2), 'up')",
          "q_value": 0,
          "run": 60
         },
         {
          "location": "((1, 2), 'up')",
          "q_value": 0,
          "run": 61
         },
         {
          "location": "((1, 2), 'up')",
          "q_value": 0,
          "run": 62
         },
         {
          "location": "((1, 2), 'up')",
          "q_value": 0,
          "run": 63
         },
         {
          "location": "((1, 2), 'up')",
          "q_value": 0,
          "run": 64
         },
         {
          "location": "((1, 2), 'up')",
          "q_value": 0,
          "run": 65
         },
         {
          "location": "((1, 2), 'up')",
          "q_value": 0,
          "run": 66
         },
         {
          "location": "((1, 2), 'up')",
          "q_value": 0,
          "run": 67
         },
         {
          "location": "((1, 2), 'up')",
          "q_value": 0,
          "run": 68
         },
         {
          "location": "((1, 2), 'up')",
          "q_value": 0,
          "run": 69
         },
         {
          "location": "((1, 2), 'up')",
          "q_value": 0,
          "run": 70
         },
         {
          "location": "((1, 2), 'up')",
          "q_value": 0,
          "run": 71
         },
         {
          "location": "((1, 2), 'up')",
          "q_value": 0,
          "run": 72
         },
         {
          "location": "((1, 2), 'up')",
          "q_value": 0,
          "run": 73
         },
         {
          "location": "((1, 2), 'up')",
          "q_value": 0,
          "run": 74
         },
         {
          "location": "((1, 2), 'up')",
          "q_value": 0,
          "run": 75
         },
         {
          "location": "((1, 2), 'up')",
          "q_value": 0,
          "run": 76
         },
         {
          "location": "((1, 2), 'up')",
          "q_value": 0,
          "run": 77
         },
         {
          "location": "((1, 2), 'up')",
          "q_value": 0,
          "run": 78
         },
         {
          "location": "((1, 2), 'up')",
          "q_value": 0,
          "run": 79
         },
         {
          "location": "((1, 2), 'up')",
          "q_value": 0,
          "run": 80
         },
         {
          "location": "((1, 2), 'up')",
          "q_value": 0,
          "run": 81
         },
         {
          "location": "((1, 2), 'up')",
          "q_value": 0,
          "run": 82
         },
         {
          "location": "((1, 2), 'up')",
          "q_value": 0,
          "run": 83
         },
         {
          "location": "((1, 2), 'up')",
          "q_value": 0,
          "run": 84
         },
         {
          "location": "((1, 2), 'up')",
          "q_value": 0,
          "run": 85
         },
         {
          "location": "((1, 2), 'up')",
          "q_value": 0,
          "run": 86
         },
         {
          "location": "((1, 2), 'up')",
          "q_value": 0,
          "run": 87
         },
         {
          "location": "((1, 2), 'up')",
          "q_value": 0,
          "run": 88
         },
         {
          "location": "((1, 2), 'up')",
          "q_value": 0,
          "run": 89
         },
         {
          "location": "((1, 2), 'up')",
          "q_value": 0,
          "run": 90
         },
         {
          "location": "((1, 2), 'up')",
          "q_value": 0,
          "run": 91
         },
         {
          "location": "((1, 2), 'up')",
          "q_value": 0,
          "run": 92
         },
         {
          "location": "((1, 2), 'up')",
          "q_value": 0,
          "run": 93
         },
         {
          "location": "((1, 2), 'up')",
          "q_value": 0,
          "run": 94
         },
         {
          "location": "((1, 2), 'up')",
          "q_value": 0,
          "run": 95
         },
         {
          "location": "((1, 2), 'up')",
          "q_value": 0,
          "run": 96
         },
         {
          "location": "((1, 2), 'up')",
          "q_value": 0,
          "run": 97
         },
         {
          "location": "((1, 2), 'up')",
          "q_value": 0,
          "run": 98
         },
         {
          "location": "((1, 2), 'up')",
          "q_value": 0,
          "run": 99
         },
         {
          "location": "((1, 2), 'up')",
          "q_value": 0,
          "run": 100
         },
         {
          "location": "((1, 2), 'left')",
          "q_value": 0,
          "run": 0
         },
         {
          "location": "((1, 2), 'left')",
          "q_value": 0,
          "run": 1
         },
         {
          "location": "((1, 2), 'left')",
          "q_value": 0,
          "run": 2
         },
         {
          "location": "((1, 2), 'left')",
          "q_value": 0,
          "run": 3
         },
         {
          "location": "((1, 2), 'left')",
          "q_value": 0,
          "run": 4
         },
         {
          "location": "((1, 2), 'left')",
          "q_value": 0,
          "run": 5
         },
         {
          "location": "((1, 2), 'left')",
          "q_value": 0,
          "run": 6
         },
         {
          "location": "((1, 2), 'left')",
          "q_value": 0,
          "run": 7
         },
         {
          "location": "((1, 2), 'left')",
          "q_value": 0,
          "run": 8
         },
         {
          "location": "((1, 2), 'left')",
          "q_value": 0,
          "run": 9
         },
         {
          "location": "((1, 2), 'left')",
          "q_value": 0,
          "run": 10
         },
         {
          "location": "((1, 2), 'left')",
          "q_value": 0,
          "run": 11
         },
         {
          "location": "((1, 2), 'left')",
          "q_value": 0,
          "run": 12
         },
         {
          "location": "((1, 2), 'left')",
          "q_value": 0,
          "run": 13
         },
         {
          "location": "((1, 2), 'left')",
          "q_value": 0,
          "run": 14
         },
         {
          "location": "((1, 2), 'left')",
          "q_value": 0,
          "run": 15
         },
         {
          "location": "((1, 2), 'left')",
          "q_value": 0,
          "run": 16
         },
         {
          "location": "((1, 2), 'left')",
          "q_value": 0,
          "run": 17
         },
         {
          "location": "((1, 2), 'left')",
          "q_value": 0,
          "run": 18
         },
         {
          "location": "((1, 2), 'left')",
          "q_value": 0,
          "run": 19
         },
         {
          "location": "((1, 2), 'left')",
          "q_value": 0,
          "run": 20
         },
         {
          "location": "((1, 2), 'left')",
          "q_value": 0,
          "run": 21
         },
         {
          "location": "((1, 2), 'left')",
          "q_value": 0,
          "run": 22
         },
         {
          "location": "((1, 2), 'left')",
          "q_value": 0,
          "run": 23
         },
         {
          "location": "((1, 2), 'left')",
          "q_value": 0,
          "run": 24
         },
         {
          "location": "((1, 2), 'left')",
          "q_value": 0,
          "run": 25
         },
         {
          "location": "((1, 2), 'left')",
          "q_value": 0,
          "run": 26
         },
         {
          "location": "((1, 2), 'left')",
          "q_value": 0,
          "run": 27
         },
         {
          "location": "((1, 2), 'left')",
          "q_value": 0,
          "run": 28
         },
         {
          "location": "((1, 2), 'left')",
          "q_value": 0.6304917618716156,
          "run": 29
         },
         {
          "location": "((1, 2), 'left')",
          "q_value": 0.6304917618716156,
          "run": 30
         },
         {
          "location": "((1, 2), 'left')",
          "q_value": 0.6304917618716156,
          "run": 31
         },
         {
          "location": "((1, 2), 'left')",
          "q_value": 0.6304917618716156,
          "run": 32
         },
         {
          "location": "((1, 2), 'left')",
          "q_value": 0.6304917618716156,
          "run": 33
         },
         {
          "location": "((1, 2), 'left')",
          "q_value": 0.6304917618716156,
          "run": 34
         },
         {
          "location": "((1, 2), 'left')",
          "q_value": 0.6304917618716156,
          "run": 35
         },
         {
          "location": "((1, 2), 'left')",
          "q_value": 0.6304917618716156,
          "run": 36
         },
         {
          "location": "((1, 2), 'left')",
          "q_value": 0.6304917618716156,
          "run": 37
         },
         {
          "location": "((1, 2), 'left')",
          "q_value": 0.6304917618716156,
          "run": 38
         },
         {
          "location": "((1, 2), 'left')",
          "q_value": 0.6304917618716156,
          "run": 39
         },
         {
          "location": "((1, 2), 'left')",
          "q_value": 0.6304917618716156,
          "run": 40
         },
         {
          "location": "((1, 2), 'left')",
          "q_value": 0.6304917618716156,
          "run": 41
         },
         {
          "location": "((1, 2), 'left')",
          "q_value": 0.6304917618716156,
          "run": 42
         },
         {
          "location": "((1, 2), 'left')",
          "q_value": 0.6304917618716156,
          "run": 43
         },
         {
          "location": "((1, 2), 'left')",
          "q_value": 0.6304917618716156,
          "run": 44
         },
         {
          "location": "((1, 2), 'left')",
          "q_value": 0.6304917618716156,
          "run": 45
         },
         {
          "location": "((1, 2), 'left')",
          "q_value": 0.6304917618716156,
          "run": 46
         },
         {
          "location": "((1, 2), 'left')",
          "q_value": 0.6304917618716156,
          "run": 47
         },
         {
          "location": "((1, 2), 'left')",
          "q_value": 0.6304917618716156,
          "run": 48
         },
         {
          "location": "((1, 2), 'left')",
          "q_value": 0.6304917618716156,
          "run": 49
         },
         {
          "location": "((1, 2), 'left')",
          "q_value": 0.6304917618716156,
          "run": 50
         },
         {
          "location": "((1, 2), 'left')",
          "q_value": 0.6304917618716156,
          "run": 51
         },
         {
          "location": "((1, 2), 'left')",
          "q_value": 0.6304917618716156,
          "run": 52
         },
         {
          "location": "((1, 2), 'left')",
          "q_value": 0.6304917618716156,
          "run": 53
         },
         {
          "location": "((1, 2), 'left')",
          "q_value": 0.6304917618716156,
          "run": 54
         },
         {
          "location": "((1, 2), 'left')",
          "q_value": 0.6304917618716156,
          "run": 55
         },
         {
          "location": "((1, 2), 'left')",
          "q_value": 0.6304917618716156,
          "run": 56
         },
         {
          "location": "((1, 2), 'left')",
          "q_value": 0.6304917618716156,
          "run": 57
         },
         {
          "location": "((1, 2), 'left')",
          "q_value": 0.6304917618716156,
          "run": 58
         },
         {
          "location": "((1, 2), 'left')",
          "q_value": 0.6304917618716156,
          "run": 59
         },
         {
          "location": "((1, 2), 'left')",
          "q_value": 0.6304917618716156,
          "run": 60
         },
         {
          "location": "((1, 2), 'left')",
          "q_value": 0.6304917618716156,
          "run": 61
         },
         {
          "location": "((1, 2), 'left')",
          "q_value": 0.6304917618716156,
          "run": 62
         },
         {
          "location": "((1, 2), 'left')",
          "q_value": 0.6304917618716156,
          "run": 63
         },
         {
          "location": "((1, 2), 'left')",
          "q_value": 0.6304917618716156,
          "run": 64
         },
         {
          "location": "((1, 2), 'left')",
          "q_value": 0.6304917618716156,
          "run": 65
         },
         {
          "location": "((1, 2), 'left')",
          "q_value": 0.6304917618716156,
          "run": 66
         },
         {
          "location": "((1, 2), 'left')",
          "q_value": 0.6304917618716156,
          "run": 67
         },
         {
          "location": "((1, 2), 'left')",
          "q_value": 0.6304917618716156,
          "run": 68
         },
         {
          "location": "((1, 2), 'left')",
          "q_value": 0.6304917618716156,
          "run": 69
         },
         {
          "location": "((1, 2), 'left')",
          "q_value": 0.6304917618716156,
          "run": 70
         },
         {
          "location": "((1, 2), 'left')",
          "q_value": 0.6304917618716156,
          "run": 71
         },
         {
          "location": "((1, 2), 'left')",
          "q_value": 0.6304917618716156,
          "run": 72
         },
         {
          "location": "((1, 2), 'left')",
          "q_value": 0.6304917618716156,
          "run": 73
         },
         {
          "location": "((1, 2), 'left')",
          "q_value": 0.6304917618716156,
          "run": 74
         },
         {
          "location": "((1, 2), 'left')",
          "q_value": 0.6304917618716156,
          "run": 75
         },
         {
          "location": "((1, 2), 'left')",
          "q_value": 0.6304917618716156,
          "run": 76
         },
         {
          "location": "((1, 2), 'left')",
          "q_value": 0.6304917618716156,
          "run": 77
         },
         {
          "location": "((1, 2), 'left')",
          "q_value": 0.6304917618716156,
          "run": 78
         },
         {
          "location": "((1, 2), 'left')",
          "q_value": 0.6304917618716156,
          "run": 79
         },
         {
          "location": "((1, 2), 'left')",
          "q_value": 0.6304917618716156,
          "run": 80
         },
         {
          "location": "((1, 2), 'left')",
          "q_value": 0.6304917618716156,
          "run": 81
         },
         {
          "location": "((1, 2), 'left')",
          "q_value": 0.6304917618716156,
          "run": 82
         },
         {
          "location": "((1, 2), 'left')",
          "q_value": 0.6304917618716156,
          "run": 83
         },
         {
          "location": "((1, 2), 'left')",
          "q_value": 0.6304917618716156,
          "run": 84
         },
         {
          "location": "((1, 2), 'left')",
          "q_value": 0.6304917618716156,
          "run": 85
         },
         {
          "location": "((1, 2), 'left')",
          "q_value": 0.6304917618716156,
          "run": 86
         },
         {
          "location": "((1, 2), 'left')",
          "q_value": 0.6304917618716156,
          "run": 87
         },
         {
          "location": "((1, 2), 'left')",
          "q_value": 0.6304917618716156,
          "run": 88
         },
         {
          "location": "((1, 2), 'left')",
          "q_value": 0.6304917618716156,
          "run": 89
         },
         {
          "location": "((1, 2), 'left')",
          "q_value": 0.6304917618716156,
          "run": 90
         },
         {
          "location": "((1, 2), 'left')",
          "q_value": 0.6304917618716156,
          "run": 91
         },
         {
          "location": "((1, 2), 'left')",
          "q_value": 0.6304917618716156,
          "run": 92
         },
         {
          "location": "((1, 2), 'left')",
          "q_value": 0.6304917618716156,
          "run": 93
         },
         {
          "location": "((1, 2), 'left')",
          "q_value": 0.6304917618716156,
          "run": 94
         },
         {
          "location": "((1, 2), 'left')",
          "q_value": 0.6304917618716156,
          "run": 95
         },
         {
          "location": "((1, 2), 'left')",
          "q_value": 0.6304917618716156,
          "run": 96
         },
         {
          "location": "((1, 2), 'left')",
          "q_value": 0.6304917618716156,
          "run": 97
         },
         {
          "location": "((1, 2), 'left')",
          "q_value": 0.6304917618716156,
          "run": 98
         },
         {
          "location": "((1, 2), 'left')",
          "q_value": 0.6304917618716156,
          "run": 99
         },
         {
          "location": "((1, 2), 'left')",
          "q_value": 0.6304917618716156,
          "run": 100
         },
         {
          "location": "((1, 3), 'down')",
          "q_value": 0,
          "run": 0
         },
         {
          "location": "((1, 3), 'down')",
          "q_value": 0,
          "run": 1
         },
         {
          "location": "((1, 3), 'down')",
          "q_value": 0,
          "run": 2
         },
         {
          "location": "((1, 3), 'down')",
          "q_value": 0,
          "run": 3
         },
         {
          "location": "((1, 3), 'down')",
          "q_value": 0,
          "run": 4
         },
         {
          "location": "((1, 3), 'down')",
          "q_value": 0,
          "run": 5
         },
         {
          "location": "((1, 3), 'down')",
          "q_value": 0,
          "run": 6
         },
         {
          "location": "((1, 3), 'down')",
          "q_value": 0,
          "run": 7
         },
         {
          "location": "((1, 3), 'down')",
          "q_value": 0,
          "run": 8
         },
         {
          "location": "((1, 3), 'down')",
          "q_value": 0,
          "run": 9
         },
         {
          "location": "((1, 3), 'down')",
          "q_value": 0,
          "run": 10
         },
         {
          "location": "((1, 3), 'down')",
          "q_value": 0,
          "run": 11
         },
         {
          "location": "((1, 3), 'down')",
          "q_value": 0,
          "run": 12
         },
         {
          "location": "((1, 3), 'down')",
          "q_value": 0,
          "run": 13
         },
         {
          "location": "((1, 3), 'down')",
          "q_value": 0,
          "run": 14
         },
         {
          "location": "((1, 3), 'down')",
          "q_value": 0,
          "run": 15
         },
         {
          "location": "((1, 3), 'down')",
          "q_value": 0,
          "run": 16
         },
         {
          "location": "((1, 3), 'down')",
          "q_value": 0,
          "run": 17
         },
         {
          "location": "((1, 3), 'down')",
          "q_value": 0,
          "run": 18
         },
         {
          "location": "((1, 3), 'down')",
          "q_value": 0,
          "run": 19
         },
         {
          "location": "((1, 3), 'down')",
          "q_value": 0,
          "run": 20
         },
         {
          "location": "((1, 3), 'down')",
          "q_value": 0,
          "run": 21
         },
         {
          "location": "((1, 3), 'down')",
          "q_value": 0,
          "run": 22
         },
         {
          "location": "((1, 3), 'down')",
          "q_value": 0,
          "run": 23
         },
         {
          "location": "((1, 3), 'down')",
          "q_value": 0,
          "run": 24
         },
         {
          "location": "((1, 3), 'down')",
          "q_value": 0,
          "run": 25
         },
         {
          "location": "((1, 3), 'down')",
          "q_value": 0,
          "run": 26
         },
         {
          "location": "((1, 3), 'down')",
          "q_value": 0,
          "run": 27
         },
         {
          "location": "((1, 3), 'down')",
          "q_value": 0,
          "run": 28
         },
         {
          "location": "((1, 3), 'down')",
          "q_value": 0,
          "run": 29
         },
         {
          "location": "((1, 3), 'down')",
          "q_value": 0,
          "run": 30
         },
         {
          "location": "((1, 3), 'down')",
          "q_value": 0,
          "run": 31
         },
         {
          "location": "((1, 3), 'down')",
          "q_value": 0,
          "run": 32
         },
         {
          "location": "((1, 3), 'down')",
          "q_value": 0,
          "run": 33
         },
         {
          "location": "((1, 3), 'down')",
          "q_value": 0,
          "run": 34
         },
         {
          "location": "((1, 3), 'down')",
          "q_value": 0,
          "run": 35
         },
         {
          "location": "((1, 3), 'down')",
          "q_value": 0,
          "run": 36
         },
         {
          "location": "((1, 3), 'down')",
          "q_value": 0,
          "run": 37
         },
         {
          "location": "((1, 3), 'down')",
          "q_value": 0,
          "run": 38
         },
         {
          "location": "((1, 3), 'down')",
          "q_value": 0,
          "run": 39
         },
         {
          "location": "((1, 3), 'down')",
          "q_value": 0,
          "run": 40
         },
         {
          "location": "((1, 3), 'down')",
          "q_value": 0,
          "run": 41
         },
         {
          "location": "((1, 3), 'down')",
          "q_value": 0,
          "run": 42
         },
         {
          "location": "((1, 3), 'down')",
          "q_value": 0,
          "run": 43
         },
         {
          "location": "((1, 3), 'down')",
          "q_value": 0,
          "run": 44
         },
         {
          "location": "((1, 3), 'down')",
          "q_value": 0,
          "run": 45
         },
         {
          "location": "((1, 3), 'down')",
          "q_value": 0,
          "run": 46
         },
         {
          "location": "((1, 3), 'down')",
          "q_value": 0,
          "run": 47
         },
         {
          "location": "((1, 3), 'down')",
          "q_value": 0,
          "run": 48
         },
         {
          "location": "((1, 3), 'down')",
          "q_value": 0,
          "run": 49
         },
         {
          "location": "((1, 3), 'down')",
          "q_value": 0,
          "run": 50
         },
         {
          "location": "((1, 3), 'down')",
          "q_value": 0,
          "run": 51
         },
         {
          "location": "((1, 3), 'down')",
          "q_value": 0,
          "run": 52
         },
         {
          "location": "((1, 3), 'down')",
          "q_value": 0,
          "run": 53
         },
         {
          "location": "((1, 3), 'down')",
          "q_value": 0,
          "run": 54
         },
         {
          "location": "((1, 3), 'down')",
          "q_value": 0,
          "run": 55
         },
         {
          "location": "((1, 3), 'down')",
          "q_value": 0,
          "run": 56
         },
         {
          "location": "((1, 3), 'down')",
          "q_value": 0,
          "run": 57
         },
         {
          "location": "((1, 3), 'down')",
          "q_value": 0,
          "run": 58
         },
         {
          "location": "((1, 3), 'down')",
          "q_value": 0,
          "run": 59
         },
         {
          "location": "((1, 3), 'down')",
          "q_value": 0,
          "run": 60
         },
         {
          "location": "((1, 3), 'down')",
          "q_value": 0,
          "run": 61
         },
         {
          "location": "((1, 3), 'down')",
          "q_value": 0,
          "run": 62
         },
         {
          "location": "((1, 3), 'down')",
          "q_value": 0,
          "run": 63
         },
         {
          "location": "((1, 3), 'down')",
          "q_value": 0,
          "run": 64
         },
         {
          "location": "((1, 3), 'down')",
          "q_value": 0,
          "run": 65
         },
         {
          "location": "((1, 3), 'down')",
          "q_value": 0,
          "run": 66
         },
         {
          "location": "((1, 3), 'down')",
          "q_value": 0,
          "run": 67
         },
         {
          "location": "((1, 3), 'down')",
          "q_value": 0,
          "run": 68
         },
         {
          "location": "((1, 3), 'down')",
          "q_value": 0,
          "run": 69
         },
         {
          "location": "((1, 3), 'down')",
          "q_value": 0,
          "run": 70
         },
         {
          "location": "((1, 3), 'down')",
          "q_value": 0,
          "run": 71
         },
         {
          "location": "((1, 3), 'down')",
          "q_value": 0,
          "run": 72
         },
         {
          "location": "((1, 3), 'down')",
          "q_value": 0,
          "run": 73
         },
         {
          "location": "((1, 3), 'down')",
          "q_value": 0,
          "run": 74
         },
         {
          "location": "((1, 3), 'down')",
          "q_value": 0,
          "run": 75
         },
         {
          "location": "((1, 3), 'down')",
          "q_value": 0,
          "run": 76
         },
         {
          "location": "((1, 3), 'down')",
          "q_value": 0,
          "run": 77
         },
         {
          "location": "((1, 3), 'down')",
          "q_value": 0,
          "run": 78
         },
         {
          "location": "((1, 3), 'down')",
          "q_value": 0,
          "run": 79
         },
         {
          "location": "((1, 3), 'down')",
          "q_value": 0,
          "run": 80
         },
         {
          "location": "((1, 3), 'down')",
          "q_value": 0,
          "run": 81
         },
         {
          "location": "((1, 3), 'down')",
          "q_value": 0,
          "run": 82
         },
         {
          "location": "((1, 3), 'down')",
          "q_value": 0,
          "run": 83
         },
         {
          "location": "((1, 3), 'down')",
          "q_value": 0,
          "run": 84
         },
         {
          "location": "((1, 3), 'down')",
          "q_value": 0,
          "run": 85
         },
         {
          "location": "((1, 3), 'down')",
          "q_value": 0,
          "run": 86
         },
         {
          "location": "((1, 3), 'down')",
          "q_value": 0,
          "run": 87
         },
         {
          "location": "((1, 3), 'down')",
          "q_value": 0,
          "run": 88
         },
         {
          "location": "((1, 3), 'down')",
          "q_value": 0,
          "run": 89
         },
         {
          "location": "((1, 3), 'down')",
          "q_value": 0,
          "run": 90
         },
         {
          "location": "((1, 3), 'down')",
          "q_value": 0,
          "run": 91
         },
         {
          "location": "((1, 3), 'down')",
          "q_value": 0,
          "run": 92
         },
         {
          "location": "((1, 3), 'down')",
          "q_value": 0,
          "run": 93
         },
         {
          "location": "((1, 3), 'down')",
          "q_value": 0,
          "run": 94
         },
         {
          "location": "((1, 3), 'down')",
          "q_value": 0,
          "run": 95
         },
         {
          "location": "((1, 3), 'down')",
          "q_value": 0,
          "run": 96
         },
         {
          "location": "((1, 3), 'down')",
          "q_value": 0,
          "run": 97
         },
         {
          "location": "((1, 3), 'down')",
          "q_value": 0,
          "run": 98
         },
         {
          "location": "((1, 3), 'down')",
          "q_value": 0,
          "run": 99
         },
         {
          "location": "((1, 3), 'down')",
          "q_value": 0,
          "run": 100
         },
         {
          "location": "((1, 3), 'right')",
          "q_value": 0,
          "run": 0
         },
         {
          "location": "((1, 3), 'right')",
          "q_value": 0,
          "run": 1
         },
         {
          "location": "((1, 3), 'right')",
          "q_value": 0,
          "run": 2
         },
         {
          "location": "((1, 3), 'right')",
          "q_value": 0,
          "run": 3
         },
         {
          "location": "((1, 3), 'right')",
          "q_value": 0,
          "run": 4
         },
         {
          "location": "((1, 3), 'right')",
          "q_value": 0,
          "run": 5
         },
         {
          "location": "((1, 3), 'right')",
          "q_value": 0,
          "run": 6
         },
         {
          "location": "((1, 3), 'right')",
          "q_value": 0,
          "run": 7
         },
         {
          "location": "((1, 3), 'right')",
          "q_value": 0,
          "run": 8
         },
         {
          "location": "((1, 3), 'right')",
          "q_value": 0,
          "run": 9
         },
         {
          "location": "((1, 3), 'right')",
          "q_value": 0,
          "run": 10
         },
         {
          "location": "((1, 3), 'right')",
          "q_value": 0,
          "run": 11
         },
         {
          "location": "((1, 3), 'right')",
          "q_value": 0,
          "run": 12
         },
         {
          "location": "((1, 3), 'right')",
          "q_value": 0,
          "run": 13
         },
         {
          "location": "((1, 3), 'right')",
          "q_value": 0,
          "run": 14
         },
         {
          "location": "((1, 3), 'right')",
          "q_value": 0,
          "run": 15
         },
         {
          "location": "((1, 3), 'right')",
          "q_value": 0,
          "run": 16
         },
         {
          "location": "((1, 3), 'right')",
          "q_value": 0,
          "run": 17
         },
         {
          "location": "((1, 3), 'right')",
          "q_value": 0,
          "run": 18
         },
         {
          "location": "((1, 3), 'right')",
          "q_value": 0,
          "run": 19
         },
         {
          "location": "((1, 3), 'right')",
          "q_value": 0,
          "run": 20
         },
         {
          "location": "((1, 3), 'right')",
          "q_value": 0,
          "run": 21
         },
         {
          "location": "((1, 3), 'right')",
          "q_value": 0,
          "run": 22
         },
         {
          "location": "((1, 3), 'right')",
          "q_value": 0,
          "run": 23
         },
         {
          "location": "((1, 3), 'right')",
          "q_value": 0,
          "run": 24
         },
         {
          "location": "((1, 3), 'right')",
          "q_value": 0,
          "run": 25
         },
         {
          "location": "((1, 3), 'right')",
          "q_value": 0,
          "run": 26
         },
         {
          "location": "((1, 3), 'right')",
          "q_value": 0,
          "run": 27
         },
         {
          "location": "((1, 3), 'right')",
          "q_value": 0,
          "run": 28
         },
         {
          "location": "((1, 3), 'right')",
          "q_value": 0,
          "run": 29
         },
         {
          "location": "((1, 3), 'right')",
          "q_value": 0,
          "run": 30
         },
         {
          "location": "((1, 3), 'right')",
          "q_value": 0,
          "run": 31
         },
         {
          "location": "((1, 3), 'right')",
          "q_value": 0,
          "run": 32
         },
         {
          "location": "((1, 3), 'right')",
          "q_value": 0,
          "run": 33
         },
         {
          "location": "((1, 3), 'right')",
          "q_value": 0,
          "run": 34
         },
         {
          "location": "((1, 3), 'right')",
          "q_value": 0,
          "run": 35
         },
         {
          "location": "((1, 3), 'right')",
          "q_value": 0,
          "run": 36
         },
         {
          "location": "((1, 3), 'right')",
          "q_value": 0,
          "run": 37
         },
         {
          "location": "((1, 3), 'right')",
          "q_value": 0,
          "run": 38
         },
         {
          "location": "((1, 3), 'right')",
          "q_value": 0,
          "run": 39
         },
         {
          "location": "((1, 3), 'right')",
          "q_value": 0,
          "run": 40
         },
         {
          "location": "((1, 3), 'right')",
          "q_value": 0,
          "run": 41
         },
         {
          "location": "((1, 3), 'right')",
          "q_value": 0,
          "run": 42
         },
         {
          "location": "((1, 3), 'right')",
          "q_value": 0,
          "run": 43
         },
         {
          "location": "((1, 3), 'right')",
          "q_value": 0,
          "run": 44
         },
         {
          "location": "((1, 3), 'right')",
          "q_value": 0,
          "run": 45
         },
         {
          "location": "((1, 3), 'right')",
          "q_value": 0,
          "run": 46
         },
         {
          "location": "((1, 3), 'right')",
          "q_value": 0,
          "run": 47
         },
         {
          "location": "((1, 3), 'right')",
          "q_value": 0,
          "run": 48
         },
         {
          "location": "((1, 3), 'right')",
          "q_value": 0,
          "run": 49
         },
         {
          "location": "((1, 3), 'right')",
          "q_value": 0,
          "run": 50
         },
         {
          "location": "((1, 3), 'right')",
          "q_value": 0,
          "run": 51
         },
         {
          "location": "((1, 3), 'right')",
          "q_value": 0,
          "run": 52
         },
         {
          "location": "((1, 3), 'right')",
          "q_value": 0,
          "run": 53
         },
         {
          "location": "((1, 3), 'right')",
          "q_value": 0,
          "run": 54
         },
         {
          "location": "((1, 3), 'right')",
          "q_value": 0,
          "run": 55
         },
         {
          "location": "((1, 3), 'right')",
          "q_value": 0,
          "run": 56
         },
         {
          "location": "((1, 3), 'right')",
          "q_value": 0,
          "run": 57
         },
         {
          "location": "((1, 3), 'right')",
          "q_value": 0,
          "run": 58
         },
         {
          "location": "((1, 3), 'right')",
          "q_value": 0,
          "run": 59
         },
         {
          "location": "((1, 3), 'right')",
          "q_value": 0,
          "run": 60
         },
         {
          "location": "((1, 3), 'right')",
          "q_value": 0,
          "run": 61
         },
         {
          "location": "((1, 3), 'right')",
          "q_value": 0,
          "run": 62
         },
         {
          "location": "((1, 3), 'right')",
          "q_value": 0,
          "run": 63
         },
         {
          "location": "((1, 3), 'right')",
          "q_value": 0,
          "run": 64
         },
         {
          "location": "((1, 3), 'right')",
          "q_value": 0,
          "run": 65
         },
         {
          "location": "((1, 3), 'right')",
          "q_value": 0,
          "run": 66
         },
         {
          "location": "((1, 3), 'right')",
          "q_value": 0,
          "run": 67
         },
         {
          "location": "((1, 3), 'right')",
          "q_value": 0,
          "run": 68
         },
         {
          "location": "((1, 3), 'right')",
          "q_value": 0,
          "run": 69
         },
         {
          "location": "((1, 3), 'right')",
          "q_value": 0,
          "run": 70
         },
         {
          "location": "((1, 3), 'right')",
          "q_value": 0,
          "run": 71
         },
         {
          "location": "((1, 3), 'right')",
          "q_value": 0,
          "run": 72
         },
         {
          "location": "((1, 3), 'right')",
          "q_value": 0,
          "run": 73
         },
         {
          "location": "((1, 3), 'right')",
          "q_value": 0,
          "run": 74
         },
         {
          "location": "((1, 3), 'right')",
          "q_value": 0,
          "run": 75
         },
         {
          "location": "((1, 3), 'right')",
          "q_value": 0,
          "run": 76
         },
         {
          "location": "((1, 3), 'right')",
          "q_value": 0,
          "run": 77
         },
         {
          "location": "((1, 3), 'right')",
          "q_value": 0,
          "run": 78
         },
         {
          "location": "((1, 3), 'right')",
          "q_value": 0,
          "run": 79
         },
         {
          "location": "((1, 3), 'right')",
          "q_value": 0,
          "run": 80
         },
         {
          "location": "((1, 3), 'right')",
          "q_value": 0,
          "run": 81
         },
         {
          "location": "((1, 3), 'right')",
          "q_value": 0,
          "run": 82
         },
         {
          "location": "((1, 3), 'right')",
          "q_value": 0,
          "run": 83
         },
         {
          "location": "((1, 3), 'right')",
          "q_value": 0,
          "run": 84
         },
         {
          "location": "((1, 3), 'right')",
          "q_value": 0,
          "run": 85
         },
         {
          "location": "((1, 3), 'right')",
          "q_value": 0,
          "run": 86
         },
         {
          "location": "((1, 3), 'right')",
          "q_value": 0,
          "run": 87
         },
         {
          "location": "((1, 3), 'right')",
          "q_value": 0,
          "run": 88
         },
         {
          "location": "((1, 3), 'right')",
          "q_value": 0,
          "run": 89
         },
         {
          "location": "((1, 3), 'right')",
          "q_value": 0,
          "run": 90
         },
         {
          "location": "((1, 3), 'right')",
          "q_value": 0,
          "run": 91
         },
         {
          "location": "((1, 3), 'right')",
          "q_value": 0,
          "run": 92
         },
         {
          "location": "((1, 3), 'right')",
          "q_value": 0,
          "run": 93
         },
         {
          "location": "((1, 3), 'right')",
          "q_value": 0,
          "run": 94
         },
         {
          "location": "((1, 3), 'right')",
          "q_value": 0,
          "run": 95
         },
         {
          "location": "((1, 3), 'right')",
          "q_value": 0,
          "run": 96
         },
         {
          "location": "((1, 3), 'right')",
          "q_value": 0,
          "run": 97
         },
         {
          "location": "((1, 3), 'right')",
          "q_value": 0,
          "run": 98
         },
         {
          "location": "((1, 3), 'right')",
          "q_value": 0,
          "run": 99
         },
         {
          "location": "((1, 3), 'right')",
          "q_value": 0,
          "run": 100
         },
         {
          "location": "((1, 3), 'up')",
          "q_value": 0,
          "run": 0
         },
         {
          "location": "((1, 3), 'up')",
          "q_value": 0,
          "run": 1
         },
         {
          "location": "((1, 3), 'up')",
          "q_value": 0,
          "run": 2
         },
         {
          "location": "((1, 3), 'up')",
          "q_value": 0,
          "run": 3
         },
         {
          "location": "((1, 3), 'up')",
          "q_value": 0,
          "run": 4
         },
         {
          "location": "((1, 3), 'up')",
          "q_value": 0,
          "run": 5
         },
         {
          "location": "((1, 3), 'up')",
          "q_value": 0,
          "run": 6
         },
         {
          "location": "((1, 3), 'up')",
          "q_value": 0,
          "run": 7
         },
         {
          "location": "((1, 3), 'up')",
          "q_value": 0,
          "run": 8
         },
         {
          "location": "((1, 3), 'up')",
          "q_value": 0,
          "run": 9
         },
         {
          "location": "((1, 3), 'up')",
          "q_value": 0,
          "run": 10
         },
         {
          "location": "((1, 3), 'up')",
          "q_value": 0,
          "run": 11
         },
         {
          "location": "((1, 3), 'up')",
          "q_value": 0,
          "run": 12
         },
         {
          "location": "((1, 3), 'up')",
          "q_value": 0,
          "run": 13
         },
         {
          "location": "((1, 3), 'up')",
          "q_value": 0,
          "run": 14
         },
         {
          "location": "((1, 3), 'up')",
          "q_value": 0,
          "run": 15
         },
         {
          "location": "((1, 3), 'up')",
          "q_value": 0,
          "run": 16
         },
         {
          "location": "((1, 3), 'up')",
          "q_value": 0,
          "run": 17
         },
         {
          "location": "((1, 3), 'up')",
          "q_value": 0,
          "run": 18
         },
         {
          "location": "((1, 3), 'up')",
          "q_value": 0,
          "run": 19
         },
         {
          "location": "((1, 3), 'up')",
          "q_value": 0,
          "run": 20
         },
         {
          "location": "((1, 3), 'up')",
          "q_value": 0,
          "run": 21
         },
         {
          "location": "((1, 3), 'up')",
          "q_value": 0,
          "run": 22
         },
         {
          "location": "((1, 3), 'up')",
          "q_value": 0,
          "run": 23
         },
         {
          "location": "((1, 3), 'up')",
          "q_value": 0,
          "run": 24
         },
         {
          "location": "((1, 3), 'up')",
          "q_value": 0,
          "run": 25
         },
         {
          "location": "((1, 3), 'up')",
          "q_value": 0,
          "run": 26
         },
         {
          "location": "((1, 3), 'up')",
          "q_value": 0,
          "run": 27
         },
         {
          "location": "((1, 3), 'up')",
          "q_value": 0,
          "run": 28
         },
         {
          "location": "((1, 3), 'up')",
          "q_value": 0,
          "run": 29
         },
         {
          "location": "((1, 3), 'up')",
          "q_value": 0,
          "run": 30
         },
         {
          "location": "((1, 3), 'up')",
          "q_value": 0,
          "run": 31
         },
         {
          "location": "((1, 3), 'up')",
          "q_value": 0,
          "run": 32
         },
         {
          "location": "((1, 3), 'up')",
          "q_value": 0,
          "run": 33
         },
         {
          "location": "((1, 3), 'up')",
          "q_value": 0,
          "run": 34
         },
         {
          "location": "((1, 3), 'up')",
          "q_value": 0,
          "run": 35
         },
         {
          "location": "((1, 3), 'up')",
          "q_value": 0,
          "run": 36
         },
         {
          "location": "((1, 3), 'up')",
          "q_value": 0,
          "run": 37
         },
         {
          "location": "((1, 3), 'up')",
          "q_value": 0,
          "run": 38
         },
         {
          "location": "((1, 3), 'up')",
          "q_value": 0,
          "run": 39
         },
         {
          "location": "((1, 3), 'up')",
          "q_value": 0,
          "run": 40
         },
         {
          "location": "((1, 3), 'up')",
          "q_value": 0,
          "run": 41
         },
         {
          "location": "((1, 3), 'up')",
          "q_value": 0,
          "run": 42
         },
         {
          "location": "((1, 3), 'up')",
          "q_value": 0,
          "run": 43
         },
         {
          "location": "((1, 3), 'up')",
          "q_value": 0,
          "run": 44
         },
         {
          "location": "((1, 3), 'up')",
          "q_value": 0,
          "run": 45
         },
         {
          "location": "((1, 3), 'up')",
          "q_value": 0,
          "run": 46
         },
         {
          "location": "((1, 3), 'up')",
          "q_value": 0,
          "run": 47
         },
         {
          "location": "((1, 3), 'up')",
          "q_value": 0,
          "run": 48
         },
         {
          "location": "((1, 3), 'up')",
          "q_value": 0,
          "run": 49
         },
         {
          "location": "((1, 3), 'up')",
          "q_value": 0,
          "run": 50
         },
         {
          "location": "((1, 3), 'up')",
          "q_value": 0,
          "run": 51
         },
         {
          "location": "((1, 3), 'up')",
          "q_value": 0,
          "run": 52
         },
         {
          "location": "((1, 3), 'up')",
          "q_value": 0,
          "run": 53
         },
         {
          "location": "((1, 3), 'up')",
          "q_value": 0,
          "run": 54
         },
         {
          "location": "((1, 3), 'up')",
          "q_value": 0,
          "run": 55
         },
         {
          "location": "((1, 3), 'up')",
          "q_value": 0,
          "run": 56
         },
         {
          "location": "((1, 3), 'up')",
          "q_value": 0,
          "run": 57
         },
         {
          "location": "((1, 3), 'up')",
          "q_value": 0,
          "run": 58
         },
         {
          "location": "((1, 3), 'up')",
          "q_value": 0,
          "run": 59
         },
         {
          "location": "((1, 3), 'up')",
          "q_value": 0,
          "run": 60
         },
         {
          "location": "((1, 3), 'up')",
          "q_value": 0,
          "run": 61
         },
         {
          "location": "((1, 3), 'up')",
          "q_value": 0,
          "run": 62
         },
         {
          "location": "((1, 3), 'up')",
          "q_value": 0,
          "run": 63
         },
         {
          "location": "((1, 3), 'up')",
          "q_value": 0,
          "run": 64
         },
         {
          "location": "((1, 3), 'up')",
          "q_value": 0,
          "run": 65
         },
         {
          "location": "((1, 3), 'up')",
          "q_value": 0,
          "run": 66
         },
         {
          "location": "((1, 3), 'up')",
          "q_value": 0,
          "run": 67
         },
         {
          "location": "((1, 3), 'up')",
          "q_value": 0,
          "run": 68
         },
         {
          "location": "((1, 3), 'up')",
          "q_value": 0,
          "run": 69
         },
         {
          "location": "((1, 3), 'up')",
          "q_value": 0,
          "run": 70
         },
         {
          "location": "((1, 3), 'up')",
          "q_value": 0,
          "run": 71
         },
         {
          "location": "((1, 3), 'up')",
          "q_value": 0,
          "run": 72
         },
         {
          "location": "((1, 3), 'up')",
          "q_value": 0,
          "run": 73
         },
         {
          "location": "((1, 3), 'up')",
          "q_value": 0,
          "run": 74
         },
         {
          "location": "((1, 3), 'up')",
          "q_value": 0,
          "run": 75
         },
         {
          "location": "((1, 3), 'up')",
          "q_value": 0,
          "run": 76
         },
         {
          "location": "((1, 3), 'up')",
          "q_value": 0,
          "run": 77
         },
         {
          "location": "((1, 3), 'up')",
          "q_value": 0,
          "run": 78
         },
         {
          "location": "((1, 3), 'up')",
          "q_value": 0,
          "run": 79
         },
         {
          "location": "((1, 3), 'up')",
          "q_value": 0,
          "run": 80
         },
         {
          "location": "((1, 3), 'up')",
          "q_value": 0,
          "run": 81
         },
         {
          "location": "((1, 3), 'up')",
          "q_value": 0,
          "run": 82
         },
         {
          "location": "((1, 3), 'up')",
          "q_value": 0,
          "run": 83
         },
         {
          "location": "((1, 3), 'up')",
          "q_value": 0,
          "run": 84
         },
         {
          "location": "((1, 3), 'up')",
          "q_value": 0,
          "run": 85
         },
         {
          "location": "((1, 3), 'up')",
          "q_value": 0,
          "run": 86
         },
         {
          "location": "((1, 3), 'up')",
          "q_value": 0,
          "run": 87
         },
         {
          "location": "((1, 3), 'up')",
          "q_value": 0,
          "run": 88
         },
         {
          "location": "((1, 3), 'up')",
          "q_value": 0,
          "run": 89
         },
         {
          "location": "((1, 3), 'up')",
          "q_value": 0,
          "run": 90
         },
         {
          "location": "((1, 3), 'up')",
          "q_value": 0,
          "run": 91
         },
         {
          "location": "((1, 3), 'up')",
          "q_value": 0,
          "run": 92
         },
         {
          "location": "((1, 3), 'up')",
          "q_value": 0,
          "run": 93
         },
         {
          "location": "((1, 3), 'up')",
          "q_value": 0,
          "run": 94
         },
         {
          "location": "((1, 3), 'up')",
          "q_value": 0,
          "run": 95
         },
         {
          "location": "((1, 3), 'up')",
          "q_value": 0,
          "run": 96
         },
         {
          "location": "((1, 3), 'up')",
          "q_value": 0,
          "run": 97
         },
         {
          "location": "((1, 3), 'up')",
          "q_value": 0,
          "run": 98
         },
         {
          "location": "((1, 3), 'up')",
          "q_value": 0,
          "run": 99
         },
         {
          "location": "((1, 3), 'up')",
          "q_value": 0,
          "run": 100
         },
         {
          "location": "((1, 3), 'left')",
          "q_value": 0,
          "run": 0
         },
         {
          "location": "((1, 3), 'left')",
          "q_value": 0,
          "run": 1
         },
         {
          "location": "((1, 3), 'left')",
          "q_value": 0,
          "run": 2
         },
         {
          "location": "((1, 3), 'left')",
          "q_value": 0,
          "run": 3
         },
         {
          "location": "((1, 3), 'left')",
          "q_value": 0,
          "run": 4
         },
         {
          "location": "((1, 3), 'left')",
          "q_value": 0,
          "run": 5
         },
         {
          "location": "((1, 3), 'left')",
          "q_value": 0,
          "run": 6
         },
         {
          "location": "((1, 3), 'left')",
          "q_value": 0.30951,
          "run": 7
         },
         {
          "location": "((1, 3), 'left')",
          "q_value": 0.30951,
          "run": 8
         },
         {
          "location": "((1, 3), 'left')",
          "q_value": 0.30951,
          "run": 9
         },
         {
          "location": "((1, 3), 'left')",
          "q_value": 0.30951,
          "run": 10
         },
         {
          "location": "((1, 3), 'left')",
          "q_value": 0.30951,
          "run": 11
         },
         {
          "location": "((1, 3), 'left')",
          "q_value": 0.30951,
          "run": 12
         },
         {
          "location": "((1, 3), 'left')",
          "q_value": 0.30951,
          "run": 13
         },
         {
          "location": "((1, 3), 'left')",
          "q_value": 0.30951,
          "run": 14
         },
         {
          "location": "((1, 3), 'left')",
          "q_value": 0.30951,
          "run": 15
         },
         {
          "location": "((1, 3), 'left')",
          "q_value": 0.30951,
          "run": 16
         },
         {
          "location": "((1, 3), 'left')",
          "q_value": 0.30951,
          "run": 17
         },
         {
          "location": "((1, 3), 'left')",
          "q_value": 0.30951,
          "run": 18
         },
         {
          "location": "((1, 3), 'left')",
          "q_value": 0.30951,
          "run": 19
         },
         {
          "location": "((1, 3), 'left')",
          "q_value": 0.30951,
          "run": 20
         },
         {
          "location": "((1, 3), 'left')",
          "q_value": 0.30951,
          "run": 21
         },
         {
          "location": "((1, 3), 'left')",
          "q_value": 0.30951,
          "run": 22
         },
         {
          "location": "((1, 3), 'left')",
          "q_value": 0.30951,
          "run": 23
         },
         {
          "location": "((1, 3), 'left')",
          "q_value": 0.30951,
          "run": 24
         },
         {
          "location": "((1, 3), 'left')",
          "q_value": 0.30951,
          "run": 25
         },
         {
          "location": "((1, 3), 'left')",
          "q_value": 0.30951,
          "run": 26
         },
         {
          "location": "((1, 3), 'left')",
          "q_value": 0.30951,
          "run": 27
         },
         {
          "location": "((1, 3), 'left')",
          "q_value": 0.30951,
          "run": 28
         },
         {
          "location": "((1, 3), 'left')",
          "q_value": 0.30951,
          "run": 29
         },
         {
          "location": "((1, 3), 'left')",
          "q_value": 1.126224236697264,
          "run": 30
         },
         {
          "location": "((1, 3), 'left')",
          "q_value": 1.126224236697264,
          "run": 31
         },
         {
          "location": "((1, 3), 'left')",
          "q_value": 1.126224236697264,
          "run": 32
         },
         {
          "location": "((1, 3), 'left')",
          "q_value": 1.126224236697264,
          "run": 33
         },
         {
          "location": "((1, 3), 'left')",
          "q_value": 1.126224236697264,
          "run": 34
         },
         {
          "location": "((1, 3), 'left')",
          "q_value": 1.126224236697264,
          "run": 35
         },
         {
          "location": "((1, 3), 'left')",
          "q_value": 1.126224236697264,
          "run": 36
         },
         {
          "location": "((1, 3), 'left')",
          "q_value": 1.126224236697264,
          "run": 37
         },
         {
          "location": "((1, 3), 'left')",
          "q_value": 1.126224236697264,
          "run": 38
         },
         {
          "location": "((1, 3), 'left')",
          "q_value": 1.126224236697264,
          "run": 39
         },
         {
          "location": "((1, 3), 'left')",
          "q_value": 1.126224236697264,
          "run": 40
         },
         {
          "location": "((1, 3), 'left')",
          "q_value": 1.126224236697264,
          "run": 41
         },
         {
          "location": "((1, 3), 'left')",
          "q_value": 1.126224236697264,
          "run": 42
         },
         {
          "location": "((1, 3), 'left')",
          "q_value": 1.126224236697264,
          "run": 43
         },
         {
          "location": "((1, 3), 'left')",
          "q_value": 1.126224236697264,
          "run": 44
         },
         {
          "location": "((1, 3), 'left')",
          "q_value": 1.126224236697264,
          "run": 45
         },
         {
          "location": "((1, 3), 'left')",
          "q_value": 1.9039040757296624,
          "run": 46
         },
         {
          "location": "((1, 3), 'left')",
          "q_value": 1.9039040757296624,
          "run": 47
         },
         {
          "location": "((1, 3), 'left')",
          "q_value": 1.9039040757296624,
          "run": 48
         },
         {
          "location": "((1, 3), 'left')",
          "q_value": 1.9039040757296624,
          "run": 49
         },
         {
          "location": "((1, 3), 'left')",
          "q_value": 1.9039040757296624,
          "run": 50
         },
         {
          "location": "((1, 3), 'left')",
          "q_value": 1.9039040757296624,
          "run": 51
         },
         {
          "location": "((1, 3), 'left')",
          "q_value": 1.9039040757296624,
          "run": 52
         },
         {
          "location": "((1, 3), 'left')",
          "q_value": 1.9039040757296624,
          "run": 53
         },
         {
          "location": "((1, 3), 'left')",
          "q_value": 1.9039040757296624,
          "run": 54
         },
         {
          "location": "((1, 3), 'left')",
          "q_value": 1.9039040757296624,
          "run": 55
         },
         {
          "location": "((1, 3), 'left')",
          "q_value": 1.9039040757296624,
          "run": 56
         },
         {
          "location": "((1, 3), 'left')",
          "q_value": 1.9039040757296624,
          "run": 57
         },
         {
          "location": "((1, 3), 'left')",
          "q_value": 1.9039040757296624,
          "run": 58
         },
         {
          "location": "((1, 3), 'left')",
          "q_value": 1.9039040757296624,
          "run": 59
         },
         {
          "location": "((1, 3), 'left')",
          "q_value": 1.9039040757296624,
          "run": 60
         },
         {
          "location": "((1, 3), 'left')",
          "q_value": 1.9039040757296624,
          "run": 61
         },
         {
          "location": "((1, 3), 'left')",
          "q_value": 1.9039040757296624,
          "run": 62
         },
         {
          "location": "((1, 3), 'left')",
          "q_value": 1.9039040757296624,
          "run": 63
         },
         {
          "location": "((1, 3), 'left')",
          "q_value": 1.9039040757296624,
          "run": 64
         },
         {
          "location": "((1, 3), 'left')",
          "q_value": 1.9039040757296624,
          "run": 65
         },
         {
          "location": "((1, 3), 'left')",
          "q_value": 1.9039040757296624,
          "run": 66
         },
         {
          "location": "((1, 3), 'left')",
          "q_value": 1.9039040757296624,
          "run": 67
         },
         {
          "location": "((1, 3), 'left')",
          "q_value": 1.9039040757296624,
          "run": 68
         },
         {
          "location": "((1, 3), 'left')",
          "q_value": 1.9039040757296624,
          "run": 69
         },
         {
          "location": "((1, 3), 'left')",
          "q_value": 1.9039040757296624,
          "run": 70
         },
         {
          "location": "((1, 3), 'left')",
          "q_value": 1.9039040757296624,
          "run": 71
         },
         {
          "location": "((1, 3), 'left')",
          "q_value": 1.9039040757296624,
          "run": 72
         },
         {
          "location": "((1, 3), 'left')",
          "q_value": 1.9039040757296624,
          "run": 73
         },
         {
          "location": "((1, 3), 'left')",
          "q_value": 1.9039040757296624,
          "run": 74
         },
         {
          "location": "((1, 3), 'left')",
          "q_value": 1.9039040757296624,
          "run": 75
         },
         {
          "location": "((1, 3), 'left')",
          "q_value": 1.9039040757296624,
          "run": 76
         },
         {
          "location": "((1, 3), 'left')",
          "q_value": 1.9039040757296624,
          "run": 77
         },
         {
          "location": "((1, 3), 'left')",
          "q_value": 1.9039040757296624,
          "run": 78
         },
         {
          "location": "((1, 3), 'left')",
          "q_value": 1.9039040757296624,
          "run": 79
         },
         {
          "location": "((1, 3), 'left')",
          "q_value": 1.9039040757296624,
          "run": 80
         },
         {
          "location": "((1, 3), 'left')",
          "q_value": 1.9039040757296624,
          "run": 81
         },
         {
          "location": "((1, 3), 'left')",
          "q_value": 1.9039040757296624,
          "run": 82
         },
         {
          "location": "((1, 3), 'left')",
          "q_value": 1.9039040757296624,
          "run": 83
         },
         {
          "location": "((1, 3), 'left')",
          "q_value": 1.9039040757296624,
          "run": 84
         },
         {
          "location": "((1, 3), 'left')",
          "q_value": 1.9039040757296624,
          "run": 85
         },
         {
          "location": "((1, 3), 'left')",
          "q_value": 1.9039040757296624,
          "run": 86
         },
         {
          "location": "((1, 3), 'left')",
          "q_value": 1.9039040757296624,
          "run": 87
         },
         {
          "location": "((1, 3), 'left')",
          "q_value": 1.9039040757296624,
          "run": 88
         },
         {
          "location": "((1, 3), 'left')",
          "q_value": 1.9039040757296624,
          "run": 89
         },
         {
          "location": "((1, 3), 'left')",
          "q_value": 1.9039040757296624,
          "run": 90
         },
         {
          "location": "((1, 3), 'left')",
          "q_value": 1.9039040757296624,
          "run": 91
         },
         {
          "location": "((1, 3), 'left')",
          "q_value": 1.9039040757296624,
          "run": 92
         },
         {
          "location": "((1, 3), 'left')",
          "q_value": 1.9039040757296624,
          "run": 93
         },
         {
          "location": "((1, 3), 'left')",
          "q_value": 1.9039040757296624,
          "run": 94
         },
         {
          "location": "((1, 3), 'left')",
          "q_value": 1.9039040757296624,
          "run": 95
         },
         {
          "location": "((1, 3), 'left')",
          "q_value": 1.9039040757296624,
          "run": 96
         },
         {
          "location": "((1, 3), 'left')",
          "q_value": 1.9039040757296624,
          "run": 97
         },
         {
          "location": "((1, 3), 'left')",
          "q_value": 1.9039040757296624,
          "run": 98
         },
         {
          "location": "((1, 3), 'left')",
          "q_value": 1.9039040757296624,
          "run": 99
         },
         {
          "location": "((1, 3), 'left')",
          "q_value": 1.9039040757296624,
          "run": 100
         },
         {
          "location": "((2, 0), 'down')",
          "q_value": 0,
          "run": 0
         },
         {
          "location": "((2, 0), 'down')",
          "q_value": 0,
          "run": 1
         },
         {
          "location": "((2, 0), 'down')",
          "q_value": 0,
          "run": 2
         },
         {
          "location": "((2, 0), 'down')",
          "q_value": 0,
          "run": 3
         },
         {
          "location": "((2, 0), 'down')",
          "q_value": 0,
          "run": 4
         },
         {
          "location": "((2, 0), 'down')",
          "q_value": 0,
          "run": 5
         },
         {
          "location": "((2, 0), 'down')",
          "q_value": 0,
          "run": 6
         },
         {
          "location": "((2, 0), 'down')",
          "q_value": 0,
          "run": 7
         },
         {
          "location": "((2, 0), 'down')",
          "q_value": 0,
          "run": 8
         },
         {
          "location": "((2, 0), 'down')",
          "q_value": 0,
          "run": 9
         },
         {
          "location": "((2, 0), 'down')",
          "q_value": 0,
          "run": 10
         },
         {
          "location": "((2, 0), 'down')",
          "q_value": 0,
          "run": 11
         },
         {
          "location": "((2, 0), 'down')",
          "q_value": 0,
          "run": 12
         },
         {
          "location": "((2, 0), 'down')",
          "q_value": 0,
          "run": 13
         },
         {
          "location": "((2, 0), 'down')",
          "q_value": 0,
          "run": 14
         },
         {
          "location": "((2, 0), 'down')",
          "q_value": 0,
          "run": 15
         },
         {
          "location": "((2, 0), 'down')",
          "q_value": 0,
          "run": 16
         },
         {
          "location": "((2, 0), 'down')",
          "q_value": 0,
          "run": 17
         },
         {
          "location": "((2, 0), 'down')",
          "q_value": 0,
          "run": 18
         },
         {
          "location": "((2, 0), 'down')",
          "q_value": 0,
          "run": 19
         },
         {
          "location": "((2, 0), 'down')",
          "q_value": 0,
          "run": 20
         },
         {
          "location": "((2, 0), 'down')",
          "q_value": 0,
          "run": 21
         },
         {
          "location": "((2, 0), 'down')",
          "q_value": 0,
          "run": 22
         },
         {
          "location": "((2, 0), 'down')",
          "q_value": 0,
          "run": 23
         },
         {
          "location": "((2, 0), 'down')",
          "q_value": 0,
          "run": 24
         },
         {
          "location": "((2, 0), 'down')",
          "q_value": 0,
          "run": 25
         },
         {
          "location": "((2, 0), 'down')",
          "q_value": 0,
          "run": 26
         },
         {
          "location": "((2, 0), 'down')",
          "q_value": 0,
          "run": 27
         },
         {
          "location": "((2, 0), 'down')",
          "q_value": 0,
          "run": 28
         },
         {
          "location": "((2, 0), 'down')",
          "q_value": 0,
          "run": 29
         },
         {
          "location": "((2, 0), 'down')",
          "q_value": 0,
          "run": 30
         },
         {
          "location": "((2, 0), 'down')",
          "q_value": 0,
          "run": 31
         },
         {
          "location": "((2, 0), 'down')",
          "q_value": 0,
          "run": 32
         },
         {
          "location": "((2, 0), 'down')",
          "q_value": 0,
          "run": 33
         },
         {
          "location": "((2, 0), 'down')",
          "q_value": 0,
          "run": 34
         },
         {
          "location": "((2, 0), 'down')",
          "q_value": 0,
          "run": 35
         },
         {
          "location": "((2, 0), 'down')",
          "q_value": 0,
          "run": 36
         },
         {
          "location": "((2, 0), 'down')",
          "q_value": 0,
          "run": 37
         },
         {
          "location": "((2, 0), 'down')",
          "q_value": 0,
          "run": 38
         },
         {
          "location": "((2, 0), 'down')",
          "q_value": 0,
          "run": 39
         },
         {
          "location": "((2, 0), 'down')",
          "q_value": 0,
          "run": 40
         },
         {
          "location": "((2, 0), 'down')",
          "q_value": 0,
          "run": 41
         },
         {
          "location": "((2, 0), 'down')",
          "q_value": 0,
          "run": 42
         },
         {
          "location": "((2, 0), 'down')",
          "q_value": 0,
          "run": 43
         },
         {
          "location": "((2, 0), 'down')",
          "q_value": 0,
          "run": 44
         },
         {
          "location": "((2, 0), 'down')",
          "q_value": 0,
          "run": 45
         },
         {
          "location": "((2, 0), 'down')",
          "q_value": 0,
          "run": 46
         },
         {
          "location": "((2, 0), 'down')",
          "q_value": 0,
          "run": 47
         },
         {
          "location": "((2, 0), 'down')",
          "q_value": 0,
          "run": 48
         },
         {
          "location": "((2, 0), 'down')",
          "q_value": 0,
          "run": 49
         },
         {
          "location": "((2, 0), 'down')",
          "q_value": 0,
          "run": 50
         },
         {
          "location": "((2, 0), 'down')",
          "q_value": 0,
          "run": 51
         },
         {
          "location": "((2, 0), 'down')",
          "q_value": 0,
          "run": 52
         },
         {
          "location": "((2, 0), 'down')",
          "q_value": 0,
          "run": 53
         },
         {
          "location": "((2, 0), 'down')",
          "q_value": 0,
          "run": 54
         },
         {
          "location": "((2, 0), 'down')",
          "q_value": 0,
          "run": 55
         },
         {
          "location": "((2, 0), 'down')",
          "q_value": 0,
          "run": 56
         },
         {
          "location": "((2, 0), 'down')",
          "q_value": 0,
          "run": 57
         },
         {
          "location": "((2, 0), 'down')",
          "q_value": 0,
          "run": 58
         },
         {
          "location": "((2, 0), 'down')",
          "q_value": 0,
          "run": 59
         },
         {
          "location": "((2, 0), 'down')",
          "q_value": 0,
          "run": 60
         },
         {
          "location": "((2, 0), 'down')",
          "q_value": 0,
          "run": 61
         },
         {
          "location": "((2, 0), 'down')",
          "q_value": 0,
          "run": 62
         },
         {
          "location": "((2, 0), 'down')",
          "q_value": 0,
          "run": 63
         },
         {
          "location": "((2, 0), 'down')",
          "q_value": 0,
          "run": 64
         },
         {
          "location": "((2, 0), 'down')",
          "q_value": 0,
          "run": 65
         },
         {
          "location": "((2, 0), 'down')",
          "q_value": 0,
          "run": 66
         },
         {
          "location": "((2, 0), 'down')",
          "q_value": 0,
          "run": 67
         },
         {
          "location": "((2, 0), 'down')",
          "q_value": 0,
          "run": 68
         },
         {
          "location": "((2, 0), 'down')",
          "q_value": 0,
          "run": 69
         },
         {
          "location": "((2, 0), 'down')",
          "q_value": 0,
          "run": 70
         },
         {
          "location": "((2, 0), 'down')",
          "q_value": 0,
          "run": 71
         },
         {
          "location": "((2, 0), 'down')",
          "q_value": 0,
          "run": 72
         },
         {
          "location": "((2, 0), 'down')",
          "q_value": 0,
          "run": 73
         },
         {
          "location": "((2, 0), 'down')",
          "q_value": 0,
          "run": 74
         },
         {
          "location": "((2, 0), 'down')",
          "q_value": 0,
          "run": 75
         },
         {
          "location": "((2, 0), 'down')",
          "q_value": 0,
          "run": 76
         },
         {
          "location": "((2, 0), 'down')",
          "q_value": 0,
          "run": 77
         },
         {
          "location": "((2, 0), 'down')",
          "q_value": 0,
          "run": 78
         },
         {
          "location": "((2, 0), 'down')",
          "q_value": 0,
          "run": 79
         },
         {
          "location": "((2, 0), 'down')",
          "q_value": 0,
          "run": 80
         },
         {
          "location": "((2, 0), 'down')",
          "q_value": 0,
          "run": 81
         },
         {
          "location": "((2, 0), 'down')",
          "q_value": 0,
          "run": 82
         },
         {
          "location": "((2, 0), 'down')",
          "q_value": 0,
          "run": 83
         },
         {
          "location": "((2, 0), 'down')",
          "q_value": 0,
          "run": 84
         },
         {
          "location": "((2, 0), 'down')",
          "q_value": 0,
          "run": 85
         },
         {
          "location": "((2, 0), 'down')",
          "q_value": 0,
          "run": 86
         },
         {
          "location": "((2, 0), 'down')",
          "q_value": 0,
          "run": 87
         },
         {
          "location": "((2, 0), 'down')",
          "q_value": 0,
          "run": 88
         },
         {
          "location": "((2, 0), 'down')",
          "q_value": 0,
          "run": 89
         },
         {
          "location": "((2, 0), 'down')",
          "q_value": 0,
          "run": 90
         },
         {
          "location": "((2, 0), 'down')",
          "q_value": 0,
          "run": 91
         },
         {
          "location": "((2, 0), 'down')",
          "q_value": 0,
          "run": 92
         },
         {
          "location": "((2, 0), 'down')",
          "q_value": 0,
          "run": 93
         },
         {
          "location": "((2, 0), 'down')",
          "q_value": 0,
          "run": 94
         },
         {
          "location": "((2, 0), 'down')",
          "q_value": 0,
          "run": 95
         },
         {
          "location": "((2, 0), 'down')",
          "q_value": 0,
          "run": 96
         },
         {
          "location": "((2, 0), 'down')",
          "q_value": 0,
          "run": 97
         },
         {
          "location": "((2, 0), 'down')",
          "q_value": 0,
          "run": 98
         },
         {
          "location": "((2, 0), 'down')",
          "q_value": 0,
          "run": 99
         },
         {
          "location": "((2, 0), 'down')",
          "q_value": 0,
          "run": 100
         },
         {
          "location": "((2, 0), 'right')",
          "q_value": 0,
          "run": 0
         },
         {
          "location": "((2, 0), 'right')",
          "q_value": 0,
          "run": 1
         },
         {
          "location": "((2, 0), 'right')",
          "q_value": 0,
          "run": 2
         },
         {
          "location": "((2, 0), 'right')",
          "q_value": 0,
          "run": 3
         },
         {
          "location": "((2, 0), 'right')",
          "q_value": 0,
          "run": 4
         },
         {
          "location": "((2, 0), 'right')",
          "q_value": 0,
          "run": 5
         },
         {
          "location": "((2, 0), 'right')",
          "q_value": 0,
          "run": 6
         },
         {
          "location": "((2, 0), 'right')",
          "q_value": 0,
          "run": 7
         },
         {
          "location": "((2, 0), 'right')",
          "q_value": 0,
          "run": 8
         },
         {
          "location": "((2, 0), 'right')",
          "q_value": 0,
          "run": 9
         },
         {
          "location": "((2, 0), 'right')",
          "q_value": 0,
          "run": 10
         },
         {
          "location": "((2, 0), 'right')",
          "q_value": 0,
          "run": 11
         },
         {
          "location": "((2, 0), 'right')",
          "q_value": 0,
          "run": 12
         },
         {
          "location": "((2, 0), 'right')",
          "q_value": 0,
          "run": 13
         },
         {
          "location": "((2, 0), 'right')",
          "q_value": 0,
          "run": 14
         },
         {
          "location": "((2, 0), 'right')",
          "q_value": 0,
          "run": 15
         },
         {
          "location": "((2, 0), 'right')",
          "q_value": 0,
          "run": 16
         },
         {
          "location": "((2, 0), 'right')",
          "q_value": 0,
          "run": 17
         },
         {
          "location": "((2, 0), 'right')",
          "q_value": 0,
          "run": 18
         },
         {
          "location": "((2, 0), 'right')",
          "q_value": 0,
          "run": 19
         },
         {
          "location": "((2, 0), 'right')",
          "q_value": 0,
          "run": 20
         },
         {
          "location": "((2, 0), 'right')",
          "q_value": 0,
          "run": 21
         },
         {
          "location": "((2, 0), 'right')",
          "q_value": 0,
          "run": 22
         },
         {
          "location": "((2, 0), 'right')",
          "q_value": 0,
          "run": 23
         },
         {
          "location": "((2, 0), 'right')",
          "q_value": 0,
          "run": 24
         },
         {
          "location": "((2, 0), 'right')",
          "q_value": 0,
          "run": 25
         },
         {
          "location": "((2, 0), 'right')",
          "q_value": 0,
          "run": 26
         },
         {
          "location": "((2, 0), 'right')",
          "q_value": 0,
          "run": 27
         },
         {
          "location": "((2, 0), 'right')",
          "q_value": 0,
          "run": 28
         },
         {
          "location": "((2, 0), 'right')",
          "q_value": 0,
          "run": 29
         },
         {
          "location": "((2, 0), 'right')",
          "q_value": 0,
          "run": 30
         },
         {
          "location": "((2, 0), 'right')",
          "q_value": 0,
          "run": 31
         },
         {
          "location": "((2, 0), 'right')",
          "q_value": 0,
          "run": 32
         },
         {
          "location": "((2, 0), 'right')",
          "q_value": 0,
          "run": 33
         },
         {
          "location": "((2, 0), 'right')",
          "q_value": 0,
          "run": 34
         },
         {
          "location": "((2, 0), 'right')",
          "q_value": 0,
          "run": 35
         },
         {
          "location": "((2, 0), 'right')",
          "q_value": 0,
          "run": 36
         },
         {
          "location": "((2, 0), 'right')",
          "q_value": 0,
          "run": 37
         },
         {
          "location": "((2, 0), 'right')",
          "q_value": 0,
          "run": 38
         },
         {
          "location": "((2, 0), 'right')",
          "q_value": 0,
          "run": 39
         },
         {
          "location": "((2, 0), 'right')",
          "q_value": 0,
          "run": 40
         },
         {
          "location": "((2, 0), 'right')",
          "q_value": 0,
          "run": 41
         },
         {
          "location": "((2, 0), 'right')",
          "q_value": 0,
          "run": 42
         },
         {
          "location": "((2, 0), 'right')",
          "q_value": 0,
          "run": 43
         },
         {
          "location": "((2, 0), 'right')",
          "q_value": 0,
          "run": 44
         },
         {
          "location": "((2, 0), 'right')",
          "q_value": 0,
          "run": 45
         },
         {
          "location": "((2, 0), 'right')",
          "q_value": 0,
          "run": 46
         },
         {
          "location": "((2, 0), 'right')",
          "q_value": 0,
          "run": 47
         },
         {
          "location": "((2, 0), 'right')",
          "q_value": 0,
          "run": 48
         },
         {
          "location": "((2, 0), 'right')",
          "q_value": 0,
          "run": 49
         },
         {
          "location": "((2, 0), 'right')",
          "q_value": 0,
          "run": 50
         },
         {
          "location": "((2, 0), 'right')",
          "q_value": 0,
          "run": 51
         },
         {
          "location": "((2, 0), 'right')",
          "q_value": 0,
          "run": 52
         },
         {
          "location": "((2, 0), 'right')",
          "q_value": 0,
          "run": 53
         },
         {
          "location": "((2, 0), 'right')",
          "q_value": 0,
          "run": 54
         },
         {
          "location": "((2, 0), 'right')",
          "q_value": 0,
          "run": 55
         },
         {
          "location": "((2, 0), 'right')",
          "q_value": 0,
          "run": 56
         },
         {
          "location": "((2, 0), 'right')",
          "q_value": 0,
          "run": 57
         },
         {
          "location": "((2, 0), 'right')",
          "q_value": 0,
          "run": 58
         },
         {
          "location": "((2, 0), 'right')",
          "q_value": 0,
          "run": 59
         },
         {
          "location": "((2, 0), 'right')",
          "q_value": 0,
          "run": 60
         },
         {
          "location": "((2, 0), 'right')",
          "q_value": 0,
          "run": 61
         },
         {
          "location": "((2, 0), 'right')",
          "q_value": 0,
          "run": 62
         },
         {
          "location": "((2, 0), 'right')",
          "q_value": 0,
          "run": 63
         },
         {
          "location": "((2, 0), 'right')",
          "q_value": 0,
          "run": 64
         },
         {
          "location": "((2, 0), 'right')",
          "q_value": 0,
          "run": 65
         },
         {
          "location": "((2, 0), 'right')",
          "q_value": 0,
          "run": 66
         },
         {
          "location": "((2, 0), 'right')",
          "q_value": 0,
          "run": 67
         },
         {
          "location": "((2, 0), 'right')",
          "q_value": 0,
          "run": 68
         },
         {
          "location": "((2, 0), 'right')",
          "q_value": 0,
          "run": 69
         },
         {
          "location": "((2, 0), 'right')",
          "q_value": 0,
          "run": 70
         },
         {
          "location": "((2, 0), 'right')",
          "q_value": 0,
          "run": 71
         },
         {
          "location": "((2, 0), 'right')",
          "q_value": 0,
          "run": 72
         },
         {
          "location": "((2, 0), 'right')",
          "q_value": 0,
          "run": 73
         },
         {
          "location": "((2, 0), 'right')",
          "q_value": 0,
          "run": 74
         },
         {
          "location": "((2, 0), 'right')",
          "q_value": 0,
          "run": 75
         },
         {
          "location": "((2, 0), 'right')",
          "q_value": 0,
          "run": 76
         },
         {
          "location": "((2, 0), 'right')",
          "q_value": 0,
          "run": 77
         },
         {
          "location": "((2, 0), 'right')",
          "q_value": 0,
          "run": 78
         },
         {
          "location": "((2, 0), 'right')",
          "q_value": 0,
          "run": 79
         },
         {
          "location": "((2, 0), 'right')",
          "q_value": 0,
          "run": 80
         },
         {
          "location": "((2, 0), 'right')",
          "q_value": 0,
          "run": 81
         },
         {
          "location": "((2, 0), 'right')",
          "q_value": 0,
          "run": 82
         },
         {
          "location": "((2, 0), 'right')",
          "q_value": 0,
          "run": 83
         },
         {
          "location": "((2, 0), 'right')",
          "q_value": 0,
          "run": 84
         },
         {
          "location": "((2, 0), 'right')",
          "q_value": 0,
          "run": 85
         },
         {
          "location": "((2, 0), 'right')",
          "q_value": 0,
          "run": 86
         },
         {
          "location": "((2, 0), 'right')",
          "q_value": 0,
          "run": 87
         },
         {
          "location": "((2, 0), 'right')",
          "q_value": 0,
          "run": 88
         },
         {
          "location": "((2, 0), 'right')",
          "q_value": 0,
          "run": 89
         },
         {
          "location": "((2, 0), 'right')",
          "q_value": 0,
          "run": 90
         },
         {
          "location": "((2, 0), 'right')",
          "q_value": 0,
          "run": 91
         },
         {
          "location": "((2, 0), 'right')",
          "q_value": 0,
          "run": 92
         },
         {
          "location": "((2, 0), 'right')",
          "q_value": 0,
          "run": 93
         },
         {
          "location": "((2, 0), 'right')",
          "q_value": 0,
          "run": 94
         },
         {
          "location": "((2, 0), 'right')",
          "q_value": 0,
          "run": 95
         },
         {
          "location": "((2, 0), 'right')",
          "q_value": 0,
          "run": 96
         },
         {
          "location": "((2, 0), 'right')",
          "q_value": 0,
          "run": 97
         },
         {
          "location": "((2, 0), 'right')",
          "q_value": 0,
          "run": 98
         },
         {
          "location": "((2, 0), 'right')",
          "q_value": 0,
          "run": 99
         },
         {
          "location": "((2, 0), 'right')",
          "q_value": 0,
          "run": 100
         },
         {
          "location": "((2, 0), 'up')",
          "q_value": 0,
          "run": 0
         },
         {
          "location": "((2, 0), 'up')",
          "q_value": 0,
          "run": 1
         },
         {
          "location": "((2, 0), 'up')",
          "q_value": 0,
          "run": 2
         },
         {
          "location": "((2, 0), 'up')",
          "q_value": 0,
          "run": 3
         },
         {
          "location": "((2, 0), 'up')",
          "q_value": 0,
          "run": 4
         },
         {
          "location": "((2, 0), 'up')",
          "q_value": 0,
          "run": 5
         },
         {
          "location": "((2, 0), 'up')",
          "q_value": 0,
          "run": 6
         },
         {
          "location": "((2, 0), 'up')",
          "q_value": 0,
          "run": 7
         },
         {
          "location": "((2, 0), 'up')",
          "q_value": 0,
          "run": 8
         },
         {
          "location": "((2, 0), 'up')",
          "q_value": 0,
          "run": 9
         },
         {
          "location": "((2, 0), 'up')",
          "q_value": 0,
          "run": 10
         },
         {
          "location": "((2, 0), 'up')",
          "q_value": 0,
          "run": 11
         },
         {
          "location": "((2, 0), 'up')",
          "q_value": 0,
          "run": 12
         },
         {
          "location": "((2, 0), 'up')",
          "q_value": 0,
          "run": 13
         },
         {
          "location": "((2, 0), 'up')",
          "q_value": 0,
          "run": 14
         },
         {
          "location": "((2, 0), 'up')",
          "q_value": 0,
          "run": 15
         },
         {
          "location": "((2, 0), 'up')",
          "q_value": 0,
          "run": 16
         },
         {
          "location": "((2, 0), 'up')",
          "q_value": 0,
          "run": 17
         },
         {
          "location": "((2, 0), 'up')",
          "q_value": 0,
          "run": 18
         },
         {
          "location": "((2, 0), 'up')",
          "q_value": 0,
          "run": 19
         },
         {
          "location": "((2, 0), 'up')",
          "q_value": 0,
          "run": 20
         },
         {
          "location": "((2, 0), 'up')",
          "q_value": 0,
          "run": 21
         },
         {
          "location": "((2, 0), 'up')",
          "q_value": 0,
          "run": 22
         },
         {
          "location": "((2, 0), 'up')",
          "q_value": 0,
          "run": 23
         },
         {
          "location": "((2, 0), 'up')",
          "q_value": 0,
          "run": 24
         },
         {
          "location": "((2, 0), 'up')",
          "q_value": 0,
          "run": 25
         },
         {
          "location": "((2, 0), 'up')",
          "q_value": 0,
          "run": 26
         },
         {
          "location": "((2, 0), 'up')",
          "q_value": 0,
          "run": 27
         },
         {
          "location": "((2, 0), 'up')",
          "q_value": 0,
          "run": 28
         },
         {
          "location": "((2, 0), 'up')",
          "q_value": 0,
          "run": 29
         },
         {
          "location": "((2, 0), 'up')",
          "q_value": 0,
          "run": 30
         },
         {
          "location": "((2, 0), 'up')",
          "q_value": 0,
          "run": 31
         },
         {
          "location": "((2, 0), 'up')",
          "q_value": 0,
          "run": 32
         },
         {
          "location": "((2, 0), 'up')",
          "q_value": 0,
          "run": 33
         },
         {
          "location": "((2, 0), 'up')",
          "q_value": 0,
          "run": 34
         },
         {
          "location": "((2, 0), 'up')",
          "q_value": 0,
          "run": 35
         },
         {
          "location": "((2, 0), 'up')",
          "q_value": 0,
          "run": 36
         },
         {
          "location": "((2, 0), 'up')",
          "q_value": 0,
          "run": 37
         },
         {
          "location": "((2, 0), 'up')",
          "q_value": 0,
          "run": 38
         },
         {
          "location": "((2, 0), 'up')",
          "q_value": 0,
          "run": 39
         },
         {
          "location": "((2, 0), 'up')",
          "q_value": 0,
          "run": 40
         },
         {
          "location": "((2, 0), 'up')",
          "q_value": 0,
          "run": 41
         },
         {
          "location": "((2, 0), 'up')",
          "q_value": 0,
          "run": 42
         },
         {
          "location": "((2, 0), 'up')",
          "q_value": 0,
          "run": 43
         },
         {
          "location": "((2, 0), 'up')",
          "q_value": 0,
          "run": 44
         },
         {
          "location": "((2, 0), 'up')",
          "q_value": 0,
          "run": 45
         },
         {
          "location": "((2, 0), 'up')",
          "q_value": 0,
          "run": 46
         },
         {
          "location": "((2, 0), 'up')",
          "q_value": 0,
          "run": 47
         },
         {
          "location": "((2, 0), 'up')",
          "q_value": 0,
          "run": 48
         },
         {
          "location": "((2, 0), 'up')",
          "q_value": 0,
          "run": 49
         },
         {
          "location": "((2, 0), 'up')",
          "q_value": 0,
          "run": 50
         },
         {
          "location": "((2, 0), 'up')",
          "q_value": 0,
          "run": 51
         },
         {
          "location": "((2, 0), 'up')",
          "q_value": 0,
          "run": 52
         },
         {
          "location": "((2, 0), 'up')",
          "q_value": 0,
          "run": 53
         },
         {
          "location": "((2, 0), 'up')",
          "q_value": 0,
          "run": 54
         },
         {
          "location": "((2, 0), 'up')",
          "q_value": 0,
          "run": 55
         },
         {
          "location": "((2, 0), 'up')",
          "q_value": 0,
          "run": 56
         },
         {
          "location": "((2, 0), 'up')",
          "q_value": 0,
          "run": 57
         },
         {
          "location": "((2, 0), 'up')",
          "q_value": 0,
          "run": 58
         },
         {
          "location": "((2, 0), 'up')",
          "q_value": 0,
          "run": 59
         },
         {
          "location": "((2, 0), 'up')",
          "q_value": 0,
          "run": 60
         },
         {
          "location": "((2, 0), 'up')",
          "q_value": 0,
          "run": 61
         },
         {
          "location": "((2, 0), 'up')",
          "q_value": 0,
          "run": 62
         },
         {
          "location": "((2, 0), 'up')",
          "q_value": 0,
          "run": 63
         },
         {
          "location": "((2, 0), 'up')",
          "q_value": 0,
          "run": 64
         },
         {
          "location": "((2, 0), 'up')",
          "q_value": 0,
          "run": 65
         },
         {
          "location": "((2, 0), 'up')",
          "q_value": 0,
          "run": 66
         },
         {
          "location": "((2, 0), 'up')",
          "q_value": 0,
          "run": 67
         },
         {
          "location": "((2, 0), 'up')",
          "q_value": 0,
          "run": 68
         },
         {
          "location": "((2, 0), 'up')",
          "q_value": 0,
          "run": 69
         },
         {
          "location": "((2, 0), 'up')",
          "q_value": 0,
          "run": 70
         },
         {
          "location": "((2, 0), 'up')",
          "q_value": 0,
          "run": 71
         },
         {
          "location": "((2, 0), 'up')",
          "q_value": 0,
          "run": 72
         },
         {
          "location": "((2, 0), 'up')",
          "q_value": 0,
          "run": 73
         },
         {
          "location": "((2, 0), 'up')",
          "q_value": 0,
          "run": 74
         },
         {
          "location": "((2, 0), 'up')",
          "q_value": 0,
          "run": 75
         },
         {
          "location": "((2, 0), 'up')",
          "q_value": 0,
          "run": 76
         },
         {
          "location": "((2, 0), 'up')",
          "q_value": 0,
          "run": 77
         },
         {
          "location": "((2, 0), 'up')",
          "q_value": 0,
          "run": 78
         },
         {
          "location": "((2, 0), 'up')",
          "q_value": 0,
          "run": 79
         },
         {
          "location": "((2, 0), 'up')",
          "q_value": 0,
          "run": 80
         },
         {
          "location": "((2, 0), 'up')",
          "q_value": 0,
          "run": 81
         },
         {
          "location": "((2, 0), 'up')",
          "q_value": 0,
          "run": 82
         },
         {
          "location": "((2, 0), 'up')",
          "q_value": 0,
          "run": 83
         },
         {
          "location": "((2, 0), 'up')",
          "q_value": 0,
          "run": 84
         },
         {
          "location": "((2, 0), 'up')",
          "q_value": 0,
          "run": 85
         },
         {
          "location": "((2, 0), 'up')",
          "q_value": 0,
          "run": 86
         },
         {
          "location": "((2, 0), 'up')",
          "q_value": 0,
          "run": 87
         },
         {
          "location": "((2, 0), 'up')",
          "q_value": 0,
          "run": 88
         },
         {
          "location": "((2, 0), 'up')",
          "q_value": 0,
          "run": 89
         },
         {
          "location": "((2, 0), 'up')",
          "q_value": 0,
          "run": 90
         },
         {
          "location": "((2, 0), 'up')",
          "q_value": 0,
          "run": 91
         },
         {
          "location": "((2, 0), 'up')",
          "q_value": 0,
          "run": 92
         },
         {
          "location": "((2, 0), 'up')",
          "q_value": 0,
          "run": 93
         },
         {
          "location": "((2, 0), 'up')",
          "q_value": 0,
          "run": 94
         },
         {
          "location": "((2, 0), 'up')",
          "q_value": 0,
          "run": 95
         },
         {
          "location": "((2, 0), 'up')",
          "q_value": 0,
          "run": 96
         },
         {
          "location": "((2, 0), 'up')",
          "q_value": 0,
          "run": 97
         },
         {
          "location": "((2, 0), 'up')",
          "q_value": 0,
          "run": 98
         },
         {
          "location": "((2, 0), 'up')",
          "q_value": 0,
          "run": 99
         },
         {
          "location": "((2, 0), 'up')",
          "q_value": 0,
          "run": 100
         },
         {
          "location": "((2, 0), 'left')",
          "q_value": 0,
          "run": 0
         },
         {
          "location": "((2, 0), 'left')",
          "q_value": 0,
          "run": 1
         },
         {
          "location": "((2, 0), 'left')",
          "q_value": 0,
          "run": 2
         },
         {
          "location": "((2, 0), 'left')",
          "q_value": 0,
          "run": 3
         },
         {
          "location": "((2, 0), 'left')",
          "q_value": 0,
          "run": 4
         },
         {
          "location": "((2, 0), 'left')",
          "q_value": 0,
          "run": 5
         },
         {
          "location": "((2, 0), 'left')",
          "q_value": 0,
          "run": 6
         },
         {
          "location": "((2, 0), 'left')",
          "q_value": 0,
          "run": 7
         },
         {
          "location": "((2, 0), 'left')",
          "q_value": 0,
          "run": 8
         },
         {
          "location": "((2, 0), 'left')",
          "q_value": 0,
          "run": 9
         },
         {
          "location": "((2, 0), 'left')",
          "q_value": 0,
          "run": 10
         },
         {
          "location": "((2, 0), 'left')",
          "q_value": 0,
          "run": 11
         },
         {
          "location": "((2, 0), 'left')",
          "q_value": 0,
          "run": 12
         },
         {
          "location": "((2, 0), 'left')",
          "q_value": 0,
          "run": 13
         },
         {
          "location": "((2, 0), 'left')",
          "q_value": 0,
          "run": 14
         },
         {
          "location": "((2, 0), 'left')",
          "q_value": 0,
          "run": 15
         },
         {
          "location": "((2, 0), 'left')",
          "q_value": 0,
          "run": 16
         },
         {
          "location": "((2, 0), 'left')",
          "q_value": 0,
          "run": 17
         },
         {
          "location": "((2, 0), 'left')",
          "q_value": 0,
          "run": 18
         },
         {
          "location": "((2, 0), 'left')",
          "q_value": 0,
          "run": 19
         },
         {
          "location": "((2, 0), 'left')",
          "q_value": 0,
          "run": 20
         },
         {
          "location": "((2, 0), 'left')",
          "q_value": 0,
          "run": 21
         },
         {
          "location": "((2, 0), 'left')",
          "q_value": 0,
          "run": 22
         },
         {
          "location": "((2, 0), 'left')",
          "q_value": 0,
          "run": 23
         },
         {
          "location": "((2, 0), 'left')",
          "q_value": 0,
          "run": 24
         },
         {
          "location": "((2, 0), 'left')",
          "q_value": 0,
          "run": 25
         },
         {
          "location": "((2, 0), 'left')",
          "q_value": 0,
          "run": 26
         },
         {
          "location": "((2, 0), 'left')",
          "q_value": 0,
          "run": 27
         },
         {
          "location": "((2, 0), 'left')",
          "q_value": 0,
          "run": 28
         },
         {
          "location": "((2, 0), 'left')",
          "q_value": 0,
          "run": 29
         },
         {
          "location": "((2, 0), 'left')",
          "q_value": 0,
          "run": 30
         },
         {
          "location": "((2, 0), 'left')",
          "q_value": 0,
          "run": 31
         },
         {
          "location": "((2, 0), 'left')",
          "q_value": 0,
          "run": 32
         },
         {
          "location": "((2, 0), 'left')",
          "q_value": 0,
          "run": 33
         },
         {
          "location": "((2, 0), 'left')",
          "q_value": 0,
          "run": 34
         },
         {
          "location": "((2, 0), 'left')",
          "q_value": 0,
          "run": 35
         },
         {
          "location": "((2, 0), 'left')",
          "q_value": 0,
          "run": 36
         },
         {
          "location": "((2, 0), 'left')",
          "q_value": 0,
          "run": 37
         },
         {
          "location": "((2, 0), 'left')",
          "q_value": 0,
          "run": 38
         },
         {
          "location": "((2, 0), 'left')",
          "q_value": 0,
          "run": 39
         },
         {
          "location": "((2, 0), 'left')",
          "q_value": 0,
          "run": 40
         },
         {
          "location": "((2, 0), 'left')",
          "q_value": 0,
          "run": 41
         },
         {
          "location": "((2, 0), 'left')",
          "q_value": 0,
          "run": 42
         },
         {
          "location": "((2, 0), 'left')",
          "q_value": 0,
          "run": 43
         },
         {
          "location": "((2, 0), 'left')",
          "q_value": 0,
          "run": 44
         },
         {
          "location": "((2, 0), 'left')",
          "q_value": 0,
          "run": 45
         },
         {
          "location": "((2, 0), 'left')",
          "q_value": 0,
          "run": 46
         },
         {
          "location": "((2, 0), 'left')",
          "q_value": 0,
          "run": 47
         },
         {
          "location": "((2, 0), 'left')",
          "q_value": 0,
          "run": 48
         },
         {
          "location": "((2, 0), 'left')",
          "q_value": 0,
          "run": 49
         },
         {
          "location": "((2, 0), 'left')",
          "q_value": 0,
          "run": 50
         },
         {
          "location": "((2, 0), 'left')",
          "q_value": 0,
          "run": 51
         },
         {
          "location": "((2, 0), 'left')",
          "q_value": 0,
          "run": 52
         },
         {
          "location": "((2, 0), 'left')",
          "q_value": 0,
          "run": 53
         },
         {
          "location": "((2, 0), 'left')",
          "q_value": 0,
          "run": 54
         },
         {
          "location": "((2, 0), 'left')",
          "q_value": 0,
          "run": 55
         },
         {
          "location": "((2, 0), 'left')",
          "q_value": 0,
          "run": 56
         },
         {
          "location": "((2, 0), 'left')",
          "q_value": 0,
          "run": 57
         },
         {
          "location": "((2, 0), 'left')",
          "q_value": 0,
          "run": 58
         },
         {
          "location": "((2, 0), 'left')",
          "q_value": 0,
          "run": 59
         },
         {
          "location": "((2, 0), 'left')",
          "q_value": 0,
          "run": 60
         },
         {
          "location": "((2, 0), 'left')",
          "q_value": 0,
          "run": 61
         },
         {
          "location": "((2, 0), 'left')",
          "q_value": 0,
          "run": 62
         },
         {
          "location": "((2, 0), 'left')",
          "q_value": 0,
          "run": 63
         },
         {
          "location": "((2, 0), 'left')",
          "q_value": 0,
          "run": 64
         },
         {
          "location": "((2, 0), 'left')",
          "q_value": 0,
          "run": 65
         },
         {
          "location": "((2, 0), 'left')",
          "q_value": 0,
          "run": 66
         },
         {
          "location": "((2, 0), 'left')",
          "q_value": 0,
          "run": 67
         },
         {
          "location": "((2, 0), 'left')",
          "q_value": 0,
          "run": 68
         },
         {
          "location": "((2, 0), 'left')",
          "q_value": 0,
          "run": 69
         },
         {
          "location": "((2, 0), 'left')",
          "q_value": 0,
          "run": 70
         },
         {
          "location": "((2, 0), 'left')",
          "q_value": 0,
          "run": 71
         },
         {
          "location": "((2, 0), 'left')",
          "q_value": 0,
          "run": 72
         },
         {
          "location": "((2, 0), 'left')",
          "q_value": 0,
          "run": 73
         },
         {
          "location": "((2, 0), 'left')",
          "q_value": 0,
          "run": 74
         },
         {
          "location": "((2, 0), 'left')",
          "q_value": 0,
          "run": 75
         },
         {
          "location": "((2, 0), 'left')",
          "q_value": 0,
          "run": 76
         },
         {
          "location": "((2, 0), 'left')",
          "q_value": 0,
          "run": 77
         },
         {
          "location": "((2, 0), 'left')",
          "q_value": 0,
          "run": 78
         },
         {
          "location": "((2, 0), 'left')",
          "q_value": 0,
          "run": 79
         },
         {
          "location": "((2, 0), 'left')",
          "q_value": 0,
          "run": 80
         },
         {
          "location": "((2, 0), 'left')",
          "q_value": 0,
          "run": 81
         },
         {
          "location": "((2, 0), 'left')",
          "q_value": 0,
          "run": 82
         },
         {
          "location": "((2, 0), 'left')",
          "q_value": 0,
          "run": 83
         },
         {
          "location": "((2, 0), 'left')",
          "q_value": 0,
          "run": 84
         },
         {
          "location": "((2, 0), 'left')",
          "q_value": 0,
          "run": 85
         },
         {
          "location": "((2, 0), 'left')",
          "q_value": 0,
          "run": 86
         },
         {
          "location": "((2, 0), 'left')",
          "q_value": 0,
          "run": 87
         },
         {
          "location": "((2, 0), 'left')",
          "q_value": 0,
          "run": 88
         },
         {
          "location": "((2, 0), 'left')",
          "q_value": 0,
          "run": 89
         },
         {
          "location": "((2, 0), 'left')",
          "q_value": 0,
          "run": 90
         },
         {
          "location": "((2, 0), 'left')",
          "q_value": 0,
          "run": 91
         },
         {
          "location": "((2, 0), 'left')",
          "q_value": 0,
          "run": 92
         },
         {
          "location": "((2, 0), 'left')",
          "q_value": 0,
          "run": 93
         },
         {
          "location": "((2, 0), 'left')",
          "q_value": 0,
          "run": 94
         },
         {
          "location": "((2, 0), 'left')",
          "q_value": 0,
          "run": 95
         },
         {
          "location": "((2, 0), 'left')",
          "q_value": 0,
          "run": 96
         },
         {
          "location": "((2, 0), 'left')",
          "q_value": 0,
          "run": 97
         },
         {
          "location": "((2, 0), 'left')",
          "q_value": 0,
          "run": 98
         },
         {
          "location": "((2, 0), 'left')",
          "q_value": 0,
          "run": 99
         },
         {
          "location": "((2, 0), 'left')",
          "q_value": 0,
          "run": 100
         },
         {
          "location": "((2, 1), 'down')",
          "q_value": 0,
          "run": 0
         },
         {
          "location": "((2, 1), 'down')",
          "q_value": 0,
          "run": 1
         },
         {
          "location": "((2, 1), 'down')",
          "q_value": 0,
          "run": 2
         },
         {
          "location": "((2, 1), 'down')",
          "q_value": 0,
          "run": 3
         },
         {
          "location": "((2, 1), 'down')",
          "q_value": 0,
          "run": 4
         },
         {
          "location": "((2, 1), 'down')",
          "q_value": 0,
          "run": 5
         },
         {
          "location": "((2, 1), 'down')",
          "q_value": 0,
          "run": 6
         },
         {
          "location": "((2, 1), 'down')",
          "q_value": 0,
          "run": 7
         },
         {
          "location": "((2, 1), 'down')",
          "q_value": 0,
          "run": 8
         },
         {
          "location": "((2, 1), 'down')",
          "q_value": 0,
          "run": 9
         },
         {
          "location": "((2, 1), 'down')",
          "q_value": 0,
          "run": 10
         },
         {
          "location": "((2, 1), 'down')",
          "q_value": 0,
          "run": 11
         },
         {
          "location": "((2, 1), 'down')",
          "q_value": 0,
          "run": 12
         },
         {
          "location": "((2, 1), 'down')",
          "q_value": 0,
          "run": 13
         },
         {
          "location": "((2, 1), 'down')",
          "q_value": 0,
          "run": 14
         },
         {
          "location": "((2, 1), 'down')",
          "q_value": 0,
          "run": 15
         },
         {
          "location": "((2, 1), 'down')",
          "q_value": 0,
          "run": 16
         },
         {
          "location": "((2, 1), 'down')",
          "q_value": 0,
          "run": 17
         },
         {
          "location": "((2, 1), 'down')",
          "q_value": 0,
          "run": 18
         },
         {
          "location": "((2, 1), 'down')",
          "q_value": 0,
          "run": 19
         },
         {
          "location": "((2, 1), 'down')",
          "q_value": 0,
          "run": 20
         },
         {
          "location": "((2, 1), 'down')",
          "q_value": 0,
          "run": 21
         },
         {
          "location": "((2, 1), 'down')",
          "q_value": 0,
          "run": 22
         },
         {
          "location": "((2, 1), 'down')",
          "q_value": 0,
          "run": 23
         },
         {
          "location": "((2, 1), 'down')",
          "q_value": 0,
          "run": 24
         },
         {
          "location": "((2, 1), 'down')",
          "q_value": 0,
          "run": 25
         },
         {
          "location": "((2, 1), 'down')",
          "q_value": 0,
          "run": 26
         },
         {
          "location": "((2, 1), 'down')",
          "q_value": 0,
          "run": 27
         },
         {
          "location": "((2, 1), 'down')",
          "q_value": 0,
          "run": 28
         },
         {
          "location": "((2, 1), 'down')",
          "q_value": 0,
          "run": 29
         },
         {
          "location": "((2, 1), 'down')",
          "q_value": 0,
          "run": 30
         },
         {
          "location": "((2, 1), 'down')",
          "q_value": 0,
          "run": 31
         },
         {
          "location": "((2, 1), 'down')",
          "q_value": 0,
          "run": 32
         },
         {
          "location": "((2, 1), 'down')",
          "q_value": 0,
          "run": 33
         },
         {
          "location": "((2, 1), 'down')",
          "q_value": 0,
          "run": 34
         },
         {
          "location": "((2, 1), 'down')",
          "q_value": 0,
          "run": 35
         },
         {
          "location": "((2, 1), 'down')",
          "q_value": 0,
          "run": 36
         },
         {
          "location": "((2, 1), 'down')",
          "q_value": 0,
          "run": 37
         },
         {
          "location": "((2, 1), 'down')",
          "q_value": 0,
          "run": 38
         },
         {
          "location": "((2, 1), 'down')",
          "q_value": 0,
          "run": 39
         },
         {
          "location": "((2, 1), 'down')",
          "q_value": 0,
          "run": 40
         },
         {
          "location": "((2, 1), 'down')",
          "q_value": 0,
          "run": 41
         },
         {
          "location": "((2, 1), 'down')",
          "q_value": 0,
          "run": 42
         },
         {
          "location": "((2, 1), 'down')",
          "q_value": 0,
          "run": 43
         },
         {
          "location": "((2, 1), 'down')",
          "q_value": 0,
          "run": 44
         },
         {
          "location": "((2, 1), 'down')",
          "q_value": 0,
          "run": 45
         },
         {
          "location": "((2, 1), 'down')",
          "q_value": 0,
          "run": 46
         },
         {
          "location": "((2, 1), 'down')",
          "q_value": 0,
          "run": 47
         },
         {
          "location": "((2, 1), 'down')",
          "q_value": 0,
          "run": 48
         },
         {
          "location": "((2, 1), 'down')",
          "q_value": 0,
          "run": 49
         },
         {
          "location": "((2, 1), 'down')",
          "q_value": 0,
          "run": 50
         },
         {
          "location": "((2, 1), 'down')",
          "q_value": 0,
          "run": 51
         },
         {
          "location": "((2, 1), 'down')",
          "q_value": 0,
          "run": 52
         },
         {
          "location": "((2, 1), 'down')",
          "q_value": 0,
          "run": 53
         },
         {
          "location": "((2, 1), 'down')",
          "q_value": 0,
          "run": 54
         },
         {
          "location": "((2, 1), 'down')",
          "q_value": 0,
          "run": 55
         },
         {
          "location": "((2, 1), 'down')",
          "q_value": 0,
          "run": 56
         },
         {
          "location": "((2, 1), 'down')",
          "q_value": 0,
          "run": 57
         },
         {
          "location": "((2, 1), 'down')",
          "q_value": 0,
          "run": 58
         },
         {
          "location": "((2, 1), 'down')",
          "q_value": 0,
          "run": 59
         },
         {
          "location": "((2, 1), 'down')",
          "q_value": 0,
          "run": 60
         },
         {
          "location": "((2, 1), 'down')",
          "q_value": 0,
          "run": 61
         },
         {
          "location": "((2, 1), 'down')",
          "q_value": 0,
          "run": 62
         },
         {
          "location": "((2, 1), 'down')",
          "q_value": 0,
          "run": 63
         },
         {
          "location": "((2, 1), 'down')",
          "q_value": 0,
          "run": 64
         },
         {
          "location": "((2, 1), 'down')",
          "q_value": 0,
          "run": 65
         },
         {
          "location": "((2, 1), 'down')",
          "q_value": 0,
          "run": 66
         },
         {
          "location": "((2, 1), 'down')",
          "q_value": 0,
          "run": 67
         },
         {
          "location": "((2, 1), 'down')",
          "q_value": 0,
          "run": 68
         },
         {
          "location": "((2, 1), 'down')",
          "q_value": 0,
          "run": 69
         },
         {
          "location": "((2, 1), 'down')",
          "q_value": 0,
          "run": 70
         },
         {
          "location": "((2, 1), 'down')",
          "q_value": 0,
          "run": 71
         },
         {
          "location": "((2, 1), 'down')",
          "q_value": 0,
          "run": 72
         },
         {
          "location": "((2, 1), 'down')",
          "q_value": 0,
          "run": 73
         },
         {
          "location": "((2, 1), 'down')",
          "q_value": 0,
          "run": 74
         },
         {
          "location": "((2, 1), 'down')",
          "q_value": 0,
          "run": 75
         },
         {
          "location": "((2, 1), 'down')",
          "q_value": 0,
          "run": 76
         },
         {
          "location": "((2, 1), 'down')",
          "q_value": 0,
          "run": 77
         },
         {
          "location": "((2, 1), 'down')",
          "q_value": 0,
          "run": 78
         },
         {
          "location": "((2, 1), 'down')",
          "q_value": 0,
          "run": 79
         },
         {
          "location": "((2, 1), 'down')",
          "q_value": 0,
          "run": 80
         },
         {
          "location": "((2, 1), 'down')",
          "q_value": 0,
          "run": 81
         },
         {
          "location": "((2, 1), 'down')",
          "q_value": 0,
          "run": 82
         },
         {
          "location": "((2, 1), 'down')",
          "q_value": 0,
          "run": 83
         },
         {
          "location": "((2, 1), 'down')",
          "q_value": 0,
          "run": 84
         },
         {
          "location": "((2, 1), 'down')",
          "q_value": 0,
          "run": 85
         },
         {
          "location": "((2, 1), 'down')",
          "q_value": 0,
          "run": 86
         },
         {
          "location": "((2, 1), 'down')",
          "q_value": 0,
          "run": 87
         },
         {
          "location": "((2, 1), 'down')",
          "q_value": 0,
          "run": 88
         },
         {
          "location": "((2, 1), 'down')",
          "q_value": 0,
          "run": 89
         },
         {
          "location": "((2, 1), 'down')",
          "q_value": 0,
          "run": 90
         },
         {
          "location": "((2, 1), 'down')",
          "q_value": 0,
          "run": 91
         },
         {
          "location": "((2, 1), 'down')",
          "q_value": 0,
          "run": 92
         },
         {
          "location": "((2, 1), 'down')",
          "q_value": 0,
          "run": 93
         },
         {
          "location": "((2, 1), 'down')",
          "q_value": 0,
          "run": 94
         },
         {
          "location": "((2, 1), 'down')",
          "q_value": 0,
          "run": 95
         },
         {
          "location": "((2, 1), 'down')",
          "q_value": 0,
          "run": 96
         },
         {
          "location": "((2, 1), 'down')",
          "q_value": 0,
          "run": 97
         },
         {
          "location": "((2, 1), 'down')",
          "q_value": 0,
          "run": 98
         },
         {
          "location": "((2, 1), 'down')",
          "q_value": 0,
          "run": 99
         },
         {
          "location": "((2, 1), 'down')",
          "q_value": 0,
          "run": 100
         },
         {
          "location": "((2, 1), 'right')",
          "q_value": 0,
          "run": 0
         },
         {
          "location": "((2, 1), 'right')",
          "q_value": 0,
          "run": 1
         },
         {
          "location": "((2, 1), 'right')",
          "q_value": 1,
          "run": 2
         },
         {
          "location": "((2, 1), 'right')",
          "q_value": 1,
          "run": 3
         },
         {
          "location": "((2, 1), 'right')",
          "q_value": 1,
          "run": 4
         },
         {
          "location": "((2, 1), 'right')",
          "q_value": 1,
          "run": 5
         },
         {
          "location": "((2, 1), 'right')",
          "q_value": 1,
          "run": 6
         },
         {
          "location": "((2, 1), 'right')",
          "q_value": 1,
          "run": 7
         },
         {
          "location": "((2, 1), 'right')",
          "q_value": 1,
          "run": 8
         },
         {
          "location": "((2, 1), 'right')",
          "q_value": 1,
          "run": 9
         },
         {
          "location": "((2, 1), 'right')",
          "q_value": 1,
          "run": 10
         },
         {
          "location": "((2, 1), 'right')",
          "q_value": 1,
          "run": 11
         },
         {
          "location": "((2, 1), 'right')",
          "q_value": 1,
          "run": 12
         },
         {
          "location": "((2, 1), 'right')",
          "q_value": 1,
          "run": 13
         },
         {
          "location": "((2, 1), 'right')",
          "q_value": 1,
          "run": 14
         },
         {
          "location": "((2, 1), 'right')",
          "q_value": 1,
          "run": 15
         },
         {
          "location": "((2, 1), 'right')",
          "q_value": 1,
          "run": 16
         },
         {
          "location": "((2, 1), 'right')",
          "q_value": 1,
          "run": 17
         },
         {
          "location": "((2, 1), 'right')",
          "q_value": 1,
          "run": 18
         },
         {
          "location": "((2, 1), 'right')",
          "q_value": 1,
          "run": 19
         },
         {
          "location": "((2, 1), 'right')",
          "q_value": 1,
          "run": 20
         },
         {
          "location": "((2, 1), 'right')",
          "q_value": 1,
          "run": 21
         },
         {
          "location": "((2, 1), 'right')",
          "q_value": 1,
          "run": 22
         },
         {
          "location": "((2, 1), 'right')",
          "q_value": 1,
          "run": 23
         },
         {
          "location": "((2, 1), 'right')",
          "q_value": 1,
          "run": 24
         },
         {
          "location": "((2, 1), 'right')",
          "q_value": 1,
          "run": 25
         },
         {
          "location": "((2, 1), 'right')",
          "q_value": 1,
          "run": 26
         },
         {
          "location": "((2, 1), 'right')",
          "q_value": 1,
          "run": 27
         },
         {
          "location": "((2, 1), 'right')",
          "q_value": 1,
          "run": 28
         },
         {
          "location": "((2, 1), 'right')",
          "q_value": 1,
          "run": 29
         },
         {
          "location": "((2, 1), 'right')",
          "q_value": 1,
          "run": 30
         },
         {
          "location": "((2, 1), 'right')",
          "q_value": 1,
          "run": 31
         },
         {
          "location": "((2, 1), 'right')",
          "q_value": 1,
          "run": 32
         },
         {
          "location": "((2, 1), 'right')",
          "q_value": 1,
          "run": 33
         },
         {
          "location": "((2, 1), 'right')",
          "q_value": 1,
          "run": 34
         },
         {
          "location": "((2, 1), 'right')",
          "q_value": 1,
          "run": 35
         },
         {
          "location": "((2, 1), 'right')",
          "q_value": 1,
          "run": 36
         },
         {
          "location": "((2, 1), 'right')",
          "q_value": 1,
          "run": 37
         },
         {
          "location": "((2, 1), 'right')",
          "q_value": 1,
          "run": 38
         },
         {
          "location": "((2, 1), 'right')",
          "q_value": 1,
          "run": 39
         },
         {
          "location": "((2, 1), 'right')",
          "q_value": 1,
          "run": 40
         },
         {
          "location": "((2, 1), 'right')",
          "q_value": 1,
          "run": 41
         },
         {
          "location": "((2, 1), 'right')",
          "q_value": 1,
          "run": 42
         },
         {
          "location": "((2, 1), 'right')",
          "q_value": 1,
          "run": 43
         },
         {
          "location": "((2, 1), 'right')",
          "q_value": 1,
          "run": 44
         },
         {
          "location": "((2, 1), 'right')",
          "q_value": 1,
          "run": 45
         },
         {
          "location": "((2, 1), 'right')",
          "q_value": 1,
          "run": 46
         },
         {
          "location": "((2, 1), 'right')",
          "q_value": 1,
          "run": 47
         },
         {
          "location": "((2, 1), 'right')",
          "q_value": 1,
          "run": 48
         },
         {
          "location": "((2, 1), 'right')",
          "q_value": 1,
          "run": 49
         },
         {
          "location": "((2, 1), 'right')",
          "q_value": 1,
          "run": 50
         },
         {
          "location": "((2, 1), 'right')",
          "q_value": 1,
          "run": 51
         },
         {
          "location": "((2, 1), 'right')",
          "q_value": 1,
          "run": 52
         },
         {
          "location": "((2, 1), 'right')",
          "q_value": 1,
          "run": 53
         },
         {
          "location": "((2, 1), 'right')",
          "q_value": 1,
          "run": 54
         },
         {
          "location": "((2, 1), 'right')",
          "q_value": 1,
          "run": 55
         },
         {
          "location": "((2, 1), 'right')",
          "q_value": 1,
          "run": 56
         },
         {
          "location": "((2, 1), 'right')",
          "q_value": 1,
          "run": 57
         },
         {
          "location": "((2, 1), 'right')",
          "q_value": 1,
          "run": 58
         },
         {
          "location": "((2, 1), 'right')",
          "q_value": 1,
          "run": 59
         },
         {
          "location": "((2, 1), 'right')",
          "q_value": 1,
          "run": 60
         },
         {
          "location": "((2, 1), 'right')",
          "q_value": 1,
          "run": 61
         },
         {
          "location": "((2, 1), 'right')",
          "q_value": 1,
          "run": 62
         },
         {
          "location": "((2, 1), 'right')",
          "q_value": 1,
          "run": 63
         },
         {
          "location": "((2, 1), 'right')",
          "q_value": 1,
          "run": 64
         },
         {
          "location": "((2, 1), 'right')",
          "q_value": 1,
          "run": 65
         },
         {
          "location": "((2, 1), 'right')",
          "q_value": 1,
          "run": 66
         },
         {
          "location": "((2, 1), 'right')",
          "q_value": 1,
          "run": 67
         },
         {
          "location": "((2, 1), 'right')",
          "q_value": 1,
          "run": 68
         },
         {
          "location": "((2, 1), 'right')",
          "q_value": 1,
          "run": 69
         },
         {
          "location": "((2, 1), 'right')",
          "q_value": 1,
          "run": 70
         },
         {
          "location": "((2, 1), 'right')",
          "q_value": 1,
          "run": 71
         },
         {
          "location": "((2, 1), 'right')",
          "q_value": 1,
          "run": 72
         },
         {
          "location": "((2, 1), 'right')",
          "q_value": 1.9,
          "run": 73
         },
         {
          "location": "((2, 1), 'right')",
          "q_value": 1.9,
          "run": 74
         },
         {
          "location": "((2, 1), 'right')",
          "q_value": 1.9,
          "run": 75
         },
         {
          "location": "((2, 1), 'right')",
          "q_value": 1.9,
          "run": 76
         },
         {
          "location": "((2, 1), 'right')",
          "q_value": 1.9,
          "run": 77
         },
         {
          "location": "((2, 1), 'right')",
          "q_value": 1.9,
          "run": 78
         },
         {
          "location": "((2, 1), 'right')",
          "q_value": 1.9,
          "run": 79
         },
         {
          "location": "((2, 1), 'right')",
          "q_value": 1.9,
          "run": 80
         },
         {
          "location": "((2, 1), 'right')",
          "q_value": 1.9,
          "run": 81
         },
         {
          "location": "((2, 1), 'right')",
          "q_value": 1.9,
          "run": 82
         },
         {
          "location": "((2, 1), 'right')",
          "q_value": 1.9,
          "run": 83
         },
         {
          "location": "((2, 1), 'right')",
          "q_value": 1.9,
          "run": 84
         },
         {
          "location": "((2, 1), 'right')",
          "q_value": 1.9,
          "run": 85
         },
         {
          "location": "((2, 1), 'right')",
          "q_value": 1.9,
          "run": 86
         },
         {
          "location": "((2, 1), 'right')",
          "q_value": 1.9,
          "run": 87
         },
         {
          "location": "((2, 1), 'right')",
          "q_value": 1.9,
          "run": 88
         },
         {
          "location": "((2, 1), 'right')",
          "q_value": 1.9,
          "run": 89
         },
         {
          "location": "((2, 1), 'right')",
          "q_value": 1.9,
          "run": 90
         },
         {
          "location": "((2, 1), 'right')",
          "q_value": 1.9,
          "run": 91
         },
         {
          "location": "((2, 1), 'right')",
          "q_value": 1.9,
          "run": 92
         },
         {
          "location": "((2, 1), 'right')",
          "q_value": 1.9,
          "run": 93
         },
         {
          "location": "((2, 1), 'right')",
          "q_value": 1.9,
          "run": 94
         },
         {
          "location": "((2, 1), 'right')",
          "q_value": 1.9,
          "run": 95
         },
         {
          "location": "((2, 1), 'right')",
          "q_value": 1.9,
          "run": 96
         },
         {
          "location": "((2, 1), 'right')",
          "q_value": 1.9,
          "run": 97
         },
         {
          "location": "((2, 1), 'right')",
          "q_value": 1.9,
          "run": 98
         },
         {
          "location": "((2, 1), 'right')",
          "q_value": 1.9,
          "run": 99
         },
         {
          "location": "((2, 1), 'right')",
          "q_value": 2.71,
          "run": 100
         },
         {
          "location": "((2, 1), 'up')",
          "q_value": 0,
          "run": 0
         },
         {
          "location": "((2, 1), 'up')",
          "q_value": 0,
          "run": 1
         },
         {
          "location": "((2, 1), 'up')",
          "q_value": 0,
          "run": 2
         },
         {
          "location": "((2, 1), 'up')",
          "q_value": 0,
          "run": 3
         },
         {
          "location": "((2, 1), 'up')",
          "q_value": 0,
          "run": 4
         },
         {
          "location": "((2, 1), 'up')",
          "q_value": 0,
          "run": 5
         },
         {
          "location": "((2, 1), 'up')",
          "q_value": 0,
          "run": 6
         },
         {
          "location": "((2, 1), 'up')",
          "q_value": 0,
          "run": 7
         },
         {
          "location": "((2, 1), 'up')",
          "q_value": 0,
          "run": 8
         },
         {
          "location": "((2, 1), 'up')",
          "q_value": 0,
          "run": 9
         },
         {
          "location": "((2, 1), 'up')",
          "q_value": 0,
          "run": 10
         },
         {
          "location": "((2, 1), 'up')",
          "q_value": 0,
          "run": 11
         },
         {
          "location": "((2, 1), 'up')",
          "q_value": 0,
          "run": 12
         },
         {
          "location": "((2, 1), 'up')",
          "q_value": 0,
          "run": 13
         },
         {
          "location": "((2, 1), 'up')",
          "q_value": 0,
          "run": 14
         },
         {
          "location": "((2, 1), 'up')",
          "q_value": 0,
          "run": 15
         },
         {
          "location": "((2, 1), 'up')",
          "q_value": 0,
          "run": 16
         },
         {
          "location": "((2, 1), 'up')",
          "q_value": 0,
          "run": 17
         },
         {
          "location": "((2, 1), 'up')",
          "q_value": 0,
          "run": 18
         },
         {
          "location": "((2, 1), 'up')",
          "q_value": 0,
          "run": 19
         },
         {
          "location": "((2, 1), 'up')",
          "q_value": 0,
          "run": 20
         },
         {
          "location": "((2, 1), 'up')",
          "q_value": 0,
          "run": 21
         },
         {
          "location": "((2, 1), 'up')",
          "q_value": 0,
          "run": 22
         },
         {
          "location": "((2, 1), 'up')",
          "q_value": 0,
          "run": 23
         },
         {
          "location": "((2, 1), 'up')",
          "q_value": 0,
          "run": 24
         },
         {
          "location": "((2, 1), 'up')",
          "q_value": 0,
          "run": 25
         },
         {
          "location": "((2, 1), 'up')",
          "q_value": 0,
          "run": 26
         },
         {
          "location": "((2, 1), 'up')",
          "q_value": 0,
          "run": 27
         },
         {
          "location": "((2, 1), 'up')",
          "q_value": 0,
          "run": 28
         },
         {
          "location": "((2, 1), 'up')",
          "q_value": 0,
          "run": 29
         },
         {
          "location": "((2, 1), 'up')",
          "q_value": 0,
          "run": 30
         },
         {
          "location": "((2, 1), 'up')",
          "q_value": 0,
          "run": 31
         },
         {
          "location": "((2, 1), 'up')",
          "q_value": 0,
          "run": 32
         },
         {
          "location": "((2, 1), 'up')",
          "q_value": 0,
          "run": 33
         },
         {
          "location": "((2, 1), 'up')",
          "q_value": 0,
          "run": 34
         },
         {
          "location": "((2, 1), 'up')",
          "q_value": 0,
          "run": 35
         },
         {
          "location": "((2, 1), 'up')",
          "q_value": 0,
          "run": 36
         },
         {
          "location": "((2, 1), 'up')",
          "q_value": 0,
          "run": 37
         },
         {
          "location": "((2, 1), 'up')",
          "q_value": 0,
          "run": 38
         },
         {
          "location": "((2, 1), 'up')",
          "q_value": 0,
          "run": 39
         },
         {
          "location": "((2, 1), 'up')",
          "q_value": 0,
          "run": 40
         },
         {
          "location": "((2, 1), 'up')",
          "q_value": 0,
          "run": 41
         },
         {
          "location": "((2, 1), 'up')",
          "q_value": 0,
          "run": 42
         },
         {
          "location": "((2, 1), 'up')",
          "q_value": 0,
          "run": 43
         },
         {
          "location": "((2, 1), 'up')",
          "q_value": 0,
          "run": 44
         },
         {
          "location": "((2, 1), 'up')",
          "q_value": 0,
          "run": 45
         },
         {
          "location": "((2, 1), 'up')",
          "q_value": 0,
          "run": 46
         },
         {
          "location": "((2, 1), 'up')",
          "q_value": 0,
          "run": 47
         },
         {
          "location": "((2, 1), 'up')",
          "q_value": 0,
          "run": 48
         },
         {
          "location": "((2, 1), 'up')",
          "q_value": 0,
          "run": 49
         },
         {
          "location": "((2, 1), 'up')",
          "q_value": 0,
          "run": 50
         },
         {
          "location": "((2, 1), 'up')",
          "q_value": 0,
          "run": 51
         },
         {
          "location": "((2, 1), 'up')",
          "q_value": 0,
          "run": 52
         },
         {
          "location": "((2, 1), 'up')",
          "q_value": 0,
          "run": 53
         },
         {
          "location": "((2, 1), 'up')",
          "q_value": 0,
          "run": 54
         },
         {
          "location": "((2, 1), 'up')",
          "q_value": 0,
          "run": 55
         },
         {
          "location": "((2, 1), 'up')",
          "q_value": 0,
          "run": 56
         },
         {
          "location": "((2, 1), 'up')",
          "q_value": 0,
          "run": 57
         },
         {
          "location": "((2, 1), 'up')",
          "q_value": 0,
          "run": 58
         },
         {
          "location": "((2, 1), 'up')",
          "q_value": 0,
          "run": 59
         },
         {
          "location": "((2, 1), 'up')",
          "q_value": 0,
          "run": 60
         },
         {
          "location": "((2, 1), 'up')",
          "q_value": 0,
          "run": 61
         },
         {
          "location": "((2, 1), 'up')",
          "q_value": 0,
          "run": 62
         },
         {
          "location": "((2, 1), 'up')",
          "q_value": 0,
          "run": 63
         },
         {
          "location": "((2, 1), 'up')",
          "q_value": 0,
          "run": 64
         },
         {
          "location": "((2, 1), 'up')",
          "q_value": 0,
          "run": 65
         },
         {
          "location": "((2, 1), 'up')",
          "q_value": 0,
          "run": 66
         },
         {
          "location": "((2, 1), 'up')",
          "q_value": 0,
          "run": 67
         },
         {
          "location": "((2, 1), 'up')",
          "q_value": 0,
          "run": 68
         },
         {
          "location": "((2, 1), 'up')",
          "q_value": 0,
          "run": 69
         },
         {
          "location": "((2, 1), 'up')",
          "q_value": 0,
          "run": 70
         },
         {
          "location": "((2, 1), 'up')",
          "q_value": 0,
          "run": 71
         },
         {
          "location": "((2, 1), 'up')",
          "q_value": 0,
          "run": 72
         },
         {
          "location": "((2, 1), 'up')",
          "q_value": 0,
          "run": 73
         },
         {
          "location": "((2, 1), 'up')",
          "q_value": 0,
          "run": 74
         },
         {
          "location": "((2, 1), 'up')",
          "q_value": 0,
          "run": 75
         },
         {
          "location": "((2, 1), 'up')",
          "q_value": 0,
          "run": 76
         },
         {
          "location": "((2, 1), 'up')",
          "q_value": 0,
          "run": 77
         },
         {
          "location": "((2, 1), 'up')",
          "q_value": 0,
          "run": 78
         },
         {
          "location": "((2, 1), 'up')",
          "q_value": 0,
          "run": 79
         },
         {
          "location": "((2, 1), 'up')",
          "q_value": 0,
          "run": 80
         },
         {
          "location": "((2, 1), 'up')",
          "q_value": 0,
          "run": 81
         },
         {
          "location": "((2, 1), 'up')",
          "q_value": 0,
          "run": 82
         },
         {
          "location": "((2, 1), 'up')",
          "q_value": 0,
          "run": 83
         },
         {
          "location": "((2, 1), 'up')",
          "q_value": 0,
          "run": 84
         },
         {
          "location": "((2, 1), 'up')",
          "q_value": 0,
          "run": 85
         },
         {
          "location": "((2, 1), 'up')",
          "q_value": 0,
          "run": 86
         },
         {
          "location": "((2, 1), 'up')",
          "q_value": 0,
          "run": 87
         },
         {
          "location": "((2, 1), 'up')",
          "q_value": 0,
          "run": 88
         },
         {
          "location": "((2, 1), 'up')",
          "q_value": 0,
          "run": 89
         },
         {
          "location": "((2, 1), 'up')",
          "q_value": 0,
          "run": 90
         },
         {
          "location": "((2, 1), 'up')",
          "q_value": 0,
          "run": 91
         },
         {
          "location": "((2, 1), 'up')",
          "q_value": 0,
          "run": 92
         },
         {
          "location": "((2, 1), 'up')",
          "q_value": 0,
          "run": 93
         },
         {
          "location": "((2, 1), 'up')",
          "q_value": 0,
          "run": 94
         },
         {
          "location": "((2, 1), 'up')",
          "q_value": 0,
          "run": 95
         },
         {
          "location": "((2, 1), 'up')",
          "q_value": 0,
          "run": 96
         },
         {
          "location": "((2, 1), 'up')",
          "q_value": 0,
          "run": 97
         },
         {
          "location": "((2, 1), 'up')",
          "q_value": 0,
          "run": 98
         },
         {
          "location": "((2, 1), 'up')",
          "q_value": 0,
          "run": 99
         },
         {
          "location": "((2, 1), 'up')",
          "q_value": 0,
          "run": 100
         },
         {
          "location": "((2, 1), 'left')",
          "q_value": 0,
          "run": 0
         },
         {
          "location": "((2, 1), 'left')",
          "q_value": 0,
          "run": 1
         },
         {
          "location": "((2, 1), 'left')",
          "q_value": 0,
          "run": 2
         },
         {
          "location": "((2, 1), 'left')",
          "q_value": 0,
          "run": 3
         },
         {
          "location": "((2, 1), 'left')",
          "q_value": 0,
          "run": 4
         },
         {
          "location": "((2, 1), 'left')",
          "q_value": 0,
          "run": 5
         },
         {
          "location": "((2, 1), 'left')",
          "q_value": 0,
          "run": 6
         },
         {
          "location": "((2, 1), 'left')",
          "q_value": 0,
          "run": 7
         },
         {
          "location": "((2, 1), 'left')",
          "q_value": 0,
          "run": 8
         },
         {
          "location": "((2, 1), 'left')",
          "q_value": 0,
          "run": 9
         },
         {
          "location": "((2, 1), 'left')",
          "q_value": 0,
          "run": 10
         },
         {
          "location": "((2, 1), 'left')",
          "q_value": 0,
          "run": 11
         },
         {
          "location": "((2, 1), 'left')",
          "q_value": 0,
          "run": 12
         },
         {
          "location": "((2, 1), 'left')",
          "q_value": 0,
          "run": 13
         },
         {
          "location": "((2, 1), 'left')",
          "q_value": 0,
          "run": 14
         },
         {
          "location": "((2, 1), 'left')",
          "q_value": 0,
          "run": 15
         },
         {
          "location": "((2, 1), 'left')",
          "q_value": 0,
          "run": 16
         },
         {
          "location": "((2, 1), 'left')",
          "q_value": 0,
          "run": 17
         },
         {
          "location": "((2, 1), 'left')",
          "q_value": 0,
          "run": 18
         },
         {
          "location": "((2, 1), 'left')",
          "q_value": 0,
          "run": 19
         },
         {
          "location": "((2, 1), 'left')",
          "q_value": 0,
          "run": 20
         },
         {
          "location": "((2, 1), 'left')",
          "q_value": 0,
          "run": 21
         },
         {
          "location": "((2, 1), 'left')",
          "q_value": 0,
          "run": 22
         },
         {
          "location": "((2, 1), 'left')",
          "q_value": 0,
          "run": 23
         },
         {
          "location": "((2, 1), 'left')",
          "q_value": 0,
          "run": 24
         },
         {
          "location": "((2, 1), 'left')",
          "q_value": 0,
          "run": 25
         },
         {
          "location": "((2, 1), 'left')",
          "q_value": 0,
          "run": 26
         },
         {
          "location": "((2, 1), 'left')",
          "q_value": 0,
          "run": 27
         },
         {
          "location": "((2, 1), 'left')",
          "q_value": 0,
          "run": 28
         },
         {
          "location": "((2, 1), 'left')",
          "q_value": 0,
          "run": 29
         },
         {
          "location": "((2, 1), 'left')",
          "q_value": 0,
          "run": 30
         },
         {
          "location": "((2, 1), 'left')",
          "q_value": 0,
          "run": 31
         },
         {
          "location": "((2, 1), 'left')",
          "q_value": 0,
          "run": 32
         },
         {
          "location": "((2, 1), 'left')",
          "q_value": 0,
          "run": 33
         },
         {
          "location": "((2, 1), 'left')",
          "q_value": 0,
          "run": 34
         },
         {
          "location": "((2, 1), 'left')",
          "q_value": 0,
          "run": 35
         },
         {
          "location": "((2, 1), 'left')",
          "q_value": 0,
          "run": 36
         },
         {
          "location": "((2, 1), 'left')",
          "q_value": 0,
          "run": 37
         },
         {
          "location": "((2, 1), 'left')",
          "q_value": 0,
          "run": 38
         },
         {
          "location": "((2, 1), 'left')",
          "q_value": 0,
          "run": 39
         },
         {
          "location": "((2, 1), 'left')",
          "q_value": 0,
          "run": 40
         },
         {
          "location": "((2, 1), 'left')",
          "q_value": 0,
          "run": 41
         },
         {
          "location": "((2, 1), 'left')",
          "q_value": 0,
          "run": 42
         },
         {
          "location": "((2, 1), 'left')",
          "q_value": 0,
          "run": 43
         },
         {
          "location": "((2, 1), 'left')",
          "q_value": 0,
          "run": 44
         },
         {
          "location": "((2, 1), 'left')",
          "q_value": 0,
          "run": 45
         },
         {
          "location": "((2, 1), 'left')",
          "q_value": 0,
          "run": 46
         },
         {
          "location": "((2, 1), 'left')",
          "q_value": 0,
          "run": 47
         },
         {
          "location": "((2, 1), 'left')",
          "q_value": 0,
          "run": 48
         },
         {
          "location": "((2, 1), 'left')",
          "q_value": 0,
          "run": 49
         },
         {
          "location": "((2, 1), 'left')",
          "q_value": 0,
          "run": 50
         },
         {
          "location": "((2, 1), 'left')",
          "q_value": 0,
          "run": 51
         },
         {
          "location": "((2, 1), 'left')",
          "q_value": 0,
          "run": 52
         },
         {
          "location": "((2, 1), 'left')",
          "q_value": 0,
          "run": 53
         },
         {
          "location": "((2, 1), 'left')",
          "q_value": 0,
          "run": 54
         },
         {
          "location": "((2, 1), 'left')",
          "q_value": 0,
          "run": 55
         },
         {
          "location": "((2, 1), 'left')",
          "q_value": 0,
          "run": 56
         },
         {
          "location": "((2, 1), 'left')",
          "q_value": 0,
          "run": 57
         },
         {
          "location": "((2, 1), 'left')",
          "q_value": 0,
          "run": 58
         },
         {
          "location": "((2, 1), 'left')",
          "q_value": 0,
          "run": 59
         },
         {
          "location": "((2, 1), 'left')",
          "q_value": 0,
          "run": 60
         },
         {
          "location": "((2, 1), 'left')",
          "q_value": 0,
          "run": 61
         },
         {
          "location": "((2, 1), 'left')",
          "q_value": 0,
          "run": 62
         },
         {
          "location": "((2, 1), 'left')",
          "q_value": 0,
          "run": 63
         },
         {
          "location": "((2, 1), 'left')",
          "q_value": 0,
          "run": 64
         },
         {
          "location": "((2, 1), 'left')",
          "q_value": 0,
          "run": 65
         },
         {
          "location": "((2, 1), 'left')",
          "q_value": 0,
          "run": 66
         },
         {
          "location": "((2, 1), 'left')",
          "q_value": 0,
          "run": 67
         },
         {
          "location": "((2, 1), 'left')",
          "q_value": 0,
          "run": 68
         },
         {
          "location": "((2, 1), 'left')",
          "q_value": 0,
          "run": 69
         },
         {
          "location": "((2, 1), 'left')",
          "q_value": 0,
          "run": 70
         },
         {
          "location": "((2, 1), 'left')",
          "q_value": 0,
          "run": 71
         },
         {
          "location": "((2, 1), 'left')",
          "q_value": 0,
          "run": 72
         },
         {
          "location": "((2, 1), 'left')",
          "q_value": 0,
          "run": 73
         },
         {
          "location": "((2, 1), 'left')",
          "q_value": 0,
          "run": 74
         },
         {
          "location": "((2, 1), 'left')",
          "q_value": 0,
          "run": 75
         },
         {
          "location": "((2, 1), 'left')",
          "q_value": 0,
          "run": 76
         },
         {
          "location": "((2, 1), 'left')",
          "q_value": 0,
          "run": 77
         },
         {
          "location": "((2, 1), 'left')",
          "q_value": 0,
          "run": 78
         },
         {
          "location": "((2, 1), 'left')",
          "q_value": 0,
          "run": 79
         },
         {
          "location": "((2, 1), 'left')",
          "q_value": 0,
          "run": 80
         },
         {
          "location": "((2, 1), 'left')",
          "q_value": 0,
          "run": 81
         },
         {
          "location": "((2, 1), 'left')",
          "q_value": 0,
          "run": 82
         },
         {
          "location": "((2, 1), 'left')",
          "q_value": 0,
          "run": 83
         },
         {
          "location": "((2, 1), 'left')",
          "q_value": 0,
          "run": 84
         },
         {
          "location": "((2, 1), 'left')",
          "q_value": 0,
          "run": 85
         },
         {
          "location": "((2, 1), 'left')",
          "q_value": 0,
          "run": 86
         },
         {
          "location": "((2, 1), 'left')",
          "q_value": 0,
          "run": 87
         },
         {
          "location": "((2, 1), 'left')",
          "q_value": 0,
          "run": 88
         },
         {
          "location": "((2, 1), 'left')",
          "q_value": 0,
          "run": 89
         },
         {
          "location": "((2, 1), 'left')",
          "q_value": 0,
          "run": 90
         },
         {
          "location": "((2, 1), 'left')",
          "q_value": 0,
          "run": 91
         },
         {
          "location": "((2, 1), 'left')",
          "q_value": 0,
          "run": 92
         },
         {
          "location": "((2, 1), 'left')",
          "q_value": 0,
          "run": 93
         },
         {
          "location": "((2, 1), 'left')",
          "q_value": 0,
          "run": 94
         },
         {
          "location": "((2, 1), 'left')",
          "q_value": 0,
          "run": 95
         },
         {
          "location": "((2, 1), 'left')",
          "q_value": 0,
          "run": 96
         },
         {
          "location": "((2, 1), 'left')",
          "q_value": 0,
          "run": 97
         },
         {
          "location": "((2, 1), 'left')",
          "q_value": 0,
          "run": 98
         },
         {
          "location": "((2, 1), 'left')",
          "q_value": 0,
          "run": 99
         },
         {
          "location": "((2, 1), 'left')",
          "q_value": 0,
          "run": 100
         },
         {
          "location": "((2, 2), 'down')",
          "q_value": 0,
          "run": 0
         },
         {
          "location": "((2, 2), 'down')",
          "q_value": 0,
          "run": 1
         },
         {
          "location": "((2, 2), 'down')",
          "q_value": 0,
          "run": 2
         },
         {
          "location": "((2, 2), 'down')",
          "q_value": 0,
          "run": 3
         },
         {
          "location": "((2, 2), 'down')",
          "q_value": 0,
          "run": 4
         },
         {
          "location": "((2, 2), 'down')",
          "q_value": 0,
          "run": 5
         },
         {
          "location": "((2, 2), 'down')",
          "q_value": 0,
          "run": 6
         },
         {
          "location": "((2, 2), 'down')",
          "q_value": 0,
          "run": 7
         },
         {
          "location": "((2, 2), 'down')",
          "q_value": 0,
          "run": 8
         },
         {
          "location": "((2, 2), 'down')",
          "q_value": 0,
          "run": 9
         },
         {
          "location": "((2, 2), 'down')",
          "q_value": 0,
          "run": 10
         },
         {
          "location": "((2, 2), 'down')",
          "q_value": 0,
          "run": 11
         },
         {
          "location": "((2, 2), 'down')",
          "q_value": 0,
          "run": 12
         },
         {
          "location": "((2, 2), 'down')",
          "q_value": 0,
          "run": 13
         },
         {
          "location": "((2, 2), 'down')",
          "q_value": 0,
          "run": 14
         },
         {
          "location": "((2, 2), 'down')",
          "q_value": 0,
          "run": 15
         },
         {
          "location": "((2, 2), 'down')",
          "q_value": 0,
          "run": 16
         },
         {
          "location": "((2, 2), 'down')",
          "q_value": 0,
          "run": 17
         },
         {
          "location": "((2, 2), 'down')",
          "q_value": 0,
          "run": 18
         },
         {
          "location": "((2, 2), 'down')",
          "q_value": 0,
          "run": 19
         },
         {
          "location": "((2, 2), 'down')",
          "q_value": 0,
          "run": 20
         },
         {
          "location": "((2, 2), 'down')",
          "q_value": 0,
          "run": 21
         },
         {
          "location": "((2, 2), 'down')",
          "q_value": 0,
          "run": 22
         },
         {
          "location": "((2, 2), 'down')",
          "q_value": 0,
          "run": 23
         },
         {
          "location": "((2, 2), 'down')",
          "q_value": 0,
          "run": 24
         },
         {
          "location": "((2, 2), 'down')",
          "q_value": 0,
          "run": 25
         },
         {
          "location": "((2, 2), 'down')",
          "q_value": 0,
          "run": 26
         },
         {
          "location": "((2, 2), 'down')",
          "q_value": 0,
          "run": 27
         },
         {
          "location": "((2, 2), 'down')",
          "q_value": 0,
          "run": 28
         },
         {
          "location": "((2, 2), 'down')",
          "q_value": 0,
          "run": 29
         },
         {
          "location": "((2, 2), 'down')",
          "q_value": 0,
          "run": 30
         },
         {
          "location": "((2, 2), 'down')",
          "q_value": 0,
          "run": 31
         },
         {
          "location": "((2, 2), 'down')",
          "q_value": 0,
          "run": 32
         },
         {
          "location": "((2, 2), 'down')",
          "q_value": 0,
          "run": 33
         },
         {
          "location": "((2, 2), 'down')",
          "q_value": 0,
          "run": 34
         },
         {
          "location": "((2, 2), 'down')",
          "q_value": 0,
          "run": 35
         },
         {
          "location": "((2, 2), 'down')",
          "q_value": 0,
          "run": 36
         },
         {
          "location": "((2, 2), 'down')",
          "q_value": 0,
          "run": 37
         },
         {
          "location": "((2, 2), 'down')",
          "q_value": 0,
          "run": 38
         },
         {
          "location": "((2, 2), 'down')",
          "q_value": 0,
          "run": 39
         },
         {
          "location": "((2, 2), 'down')",
          "q_value": 0,
          "run": 40
         },
         {
          "location": "((2, 2), 'down')",
          "q_value": 0,
          "run": 41
         },
         {
          "location": "((2, 2), 'down')",
          "q_value": 0,
          "run": 42
         },
         {
          "location": "((2, 2), 'down')",
          "q_value": 0,
          "run": 43
         },
         {
          "location": "((2, 2), 'down')",
          "q_value": 0,
          "run": 44
         },
         {
          "location": "((2, 2), 'down')",
          "q_value": 0,
          "run": 45
         },
         {
          "location": "((2, 2), 'down')",
          "q_value": 0,
          "run": 46
         },
         {
          "location": "((2, 2), 'down')",
          "q_value": 0,
          "run": 47
         },
         {
          "location": "((2, 2), 'down')",
          "q_value": 0,
          "run": 48
         },
         {
          "location": "((2, 2), 'down')",
          "q_value": 0,
          "run": 49
         },
         {
          "location": "((2, 2), 'down')",
          "q_value": 0,
          "run": 50
         },
         {
          "location": "((2, 2), 'down')",
          "q_value": 0,
          "run": 51
         },
         {
          "location": "((2, 2), 'down')",
          "q_value": 0,
          "run": 52
         },
         {
          "location": "((2, 2), 'down')",
          "q_value": 0,
          "run": 53
         },
         {
          "location": "((2, 2), 'down')",
          "q_value": 0,
          "run": 54
         },
         {
          "location": "((2, 2), 'down')",
          "q_value": 0,
          "run": 55
         },
         {
          "location": "((2, 2), 'down')",
          "q_value": 0,
          "run": 56
         },
         {
          "location": "((2, 2), 'down')",
          "q_value": 0,
          "run": 57
         },
         {
          "location": "((2, 2), 'down')",
          "q_value": 0,
          "run": 58
         },
         {
          "location": "((2, 2), 'down')",
          "q_value": 0,
          "run": 59
         },
         {
          "location": "((2, 2), 'down')",
          "q_value": 0,
          "run": 60
         },
         {
          "location": "((2, 2), 'down')",
          "q_value": 0,
          "run": 61
         },
         {
          "location": "((2, 2), 'down')",
          "q_value": 0,
          "run": 62
         },
         {
          "location": "((2, 2), 'down')",
          "q_value": 0,
          "run": 63
         },
         {
          "location": "((2, 2), 'down')",
          "q_value": 0,
          "run": 64
         },
         {
          "location": "((2, 2), 'down')",
          "q_value": 0,
          "run": 65
         },
         {
          "location": "((2, 2), 'down')",
          "q_value": 0,
          "run": 66
         },
         {
          "location": "((2, 2), 'down')",
          "q_value": 0,
          "run": 67
         },
         {
          "location": "((2, 2), 'down')",
          "q_value": 0,
          "run": 68
         },
         {
          "location": "((2, 2), 'down')",
          "q_value": 0,
          "run": 69
         },
         {
          "location": "((2, 2), 'down')",
          "q_value": 0,
          "run": 70
         },
         {
          "location": "((2, 2), 'down')",
          "q_value": 0,
          "run": 71
         },
         {
          "location": "((2, 2), 'down')",
          "q_value": 0,
          "run": 72
         },
         {
          "location": "((2, 2), 'down')",
          "q_value": 0,
          "run": 73
         },
         {
          "location": "((2, 2), 'down')",
          "q_value": 0,
          "run": 74
         },
         {
          "location": "((2, 2), 'down')",
          "q_value": 0,
          "run": 75
         },
         {
          "location": "((2, 2), 'down')",
          "q_value": 0,
          "run": 76
         },
         {
          "location": "((2, 2), 'down')",
          "q_value": 0,
          "run": 77
         },
         {
          "location": "((2, 2), 'down')",
          "q_value": 0,
          "run": 78
         },
         {
          "location": "((2, 2), 'down')",
          "q_value": 0,
          "run": 79
         },
         {
          "location": "((2, 2), 'down')",
          "q_value": 0,
          "run": 80
         },
         {
          "location": "((2, 2), 'down')",
          "q_value": 0,
          "run": 81
         },
         {
          "location": "((2, 2), 'down')",
          "q_value": 0,
          "run": 82
         },
         {
          "location": "((2, 2), 'down')",
          "q_value": 0,
          "run": 83
         },
         {
          "location": "((2, 2), 'down')",
          "q_value": 0,
          "run": 84
         },
         {
          "location": "((2, 2), 'down')",
          "q_value": 0,
          "run": 85
         },
         {
          "location": "((2, 2), 'down')",
          "q_value": 0,
          "run": 86
         },
         {
          "location": "((2, 2), 'down')",
          "q_value": 0,
          "run": 87
         },
         {
          "location": "((2, 2), 'down')",
          "q_value": 0,
          "run": 88
         },
         {
          "location": "((2, 2), 'down')",
          "q_value": 0,
          "run": 89
         },
         {
          "location": "((2, 2), 'down')",
          "q_value": 0,
          "run": 90
         },
         {
          "location": "((2, 2), 'down')",
          "q_value": 0,
          "run": 91
         },
         {
          "location": "((2, 2), 'down')",
          "q_value": 0,
          "run": 92
         },
         {
          "location": "((2, 2), 'down')",
          "q_value": 0,
          "run": 93
         },
         {
          "location": "((2, 2), 'down')",
          "q_value": 0,
          "run": 94
         },
         {
          "location": "((2, 2), 'down')",
          "q_value": 0,
          "run": 95
         },
         {
          "location": "((2, 2), 'down')",
          "q_value": 0,
          "run": 96
         },
         {
          "location": "((2, 2), 'down')",
          "q_value": 0,
          "run": 97
         },
         {
          "location": "((2, 2), 'down')",
          "q_value": 0,
          "run": 98
         },
         {
          "location": "((2, 2), 'down')",
          "q_value": 0,
          "run": 99
         },
         {
          "location": "((2, 2), 'down')",
          "q_value": 0,
          "run": 100
         },
         {
          "location": "((2, 2), 'right')",
          "q_value": 0,
          "run": 0
         },
         {
          "location": "((2, 2), 'right')",
          "q_value": 0,
          "run": 1
         },
         {
          "location": "((2, 2), 'right')",
          "q_value": 0,
          "run": 2
         },
         {
          "location": "((2, 2), 'right')",
          "q_value": 0,
          "run": 3
         },
         {
          "location": "((2, 2), 'right')",
          "q_value": 0,
          "run": 4
         },
         {
          "location": "((2, 2), 'right')",
          "q_value": 0,
          "run": 5
         },
         {
          "location": "((2, 2), 'right')",
          "q_value": 0,
          "run": 6
         },
         {
          "location": "((2, 2), 'right')",
          "q_value": 0,
          "run": 7
         },
         {
          "location": "((2, 2), 'right')",
          "q_value": 0,
          "run": 8
         },
         {
          "location": "((2, 2), 'right')",
          "q_value": 0,
          "run": 9
         },
         {
          "location": "((2, 2), 'right')",
          "q_value": 0,
          "run": 10
         },
         {
          "location": "((2, 2), 'right')",
          "q_value": 0,
          "run": 11
         },
         {
          "location": "((2, 2), 'right')",
          "q_value": 0,
          "run": 12
         },
         {
          "location": "((2, 2), 'right')",
          "q_value": 0,
          "run": 13
         },
         {
          "location": "((2, 2), 'right')",
          "q_value": 0,
          "run": 14
         },
         {
          "location": "((2, 2), 'right')",
          "q_value": 0,
          "run": 15
         },
         {
          "location": "((2, 2), 'right')",
          "q_value": 0,
          "run": 16
         },
         {
          "location": "((2, 2), 'right')",
          "q_value": 0,
          "run": 17
         },
         {
          "location": "((2, 2), 'right')",
          "q_value": 0,
          "run": 18
         },
         {
          "location": "((2, 2), 'right')",
          "q_value": 0,
          "run": 19
         },
         {
          "location": "((2, 2), 'right')",
          "q_value": 0,
          "run": 20
         },
         {
          "location": "((2, 2), 'right')",
          "q_value": 0,
          "run": 21
         },
         {
          "location": "((2, 2), 'right')",
          "q_value": 0,
          "run": 22
         },
         {
          "location": "((2, 2), 'right')",
          "q_value": 0,
          "run": 23
         },
         {
          "location": "((2, 2), 'right')",
          "q_value": 0,
          "run": 24
         },
         {
          "location": "((2, 2), 'right')",
          "q_value": 0,
          "run": 25
         },
         {
          "location": "((2, 2), 'right')",
          "q_value": 0,
          "run": 26
         },
         {
          "location": "((2, 2), 'right')",
          "q_value": 0,
          "run": 27
         },
         {
          "location": "((2, 2), 'right')",
          "q_value": 0,
          "run": 28
         },
         {
          "location": "((2, 2), 'right')",
          "q_value": 0,
          "run": 29
         },
         {
          "location": "((2, 2), 'right')",
          "q_value": 0,
          "run": 30
         },
         {
          "location": "((2, 2), 'right')",
          "q_value": 0,
          "run": 31
         },
         {
          "location": "((2, 2), 'right')",
          "q_value": 0,
          "run": 32
         },
         {
          "location": "((2, 2), 'right')",
          "q_value": 0,
          "run": 33
         },
         {
          "location": "((2, 2), 'right')",
          "q_value": 0,
          "run": 34
         },
         {
          "location": "((2, 2), 'right')",
          "q_value": 0,
          "run": 35
         },
         {
          "location": "((2, 2), 'right')",
          "q_value": 0,
          "run": 36
         },
         {
          "location": "((2, 2), 'right')",
          "q_value": 0,
          "run": 37
         },
         {
          "location": "((2, 2), 'right')",
          "q_value": 0,
          "run": 38
         },
         {
          "location": "((2, 2), 'right')",
          "q_value": 0,
          "run": 39
         },
         {
          "location": "((2, 2), 'right')",
          "q_value": 0,
          "run": 40
         },
         {
          "location": "((2, 2), 'right')",
          "q_value": 0,
          "run": 41
         },
         {
          "location": "((2, 2), 'right')",
          "q_value": 0,
          "run": 42
         },
         {
          "location": "((2, 2), 'right')",
          "q_value": 0,
          "run": 43
         },
         {
          "location": "((2, 2), 'right')",
          "q_value": 0,
          "run": 44
         },
         {
          "location": "((2, 2), 'right')",
          "q_value": 0,
          "run": 45
         },
         {
          "location": "((2, 2), 'right')",
          "q_value": 0,
          "run": 46
         },
         {
          "location": "((2, 2), 'right')",
          "q_value": 0,
          "run": 47
         },
         {
          "location": "((2, 2), 'right')",
          "q_value": 0,
          "run": 48
         },
         {
          "location": "((2, 2), 'right')",
          "q_value": 0,
          "run": 49
         },
         {
          "location": "((2, 2), 'right')",
          "q_value": 0,
          "run": 50
         },
         {
          "location": "((2, 2), 'right')",
          "q_value": 0,
          "run": 51
         },
         {
          "location": "((2, 2), 'right')",
          "q_value": 0,
          "run": 52
         },
         {
          "location": "((2, 2), 'right')",
          "q_value": 0,
          "run": 53
         },
         {
          "location": "((2, 2), 'right')",
          "q_value": 0,
          "run": 54
         },
         {
          "location": "((2, 2), 'right')",
          "q_value": 0,
          "run": 55
         },
         {
          "location": "((2, 2), 'right')",
          "q_value": 0,
          "run": 56
         },
         {
          "location": "((2, 2), 'right')",
          "q_value": 0,
          "run": 57
         },
         {
          "location": "((2, 2), 'right')",
          "q_value": 0,
          "run": 58
         },
         {
          "location": "((2, 2), 'right')",
          "q_value": 0,
          "run": 59
         },
         {
          "location": "((2, 2), 'right')",
          "q_value": 0,
          "run": 60
         },
         {
          "location": "((2, 2), 'right')",
          "q_value": 0,
          "run": 61
         },
         {
          "location": "((2, 2), 'right')",
          "q_value": 0,
          "run": 62
         },
         {
          "location": "((2, 2), 'right')",
          "q_value": 0,
          "run": 63
         },
         {
          "location": "((2, 2), 'right')",
          "q_value": 0,
          "run": 64
         },
         {
          "location": "((2, 2), 'right')",
          "q_value": 0,
          "run": 65
         },
         {
          "location": "((2, 2), 'right')",
          "q_value": 0,
          "run": 66
         },
         {
          "location": "((2, 2), 'right')",
          "q_value": 0,
          "run": 67
         },
         {
          "location": "((2, 2), 'right')",
          "q_value": 0,
          "run": 68
         },
         {
          "location": "((2, 2), 'right')",
          "q_value": 0,
          "run": 69
         },
         {
          "location": "((2, 2), 'right')",
          "q_value": 0,
          "run": 70
         },
         {
          "location": "((2, 2), 'right')",
          "q_value": 0,
          "run": 71
         },
         {
          "location": "((2, 2), 'right')",
          "q_value": 0,
          "run": 72
         },
         {
          "location": "((2, 2), 'right')",
          "q_value": 0,
          "run": 73
         },
         {
          "location": "((2, 2), 'right')",
          "q_value": 0,
          "run": 74
         },
         {
          "location": "((2, 2), 'right')",
          "q_value": 0,
          "run": 75
         },
         {
          "location": "((2, 2), 'right')",
          "q_value": 0,
          "run": 76
         },
         {
          "location": "((2, 2), 'right')",
          "q_value": 0,
          "run": 77
         },
         {
          "location": "((2, 2), 'right')",
          "q_value": 0,
          "run": 78
         },
         {
          "location": "((2, 2), 'right')",
          "q_value": 0,
          "run": 79
         },
         {
          "location": "((2, 2), 'right')",
          "q_value": 0,
          "run": 80
         },
         {
          "location": "((2, 2), 'right')",
          "q_value": 0,
          "run": 81
         },
         {
          "location": "((2, 2), 'right')",
          "q_value": 0,
          "run": 82
         },
         {
          "location": "((2, 2), 'right')",
          "q_value": 0,
          "run": 83
         },
         {
          "location": "((2, 2), 'right')",
          "q_value": 0,
          "run": 84
         },
         {
          "location": "((2, 2), 'right')",
          "q_value": 0,
          "run": 85
         },
         {
          "location": "((2, 2), 'right')",
          "q_value": 0,
          "run": 86
         },
         {
          "location": "((2, 2), 'right')",
          "q_value": 0,
          "run": 87
         },
         {
          "location": "((2, 2), 'right')",
          "q_value": 0,
          "run": 88
         },
         {
          "location": "((2, 2), 'right')",
          "q_value": 0,
          "run": 89
         },
         {
          "location": "((2, 2), 'right')",
          "q_value": 0,
          "run": 90
         },
         {
          "location": "((2, 2), 'right')",
          "q_value": 0,
          "run": 91
         },
         {
          "location": "((2, 2), 'right')",
          "q_value": 0,
          "run": 92
         },
         {
          "location": "((2, 2), 'right')",
          "q_value": 0,
          "run": 93
         },
         {
          "location": "((2, 2), 'right')",
          "q_value": 0,
          "run": 94
         },
         {
          "location": "((2, 2), 'right')",
          "q_value": 0,
          "run": 95
         },
         {
          "location": "((2, 2), 'right')",
          "q_value": 0,
          "run": 96
         },
         {
          "location": "((2, 2), 'right')",
          "q_value": 0,
          "run": 97
         },
         {
          "location": "((2, 2), 'right')",
          "q_value": 0,
          "run": 98
         },
         {
          "location": "((2, 2), 'right')",
          "q_value": 0,
          "run": 99
         },
         {
          "location": "((2, 2), 'right')",
          "q_value": 0,
          "run": 100
         },
         {
          "location": "((2, 2), 'up')",
          "q_value": 0,
          "run": 0
         },
         {
          "location": "((2, 2), 'up')",
          "q_value": 0,
          "run": 1
         },
         {
          "location": "((2, 2), 'up')",
          "q_value": 0,
          "run": 2
         },
         {
          "location": "((2, 2), 'up')",
          "q_value": 0,
          "run": 3
         },
         {
          "location": "((2, 2), 'up')",
          "q_value": 0,
          "run": 4
         },
         {
          "location": "((2, 2), 'up')",
          "q_value": 0,
          "run": 5
         },
         {
          "location": "((2, 2), 'up')",
          "q_value": 0,
          "run": 6
         },
         {
          "location": "((2, 2), 'up')",
          "q_value": 0,
          "run": 7
         },
         {
          "location": "((2, 2), 'up')",
          "q_value": 0,
          "run": 8
         },
         {
          "location": "((2, 2), 'up')",
          "q_value": 0,
          "run": 9
         },
         {
          "location": "((2, 2), 'up')",
          "q_value": 0,
          "run": 10
         },
         {
          "location": "((2, 2), 'up')",
          "q_value": 0,
          "run": 11
         },
         {
          "location": "((2, 2), 'up')",
          "q_value": 0,
          "run": 12
         },
         {
          "location": "((2, 2), 'up')",
          "q_value": 0,
          "run": 13
         },
         {
          "location": "((2, 2), 'up')",
          "q_value": 0,
          "run": 14
         },
         {
          "location": "((2, 2), 'up')",
          "q_value": 0,
          "run": 15
         },
         {
          "location": "((2, 2), 'up')",
          "q_value": 0,
          "run": 16
         },
         {
          "location": "((2, 2), 'up')",
          "q_value": 0,
          "run": 17
         },
         {
          "location": "((2, 2), 'up')",
          "q_value": 0,
          "run": 18
         },
         {
          "location": "((2, 2), 'up')",
          "q_value": 0,
          "run": 19
         },
         {
          "location": "((2, 2), 'up')",
          "q_value": 0,
          "run": 20
         },
         {
          "location": "((2, 2), 'up')",
          "q_value": 0,
          "run": 21
         },
         {
          "location": "((2, 2), 'up')",
          "q_value": 0,
          "run": 22
         },
         {
          "location": "((2, 2), 'up')",
          "q_value": 0,
          "run": 23
         },
         {
          "location": "((2, 2), 'up')",
          "q_value": 0,
          "run": 24
         },
         {
          "location": "((2, 2), 'up')",
          "q_value": 0,
          "run": 25
         },
         {
          "location": "((2, 2), 'up')",
          "q_value": 0,
          "run": 26
         },
         {
          "location": "((2, 2), 'up')",
          "q_value": 0,
          "run": 27
         },
         {
          "location": "((2, 2), 'up')",
          "q_value": 0,
          "run": 28
         },
         {
          "location": "((2, 2), 'up')",
          "q_value": 0,
          "run": 29
         },
         {
          "location": "((2, 2), 'up')",
          "q_value": 0,
          "run": 30
         },
         {
          "location": "((2, 2), 'up')",
          "q_value": 0,
          "run": 31
         },
         {
          "location": "((2, 2), 'up')",
          "q_value": 0,
          "run": 32
         },
         {
          "location": "((2, 2), 'up')",
          "q_value": 0,
          "run": 33
         },
         {
          "location": "((2, 2), 'up')",
          "q_value": 0,
          "run": 34
         },
         {
          "location": "((2, 2), 'up')",
          "q_value": 0,
          "run": 35
         },
         {
          "location": "((2, 2), 'up')",
          "q_value": 0,
          "run": 36
         },
         {
          "location": "((2, 2), 'up')",
          "q_value": 0,
          "run": 37
         },
         {
          "location": "((2, 2), 'up')",
          "q_value": 0,
          "run": 38
         },
         {
          "location": "((2, 2), 'up')",
          "q_value": 0,
          "run": 39
         },
         {
          "location": "((2, 2), 'up')",
          "q_value": 0,
          "run": 40
         },
         {
          "location": "((2, 2), 'up')",
          "q_value": 0,
          "run": 41
         },
         {
          "location": "((2, 2), 'up')",
          "q_value": 0,
          "run": 42
         },
         {
          "location": "((2, 2), 'up')",
          "q_value": 0,
          "run": 43
         },
         {
          "location": "((2, 2), 'up')",
          "q_value": 0,
          "run": 44
         },
         {
          "location": "((2, 2), 'up')",
          "q_value": 0,
          "run": 45
         },
         {
          "location": "((2, 2), 'up')",
          "q_value": 0,
          "run": 46
         },
         {
          "location": "((2, 2), 'up')",
          "q_value": 0,
          "run": 47
         },
         {
          "location": "((2, 2), 'up')",
          "q_value": 0,
          "run": 48
         },
         {
          "location": "((2, 2), 'up')",
          "q_value": 0,
          "run": 49
         },
         {
          "location": "((2, 2), 'up')",
          "q_value": 0,
          "run": 50
         },
         {
          "location": "((2, 2), 'up')",
          "q_value": 0,
          "run": 51
         },
         {
          "location": "((2, 2), 'up')",
          "q_value": 0,
          "run": 52
         },
         {
          "location": "((2, 2), 'up')",
          "q_value": 0,
          "run": 53
         },
         {
          "location": "((2, 2), 'up')",
          "q_value": 0,
          "run": 54
         },
         {
          "location": "((2, 2), 'up')",
          "q_value": 0,
          "run": 55
         },
         {
          "location": "((2, 2), 'up')",
          "q_value": 0,
          "run": 56
         },
         {
          "location": "((2, 2), 'up')",
          "q_value": 0,
          "run": 57
         },
         {
          "location": "((2, 2), 'up')",
          "q_value": 0,
          "run": 58
         },
         {
          "location": "((2, 2), 'up')",
          "q_value": 0,
          "run": 59
         },
         {
          "location": "((2, 2), 'up')",
          "q_value": 0,
          "run": 60
         },
         {
          "location": "((2, 2), 'up')",
          "q_value": 0,
          "run": 61
         },
         {
          "location": "((2, 2), 'up')",
          "q_value": 0,
          "run": 62
         },
         {
          "location": "((2, 2), 'up')",
          "q_value": 0,
          "run": 63
         },
         {
          "location": "((2, 2), 'up')",
          "q_value": 0,
          "run": 64
         },
         {
          "location": "((2, 2), 'up')",
          "q_value": 0,
          "run": 65
         },
         {
          "location": "((2, 2), 'up')",
          "q_value": 0,
          "run": 66
         },
         {
          "location": "((2, 2), 'up')",
          "q_value": 0,
          "run": 67
         },
         {
          "location": "((2, 2), 'up')",
          "q_value": 0,
          "run": 68
         },
         {
          "location": "((2, 2), 'up')",
          "q_value": 0,
          "run": 69
         },
         {
          "location": "((2, 2), 'up')",
          "q_value": 0,
          "run": 70
         },
         {
          "location": "((2, 2), 'up')",
          "q_value": 0,
          "run": 71
         },
         {
          "location": "((2, 2), 'up')",
          "q_value": 0,
          "run": 72
         },
         {
          "location": "((2, 2), 'up')",
          "q_value": 0,
          "run": 73
         },
         {
          "location": "((2, 2), 'up')",
          "q_value": 0,
          "run": 74
         },
         {
          "location": "((2, 2), 'up')",
          "q_value": 0,
          "run": 75
         },
         {
          "location": "((2, 2), 'up')",
          "q_value": 0,
          "run": 76
         },
         {
          "location": "((2, 2), 'up')",
          "q_value": 0,
          "run": 77
         },
         {
          "location": "((2, 2), 'up')",
          "q_value": 0,
          "run": 78
         },
         {
          "location": "((2, 2), 'up')",
          "q_value": 0,
          "run": 79
         },
         {
          "location": "((2, 2), 'up')",
          "q_value": 0,
          "run": 80
         },
         {
          "location": "((2, 2), 'up')",
          "q_value": 0,
          "run": 81
         },
         {
          "location": "((2, 2), 'up')",
          "q_value": 0,
          "run": 82
         },
         {
          "location": "((2, 2), 'up')",
          "q_value": 0,
          "run": 83
         },
         {
          "location": "((2, 2), 'up')",
          "q_value": 0,
          "run": 84
         },
         {
          "location": "((2, 2), 'up')",
          "q_value": 0,
          "run": 85
         },
         {
          "location": "((2, 2), 'up')",
          "q_value": 0,
          "run": 86
         },
         {
          "location": "((2, 2), 'up')",
          "q_value": 0,
          "run": 87
         },
         {
          "location": "((2, 2), 'up')",
          "q_value": 0,
          "run": 88
         },
         {
          "location": "((2, 2), 'up')",
          "q_value": 0,
          "run": 89
         },
         {
          "location": "((2, 2), 'up')",
          "q_value": 0,
          "run": 90
         },
         {
          "location": "((2, 2), 'up')",
          "q_value": 0,
          "run": 91
         },
         {
          "location": "((2, 2), 'up')",
          "q_value": 0,
          "run": 92
         },
         {
          "location": "((2, 2), 'up')",
          "q_value": 0,
          "run": 93
         },
         {
          "location": "((2, 2), 'up')",
          "q_value": 0,
          "run": 94
         },
         {
          "location": "((2, 2), 'up')",
          "q_value": 0,
          "run": 95
         },
         {
          "location": "((2, 2), 'up')",
          "q_value": 0,
          "run": 96
         },
         {
          "location": "((2, 2), 'up')",
          "q_value": 0,
          "run": 97
         },
         {
          "location": "((2, 2), 'up')",
          "q_value": 0,
          "run": 98
         },
         {
          "location": "((2, 2), 'up')",
          "q_value": 0,
          "run": 99
         },
         {
          "location": "((2, 2), 'up')",
          "q_value": 0,
          "run": 100
         },
         {
          "location": "((2, 2), 'left')",
          "q_value": 0,
          "run": 0
         },
         {
          "location": "((2, 2), 'left')",
          "q_value": 0,
          "run": 1
         },
         {
          "location": "((2, 2), 'left')",
          "q_value": 0,
          "run": 2
         },
         {
          "location": "((2, 2), 'left')",
          "q_value": 0,
          "run": 3
         },
         {
          "location": "((2, 2), 'left')",
          "q_value": 0,
          "run": 4
         },
         {
          "location": "((2, 2), 'left')",
          "q_value": 0,
          "run": 5
         },
         {
          "location": "((2, 2), 'left')",
          "q_value": 0,
          "run": 6
         },
         {
          "location": "((2, 2), 'left')",
          "q_value": 0,
          "run": 7
         },
         {
          "location": "((2, 2), 'left')",
          "q_value": 0,
          "run": 8
         },
         {
          "location": "((2, 2), 'left')",
          "q_value": 0,
          "run": 9
         },
         {
          "location": "((2, 2), 'left')",
          "q_value": 0,
          "run": 10
         },
         {
          "location": "((2, 2), 'left')",
          "q_value": 0,
          "run": 11
         },
         {
          "location": "((2, 2), 'left')",
          "q_value": 0,
          "run": 12
         },
         {
          "location": "((2, 2), 'left')",
          "q_value": 0,
          "run": 13
         },
         {
          "location": "((2, 2), 'left')",
          "q_value": 0,
          "run": 14
         },
         {
          "location": "((2, 2), 'left')",
          "q_value": 0,
          "run": 15
         },
         {
          "location": "((2, 2), 'left')",
          "q_value": 0,
          "run": 16
         },
         {
          "location": "((2, 2), 'left')",
          "q_value": 0,
          "run": 17
         },
         {
          "location": "((2, 2), 'left')",
          "q_value": 0,
          "run": 18
         },
         {
          "location": "((2, 2), 'left')",
          "q_value": 0,
          "run": 19
         },
         {
          "location": "((2, 2), 'left')",
          "q_value": 0,
          "run": 20
         },
         {
          "location": "((2, 2), 'left')",
          "q_value": 0,
          "run": 21
         },
         {
          "location": "((2, 2), 'left')",
          "q_value": 0,
          "run": 22
         },
         {
          "location": "((2, 2), 'left')",
          "q_value": 0,
          "run": 23
         },
         {
          "location": "((2, 2), 'left')",
          "q_value": 0,
          "run": 24
         },
         {
          "location": "((2, 2), 'left')",
          "q_value": 0,
          "run": 25
         },
         {
          "location": "((2, 2), 'left')",
          "q_value": 0,
          "run": 26
         },
         {
          "location": "((2, 2), 'left')",
          "q_value": 0,
          "run": 27
         },
         {
          "location": "((2, 2), 'left')",
          "q_value": 0,
          "run": 28
         },
         {
          "location": "((2, 2), 'left')",
          "q_value": 0,
          "run": 29
         },
         {
          "location": "((2, 2), 'left')",
          "q_value": 0,
          "run": 30
         },
         {
          "location": "((2, 2), 'left')",
          "q_value": 0,
          "run": 31
         },
         {
          "location": "((2, 2), 'left')",
          "q_value": 0,
          "run": 32
         },
         {
          "location": "((2, 2), 'left')",
          "q_value": 0,
          "run": 33
         },
         {
          "location": "((2, 2), 'left')",
          "q_value": 0,
          "run": 34
         },
         {
          "location": "((2, 2), 'left')",
          "q_value": 0,
          "run": 35
         },
         {
          "location": "((2, 2), 'left')",
          "q_value": 0,
          "run": 36
         },
         {
          "location": "((2, 2), 'left')",
          "q_value": 0,
          "run": 37
         },
         {
          "location": "((2, 2), 'left')",
          "q_value": 0,
          "run": 38
         },
         {
          "location": "((2, 2), 'left')",
          "q_value": 0,
          "run": 39
         },
         {
          "location": "((2, 2), 'left')",
          "q_value": 0,
          "run": 40
         },
         {
          "location": "((2, 2), 'left')",
          "q_value": 0,
          "run": 41
         },
         {
          "location": "((2, 2), 'left')",
          "q_value": 0,
          "run": 42
         },
         {
          "location": "((2, 2), 'left')",
          "q_value": 0,
          "run": 43
         },
         {
          "location": "((2, 2), 'left')",
          "q_value": 0,
          "run": 44
         },
         {
          "location": "((2, 2), 'left')",
          "q_value": 0,
          "run": 45
         },
         {
          "location": "((2, 2), 'left')",
          "q_value": 0,
          "run": 46
         },
         {
          "location": "((2, 2), 'left')",
          "q_value": 0,
          "run": 47
         },
         {
          "location": "((2, 2), 'left')",
          "q_value": 0,
          "run": 48
         },
         {
          "location": "((2, 2), 'left')",
          "q_value": 0,
          "run": 49
         },
         {
          "location": "((2, 2), 'left')",
          "q_value": 0,
          "run": 50
         },
         {
          "location": "((2, 2), 'left')",
          "q_value": 0,
          "run": 51
         },
         {
          "location": "((2, 2), 'left')",
          "q_value": 0,
          "run": 52
         },
         {
          "location": "((2, 2), 'left')",
          "q_value": 0,
          "run": 53
         },
         {
          "location": "((2, 2), 'left')",
          "q_value": 0,
          "run": 54
         },
         {
          "location": "((2, 2), 'left')",
          "q_value": 0,
          "run": 55
         },
         {
          "location": "((2, 2), 'left')",
          "q_value": 0,
          "run": 56
         },
         {
          "location": "((2, 2), 'left')",
          "q_value": 0,
          "run": 57
         },
         {
          "location": "((2, 2), 'left')",
          "q_value": 0,
          "run": 58
         },
         {
          "location": "((2, 2), 'left')",
          "q_value": 0,
          "run": 59
         },
         {
          "location": "((2, 2), 'left')",
          "q_value": 0,
          "run": 60
         },
         {
          "location": "((2, 2), 'left')",
          "q_value": 0,
          "run": 61
         },
         {
          "location": "((2, 2), 'left')",
          "q_value": 0,
          "run": 62
         },
         {
          "location": "((2, 2), 'left')",
          "q_value": 0,
          "run": 63
         },
         {
          "location": "((2, 2), 'left')",
          "q_value": 0,
          "run": 64
         },
         {
          "location": "((2, 2), 'left')",
          "q_value": 0,
          "run": 65
         },
         {
          "location": "((2, 2), 'left')",
          "q_value": 0,
          "run": 66
         },
         {
          "location": "((2, 2), 'left')",
          "q_value": 0,
          "run": 67
         },
         {
          "location": "((2, 2), 'left')",
          "q_value": 0,
          "run": 68
         },
         {
          "location": "((2, 2), 'left')",
          "q_value": 0,
          "run": 69
         },
         {
          "location": "((2, 2), 'left')",
          "q_value": 0,
          "run": 70
         },
         {
          "location": "((2, 2), 'left')",
          "q_value": 0,
          "run": 71
         },
         {
          "location": "((2, 2), 'left')",
          "q_value": 0,
          "run": 72
         },
         {
          "location": "((2, 2), 'left')",
          "q_value": 0,
          "run": 73
         },
         {
          "location": "((2, 2), 'left')",
          "q_value": 0,
          "run": 74
         },
         {
          "location": "((2, 2), 'left')",
          "q_value": 0,
          "run": 75
         },
         {
          "location": "((2, 2), 'left')",
          "q_value": 0,
          "run": 76
         },
         {
          "location": "((2, 2), 'left')",
          "q_value": 0,
          "run": 77
         },
         {
          "location": "((2, 2), 'left')",
          "q_value": 0,
          "run": 78
         },
         {
          "location": "((2, 2), 'left')",
          "q_value": 0,
          "run": 79
         },
         {
          "location": "((2, 2), 'left')",
          "q_value": 0,
          "run": 80
         },
         {
          "location": "((2, 2), 'left')",
          "q_value": 0,
          "run": 81
         },
         {
          "location": "((2, 2), 'left')",
          "q_value": 0,
          "run": 82
         },
         {
          "location": "((2, 2), 'left')",
          "q_value": 0,
          "run": 83
         },
         {
          "location": "((2, 2), 'left')",
          "q_value": 0,
          "run": 84
         },
         {
          "location": "((2, 2), 'left')",
          "q_value": 0,
          "run": 85
         },
         {
          "location": "((2, 2), 'left')",
          "q_value": 0,
          "run": 86
         },
         {
          "location": "((2, 2), 'left')",
          "q_value": 0,
          "run": 87
         },
         {
          "location": "((2, 2), 'left')",
          "q_value": 0,
          "run": 88
         },
         {
          "location": "((2, 2), 'left')",
          "q_value": 0,
          "run": 89
         },
         {
          "location": "((2, 2), 'left')",
          "q_value": 0,
          "run": 90
         },
         {
          "location": "((2, 2), 'left')",
          "q_value": 0,
          "run": 91
         },
         {
          "location": "((2, 2), 'left')",
          "q_value": 0,
          "run": 92
         },
         {
          "location": "((2, 2), 'left')",
          "q_value": 0,
          "run": 93
         },
         {
          "location": "((2, 2), 'left')",
          "q_value": 0,
          "run": 94
         },
         {
          "location": "((2, 2), 'left')",
          "q_value": 0,
          "run": 95
         },
         {
          "location": "((2, 2), 'left')",
          "q_value": 0,
          "run": 96
         },
         {
          "location": "((2, 2), 'left')",
          "q_value": 0,
          "run": 97
         },
         {
          "location": "((2, 2), 'left')",
          "q_value": 0,
          "run": 98
         },
         {
          "location": "((2, 2), 'left')",
          "q_value": 0,
          "run": 99
         },
         {
          "location": "((2, 2), 'left')",
          "q_value": 0,
          "run": 100
         },
         {
          "location": "((2, 3), 'down')",
          "q_value": 0,
          "run": 0
         },
         {
          "location": "((2, 3), 'down')",
          "q_value": 0,
          "run": 1
         },
         {
          "location": "((2, 3), 'down')",
          "q_value": 0,
          "run": 2
         },
         {
          "location": "((2, 3), 'down')",
          "q_value": 0,
          "run": 3
         },
         {
          "location": "((2, 3), 'down')",
          "q_value": 0,
          "run": 4
         },
         {
          "location": "((2, 3), 'down')",
          "q_value": 0,
          "run": 5
         },
         {
          "location": "((2, 3), 'down')",
          "q_value": 0,
          "run": 6
         },
         {
          "location": "((2, 3), 'down')",
          "q_value": 0,
          "run": 7
         },
         {
          "location": "((2, 3), 'down')",
          "q_value": 0,
          "run": 8
         },
         {
          "location": "((2, 3), 'down')",
          "q_value": 0,
          "run": 9
         },
         {
          "location": "((2, 3), 'down')",
          "q_value": 0,
          "run": 10
         },
         {
          "location": "((2, 3), 'down')",
          "q_value": 0,
          "run": 11
         },
         {
          "location": "((2, 3), 'down')",
          "q_value": 0,
          "run": 12
         },
         {
          "location": "((2, 3), 'down')",
          "q_value": 0,
          "run": 13
         },
         {
          "location": "((2, 3), 'down')",
          "q_value": 0,
          "run": 14
         },
         {
          "location": "((2, 3), 'down')",
          "q_value": 0,
          "run": 15
         },
         {
          "location": "((2, 3), 'down')",
          "q_value": 0,
          "run": 16
         },
         {
          "location": "((2, 3), 'down')",
          "q_value": 0,
          "run": 17
         },
         {
          "location": "((2, 3), 'down')",
          "q_value": 0,
          "run": 18
         },
         {
          "location": "((2, 3), 'down')",
          "q_value": 0,
          "run": 19
         },
         {
          "location": "((2, 3), 'down')",
          "q_value": 0,
          "run": 20
         },
         {
          "location": "((2, 3), 'down')",
          "q_value": 0,
          "run": 21
         },
         {
          "location": "((2, 3), 'down')",
          "q_value": 0,
          "run": 22
         },
         {
          "location": "((2, 3), 'down')",
          "q_value": 0,
          "run": 23
         },
         {
          "location": "((2, 3), 'down')",
          "q_value": 0,
          "run": 24
         },
         {
          "location": "((2, 3), 'down')",
          "q_value": 0,
          "run": 25
         },
         {
          "location": "((2, 3), 'down')",
          "q_value": 0,
          "run": 26
         },
         {
          "location": "((2, 3), 'down')",
          "q_value": 0,
          "run": 27
         },
         {
          "location": "((2, 3), 'down')",
          "q_value": 0,
          "run": 28
         },
         {
          "location": "((2, 3), 'down')",
          "q_value": 0,
          "run": 29
         },
         {
          "location": "((2, 3), 'down')",
          "q_value": 0,
          "run": 30
         },
         {
          "location": "((2, 3), 'down')",
          "q_value": 0,
          "run": 31
         },
         {
          "location": "((2, 3), 'down')",
          "q_value": 0,
          "run": 32
         },
         {
          "location": "((2, 3), 'down')",
          "q_value": 0,
          "run": 33
         },
         {
          "location": "((2, 3), 'down')",
          "q_value": 0,
          "run": 34
         },
         {
          "location": "((2, 3), 'down')",
          "q_value": 0,
          "run": 35
         },
         {
          "location": "((2, 3), 'down')",
          "q_value": 0,
          "run": 36
         },
         {
          "location": "((2, 3), 'down')",
          "q_value": 0,
          "run": 37
         },
         {
          "location": "((2, 3), 'down')",
          "q_value": 0,
          "run": 38
         },
         {
          "location": "((2, 3), 'down')",
          "q_value": 0,
          "run": 39
         },
         {
          "location": "((2, 3), 'down')",
          "q_value": 0,
          "run": 40
         },
         {
          "location": "((2, 3), 'down')",
          "q_value": 0,
          "run": 41
         },
         {
          "location": "((2, 3), 'down')",
          "q_value": 0,
          "run": 42
         },
         {
          "location": "((2, 3), 'down')",
          "q_value": 0,
          "run": 43
         },
         {
          "location": "((2, 3), 'down')",
          "q_value": 0,
          "run": 44
         },
         {
          "location": "((2, 3), 'down')",
          "q_value": 0,
          "run": 45
         },
         {
          "location": "((2, 3), 'down')",
          "q_value": 0,
          "run": 46
         },
         {
          "location": "((2, 3), 'down')",
          "q_value": 0,
          "run": 47
         },
         {
          "location": "((2, 3), 'down')",
          "q_value": 0,
          "run": 48
         },
         {
          "location": "((2, 3), 'down')",
          "q_value": 0,
          "run": 49
         },
         {
          "location": "((2, 3), 'down')",
          "q_value": 0,
          "run": 50
         },
         {
          "location": "((2, 3), 'down')",
          "q_value": 0,
          "run": 51
         },
         {
          "location": "((2, 3), 'down')",
          "q_value": 0,
          "run": 52
         },
         {
          "location": "((2, 3), 'down')",
          "q_value": 0,
          "run": 53
         },
         {
          "location": "((2, 3), 'down')",
          "q_value": 0,
          "run": 54
         },
         {
          "location": "((2, 3), 'down')",
          "q_value": 0,
          "run": 55
         },
         {
          "location": "((2, 3), 'down')",
          "q_value": 0,
          "run": 56
         },
         {
          "location": "((2, 3), 'down')",
          "q_value": 0,
          "run": 57
         },
         {
          "location": "((2, 3), 'down')",
          "q_value": 0,
          "run": 58
         },
         {
          "location": "((2, 3), 'down')",
          "q_value": 0,
          "run": 59
         },
         {
          "location": "((2, 3), 'down')",
          "q_value": 0,
          "run": 60
         },
         {
          "location": "((2, 3), 'down')",
          "q_value": 0,
          "run": 61
         },
         {
          "location": "((2, 3), 'down')",
          "q_value": 0,
          "run": 62
         },
         {
          "location": "((2, 3), 'down')",
          "q_value": 0,
          "run": 63
         },
         {
          "location": "((2, 3), 'down')",
          "q_value": 0,
          "run": 64
         },
         {
          "location": "((2, 3), 'down')",
          "q_value": 0,
          "run": 65
         },
         {
          "location": "((2, 3), 'down')",
          "q_value": 0,
          "run": 66
         },
         {
          "location": "((2, 3), 'down')",
          "q_value": 0,
          "run": 67
         },
         {
          "location": "((2, 3), 'down')",
          "q_value": 0,
          "run": 68
         },
         {
          "location": "((2, 3), 'down')",
          "q_value": 0,
          "run": 69
         },
         {
          "location": "((2, 3), 'down')",
          "q_value": 0,
          "run": 70
         },
         {
          "location": "((2, 3), 'down')",
          "q_value": 0,
          "run": 71
         },
         {
          "location": "((2, 3), 'down')",
          "q_value": 0,
          "run": 72
         },
         {
          "location": "((2, 3), 'down')",
          "q_value": 0,
          "run": 73
         },
         {
          "location": "((2, 3), 'down')",
          "q_value": 0,
          "run": 74
         },
         {
          "location": "((2, 3), 'down')",
          "q_value": 0,
          "run": 75
         },
         {
          "location": "((2, 3), 'down')",
          "q_value": 0,
          "run": 76
         },
         {
          "location": "((2, 3), 'down')",
          "q_value": 0,
          "run": 77
         },
         {
          "location": "((2, 3), 'down')",
          "q_value": 0,
          "run": 78
         },
         {
          "location": "((2, 3), 'down')",
          "q_value": 0,
          "run": 79
         },
         {
          "location": "((2, 3), 'down')",
          "q_value": 0,
          "run": 80
         },
         {
          "location": "((2, 3), 'down')",
          "q_value": 0,
          "run": 81
         },
         {
          "location": "((2, 3), 'down')",
          "q_value": 0,
          "run": 82
         },
         {
          "location": "((2, 3), 'down')",
          "q_value": 0,
          "run": 83
         },
         {
          "location": "((2, 3), 'down')",
          "q_value": 0,
          "run": 84
         },
         {
          "location": "((2, 3), 'down')",
          "q_value": 0,
          "run": 85
         },
         {
          "location": "((2, 3), 'down')",
          "q_value": 0,
          "run": 86
         },
         {
          "location": "((2, 3), 'down')",
          "q_value": 0,
          "run": 87
         },
         {
          "location": "((2, 3), 'down')",
          "q_value": 0,
          "run": 88
         },
         {
          "location": "((2, 3), 'down')",
          "q_value": 0,
          "run": 89
         },
         {
          "location": "((2, 3), 'down')",
          "q_value": 0,
          "run": 90
         },
         {
          "location": "((2, 3), 'down')",
          "q_value": 0,
          "run": 91
         },
         {
          "location": "((2, 3), 'down')",
          "q_value": 0,
          "run": 92
         },
         {
          "location": "((2, 3), 'down')",
          "q_value": 0,
          "run": 93
         },
         {
          "location": "((2, 3), 'down')",
          "q_value": 0,
          "run": 94
         },
         {
          "location": "((2, 3), 'down')",
          "q_value": 0,
          "run": 95
         },
         {
          "location": "((2, 3), 'down')",
          "q_value": 0,
          "run": 96
         },
         {
          "location": "((2, 3), 'down')",
          "q_value": 0,
          "run": 97
         },
         {
          "location": "((2, 3), 'down')",
          "q_value": 0,
          "run": 98
         },
         {
          "location": "((2, 3), 'down')",
          "q_value": 0,
          "run": 99
         },
         {
          "location": "((2, 3), 'down')",
          "q_value": 0,
          "run": 100
         },
         {
          "location": "((2, 3), 'right')",
          "q_value": 0,
          "run": 0
         },
         {
          "location": "((2, 3), 'right')",
          "q_value": 0,
          "run": 1
         },
         {
          "location": "((2, 3), 'right')",
          "q_value": 0,
          "run": 2
         },
         {
          "location": "((2, 3), 'right')",
          "q_value": 0,
          "run": 3
         },
         {
          "location": "((2, 3), 'right')",
          "q_value": 0,
          "run": 4
         },
         {
          "location": "((2, 3), 'right')",
          "q_value": 0,
          "run": 5
         },
         {
          "location": "((2, 3), 'right')",
          "q_value": 0,
          "run": 6
         },
         {
          "location": "((2, 3), 'right')",
          "q_value": 0,
          "run": 7
         },
         {
          "location": "((2, 3), 'right')",
          "q_value": 0,
          "run": 8
         },
         {
          "location": "((2, 3), 'right')",
          "q_value": 0,
          "run": 9
         },
         {
          "location": "((2, 3), 'right')",
          "q_value": 0,
          "run": 10
         },
         {
          "location": "((2, 3), 'right')",
          "q_value": 0,
          "run": 11
         },
         {
          "location": "((2, 3), 'right')",
          "q_value": 0,
          "run": 12
         },
         {
          "location": "((2, 3), 'right')",
          "q_value": 0,
          "run": 13
         },
         {
          "location": "((2, 3), 'right')",
          "q_value": 0,
          "run": 14
         },
         {
          "location": "((2, 3), 'right')",
          "q_value": 0,
          "run": 15
         },
         {
          "location": "((2, 3), 'right')",
          "q_value": 0,
          "run": 16
         },
         {
          "location": "((2, 3), 'right')",
          "q_value": 0,
          "run": 17
         },
         {
          "location": "((2, 3), 'right')",
          "q_value": 0,
          "run": 18
         },
         {
          "location": "((2, 3), 'right')",
          "q_value": 0,
          "run": 19
         },
         {
          "location": "((2, 3), 'right')",
          "q_value": 0,
          "run": 20
         },
         {
          "location": "((2, 3), 'right')",
          "q_value": 0,
          "run": 21
         },
         {
          "location": "((2, 3), 'right')",
          "q_value": 0,
          "run": 22
         },
         {
          "location": "((2, 3), 'right')",
          "q_value": 0,
          "run": 23
         },
         {
          "location": "((2, 3), 'right')",
          "q_value": 0,
          "run": 24
         },
         {
          "location": "((2, 3), 'right')",
          "q_value": 0,
          "run": 25
         },
         {
          "location": "((2, 3), 'right')",
          "q_value": 0,
          "run": 26
         },
         {
          "location": "((2, 3), 'right')",
          "q_value": 0,
          "run": 27
         },
         {
          "location": "((2, 3), 'right')",
          "q_value": 0,
          "run": 28
         },
         {
          "location": "((2, 3), 'right')",
          "q_value": 0,
          "run": 29
         },
         {
          "location": "((2, 3), 'right')",
          "q_value": 0,
          "run": 30
         },
         {
          "location": "((2, 3), 'right')",
          "q_value": 0,
          "run": 31
         },
         {
          "location": "((2, 3), 'right')",
          "q_value": 0,
          "run": 32
         },
         {
          "location": "((2, 3), 'right')",
          "q_value": 0,
          "run": 33
         },
         {
          "location": "((2, 3), 'right')",
          "q_value": 0,
          "run": 34
         },
         {
          "location": "((2, 3), 'right')",
          "q_value": 0,
          "run": 35
         },
         {
          "location": "((2, 3), 'right')",
          "q_value": 0,
          "run": 36
         },
         {
          "location": "((2, 3), 'right')",
          "q_value": 0,
          "run": 37
         },
         {
          "location": "((2, 3), 'right')",
          "q_value": 0,
          "run": 38
         },
         {
          "location": "((2, 3), 'right')",
          "q_value": 0,
          "run": 39
         },
         {
          "location": "((2, 3), 'right')",
          "q_value": 0,
          "run": 40
         },
         {
          "location": "((2, 3), 'right')",
          "q_value": 0,
          "run": 41
         },
         {
          "location": "((2, 3), 'right')",
          "q_value": 0,
          "run": 42
         },
         {
          "location": "((2, 3), 'right')",
          "q_value": 0,
          "run": 43
         },
         {
          "location": "((2, 3), 'right')",
          "q_value": 0,
          "run": 44
         },
         {
          "location": "((2, 3), 'right')",
          "q_value": 0,
          "run": 45
         },
         {
          "location": "((2, 3), 'right')",
          "q_value": 0,
          "run": 46
         },
         {
          "location": "((2, 3), 'right')",
          "q_value": 0,
          "run": 47
         },
         {
          "location": "((2, 3), 'right')",
          "q_value": 0,
          "run": 48
         },
         {
          "location": "((2, 3), 'right')",
          "q_value": 0,
          "run": 49
         },
         {
          "location": "((2, 3), 'right')",
          "q_value": 0,
          "run": 50
         },
         {
          "location": "((2, 3), 'right')",
          "q_value": 0,
          "run": 51
         },
         {
          "location": "((2, 3), 'right')",
          "q_value": 0,
          "run": 52
         },
         {
          "location": "((2, 3), 'right')",
          "q_value": 0,
          "run": 53
         },
         {
          "location": "((2, 3), 'right')",
          "q_value": 0,
          "run": 54
         },
         {
          "location": "((2, 3), 'right')",
          "q_value": 0,
          "run": 55
         },
         {
          "location": "((2, 3), 'right')",
          "q_value": 0,
          "run": 56
         },
         {
          "location": "((2, 3), 'right')",
          "q_value": 0,
          "run": 57
         },
         {
          "location": "((2, 3), 'right')",
          "q_value": 0,
          "run": 58
         },
         {
          "location": "((2, 3), 'right')",
          "q_value": 0,
          "run": 59
         },
         {
          "location": "((2, 3), 'right')",
          "q_value": 0,
          "run": 60
         },
         {
          "location": "((2, 3), 'right')",
          "q_value": 0,
          "run": 61
         },
         {
          "location": "((2, 3), 'right')",
          "q_value": 0,
          "run": 62
         },
         {
          "location": "((2, 3), 'right')",
          "q_value": 0,
          "run": 63
         },
         {
          "location": "((2, 3), 'right')",
          "q_value": 0,
          "run": 64
         },
         {
          "location": "((2, 3), 'right')",
          "q_value": 0,
          "run": 65
         },
         {
          "location": "((2, 3), 'right')",
          "q_value": 0,
          "run": 66
         },
         {
          "location": "((2, 3), 'right')",
          "q_value": 0,
          "run": 67
         },
         {
          "location": "((2, 3), 'right')",
          "q_value": 0,
          "run": 68
         },
         {
          "location": "((2, 3), 'right')",
          "q_value": 0,
          "run": 69
         },
         {
          "location": "((2, 3), 'right')",
          "q_value": 0,
          "run": 70
         },
         {
          "location": "((2, 3), 'right')",
          "q_value": 0,
          "run": 71
         },
         {
          "location": "((2, 3), 'right')",
          "q_value": 0,
          "run": 72
         },
         {
          "location": "((2, 3), 'right')",
          "q_value": 0,
          "run": 73
         },
         {
          "location": "((2, 3), 'right')",
          "q_value": 0,
          "run": 74
         },
         {
          "location": "((2, 3), 'right')",
          "q_value": 0,
          "run": 75
         },
         {
          "location": "((2, 3), 'right')",
          "q_value": 0,
          "run": 76
         },
         {
          "location": "((2, 3), 'right')",
          "q_value": 0,
          "run": 77
         },
         {
          "location": "((2, 3), 'right')",
          "q_value": 0,
          "run": 78
         },
         {
          "location": "((2, 3), 'right')",
          "q_value": 0,
          "run": 79
         },
         {
          "location": "((2, 3), 'right')",
          "q_value": 0,
          "run": 80
         },
         {
          "location": "((2, 3), 'right')",
          "q_value": 0,
          "run": 81
         },
         {
          "location": "((2, 3), 'right')",
          "q_value": 0,
          "run": 82
         },
         {
          "location": "((2, 3), 'right')",
          "q_value": 0,
          "run": 83
         },
         {
          "location": "((2, 3), 'right')",
          "q_value": 0,
          "run": 84
         },
         {
          "location": "((2, 3), 'right')",
          "q_value": 0,
          "run": 85
         },
         {
          "location": "((2, 3), 'right')",
          "q_value": 0,
          "run": 86
         },
         {
          "location": "((2, 3), 'right')",
          "q_value": 0,
          "run": 87
         },
         {
          "location": "((2, 3), 'right')",
          "q_value": 0,
          "run": 88
         },
         {
          "location": "((2, 3), 'right')",
          "q_value": 0,
          "run": 89
         },
         {
          "location": "((2, 3), 'right')",
          "q_value": 0,
          "run": 90
         },
         {
          "location": "((2, 3), 'right')",
          "q_value": 0,
          "run": 91
         },
         {
          "location": "((2, 3), 'right')",
          "q_value": 0,
          "run": 92
         },
         {
          "location": "((2, 3), 'right')",
          "q_value": 0,
          "run": 93
         },
         {
          "location": "((2, 3), 'right')",
          "q_value": 0,
          "run": 94
         },
         {
          "location": "((2, 3), 'right')",
          "q_value": 0,
          "run": 95
         },
         {
          "location": "((2, 3), 'right')",
          "q_value": 0,
          "run": 96
         },
         {
          "location": "((2, 3), 'right')",
          "q_value": 0,
          "run": 97
         },
         {
          "location": "((2, 3), 'right')",
          "q_value": 0,
          "run": 98
         },
         {
          "location": "((2, 3), 'right')",
          "q_value": 0,
          "run": 99
         },
         {
          "location": "((2, 3), 'right')",
          "q_value": 0,
          "run": 100
         },
         {
          "location": "((2, 3), 'up')",
          "q_value": 0,
          "run": 0
         },
         {
          "location": "((2, 3), 'up')",
          "q_value": 0,
          "run": 1
         },
         {
          "location": "((2, 3), 'up')",
          "q_value": 0,
          "run": 2
         },
         {
          "location": "((2, 3), 'up')",
          "q_value": 0,
          "run": 3
         },
         {
          "location": "((2, 3), 'up')",
          "q_value": 0,
          "run": 4
         },
         {
          "location": "((2, 3), 'up')",
          "q_value": 0,
          "run": 5
         },
         {
          "location": "((2, 3), 'up')",
          "q_value": 0,
          "run": 6
         },
         {
          "location": "((2, 3), 'up')",
          "q_value": 0,
          "run": 7
         },
         {
          "location": "((2, 3), 'up')",
          "q_value": 0,
          "run": 8
         },
         {
          "location": "((2, 3), 'up')",
          "q_value": 0,
          "run": 9
         },
         {
          "location": "((2, 3), 'up')",
          "q_value": 0,
          "run": 10
         },
         {
          "location": "((2, 3), 'up')",
          "q_value": 0,
          "run": 11
         },
         {
          "location": "((2, 3), 'up')",
          "q_value": 0,
          "run": 12
         },
         {
          "location": "((2, 3), 'up')",
          "q_value": 0,
          "run": 13
         },
         {
          "location": "((2, 3), 'up')",
          "q_value": 0,
          "run": 14
         },
         {
          "location": "((2, 3), 'up')",
          "q_value": 0,
          "run": 15
         },
         {
          "location": "((2, 3), 'up')",
          "q_value": 0,
          "run": 16
         },
         {
          "location": "((2, 3), 'up')",
          "q_value": 0,
          "run": 17
         },
         {
          "location": "((2, 3), 'up')",
          "q_value": 0,
          "run": 18
         },
         {
          "location": "((2, 3), 'up')",
          "q_value": 0,
          "run": 19
         },
         {
          "location": "((2, 3), 'up')",
          "q_value": 0,
          "run": 20
         },
         {
          "location": "((2, 3), 'up')",
          "q_value": 0,
          "run": 21
         },
         {
          "location": "((2, 3), 'up')",
          "q_value": 0,
          "run": 22
         },
         {
          "location": "((2, 3), 'up')",
          "q_value": 0,
          "run": 23
         },
         {
          "location": "((2, 3), 'up')",
          "q_value": 0,
          "run": 24
         },
         {
          "location": "((2, 3), 'up')",
          "q_value": 0,
          "run": 25
         },
         {
          "location": "((2, 3), 'up')",
          "q_value": 0,
          "run": 26
         },
         {
          "location": "((2, 3), 'up')",
          "q_value": 0,
          "run": 27
         },
         {
          "location": "((2, 3), 'up')",
          "q_value": 0,
          "run": 28
         },
         {
          "location": "((2, 3), 'up')",
          "q_value": 0,
          "run": 29
         },
         {
          "location": "((2, 3), 'up')",
          "q_value": 0,
          "run": 30
         },
         {
          "location": "((2, 3), 'up')",
          "q_value": 0,
          "run": 31
         },
         {
          "location": "((2, 3), 'up')",
          "q_value": 0,
          "run": 32
         },
         {
          "location": "((2, 3), 'up')",
          "q_value": 0,
          "run": 33
         },
         {
          "location": "((2, 3), 'up')",
          "q_value": 0,
          "run": 34
         },
         {
          "location": "((2, 3), 'up')",
          "q_value": 0,
          "run": 35
         },
         {
          "location": "((2, 3), 'up')",
          "q_value": 0,
          "run": 36
         },
         {
          "location": "((2, 3), 'up')",
          "q_value": 0,
          "run": 37
         },
         {
          "location": "((2, 3), 'up')",
          "q_value": 0,
          "run": 38
         },
         {
          "location": "((2, 3), 'up')",
          "q_value": 0,
          "run": 39
         },
         {
          "location": "((2, 3), 'up')",
          "q_value": 0,
          "run": 40
         },
         {
          "location": "((2, 3), 'up')",
          "q_value": 0,
          "run": 41
         },
         {
          "location": "((2, 3), 'up')",
          "q_value": 0,
          "run": 42
         },
         {
          "location": "((2, 3), 'up')",
          "q_value": 0,
          "run": 43
         },
         {
          "location": "((2, 3), 'up')",
          "q_value": 0,
          "run": 44
         },
         {
          "location": "((2, 3), 'up')",
          "q_value": 0,
          "run": 45
         },
         {
          "location": "((2, 3), 'up')",
          "q_value": 0,
          "run": 46
         },
         {
          "location": "((2, 3), 'up')",
          "q_value": 0,
          "run": 47
         },
         {
          "location": "((2, 3), 'up')",
          "q_value": 0,
          "run": 48
         },
         {
          "location": "((2, 3), 'up')",
          "q_value": 0,
          "run": 49
         },
         {
          "location": "((2, 3), 'up')",
          "q_value": 0,
          "run": 50
         },
         {
          "location": "((2, 3), 'up')",
          "q_value": 0,
          "run": 51
         },
         {
          "location": "((2, 3), 'up')",
          "q_value": 0,
          "run": 52
         },
         {
          "location": "((2, 3), 'up')",
          "q_value": 0,
          "run": 53
         },
         {
          "location": "((2, 3), 'up')",
          "q_value": 0,
          "run": 54
         },
         {
          "location": "((2, 3), 'up')",
          "q_value": 0,
          "run": 55
         },
         {
          "location": "((2, 3), 'up')",
          "q_value": 0,
          "run": 56
         },
         {
          "location": "((2, 3), 'up')",
          "q_value": 0,
          "run": 57
         },
         {
          "location": "((2, 3), 'up')",
          "q_value": 0,
          "run": 58
         },
         {
          "location": "((2, 3), 'up')",
          "q_value": 0,
          "run": 59
         },
         {
          "location": "((2, 3), 'up')",
          "q_value": 0,
          "run": 60
         },
         {
          "location": "((2, 3), 'up')",
          "q_value": 0,
          "run": 61
         },
         {
          "location": "((2, 3), 'up')",
          "q_value": 0,
          "run": 62
         },
         {
          "location": "((2, 3), 'up')",
          "q_value": 0,
          "run": 63
         },
         {
          "location": "((2, 3), 'up')",
          "q_value": 0,
          "run": 64
         },
         {
          "location": "((2, 3), 'up')",
          "q_value": 0,
          "run": 65
         },
         {
          "location": "((2, 3), 'up')",
          "q_value": 0,
          "run": 66
         },
         {
          "location": "((2, 3), 'up')",
          "q_value": 0,
          "run": 67
         },
         {
          "location": "((2, 3), 'up')",
          "q_value": 0,
          "run": 68
         },
         {
          "location": "((2, 3), 'up')",
          "q_value": 0,
          "run": 69
         },
         {
          "location": "((2, 3), 'up')",
          "q_value": 0,
          "run": 70
         },
         {
          "location": "((2, 3), 'up')",
          "q_value": 0,
          "run": 71
         },
         {
          "location": "((2, 3), 'up')",
          "q_value": 0,
          "run": 72
         },
         {
          "location": "((2, 3), 'up')",
          "q_value": 0,
          "run": 73
         },
         {
          "location": "((2, 3), 'up')",
          "q_value": 0,
          "run": 74
         },
         {
          "location": "((2, 3), 'up')",
          "q_value": 0,
          "run": 75
         },
         {
          "location": "((2, 3), 'up')",
          "q_value": 0,
          "run": 76
         },
         {
          "location": "((2, 3), 'up')",
          "q_value": 0,
          "run": 77
         },
         {
          "location": "((2, 3), 'up')",
          "q_value": 0,
          "run": 78
         },
         {
          "location": "((2, 3), 'up')",
          "q_value": 0,
          "run": 79
         },
         {
          "location": "((2, 3), 'up')",
          "q_value": 0,
          "run": 80
         },
         {
          "location": "((2, 3), 'up')",
          "q_value": 0,
          "run": 81
         },
         {
          "location": "((2, 3), 'up')",
          "q_value": 0,
          "run": 82
         },
         {
          "location": "((2, 3), 'up')",
          "q_value": 0,
          "run": 83
         },
         {
          "location": "((2, 3), 'up')",
          "q_value": 0,
          "run": 84
         },
         {
          "location": "((2, 3), 'up')",
          "q_value": 0,
          "run": 85
         },
         {
          "location": "((2, 3), 'up')",
          "q_value": 0,
          "run": 86
         },
         {
          "location": "((2, 3), 'up')",
          "q_value": 0,
          "run": 87
         },
         {
          "location": "((2, 3), 'up')",
          "q_value": 0,
          "run": 88
         },
         {
          "location": "((2, 3), 'up')",
          "q_value": 0,
          "run": 89
         },
         {
          "location": "((2, 3), 'up')",
          "q_value": 0,
          "run": 90
         },
         {
          "location": "((2, 3), 'up')",
          "q_value": 0,
          "run": 91
         },
         {
          "location": "((2, 3), 'up')",
          "q_value": 0,
          "run": 92
         },
         {
          "location": "((2, 3), 'up')",
          "q_value": 0,
          "run": 93
         },
         {
          "location": "((2, 3), 'up')",
          "q_value": 0,
          "run": 94
         },
         {
          "location": "((2, 3), 'up')",
          "q_value": 0,
          "run": 95
         },
         {
          "location": "((2, 3), 'up')",
          "q_value": 0,
          "run": 96
         },
         {
          "location": "((2, 3), 'up')",
          "q_value": 0,
          "run": 97
         },
         {
          "location": "((2, 3), 'up')",
          "q_value": 0,
          "run": 98
         },
         {
          "location": "((2, 3), 'up')",
          "q_value": 0,
          "run": 99
         },
         {
          "location": "((2, 3), 'up')",
          "q_value": 0,
          "run": 100
         },
         {
          "location": "((2, 3), 'left')",
          "q_value": 0,
          "run": 0
         },
         {
          "location": "((2, 3), 'left')",
          "q_value": 1,
          "run": 1
         },
         {
          "location": "((2, 3), 'left')",
          "q_value": 1,
          "run": 2
         },
         {
          "location": "((2, 3), 'left')",
          "q_value": 1,
          "run": 3
         },
         {
          "location": "((2, 3), 'left')",
          "q_value": 1,
          "run": 4
         },
         {
          "location": "((2, 3), 'left')",
          "q_value": 1,
          "run": 5
         },
         {
          "location": "((2, 3), 'left')",
          "q_value": 1,
          "run": 6
         },
         {
          "location": "((2, 3), 'left')",
          "q_value": 1,
          "run": 7
         },
         {
          "location": "((2, 3), 'left')",
          "q_value": 1,
          "run": 8
         },
         {
          "location": "((2, 3), 'left')",
          "q_value": 1,
          "run": 9
         },
         {
          "location": "((2, 3), 'left')",
          "q_value": 1,
          "run": 10
         },
         {
          "location": "((2, 3), 'left')",
          "q_value": 1,
          "run": 11
         },
         {
          "location": "((2, 3), 'left')",
          "q_value": 1,
          "run": 12
         },
         {
          "location": "((2, 3), 'left')",
          "q_value": 1,
          "run": 13
         },
         {
          "location": "((2, 3), 'left')",
          "q_value": 1,
          "run": 14
         },
         {
          "location": "((2, 3), 'left')",
          "q_value": 1,
          "run": 15
         },
         {
          "location": "((2, 3), 'left')",
          "q_value": 1,
          "run": 16
         },
         {
          "location": "((2, 3), 'left')",
          "q_value": 1,
          "run": 17
         },
         {
          "location": "((2, 3), 'left')",
          "q_value": 1,
          "run": 18
         },
         {
          "location": "((2, 3), 'left')",
          "q_value": 1,
          "run": 19
         },
         {
          "location": "((2, 3), 'left')",
          "q_value": 1,
          "run": 20
         },
         {
          "location": "((2, 3), 'left')",
          "q_value": 1,
          "run": 21
         },
         {
          "location": "((2, 3), 'left')",
          "q_value": 1,
          "run": 22
         },
         {
          "location": "((2, 3), 'left')",
          "q_value": 1,
          "run": 23
         },
         {
          "location": "((2, 3), 'left')",
          "q_value": 1,
          "run": 24
         },
         {
          "location": "((2, 3), 'left')",
          "q_value": 1,
          "run": 25
         },
         {
          "location": "((2, 3), 'left')",
          "q_value": 1,
          "run": 26
         },
         {
          "location": "((2, 3), 'left')",
          "q_value": 1,
          "run": 27
         },
         {
          "location": "((2, 3), 'left')",
          "q_value": 1,
          "run": 28
         },
         {
          "location": "((2, 3), 'left')",
          "q_value": 1,
          "run": 29
         },
         {
          "location": "((2, 3), 'left')",
          "q_value": 1,
          "run": 30
         },
         {
          "location": "((2, 3), 'left')",
          "q_value": 1,
          "run": 31
         },
         {
          "location": "((2, 3), 'left')",
          "q_value": 1,
          "run": 32
         },
         {
          "location": "((2, 3), 'left')",
          "q_value": 1,
          "run": 33
         },
         {
          "location": "((2, 3), 'left')",
          "q_value": 1,
          "run": 34
         },
         {
          "location": "((2, 3), 'left')",
          "q_value": 1,
          "run": 35
         },
         {
          "location": "((2, 3), 'left')",
          "q_value": 1,
          "run": 36
         },
         {
          "location": "((2, 3), 'left')",
          "q_value": 1,
          "run": 37
         },
         {
          "location": "((2, 3), 'left')",
          "q_value": 1,
          "run": 38
         },
         {
          "location": "((2, 3), 'left')",
          "q_value": 1,
          "run": 39
         },
         {
          "location": "((2, 3), 'left')",
          "q_value": 1,
          "run": 40
         },
         {
          "location": "((2, 3), 'left')",
          "q_value": 1,
          "run": 41
         },
         {
          "location": "((2, 3), 'left')",
          "q_value": 1,
          "run": 42
         },
         {
          "location": "((2, 3), 'left')",
          "q_value": 1,
          "run": 43
         },
         {
          "location": "((2, 3), 'left')",
          "q_value": 1,
          "run": 44
         },
         {
          "location": "((2, 3), 'left')",
          "q_value": 1,
          "run": 45
         },
         {
          "location": "((2, 3), 'left')",
          "q_value": 1,
          "run": 46
         },
         {
          "location": "((2, 3), 'left')",
          "q_value": 1,
          "run": 47
         },
         {
          "location": "((2, 3), 'left')",
          "q_value": 1,
          "run": 48
         },
         {
          "location": "((2, 3), 'left')",
          "q_value": 1,
          "run": 49
         },
         {
          "location": "((2, 3), 'left')",
          "q_value": 1,
          "run": 50
         },
         {
          "location": "((2, 3), 'left')",
          "q_value": 1,
          "run": 51
         },
         {
          "location": "((2, 3), 'left')",
          "q_value": 1,
          "run": 52
         },
         {
          "location": "((2, 3), 'left')",
          "q_value": 1,
          "run": 53
         },
         {
          "location": "((2, 3), 'left')",
          "q_value": 1,
          "run": 54
         },
         {
          "location": "((2, 3), 'left')",
          "q_value": 1,
          "run": 55
         },
         {
          "location": "((2, 3), 'left')",
          "q_value": 1,
          "run": 56
         },
         {
          "location": "((2, 3), 'left')",
          "q_value": 1,
          "run": 57
         },
         {
          "location": "((2, 3), 'left')",
          "q_value": 1,
          "run": 58
         },
         {
          "location": "((2, 3), 'left')",
          "q_value": 1,
          "run": 59
         },
         {
          "location": "((2, 3), 'left')",
          "q_value": 1,
          "run": 60
         },
         {
          "location": "((2, 3), 'left')",
          "q_value": 1,
          "run": 61
         },
         {
          "location": "((2, 3), 'left')",
          "q_value": 1,
          "run": 62
         },
         {
          "location": "((2, 3), 'left')",
          "q_value": 1,
          "run": 63
         },
         {
          "location": "((2, 3), 'left')",
          "q_value": 1,
          "run": 64
         },
         {
          "location": "((2, 3), 'left')",
          "q_value": 1,
          "run": 65
         },
         {
          "location": "((2, 3), 'left')",
          "q_value": 1,
          "run": 66
         },
         {
          "location": "((2, 3), 'left')",
          "q_value": 1,
          "run": 67
         },
         {
          "location": "((2, 3), 'left')",
          "q_value": 1,
          "run": 68
         },
         {
          "location": "((2, 3), 'left')",
          "q_value": 1,
          "run": 69
         },
         {
          "location": "((2, 3), 'left')",
          "q_value": 1,
          "run": 70
         },
         {
          "location": "((2, 3), 'left')",
          "q_value": 1,
          "run": 71
         },
         {
          "location": "((2, 3), 'left')",
          "q_value": 1,
          "run": 72
         },
         {
          "location": "((2, 3), 'left')",
          "q_value": 1,
          "run": 73
         },
         {
          "location": "((2, 3), 'left')",
          "q_value": 1,
          "run": 74
         },
         {
          "location": "((2, 3), 'left')",
          "q_value": 1,
          "run": 75
         },
         {
          "location": "((2, 3), 'left')",
          "q_value": 1,
          "run": 76
         },
         {
          "location": "((2, 3), 'left')",
          "q_value": 1,
          "run": 77
         },
         {
          "location": "((2, 3), 'left')",
          "q_value": 1,
          "run": 78
         },
         {
          "location": "((2, 3), 'left')",
          "q_value": 1,
          "run": 79
         },
         {
          "location": "((2, 3), 'left')",
          "q_value": 1,
          "run": 80
         },
         {
          "location": "((2, 3), 'left')",
          "q_value": 1,
          "run": 81
         },
         {
          "location": "((2, 3), 'left')",
          "q_value": 1,
          "run": 82
         },
         {
          "location": "((2, 3), 'left')",
          "q_value": 1,
          "run": 83
         },
         {
          "location": "((2, 3), 'left')",
          "q_value": 1,
          "run": 84
         },
         {
          "location": "((2, 3), 'left')",
          "q_value": 1,
          "run": 85
         },
         {
          "location": "((2, 3), 'left')",
          "q_value": 1,
          "run": 86
         },
         {
          "location": "((2, 3), 'left')",
          "q_value": 1,
          "run": 87
         },
         {
          "location": "((2, 3), 'left')",
          "q_value": 1,
          "run": 88
         },
         {
          "location": "((2, 3), 'left')",
          "q_value": 1,
          "run": 89
         },
         {
          "location": "((2, 3), 'left')",
          "q_value": 1,
          "run": 90
         },
         {
          "location": "((2, 3), 'left')",
          "q_value": 1,
          "run": 91
         },
         {
          "location": "((2, 3), 'left')",
          "q_value": 1,
          "run": 92
         },
         {
          "location": "((2, 3), 'left')",
          "q_value": 1,
          "run": 93
         },
         {
          "location": "((2, 3), 'left')",
          "q_value": 1,
          "run": 94
         },
         {
          "location": "((2, 3), 'left')",
          "q_value": 1,
          "run": 95
         },
         {
          "location": "((2, 3), 'left')",
          "q_value": 1,
          "run": 96
         },
         {
          "location": "((2, 3), 'left')",
          "q_value": 1,
          "run": 97
         },
         {
          "location": "((2, 3), 'left')",
          "q_value": 1,
          "run": 98
         },
         {
          "location": "((2, 3), 'left')",
          "q_value": 1,
          "run": 99
         },
         {
          "location": "((2, 3), 'left')",
          "q_value": 1,
          "run": 100
         },
         {
          "location": "((3, 0), 'down')",
          "q_value": 0,
          "run": 0
         },
         {
          "location": "((3, 0), 'down')",
          "q_value": 0,
          "run": 1
         },
         {
          "location": "((3, 0), 'down')",
          "q_value": 0,
          "run": 2
         },
         {
          "location": "((3, 0), 'down')",
          "q_value": 0,
          "run": 3
         },
         {
          "location": "((3, 0), 'down')",
          "q_value": 0,
          "run": 4
         },
         {
          "location": "((3, 0), 'down')",
          "q_value": 0,
          "run": 5
         },
         {
          "location": "((3, 0), 'down')",
          "q_value": 0,
          "run": 6
         },
         {
          "location": "((3, 0), 'down')",
          "q_value": 0,
          "run": 7
         },
         {
          "location": "((3, 0), 'down')",
          "q_value": 0,
          "run": 8
         },
         {
          "location": "((3, 0), 'down')",
          "q_value": 0,
          "run": 9
         },
         {
          "location": "((3, 0), 'down')",
          "q_value": 0,
          "run": 10
         },
         {
          "location": "((3, 0), 'down')",
          "q_value": 0,
          "run": 11
         },
         {
          "location": "((3, 0), 'down')",
          "q_value": 0,
          "run": 12
         },
         {
          "location": "((3, 0), 'down')",
          "q_value": 0,
          "run": 13
         },
         {
          "location": "((3, 0), 'down')",
          "q_value": 0,
          "run": 14
         },
         {
          "location": "((3, 0), 'down')",
          "q_value": 0,
          "run": 15
         },
         {
          "location": "((3, 0), 'down')",
          "q_value": 0,
          "run": 16
         },
         {
          "location": "((3, 0), 'down')",
          "q_value": 0,
          "run": 17
         },
         {
          "location": "((3, 0), 'down')",
          "q_value": 0,
          "run": 18
         },
         {
          "location": "((3, 0), 'down')",
          "q_value": 0,
          "run": 19
         },
         {
          "location": "((3, 0), 'down')",
          "q_value": 0,
          "run": 20
         },
         {
          "location": "((3, 0), 'down')",
          "q_value": 0,
          "run": 21
         },
         {
          "location": "((3, 0), 'down')",
          "q_value": 0,
          "run": 22
         },
         {
          "location": "((3, 0), 'down')",
          "q_value": 0,
          "run": 23
         },
         {
          "location": "((3, 0), 'down')",
          "q_value": 0,
          "run": 24
         },
         {
          "location": "((3, 0), 'down')",
          "q_value": 0,
          "run": 25
         },
         {
          "location": "((3, 0), 'down')",
          "q_value": 0,
          "run": 26
         },
         {
          "location": "((3, 0), 'down')",
          "q_value": 0,
          "run": 27
         },
         {
          "location": "((3, 0), 'down')",
          "q_value": 0,
          "run": 28
         },
         {
          "location": "((3, 0), 'down')",
          "q_value": 0,
          "run": 29
         },
         {
          "location": "((3, 0), 'down')",
          "q_value": 0,
          "run": 30
         },
         {
          "location": "((3, 0), 'down')",
          "q_value": 0,
          "run": 31
         },
         {
          "location": "((3, 0), 'down')",
          "q_value": 0,
          "run": 32
         },
         {
          "location": "((3, 0), 'down')",
          "q_value": 0,
          "run": 33
         },
         {
          "location": "((3, 0), 'down')",
          "q_value": 0,
          "run": 34
         },
         {
          "location": "((3, 0), 'down')",
          "q_value": 0,
          "run": 35
         },
         {
          "location": "((3, 0), 'down')",
          "q_value": 0,
          "run": 36
         },
         {
          "location": "((3, 0), 'down')",
          "q_value": 0,
          "run": 37
         },
         {
          "location": "((3, 0), 'down')",
          "q_value": 0,
          "run": 38
         },
         {
          "location": "((3, 0), 'down')",
          "q_value": 0,
          "run": 39
         },
         {
          "location": "((3, 0), 'down')",
          "q_value": 0,
          "run": 40
         },
         {
          "location": "((3, 0), 'down')",
          "q_value": 0,
          "run": 41
         },
         {
          "location": "((3, 0), 'down')",
          "q_value": 0,
          "run": 42
         },
         {
          "location": "((3, 0), 'down')",
          "q_value": 0,
          "run": 43
         },
         {
          "location": "((3, 0), 'down')",
          "q_value": 0,
          "run": 44
         },
         {
          "location": "((3, 0), 'down')",
          "q_value": 0,
          "run": 45
         },
         {
          "location": "((3, 0), 'down')",
          "q_value": 0,
          "run": 46
         },
         {
          "location": "((3, 0), 'down')",
          "q_value": 0,
          "run": 47
         },
         {
          "location": "((3, 0), 'down')",
          "q_value": 0,
          "run": 48
         },
         {
          "location": "((3, 0), 'down')",
          "q_value": 0,
          "run": 49
         },
         {
          "location": "((3, 0), 'down')",
          "q_value": 0,
          "run": 50
         },
         {
          "location": "((3, 0), 'down')",
          "q_value": 0,
          "run": 51
         },
         {
          "location": "((3, 0), 'down')",
          "q_value": 0,
          "run": 52
         },
         {
          "location": "((3, 0), 'down')",
          "q_value": 0,
          "run": 53
         },
         {
          "location": "((3, 0), 'down')",
          "q_value": 0,
          "run": 54
         },
         {
          "location": "((3, 0), 'down')",
          "q_value": 0,
          "run": 55
         },
         {
          "location": "((3, 0), 'down')",
          "q_value": 0,
          "run": 56
         },
         {
          "location": "((3, 0), 'down')",
          "q_value": 0,
          "run": 57
         },
         {
          "location": "((3, 0), 'down')",
          "q_value": 0,
          "run": 58
         },
         {
          "location": "((3, 0), 'down')",
          "q_value": 0,
          "run": 59
         },
         {
          "location": "((3, 0), 'down')",
          "q_value": 0,
          "run": 60
         },
         {
          "location": "((3, 0), 'down')",
          "q_value": 0,
          "run": 61
         },
         {
          "location": "((3, 0), 'down')",
          "q_value": 0,
          "run": 62
         },
         {
          "location": "((3, 0), 'down')",
          "q_value": 0,
          "run": 63
         },
         {
          "location": "((3, 0), 'down')",
          "q_value": 0,
          "run": 64
         },
         {
          "location": "((3, 0), 'down')",
          "q_value": 0,
          "run": 65
         },
         {
          "location": "((3, 0), 'down')",
          "q_value": 0,
          "run": 66
         },
         {
          "location": "((3, 0), 'down')",
          "q_value": 0,
          "run": 67
         },
         {
          "location": "((3, 0), 'down')",
          "q_value": 0,
          "run": 68
         },
         {
          "location": "((3, 0), 'down')",
          "q_value": 0,
          "run": 69
         },
         {
          "location": "((3, 0), 'down')",
          "q_value": 0,
          "run": 70
         },
         {
          "location": "((3, 0), 'down')",
          "q_value": 0,
          "run": 71
         },
         {
          "location": "((3, 0), 'down')",
          "q_value": 0,
          "run": 72
         },
         {
          "location": "((3, 0), 'down')",
          "q_value": 0,
          "run": 73
         },
         {
          "location": "((3, 0), 'down')",
          "q_value": 0,
          "run": 74
         },
         {
          "location": "((3, 0), 'down')",
          "q_value": 0,
          "run": 75
         },
         {
          "location": "((3, 0), 'down')",
          "q_value": 0,
          "run": 76
         },
         {
          "location": "((3, 0), 'down')",
          "q_value": 0,
          "run": 77
         },
         {
          "location": "((3, 0), 'down')",
          "q_value": 0,
          "run": 78
         },
         {
          "location": "((3, 0), 'down')",
          "q_value": 0,
          "run": 79
         },
         {
          "location": "((3, 0), 'down')",
          "q_value": 0,
          "run": 80
         },
         {
          "location": "((3, 0), 'down')",
          "q_value": 0,
          "run": 81
         },
         {
          "location": "((3, 0), 'down')",
          "q_value": 0,
          "run": 82
         },
         {
          "location": "((3, 0), 'down')",
          "q_value": 0,
          "run": 83
         },
         {
          "location": "((3, 0), 'down')",
          "q_value": 0,
          "run": 84
         },
         {
          "location": "((3, 0), 'down')",
          "q_value": 0,
          "run": 85
         },
         {
          "location": "((3, 0), 'down')",
          "q_value": 0,
          "run": 86
         },
         {
          "location": "((3, 0), 'down')",
          "q_value": 0,
          "run": 87
         },
         {
          "location": "((3, 0), 'down')",
          "q_value": 0,
          "run": 88
         },
         {
          "location": "((3, 0), 'down')",
          "q_value": 0,
          "run": 89
         },
         {
          "location": "((3, 0), 'down')",
          "q_value": 0,
          "run": 90
         },
         {
          "location": "((3, 0), 'down')",
          "q_value": 0,
          "run": 91
         },
         {
          "location": "((3, 0), 'down')",
          "q_value": 0,
          "run": 92
         },
         {
          "location": "((3, 0), 'down')",
          "q_value": 0,
          "run": 93
         },
         {
          "location": "((3, 0), 'down')",
          "q_value": 0,
          "run": 94
         },
         {
          "location": "((3, 0), 'down')",
          "q_value": 0,
          "run": 95
         },
         {
          "location": "((3, 0), 'down')",
          "q_value": 0,
          "run": 96
         },
         {
          "location": "((3, 0), 'down')",
          "q_value": 0,
          "run": 97
         },
         {
          "location": "((3, 0), 'down')",
          "q_value": 0,
          "run": 98
         },
         {
          "location": "((3, 0), 'down')",
          "q_value": 0,
          "run": 99
         },
         {
          "location": "((3, 0), 'down')",
          "q_value": 0,
          "run": 100
         },
         {
          "location": "((3, 0), 'right')",
          "q_value": 0,
          "run": 0
         },
         {
          "location": "((3, 0), 'right')",
          "q_value": 0,
          "run": 1
         },
         {
          "location": "((3, 0), 'right')",
          "q_value": 0,
          "run": 2
         },
         {
          "location": "((3, 0), 'right')",
          "q_value": 0,
          "run": 3
         },
         {
          "location": "((3, 0), 'right')",
          "q_value": 0,
          "run": 4
         },
         {
          "location": "((3, 0), 'right')",
          "q_value": 0,
          "run": 5
         },
         {
          "location": "((3, 0), 'right')",
          "q_value": 0,
          "run": 6
         },
         {
          "location": "((3, 0), 'right')",
          "q_value": 0,
          "run": 7
         },
         {
          "location": "((3, 0), 'right')",
          "q_value": 0,
          "run": 8
         },
         {
          "location": "((3, 0), 'right')",
          "q_value": 0,
          "run": 9
         },
         {
          "location": "((3, 0), 'right')",
          "q_value": 0,
          "run": 10
         },
         {
          "location": "((3, 0), 'right')",
          "q_value": 0,
          "run": 11
         },
         {
          "location": "((3, 0), 'right')",
          "q_value": 0,
          "run": 12
         },
         {
          "location": "((3, 0), 'right')",
          "q_value": 0,
          "run": 13
         },
         {
          "location": "((3, 0), 'right')",
          "q_value": 0,
          "run": 14
         },
         {
          "location": "((3, 0), 'right')",
          "q_value": 0,
          "run": 15
         },
         {
          "location": "((3, 0), 'right')",
          "q_value": 0,
          "run": 16
         },
         {
          "location": "((3, 0), 'right')",
          "q_value": 0,
          "run": 17
         },
         {
          "location": "((3, 0), 'right')",
          "q_value": 0,
          "run": 18
         },
         {
          "location": "((3, 0), 'right')",
          "q_value": 0,
          "run": 19
         },
         {
          "location": "((3, 0), 'right')",
          "q_value": 0,
          "run": 20
         },
         {
          "location": "((3, 0), 'right')",
          "q_value": 0,
          "run": 21
         },
         {
          "location": "((3, 0), 'right')",
          "q_value": 0,
          "run": 22
         },
         {
          "location": "((3, 0), 'right')",
          "q_value": 0,
          "run": 23
         },
         {
          "location": "((3, 0), 'right')",
          "q_value": 0,
          "run": 24
         },
         {
          "location": "((3, 0), 'right')",
          "q_value": 0,
          "run": 25
         },
         {
          "location": "((3, 0), 'right')",
          "q_value": 0,
          "run": 26
         },
         {
          "location": "((3, 0), 'right')",
          "q_value": 0,
          "run": 27
         },
         {
          "location": "((3, 0), 'right')",
          "q_value": 0,
          "run": 28
         },
         {
          "location": "((3, 0), 'right')",
          "q_value": 0,
          "run": 29
         },
         {
          "location": "((3, 0), 'right')",
          "q_value": 0,
          "run": 30
         },
         {
          "location": "((3, 0), 'right')",
          "q_value": 0,
          "run": 31
         },
         {
          "location": "((3, 0), 'right')",
          "q_value": 0,
          "run": 32
         },
         {
          "location": "((3, 0), 'right')",
          "q_value": 0,
          "run": 33
         },
         {
          "location": "((3, 0), 'right')",
          "q_value": 0,
          "run": 34
         },
         {
          "location": "((3, 0), 'right')",
          "q_value": 0,
          "run": 35
         },
         {
          "location": "((3, 0), 'right')",
          "q_value": 0,
          "run": 36
         },
         {
          "location": "((3, 0), 'right')",
          "q_value": 0,
          "run": 37
         },
         {
          "location": "((3, 0), 'right')",
          "q_value": 0,
          "run": 38
         },
         {
          "location": "((3, 0), 'right')",
          "q_value": 0,
          "run": 39
         },
         {
          "location": "((3, 0), 'right')",
          "q_value": 0,
          "run": 40
         },
         {
          "location": "((3, 0), 'right')",
          "q_value": 0,
          "run": 41
         },
         {
          "location": "((3, 0), 'right')",
          "q_value": 0,
          "run": 42
         },
         {
          "location": "((3, 0), 'right')",
          "q_value": 0,
          "run": 43
         },
         {
          "location": "((3, 0), 'right')",
          "q_value": 0,
          "run": 44
         },
         {
          "location": "((3, 0), 'right')",
          "q_value": 0,
          "run": 45
         },
         {
          "location": "((3, 0), 'right')",
          "q_value": 0,
          "run": 46
         },
         {
          "location": "((3, 0), 'right')",
          "q_value": 0,
          "run": 47
         },
         {
          "location": "((3, 0), 'right')",
          "q_value": 0,
          "run": 48
         },
         {
          "location": "((3, 0), 'right')",
          "q_value": 0,
          "run": 49
         },
         {
          "location": "((3, 0), 'right')",
          "q_value": 0,
          "run": 50
         },
         {
          "location": "((3, 0), 'right')",
          "q_value": 0,
          "run": 51
         },
         {
          "location": "((3, 0), 'right')",
          "q_value": 0,
          "run": 52
         },
         {
          "location": "((3, 0), 'right')",
          "q_value": 0,
          "run": 53
         },
         {
          "location": "((3, 0), 'right')",
          "q_value": 0,
          "run": 54
         },
         {
          "location": "((3, 0), 'right')",
          "q_value": 0,
          "run": 55
         },
         {
          "location": "((3, 0), 'right')",
          "q_value": 0,
          "run": 56
         },
         {
          "location": "((3, 0), 'right')",
          "q_value": 0,
          "run": 57
         },
         {
          "location": "((3, 0), 'right')",
          "q_value": 0,
          "run": 58
         },
         {
          "location": "((3, 0), 'right')",
          "q_value": 0,
          "run": 59
         },
         {
          "location": "((3, 0), 'right')",
          "q_value": 0,
          "run": 60
         },
         {
          "location": "((3, 0), 'right')",
          "q_value": 0,
          "run": 61
         },
         {
          "location": "((3, 0), 'right')",
          "q_value": 0,
          "run": 62
         },
         {
          "location": "((3, 0), 'right')",
          "q_value": 0,
          "run": 63
         },
         {
          "location": "((3, 0), 'right')",
          "q_value": 0,
          "run": 64
         },
         {
          "location": "((3, 0), 'right')",
          "q_value": 0,
          "run": 65
         },
         {
          "location": "((3, 0), 'right')",
          "q_value": 0,
          "run": 66
         },
         {
          "location": "((3, 0), 'right')",
          "q_value": 0,
          "run": 67
         },
         {
          "location": "((3, 0), 'right')",
          "q_value": 0,
          "run": 68
         },
         {
          "location": "((3, 0), 'right')",
          "q_value": 0,
          "run": 69
         },
         {
          "location": "((3, 0), 'right')",
          "q_value": 0,
          "run": 70
         },
         {
          "location": "((3, 0), 'right')",
          "q_value": 0,
          "run": 71
         },
         {
          "location": "((3, 0), 'right')",
          "q_value": 0,
          "run": 72
         },
         {
          "location": "((3, 0), 'right')",
          "q_value": 0,
          "run": 73
         },
         {
          "location": "((3, 0), 'right')",
          "q_value": 0,
          "run": 74
         },
         {
          "location": "((3, 0), 'right')",
          "q_value": 0,
          "run": 75
         },
         {
          "location": "((3, 0), 'right')",
          "q_value": 0,
          "run": 76
         },
         {
          "location": "((3, 0), 'right')",
          "q_value": 0,
          "run": 77
         },
         {
          "location": "((3, 0), 'right')",
          "q_value": 0,
          "run": 78
         },
         {
          "location": "((3, 0), 'right')",
          "q_value": 0,
          "run": 79
         },
         {
          "location": "((3, 0), 'right')",
          "q_value": 0,
          "run": 80
         },
         {
          "location": "((3, 0), 'right')",
          "q_value": 0,
          "run": 81
         },
         {
          "location": "((3, 0), 'right')",
          "q_value": 0,
          "run": 82
         },
         {
          "location": "((3, 0), 'right')",
          "q_value": 0,
          "run": 83
         },
         {
          "location": "((3, 0), 'right')",
          "q_value": 0,
          "run": 84
         },
         {
          "location": "((3, 0), 'right')",
          "q_value": 0,
          "run": 85
         },
         {
          "location": "((3, 0), 'right')",
          "q_value": 0,
          "run": 86
         },
         {
          "location": "((3, 0), 'right')",
          "q_value": 0,
          "run": 87
         },
         {
          "location": "((3, 0), 'right')",
          "q_value": 0,
          "run": 88
         },
         {
          "location": "((3, 0), 'right')",
          "q_value": 0,
          "run": 89
         },
         {
          "location": "((3, 0), 'right')",
          "q_value": 0,
          "run": 90
         },
         {
          "location": "((3, 0), 'right')",
          "q_value": 0,
          "run": 91
         },
         {
          "location": "((3, 0), 'right')",
          "q_value": 0,
          "run": 92
         },
         {
          "location": "((3, 0), 'right')",
          "q_value": 0,
          "run": 93
         },
         {
          "location": "((3, 0), 'right')",
          "q_value": 0,
          "run": 94
         },
         {
          "location": "((3, 0), 'right')",
          "q_value": 0,
          "run": 95
         },
         {
          "location": "((3, 0), 'right')",
          "q_value": 0,
          "run": 96
         },
         {
          "location": "((3, 0), 'right')",
          "q_value": 0,
          "run": 97
         },
         {
          "location": "((3, 0), 'right')",
          "q_value": 0,
          "run": 98
         },
         {
          "location": "((3, 0), 'right')",
          "q_value": 0,
          "run": 99
         },
         {
          "location": "((3, 0), 'right')",
          "q_value": 0,
          "run": 100
         },
         {
          "location": "((3, 0), 'up')",
          "q_value": 0,
          "run": 0
         },
         {
          "location": "((3, 0), 'up')",
          "q_value": 0,
          "run": 1
         },
         {
          "location": "((3, 0), 'up')",
          "q_value": 0,
          "run": 2
         },
         {
          "location": "((3, 0), 'up')",
          "q_value": 0,
          "run": 3
         },
         {
          "location": "((3, 0), 'up')",
          "q_value": 0,
          "run": 4
         },
         {
          "location": "((3, 0), 'up')",
          "q_value": 0,
          "run": 5
         },
         {
          "location": "((3, 0), 'up')",
          "q_value": 0,
          "run": 6
         },
         {
          "location": "((3, 0), 'up')",
          "q_value": 0,
          "run": 7
         },
         {
          "location": "((3, 0), 'up')",
          "q_value": 0,
          "run": 8
         },
         {
          "location": "((3, 0), 'up')",
          "q_value": 0,
          "run": 9
         },
         {
          "location": "((3, 0), 'up')",
          "q_value": 0,
          "run": 10
         },
         {
          "location": "((3, 0), 'up')",
          "q_value": 0,
          "run": 11
         },
         {
          "location": "((3, 0), 'up')",
          "q_value": 0,
          "run": 12
         },
         {
          "location": "((3, 0), 'up')",
          "q_value": 0,
          "run": 13
         },
         {
          "location": "((3, 0), 'up')",
          "q_value": 0,
          "run": 14
         },
         {
          "location": "((3, 0), 'up')",
          "q_value": 0,
          "run": 15
         },
         {
          "location": "((3, 0), 'up')",
          "q_value": 0,
          "run": 16
         },
         {
          "location": "((3, 0), 'up')",
          "q_value": 0,
          "run": 17
         },
         {
          "location": "((3, 0), 'up')",
          "q_value": 0,
          "run": 18
         },
         {
          "location": "((3, 0), 'up')",
          "q_value": 0,
          "run": 19
         },
         {
          "location": "((3, 0), 'up')",
          "q_value": 0,
          "run": 20
         },
         {
          "location": "((3, 0), 'up')",
          "q_value": 0,
          "run": 21
         },
         {
          "location": "((3, 0), 'up')",
          "q_value": 0,
          "run": 22
         },
         {
          "location": "((3, 0), 'up')",
          "q_value": 0,
          "run": 23
         },
         {
          "location": "((3, 0), 'up')",
          "q_value": 0,
          "run": 24
         },
         {
          "location": "((3, 0), 'up')",
          "q_value": 0,
          "run": 25
         },
         {
          "location": "((3, 0), 'up')",
          "q_value": 0,
          "run": 26
         },
         {
          "location": "((3, 0), 'up')",
          "q_value": 0,
          "run": 27
         },
         {
          "location": "((3, 0), 'up')",
          "q_value": 0,
          "run": 28
         },
         {
          "location": "((3, 0), 'up')",
          "q_value": 0,
          "run": 29
         },
         {
          "location": "((3, 0), 'up')",
          "q_value": 0,
          "run": 30
         },
         {
          "location": "((3, 0), 'up')",
          "q_value": 0,
          "run": 31
         },
         {
          "location": "((3, 0), 'up')",
          "q_value": 0,
          "run": 32
         },
         {
          "location": "((3, 0), 'up')",
          "q_value": 0,
          "run": 33
         },
         {
          "location": "((3, 0), 'up')",
          "q_value": 0,
          "run": 34
         },
         {
          "location": "((3, 0), 'up')",
          "q_value": 0,
          "run": 35
         },
         {
          "location": "((3, 0), 'up')",
          "q_value": 0,
          "run": 36
         },
         {
          "location": "((3, 0), 'up')",
          "q_value": 0,
          "run": 37
         },
         {
          "location": "((3, 0), 'up')",
          "q_value": 0,
          "run": 38
         },
         {
          "location": "((3, 0), 'up')",
          "q_value": 0,
          "run": 39
         },
         {
          "location": "((3, 0), 'up')",
          "q_value": 0,
          "run": 40
         },
         {
          "location": "((3, 0), 'up')",
          "q_value": 0,
          "run": 41
         },
         {
          "location": "((3, 0), 'up')",
          "q_value": 0,
          "run": 42
         },
         {
          "location": "((3, 0), 'up')",
          "q_value": 0,
          "run": 43
         },
         {
          "location": "((3, 0), 'up')",
          "q_value": 0,
          "run": 44
         },
         {
          "location": "((3, 0), 'up')",
          "q_value": 0,
          "run": 45
         },
         {
          "location": "((3, 0), 'up')",
          "q_value": 0,
          "run": 46
         },
         {
          "location": "((3, 0), 'up')",
          "q_value": 0,
          "run": 47
         },
         {
          "location": "((3, 0), 'up')",
          "q_value": 0,
          "run": 48
         },
         {
          "location": "((3, 0), 'up')",
          "q_value": 0,
          "run": 49
         },
         {
          "location": "((3, 0), 'up')",
          "q_value": 0,
          "run": 50
         },
         {
          "location": "((3, 0), 'up')",
          "q_value": 0,
          "run": 51
         },
         {
          "location": "((3, 0), 'up')",
          "q_value": 0,
          "run": 52
         },
         {
          "location": "((3, 0), 'up')",
          "q_value": 0,
          "run": 53
         },
         {
          "location": "((3, 0), 'up')",
          "q_value": 0,
          "run": 54
         },
         {
          "location": "((3, 0), 'up')",
          "q_value": 0,
          "run": 55
         },
         {
          "location": "((3, 0), 'up')",
          "q_value": 0,
          "run": 56
         },
         {
          "location": "((3, 0), 'up')",
          "q_value": 0,
          "run": 57
         },
         {
          "location": "((3, 0), 'up')",
          "q_value": 0,
          "run": 58
         },
         {
          "location": "((3, 0), 'up')",
          "q_value": 0,
          "run": 59
         },
         {
          "location": "((3, 0), 'up')",
          "q_value": 0,
          "run": 60
         },
         {
          "location": "((3, 0), 'up')",
          "q_value": 0,
          "run": 61
         },
         {
          "location": "((3, 0), 'up')",
          "q_value": 0,
          "run": 62
         },
         {
          "location": "((3, 0), 'up')",
          "q_value": 0,
          "run": 63
         },
         {
          "location": "((3, 0), 'up')",
          "q_value": 0,
          "run": 64
         },
         {
          "location": "((3, 0), 'up')",
          "q_value": 0,
          "run": 65
         },
         {
          "location": "((3, 0), 'up')",
          "q_value": 0,
          "run": 66
         },
         {
          "location": "((3, 0), 'up')",
          "q_value": 0,
          "run": 67
         },
         {
          "location": "((3, 0), 'up')",
          "q_value": 0,
          "run": 68
         },
         {
          "location": "((3, 0), 'up')",
          "q_value": 0,
          "run": 69
         },
         {
          "location": "((3, 0), 'up')",
          "q_value": 0,
          "run": 70
         },
         {
          "location": "((3, 0), 'up')",
          "q_value": 0,
          "run": 71
         },
         {
          "location": "((3, 0), 'up')",
          "q_value": 0,
          "run": 72
         },
         {
          "location": "((3, 0), 'up')",
          "q_value": 0,
          "run": 73
         },
         {
          "location": "((3, 0), 'up')",
          "q_value": 0,
          "run": 74
         },
         {
          "location": "((3, 0), 'up')",
          "q_value": 0,
          "run": 75
         },
         {
          "location": "((3, 0), 'up')",
          "q_value": 0,
          "run": 76
         },
         {
          "location": "((3, 0), 'up')",
          "q_value": 0,
          "run": 77
         },
         {
          "location": "((3, 0), 'up')",
          "q_value": 0,
          "run": 78
         },
         {
          "location": "((3, 0), 'up')",
          "q_value": 0,
          "run": 79
         },
         {
          "location": "((3, 0), 'up')",
          "q_value": 0,
          "run": 80
         },
         {
          "location": "((3, 0), 'up')",
          "q_value": 0,
          "run": 81
         },
         {
          "location": "((3, 0), 'up')",
          "q_value": 0,
          "run": 82
         },
         {
          "location": "((3, 0), 'up')",
          "q_value": 0,
          "run": 83
         },
         {
          "location": "((3, 0), 'up')",
          "q_value": 0,
          "run": 84
         },
         {
          "location": "((3, 0), 'up')",
          "q_value": 0,
          "run": 85
         },
         {
          "location": "((3, 0), 'up')",
          "q_value": 0,
          "run": 86
         },
         {
          "location": "((3, 0), 'up')",
          "q_value": 0,
          "run": 87
         },
         {
          "location": "((3, 0), 'up')",
          "q_value": 0,
          "run": 88
         },
         {
          "location": "((3, 0), 'up')",
          "q_value": 0,
          "run": 89
         },
         {
          "location": "((3, 0), 'up')",
          "q_value": 0,
          "run": 90
         },
         {
          "location": "((3, 0), 'up')",
          "q_value": 0,
          "run": 91
         },
         {
          "location": "((3, 0), 'up')",
          "q_value": 0,
          "run": 92
         },
         {
          "location": "((3, 0), 'up')",
          "q_value": 0,
          "run": 93
         },
         {
          "location": "((3, 0), 'up')",
          "q_value": 0,
          "run": 94
         },
         {
          "location": "((3, 0), 'up')",
          "q_value": 0,
          "run": 95
         },
         {
          "location": "((3, 0), 'up')",
          "q_value": 0,
          "run": 96
         },
         {
          "location": "((3, 0), 'up')",
          "q_value": 0,
          "run": 97
         },
         {
          "location": "((3, 0), 'up')",
          "q_value": 0,
          "run": 98
         },
         {
          "location": "((3, 0), 'up')",
          "q_value": 0,
          "run": 99
         },
         {
          "location": "((3, 0), 'up')",
          "q_value": 0,
          "run": 100
         },
         {
          "location": "((3, 0), 'left')",
          "q_value": 0,
          "run": 0
         },
         {
          "location": "((3, 0), 'left')",
          "q_value": 0,
          "run": 1
         },
         {
          "location": "((3, 0), 'left')",
          "q_value": 0,
          "run": 2
         },
         {
          "location": "((3, 0), 'left')",
          "q_value": 0,
          "run": 3
         },
         {
          "location": "((3, 0), 'left')",
          "q_value": 0,
          "run": 4
         },
         {
          "location": "((3, 0), 'left')",
          "q_value": 0,
          "run": 5
         },
         {
          "location": "((3, 0), 'left')",
          "q_value": 0,
          "run": 6
         },
         {
          "location": "((3, 0), 'left')",
          "q_value": 0,
          "run": 7
         },
         {
          "location": "((3, 0), 'left')",
          "q_value": 0,
          "run": 8
         },
         {
          "location": "((3, 0), 'left')",
          "q_value": 0,
          "run": 9
         },
         {
          "location": "((3, 0), 'left')",
          "q_value": 0,
          "run": 10
         },
         {
          "location": "((3, 0), 'left')",
          "q_value": 0,
          "run": 11
         },
         {
          "location": "((3, 0), 'left')",
          "q_value": 0,
          "run": 12
         },
         {
          "location": "((3, 0), 'left')",
          "q_value": 0,
          "run": 13
         },
         {
          "location": "((3, 0), 'left')",
          "q_value": 0,
          "run": 14
         },
         {
          "location": "((3, 0), 'left')",
          "q_value": 0,
          "run": 15
         },
         {
          "location": "((3, 0), 'left')",
          "q_value": 0,
          "run": 16
         },
         {
          "location": "((3, 0), 'left')",
          "q_value": 0,
          "run": 17
         },
         {
          "location": "((3, 0), 'left')",
          "q_value": 0,
          "run": 18
         },
         {
          "location": "((3, 0), 'left')",
          "q_value": 0,
          "run": 19
         },
         {
          "location": "((3, 0), 'left')",
          "q_value": 0,
          "run": 20
         },
         {
          "location": "((3, 0), 'left')",
          "q_value": 0,
          "run": 21
         },
         {
          "location": "((3, 0), 'left')",
          "q_value": 0,
          "run": 22
         },
         {
          "location": "((3, 0), 'left')",
          "q_value": 0,
          "run": 23
         },
         {
          "location": "((3, 0), 'left')",
          "q_value": 0,
          "run": 24
         },
         {
          "location": "((3, 0), 'left')",
          "q_value": 0,
          "run": 25
         },
         {
          "location": "((3, 0), 'left')",
          "q_value": 0,
          "run": 26
         },
         {
          "location": "((3, 0), 'left')",
          "q_value": 0,
          "run": 27
         },
         {
          "location": "((3, 0), 'left')",
          "q_value": 0,
          "run": 28
         },
         {
          "location": "((3, 0), 'left')",
          "q_value": 0,
          "run": 29
         },
         {
          "location": "((3, 0), 'left')",
          "q_value": 0,
          "run": 30
         },
         {
          "location": "((3, 0), 'left')",
          "q_value": 0,
          "run": 31
         },
         {
          "location": "((3, 0), 'left')",
          "q_value": 0,
          "run": 32
         },
         {
          "location": "((3, 0), 'left')",
          "q_value": 0,
          "run": 33
         },
         {
          "location": "((3, 0), 'left')",
          "q_value": 0,
          "run": 34
         },
         {
          "location": "((3, 0), 'left')",
          "q_value": 0,
          "run": 35
         },
         {
          "location": "((3, 0), 'left')",
          "q_value": 0,
          "run": 36
         },
         {
          "location": "((3, 0), 'left')",
          "q_value": 0,
          "run": 37
         },
         {
          "location": "((3, 0), 'left')",
          "q_value": 0,
          "run": 38
         },
         {
          "location": "((3, 0), 'left')",
          "q_value": 0,
          "run": 39
         },
         {
          "location": "((3, 0), 'left')",
          "q_value": 0,
          "run": 40
         },
         {
          "location": "((3, 0), 'left')",
          "q_value": 0,
          "run": 41
         },
         {
          "location": "((3, 0), 'left')",
          "q_value": 0,
          "run": 42
         },
         {
          "location": "((3, 0), 'left')",
          "q_value": 0,
          "run": 43
         },
         {
          "location": "((3, 0), 'left')",
          "q_value": 0,
          "run": 44
         },
         {
          "location": "((3, 0), 'left')",
          "q_value": 0,
          "run": 45
         },
         {
          "location": "((3, 0), 'left')",
          "q_value": 0,
          "run": 46
         },
         {
          "location": "((3, 0), 'left')",
          "q_value": 0,
          "run": 47
         },
         {
          "location": "((3, 0), 'left')",
          "q_value": 0,
          "run": 48
         },
         {
          "location": "((3, 0), 'left')",
          "q_value": 0,
          "run": 49
         },
         {
          "location": "((3, 0), 'left')",
          "q_value": 0,
          "run": 50
         },
         {
          "location": "((3, 0), 'left')",
          "q_value": 0,
          "run": 51
         },
         {
          "location": "((3, 0), 'left')",
          "q_value": 0,
          "run": 52
         },
         {
          "location": "((3, 0), 'left')",
          "q_value": 0,
          "run": 53
         },
         {
          "location": "((3, 0), 'left')",
          "q_value": 0,
          "run": 54
         },
         {
          "location": "((3, 0), 'left')",
          "q_value": 0,
          "run": 55
         },
         {
          "location": "((3, 0), 'left')",
          "q_value": 0,
          "run": 56
         },
         {
          "location": "((3, 0), 'left')",
          "q_value": 0,
          "run": 57
         },
         {
          "location": "((3, 0), 'left')",
          "q_value": 0,
          "run": 58
         },
         {
          "location": "((3, 0), 'left')",
          "q_value": 0,
          "run": 59
         },
         {
          "location": "((3, 0), 'left')",
          "q_value": 0,
          "run": 60
         },
         {
          "location": "((3, 0), 'left')",
          "q_value": 0,
          "run": 61
         },
         {
          "location": "((3, 0), 'left')",
          "q_value": 0,
          "run": 62
         },
         {
          "location": "((3, 0), 'left')",
          "q_value": 0,
          "run": 63
         },
         {
          "location": "((3, 0), 'left')",
          "q_value": 0,
          "run": 64
         },
         {
          "location": "((3, 0), 'left')",
          "q_value": 0,
          "run": 65
         },
         {
          "location": "((3, 0), 'left')",
          "q_value": 0,
          "run": 66
         },
         {
          "location": "((3, 0), 'left')",
          "q_value": 0,
          "run": 67
         },
         {
          "location": "((3, 0), 'left')",
          "q_value": 0,
          "run": 68
         },
         {
          "location": "((3, 0), 'left')",
          "q_value": 0,
          "run": 69
         },
         {
          "location": "((3, 0), 'left')",
          "q_value": 0,
          "run": 70
         },
         {
          "location": "((3, 0), 'left')",
          "q_value": 0,
          "run": 71
         },
         {
          "location": "((3, 0), 'left')",
          "q_value": 0,
          "run": 72
         },
         {
          "location": "((3, 0), 'left')",
          "q_value": 0,
          "run": 73
         },
         {
          "location": "((3, 0), 'left')",
          "q_value": 0,
          "run": 74
         },
         {
          "location": "((3, 0), 'left')",
          "q_value": 0,
          "run": 75
         },
         {
          "location": "((3, 0), 'left')",
          "q_value": 0,
          "run": 76
         },
         {
          "location": "((3, 0), 'left')",
          "q_value": 0,
          "run": 77
         },
         {
          "location": "((3, 0), 'left')",
          "q_value": 0,
          "run": 78
         },
         {
          "location": "((3, 0), 'left')",
          "q_value": 0,
          "run": 79
         },
         {
          "location": "((3, 0), 'left')",
          "q_value": 0,
          "run": 80
         },
         {
          "location": "((3, 0), 'left')",
          "q_value": 0,
          "run": 81
         },
         {
          "location": "((3, 0), 'left')",
          "q_value": 0,
          "run": 82
         },
         {
          "location": "((3, 0), 'left')",
          "q_value": 0,
          "run": 83
         },
         {
          "location": "((3, 0), 'left')",
          "q_value": 0,
          "run": 84
         },
         {
          "location": "((3, 0), 'left')",
          "q_value": 0,
          "run": 85
         },
         {
          "location": "((3, 0), 'left')",
          "q_value": 0,
          "run": 86
         },
         {
          "location": "((3, 0), 'left')",
          "q_value": 0,
          "run": 87
         },
         {
          "location": "((3, 0), 'left')",
          "q_value": 0,
          "run": 88
         },
         {
          "location": "((3, 0), 'left')",
          "q_value": 0,
          "run": 89
         },
         {
          "location": "((3, 0), 'left')",
          "q_value": 0,
          "run": 90
         },
         {
          "location": "((3, 0), 'left')",
          "q_value": 0,
          "run": 91
         },
         {
          "location": "((3, 0), 'left')",
          "q_value": 0,
          "run": 92
         },
         {
          "location": "((3, 0), 'left')",
          "q_value": 0,
          "run": 93
         },
         {
          "location": "((3, 0), 'left')",
          "q_value": 0,
          "run": 94
         },
         {
          "location": "((3, 0), 'left')",
          "q_value": 0,
          "run": 95
         },
         {
          "location": "((3, 0), 'left')",
          "q_value": 0,
          "run": 96
         },
         {
          "location": "((3, 0), 'left')",
          "q_value": 0,
          "run": 97
         },
         {
          "location": "((3, 0), 'left')",
          "q_value": 0,
          "run": 98
         },
         {
          "location": "((3, 0), 'left')",
          "q_value": 0,
          "run": 99
         },
         {
          "location": "((3, 0), 'left')",
          "q_value": 0,
          "run": 100
         },
         {
          "location": "((3, 1), 'down')",
          "q_value": 0,
          "run": 0
         },
         {
          "location": "((3, 1), 'down')",
          "q_value": 0,
          "run": 1
         },
         {
          "location": "((3, 1), 'down')",
          "q_value": 0,
          "run": 2
         },
         {
          "location": "((3, 1), 'down')",
          "q_value": 0,
          "run": 3
         },
         {
          "location": "((3, 1), 'down')",
          "q_value": 0,
          "run": 4
         },
         {
          "location": "((3, 1), 'down')",
          "q_value": 0,
          "run": 5
         },
         {
          "location": "((3, 1), 'down')",
          "q_value": 0,
          "run": 6
         },
         {
          "location": "((3, 1), 'down')",
          "q_value": 0,
          "run": 7
         },
         {
          "location": "((3, 1), 'down')",
          "q_value": 0,
          "run": 8
         },
         {
          "location": "((3, 1), 'down')",
          "q_value": 0,
          "run": 9
         },
         {
          "location": "((3, 1), 'down')",
          "q_value": 0,
          "run": 10
         },
         {
          "location": "((3, 1), 'down')",
          "q_value": 0,
          "run": 11
         },
         {
          "location": "((3, 1), 'down')",
          "q_value": 0,
          "run": 12
         },
         {
          "location": "((3, 1), 'down')",
          "q_value": 0,
          "run": 13
         },
         {
          "location": "((3, 1), 'down')",
          "q_value": 0,
          "run": 14
         },
         {
          "location": "((3, 1), 'down')",
          "q_value": 0,
          "run": 15
         },
         {
          "location": "((3, 1), 'down')",
          "q_value": 0,
          "run": 16
         },
         {
          "location": "((3, 1), 'down')",
          "q_value": 0,
          "run": 17
         },
         {
          "location": "((3, 1), 'down')",
          "q_value": 0,
          "run": 18
         },
         {
          "location": "((3, 1), 'down')",
          "q_value": 0,
          "run": 19
         },
         {
          "location": "((3, 1), 'down')",
          "q_value": 0,
          "run": 20
         },
         {
          "location": "((3, 1), 'down')",
          "q_value": 0,
          "run": 21
         },
         {
          "location": "((3, 1), 'down')",
          "q_value": 0,
          "run": 22
         },
         {
          "location": "((3, 1), 'down')",
          "q_value": 0,
          "run": 23
         },
         {
          "location": "((3, 1), 'down')",
          "q_value": 0,
          "run": 24
         },
         {
          "location": "((3, 1), 'down')",
          "q_value": 0,
          "run": 25
         },
         {
          "location": "((3, 1), 'down')",
          "q_value": 0,
          "run": 26
         },
         {
          "location": "((3, 1), 'down')",
          "q_value": 0,
          "run": 27
         },
         {
          "location": "((3, 1), 'down')",
          "q_value": 0,
          "run": 28
         },
         {
          "location": "((3, 1), 'down')",
          "q_value": 0,
          "run": 29
         },
         {
          "location": "((3, 1), 'down')",
          "q_value": 0,
          "run": 30
         },
         {
          "location": "((3, 1), 'down')",
          "q_value": 0,
          "run": 31
         },
         {
          "location": "((3, 1), 'down')",
          "q_value": 0,
          "run": 32
         },
         {
          "location": "((3, 1), 'down')",
          "q_value": 0,
          "run": 33
         },
         {
          "location": "((3, 1), 'down')",
          "q_value": 0,
          "run": 34
         },
         {
          "location": "((3, 1), 'down')",
          "q_value": 0,
          "run": 35
         },
         {
          "location": "((3, 1), 'down')",
          "q_value": 0,
          "run": 36
         },
         {
          "location": "((3, 1), 'down')",
          "q_value": 0,
          "run": 37
         },
         {
          "location": "((3, 1), 'down')",
          "q_value": 0,
          "run": 38
         },
         {
          "location": "((3, 1), 'down')",
          "q_value": 0,
          "run": 39
         },
         {
          "location": "((3, 1), 'down')",
          "q_value": 0,
          "run": 40
         },
         {
          "location": "((3, 1), 'down')",
          "q_value": 0,
          "run": 41
         },
         {
          "location": "((3, 1), 'down')",
          "q_value": 0,
          "run": 42
         },
         {
          "location": "((3, 1), 'down')",
          "q_value": 0,
          "run": 43
         },
         {
          "location": "((3, 1), 'down')",
          "q_value": 0,
          "run": 44
         },
         {
          "location": "((3, 1), 'down')",
          "q_value": 0,
          "run": 45
         },
         {
          "location": "((3, 1), 'down')",
          "q_value": 0,
          "run": 46
         },
         {
          "location": "((3, 1), 'down')",
          "q_value": 0,
          "run": 47
         },
         {
          "location": "((3, 1), 'down')",
          "q_value": 0,
          "run": 48
         },
         {
          "location": "((3, 1), 'down')",
          "q_value": 0,
          "run": 49
         },
         {
          "location": "((3, 1), 'down')",
          "q_value": 0,
          "run": 50
         },
         {
          "location": "((3, 1), 'down')",
          "q_value": 0,
          "run": 51
         },
         {
          "location": "((3, 1), 'down')",
          "q_value": 0,
          "run": 52
         },
         {
          "location": "((3, 1), 'down')",
          "q_value": 0,
          "run": 53
         },
         {
          "location": "((3, 1), 'down')",
          "q_value": 0,
          "run": 54
         },
         {
          "location": "((3, 1), 'down')",
          "q_value": 0,
          "run": 55
         },
         {
          "location": "((3, 1), 'down')",
          "q_value": 0,
          "run": 56
         },
         {
          "location": "((3, 1), 'down')",
          "q_value": 0,
          "run": 57
         },
         {
          "location": "((3, 1), 'down')",
          "q_value": 0,
          "run": 58
         },
         {
          "location": "((3, 1), 'down')",
          "q_value": 0,
          "run": 59
         },
         {
          "location": "((3, 1), 'down')",
          "q_value": 0,
          "run": 60
         },
         {
          "location": "((3, 1), 'down')",
          "q_value": 0,
          "run": 61
         },
         {
          "location": "((3, 1), 'down')",
          "q_value": 0,
          "run": 62
         },
         {
          "location": "((3, 1), 'down')",
          "q_value": 0,
          "run": 63
         },
         {
          "location": "((3, 1), 'down')",
          "q_value": 0,
          "run": 64
         },
         {
          "location": "((3, 1), 'down')",
          "q_value": 0,
          "run": 65
         },
         {
          "location": "((3, 1), 'down')",
          "q_value": 0,
          "run": 66
         },
         {
          "location": "((3, 1), 'down')",
          "q_value": 0,
          "run": 67
         },
         {
          "location": "((3, 1), 'down')",
          "q_value": 0,
          "run": 68
         },
         {
          "location": "((3, 1), 'down')",
          "q_value": 0,
          "run": 69
         },
         {
          "location": "((3, 1), 'down')",
          "q_value": 0,
          "run": 70
         },
         {
          "location": "((3, 1), 'down')",
          "q_value": 0,
          "run": 71
         },
         {
          "location": "((3, 1), 'down')",
          "q_value": 0,
          "run": 72
         },
         {
          "location": "((3, 1), 'down')",
          "q_value": 0,
          "run": 73
         },
         {
          "location": "((3, 1), 'down')",
          "q_value": 0,
          "run": 74
         },
         {
          "location": "((3, 1), 'down')",
          "q_value": 0,
          "run": 75
         },
         {
          "location": "((3, 1), 'down')",
          "q_value": 0,
          "run": 76
         },
         {
          "location": "((3, 1), 'down')",
          "q_value": 0,
          "run": 77
         },
         {
          "location": "((3, 1), 'down')",
          "q_value": 0,
          "run": 78
         },
         {
          "location": "((3, 1), 'down')",
          "q_value": 0,
          "run": 79
         },
         {
          "location": "((3, 1), 'down')",
          "q_value": 0,
          "run": 80
         },
         {
          "location": "((3, 1), 'down')",
          "q_value": 0,
          "run": 81
         },
         {
          "location": "((3, 1), 'down')",
          "q_value": 0,
          "run": 82
         },
         {
          "location": "((3, 1), 'down')",
          "q_value": 0,
          "run": 83
         },
         {
          "location": "((3, 1), 'down')",
          "q_value": 0,
          "run": 84
         },
         {
          "location": "((3, 1), 'down')",
          "q_value": 0,
          "run": 85
         },
         {
          "location": "((3, 1), 'down')",
          "q_value": 0,
          "run": 86
         },
         {
          "location": "((3, 1), 'down')",
          "q_value": 0,
          "run": 87
         },
         {
          "location": "((3, 1), 'down')",
          "q_value": 0,
          "run": 88
         },
         {
          "location": "((3, 1), 'down')",
          "q_value": 0,
          "run": 89
         },
         {
          "location": "((3, 1), 'down')",
          "q_value": 0,
          "run": 90
         },
         {
          "location": "((3, 1), 'down')",
          "q_value": 0,
          "run": 91
         },
         {
          "location": "((3, 1), 'down')",
          "q_value": 0,
          "run": 92
         },
         {
          "location": "((3, 1), 'down')",
          "q_value": 0,
          "run": 93
         },
         {
          "location": "((3, 1), 'down')",
          "q_value": 0,
          "run": 94
         },
         {
          "location": "((3, 1), 'down')",
          "q_value": 0,
          "run": 95
         },
         {
          "location": "((3, 1), 'down')",
          "q_value": 0,
          "run": 96
         },
         {
          "location": "((3, 1), 'down')",
          "q_value": 0,
          "run": 97
         },
         {
          "location": "((3, 1), 'down')",
          "q_value": 0,
          "run": 98
         },
         {
          "location": "((3, 1), 'down')",
          "q_value": 0,
          "run": 99
         },
         {
          "location": "((3, 1), 'down')",
          "q_value": 0,
          "run": 100
         },
         {
          "location": "((3, 1), 'right')",
          "q_value": 0,
          "run": 0
         },
         {
          "location": "((3, 1), 'right')",
          "q_value": 0,
          "run": 1
         },
         {
          "location": "((3, 1), 'right')",
          "q_value": 0,
          "run": 2
         },
         {
          "location": "((3, 1), 'right')",
          "q_value": 0,
          "run": 3
         },
         {
          "location": "((3, 1), 'right')",
          "q_value": 0,
          "run": 4
         },
         {
          "location": "((3, 1), 'right')",
          "q_value": 0,
          "run": 5
         },
         {
          "location": "((3, 1), 'right')",
          "q_value": 0,
          "run": 6
         },
         {
          "location": "((3, 1), 'right')",
          "q_value": 0,
          "run": 7
         },
         {
          "location": "((3, 1), 'right')",
          "q_value": 0,
          "run": 8
         },
         {
          "location": "((3, 1), 'right')",
          "q_value": 0,
          "run": 9
         },
         {
          "location": "((3, 1), 'right')",
          "q_value": 0,
          "run": 10
         },
         {
          "location": "((3, 1), 'right')",
          "q_value": 0,
          "run": 11
         },
         {
          "location": "((3, 1), 'right')",
          "q_value": 0,
          "run": 12
         },
         {
          "location": "((3, 1), 'right')",
          "q_value": 0,
          "run": 13
         },
         {
          "location": "((3, 1), 'right')",
          "q_value": 0,
          "run": 14
         },
         {
          "location": "((3, 1), 'right')",
          "q_value": 0,
          "run": 15
         },
         {
          "location": "((3, 1), 'right')",
          "q_value": 0,
          "run": 16
         },
         {
          "location": "((3, 1), 'right')",
          "q_value": 0,
          "run": 17
         },
         {
          "location": "((3, 1), 'right')",
          "q_value": 0,
          "run": 18
         },
         {
          "location": "((3, 1), 'right')",
          "q_value": 0,
          "run": 19
         },
         {
          "location": "((3, 1), 'right')",
          "q_value": 0,
          "run": 20
         },
         {
          "location": "((3, 1), 'right')",
          "q_value": 0,
          "run": 21
         },
         {
          "location": "((3, 1), 'right')",
          "q_value": 0,
          "run": 22
         },
         {
          "location": "((3, 1), 'right')",
          "q_value": 0,
          "run": 23
         },
         {
          "location": "((3, 1), 'right')",
          "q_value": 0,
          "run": 24
         },
         {
          "location": "((3, 1), 'right')",
          "q_value": 0,
          "run": 25
         },
         {
          "location": "((3, 1), 'right')",
          "q_value": 0,
          "run": 26
         },
         {
          "location": "((3, 1), 'right')",
          "q_value": 0,
          "run": 27
         },
         {
          "location": "((3, 1), 'right')",
          "q_value": 0,
          "run": 28
         },
         {
          "location": "((3, 1), 'right')",
          "q_value": 0,
          "run": 29
         },
         {
          "location": "((3, 1), 'right')",
          "q_value": 0,
          "run": 30
         },
         {
          "location": "((3, 1), 'right')",
          "q_value": 0,
          "run": 31
         },
         {
          "location": "((3, 1), 'right')",
          "q_value": 0,
          "run": 32
         },
         {
          "location": "((3, 1), 'right')",
          "q_value": 0,
          "run": 33
         },
         {
          "location": "((3, 1), 'right')",
          "q_value": 0,
          "run": 34
         },
         {
          "location": "((3, 1), 'right')",
          "q_value": 0,
          "run": 35
         },
         {
          "location": "((3, 1), 'right')",
          "q_value": 0,
          "run": 36
         },
         {
          "location": "((3, 1), 'right')",
          "q_value": 0,
          "run": 37
         },
         {
          "location": "((3, 1), 'right')",
          "q_value": 0,
          "run": 38
         },
         {
          "location": "((3, 1), 'right')",
          "q_value": 0,
          "run": 39
         },
         {
          "location": "((3, 1), 'right')",
          "q_value": 0,
          "run": 40
         },
         {
          "location": "((3, 1), 'right')",
          "q_value": 0,
          "run": 41
         },
         {
          "location": "((3, 1), 'right')",
          "q_value": 0,
          "run": 42
         },
         {
          "location": "((3, 1), 'right')",
          "q_value": 0,
          "run": 43
         },
         {
          "location": "((3, 1), 'right')",
          "q_value": 0,
          "run": 44
         },
         {
          "location": "((3, 1), 'right')",
          "q_value": 0,
          "run": 45
         },
         {
          "location": "((3, 1), 'right')",
          "q_value": 0,
          "run": 46
         },
         {
          "location": "((3, 1), 'right')",
          "q_value": 0,
          "run": 47
         },
         {
          "location": "((3, 1), 'right')",
          "q_value": 0,
          "run": 48
         },
         {
          "location": "((3, 1), 'right')",
          "q_value": 0,
          "run": 49
         },
         {
          "location": "((3, 1), 'right')",
          "q_value": 0,
          "run": 50
         },
         {
          "location": "((3, 1), 'right')",
          "q_value": 0,
          "run": 51
         },
         {
          "location": "((3, 1), 'right')",
          "q_value": 0,
          "run": 52
         },
         {
          "location": "((3, 1), 'right')",
          "q_value": 0,
          "run": 53
         },
         {
          "location": "((3, 1), 'right')",
          "q_value": 0,
          "run": 54
         },
         {
          "location": "((3, 1), 'right')",
          "q_value": 0,
          "run": 55
         },
         {
          "location": "((3, 1), 'right')",
          "q_value": 0,
          "run": 56
         },
         {
          "location": "((3, 1), 'right')",
          "q_value": 0,
          "run": 57
         },
         {
          "location": "((3, 1), 'right')",
          "q_value": 0,
          "run": 58
         },
         {
          "location": "((3, 1), 'right')",
          "q_value": 0,
          "run": 59
         },
         {
          "location": "((3, 1), 'right')",
          "q_value": 0,
          "run": 60
         },
         {
          "location": "((3, 1), 'right')",
          "q_value": 0,
          "run": 61
         },
         {
          "location": "((3, 1), 'right')",
          "q_value": 0,
          "run": 62
         },
         {
          "location": "((3, 1), 'right')",
          "q_value": 0,
          "run": 63
         },
         {
          "location": "((3, 1), 'right')",
          "q_value": 0,
          "run": 64
         },
         {
          "location": "((3, 1), 'right')",
          "q_value": 0,
          "run": 65
         },
         {
          "location": "((3, 1), 'right')",
          "q_value": 0,
          "run": 66
         },
         {
          "location": "((3, 1), 'right')",
          "q_value": 0,
          "run": 67
         },
         {
          "location": "((3, 1), 'right')",
          "q_value": 0,
          "run": 68
         },
         {
          "location": "((3, 1), 'right')",
          "q_value": 0,
          "run": 69
         },
         {
          "location": "((3, 1), 'right')",
          "q_value": 0,
          "run": 70
         },
         {
          "location": "((3, 1), 'right')",
          "q_value": 0,
          "run": 71
         },
         {
          "location": "((3, 1), 'right')",
          "q_value": 0,
          "run": 72
         },
         {
          "location": "((3, 1), 'right')",
          "q_value": 0,
          "run": 73
         },
         {
          "location": "((3, 1), 'right')",
          "q_value": 0,
          "run": 74
         },
         {
          "location": "((3, 1), 'right')",
          "q_value": 0,
          "run": 75
         },
         {
          "location": "((3, 1), 'right')",
          "q_value": 0,
          "run": 76
         },
         {
          "location": "((3, 1), 'right')",
          "q_value": 0,
          "run": 77
         },
         {
          "location": "((3, 1), 'right')",
          "q_value": 0,
          "run": 78
         },
         {
          "location": "((3, 1), 'right')",
          "q_value": 0,
          "run": 79
         },
         {
          "location": "((3, 1), 'right')",
          "q_value": 0,
          "run": 80
         },
         {
          "location": "((3, 1), 'right')",
          "q_value": 0,
          "run": 81
         },
         {
          "location": "((3, 1), 'right')",
          "q_value": 0,
          "run": 82
         },
         {
          "location": "((3, 1), 'right')",
          "q_value": 0,
          "run": 83
         },
         {
          "location": "((3, 1), 'right')",
          "q_value": 0,
          "run": 84
         },
         {
          "location": "((3, 1), 'right')",
          "q_value": 0,
          "run": 85
         },
         {
          "location": "((3, 1), 'right')",
          "q_value": 0,
          "run": 86
         },
         {
          "location": "((3, 1), 'right')",
          "q_value": 0,
          "run": 87
         },
         {
          "location": "((3, 1), 'right')",
          "q_value": 0,
          "run": 88
         },
         {
          "location": "((3, 1), 'right')",
          "q_value": 0,
          "run": 89
         },
         {
          "location": "((3, 1), 'right')",
          "q_value": 0,
          "run": 90
         },
         {
          "location": "((3, 1), 'right')",
          "q_value": 0,
          "run": 91
         },
         {
          "location": "((3, 1), 'right')",
          "q_value": 0,
          "run": 92
         },
         {
          "location": "((3, 1), 'right')",
          "q_value": 0,
          "run": 93
         },
         {
          "location": "((3, 1), 'right')",
          "q_value": 0,
          "run": 94
         },
         {
          "location": "((3, 1), 'right')",
          "q_value": 0,
          "run": 95
         },
         {
          "location": "((3, 1), 'right')",
          "q_value": 0,
          "run": 96
         },
         {
          "location": "((3, 1), 'right')",
          "q_value": 0,
          "run": 97
         },
         {
          "location": "((3, 1), 'right')",
          "q_value": 0,
          "run": 98
         },
         {
          "location": "((3, 1), 'right')",
          "q_value": 0,
          "run": 99
         },
         {
          "location": "((3, 1), 'right')",
          "q_value": 0,
          "run": 100
         },
         {
          "location": "((3, 1), 'up')",
          "q_value": 0,
          "run": 0
         },
         {
          "location": "((3, 1), 'up')",
          "q_value": 0,
          "run": 1
         },
         {
          "location": "((3, 1), 'up')",
          "q_value": 0,
          "run": 2
         },
         {
          "location": "((3, 1), 'up')",
          "q_value": 0,
          "run": 3
         },
         {
          "location": "((3, 1), 'up')",
          "q_value": 0,
          "run": 4
         },
         {
          "location": "((3, 1), 'up')",
          "q_value": 0,
          "run": 5
         },
         {
          "location": "((3, 1), 'up')",
          "q_value": 0,
          "run": 6
         },
         {
          "location": "((3, 1), 'up')",
          "q_value": 0,
          "run": 7
         },
         {
          "location": "((3, 1), 'up')",
          "q_value": 0,
          "run": 8
         },
         {
          "location": "((3, 1), 'up')",
          "q_value": 0,
          "run": 9
         },
         {
          "location": "((3, 1), 'up')",
          "q_value": 0,
          "run": 10
         },
         {
          "location": "((3, 1), 'up')",
          "q_value": 0,
          "run": 11
         },
         {
          "location": "((3, 1), 'up')",
          "q_value": 0,
          "run": 12
         },
         {
          "location": "((3, 1), 'up')",
          "q_value": 0,
          "run": 13
         },
         {
          "location": "((3, 1), 'up')",
          "q_value": 0,
          "run": 14
         },
         {
          "location": "((3, 1), 'up')",
          "q_value": 0,
          "run": 15
         },
         {
          "location": "((3, 1), 'up')",
          "q_value": 0,
          "run": 16
         },
         {
          "location": "((3, 1), 'up')",
          "q_value": 0,
          "run": 17
         },
         {
          "location": "((3, 1), 'up')",
          "q_value": 0,
          "run": 18
         },
         {
          "location": "((3, 1), 'up')",
          "q_value": 0,
          "run": 19
         },
         {
          "location": "((3, 1), 'up')",
          "q_value": 0,
          "run": 20
         },
         {
          "location": "((3, 1), 'up')",
          "q_value": 0,
          "run": 21
         },
         {
          "location": "((3, 1), 'up')",
          "q_value": 0,
          "run": 22
         },
         {
          "location": "((3, 1), 'up')",
          "q_value": 0,
          "run": 23
         },
         {
          "location": "((3, 1), 'up')",
          "q_value": 0,
          "run": 24
         },
         {
          "location": "((3, 1), 'up')",
          "q_value": 0,
          "run": 25
         },
         {
          "location": "((3, 1), 'up')",
          "q_value": 0,
          "run": 26
         },
         {
          "location": "((3, 1), 'up')",
          "q_value": 0,
          "run": 27
         },
         {
          "location": "((3, 1), 'up')",
          "q_value": 0,
          "run": 28
         },
         {
          "location": "((3, 1), 'up')",
          "q_value": 0,
          "run": 29
         },
         {
          "location": "((3, 1), 'up')",
          "q_value": 0,
          "run": 30
         },
         {
          "location": "((3, 1), 'up')",
          "q_value": 0,
          "run": 31
         },
         {
          "location": "((3, 1), 'up')",
          "q_value": 0,
          "run": 32
         },
         {
          "location": "((3, 1), 'up')",
          "q_value": 0,
          "run": 33
         },
         {
          "location": "((3, 1), 'up')",
          "q_value": 0,
          "run": 34
         },
         {
          "location": "((3, 1), 'up')",
          "q_value": 0,
          "run": 35
         },
         {
          "location": "((3, 1), 'up')",
          "q_value": 0,
          "run": 36
         },
         {
          "location": "((3, 1), 'up')",
          "q_value": 0,
          "run": 37
         },
         {
          "location": "((3, 1), 'up')",
          "q_value": 0,
          "run": 38
         },
         {
          "location": "((3, 1), 'up')",
          "q_value": 0,
          "run": 39
         },
         {
          "location": "((3, 1), 'up')",
          "q_value": 0,
          "run": 40
         },
         {
          "location": "((3, 1), 'up')",
          "q_value": 0,
          "run": 41
         },
         {
          "location": "((3, 1), 'up')",
          "q_value": 0,
          "run": 42
         },
         {
          "location": "((3, 1), 'up')",
          "q_value": 0,
          "run": 43
         },
         {
          "location": "((3, 1), 'up')",
          "q_value": 0,
          "run": 44
         },
         {
          "location": "((3, 1), 'up')",
          "q_value": 0,
          "run": 45
         },
         {
          "location": "((3, 1), 'up')",
          "q_value": 0,
          "run": 46
         },
         {
          "location": "((3, 1), 'up')",
          "q_value": 0,
          "run": 47
         },
         {
          "location": "((3, 1), 'up')",
          "q_value": 0,
          "run": 48
         },
         {
          "location": "((3, 1), 'up')",
          "q_value": 0,
          "run": 49
         },
         {
          "location": "((3, 1), 'up')",
          "q_value": 0,
          "run": 50
         },
         {
          "location": "((3, 1), 'up')",
          "q_value": 0,
          "run": 51
         },
         {
          "location": "((3, 1), 'up')",
          "q_value": 0,
          "run": 52
         },
         {
          "location": "((3, 1), 'up')",
          "q_value": 0,
          "run": 53
         },
         {
          "location": "((3, 1), 'up')",
          "q_value": 0,
          "run": 54
         },
         {
          "location": "((3, 1), 'up')",
          "q_value": 0,
          "run": 55
         },
         {
          "location": "((3, 1), 'up')",
          "q_value": 0,
          "run": 56
         },
         {
          "location": "((3, 1), 'up')",
          "q_value": 0,
          "run": 57
         },
         {
          "location": "((3, 1), 'up')",
          "q_value": 0,
          "run": 58
         },
         {
          "location": "((3, 1), 'up')",
          "q_value": 0,
          "run": 59
         },
         {
          "location": "((3, 1), 'up')",
          "q_value": 0,
          "run": 60
         },
         {
          "location": "((3, 1), 'up')",
          "q_value": 0,
          "run": 61
         },
         {
          "location": "((3, 1), 'up')",
          "q_value": 0,
          "run": 62
         },
         {
          "location": "((3, 1), 'up')",
          "q_value": 0,
          "run": 63
         },
         {
          "location": "((3, 1), 'up')",
          "q_value": 0,
          "run": 64
         },
         {
          "location": "((3, 1), 'up')",
          "q_value": 0,
          "run": 65
         },
         {
          "location": "((3, 1), 'up')",
          "q_value": 0,
          "run": 66
         },
         {
          "location": "((3, 1), 'up')",
          "q_value": 0,
          "run": 67
         },
         {
          "location": "((3, 1), 'up')",
          "q_value": 0,
          "run": 68
         },
         {
          "location": "((3, 1), 'up')",
          "q_value": 0,
          "run": 69
         },
         {
          "location": "((3, 1), 'up')",
          "q_value": 0,
          "run": 70
         },
         {
          "location": "((3, 1), 'up')",
          "q_value": 0,
          "run": 71
         },
         {
          "location": "((3, 1), 'up')",
          "q_value": 0,
          "run": 72
         },
         {
          "location": "((3, 1), 'up')",
          "q_value": 0,
          "run": 73
         },
         {
          "location": "((3, 1), 'up')",
          "q_value": 0,
          "run": 74
         },
         {
          "location": "((3, 1), 'up')",
          "q_value": 0,
          "run": 75
         },
         {
          "location": "((3, 1), 'up')",
          "q_value": 0,
          "run": 76
         },
         {
          "location": "((3, 1), 'up')",
          "q_value": 0,
          "run": 77
         },
         {
          "location": "((3, 1), 'up')",
          "q_value": 0,
          "run": 78
         },
         {
          "location": "((3, 1), 'up')",
          "q_value": 0,
          "run": 79
         },
         {
          "location": "((3, 1), 'up')",
          "q_value": 0,
          "run": 80
         },
         {
          "location": "((3, 1), 'up')",
          "q_value": 0,
          "run": 81
         },
         {
          "location": "((3, 1), 'up')",
          "q_value": 0,
          "run": 82
         },
         {
          "location": "((3, 1), 'up')",
          "q_value": 0,
          "run": 83
         },
         {
          "location": "((3, 1), 'up')",
          "q_value": 0,
          "run": 84
         },
         {
          "location": "((3, 1), 'up')",
          "q_value": 0,
          "run": 85
         },
         {
          "location": "((3, 1), 'up')",
          "q_value": 0,
          "run": 86
         },
         {
          "location": "((3, 1), 'up')",
          "q_value": 0,
          "run": 87
         },
         {
          "location": "((3, 1), 'up')",
          "q_value": 0,
          "run": 88
         },
         {
          "location": "((3, 1), 'up')",
          "q_value": 0,
          "run": 89
         },
         {
          "location": "((3, 1), 'up')",
          "q_value": 0,
          "run": 90
         },
         {
          "location": "((3, 1), 'up')",
          "q_value": 0,
          "run": 91
         },
         {
          "location": "((3, 1), 'up')",
          "q_value": 0,
          "run": 92
         },
         {
          "location": "((3, 1), 'up')",
          "q_value": 0,
          "run": 93
         },
         {
          "location": "((3, 1), 'up')",
          "q_value": 0,
          "run": 94
         },
         {
          "location": "((3, 1), 'up')",
          "q_value": 0,
          "run": 95
         },
         {
          "location": "((3, 1), 'up')",
          "q_value": 0,
          "run": 96
         },
         {
          "location": "((3, 1), 'up')",
          "q_value": 0,
          "run": 97
         },
         {
          "location": "((3, 1), 'up')",
          "q_value": 0,
          "run": 98
         },
         {
          "location": "((3, 1), 'up')",
          "q_value": 0,
          "run": 99
         },
         {
          "location": "((3, 1), 'up')",
          "q_value": 0,
          "run": 100
         },
         {
          "location": "((3, 1), 'left')",
          "q_value": 0,
          "run": 0
         },
         {
          "location": "((3, 1), 'left')",
          "q_value": 0,
          "run": 1
         },
         {
          "location": "((3, 1), 'left')",
          "q_value": 0,
          "run": 2
         },
         {
          "location": "((3, 1), 'left')",
          "q_value": 0,
          "run": 3
         },
         {
          "location": "((3, 1), 'left')",
          "q_value": 0,
          "run": 4
         },
         {
          "location": "((3, 1), 'left')",
          "q_value": 0,
          "run": 5
         },
         {
          "location": "((3, 1), 'left')",
          "q_value": 0,
          "run": 6
         },
         {
          "location": "((3, 1), 'left')",
          "q_value": 0,
          "run": 7
         },
         {
          "location": "((3, 1), 'left')",
          "q_value": 0,
          "run": 8
         },
         {
          "location": "((3, 1), 'left')",
          "q_value": 0,
          "run": 9
         },
         {
          "location": "((3, 1), 'left')",
          "q_value": 0,
          "run": 10
         },
         {
          "location": "((3, 1), 'left')",
          "q_value": 0,
          "run": 11
         },
         {
          "location": "((3, 1), 'left')",
          "q_value": 0,
          "run": 12
         },
         {
          "location": "((3, 1), 'left')",
          "q_value": 0,
          "run": 13
         },
         {
          "location": "((3, 1), 'left')",
          "q_value": 0,
          "run": 14
         },
         {
          "location": "((3, 1), 'left')",
          "q_value": 0,
          "run": 15
         },
         {
          "location": "((3, 1), 'left')",
          "q_value": 0,
          "run": 16
         },
         {
          "location": "((3, 1), 'left')",
          "q_value": 0,
          "run": 17
         },
         {
          "location": "((3, 1), 'left')",
          "q_value": 0,
          "run": 18
         },
         {
          "location": "((3, 1), 'left')",
          "q_value": 0,
          "run": 19
         },
         {
          "location": "((3, 1), 'left')",
          "q_value": 0,
          "run": 20
         },
         {
          "location": "((3, 1), 'left')",
          "q_value": 0,
          "run": 21
         },
         {
          "location": "((3, 1), 'left')",
          "q_value": 0,
          "run": 22
         },
         {
          "location": "((3, 1), 'left')",
          "q_value": 0,
          "run": 23
         },
         {
          "location": "((3, 1), 'left')",
          "q_value": 0,
          "run": 24
         },
         {
          "location": "((3, 1), 'left')",
          "q_value": 0,
          "run": 25
         },
         {
          "location": "((3, 1), 'left')",
          "q_value": 0,
          "run": 26
         },
         {
          "location": "((3, 1), 'left')",
          "q_value": 0,
          "run": 27
         },
         {
          "location": "((3, 1), 'left')",
          "q_value": 0,
          "run": 28
         },
         {
          "location": "((3, 1), 'left')",
          "q_value": 0,
          "run": 29
         },
         {
          "location": "((3, 1), 'left')",
          "q_value": 0,
          "run": 30
         },
         {
          "location": "((3, 1), 'left')",
          "q_value": 0,
          "run": 31
         },
         {
          "location": "((3, 1), 'left')",
          "q_value": 0,
          "run": 32
         },
         {
          "location": "((3, 1), 'left')",
          "q_value": 0,
          "run": 33
         },
         {
          "location": "((3, 1), 'left')",
          "q_value": 0,
          "run": 34
         },
         {
          "location": "((3, 1), 'left')",
          "q_value": 0,
          "run": 35
         },
         {
          "location": "((3, 1), 'left')",
          "q_value": 0,
          "run": 36
         },
         {
          "location": "((3, 1), 'left')",
          "q_value": 0,
          "run": 37
         },
         {
          "location": "((3, 1), 'left')",
          "q_value": 0,
          "run": 38
         },
         {
          "location": "((3, 1), 'left')",
          "q_value": 0,
          "run": 39
         },
         {
          "location": "((3, 1), 'left')",
          "q_value": 0,
          "run": 40
         },
         {
          "location": "((3, 1), 'left')",
          "q_value": 0,
          "run": 41
         },
         {
          "location": "((3, 1), 'left')",
          "q_value": 0,
          "run": 42
         },
         {
          "location": "((3, 1), 'left')",
          "q_value": 0,
          "run": 43
         },
         {
          "location": "((3, 1), 'left')",
          "q_value": 0,
          "run": 44
         },
         {
          "location": "((3, 1), 'left')",
          "q_value": 0,
          "run": 45
         },
         {
          "location": "((3, 1), 'left')",
          "q_value": 0,
          "run": 46
         },
         {
          "location": "((3, 1), 'left')",
          "q_value": 0,
          "run": 47
         },
         {
          "location": "((3, 1), 'left')",
          "q_value": 0,
          "run": 48
         },
         {
          "location": "((3, 1), 'left')",
          "q_value": 0,
          "run": 49
         },
         {
          "location": "((3, 1), 'left')",
          "q_value": 0,
          "run": 50
         },
         {
          "location": "((3, 1), 'left')",
          "q_value": 0,
          "run": 51
         },
         {
          "location": "((3, 1), 'left')",
          "q_value": 0,
          "run": 52
         },
         {
          "location": "((3, 1), 'left')",
          "q_value": 0,
          "run": 53
         },
         {
          "location": "((3, 1), 'left')",
          "q_value": 0,
          "run": 54
         },
         {
          "location": "((3, 1), 'left')",
          "q_value": 0,
          "run": 55
         },
         {
          "location": "((3, 1), 'left')",
          "q_value": 0,
          "run": 56
         },
         {
          "location": "((3, 1), 'left')",
          "q_value": 0,
          "run": 57
         },
         {
          "location": "((3, 1), 'left')",
          "q_value": 0,
          "run": 58
         },
         {
          "location": "((3, 1), 'left')",
          "q_value": 0,
          "run": 59
         },
         {
          "location": "((3, 1), 'left')",
          "q_value": 0,
          "run": 60
         },
         {
          "location": "((3, 1), 'left')",
          "q_value": 0,
          "run": 61
         },
         {
          "location": "((3, 1), 'left')",
          "q_value": 0,
          "run": 62
         },
         {
          "location": "((3, 1), 'left')",
          "q_value": 0,
          "run": 63
         },
         {
          "location": "((3, 1), 'left')",
          "q_value": 0,
          "run": 64
         },
         {
          "location": "((3, 1), 'left')",
          "q_value": 0,
          "run": 65
         },
         {
          "location": "((3, 1), 'left')",
          "q_value": 0,
          "run": 66
         },
         {
          "location": "((3, 1), 'left')",
          "q_value": 0,
          "run": 67
         },
         {
          "location": "((3, 1), 'left')",
          "q_value": 0,
          "run": 68
         },
         {
          "location": "((3, 1), 'left')",
          "q_value": 0,
          "run": 69
         },
         {
          "location": "((3, 1), 'left')",
          "q_value": 0,
          "run": 70
         },
         {
          "location": "((3, 1), 'left')",
          "q_value": 0,
          "run": 71
         },
         {
          "location": "((3, 1), 'left')",
          "q_value": 0,
          "run": 72
         },
         {
          "location": "((3, 1), 'left')",
          "q_value": 0,
          "run": 73
         },
         {
          "location": "((3, 1), 'left')",
          "q_value": 0,
          "run": 74
         },
         {
          "location": "((3, 1), 'left')",
          "q_value": 0,
          "run": 75
         },
         {
          "location": "((3, 1), 'left')",
          "q_value": 0,
          "run": 76
         },
         {
          "location": "((3, 1), 'left')",
          "q_value": 0,
          "run": 77
         },
         {
          "location": "((3, 1), 'left')",
          "q_value": 0,
          "run": 78
         },
         {
          "location": "((3, 1), 'left')",
          "q_value": 0,
          "run": 79
         },
         {
          "location": "((3, 1), 'left')",
          "q_value": 0,
          "run": 80
         },
         {
          "location": "((3, 1), 'left')",
          "q_value": 0,
          "run": 81
         },
         {
          "location": "((3, 1), 'left')",
          "q_value": 0,
          "run": 82
         },
         {
          "location": "((3, 1), 'left')",
          "q_value": 0,
          "run": 83
         },
         {
          "location": "((3, 1), 'left')",
          "q_value": 0,
          "run": 84
         },
         {
          "location": "((3, 1), 'left')",
          "q_value": 0,
          "run": 85
         },
         {
          "location": "((3, 1), 'left')",
          "q_value": 0,
          "run": 86
         },
         {
          "location": "((3, 1), 'left')",
          "q_value": 0,
          "run": 87
         },
         {
          "location": "((3, 1), 'left')",
          "q_value": 0,
          "run": 88
         },
         {
          "location": "((3, 1), 'left')",
          "q_value": 0,
          "run": 89
         },
         {
          "location": "((3, 1), 'left')",
          "q_value": 0,
          "run": 90
         },
         {
          "location": "((3, 1), 'left')",
          "q_value": 0,
          "run": 91
         },
         {
          "location": "((3, 1), 'left')",
          "q_value": 0,
          "run": 92
         },
         {
          "location": "((3, 1), 'left')",
          "q_value": 0,
          "run": 93
         },
         {
          "location": "((3, 1), 'left')",
          "q_value": 0,
          "run": 94
         },
         {
          "location": "((3, 1), 'left')",
          "q_value": 0,
          "run": 95
         },
         {
          "location": "((3, 1), 'left')",
          "q_value": 0,
          "run": 96
         },
         {
          "location": "((3, 1), 'left')",
          "q_value": 0,
          "run": 97
         },
         {
          "location": "((3, 1), 'left')",
          "q_value": 0,
          "run": 98
         },
         {
          "location": "((3, 1), 'left')",
          "q_value": 0,
          "run": 99
         },
         {
          "location": "((3, 1), 'left')",
          "q_value": 0,
          "run": 100
         },
         {
          "location": "((3, 2), 'down')",
          "q_value": 0,
          "run": 0
         },
         {
          "location": "((3, 2), 'down')",
          "q_value": 0,
          "run": 1
         },
         {
          "location": "((3, 2), 'down')",
          "q_value": 0,
          "run": 2
         },
         {
          "location": "((3, 2), 'down')",
          "q_value": 0,
          "run": 3
         },
         {
          "location": "((3, 2), 'down')",
          "q_value": 0,
          "run": 4
         },
         {
          "location": "((3, 2), 'down')",
          "q_value": 0,
          "run": 5
         },
         {
          "location": "((3, 2), 'down')",
          "q_value": 0,
          "run": 6
         },
         {
          "location": "((3, 2), 'down')",
          "q_value": 0,
          "run": 7
         },
         {
          "location": "((3, 2), 'down')",
          "q_value": 0,
          "run": 8
         },
         {
          "location": "((3, 2), 'down')",
          "q_value": 0,
          "run": 9
         },
         {
          "location": "((3, 2), 'down')",
          "q_value": 0,
          "run": 10
         },
         {
          "location": "((3, 2), 'down')",
          "q_value": 0,
          "run": 11
         },
         {
          "location": "((3, 2), 'down')",
          "q_value": 0,
          "run": 12
         },
         {
          "location": "((3, 2), 'down')",
          "q_value": 0,
          "run": 13
         },
         {
          "location": "((3, 2), 'down')",
          "q_value": 0,
          "run": 14
         },
         {
          "location": "((3, 2), 'down')",
          "q_value": 0,
          "run": 15
         },
         {
          "location": "((3, 2), 'down')",
          "q_value": 0,
          "run": 16
         },
         {
          "location": "((3, 2), 'down')",
          "q_value": 0,
          "run": 17
         },
         {
          "location": "((3, 2), 'down')",
          "q_value": 0,
          "run": 18
         },
         {
          "location": "((3, 2), 'down')",
          "q_value": 0,
          "run": 19
         },
         {
          "location": "((3, 2), 'down')",
          "q_value": 0,
          "run": 20
         },
         {
          "location": "((3, 2), 'down')",
          "q_value": 0,
          "run": 21
         },
         {
          "location": "((3, 2), 'down')",
          "q_value": 0,
          "run": 22
         },
         {
          "location": "((3, 2), 'down')",
          "q_value": 0,
          "run": 23
         },
         {
          "location": "((3, 2), 'down')",
          "q_value": 0,
          "run": 24
         },
         {
          "location": "((3, 2), 'down')",
          "q_value": 0,
          "run": 25
         },
         {
          "location": "((3, 2), 'down')",
          "q_value": 0,
          "run": 26
         },
         {
          "location": "((3, 2), 'down')",
          "q_value": 0,
          "run": 27
         },
         {
          "location": "((3, 2), 'down')",
          "q_value": 0,
          "run": 28
         },
         {
          "location": "((3, 2), 'down')",
          "q_value": 0,
          "run": 29
         },
         {
          "location": "((3, 2), 'down')",
          "q_value": 0,
          "run": 30
         },
         {
          "location": "((3, 2), 'down')",
          "q_value": 0,
          "run": 31
         },
         {
          "location": "((3, 2), 'down')",
          "q_value": 0,
          "run": 32
         },
         {
          "location": "((3, 2), 'down')",
          "q_value": 0,
          "run": 33
         },
         {
          "location": "((3, 2), 'down')",
          "q_value": 0,
          "run": 34
         },
         {
          "location": "((3, 2), 'down')",
          "q_value": 0,
          "run": 35
         },
         {
          "location": "((3, 2), 'down')",
          "q_value": 0,
          "run": 36
         },
         {
          "location": "((3, 2), 'down')",
          "q_value": 0,
          "run": 37
         },
         {
          "location": "((3, 2), 'down')",
          "q_value": 0,
          "run": 38
         },
         {
          "location": "((3, 2), 'down')",
          "q_value": 0,
          "run": 39
         },
         {
          "location": "((3, 2), 'down')",
          "q_value": 0,
          "run": 40
         },
         {
          "location": "((3, 2), 'down')",
          "q_value": 0,
          "run": 41
         },
         {
          "location": "((3, 2), 'down')",
          "q_value": 0,
          "run": 42
         },
         {
          "location": "((3, 2), 'down')",
          "q_value": 0,
          "run": 43
         },
         {
          "location": "((3, 2), 'down')",
          "q_value": 0,
          "run": 44
         },
         {
          "location": "((3, 2), 'down')",
          "q_value": 0,
          "run": 45
         },
         {
          "location": "((3, 2), 'down')",
          "q_value": 0,
          "run": 46
         },
         {
          "location": "((3, 2), 'down')",
          "q_value": 0,
          "run": 47
         },
         {
          "location": "((3, 2), 'down')",
          "q_value": 0,
          "run": 48
         },
         {
          "location": "((3, 2), 'down')",
          "q_value": 0,
          "run": 49
         },
         {
          "location": "((3, 2), 'down')",
          "q_value": 0,
          "run": 50
         },
         {
          "location": "((3, 2), 'down')",
          "q_value": 0,
          "run": 51
         },
         {
          "location": "((3, 2), 'down')",
          "q_value": 0,
          "run": 52
         },
         {
          "location": "((3, 2), 'down')",
          "q_value": 0,
          "run": 53
         },
         {
          "location": "((3, 2), 'down')",
          "q_value": 0,
          "run": 54
         },
         {
          "location": "((3, 2), 'down')",
          "q_value": 0,
          "run": 55
         },
         {
          "location": "((3, 2), 'down')",
          "q_value": 0,
          "run": 56
         },
         {
          "location": "((3, 2), 'down')",
          "q_value": 0,
          "run": 57
         },
         {
          "location": "((3, 2), 'down')",
          "q_value": 0,
          "run": 58
         },
         {
          "location": "((3, 2), 'down')",
          "q_value": 0,
          "run": 59
         },
         {
          "location": "((3, 2), 'down')",
          "q_value": 0,
          "run": 60
         },
         {
          "location": "((3, 2), 'down')",
          "q_value": 0,
          "run": 61
         },
         {
          "location": "((3, 2), 'down')",
          "q_value": 0,
          "run": 62
         },
         {
          "location": "((3, 2), 'down')",
          "q_value": 0,
          "run": 63
         },
         {
          "location": "((3, 2), 'down')",
          "q_value": 0,
          "run": 64
         },
         {
          "location": "((3, 2), 'down')",
          "q_value": 0,
          "run": 65
         },
         {
          "location": "((3, 2), 'down')",
          "q_value": 0,
          "run": 66
         },
         {
          "location": "((3, 2), 'down')",
          "q_value": 0,
          "run": 67
         },
         {
          "location": "((3, 2), 'down')",
          "q_value": 0,
          "run": 68
         },
         {
          "location": "((3, 2), 'down')",
          "q_value": 0,
          "run": 69
         },
         {
          "location": "((3, 2), 'down')",
          "q_value": 0,
          "run": 70
         },
         {
          "location": "((3, 2), 'down')",
          "q_value": 0,
          "run": 71
         },
         {
          "location": "((3, 2), 'down')",
          "q_value": 0,
          "run": 72
         },
         {
          "location": "((3, 2), 'down')",
          "q_value": 0,
          "run": 73
         },
         {
          "location": "((3, 2), 'down')",
          "q_value": 0,
          "run": 74
         },
         {
          "location": "((3, 2), 'down')",
          "q_value": 0,
          "run": 75
         },
         {
          "location": "((3, 2), 'down')",
          "q_value": 0,
          "run": 76
         },
         {
          "location": "((3, 2), 'down')",
          "q_value": 0,
          "run": 77
         },
         {
          "location": "((3, 2), 'down')",
          "q_value": 0,
          "run": 78
         },
         {
          "location": "((3, 2), 'down')",
          "q_value": 0,
          "run": 79
         },
         {
          "location": "((3, 2), 'down')",
          "q_value": 0,
          "run": 80
         },
         {
          "location": "((3, 2), 'down')",
          "q_value": 0,
          "run": 81
         },
         {
          "location": "((3, 2), 'down')",
          "q_value": 0,
          "run": 82
         },
         {
          "location": "((3, 2), 'down')",
          "q_value": 0,
          "run": 83
         },
         {
          "location": "((3, 2), 'down')",
          "q_value": 0,
          "run": 84
         },
         {
          "location": "((3, 2), 'down')",
          "q_value": 0,
          "run": 85
         },
         {
          "location": "((3, 2), 'down')",
          "q_value": 0,
          "run": 86
         },
         {
          "location": "((3, 2), 'down')",
          "q_value": 0,
          "run": 87
         },
         {
          "location": "((3, 2), 'down')",
          "q_value": 0,
          "run": 88
         },
         {
          "location": "((3, 2), 'down')",
          "q_value": 0,
          "run": 89
         },
         {
          "location": "((3, 2), 'down')",
          "q_value": 0,
          "run": 90
         },
         {
          "location": "((3, 2), 'down')",
          "q_value": 0,
          "run": 91
         },
         {
          "location": "((3, 2), 'down')",
          "q_value": 0,
          "run": 92
         },
         {
          "location": "((3, 2), 'down')",
          "q_value": 0,
          "run": 93
         },
         {
          "location": "((3, 2), 'down')",
          "q_value": 0,
          "run": 94
         },
         {
          "location": "((3, 2), 'down')",
          "q_value": 0,
          "run": 95
         },
         {
          "location": "((3, 2), 'down')",
          "q_value": 0,
          "run": 96
         },
         {
          "location": "((3, 2), 'down')",
          "q_value": 0,
          "run": 97
         },
         {
          "location": "((3, 2), 'down')",
          "q_value": 0,
          "run": 98
         },
         {
          "location": "((3, 2), 'down')",
          "q_value": 0,
          "run": 99
         },
         {
          "location": "((3, 2), 'down')",
          "q_value": 0,
          "run": 100
         },
         {
          "location": "((3, 2), 'right')",
          "q_value": 0,
          "run": 0
         },
         {
          "location": "((3, 2), 'right')",
          "q_value": 0,
          "run": 1
         },
         {
          "location": "((3, 2), 'right')",
          "q_value": 0,
          "run": 2
         },
         {
          "location": "((3, 2), 'right')",
          "q_value": 0,
          "run": 3
         },
         {
          "location": "((3, 2), 'right')",
          "q_value": 0,
          "run": 4
         },
         {
          "location": "((3, 2), 'right')",
          "q_value": 0,
          "run": 5
         },
         {
          "location": "((3, 2), 'right')",
          "q_value": 0,
          "run": 6
         },
         {
          "location": "((3, 2), 'right')",
          "q_value": 0,
          "run": 7
         },
         {
          "location": "((3, 2), 'right')",
          "q_value": 0,
          "run": 8
         },
         {
          "location": "((3, 2), 'right')",
          "q_value": 0,
          "run": 9
         },
         {
          "location": "((3, 2), 'right')",
          "q_value": 0,
          "run": 10
         },
         {
          "location": "((3, 2), 'right')",
          "q_value": 0,
          "run": 11
         },
         {
          "location": "((3, 2), 'right')",
          "q_value": 0,
          "run": 12
         },
         {
          "location": "((3, 2), 'right')",
          "q_value": 0,
          "run": 13
         },
         {
          "location": "((3, 2), 'right')",
          "q_value": 0,
          "run": 14
         },
         {
          "location": "((3, 2), 'right')",
          "q_value": 0,
          "run": 15
         },
         {
          "location": "((3, 2), 'right')",
          "q_value": 0,
          "run": 16
         },
         {
          "location": "((3, 2), 'right')",
          "q_value": 0,
          "run": 17
         },
         {
          "location": "((3, 2), 'right')",
          "q_value": 0,
          "run": 18
         },
         {
          "location": "((3, 2), 'right')",
          "q_value": 0,
          "run": 19
         },
         {
          "location": "((3, 2), 'right')",
          "q_value": 0,
          "run": 20
         },
         {
          "location": "((3, 2), 'right')",
          "q_value": 0,
          "run": 21
         },
         {
          "location": "((3, 2), 'right')",
          "q_value": 0,
          "run": 22
         },
         {
          "location": "((3, 2), 'right')",
          "q_value": 0,
          "run": 23
         },
         {
          "location": "((3, 2), 'right')",
          "q_value": 0,
          "run": 24
         },
         {
          "location": "((3, 2), 'right')",
          "q_value": 0,
          "run": 25
         },
         {
          "location": "((3, 2), 'right')",
          "q_value": 0,
          "run": 26
         },
         {
          "location": "((3, 2), 'right')",
          "q_value": 0,
          "run": 27
         },
         {
          "location": "((3, 2), 'right')",
          "q_value": 0,
          "run": 28
         },
         {
          "location": "((3, 2), 'right')",
          "q_value": 0,
          "run": 29
         },
         {
          "location": "((3, 2), 'right')",
          "q_value": 0,
          "run": 30
         },
         {
          "location": "((3, 2), 'right')",
          "q_value": 0,
          "run": 31
         },
         {
          "location": "((3, 2), 'right')",
          "q_value": 0,
          "run": 32
         },
         {
          "location": "((3, 2), 'right')",
          "q_value": 0,
          "run": 33
         },
         {
          "location": "((3, 2), 'right')",
          "q_value": 0,
          "run": 34
         },
         {
          "location": "((3, 2), 'right')",
          "q_value": 0,
          "run": 35
         },
         {
          "location": "((3, 2), 'right')",
          "q_value": 0,
          "run": 36
         },
         {
          "location": "((3, 2), 'right')",
          "q_value": 0,
          "run": 37
         },
         {
          "location": "((3, 2), 'right')",
          "q_value": 0,
          "run": 38
         },
         {
          "location": "((3, 2), 'right')",
          "q_value": 0,
          "run": 39
         },
         {
          "location": "((3, 2), 'right')",
          "q_value": 0,
          "run": 40
         },
         {
          "location": "((3, 2), 'right')",
          "q_value": 0,
          "run": 41
         },
         {
          "location": "((3, 2), 'right')",
          "q_value": 0,
          "run": 42
         },
         {
          "location": "((3, 2), 'right')",
          "q_value": 0,
          "run": 43
         },
         {
          "location": "((3, 2), 'right')",
          "q_value": 0,
          "run": 44
         },
         {
          "location": "((3, 2), 'right')",
          "q_value": 0,
          "run": 45
         },
         {
          "location": "((3, 2), 'right')",
          "q_value": 0,
          "run": 46
         },
         {
          "location": "((3, 2), 'right')",
          "q_value": 0,
          "run": 47
         },
         {
          "location": "((3, 2), 'right')",
          "q_value": 0,
          "run": 48
         },
         {
          "location": "((3, 2), 'right')",
          "q_value": 0,
          "run": 49
         },
         {
          "location": "((3, 2), 'right')",
          "q_value": 0,
          "run": 50
         },
         {
          "location": "((3, 2), 'right')",
          "q_value": 0,
          "run": 51
         },
         {
          "location": "((3, 2), 'right')",
          "q_value": 0,
          "run": 52
         },
         {
          "location": "((3, 2), 'right')",
          "q_value": 0,
          "run": 53
         },
         {
          "location": "((3, 2), 'right')",
          "q_value": 0,
          "run": 54
         },
         {
          "location": "((3, 2), 'right')",
          "q_value": 0,
          "run": 55
         },
         {
          "location": "((3, 2), 'right')",
          "q_value": 0,
          "run": 56
         },
         {
          "location": "((3, 2), 'right')",
          "q_value": 0,
          "run": 57
         },
         {
          "location": "((3, 2), 'right')",
          "q_value": 0,
          "run": 58
         },
         {
          "location": "((3, 2), 'right')",
          "q_value": 0,
          "run": 59
         },
         {
          "location": "((3, 2), 'right')",
          "q_value": 0,
          "run": 60
         },
         {
          "location": "((3, 2), 'right')",
          "q_value": 0,
          "run": 61
         },
         {
          "location": "((3, 2), 'right')",
          "q_value": 0,
          "run": 62
         },
         {
          "location": "((3, 2), 'right')",
          "q_value": 0,
          "run": 63
         },
         {
          "location": "((3, 2), 'right')",
          "q_value": 0,
          "run": 64
         },
         {
          "location": "((3, 2), 'right')",
          "q_value": 0,
          "run": 65
         },
         {
          "location": "((3, 2), 'right')",
          "q_value": 0,
          "run": 66
         },
         {
          "location": "((3, 2), 'right')",
          "q_value": 0,
          "run": 67
         },
         {
          "location": "((3, 2), 'right')",
          "q_value": 0,
          "run": 68
         },
         {
          "location": "((3, 2), 'right')",
          "q_value": 0,
          "run": 69
         },
         {
          "location": "((3, 2), 'right')",
          "q_value": 0,
          "run": 70
         },
         {
          "location": "((3, 2), 'right')",
          "q_value": 0,
          "run": 71
         },
         {
          "location": "((3, 2), 'right')",
          "q_value": 0,
          "run": 72
         },
         {
          "location": "((3, 2), 'right')",
          "q_value": 0,
          "run": 73
         },
         {
          "location": "((3, 2), 'right')",
          "q_value": 0,
          "run": 74
         },
         {
          "location": "((3, 2), 'right')",
          "q_value": 0,
          "run": 75
         },
         {
          "location": "((3, 2), 'right')",
          "q_value": 0,
          "run": 76
         },
         {
          "location": "((3, 2), 'right')",
          "q_value": 0,
          "run": 77
         },
         {
          "location": "((3, 2), 'right')",
          "q_value": 0,
          "run": 78
         },
         {
          "location": "((3, 2), 'right')",
          "q_value": 0,
          "run": 79
         },
         {
          "location": "((3, 2), 'right')",
          "q_value": 0,
          "run": 80
         },
         {
          "location": "((3, 2), 'right')",
          "q_value": 0,
          "run": 81
         },
         {
          "location": "((3, 2), 'right')",
          "q_value": 0,
          "run": 82
         },
         {
          "location": "((3, 2), 'right')",
          "q_value": 0,
          "run": 83
         },
         {
          "location": "((3, 2), 'right')",
          "q_value": 0,
          "run": 84
         },
         {
          "location": "((3, 2), 'right')",
          "q_value": 0,
          "run": 85
         },
         {
          "location": "((3, 2), 'right')",
          "q_value": 0,
          "run": 86
         },
         {
          "location": "((3, 2), 'right')",
          "q_value": 0,
          "run": 87
         },
         {
          "location": "((3, 2), 'right')",
          "q_value": 0,
          "run": 88
         },
         {
          "location": "((3, 2), 'right')",
          "q_value": 0,
          "run": 89
         },
         {
          "location": "((3, 2), 'right')",
          "q_value": 0,
          "run": 90
         },
         {
          "location": "((3, 2), 'right')",
          "q_value": 0,
          "run": 91
         },
         {
          "location": "((3, 2), 'right')",
          "q_value": 0,
          "run": 92
         },
         {
          "location": "((3, 2), 'right')",
          "q_value": 0,
          "run": 93
         },
         {
          "location": "((3, 2), 'right')",
          "q_value": 0,
          "run": 94
         },
         {
          "location": "((3, 2), 'right')",
          "q_value": 0,
          "run": 95
         },
         {
          "location": "((3, 2), 'right')",
          "q_value": 0,
          "run": 96
         },
         {
          "location": "((3, 2), 'right')",
          "q_value": 0,
          "run": 97
         },
         {
          "location": "((3, 2), 'right')",
          "q_value": 0,
          "run": 98
         },
         {
          "location": "((3, 2), 'right')",
          "q_value": 0,
          "run": 99
         },
         {
          "location": "((3, 2), 'right')",
          "q_value": 0,
          "run": 100
         },
         {
          "location": "((3, 2), 'up')",
          "q_value": 0,
          "run": 0
         },
         {
          "location": "((3, 2), 'up')",
          "q_value": 0,
          "run": 1
         },
         {
          "location": "((3, 2), 'up')",
          "q_value": 0,
          "run": 2
         },
         {
          "location": "((3, 2), 'up')",
          "q_value": 0,
          "run": 3
         },
         {
          "location": "((3, 2), 'up')",
          "q_value": 0,
          "run": 4
         },
         {
          "location": "((3, 2), 'up')",
          "q_value": 0,
          "run": 5
         },
         {
          "location": "((3, 2), 'up')",
          "q_value": 0,
          "run": 6
         },
         {
          "location": "((3, 2), 'up')",
          "q_value": 0,
          "run": 7
         },
         {
          "location": "((3, 2), 'up')",
          "q_value": 0,
          "run": 8
         },
         {
          "location": "((3, 2), 'up')",
          "q_value": 0,
          "run": 9
         },
         {
          "location": "((3, 2), 'up')",
          "q_value": 0,
          "run": 10
         },
         {
          "location": "((3, 2), 'up')",
          "q_value": 0,
          "run": 11
         },
         {
          "location": "((3, 2), 'up')",
          "q_value": 0,
          "run": 12
         },
         {
          "location": "((3, 2), 'up')",
          "q_value": 0,
          "run": 13
         },
         {
          "location": "((3, 2), 'up')",
          "q_value": 0,
          "run": 14
         },
         {
          "location": "((3, 2), 'up')",
          "q_value": 0,
          "run": 15
         },
         {
          "location": "((3, 2), 'up')",
          "q_value": 0,
          "run": 16
         },
         {
          "location": "((3, 2), 'up')",
          "q_value": 0,
          "run": 17
         },
         {
          "location": "((3, 2), 'up')",
          "q_value": 0,
          "run": 18
         },
         {
          "location": "((3, 2), 'up')",
          "q_value": 0,
          "run": 19
         },
         {
          "location": "((3, 2), 'up')",
          "q_value": 0,
          "run": 20
         },
         {
          "location": "((3, 2), 'up')",
          "q_value": 0,
          "run": 21
         },
         {
          "location": "((3, 2), 'up')",
          "q_value": 0,
          "run": 22
         },
         {
          "location": "((3, 2), 'up')",
          "q_value": 0,
          "run": 23
         },
         {
          "location": "((3, 2), 'up')",
          "q_value": 0,
          "run": 24
         },
         {
          "location": "((3, 2), 'up')",
          "q_value": 0,
          "run": 25
         },
         {
          "location": "((3, 2), 'up')",
          "q_value": 0,
          "run": 26
         },
         {
          "location": "((3, 2), 'up')",
          "q_value": 0,
          "run": 27
         },
         {
          "location": "((3, 2), 'up')",
          "q_value": 0,
          "run": 28
         },
         {
          "location": "((3, 2), 'up')",
          "q_value": 0,
          "run": 29
         },
         {
          "location": "((3, 2), 'up')",
          "q_value": 0,
          "run": 30
         },
         {
          "location": "((3, 2), 'up')",
          "q_value": 0,
          "run": 31
         },
         {
          "location": "((3, 2), 'up')",
          "q_value": 0,
          "run": 32
         },
         {
          "location": "((3, 2), 'up')",
          "q_value": 0,
          "run": 33
         },
         {
          "location": "((3, 2), 'up')",
          "q_value": 0,
          "run": 34
         },
         {
          "location": "((3, 2), 'up')",
          "q_value": 0,
          "run": 35
         },
         {
          "location": "((3, 2), 'up')",
          "q_value": 0,
          "run": 36
         },
         {
          "location": "((3, 2), 'up')",
          "q_value": 0,
          "run": 37
         },
         {
          "location": "((3, 2), 'up')",
          "q_value": 0,
          "run": 38
         },
         {
          "location": "((3, 2), 'up')",
          "q_value": 0,
          "run": 39
         },
         {
          "location": "((3, 2), 'up')",
          "q_value": 0,
          "run": 40
         },
         {
          "location": "((3, 2), 'up')",
          "q_value": 0,
          "run": 41
         },
         {
          "location": "((3, 2), 'up')",
          "q_value": 0,
          "run": 42
         },
         {
          "location": "((3, 2), 'up')",
          "q_value": 0,
          "run": 43
         },
         {
          "location": "((3, 2), 'up')",
          "q_value": 0,
          "run": 44
         },
         {
          "location": "((3, 2), 'up')",
          "q_value": 0,
          "run": 45
         },
         {
          "location": "((3, 2), 'up')",
          "q_value": 0,
          "run": 46
         },
         {
          "location": "((3, 2), 'up')",
          "q_value": 0,
          "run": 47
         },
         {
          "location": "((3, 2), 'up')",
          "q_value": 0,
          "run": 48
         },
         {
          "location": "((3, 2), 'up')",
          "q_value": 0,
          "run": 49
         },
         {
          "location": "((3, 2), 'up')",
          "q_value": 0,
          "run": 50
         },
         {
          "location": "((3, 2), 'up')",
          "q_value": 0,
          "run": 51
         },
         {
          "location": "((3, 2), 'up')",
          "q_value": 0,
          "run": 52
         },
         {
          "location": "((3, 2), 'up')",
          "q_value": 0,
          "run": 53
         },
         {
          "location": "((3, 2), 'up')",
          "q_value": 0,
          "run": 54
         },
         {
          "location": "((3, 2), 'up')",
          "q_value": 0,
          "run": 55
         },
         {
          "location": "((3, 2), 'up')",
          "q_value": 0,
          "run": 56
         },
         {
          "location": "((3, 2), 'up')",
          "q_value": 0,
          "run": 57
         },
         {
          "location": "((3, 2), 'up')",
          "q_value": 0,
          "run": 58
         },
         {
          "location": "((3, 2), 'up')",
          "q_value": 0,
          "run": 59
         },
         {
          "location": "((3, 2), 'up')",
          "q_value": 0,
          "run": 60
         },
         {
          "location": "((3, 2), 'up')",
          "q_value": 0,
          "run": 61
         },
         {
          "location": "((3, 2), 'up')",
          "q_value": 0,
          "run": 62
         },
         {
          "location": "((3, 2), 'up')",
          "q_value": 0,
          "run": 63
         },
         {
          "location": "((3, 2), 'up')",
          "q_value": 0,
          "run": 64
         },
         {
          "location": "((3, 2), 'up')",
          "q_value": 0,
          "run": 65
         },
         {
          "location": "((3, 2), 'up')",
          "q_value": 0,
          "run": 66
         },
         {
          "location": "((3, 2), 'up')",
          "q_value": 0,
          "run": 67
         },
         {
          "location": "((3, 2), 'up')",
          "q_value": 0,
          "run": 68
         },
         {
          "location": "((3, 2), 'up')",
          "q_value": 0,
          "run": 69
         },
         {
          "location": "((3, 2), 'up')",
          "q_value": 0,
          "run": 70
         },
         {
          "location": "((3, 2), 'up')",
          "q_value": 0,
          "run": 71
         },
         {
          "location": "((3, 2), 'up')",
          "q_value": 0,
          "run": 72
         },
         {
          "location": "((3, 2), 'up')",
          "q_value": 0,
          "run": 73
         },
         {
          "location": "((3, 2), 'up')",
          "q_value": 0,
          "run": 74
         },
         {
          "location": "((3, 2), 'up')",
          "q_value": 0,
          "run": 75
         },
         {
          "location": "((3, 2), 'up')",
          "q_value": 0,
          "run": 76
         },
         {
          "location": "((3, 2), 'up')",
          "q_value": 0,
          "run": 77
         },
         {
          "location": "((3, 2), 'up')",
          "q_value": 0,
          "run": 78
         },
         {
          "location": "((3, 2), 'up')",
          "q_value": 0,
          "run": 79
         },
         {
          "location": "((3, 2), 'up')",
          "q_value": 0,
          "run": 80
         },
         {
          "location": "((3, 2), 'up')",
          "q_value": 0,
          "run": 81
         },
         {
          "location": "((3, 2), 'up')",
          "q_value": 0,
          "run": 82
         },
         {
          "location": "((3, 2), 'up')",
          "q_value": 0,
          "run": 83
         },
         {
          "location": "((3, 2), 'up')",
          "q_value": 0,
          "run": 84
         },
         {
          "location": "((3, 2), 'up')",
          "q_value": 0,
          "run": 85
         },
         {
          "location": "((3, 2), 'up')",
          "q_value": 0,
          "run": 86
         },
         {
          "location": "((3, 2), 'up')",
          "q_value": 0,
          "run": 87
         },
         {
          "location": "((3, 2), 'up')",
          "q_value": 0,
          "run": 88
         },
         {
          "location": "((3, 2), 'up')",
          "q_value": 0,
          "run": 89
         },
         {
          "location": "((3, 2), 'up')",
          "q_value": 0,
          "run": 90
         },
         {
          "location": "((3, 2), 'up')",
          "q_value": 0,
          "run": 91
         },
         {
          "location": "((3, 2), 'up')",
          "q_value": 0,
          "run": 92
         },
         {
          "location": "((3, 2), 'up')",
          "q_value": 0,
          "run": 93
         },
         {
          "location": "((3, 2), 'up')",
          "q_value": 0,
          "run": 94
         },
         {
          "location": "((3, 2), 'up')",
          "q_value": 0,
          "run": 95
         },
         {
          "location": "((3, 2), 'up')",
          "q_value": 0,
          "run": 96
         },
         {
          "location": "((3, 2), 'up')",
          "q_value": 0,
          "run": 97
         },
         {
          "location": "((3, 2), 'up')",
          "q_value": 0,
          "run": 98
         },
         {
          "location": "((3, 2), 'up')",
          "q_value": 0,
          "run": 99
         },
         {
          "location": "((3, 2), 'up')",
          "q_value": 0,
          "run": 100
         },
         {
          "location": "((3, 2), 'left')",
          "q_value": 0,
          "run": 0
         },
         {
          "location": "((3, 2), 'left')",
          "q_value": 0,
          "run": 1
         },
         {
          "location": "((3, 2), 'left')",
          "q_value": 0,
          "run": 2
         },
         {
          "location": "((3, 2), 'left')",
          "q_value": 0,
          "run": 3
         },
         {
          "location": "((3, 2), 'left')",
          "q_value": 0,
          "run": 4
         },
         {
          "location": "((3, 2), 'left')",
          "q_value": 0,
          "run": 5
         },
         {
          "location": "((3, 2), 'left')",
          "q_value": 0,
          "run": 6
         },
         {
          "location": "((3, 2), 'left')",
          "q_value": 0,
          "run": 7
         },
         {
          "location": "((3, 2), 'left')",
          "q_value": 0,
          "run": 8
         },
         {
          "location": "((3, 2), 'left')",
          "q_value": 0,
          "run": 9
         },
         {
          "location": "((3, 2), 'left')",
          "q_value": 0,
          "run": 10
         },
         {
          "location": "((3, 2), 'left')",
          "q_value": 0,
          "run": 11
         },
         {
          "location": "((3, 2), 'left')",
          "q_value": 0,
          "run": 12
         },
         {
          "location": "((3, 2), 'left')",
          "q_value": 0,
          "run": 13
         },
         {
          "location": "((3, 2), 'left')",
          "q_value": 0,
          "run": 14
         },
         {
          "location": "((3, 2), 'left')",
          "q_value": 0,
          "run": 15
         },
         {
          "location": "((3, 2), 'left')",
          "q_value": 0,
          "run": 16
         },
         {
          "location": "((3, 2), 'left')",
          "q_value": 0,
          "run": 17
         },
         {
          "location": "((3, 2), 'left')",
          "q_value": 0,
          "run": 18
         },
         {
          "location": "((3, 2), 'left')",
          "q_value": 0,
          "run": 19
         },
         {
          "location": "((3, 2), 'left')",
          "q_value": 0,
          "run": 20
         },
         {
          "location": "((3, 2), 'left')",
          "q_value": 0,
          "run": 21
         },
         {
          "location": "((3, 2), 'left')",
          "q_value": 0,
          "run": 22
         },
         {
          "location": "((3, 2), 'left')",
          "q_value": 0,
          "run": 23
         },
         {
          "location": "((3, 2), 'left')",
          "q_value": 0,
          "run": 24
         },
         {
          "location": "((3, 2), 'left')",
          "q_value": 0,
          "run": 25
         },
         {
          "location": "((3, 2), 'left')",
          "q_value": 0,
          "run": 26
         },
         {
          "location": "((3, 2), 'left')",
          "q_value": 0,
          "run": 27
         },
         {
          "location": "((3, 2), 'left')",
          "q_value": 0,
          "run": 28
         },
         {
          "location": "((3, 2), 'left')",
          "q_value": 0,
          "run": 29
         },
         {
          "location": "((3, 2), 'left')",
          "q_value": 0,
          "run": 30
         },
         {
          "location": "((3, 2), 'left')",
          "q_value": 0,
          "run": 31
         },
         {
          "location": "((3, 2), 'left')",
          "q_value": 0,
          "run": 32
         },
         {
          "location": "((3, 2), 'left')",
          "q_value": 0,
          "run": 33
         },
         {
          "location": "((3, 2), 'left')",
          "q_value": 0,
          "run": 34
         },
         {
          "location": "((3, 2), 'left')",
          "q_value": 0,
          "run": 35
         },
         {
          "location": "((3, 2), 'left')",
          "q_value": 0,
          "run": 36
         },
         {
          "location": "((3, 2), 'left')",
          "q_value": 0,
          "run": 37
         },
         {
          "location": "((3, 2), 'left')",
          "q_value": 0,
          "run": 38
         },
         {
          "location": "((3, 2), 'left')",
          "q_value": 0,
          "run": 39
         },
         {
          "location": "((3, 2), 'left')",
          "q_value": 0,
          "run": 40
         },
         {
          "location": "((3, 2), 'left')",
          "q_value": 0,
          "run": 41
         },
         {
          "location": "((3, 2), 'left')",
          "q_value": 0,
          "run": 42
         },
         {
          "location": "((3, 2), 'left')",
          "q_value": 0,
          "run": 43
         },
         {
          "location": "((3, 2), 'left')",
          "q_value": 0,
          "run": 44
         },
         {
          "location": "((3, 2), 'left')",
          "q_value": 0,
          "run": 45
         },
         {
          "location": "((3, 2), 'left')",
          "q_value": 0,
          "run": 46
         },
         {
          "location": "((3, 2), 'left')",
          "q_value": 0,
          "run": 47
         },
         {
          "location": "((3, 2), 'left')",
          "q_value": 0,
          "run": 48
         },
         {
          "location": "((3, 2), 'left')",
          "q_value": 0,
          "run": 49
         },
         {
          "location": "((3, 2), 'left')",
          "q_value": 0,
          "run": 50
         },
         {
          "location": "((3, 2), 'left')",
          "q_value": 0,
          "run": 51
         },
         {
          "location": "((3, 2), 'left')",
          "q_value": 0,
          "run": 52
         },
         {
          "location": "((3, 2), 'left')",
          "q_value": 0,
          "run": 53
         },
         {
          "location": "((3, 2), 'left')",
          "q_value": 0,
          "run": 54
         },
         {
          "location": "((3, 2), 'left')",
          "q_value": 0,
          "run": 55
         },
         {
          "location": "((3, 2), 'left')",
          "q_value": 0,
          "run": 56
         },
         {
          "location": "((3, 2), 'left')",
          "q_value": 0,
          "run": 57
         },
         {
          "location": "((3, 2), 'left')",
          "q_value": 0,
          "run": 58
         },
         {
          "location": "((3, 2), 'left')",
          "q_value": 0,
          "run": 59
         },
         {
          "location": "((3, 2), 'left')",
          "q_value": 0,
          "run": 60
         },
         {
          "location": "((3, 2), 'left')",
          "q_value": 0,
          "run": 61
         },
         {
          "location": "((3, 2), 'left')",
          "q_value": 0,
          "run": 62
         },
         {
          "location": "((3, 2), 'left')",
          "q_value": 0,
          "run": 63
         },
         {
          "location": "((3, 2), 'left')",
          "q_value": 0,
          "run": 64
         },
         {
          "location": "((3, 2), 'left')",
          "q_value": 0,
          "run": 65
         },
         {
          "location": "((3, 2), 'left')",
          "q_value": 0,
          "run": 66
         },
         {
          "location": "((3, 2), 'left')",
          "q_value": 0,
          "run": 67
         },
         {
          "location": "((3, 2), 'left')",
          "q_value": 0,
          "run": 68
         },
         {
          "location": "((3, 2), 'left')",
          "q_value": 0,
          "run": 69
         },
         {
          "location": "((3, 2), 'left')",
          "q_value": 0,
          "run": 70
         },
         {
          "location": "((3, 2), 'left')",
          "q_value": 0,
          "run": 71
         },
         {
          "location": "((3, 2), 'left')",
          "q_value": 0,
          "run": 72
         },
         {
          "location": "((3, 2), 'left')",
          "q_value": 0,
          "run": 73
         },
         {
          "location": "((3, 2), 'left')",
          "q_value": 0,
          "run": 74
         },
         {
          "location": "((3, 2), 'left')",
          "q_value": 0,
          "run": 75
         },
         {
          "location": "((3, 2), 'left')",
          "q_value": 0,
          "run": 76
         },
         {
          "location": "((3, 2), 'left')",
          "q_value": 0,
          "run": 77
         },
         {
          "location": "((3, 2), 'left')",
          "q_value": 0,
          "run": 78
         },
         {
          "location": "((3, 2), 'left')",
          "q_value": 0,
          "run": 79
         },
         {
          "location": "((3, 2), 'left')",
          "q_value": 0,
          "run": 80
         },
         {
          "location": "((3, 2), 'left')",
          "q_value": 0,
          "run": 81
         },
         {
          "location": "((3, 2), 'left')",
          "q_value": 0,
          "run": 82
         },
         {
          "location": "((3, 2), 'left')",
          "q_value": 0,
          "run": 83
         },
         {
          "location": "((3, 2), 'left')",
          "q_value": 0,
          "run": 84
         },
         {
          "location": "((3, 2), 'left')",
          "q_value": 0,
          "run": 85
         },
         {
          "location": "((3, 2), 'left')",
          "q_value": 0,
          "run": 86
         },
         {
          "location": "((3, 2), 'left')",
          "q_value": 0,
          "run": 87
         },
         {
          "location": "((3, 2), 'left')",
          "q_value": 0,
          "run": 88
         },
         {
          "location": "((3, 2), 'left')",
          "q_value": 0,
          "run": 89
         },
         {
          "location": "((3, 2), 'left')",
          "q_value": 0,
          "run": 90
         },
         {
          "location": "((3, 2), 'left')",
          "q_value": 0,
          "run": 91
         },
         {
          "location": "((3, 2), 'left')",
          "q_value": 0,
          "run": 92
         },
         {
          "location": "((3, 2), 'left')",
          "q_value": 0,
          "run": 93
         },
         {
          "location": "((3, 2), 'left')",
          "q_value": 0,
          "run": 94
         },
         {
          "location": "((3, 2), 'left')",
          "q_value": 0,
          "run": 95
         },
         {
          "location": "((3, 2), 'left')",
          "q_value": 0,
          "run": 96
         },
         {
          "location": "((3, 2), 'left')",
          "q_value": 0,
          "run": 97
         },
         {
          "location": "((3, 2), 'left')",
          "q_value": 0,
          "run": 98
         },
         {
          "location": "((3, 2), 'left')",
          "q_value": 0,
          "run": 99
         },
         {
          "location": "((3, 2), 'left')",
          "q_value": 0,
          "run": 100
         },
         {
          "location": "((3, 3), 'down')",
          "q_value": 0,
          "run": 0
         },
         {
          "location": "((3, 3), 'down')",
          "q_value": 0,
          "run": 1
         },
         {
          "location": "((3, 3), 'down')",
          "q_value": 0,
          "run": 2
         },
         {
          "location": "((3, 3), 'down')",
          "q_value": 0,
          "run": 3
         },
         {
          "location": "((3, 3), 'down')",
          "q_value": 0,
          "run": 4
         },
         {
          "location": "((3, 3), 'down')",
          "q_value": 0,
          "run": 5
         },
         {
          "location": "((3, 3), 'down')",
          "q_value": 0,
          "run": 6
         },
         {
          "location": "((3, 3), 'down')",
          "q_value": 0,
          "run": 7
         },
         {
          "location": "((3, 3), 'down')",
          "q_value": 0,
          "run": 8
         },
         {
          "location": "((3, 3), 'down')",
          "q_value": 0,
          "run": 9
         },
         {
          "location": "((3, 3), 'down')",
          "q_value": 0,
          "run": 10
         },
         {
          "location": "((3, 3), 'down')",
          "q_value": 0,
          "run": 11
         },
         {
          "location": "((3, 3), 'down')",
          "q_value": 0,
          "run": 12
         },
         {
          "location": "((3, 3), 'down')",
          "q_value": 0,
          "run": 13
         },
         {
          "location": "((3, 3), 'down')",
          "q_value": 0,
          "run": 14
         },
         {
          "location": "((3, 3), 'down')",
          "q_value": 0,
          "run": 15
         },
         {
          "location": "((3, 3), 'down')",
          "q_value": 0,
          "run": 16
         },
         {
          "location": "((3, 3), 'down')",
          "q_value": 0,
          "run": 17
         },
         {
          "location": "((3, 3), 'down')",
          "q_value": 0,
          "run": 18
         },
         {
          "location": "((3, 3), 'down')",
          "q_value": 0,
          "run": 19
         },
         {
          "location": "((3, 3), 'down')",
          "q_value": 0,
          "run": 20
         },
         {
          "location": "((3, 3), 'down')",
          "q_value": 0,
          "run": 21
         },
         {
          "location": "((3, 3), 'down')",
          "q_value": 0,
          "run": 22
         },
         {
          "location": "((3, 3), 'down')",
          "q_value": 0,
          "run": 23
         },
         {
          "location": "((3, 3), 'down')",
          "q_value": 0,
          "run": 24
         },
         {
          "location": "((3, 3), 'down')",
          "q_value": 0,
          "run": 25
         },
         {
          "location": "((3, 3), 'down')",
          "q_value": 0,
          "run": 26
         },
         {
          "location": "((3, 3), 'down')",
          "q_value": 0,
          "run": 27
         },
         {
          "location": "((3, 3), 'down')",
          "q_value": 0,
          "run": 28
         },
         {
          "location": "((3, 3), 'down')",
          "q_value": 0,
          "run": 29
         },
         {
          "location": "((3, 3), 'down')",
          "q_value": 0,
          "run": 30
         },
         {
          "location": "((3, 3), 'down')",
          "q_value": 0,
          "run": 31
         },
         {
          "location": "((3, 3), 'down')",
          "q_value": 0,
          "run": 32
         },
         {
          "location": "((3, 3), 'down')",
          "q_value": 0,
          "run": 33
         },
         {
          "location": "((3, 3), 'down')",
          "q_value": 0,
          "run": 34
         },
         {
          "location": "((3, 3), 'down')",
          "q_value": 0,
          "run": 35
         },
         {
          "location": "((3, 3), 'down')",
          "q_value": 0,
          "run": 36
         },
         {
          "location": "((3, 3), 'down')",
          "q_value": 0,
          "run": 37
         },
         {
          "location": "((3, 3), 'down')",
          "q_value": 0,
          "run": 38
         },
         {
          "location": "((3, 3), 'down')",
          "q_value": 0,
          "run": 39
         },
         {
          "location": "((3, 3), 'down')",
          "q_value": 0,
          "run": 40
         },
         {
          "location": "((3, 3), 'down')",
          "q_value": 0,
          "run": 41
         },
         {
          "location": "((3, 3), 'down')",
          "q_value": 0,
          "run": 42
         },
         {
          "location": "((3, 3), 'down')",
          "q_value": 0,
          "run": 43
         },
         {
          "location": "((3, 3), 'down')",
          "q_value": 0,
          "run": 44
         },
         {
          "location": "((3, 3), 'down')",
          "q_value": 0,
          "run": 45
         },
         {
          "location": "((3, 3), 'down')",
          "q_value": 0,
          "run": 46
         },
         {
          "location": "((3, 3), 'down')",
          "q_value": 0,
          "run": 47
         },
         {
          "location": "((3, 3), 'down')",
          "q_value": 0,
          "run": 48
         },
         {
          "location": "((3, 3), 'down')",
          "q_value": 0,
          "run": 49
         },
         {
          "location": "((3, 3), 'down')",
          "q_value": 0,
          "run": 50
         },
         {
          "location": "((3, 3), 'down')",
          "q_value": 0,
          "run": 51
         },
         {
          "location": "((3, 3), 'down')",
          "q_value": 0,
          "run": 52
         },
         {
          "location": "((3, 3), 'down')",
          "q_value": 0,
          "run": 53
         },
         {
          "location": "((3, 3), 'down')",
          "q_value": 0,
          "run": 54
         },
         {
          "location": "((3, 3), 'down')",
          "q_value": 0,
          "run": 55
         },
         {
          "location": "((3, 3), 'down')",
          "q_value": 0,
          "run": 56
         },
         {
          "location": "((3, 3), 'down')",
          "q_value": 0,
          "run": 57
         },
         {
          "location": "((3, 3), 'down')",
          "q_value": 0,
          "run": 58
         },
         {
          "location": "((3, 3), 'down')",
          "q_value": 0,
          "run": 59
         },
         {
          "location": "((3, 3), 'down')",
          "q_value": 0,
          "run": 60
         },
         {
          "location": "((3, 3), 'down')",
          "q_value": 0,
          "run": 61
         },
         {
          "location": "((3, 3), 'down')",
          "q_value": 0,
          "run": 62
         },
         {
          "location": "((3, 3), 'down')",
          "q_value": 0,
          "run": 63
         },
         {
          "location": "((3, 3), 'down')",
          "q_value": 0,
          "run": 64
         },
         {
          "location": "((3, 3), 'down')",
          "q_value": 0,
          "run": 65
         },
         {
          "location": "((3, 3), 'down')",
          "q_value": 0,
          "run": 66
         },
         {
          "location": "((3, 3), 'down')",
          "q_value": 0,
          "run": 67
         },
         {
          "location": "((3, 3), 'down')",
          "q_value": 0,
          "run": 68
         },
         {
          "location": "((3, 3), 'down')",
          "q_value": 0,
          "run": 69
         },
         {
          "location": "((3, 3), 'down')",
          "q_value": 0,
          "run": 70
         },
         {
          "location": "((3, 3), 'down')",
          "q_value": 0,
          "run": 71
         },
         {
          "location": "((3, 3), 'down')",
          "q_value": 0,
          "run": 72
         },
         {
          "location": "((3, 3), 'down')",
          "q_value": 0,
          "run": 73
         },
         {
          "location": "((3, 3), 'down')",
          "q_value": 0,
          "run": 74
         },
         {
          "location": "((3, 3), 'down')",
          "q_value": 0,
          "run": 75
         },
         {
          "location": "((3, 3), 'down')",
          "q_value": 0,
          "run": 76
         },
         {
          "location": "((3, 3), 'down')",
          "q_value": 0,
          "run": 77
         },
         {
          "location": "((3, 3), 'down')",
          "q_value": 0,
          "run": 78
         },
         {
          "location": "((3, 3), 'down')",
          "q_value": 0,
          "run": 79
         },
         {
          "location": "((3, 3), 'down')",
          "q_value": 0,
          "run": 80
         },
         {
          "location": "((3, 3), 'down')",
          "q_value": 0,
          "run": 81
         },
         {
          "location": "((3, 3), 'down')",
          "q_value": 0,
          "run": 82
         },
         {
          "location": "((3, 3), 'down')",
          "q_value": 0,
          "run": 83
         },
         {
          "location": "((3, 3), 'down')",
          "q_value": 0,
          "run": 84
         },
         {
          "location": "((3, 3), 'down')",
          "q_value": 0,
          "run": 85
         },
         {
          "location": "((3, 3), 'down')",
          "q_value": 0,
          "run": 86
         },
         {
          "location": "((3, 3), 'down')",
          "q_value": 0,
          "run": 87
         },
         {
          "location": "((3, 3), 'down')",
          "q_value": 0,
          "run": 88
         },
         {
          "location": "((3, 3), 'down')",
          "q_value": 0,
          "run": 89
         },
         {
          "location": "((3, 3), 'down')",
          "q_value": 0,
          "run": 90
         },
         {
          "location": "((3, 3), 'down')",
          "q_value": 0,
          "run": 91
         },
         {
          "location": "((3, 3), 'down')",
          "q_value": 0,
          "run": 92
         },
         {
          "location": "((3, 3), 'down')",
          "q_value": 0,
          "run": 93
         },
         {
          "location": "((3, 3), 'down')",
          "q_value": 0,
          "run": 94
         },
         {
          "location": "((3, 3), 'down')",
          "q_value": 0,
          "run": 95
         },
         {
          "location": "((3, 3), 'down')",
          "q_value": 0,
          "run": 96
         },
         {
          "location": "((3, 3), 'down')",
          "q_value": 0,
          "run": 97
         },
         {
          "location": "((3, 3), 'down')",
          "q_value": 0,
          "run": 98
         },
         {
          "location": "((3, 3), 'down')",
          "q_value": 0,
          "run": 99
         },
         {
          "location": "((3, 3), 'down')",
          "q_value": 0,
          "run": 100
         },
         {
          "location": "((3, 3), 'right')",
          "q_value": 0,
          "run": 0
         },
         {
          "location": "((3, 3), 'right')",
          "q_value": -0.19,
          "run": 1
         },
         {
          "location": "((3, 3), 'right')",
          "q_value": -0.19,
          "run": 2
         },
         {
          "location": "((3, 3), 'right')",
          "q_value": -0.19,
          "run": 3
         },
         {
          "location": "((3, 3), 'right')",
          "q_value": -0.19,
          "run": 4
         },
         {
          "location": "((3, 3), 'right')",
          "q_value": -0.19,
          "run": 5
         },
         {
          "location": "((3, 3), 'right')",
          "q_value": -0.19,
          "run": 6
         },
         {
          "location": "((3, 3), 'right')",
          "q_value": -0.19,
          "run": 7
         },
         {
          "location": "((3, 3), 'right')",
          "q_value": -0.19,
          "run": 8
         },
         {
          "location": "((3, 3), 'right')",
          "q_value": -0.19,
          "run": 9
         },
         {
          "location": "((3, 3), 'right')",
          "q_value": -0.19,
          "run": 10
         },
         {
          "location": "((3, 3), 'right')",
          "q_value": -0.19,
          "run": 11
         },
         {
          "location": "((3, 3), 'right')",
          "q_value": -0.19,
          "run": 12
         },
         {
          "location": "((3, 3), 'right')",
          "q_value": -0.19,
          "run": 13
         },
         {
          "location": "((3, 3), 'right')",
          "q_value": -0.19,
          "run": 14
         },
         {
          "location": "((3, 3), 'right')",
          "q_value": -0.19,
          "run": 15
         },
         {
          "location": "((3, 3), 'right')",
          "q_value": -0.19,
          "run": 16
         },
         {
          "location": "((3, 3), 'right')",
          "q_value": -0.19,
          "run": 17
         },
         {
          "location": "((3, 3), 'right')",
          "q_value": -0.19,
          "run": 18
         },
         {
          "location": "((3, 3), 'right')",
          "q_value": -0.19,
          "run": 19
         },
         {
          "location": "((3, 3), 'right')",
          "q_value": -0.19,
          "run": 20
         },
         {
          "location": "((3, 3), 'right')",
          "q_value": -0.19,
          "run": 21
         },
         {
          "location": "((3, 3), 'right')",
          "q_value": -0.19,
          "run": 22
         },
         {
          "location": "((3, 3), 'right')",
          "q_value": -0.19,
          "run": 23
         },
         {
          "location": "((3, 3), 'right')",
          "q_value": -0.19,
          "run": 24
         },
         {
          "location": "((3, 3), 'right')",
          "q_value": -0.19,
          "run": 25
         },
         {
          "location": "((3, 3), 'right')",
          "q_value": -0.19,
          "run": 26
         },
         {
          "location": "((3, 3), 'right')",
          "q_value": -0.19,
          "run": 27
         },
         {
          "location": "((3, 3), 'right')",
          "q_value": -0.19,
          "run": 28
         },
         {
          "location": "((3, 3), 'right')",
          "q_value": -0.19,
          "run": 29
         },
         {
          "location": "((3, 3), 'right')",
          "q_value": -0.19,
          "run": 30
         },
         {
          "location": "((3, 3), 'right')",
          "q_value": -0.19,
          "run": 31
         },
         {
          "location": "((3, 3), 'right')",
          "q_value": -0.19,
          "run": 32
         },
         {
          "location": "((3, 3), 'right')",
          "q_value": -0.19,
          "run": 33
         },
         {
          "location": "((3, 3), 'right')",
          "q_value": -0.19,
          "run": 34
         },
         {
          "location": "((3, 3), 'right')",
          "q_value": -0.19,
          "run": 35
         },
         {
          "location": "((3, 3), 'right')",
          "q_value": -0.19,
          "run": 36
         },
         {
          "location": "((3, 3), 'right')",
          "q_value": -0.19,
          "run": 37
         },
         {
          "location": "((3, 3), 'right')",
          "q_value": -0.19,
          "run": 38
         },
         {
          "location": "((3, 3), 'right')",
          "q_value": -0.19,
          "run": 39
         },
         {
          "location": "((3, 3), 'right')",
          "q_value": -0.19,
          "run": 40
         },
         {
          "location": "((3, 3), 'right')",
          "q_value": -0.19,
          "run": 41
         },
         {
          "location": "((3, 3), 'right')",
          "q_value": -0.19,
          "run": 42
         },
         {
          "location": "((3, 3), 'right')",
          "q_value": -0.19,
          "run": 43
         },
         {
          "location": "((3, 3), 'right')",
          "q_value": -0.19,
          "run": 44
         },
         {
          "location": "((3, 3), 'right')",
          "q_value": -0.19,
          "run": 45
         },
         {
          "location": "((3, 3), 'right')",
          "q_value": -0.19,
          "run": 46
         },
         {
          "location": "((3, 3), 'right')",
          "q_value": -0.19,
          "run": 47
         },
         {
          "location": "((3, 3), 'right')",
          "q_value": -0.19,
          "run": 48
         },
         {
          "location": "((3, 3), 'right')",
          "q_value": -0.19,
          "run": 49
         },
         {
          "location": "((3, 3), 'right')",
          "q_value": -0.19,
          "run": 50
         },
         {
          "location": "((3, 3), 'right')",
          "q_value": -0.19,
          "run": 51
         },
         {
          "location": "((3, 3), 'right')",
          "q_value": -0.19,
          "run": 52
         },
         {
          "location": "((3, 3), 'right')",
          "q_value": -0.19,
          "run": 53
         },
         {
          "location": "((3, 3), 'right')",
          "q_value": -0.19,
          "run": 54
         },
         {
          "location": "((3, 3), 'right')",
          "q_value": -0.19,
          "run": 55
         },
         {
          "location": "((3, 3), 'right')",
          "q_value": -0.19,
          "run": 56
         },
         {
          "location": "((3, 3), 'right')",
          "q_value": -0.19,
          "run": 57
         },
         {
          "location": "((3, 3), 'right')",
          "q_value": -0.19,
          "run": 58
         },
         {
          "location": "((3, 3), 'right')",
          "q_value": -0.19,
          "run": 59
         },
         {
          "location": "((3, 3), 'right')",
          "q_value": -0.19,
          "run": 60
         },
         {
          "location": "((3, 3), 'right')",
          "q_value": -0.19,
          "run": 61
         },
         {
          "location": "((3, 3), 'right')",
          "q_value": -0.19,
          "run": 62
         },
         {
          "location": "((3, 3), 'right')",
          "q_value": -0.19,
          "run": 63
         },
         {
          "location": "((3, 3), 'right')",
          "q_value": -0.19,
          "run": 64
         },
         {
          "location": "((3, 3), 'right')",
          "q_value": -0.19,
          "run": 65
         },
         {
          "location": "((3, 3), 'right')",
          "q_value": -0.19,
          "run": 66
         },
         {
          "location": "((3, 3), 'right')",
          "q_value": -0.19,
          "run": 67
         },
         {
          "location": "((3, 3), 'right')",
          "q_value": -0.19,
          "run": 68
         },
         {
          "location": "((3, 3), 'right')",
          "q_value": -0.19,
          "run": 69
         },
         {
          "location": "((3, 3), 'right')",
          "q_value": -0.19,
          "run": 70
         },
         {
          "location": "((3, 3), 'right')",
          "q_value": -0.19,
          "run": 71
         },
         {
          "location": "((3, 3), 'right')",
          "q_value": -0.19,
          "run": 72
         },
         {
          "location": "((3, 3), 'right')",
          "q_value": -0.19,
          "run": 73
         },
         {
          "location": "((3, 3), 'right')",
          "q_value": -0.19,
          "run": 74
         },
         {
          "location": "((3, 3), 'right')",
          "q_value": -0.19,
          "run": 75
         },
         {
          "location": "((3, 3), 'right')",
          "q_value": -0.19,
          "run": 76
         },
         {
          "location": "((3, 3), 'right')",
          "q_value": -0.19,
          "run": 77
         },
         {
          "location": "((3, 3), 'right')",
          "q_value": -0.19,
          "run": 78
         },
         {
          "location": "((3, 3), 'right')",
          "q_value": -0.19,
          "run": 79
         },
         {
          "location": "((3, 3), 'right')",
          "q_value": -0.19,
          "run": 80
         },
         {
          "location": "((3, 3), 'right')",
          "q_value": -0.19,
          "run": 81
         },
         {
          "location": "((3, 3), 'right')",
          "q_value": -0.19,
          "run": 82
         },
         {
          "location": "((3, 3), 'right')",
          "q_value": -0.19,
          "run": 83
         },
         {
          "location": "((3, 3), 'right')",
          "q_value": -0.19,
          "run": 84
         },
         {
          "location": "((3, 3), 'right')",
          "q_value": -0.19,
          "run": 85
         },
         {
          "location": "((3, 3), 'right')",
          "q_value": -0.19,
          "run": 86
         },
         {
          "location": "((3, 3), 'right')",
          "q_value": -0.19,
          "run": 87
         },
         {
          "location": "((3, 3), 'right')",
          "q_value": -0.19,
          "run": 88
         },
         {
          "location": "((3, 3), 'right')",
          "q_value": -0.19,
          "run": 89
         },
         {
          "location": "((3, 3), 'right')",
          "q_value": -0.19,
          "run": 90
         },
         {
          "location": "((3, 3), 'right')",
          "q_value": -0.19,
          "run": 91
         },
         {
          "location": "((3, 3), 'right')",
          "q_value": -0.19,
          "run": 92
         },
         {
          "location": "((3, 3), 'right')",
          "q_value": -0.19,
          "run": 93
         },
         {
          "location": "((3, 3), 'right')",
          "q_value": -0.19,
          "run": 94
         },
         {
          "location": "((3, 3), 'right')",
          "q_value": -0.19,
          "run": 95
         },
         {
          "location": "((3, 3), 'right')",
          "q_value": -0.19,
          "run": 96
         },
         {
          "location": "((3, 3), 'right')",
          "q_value": -0.19,
          "run": 97
         },
         {
          "location": "((3, 3), 'right')",
          "q_value": -0.19,
          "run": 98
         },
         {
          "location": "((3, 3), 'right')",
          "q_value": -0.19,
          "run": 99
         },
         {
          "location": "((3, 3), 'right')",
          "q_value": -0.19,
          "run": 100
         },
         {
          "location": "((3, 3), 'up')",
          "q_value": 0,
          "run": 0
         },
         {
          "location": "((3, 3), 'up')",
          "q_value": 0,
          "run": 1
         },
         {
          "location": "((3, 3), 'up')",
          "q_value": 0,
          "run": 2
         },
         {
          "location": "((3, 3), 'up')",
          "q_value": 0,
          "run": 3
         },
         {
          "location": "((3, 3), 'up')",
          "q_value": 0,
          "run": 4
         },
         {
          "location": "((3, 3), 'up')",
          "q_value": 0,
          "run": 5
         },
         {
          "location": "((3, 3), 'up')",
          "q_value": 0,
          "run": 6
         },
         {
          "location": "((3, 3), 'up')",
          "q_value": 0,
          "run": 7
         },
         {
          "location": "((3, 3), 'up')",
          "q_value": 0,
          "run": 8
         },
         {
          "location": "((3, 3), 'up')",
          "q_value": 0,
          "run": 9
         },
         {
          "location": "((3, 3), 'up')",
          "q_value": 0,
          "run": 10
         },
         {
          "location": "((3, 3), 'up')",
          "q_value": 0,
          "run": 11
         },
         {
          "location": "((3, 3), 'up')",
          "q_value": 0,
          "run": 12
         },
         {
          "location": "((3, 3), 'up')",
          "q_value": 0,
          "run": 13
         },
         {
          "location": "((3, 3), 'up')",
          "q_value": 0,
          "run": 14
         },
         {
          "location": "((3, 3), 'up')",
          "q_value": 0,
          "run": 15
         },
         {
          "location": "((3, 3), 'up')",
          "q_value": 0,
          "run": 16
         },
         {
          "location": "((3, 3), 'up')",
          "q_value": 0,
          "run": 17
         },
         {
          "location": "((3, 3), 'up')",
          "q_value": 0,
          "run": 18
         },
         {
          "location": "((3, 3), 'up')",
          "q_value": 0,
          "run": 19
         },
         {
          "location": "((3, 3), 'up')",
          "q_value": 0,
          "run": 20
         },
         {
          "location": "((3, 3), 'up')",
          "q_value": 0,
          "run": 21
         },
         {
          "location": "((3, 3), 'up')",
          "q_value": 0,
          "run": 22
         },
         {
          "location": "((3, 3), 'up')",
          "q_value": 0,
          "run": 23
         },
         {
          "location": "((3, 3), 'up')",
          "q_value": 0,
          "run": 24
         },
         {
          "location": "((3, 3), 'up')",
          "q_value": 0,
          "run": 25
         },
         {
          "location": "((3, 3), 'up')",
          "q_value": 0,
          "run": 26
         },
         {
          "location": "((3, 3), 'up')",
          "q_value": 0,
          "run": 27
         },
         {
          "location": "((3, 3), 'up')",
          "q_value": 0,
          "run": 28
         },
         {
          "location": "((3, 3), 'up')",
          "q_value": 0,
          "run": 29
         },
         {
          "location": "((3, 3), 'up')",
          "q_value": 0,
          "run": 30
         },
         {
          "location": "((3, 3), 'up')",
          "q_value": 0,
          "run": 31
         },
         {
          "location": "((3, 3), 'up')",
          "q_value": 0,
          "run": 32
         },
         {
          "location": "((3, 3), 'up')",
          "q_value": 0,
          "run": 33
         },
         {
          "location": "((3, 3), 'up')",
          "q_value": 0,
          "run": 34
         },
         {
          "location": "((3, 3), 'up')",
          "q_value": 0,
          "run": 35
         },
         {
          "location": "((3, 3), 'up')",
          "q_value": 0,
          "run": 36
         },
         {
          "location": "((3, 3), 'up')",
          "q_value": 0,
          "run": 37
         },
         {
          "location": "((3, 3), 'up')",
          "q_value": 0,
          "run": 38
         },
         {
          "location": "((3, 3), 'up')",
          "q_value": 0,
          "run": 39
         },
         {
          "location": "((3, 3), 'up')",
          "q_value": 0,
          "run": 40
         },
         {
          "location": "((3, 3), 'up')",
          "q_value": 0,
          "run": 41
         },
         {
          "location": "((3, 3), 'up')",
          "q_value": 0,
          "run": 42
         },
         {
          "location": "((3, 3), 'up')",
          "q_value": 0,
          "run": 43
         },
         {
          "location": "((3, 3), 'up')",
          "q_value": 0,
          "run": 44
         },
         {
          "location": "((3, 3), 'up')",
          "q_value": 0,
          "run": 45
         },
         {
          "location": "((3, 3), 'up')",
          "q_value": 0,
          "run": 46
         },
         {
          "location": "((3, 3), 'up')",
          "q_value": 0,
          "run": 47
         },
         {
          "location": "((3, 3), 'up')",
          "q_value": 0,
          "run": 48
         },
         {
          "location": "((3, 3), 'up')",
          "q_value": 0,
          "run": 49
         },
         {
          "location": "((3, 3), 'up')",
          "q_value": 0,
          "run": 50
         },
         {
          "location": "((3, 3), 'up')",
          "q_value": 0,
          "run": 51
         },
         {
          "location": "((3, 3), 'up')",
          "q_value": 0,
          "run": 52
         },
         {
          "location": "((3, 3), 'up')",
          "q_value": 0,
          "run": 53
         },
         {
          "location": "((3, 3), 'up')",
          "q_value": 0,
          "run": 54
         },
         {
          "location": "((3, 3), 'up')",
          "q_value": 0,
          "run": 55
         },
         {
          "location": "((3, 3), 'up')",
          "q_value": 0,
          "run": 56
         },
         {
          "location": "((3, 3), 'up')",
          "q_value": 0,
          "run": 57
         },
         {
          "location": "((3, 3), 'up')",
          "q_value": 0,
          "run": 58
         },
         {
          "location": "((3, 3), 'up')",
          "q_value": 0,
          "run": 59
         },
         {
          "location": "((3, 3), 'up')",
          "q_value": 0,
          "run": 60
         },
         {
          "location": "((3, 3), 'up')",
          "q_value": 0,
          "run": 61
         },
         {
          "location": "((3, 3), 'up')",
          "q_value": 0,
          "run": 62
         },
         {
          "location": "((3, 3), 'up')",
          "q_value": 0,
          "run": 63
         },
         {
          "location": "((3, 3), 'up')",
          "q_value": 0,
          "run": 64
         },
         {
          "location": "((3, 3), 'up')",
          "q_value": 0,
          "run": 65
         },
         {
          "location": "((3, 3), 'up')",
          "q_value": 0,
          "run": 66
         },
         {
          "location": "((3, 3), 'up')",
          "q_value": 0,
          "run": 67
         },
         {
          "location": "((3, 3), 'up')",
          "q_value": 0,
          "run": 68
         },
         {
          "location": "((3, 3), 'up')",
          "q_value": 0,
          "run": 69
         },
         {
          "location": "((3, 3), 'up')",
          "q_value": 0,
          "run": 70
         },
         {
          "location": "((3, 3), 'up')",
          "q_value": 0,
          "run": 71
         },
         {
          "location": "((3, 3), 'up')",
          "q_value": 0,
          "run": 72
         },
         {
          "location": "((3, 3), 'up')",
          "q_value": 0,
          "run": 73
         },
         {
          "location": "((3, 3), 'up')",
          "q_value": 0,
          "run": 74
         },
         {
          "location": "((3, 3), 'up')",
          "q_value": 0,
          "run": 75
         },
         {
          "location": "((3, 3), 'up')",
          "q_value": 0,
          "run": 76
         },
         {
          "location": "((3, 3), 'up')",
          "q_value": 0,
          "run": 77
         },
         {
          "location": "((3, 3), 'up')",
          "q_value": 0,
          "run": 78
         },
         {
          "location": "((3, 3), 'up')",
          "q_value": 0,
          "run": 79
         },
         {
          "location": "((3, 3), 'up')",
          "q_value": 0,
          "run": 80
         },
         {
          "location": "((3, 3), 'up')",
          "q_value": 0,
          "run": 81
         },
         {
          "location": "((3, 3), 'up')",
          "q_value": 0,
          "run": 82
         },
         {
          "location": "((3, 3), 'up')",
          "q_value": 0,
          "run": 83
         },
         {
          "location": "((3, 3), 'up')",
          "q_value": 0,
          "run": 84
         },
         {
          "location": "((3, 3), 'up')",
          "q_value": 0,
          "run": 85
         },
         {
          "location": "((3, 3), 'up')",
          "q_value": 0,
          "run": 86
         },
         {
          "location": "((3, 3), 'up')",
          "q_value": 0,
          "run": 87
         },
         {
          "location": "((3, 3), 'up')",
          "q_value": 0,
          "run": 88
         },
         {
          "location": "((3, 3), 'up')",
          "q_value": 0,
          "run": 89
         },
         {
          "location": "((3, 3), 'up')",
          "q_value": 0,
          "run": 90
         },
         {
          "location": "((3, 3), 'up')",
          "q_value": 0,
          "run": 91
         },
         {
          "location": "((3, 3), 'up')",
          "q_value": 0,
          "run": 92
         },
         {
          "location": "((3, 3), 'up')",
          "q_value": 0,
          "run": 93
         },
         {
          "location": "((3, 3), 'up')",
          "q_value": 0,
          "run": 94
         },
         {
          "location": "((3, 3), 'up')",
          "q_value": 0,
          "run": 95
         },
         {
          "location": "((3, 3), 'up')",
          "q_value": 0,
          "run": 96
         },
         {
          "location": "((3, 3), 'up')",
          "q_value": 0,
          "run": 97
         },
         {
          "location": "((3, 3), 'up')",
          "q_value": 0,
          "run": 98
         },
         {
          "location": "((3, 3), 'up')",
          "q_value": 0,
          "run": 99
         },
         {
          "location": "((3, 3), 'up')",
          "q_value": 0,
          "run": 100
         },
         {
          "location": "((3, 3), 'left')",
          "q_value": 0,
          "run": 0
         },
         {
          "location": "((3, 3), 'left')",
          "q_value": 0,
          "run": 1
         },
         {
          "location": "((3, 3), 'left')",
          "q_value": 0,
          "run": 2
         },
         {
          "location": "((3, 3), 'left')",
          "q_value": 0,
          "run": 3
         },
         {
          "location": "((3, 3), 'left')",
          "q_value": 0,
          "run": 4
         },
         {
          "location": "((3, 3), 'left')",
          "q_value": 0,
          "run": 5
         },
         {
          "location": "((3, 3), 'left')",
          "q_value": 0,
          "run": 6
         },
         {
          "location": "((3, 3), 'left')",
          "q_value": 0,
          "run": 7
         },
         {
          "location": "((3, 3), 'left')",
          "q_value": 0,
          "run": 8
         },
         {
          "location": "((3, 3), 'left')",
          "q_value": 0,
          "run": 9
         },
         {
          "location": "((3, 3), 'left')",
          "q_value": 0,
          "run": 10
         },
         {
          "location": "((3, 3), 'left')",
          "q_value": 0,
          "run": 11
         },
         {
          "location": "((3, 3), 'left')",
          "q_value": 0,
          "run": 12
         },
         {
          "location": "((3, 3), 'left')",
          "q_value": 0,
          "run": 13
         },
         {
          "location": "((3, 3), 'left')",
          "q_value": 0,
          "run": 14
         },
         {
          "location": "((3, 3), 'left')",
          "q_value": 0,
          "run": 15
         },
         {
          "location": "((3, 3), 'left')",
          "q_value": 0,
          "run": 16
         },
         {
          "location": "((3, 3), 'left')",
          "q_value": 0,
          "run": 17
         },
         {
          "location": "((3, 3), 'left')",
          "q_value": 0,
          "run": 18
         },
         {
          "location": "((3, 3), 'left')",
          "q_value": 0,
          "run": 19
         },
         {
          "location": "((3, 3), 'left')",
          "q_value": 0,
          "run": 20
         },
         {
          "location": "((3, 3), 'left')",
          "q_value": 0,
          "run": 21
         },
         {
          "location": "((3, 3), 'left')",
          "q_value": 0,
          "run": 22
         },
         {
          "location": "((3, 3), 'left')",
          "q_value": 0,
          "run": 23
         },
         {
          "location": "((3, 3), 'left')",
          "q_value": 0,
          "run": 24
         },
         {
          "location": "((3, 3), 'left')",
          "q_value": 0,
          "run": 25
         },
         {
          "location": "((3, 3), 'left')",
          "q_value": 0,
          "run": 26
         },
         {
          "location": "((3, 3), 'left')",
          "q_value": 0,
          "run": 27
         },
         {
          "location": "((3, 3), 'left')",
          "q_value": 0,
          "run": 28
         },
         {
          "location": "((3, 3), 'left')",
          "q_value": 0,
          "run": 29
         },
         {
          "location": "((3, 3), 'left')",
          "q_value": 0,
          "run": 30
         },
         {
          "location": "((3, 3), 'left')",
          "q_value": 0,
          "run": 31
         },
         {
          "location": "((3, 3), 'left')",
          "q_value": 0,
          "run": 32
         },
         {
          "location": "((3, 3), 'left')",
          "q_value": 0,
          "run": 33
         },
         {
          "location": "((3, 3), 'left')",
          "q_value": 0,
          "run": 34
         },
         {
          "location": "((3, 3), 'left')",
          "q_value": 0,
          "run": 35
         },
         {
          "location": "((3, 3), 'left')",
          "q_value": 0,
          "run": 36
         },
         {
          "location": "((3, 3), 'left')",
          "q_value": 0,
          "run": 37
         },
         {
          "location": "((3, 3), 'left')",
          "q_value": 0,
          "run": 38
         },
         {
          "location": "((3, 3), 'left')",
          "q_value": 0,
          "run": 39
         },
         {
          "location": "((3, 3), 'left')",
          "q_value": 0,
          "run": 40
         },
         {
          "location": "((3, 3), 'left')",
          "q_value": 0,
          "run": 41
         },
         {
          "location": "((3, 3), 'left')",
          "q_value": 0,
          "run": 42
         },
         {
          "location": "((3, 3), 'left')",
          "q_value": 0,
          "run": 43
         },
         {
          "location": "((3, 3), 'left')",
          "q_value": 0,
          "run": 44
         },
         {
          "location": "((3, 3), 'left')",
          "q_value": 0,
          "run": 45
         },
         {
          "location": "((3, 3), 'left')",
          "q_value": 0,
          "run": 46
         },
         {
          "location": "((3, 3), 'left')",
          "q_value": 0,
          "run": 47
         },
         {
          "location": "((3, 3), 'left')",
          "q_value": 0,
          "run": 48
         },
         {
          "location": "((3, 3), 'left')",
          "q_value": 0,
          "run": 49
         },
         {
          "location": "((3, 3), 'left')",
          "q_value": 0,
          "run": 50
         },
         {
          "location": "((3, 3), 'left')",
          "q_value": 0,
          "run": 51
         },
         {
          "location": "((3, 3), 'left')",
          "q_value": 0,
          "run": 52
         },
         {
          "location": "((3, 3), 'left')",
          "q_value": 0,
          "run": 53
         },
         {
          "location": "((3, 3), 'left')",
          "q_value": 0,
          "run": 54
         },
         {
          "location": "((3, 3), 'left')",
          "q_value": 0,
          "run": 55
         },
         {
          "location": "((3, 3), 'left')",
          "q_value": 0,
          "run": 56
         },
         {
          "location": "((3, 3), 'left')",
          "q_value": 0,
          "run": 57
         },
         {
          "location": "((3, 3), 'left')",
          "q_value": 0,
          "run": 58
         },
         {
          "location": "((3, 3), 'left')",
          "q_value": 0,
          "run": 59
         },
         {
          "location": "((3, 3), 'left')",
          "q_value": 0,
          "run": 60
         },
         {
          "location": "((3, 3), 'left')",
          "q_value": 0,
          "run": 61
         },
         {
          "location": "((3, 3), 'left')",
          "q_value": 0,
          "run": 62
         },
         {
          "location": "((3, 3), 'left')",
          "q_value": 0,
          "run": 63
         },
         {
          "location": "((3, 3), 'left')",
          "q_value": 0,
          "run": 64
         },
         {
          "location": "((3, 3), 'left')",
          "q_value": 0,
          "run": 65
         },
         {
          "location": "((3, 3), 'left')",
          "q_value": 0,
          "run": 66
         },
         {
          "location": "((3, 3), 'left')",
          "q_value": 0,
          "run": 67
         },
         {
          "location": "((3, 3), 'left')",
          "q_value": 0,
          "run": 68
         },
         {
          "location": "((3, 3), 'left')",
          "q_value": 0,
          "run": 69
         },
         {
          "location": "((3, 3), 'left')",
          "q_value": 0,
          "run": 70
         },
         {
          "location": "((3, 3), 'left')",
          "q_value": 0,
          "run": 71
         },
         {
          "location": "((3, 3), 'left')",
          "q_value": 0,
          "run": 72
         },
         {
          "location": "((3, 3), 'left')",
          "q_value": 0,
          "run": 73
         },
         {
          "location": "((3, 3), 'left')",
          "q_value": 0,
          "run": 74
         },
         {
          "location": "((3, 3), 'left')",
          "q_value": 0,
          "run": 75
         },
         {
          "location": "((3, 3), 'left')",
          "q_value": 0,
          "run": 76
         },
         {
          "location": "((3, 3), 'left')",
          "q_value": 0,
          "run": 77
         },
         {
          "location": "((3, 3), 'left')",
          "q_value": 0,
          "run": 78
         },
         {
          "location": "((3, 3), 'left')",
          "q_value": 0,
          "run": 79
         },
         {
          "location": "((3, 3), 'left')",
          "q_value": 0,
          "run": 80
         },
         {
          "location": "((3, 3), 'left')",
          "q_value": 0,
          "run": 81
         },
         {
          "location": "((3, 3), 'left')",
          "q_value": 0,
          "run": 82
         },
         {
          "location": "((3, 3), 'left')",
          "q_value": 0,
          "run": 83
         },
         {
          "location": "((3, 3), 'left')",
          "q_value": 0,
          "run": 84
         },
         {
          "location": "((3, 3), 'left')",
          "q_value": 0,
          "run": 85
         },
         {
          "location": "((3, 3), 'left')",
          "q_value": 0,
          "run": 86
         },
         {
          "location": "((3, 3), 'left')",
          "q_value": 0,
          "run": 87
         },
         {
          "location": "((3, 3), 'left')",
          "q_value": 0,
          "run": 88
         },
         {
          "location": "((3, 3), 'left')",
          "q_value": 0,
          "run": 89
         },
         {
          "location": "((3, 3), 'left')",
          "q_value": 0,
          "run": 90
         },
         {
          "location": "((3, 3), 'left')",
          "q_value": 0,
          "run": 91
         },
         {
          "location": "((3, 3), 'left')",
          "q_value": 0,
          "run": 92
         },
         {
          "location": "((3, 3), 'left')",
          "q_value": 0,
          "run": 93
         },
         {
          "location": "((3, 3), 'left')",
          "q_value": 0,
          "run": 94
         },
         {
          "location": "((3, 3), 'left')",
          "q_value": 0,
          "run": 95
         },
         {
          "location": "((3, 3), 'left')",
          "q_value": 0,
          "run": 96
         },
         {
          "location": "((3, 3), 'left')",
          "q_value": 0,
          "run": 97
         },
         {
          "location": "((3, 3), 'left')",
          "q_value": 0,
          "run": 98
         },
         {
          "location": "((3, 3), 'left')",
          "q_value": 0,
          "run": 99
         },
         {
          "location": "((3, 3), 'left')",
          "q_value": 0,
          "run": 100
         }
        ]
       },
       "encoding": {
        "x": {
         "field": "location",
         "type": "nominal"
        },
        "y": {
         "field": "q_value",
         "scale": {
          "domain": [
           0,
           11
          ]
         },
         "type": "quantitative"
        }
       },
       "mark": "bar",
       "selection": {
        "iteration": {
         "bind": {
          "input": "range",
          "max": 100,
          "min": 1,
          "step": 1
         },
         "empty": "all",
         "fields": [
          "run"
         ],
         "on": "click",
         "resolve": "global",
         "type": "single"
        }
       },
       "transform": [
        {
         "filter": {
          "selection": "iteration"
         }
        }
       ]
      },
      "image/png": "[encoded data removed]",
      "text/plain": [
       "<VegaLite 2 object>\n",
       "\n",
       "If you see this message, it means the renderer has not been properly enabled\n",
       "for the frontend that you are using. For more information, see\n",
       "https://altair-viz.github.io/user_guide/troubleshooting.html\n"
      ]
     },
     "execution_count": 10,
     "metadata": {},
     "output_type": "execute_result"
    }
   ],
   "source": [
    "import altair as alt\n",
    "\n",
    "slider = alt.binding_range(min=1, max=100, step=1)\n",
    "select_run = alt.selection_single(name=\"iteration\", fields=['run'], bind=slider)\n",
    "alt.data_transformers.enable('default', max_rows=None)\n",
    "alt.Chart(df).mark_bar().encode(\n",
    "    x='location:N',\n",
    "    y=alt.Y('q_value:Q', scale=alt.Scale(domain=(0, 11))),\n",
    ").add_selection(\n",
    "    select_run\n",
    ").transform_filter(\n",
    "    select_run\n",
    ")"
   ]
  },
  {
   "cell_type": "code",
   "execution_count": null,
   "metadata": {},
   "outputs": [],
   "source": []
  }
 ],
 "metadata": {
  "kernelspec": {
   "display_name": "Python 3",
   "language": "python",
   "name": "python3"
  },
  "language_info": {
   "codemirror_mode": {
    "name": "ipython",
    "version": 3
   },
   "file_extension": ".py",
   "mimetype": "text/x-python",
   "name": "python",
   "nbconvert_exporter": "python",
   "pygments_lexer": "ipython3",
   "version": "3.6.4"
  }
 },
 "nbformat": 4,
 "nbformat_minor": 2
}
