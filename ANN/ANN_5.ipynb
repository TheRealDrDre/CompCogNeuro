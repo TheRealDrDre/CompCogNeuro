{
 "cells": [
  {
   "cell_type": "code",
   "execution_count": 35,
   "metadata": {},
   "outputs": [],
   "source": [
    "import numpy as np\n",
    "import matplotlib.pyplot as plt"
   ]
  },
  {
   "cell_type": "markdown",
   "metadata": {},
   "source": [
    "# Hopfield networks and Autoassociative Memories\n",
    "\n",
    "A Hopfield net is only defined by one parameter, $N_x$, which represents the number of neurons in it contains. "
   ]
  },
  {
   "cell_type": "code",
   "execution_count": 36,
   "metadata": {},
   "outputs": [],
   "source": [
    "n_x = 28"
   ]
  },
  {
   "cell_type": "markdown",
   "metadata": {},
   "source": [
    "### Implementing the network\n",
    "\n",
    "To implement the network, we need to define an input vector $x$ and a synpatic matrix $w$, as well as specific functions to compute the network's energy and activation. "
   ]
  },
  {
   "cell_type": "code",
   "execution_count": 37,
   "metadata": {},
   "outputs": [],
   "source": [
    "x = np.zeros((1, n_x))\n",
    "w = np.random.random((n_x, n_x))\n",
    "mask = np.ones((n_x, n_x))\n",
    "np.fill_diagonal(mask, 0)\n",
    "\n",
    "\n",
    "def error(p1, p2):\n",
    "    \"\"\"Calculates the error function\"\"\"\n",
    "    return 0.5 * np.sum(((p1 - p2) ** 2))\n",
    "\n",
    "\n",
    "def scalar_binary(input):\n",
    "    \"\"\"The binary function (-1, 1)\"\"\"\n",
    "    if input > 0:\n",
    "        return 1.0\n",
    "    else:\n",
    "        return -1.0\n",
    "    \n",
    "binary = np.vectorize(scalar_binary)\n",
    "\n",
    "def propagate():\n",
    "    \"\"\"Propagation in a Hopfield field\"\"\"\n",
    "    global x\n",
    "    inputs = x.dot(w * mask)\n",
    "    x = binary(inputs)\n",
    "    return energy()\n",
    "\n",
    "\n",
    "def energy():\n",
    "    \"\"\"Energy function\"\"\"\n",
    "    return np.sum(mask * w * x.T.dot(x)) / -2.0\n",
    "\n",
    "\n",
    "def set_input(i):\n",
    "    \"\"\"Sets the pattern corresponding to a single number as input\"\"\"\n",
    "    global x\n",
    "    x = pattern(i)\n",
    "\n",
    "    \n",
    "def activation(min_diff = 0.01, max_cycles = 1000):\n",
    "    \"\"\"Activation function for Hopfield nets\"\"\"\n",
    "    S = []\n",
    "    i = 1\n",
    "    previous_x = np.copy(x)\n",
    "    S.append((x, energy()))\n",
    "    \n",
    "    propagate()\n",
    "    diff = error(previous_x, x)\n",
    "    \n",
    "    S.append((x, energy()))\n",
    "    \n",
    "    while diff > min_diff and i < max_cycles:\n",
    "        previous_x = np.copy(x)\n",
    "        propagate()\n",
    "        S.append((x, energy()))\n",
    "        diff = error(previous_x, x)\n",
    "        i += 1\n",
    "        \n",
    "    return S"
   ]
  },
  {
   "cell_type": "markdown",
   "metadata": {},
   "source": [
    "## Attractor states and network dynamics"
   ]
  },
  {
   "cell_type": "code",
   "execution_count": 38,
   "metadata": {},
   "outputs": [
    {
     "name": "stdout",
     "output_type": "stream",
     "text": [
      "[[0.54084285 0.79072378 0.04979138 0.63022904 0.69991335 0.33694282\n",
      "  0.42019219 0.26171921 0.8478851  0.14361176 0.25190495 0.69172025\n",
      "  0.52755423 0.62519297 0.76131573 0.61105534 0.40702473 0.31921315\n",
      "  0.47889131 0.23905136 0.4261195  0.62423542 0.59114846 0.26198983\n",
      "  0.60815738 0.86448713 0.698104   0.82223418]]\n"
     ]
    },
    {
     "data": {
      "image/png": "[encoded data removed]",
      "text/plain": [
       "<Figure size 432x288 with 1 Axes>"
      ]
     },
     "metadata": {
      "needs_background": "light"
     },
     "output_type": "display_data"
    }
   ],
   "source": [
    "x = np.random.random((1,28)) \n",
    "w = np.random.random((28,28)) - 0.5\n",
    "print(x)\n",
    "S = activation(max_cycles=1000)\n",
    "\n",
    "E = [s[1] for s in S[:-1]]\n",
    "P = [s[0].reshape((7, 4)) for s in S[:-1]]\n",
    "\n",
    "N = len(S) - 1\n",
    "\n",
    "plt.plot(E)\n",
    "plt.axis([-0.5, N - 0.5, min(E) - 1, max(E) + 1])\n",
    "#plt.xticks(range(N), [\"%d\" % (x + 1) for x in range(N)])\n",
    "plt.title(\"Network energy after every update\")\n",
    "plt.xlabel(\"Network update\")\n",
    "plt.ylabel(\"Network energy\")\n",
    "plt.show()"
   ]
  },
  {
   "cell_type": "markdown",
   "metadata": {},
   "source": [
    "## Learning\n",
    "\n",
    "Learning in a Hopfield network happens in a single pass. Specifically, each synapse is updated as:\n",
    "\n",
    "$$ \\Delta w_{i,j} = x_i \\cdot x_j$$\n",
    "\n",
    "In matrix notation:\n",
    "\n",
    "$$ \\Delta \\mathbf{W} = \\mathbf{x}^T \\mathbf{x} $$\n",
    "\n",
    "Here we will make the network learn. Specifically, we will train the network to store and recognize some of the single digits we have used for the gradiet descent example. First, we need to define the proper functions."
   ]
  },
  {
   "cell_type": "code",
   "execution_count": 39,
   "metadata": {},
   "outputs": [],
   "source": [
    "def pattern(i):\n",
    "    \"\"\"Loads a matrix representation of a digit and turns it into a binary map\"\"\"\n",
    "    p = np.loadtxt(\"%d.txt\" % i)\n",
    "    p = (p * 2) - 1  # Makes the vector binary (+1 or -1)\n",
    "    return p.reshape((n_x, 1)).T\n",
    "        \n",
    "    \n",
    "def learn(patterns):\n",
    "    \"\"\"Learn a given set patterns\"\"\"\n",
    "    global w\n",
    "    N = n_x\n",
    "    new_w = np.zeros((n_x, n_x))  # New weight matrix\n",
    "    \n",
    "    for num in patterns:\n",
    "        p = pattern(num)\n",
    "        dw = p.T.dot(p)\n",
    "        new_w = new_w + (dw/N) \n",
    "        \n",
    "    w = new_w\n",
    "        \n",
    "        \n",
    "def corrupt_pattern(pattern, prob = 0.2):\n",
    "    \"\"\"Creates a corrupted version a given pattern (with randomly flipped bits)\"\"\"\n",
    "    r = np.copy(pattern)\n",
    "    for i in range(r.size):\n",
    "        if np.random.random() < prob:\n",
    "            r[0,i] = r[0,i] * -1\n",
    "    return r\n",
    "\n",
    "\n",
    "def noisy_pattern(pattern, prob = 0.4):\n",
    "    \"\"\"Corrupts a given pattern\"\"\"\n",
    "    r = np.copy(pattern)\n",
    "    for i in range(r.size):\n",
    "        if np.random.random() < prob:\n",
    "            r[0,i] = r[0,i] * np.random.random()\n",
    "    return r"
   ]
  },
  {
   "cell_type": "markdown",
   "metadata": {},
   "source": [
    "### Testing learning\n",
    "\n",
    "With these functions written, we can now test the network by having it memorize a subset of numbers."
   ]
  },
  {
   "cell_type": "code",
   "execution_count": 40,
   "metadata": {},
   "outputs": [
    {
     "data": {
      "image/png": "[encoded data removed]",
      "text/plain": [
       "<Figure size 432x288 with 2 Axes>"
      ]
     },
     "metadata": {
      "needs_background": "light"
     },
     "output_type": "display_data"
    },
    {
     "data": {
      "image/png": "[encoded data removed]",
      "text/plain": [
       "<Figure size 432x288 with 2 Axes>"
      ]
     },
     "metadata": {
      "needs_background": "light"
     },
     "output_type": "display_data"
    }
   ],
   "source": [
    "learn([1, 2, 4, 7])\n",
    "\n",
    "c_input = 2\n",
    "n_input = 4\n",
    "\n",
    "plt.subplot(1, 2, 1)\n",
    "x = corrupt_pattern(pattern(c_input))\n",
    "plt.title(\"Corrupted input N=%s\" % c_input)\n",
    "plt.imshow(x.reshape((7,4)), interpolation = \"none\")\n",
    "plt.yticks([0], [\"\"])\n",
    "plt.xticks([0], [\"\"])\n",
    "\n",
    "activation()\n",
    "\n",
    "plt.subplot(1, 2, 2)\n",
    "plt.imshow(x.reshape((7,4)), interpolation = \"none\")\n",
    "plt.title(\"Reconstructed solution N=%s\" % c_input)\n",
    "plt.yticks([0, 6], [\"\", \"\"])\n",
    "plt.xticks([0, 3], [\"\", \"\"])\n",
    "plt.show()\n",
    "\n",
    "plt.subplot(1, 2, 1)\n",
    "x = noisy_pattern(pattern(4), prob=0.5)\n",
    "plt.title(\"Nosiy input N=%s\" % n_input)\n",
    "plt.imshow(x.reshape((7,4)), interpolation = \"none\")\n",
    "plt.yticks([0], [\"\"])\n",
    "plt.xticks([0], [\"\"])\n",
    "\n",
    "activation()\n",
    "\n",
    "plt.subplot(1, 2, 2)\n",
    "plt.imshow(x.reshape((7,4)), interpolation = \"none\")\n",
    "plt.title(\"Reconstructed solution N=%s\" % n_input)\n",
    "plt.yticks([0, 6], [\"\", \"\"])\n",
    "plt.xticks([0, 3], [\"\", \"\"])\n",
    "plt.show()\n",
    "\n"
   ]
  },
  {
   "cell_type": "code",
   "execution_count": 65,
   "metadata": {},
   "outputs": [
    {
     "data": {
      "image/png": "[encoded data removed]",
      "text/plain": [
       "<Figure size 432x432 with 6 Axes>"
      ]
     },
     "metadata": {
      "needs_background": "light"
     },
     "output_type": "display_data"
    }
   ],
   "source": [
    "p = corrupt_pattern(pattern(8), prob = 0.8)\n",
    "x = p\n",
    "S = activation()\n",
    "\n",
    "E = [s[1] for s in S[:-1]]\n",
    "P = [s[0].reshape((7, 4)) for s in S[:-1]]\n",
    "\n",
    "N = len(S) - 1\n",
    "\n",
    "\n",
    "fig = plt.figure(figsize=(6, 6), constrained_layout=True)\n",
    "gs = fig.add_gridspec(2, N)\n",
    "ax1 = fig.add_subplot(gs[0, :])\n",
    "ax1.plot([x+1 for x in range(N)], E,  \"o-\")\n",
    "ax1.axis([0.5, N + 0.5, min(E) - 1, max(E) + 1])\n",
    "ax1.set_xticks([x+1 for x in range(N)])\n",
    "ax1.set_title(\"Network energy after every update\")\n",
    "ax1.set_xlabel(\"Network update\")\n",
    "ax1.set_ylabel(\"Network energy\")\n",
    "\n",
    "for i in range(N):\n",
    "    ax = fig.add_subplot(gs[1, i])\n",
    "    ax.imshow(P[i], interpolation=\"none\")\n",
    "    ax.set_xticks([])\n",
    "    ax.set_yticks([])\n",
    "    ax.set_title(\"Update %s\" % (i+1,))\n",
    "\n",
    "#fig.tight_layout()\n",
    "plt.savefig(\"figures/hopfield_updates.png\")\n",
    "plt.show()"
   ]
  }
 ],
 "metadata": {
  "kernelspec": {
   "display_name": "Python 3",
   "language": "python",
   "name": "python3"
  },
  "language_info": {
   "codemirror_mode": {
    "name": "ipython",
    "version": 3
   },
   "file_extension": ".py",
   "mimetype": "text/x-python",
   "name": "python",
   "nbconvert_exporter": "python",
   "pygments_lexer": "ipython3",
   "version": "3.7.11"
  }
 },
 "nbformat": 4,
 "nbformat_minor": 4
}
