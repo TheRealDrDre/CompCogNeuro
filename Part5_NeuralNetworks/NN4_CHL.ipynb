{
 "cells": [
  {
   "cell_type": "code",
   "execution_count": 1,
   "metadata": {
    "collapsed": false,
    "jupyter": {
     "outputs_hidden": false
    }
   },
   "outputs": [],
   "source": [
    "import numpy as np\n",
    "import matplotlib.pyplot as plt"
   ]
  },
  {
   "cell_type": "markdown",
   "metadata": {},
   "source": [
    "# Contrastive Hebbian Learning\n",
    "\n",
    "Contrastive Hebbian Learning (CHL) is an algorithm that can be used to perform supervised learning in a neural network. It unites the power of backpropagation with the plausibility of Hebbian learning, and is thus a favorite of researchers in computational neuroscience. In terms of power, Xie (2006) has shown that, under most conditions, CHL is actually equivalent to backpropagation. \n",
    "\n",
    "## \"Learn\" and \"Unlearn\" phases\n",
    "\n",
    "CHL works by performing Hebbian updates in two distinct phases, which are indicated as the __Learn__ (+) or the __Unlearn__ (-) phases. Synapcti weights are updated according to the difference of the two phases:\n",
    "\n",
    "$$\n",
    "w_{i,j} \\leftarrow w_{i,j} + \\eta (y^+_i y^+_j - y^-_i y^-_j) \n",
    "$$\n",
    "\n",
    "Where $y$ represents, as usual, the output of a neuron.\n",
    "\n",
    "## Synchronous and Asynchronous\n",
    "\n",
    "In the canonical equation (above), the two terms $y^+_i y^+_j$ and $-y^-_i y^-_j$ are computed at different times but updated at the same moment. Because of this, the canonical form is called __synchronous__. This form is efficient but implausible, because it requires storing the products $y^+_i y^+_j$ and $-y^-_i y^-_j$ until the update is performed.\n",
    "\n",
    "An more plausible alternative is to perform __asynchronous__  updates, with the product $y_i y_j$ because calculated and used immediately (just like in canonical Hebbian learning) and the sign of the update being dependent upon the phase.  \n",
    "\n",
    "$$\n",
    "w_{i,j} \\leftarrow w_{i,j} +\n",
    "\\begin{cases}\n",
    " + \\eta (y_i y_j) & \\mathrm{if~phase~is \"Learn\"} \\\\\n",
    " - \\eta (y_i y_j) & \\mathrm{if~phase~is \"Unlearn\"} \n",
    "\\end{cases}\n",
    "$$\n",
    "\n",
    "## Connectivity \n",
    "\n",
    "Because of its very nature, CHL requires the network to be __recurrent__, that is, synaptic matrices that connect two adjacent layers both forward and backward.   \n",
    "\n",
    "In turn, recurrent networks are intrinsically unstable, as require multiple passes to converge towards a stable solution. The number of passes is sometimes used as a proxy for response times or similar behavioral measures.\n",
    "\n",
    "## The Network\n",
    "\n",
    "The CHL version of the XOR network is defined in these few lines of code. "
   ]
  },
  {
   "cell_type": "code",
   "execution_count": 128,
   "metadata": {
    "collapsed": false,
    "jupyter": {
     "outputs_hidden": false
    }
   },
   "outputs": [],
   "source": [
    "n_input  = 2\n",
    "n_hidden  = 3\n",
    "n_output = 1\n",
    "\n",
    "eta = 0.5   # Learning rate. This is higher than usual.\n",
    "\n",
    "# The patterns to learn\n",
    "\n",
    "patterns = [[0, 0], [0, 1], [1, 0], [1, 1]]\n",
    "\n",
    "x    = np.zeros((1, n_input))                               # Input layer\n",
    "h    = np.zeros((1, n_hidden))                              # Hidden layer\n",
    "o    = np.zeros((1, n_output))                              # Output layer\n",
    "w_xh = (np.random.random((n_input, n_hidden)) / 5) - 0.1    # First layer of synapses\n",
    "w_ho = (np.random.random((n_hidden, n_output)) / 5) - 0.1   # Second layer of synapses\n",
    "w_oh = (np.random.random((n_output, n_hidden)) / 5) - 0.1   # Second layer of synapses\n"
   ]
  },
  {
   "cell_type": "markdown",
   "metadata": {},
   "source": [
    "Here are the functions that support the network"
   ]
  },
  {
   "cell_type": "code",
   "execution_count": 129,
   "metadata": {
    "collapsed": false,
    "jupyter": {
     "outputs_hidden": false
    }
   },
   "outputs": [],
   "source": [
    "def logistic(x, deriv = False):\n",
    "    \"\"\"Sigmoid logistic function (with derivative)\"\"\"\n",
    "    if deriv:\n",
    "        return x * (1 - x)\n",
    "    else:\n",
    "        return 1 / (1 + np.exp(-x))\n",
    "\n",
    "def set_inputs(pattern):\n",
    "    \"\"\"Sets a given XOR pattern into the input value\"\"\"\n",
    "    global x\n",
    "    x = np.array(pattern).reshape((1,n_input))\n",
    "    \n",
    "def set_outputs(vals):\n",
    "    \"\"\"Sets the output variables\"\"\"\n",
    "    global o\n",
    "    o = vals\n",
    "\n",
    "def target(val):\n",
    "    \"\"\"Desired response function, t(p)\"\"\"\n",
    "    if  val == [0, 1] or val == [1, 0]:\n",
    "        return np.array([[1.0]])\n",
    "    else:\n",
    "        return np.array([[0.0]])\n",
    "\n",
    "def error(p1, p2):\n",
    "    \"\"\"Calculates the error function\"\"\"\n",
    "    return 0.5 * np.sum(((p1 - p2) ** 2))\n",
    "\n",
    "    \n",
    "def propagate(clamped_output = False):\n",
    "    \"\"\"Spreads activation through a network\"\"\"\n",
    "    global h\n",
    "    global o\n",
    "    \n",
    "    # First pass, from input to hidden layer\n",
    "    h_input = np.dot(x, w_xh) + np.dot(o, w_oh) \n",
    "    h = logistic(h_input)\n",
    "    \n",
    "    if not clamped_output:\n",
    "        output_input = np.dot(h, w_ho)\n",
    "        o = logistic(output_input)\n",
    "\n",
    "        \n",
    "def activation(clamped_output = False, convergence = 0.00001, max_cycles = 250):\n",
    "    \"\"\"Spreads activation through a network until it settles\"\"\"\n",
    "    previous_h = np.copy(h)\n",
    "    propagate(clamped_output)\n",
    "    diff = error(previous_h, h)\n",
    "    i = 1\n",
    "    \n",
    "    while diff > convergence and i < max_cycles:\n",
    "        previous_h = np.copy(h)\n",
    "        propagate(clamped_output)\n",
    "        diff = error(previous_h, h)\n",
    "        i += 1\n",
    "    return i\n",
    "\n",
    "\n",
    "def calculate_response(p):\n",
    "    \"\"\"Calculate the response for a given network's input\"\"\"\n",
    "    set_inputs(p)\n",
    "    activation(False)\n",
    "    return np.sum(o)\n",
    "\n",
    "\n",
    "def chl_pos():\n",
    "    \"\"\"Positive Hebbian update (unlearn)\"\"\"\n",
    "    global w_xh, w_ho, w_oh\n",
    "    w_xh += eta * (x.T.dot(h))\n",
    "    w_ho += eta * (h.T.dot(o))\n",
    "    w_oh += eta * (o.T.dot(h))\n",
    "    \n",
    "    \n",
    "def chl_neg():\n",
    "    \"\"\"Negative Hebbian update (unlearn)\"\"\"\n",
    "    global w_xh, w_ho, w_oh\n",
    "    w_xh -= eta * (x.T.dot(h))\n",
    "    w_ho -= eta * (h.T.dot(o))\n",
    "    w_oh -= eta * (o.T.dot(h))\n",
    "\n",
    "\n",
    "def asynchronous_chl(min_error = 0.001, max_epochs = 100, verbose=False):\n",
    "    \"\"\"Learns associations by means applying CHL asynchronously\"\"\"\n",
    "    E = [min_error + 1]  ## Initial errir value > min_error\n",
    "    epochs = 0\n",
    "    #global o\n",
    "    while E[-1] > min_error and epochs < max_epochs:\n",
    "        e = 0.0\n",
    "        for p in patterns:\n",
    "            calculate_response(p)\n",
    "            #set_inputs(p)\n",
    "            #activation(False)\n",
    "            e += error(target(p), o)\n",
    "            if verbose:\n",
    "                print([p, target(p), float(o), error(target(p), o)])\n",
    "            chl_neg()\n",
    "            \n",
    "            set_inputs(p)\n",
    "            set_outputs(target(p))\n",
    "            activation(True)\n",
    "            chl_pos()\n",
    "            \n",
    "        #print(w_ho)\n",
    "        #print(e)\n",
    "        E.append(e)\n",
    "        epochs += 1\n",
    "    return E[1:]"
   ]
  },
  {
   "cell_type": "markdown",
   "metadata": {},
   "source": [
    "### Test of CHL \n",
    "\n",
    "Here is a simple test of (asynchronous) CHL:"
   ]
  },
  {
   "cell_type": "code",
   "execution_count": 161,
   "metadata": {
    "collapsed": false,
    "jupyter": {
     "outputs_hidden": false
    }
   },
   "outputs": [],
   "source": [
    "x    = np.zeros((1, n_input))                               # Input layer\n",
    "h    = np.zeros((1, n_hidden))                              # Hidden layer\n",
    "o    = np.zeros((1, n_output))                              # Output layer\n",
    "w_xh = (np.random.random((n_input, n_hidden)) / 5) - 0.1    # First layer of synapses\n",
    "w_ho = (np.random.random((n_hidden, n_output)) / 5) - 0.1   # Second layer of synapses\n",
    "w_oh = (np.random.random((n_output, n_hidden)) / 5) - 0.1   # Second layer of synapses\n",
    "\n",
    "E = asynchronous_chl(min_error = 0.001, max_epochs = 5000, verbose=False)"
   ]
  },
  {
   "cell_type": "markdown",
   "metadata": {},
   "source": [
    "And here is a plot of the error function and the network's learned outputs"
   ]
  },
  {
   "cell_type": "code",
   "execution_count": 163,
   "metadata": {
    "collapsed": false,
    "jupyter": {
     "outputs_hidden": false
    }
   },
   "outputs": [
    {
     "data": {
      "image/png": "[encoded data removed]",
      "text/plain": [
       "<Figure size 576x288 with 2 Axes>"
      ]
     },
     "metadata": {
      "needs_background": "light"
     },
     "output_type": "display_data"
    }
   ],
   "source": [
    "# Plot the Error by epoch\n",
    "\n",
    "fig, [ax1, ax2] = plt.subplots(1, 2, figsize=(8,4))\n",
    "\n",
    "ax1.plot(E)\n",
    "ax1.set_title(\"Error by Epoch\")\n",
    "ax1.set_xlabel(\"Epoch\")\n",
    "ax1.set_ylabel(\"Error\")\n",
    "\n",
    "## Plot the responses to the XOR patterns\n",
    "\n",
    "y_end = [calculate_response(p) for p in patterns]\n",
    "ax2.axis([-0.5, 3.5, -0.1, 1.1])\n",
    "ax2.set_xticks(np.arange(4))\n",
    "ax2.set_xticklabels([\"(%s,%s)\" % tuple(p) for p in patterns])\n",
    "ax2.set_ylabel(\"Activation\")\n",
    "ax2.set_xlabel(\"Patterns\")\n",
    "ax2.bar(np.arange(4), y_end, 0.5)\n",
    "ax2.hlines(xmin=-100, xmax=100, y=0, color=\"grey\", linestyle=\"-\")\n",
    "ax2.plot(np.arange(4), [float(target(p)) for p in patterns], marker=\"o\", color=\"red\", linestyle=\"\")\n",
    "ax2.set_title(\"Responses to XOR Patterns\")\n",
    "fig.suptitle(\"XOR Gate Network (%d epochs, $\\eta$ = %.1f)\" % (len(E), eta))\n",
    "fig.tight_layout()\n",
    "plt.savefig(\"figures/xor_chl.png\")\n",
    "plt.show()\n"
   ]
  },
  {
   "cell_type": "markdown",
   "metadata": {},
   "source": [
    "Like in Backprop, the hidden layer has learned how to separate the inputs."
   ]
  },
  {
   "cell_type": "code",
   "execution_count": 164,
   "metadata": {
    "collapsed": false,
    "jupyter": {
     "outputs_hidden": false
    }
   },
   "outputs": [
    {
     "data": {
      "image/png": "[encoded data removed]",
      "text/plain": [
       "<Figure size 432x288 with 1 Axes>"
      ]
     },
     "metadata": {
      "needs_background": "light"
     },
     "output_type": "display_data"
    }
   ],
   "source": [
    "res = np.zeros((len(patterns), h.size))\n",
    "\n",
    "for p in patterns:\n",
    "    calculate_response(p)\n",
    "    i = patterns.index(p) \n",
    "    res[i] = h\n",
    "\n",
    "plt.imshow(res, interpolation = \"none\")\n",
    "plt.title(\"Hidden layer responses by pattern\")\n",
    "plt.yticks(np.arange(4), patterns)\n",
    "plt.ylabel(\"Stimulus pattern\")\n",
    "plt.xlabel(\"neuron\")\n",
    "plt.show()\n"
   ]
  }
 ],
 "metadata": {
  "anaconda-cloud": {},
  "kernelspec": {
   "display_name": "Python 3 (ipykernel)",
   "language": "python",
   "name": "python3"
  },
  "language_info": {
   "codemirror_mode": {
    "name": "ipython",
    "version": 3
   },
   "file_extension": ".py",
   "mimetype": "text/x-python",
   "name": "python",
   "nbconvert_exporter": "python",
   "pygments_lexer": "ipython3",
   "version": "3.9.7"
  }
 },
 "nbformat": 4,
 "nbformat_minor": 4
}
